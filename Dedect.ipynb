{
  "cells": [
    {
      "cell_type": "markdown",
      "metadata": {
        "id": "view-in-github",
        "colab_type": "text"
      },
      "source": [
        "<a href=\"https://colab.research.google.com/github/ko74dev/AI/blob/main/Dedect.ipynb\" target=\"_parent\"><img src=\"https://colab.research.google.com/assets/colab-badge.svg\" alt=\"Open In Colab\"/></a>"
      ]
    },
    {
      "cell_type": "markdown",
      "metadata": {
        "id": "kZ2-L00STr-9"
      },
      "source": [
        "Скачаем и распакуем набор данных для обучения:"
      ]
    },
    {
      "cell_type": "code",
      "execution_count": 1,
      "metadata": {
        "colab": {
          "base_uri": "https://localhost:8080/"
        },
        "id": "Y8IOZe3ETr_K",
        "outputId": "c1907141-5a7e-4534-8733-4439ada7e83a"
      },
      "outputs": [
        {
          "output_type": "stream",
          "name": "stdout",
          "text": [
            "--2022-08-14 12:25:29--  https://lodmedia.hb.bizmrg.com/case_files/789899/train_dataset_train.zip\n",
            "Resolving lodmedia.hb.bizmrg.com (lodmedia.hb.bizmrg.com)... 217.69.142.100\n",
            "Connecting to lodmedia.hb.bizmrg.com (lodmedia.hb.bizmrg.com)|217.69.142.100|:443... connected.\n",
            "HTTP request sent, awaiting response... 200 OK\n",
            "Length: 937581714 (894M) [application/zip]\n",
            "Saving to: ‘train_dataset_train.zip’\n",
            "\n",
            "train_dataset_train 100%[===================>] 894.15M   666KB/s    in 25m 42s \n",
            "\n",
            "2022-08-14 12:51:12 (594 KB/s) - ‘train_dataset_train.zip’ saved [937581714/937581714]\n",
            "\n"
          ]
        }
      ],
      "source": [
        "!wget https://lodmedia.hb.bizmrg.com/case_files/789899/train_dataset_train.zip"
      ]
    },
    {
      "cell_type": "code",
      "source": [
        "! unzip train_dataset_train.zip -x train"
      ],
      "metadata": {
        "colab": {
          "base_uri": "https://localhost:8080/"
        },
        "id": "-vn23ovZUXtj",
        "outputId": "5c611f84-560b-47e9-90c2-ba6020953b7c"
      },
      "execution_count": 4,
      "outputs": [
        {
          "output_type": "stream",
          "name": "stdout",
          "text": [
            "\u001b[1;30;43mВыходные данные были обрезаны до нескольких последних строк (5000).\u001b[0m\n",
            "  inflating: train/labels/24-11-2021_02-05-58_PM_human..txt  \n",
            "  inflating: train/labels/24-11-2021_02-06-07_PM_car..txt  \n",
            "  inflating: train/labels/24-11-2021_02-06-07_PM_head..txt  \n",
            "  inflating: train/labels/24-11-2021_02-06-07_PM_human..txt  \n",
            "  inflating: train/labels/24-11-2021_02-06-12_PM_car..txt  \n",
            "  inflating: train/labels/24-11-2021_02-06-32_PM_car..txt  \n",
            "  inflating: train/labels/24-11-2021_02-06-32_PM_face..txt  \n",
            "  inflating: train/labels/24-11-2021_02-06-32_PM_head..txt  \n",
            "  inflating: train/labels/24-11-2021_02-06-32_PM_human..txt  \n",
            "  inflating: train/labels/24-11-2021_02-06-53_PM_car..txt  \n",
            "  inflating: train/labels/24-11-2021_02-06-53_PM_head..txt  \n",
            "  inflating: train/labels/24-11-2021_02-06-53_PM_human..txt  \n",
            "  inflating: train/labels/24-11-2021_02-07-04_PM_car..txt  \n",
            "  inflating: train/labels/24-11-2021_02-07-04_PM_head..txt  \n",
            "  inflating: train/labels/24-11-2021_02-07-04_PM_human..txt  \n",
            "  inflating: train/labels/24-11-2021_02-07-08_PM_car..txt  \n",
            "  inflating: train/labels/24-11-2021_02-07-08_PM_head..txt  \n",
            "  inflating: train/labels/24-11-2021_02-07-08_PM_human..txt  \n",
            "  inflating: train/labels/24-11-2021_02-07-59_PM_car..txt  \n",
            "  inflating: train/labels/24-11-2021_02-07-59_PM_head..txt  \n",
            "  inflating: train/labels/24-11-2021_02-07-59_PM_human..txt  \n",
            "  inflating: train/labels/24-11-2021_02-08-03_PM_car..txt  \n",
            "  inflating: train/labels/24-11-2021_02-08-03_PM_head..txt  \n",
            "  inflating: train/labels/24-11-2021_02-08-03_PM_human..txt  \n",
            "  inflating: train/labels/24-11-2021_02-08-18_PM_car..txt  \n",
            "  inflating: train/labels/24-11-2021_02-08-18_PM_head..txt  \n",
            "  inflating: train/labels/24-11-2021_02-08-18_PM_human..txt  \n",
            "  inflating: train/labels/24-11-2021_02-08-25_PM_car..txt  \n",
            "  inflating: train/labels/24-11-2021_02-08-25_PM_face..txt  \n",
            "  inflating: train/labels/24-11-2021_02-08-25_PM_head..txt  \n",
            "  inflating: train/labels/24-11-2021_02-08-25_PM_human..txt  \n",
            "  inflating: train/labels/24-11-2021_02-08-42_PM_head..txt  \n",
            "  inflating: train/labels/24-11-2021_02-08-42_PM_human..txt  \n",
            "  inflating: train/labels/24-11-2021_02-23-45_PM_car..txt  \n",
            "  inflating: train/labels/24-11-2021_02-23-45_PM_face..txt  \n",
            "  inflating: train/labels/24-11-2021_02-23-45_PM_head..txt  \n",
            "  inflating: train/labels/24-11-2021_02-23-45_PM_human..txt  \n",
            "  inflating: train/labels/24-11-2021_02-23-48_PM_car..txt  \n",
            "  inflating: train/labels/24-11-2021_02-23-48_PM_head..txt  \n",
            "  inflating: train/labels/24-11-2021_02-23-48_PM_human..txt  \n",
            "  inflating: train/labels/24-11-2021_02-23-58_PM_car..txt  \n",
            "  inflating: train/labels/24-11-2021_02-23-58_PM_head..txt  \n",
            "  inflating: train/labels/24-11-2021_02-23-58_PM_human..txt  \n",
            "  inflating: train/labels/24-11-2021_02-24-10_PM_car..txt  \n",
            "  inflating: train/labels/24-11-2021_02-24-10_PM_head..txt  \n",
            "  inflating: train/labels/24-11-2021_02-24-10_PM_human..txt  \n",
            "  inflating: train/labels/24-11-2021_02-24-14_PM_car..txt  \n",
            "  inflating: train/labels/24-11-2021_02-24-14_PM_head..txt  \n",
            "  inflating: train/labels/24-11-2021_02-24-14_PM_human..txt  \n",
            "  inflating: train/labels/24-11-2021_02-24-19_PM_car..txt  \n",
            "  inflating: train/labels/24-11-2021_02-24-19_PM_face..txt  \n",
            "  inflating: train/labels/24-11-2021_02-24-19_PM_head..txt  \n",
            "  inflating: train/labels/24-11-2021_02-24-19_PM_human..txt  \n",
            "  inflating: train/labels/24-11-2021_02-24-45_PM_car..txt  \n",
            "  inflating: train/labels/24-11-2021_02-24-45_PM_face..txt  \n",
            "  inflating: train/labels/24-11-2021_02-24-45_PM_head..txt  \n",
            "  inflating: train/labels/24-11-2021_02-24-45_PM_human..txt  \n",
            "  inflating: train/labels/24-11-2021_02-24-54_PM_car..txt  \n",
            "  inflating: train/labels/24-11-2021_02-24-54_PM_head..txt  \n",
            "  inflating: train/labels/24-11-2021_02-24-54_PM_human..txt  \n",
            "  inflating: train/labels/24-11-2021_02-24-57_PM_car..txt  \n",
            "  inflating: train/labels/24-11-2021_02-24-57_PM_head..txt  \n",
            "  inflating: train/labels/24-11-2021_02-24-57_PM_human..txt  \n",
            "  inflating: train/labels/24-11-2021_02-25-00_PM_car..txt  \n",
            "  inflating: train/labels/24-11-2021_02-25-00_PM_head..txt  \n",
            "  inflating: train/labels/24-11-2021_02-25-00_PM_human..txt  \n",
            "  inflating: train/labels/24-11-2021_02-25-03_PM_car..txt  \n",
            "  inflating: train/labels/24-11-2021_02-25-03_PM_head..txt  \n",
            "  inflating: train/labels/24-11-2021_02-25-03_PM_human..txt  \n",
            "  inflating: train/labels/24-11-2021_02-25-13_PM_car..txt  \n",
            "  inflating: train/labels/24-11-2021_02-25-13_PM_face..txt  \n",
            "  inflating: train/labels/24-11-2021_02-25-13_PM_head..txt  \n",
            "  inflating: train/labels/24-11-2021_02-25-13_PM_human..txt  \n",
            "  inflating: train/labels/24-11-2021_02-25-50_PM_car..txt  \n",
            "  inflating: train/labels/24-11-2021_02-25-50_PM_head..txt  \n",
            "  inflating: train/labels/24-11-2021_02-25-50_PM_human..txt  \n",
            "  inflating: train/labels/24-11-2021_02-25-53_PM_car..txt  \n",
            "  inflating: train/labels/24-11-2021_02-25-53_PM_head..txt  \n",
            "  inflating: train/labels/24-11-2021_02-25-53_PM_human..txt  \n",
            "  inflating: train/labels/24-11-2021_02-25-58_PM_car..txt  \n",
            "  inflating: train/labels/24-11-2021_02-25-58_PM_head..txt  \n",
            "  inflating: train/labels/24-11-2021_02-25-58_PM_human..txt  \n",
            "  inflating: train/labels/24-11-2021_02-26-10_PM_face..txt  \n",
            "  inflating: train/labels/24-11-2021_02-26-10_PM_head..txt  \n",
            "  inflating: train/labels/24-11-2021_02-26-10_PM_human..txt  \n",
            "  inflating: train/labels/24-11-2021_02-31-06_AM_car..txt  \n",
            "  inflating: train/labels/24-11-2021_02-31-06_AM_head..txt  \n",
            "  inflating: train/labels/24-11-2021_02-31-06_AM_human..txt  \n",
            "  inflating: train/labels/24-11-2021_02-31-20_AM_car..txt  \n",
            "  inflating: train/labels/24-11-2021_02-31-20_AM_head..txt  \n",
            "  inflating: train/labels/24-11-2021_02-31-20_AM_human..txt  \n",
            "  inflating: train/labels/24-11-2021_02-41-24_PM_car..txt  \n",
            "  inflating: train/labels/24-11-2021_02-41-24_PM_head..txt  \n",
            "  inflating: train/labels/24-11-2021_02-41-24_PM_human..txt  \n",
            "  inflating: train/labels/24-11-2021_02-41-28_PM_car..txt  \n",
            "  inflating: train/labels/24-11-2021_02-41-28_PM_face..txt  \n",
            "  inflating: train/labels/24-11-2021_02-41-28_PM_head..txt  \n",
            "  inflating: train/labels/24-11-2021_02-41-28_PM_human..txt  \n",
            "  inflating: train/labels/24-11-2021_02-41-34_PM_car..txt  \n",
            "  inflating: train/labels/24-11-2021_02-41-34_PM_head..txt  \n",
            "  inflating: train/labels/24-11-2021_02-41-34_PM_human..txt  \n",
            "  inflating: train/labels/24-11-2021_02-42-02_PM_car..txt  \n",
            "  inflating: train/labels/24-11-2021_02-42-02_PM_head..txt  \n",
            "  inflating: train/labels/24-11-2021_02-42-02_PM_human..txt  \n",
            "  inflating: train/labels/24-11-2021_02-42-21_PM_car..txt  \n",
            "  inflating: train/labels/24-11-2021_02-42-21_PM_head..txt  \n",
            "  inflating: train/labels/24-11-2021_02-42-21_PM_human..txt  \n",
            "  inflating: train/labels/24-11-2021_02-42-25_PM_car..txt  \n",
            "  inflating: train/labels/24-11-2021_02-42-25_PM_head..txt  \n",
            "  inflating: train/labels/24-11-2021_02-42-25_PM_human..txt  \n",
            "  inflating: train/labels/24-11-2021_02-42-31_PM_car..txt  \n",
            "  inflating: train/labels/24-11-2021_02-42-31_PM_head..txt  \n",
            "  inflating: train/labels/24-11-2021_02-42-31_PM_human..txt  \n",
            "  inflating: train/labels/24-11-2021_02-42-34_PM_car..txt  \n",
            "  inflating: train/labels/24-11-2021_02-42-34_PM_head..txt  \n",
            "  inflating: train/labels/24-11-2021_02-42-34_PM_human..txt  \n",
            "  inflating: train/labels/24-11-2021_02-42-53_PM_face..txt  \n",
            "  inflating: train/labels/24-11-2021_02-42-53_PM_head..txt  \n",
            "  inflating: train/labels/24-11-2021_02-42-53_PM_human..txt  \n",
            "  inflating: train/labels/24-11-2021_02-43-11_PM_car..txt  \n",
            "  inflating: train/labels/24-11-2021_02-43-11_PM_head..txt  \n",
            "  inflating: train/labels/24-11-2021_02-43-11_PM_human..txt  \n",
            "  inflating: train/labels/24-11-2021_02-43-34_PM_car..txt  \n",
            "  inflating: train/labels/24-11-2021_02-43-34_PM_head..txt  \n",
            "  inflating: train/labels/24-11-2021_02-43-34_PM_human..txt  \n",
            "  inflating: train/labels/24-11-2021_02-43-40_PM_car..txt  \n",
            "  inflating: train/labels/24-11-2021_02-43-40_PM_head..txt  \n",
            "  inflating: train/labels/24-11-2021_02-43-40_PM_human..txt  \n",
            "  inflating: train/labels/24-11-2021_02-43-53_PM_car..txt  \n",
            "  inflating: train/labels/24-11-2021_02-43-53_PM_face..txt  \n",
            "  inflating: train/labels/24-11-2021_02-43-53_PM_head..txt  \n",
            "  inflating: train/labels/24-11-2021_02-43-53_PM_human..txt  \n",
            "  inflating: train/labels/24-11-2021_02-44-00_PM_car..txt  \n",
            "  inflating: train/labels/24-11-2021_02-44-00_PM_head..txt  \n",
            "  inflating: train/labels/24-11-2021_02-44-00_PM_human..txt  \n",
            "  inflating: train/labels/24-11-2021_02-44-03_PM_car..txt  \n",
            "  inflating: train/labels/24-11-2021_02-44-03_PM_face..txt  \n",
            "  inflating: train/labels/24-11-2021_02-44-03_PM_head..txt  \n",
            "  inflating: train/labels/24-11-2021_02-44-03_PM_human..txt  \n",
            "  inflating: train/labels/24-11-2021_02-44-10_PM_car..txt  \n",
            "  inflating: train/labels/24-11-2021_02-44-10_PM_head..txt  \n",
            "  inflating: train/labels/24-11-2021_02-44-10_PM_human..txt  \n",
            "  inflating: train/labels/24-11-2021_02-48-59_AM_car..txt  \n",
            "  inflating: train/labels/24-11-2021_02-48-59_AM_head..txt  \n",
            "  inflating: train/labels/24-11-2021_02-48-59_AM_human..txt  \n",
            "  inflating: train/labels/24-11-2021_02-49-42_AM_car..txt  \n",
            "  inflating: train/labels/24-11-2021_02-49-42_AM_head..txt  \n",
            "  inflating: train/labels/24-11-2021_02-49-42_AM_human..txt  \n",
            "  inflating: train/labels/24-11-2021_02-50-06_AM_car..txt  \n",
            "  inflating: train/labels/24-11-2021_02-50-06_AM_head..txt  \n",
            "  inflating: train/labels/24-11-2021_02-50-06_AM_human..txt  \n",
            "  inflating: train/labels/24-11-2021_02-59-18_PM_car..txt  \n",
            "  inflating: train/labels/24-11-2021_02-59-18_PM_head..txt  \n",
            "  inflating: train/labels/24-11-2021_02-59-18_PM_human..txt  \n",
            "  inflating: train/labels/24-11-2021_02-59-26_PM_car..txt  \n",
            "  inflating: train/labels/24-11-2021_02-59-26_PM_head..txt  \n",
            "  inflating: train/labels/24-11-2021_02-59-26_PM_human..txt  \n",
            "  inflating: train/labels/24-11-2021_02-59-40_PM_car..txt  \n",
            "  inflating: train/labels/24-11-2021_02-59-40_PM_head..txt  \n",
            "  inflating: train/labels/24-11-2021_02-59-40_PM_human..txt  \n",
            "  inflating: train/labels/24-11-2021_02-59-49_PM_car..txt  \n",
            "  inflating: train/labels/24-11-2021_02-59-49_PM_head..txt  \n",
            "  inflating: train/labels/24-11-2021_02-59-49_PM_human..txt  \n",
            "  inflating: train/labels/24-11-2021_02-59-52_PM_car..txt  \n",
            "  inflating: train/labels/24-11-2021_02-59-52_PM_head..txt  \n",
            "  inflating: train/labels/24-11-2021_02-59-52_PM_human..txt  \n",
            "  inflating: train/labels/24-11-2021_02-59-55_PM_car..txt  \n",
            "  inflating: train/labels/24-11-2021_02-59-55_PM_face..txt  \n",
            "  inflating: train/labels/24-11-2021_02-59-55_PM_head..txt  \n",
            "  inflating: train/labels/24-11-2021_02-59-55_PM_human..txt  \n",
            "  inflating: train/labels/24-11-2021_03-00-23_PM_car..txt  \n",
            "  inflating: train/labels/24-11-2021_03-00-23_PM_face..txt  \n",
            "  inflating: train/labels/24-11-2021_03-00-23_PM_head..txt  \n",
            "  inflating: train/labels/24-11-2021_03-00-23_PM_human..txt  \n",
            "  inflating: train/labels/24-11-2021_03-00-27_PM_car..txt  \n",
            "  inflating: train/labels/24-11-2021_03-00-27_PM_head..txt  \n",
            "  inflating: train/labels/24-11-2021_03-00-27_PM_human..txt  \n",
            "  inflating: train/labels/24-11-2021_03-00-31_PM_car..txt  \n",
            "  inflating: train/labels/24-11-2021_03-00-31_PM_face..txt  \n",
            "  inflating: train/labels/24-11-2021_03-00-31_PM_head..txt  \n",
            "  inflating: train/labels/24-11-2021_03-00-31_PM_human..txt  \n",
            "  inflating: train/labels/24-11-2021_03-00-43_PM_face..txt  \n",
            "  inflating: train/labels/24-11-2021_03-00-43_PM_head..txt  \n",
            "  inflating: train/labels/24-11-2021_03-00-43_PM_human..txt  \n",
            "  inflating: train/labels/24-11-2021_03-01-20_PM_car..txt  \n",
            "  inflating: train/labels/24-11-2021_03-01-20_PM_head..txt  \n",
            "  inflating: train/labels/24-11-2021_03-01-20_PM_human..txt  \n",
            "  inflating: train/labels/24-11-2021_03-01-22_PM_car..txt  \n",
            "  inflating: train/labels/24-11-2021_03-01-22_PM_head..txt  \n",
            "  inflating: train/labels/24-11-2021_03-01-22_PM_human..txt  \n",
            "  inflating: train/labels/24-11-2021_03-01-45_PM_car..txt  \n",
            "  inflating: train/labels/24-11-2021_03-01-45_PM_head..txt  \n",
            "  inflating: train/labels/24-11-2021_03-01-45_PM_human..txt  \n",
            "  inflating: train/labels/24-11-2021_03-06-11_AM_car..txt  \n",
            "  inflating: train/labels/24-11-2021_03-06-11_AM_head..txt  \n",
            "  inflating: train/labels/24-11-2021_03-06-11_AM_human..txt  \n",
            "  inflating: train/labels/24-11-2021_03-06-45_AM_car..txt  \n",
            "  inflating: train/labels/24-11-2021_03-06-45_AM_face..txt  \n",
            "  inflating: train/labels/24-11-2021_03-06-45_AM_head..txt  \n",
            "  inflating: train/labels/24-11-2021_03-06-45_AM_human..txt  \n",
            "  inflating: train/labels/24-11-2021_03-07-02_AM_car..txt  \n",
            "  inflating: train/labels/24-11-2021_03-07-02_AM_head..txt  \n",
            "  inflating: train/labels/24-11-2021_03-07-02_AM_human..txt  \n",
            "  inflating: train/labels/24-11-2021_03-07-26_AM_car..txt  \n",
            "  inflating: train/labels/24-11-2021_03-07-26_AM_face..txt  \n",
            "  inflating: train/labels/24-11-2021_03-07-26_AM_head..txt  \n",
            "  inflating: train/labels/24-11-2021_03-07-26_AM_human..txt  \n",
            "  inflating: train/labels/24-11-2021_03-08-00_AM_car..txt  \n",
            "  inflating: train/labels/24-11-2021_03-08-00_AM_head..txt  \n",
            "  inflating: train/labels/24-11-2021_03-08-00_AM_human..txt  \n",
            "  inflating: train/labels/24-11-2021_03-08-29_AM_car..txt  \n",
            "  inflating: train/labels/24-11-2021_03-08-29_AM_head..txt  \n",
            "  inflating: train/labels/24-11-2021_03-08-29_AM_human..txt  \n",
            "  inflating: train/labels/24-11-2021_03-16-56_PM_car..txt  \n",
            "  inflating: train/labels/24-11-2021_03-16-56_PM_head..txt  \n",
            "  inflating: train/labels/24-11-2021_03-16-56_PM_human..txt  \n",
            "  inflating: train/labels/24-11-2021_03-17-25_PM_car..txt  \n",
            "  inflating: train/labels/24-11-2021_03-17-25_PM_face..txt  \n",
            "  inflating: train/labels/24-11-2021_03-17-25_PM_head..txt  \n",
            "  inflating: train/labels/24-11-2021_03-17-25_PM_human..txt  \n",
            "  inflating: train/labels/24-11-2021_03-17-33_PM_car..txt  \n",
            "  inflating: train/labels/24-11-2021_03-17-33_PM_face..txt  \n",
            "  inflating: train/labels/24-11-2021_03-17-33_PM_head..txt  \n",
            "  inflating: train/labels/24-11-2021_03-17-33_PM_human..txt  \n",
            "  inflating: train/labels/24-11-2021_03-17-36_PM_car..txt  \n",
            "  inflating: train/labels/24-11-2021_03-17-36_PM_head..txt  \n",
            "  inflating: train/labels/24-11-2021_03-17-36_PM_human..txt  \n",
            "  inflating: train/labels/24-11-2021_03-18-08_PM_car..txt  \n",
            "  inflating: train/labels/24-11-2021_03-18-08_PM_head..txt  \n",
            "  inflating: train/labels/24-11-2021_03-18-08_PM_human..txt  \n",
            "  inflating: train/labels/24-11-2021_03-18-35_PM_car..txt  \n",
            "  inflating: train/labels/24-11-2021_03-18-35_PM_head..txt  \n",
            "  inflating: train/labels/24-11-2021_03-18-35_PM_human..txt  \n",
            "  inflating: train/labels/24-11-2021_03-18-45_PM_car..txt  \n",
            "  inflating: train/labels/24-11-2021_03-18-45_PM_face..txt  \n",
            "  inflating: train/labels/24-11-2021_03-18-45_PM_head..txt  \n",
            "  inflating: train/labels/24-11-2021_03-18-45_PM_human..txt  \n",
            "  inflating: train/labels/24-11-2021_03-19-08_PM_car..txt  \n",
            "  inflating: train/labels/24-11-2021_03-19-08_PM_face..txt  \n",
            "  inflating: train/labels/24-11-2021_03-19-08_PM_head..txt  \n",
            "  inflating: train/labels/24-11-2021_03-19-08_PM_human..txt  \n",
            "  inflating: train/labels/24-11-2021_03-19-14_PM_car..txt  \n",
            "  inflating: train/labels/24-11-2021_03-19-14_PM_face..txt  \n",
            "  inflating: train/labels/24-11-2021_03-19-14_PM_head..txt  \n",
            "  inflating: train/labels/24-11-2021_03-19-14_PM_human..txt  \n",
            "  inflating: train/labels/24-11-2021_03-19-37_PM_car..txt  \n",
            "  inflating: train/labels/24-11-2021_03-19-37_PM_face..txt  \n",
            "  inflating: train/labels/24-11-2021_03-19-37_PM_head..txt  \n",
            "  inflating: train/labels/24-11-2021_03-19-37_PM_human..txt  \n",
            "  inflating: train/labels/24-11-2021_03-24-00_AM_car..txt  \n",
            "  inflating: train/labels/24-11-2021_03-24-00_AM_head..txt  \n",
            "  inflating: train/labels/24-11-2021_03-24-00_AM_human..txt  \n",
            "  inflating: train/labels/24-11-2021_03-24-06_AM_car..txt  \n",
            "  inflating: train/labels/24-11-2021_03-24-06_AM_head..txt  \n",
            "  inflating: train/labels/24-11-2021_03-24-06_AM_human..txt  \n",
            "  inflating: train/labels/24-11-2021_03-24-38_AM_car..txt  \n",
            "  inflating: train/labels/24-11-2021_03-24-38_AM_head..txt  \n",
            "  inflating: train/labels/24-11-2021_03-24-38_AM_human..txt  \n",
            "  inflating: train/labels/24-11-2021_03-25-03_AM_car..txt  \n",
            "  inflating: train/labels/24-11-2021_03-25-03_AM_head..txt  \n",
            "  inflating: train/labels/24-11-2021_03-25-03_AM_human..txt  \n",
            "  inflating: train/labels/24-11-2021_03-25-48_AM_car..txt  \n",
            "  inflating: train/labels/24-11-2021_03-25-48_AM_face..txt  \n",
            "  inflating: train/labels/24-11-2021_03-25-48_AM_head..txt  \n",
            "  inflating: train/labels/24-11-2021_03-25-48_AM_human..txt  \n",
            "  inflating: train/labels/24-11-2021_03-34-52_PM_car..txt  \n",
            "  inflating: train/labels/24-11-2021_03-34-52_PM_head..txt  \n",
            "  inflating: train/labels/24-11-2021_03-34-52_PM_human..txt  \n",
            "  inflating: train/labels/24-11-2021_03-34-55_PM_car..txt  \n",
            "  inflating: train/labels/24-11-2021_03-34-55_PM_face..txt  \n",
            "  inflating: train/labels/24-11-2021_03-34-55_PM_head..txt  \n",
            "  inflating: train/labels/24-11-2021_03-34-55_PM_human..txt  \n",
            "  inflating: train/labels/24-11-2021_03-35-44_PM_car..txt  \n",
            "  inflating: train/labels/24-11-2021_03-35-44_PM_head..txt  \n",
            "  inflating: train/labels/24-11-2021_03-35-44_PM_human..txt  \n",
            "  inflating: train/labels/24-11-2021_03-36-06_PM_car..txt  \n",
            "  inflating: train/labels/24-11-2021_03-36-06_PM_face..txt  \n",
            "  inflating: train/labels/24-11-2021_03-36-06_PM_head..txt  \n",
            "  inflating: train/labels/24-11-2021_03-36-06_PM_human..txt  \n",
            "  inflating: train/labels/24-11-2021_03-36-10_PM_car..txt  \n",
            "  inflating: train/labels/24-11-2021_03-36-38_PM_car..txt  \n",
            "  inflating: train/labels/24-11-2021_03-36-38_PM_head..txt  \n",
            "  inflating: train/labels/24-11-2021_03-36-38_PM_human..txt  \n",
            "  inflating: train/labels/24-11-2021_03-36-49_PM_car..txt  \n",
            "  inflating: train/labels/24-11-2021_03-36-49_PM_face..txt  \n",
            "  inflating: train/labels/24-11-2021_03-36-49_PM_head..txt  \n",
            "  inflating: train/labels/24-11-2021_03-36-49_PM_human..txt  \n",
            "  inflating: train/labels/24-11-2021_03-37-04_PM_car..txt  \n",
            "  inflating: train/labels/24-11-2021_03-37-04_PM_head..txt  \n",
            "  inflating: train/labels/24-11-2021_03-37-04_PM_human..txt  \n",
            "  inflating: train/labels/24-11-2021_03-37-09_PM_car..txt  \n",
            "  inflating: train/labels/24-11-2021_03-37-09_PM_head..txt  \n",
            "  inflating: train/labels/24-11-2021_03-37-09_PM_human..txt  \n",
            "  inflating: train/labels/24-11-2021_03-37-16_PM_car..txt  \n",
            "  inflating: train/labels/24-11-2021_03-37-16_PM_head..txt  \n",
            "  inflating: train/labels/24-11-2021_03-37-16_PM_human..txt  \n",
            "  inflating: train/labels/24-11-2021_03-37-30_PM_car..txt  \n",
            "  inflating: train/labels/24-11-2021_03-37-30_PM_face..txt  \n",
            "  inflating: train/labels/24-11-2021_03-37-30_PM_head..txt  \n",
            "  inflating: train/labels/24-11-2021_03-37-30_PM_human..txt  \n",
            "  inflating: train/labels/24-11-2021_03-41-51_AM_car..txt  \n",
            "  inflating: train/labels/24-11-2021_03-41-51_AM_face..txt  \n",
            "  inflating: train/labels/24-11-2021_03-41-51_AM_head..txt  \n",
            "  inflating: train/labels/24-11-2021_03-41-51_AM_human..txt  \n",
            "  inflating: train/labels/24-11-2021_03-42-04_AM_car..txt  \n",
            "  inflating: train/labels/24-11-2021_03-42-04_AM_head..txt  \n",
            "  inflating: train/labels/24-11-2021_03-42-04_AM_human..txt  \n",
            "  inflating: train/labels/24-11-2021_03-42-34_AM_car..txt  \n",
            "  inflating: train/labels/24-11-2021_03-42-34_AM_head..txt  \n",
            "  inflating: train/labels/24-11-2021_03-42-34_AM_human..txt  \n",
            "  inflating: train/labels/24-11-2021_03-43-38_AM_car..txt  \n",
            "  inflating: train/labels/24-11-2021_03-43-38_AM_head..txt  \n",
            "  inflating: train/labels/24-11-2021_03-43-38_AM_human..txt  \n",
            "  inflating: train/labels/24-11-2021_03-43-52_AM_car..txt  \n",
            "  inflating: train/labels/24-11-2021_03-43-52_AM_face..txt  \n",
            "  inflating: train/labels/24-11-2021_03-43-52_AM_head..txt  \n",
            "  inflating: train/labels/24-11-2021_03-43-52_AM_human..txt  \n",
            "  inflating: train/labels/24-11-2021_03-44-32_AM_car..txt  \n",
            "  inflating: train/labels/24-11-2021_03-44-32_AM_head..txt  \n",
            "  inflating: train/labels/24-11-2021_03-44-32_AM_human..txt  \n",
            "  inflating: train/labels/24-11-2021_03-53-25_PM_car..txt  \n",
            "  inflating: train/labels/24-11-2021_03-53-25_PM_head..txt  \n",
            "  inflating: train/labels/24-11-2021_03-53-25_PM_human..txt  \n",
            "  inflating: train/labels/24-11-2021_03-53-34_PM_car..txt  \n",
            "  inflating: train/labels/24-11-2021_03-53-34_PM_head..txt  \n",
            "  inflating: train/labels/24-11-2021_03-53-34_PM_human..txt  \n",
            "  inflating: train/labels/24-11-2021_03-53-37_PM_car..txt  \n",
            "  inflating: train/labels/24-11-2021_03-53-37_PM_face..txt  \n",
            "  inflating: train/labels/24-11-2021_03-53-37_PM_head..txt  \n",
            "  inflating: train/labels/24-11-2021_03-53-37_PM_human..txt  \n",
            "  inflating: train/labels/24-11-2021_03-53-41_PM_car..txt  \n",
            "  inflating: train/labels/24-11-2021_03-53-41_PM_head..txt  \n",
            "  inflating: train/labels/24-11-2021_03-53-41_PM_human..txt  \n",
            "  inflating: train/labels/24-11-2021_03-53-47_PM_car..txt  \n",
            "  inflating: train/labels/24-11-2021_03-53-47_PM_head..txt  \n",
            "  inflating: train/labels/24-11-2021_03-53-47_PM_human..txt  \n",
            "  inflating: train/labels/24-11-2021_03-54-12_PM_head..txt  \n",
            "  inflating: train/labels/24-11-2021_03-54-12_PM_human..txt  \n",
            "  inflating: train/labels/24-11-2021_03-54-37_PM_car..txt  \n",
            "  inflating: train/labels/24-11-2021_03-54-37_PM_head..txt  \n",
            "  inflating: train/labels/24-11-2021_03-54-37_PM_human..txt  \n",
            "  inflating: train/labels/24-11-2021_03-54-48_PM_car..txt  \n",
            "  inflating: train/labels/24-11-2021_03-54-48_PM_head..txt  \n",
            "  inflating: train/labels/24-11-2021_03-54-48_PM_human..txt  \n",
            "  inflating: train/labels/24-11-2021_03-59-56_AM_car..txt  \n",
            "  inflating: train/labels/24-11-2021_03-59-56_AM_face..txt  \n",
            "  inflating: train/labels/24-11-2021_03-59-56_AM_head..txt  \n",
            "  inflating: train/labels/24-11-2021_03-59-56_AM_human..txt  \n",
            "  inflating: train/labels/24-11-2021_04-00-14_AM_car..txt  \n",
            "  inflating: train/labels/24-11-2021_04-00-14_AM_head..txt  \n",
            "  inflating: train/labels/24-11-2021_04-00-14_AM_human..txt  \n",
            "  inflating: train/labels/24-11-2021_04-00-19_AM_car..txt  \n",
            "  inflating: train/labels/24-11-2021_04-00-19_AM_head..txt  \n",
            "  inflating: train/labels/24-11-2021_04-00-19_AM_human..txt  \n",
            "  inflating: train/labels/24-11-2021_04-00-22_AM_car..txt  \n",
            "  inflating: train/labels/24-11-2021_04-00-22_AM_head..txt  \n",
            "  inflating: train/labels/24-11-2021_04-00-22_AM_human..txt  \n",
            "  inflating: train/labels/24-11-2021_04-00-28_AM_car..txt  \n",
            "  inflating: train/labels/24-11-2021_04-00-28_AM_head..txt  \n",
            "  inflating: train/labels/24-11-2021_04-00-28_AM_human..txt  \n",
            "  inflating: train/labels/24-11-2021_04-00-34_AM_car..txt  \n",
            "  inflating: train/labels/24-11-2021_04-00-34_AM_head..txt  \n",
            "  inflating: train/labels/24-11-2021_04-00-34_AM_human..txt  \n",
            "  inflating: train/labels/24-11-2021_04-00-37_AM_car..txt  \n",
            "  inflating: train/labels/24-11-2021_04-00-37_AM_head..txt  \n",
            "  inflating: train/labels/24-11-2021_04-00-37_AM_human..txt  \n",
            "  inflating: train/labels/24-11-2021_04-00-56_AM_car..txt  \n",
            "  inflating: train/labels/24-11-2021_04-00-56_AM_face..txt  \n",
            "  inflating: train/labels/24-11-2021_04-00-56_AM_head..txt  \n",
            "  inflating: train/labels/24-11-2021_04-00-56_AM_human..txt  \n",
            "  inflating: train/labels/24-11-2021_04-01-15_AM_car..txt  \n",
            "  inflating: train/labels/24-11-2021_04-01-15_AM_head..txt  \n",
            "  inflating: train/labels/24-11-2021_04-01-15_AM_human..txt  \n",
            "  inflating: train/labels/24-11-2021_04-01-30_AM_car..txt  \n",
            "  inflating: train/labels/24-11-2021_04-01-30_AM_head..txt  \n",
            "  inflating: train/labels/24-11-2021_04-01-30_AM_human..txt  \n",
            "  inflating: train/labels/24-11-2021_04-02-29_AM_head..txt  \n",
            "  inflating: train/labels/24-11-2021_04-02-29_AM_human..txt  \n",
            "  inflating: train/labels/24-11-2021_04-11-06_PM_car..txt  \n",
            "  inflating: train/labels/24-11-2021_04-11-06_PM_head..txt  \n",
            "  inflating: train/labels/24-11-2021_04-11-06_PM_human..txt  \n",
            "  inflating: train/labels/24-11-2021_04-11-09_PM_car..txt  \n",
            "  inflating: train/labels/24-11-2021_04-11-09_PM_head..txt  \n",
            "  inflating: train/labels/24-11-2021_04-11-09_PM_human..txt  \n",
            "  inflating: train/labels/24-11-2021_04-11-26_PM_car..txt  \n",
            "  inflating: train/labels/24-11-2021_04-11-26_PM_head..txt  \n",
            "  inflating: train/labels/24-11-2021_04-11-26_PM_human..txt  \n",
            "  inflating: train/labels/24-11-2021_04-11-38_PM_car..txt  \n",
            "  inflating: train/labels/24-11-2021_04-11-38_PM_head..txt  \n",
            "  inflating: train/labels/24-11-2021_04-11-38_PM_human..txt  \n",
            "  inflating: train/labels/24-11-2021_04-11-51_PM_car..txt  \n",
            "  inflating: train/labels/24-11-2021_04-11-51_PM_face..txt  \n",
            "  inflating: train/labels/24-11-2021_04-11-51_PM_head..txt  \n",
            "  inflating: train/labels/24-11-2021_04-11-51_PM_human..txt  \n",
            "  inflating: train/labels/24-11-2021_04-12-53_PM_car..txt  \n",
            "  inflating: train/labels/24-11-2021_04-12-53_PM_face..txt  \n",
            "  inflating: train/labels/24-11-2021_04-12-53_PM_head..txt  \n",
            "  inflating: train/labels/24-11-2021_04-12-53_PM_human..txt  \n",
            "  inflating: train/labels/24-11-2021_04-13-10_PM_face..txt  \n",
            "  inflating: train/labels/24-11-2021_04-13-10_PM_head..txt  \n",
            "  inflating: train/labels/24-11-2021_04-13-10_PM_human..txt  \n",
            "  inflating: train/labels/24-11-2021_04-17-41_AM_car..txt  \n",
            "  inflating: train/labels/24-11-2021_04-17-41_AM_face..txt  \n",
            "  inflating: train/labels/24-11-2021_04-17-41_AM_head..txt  \n",
            "  inflating: train/labels/24-11-2021_04-17-41_AM_human..txt  \n",
            "  inflating: train/labels/24-11-2021_04-17-54_AM_car..txt  \n",
            "  inflating: train/labels/24-11-2021_04-17-54_AM_head..txt  \n",
            "  inflating: train/labels/24-11-2021_04-17-54_AM_human..txt  \n",
            "  inflating: train/labels/24-11-2021_04-17-56_AM_car..txt  \n",
            "  inflating: train/labels/24-11-2021_04-17-56_AM_face..txt  \n",
            "  inflating: train/labels/24-11-2021_04-17-56_AM_head..txt  \n",
            "  inflating: train/labels/24-11-2021_04-17-56_AM_human..txt  \n",
            "  inflating: train/labels/24-11-2021_04-18-12_AM_car..txt  \n",
            "  inflating: train/labels/24-11-2021_04-18-12_AM_face..txt  \n",
            "  inflating: train/labels/24-11-2021_04-18-12_AM_head..txt  \n",
            "  inflating: train/labels/24-11-2021_04-18-12_AM_human..txt  \n",
            "  inflating: train/labels/24-11-2021_04-18-14_AM_car..txt  \n",
            "  inflating: train/labels/24-11-2021_04-18-14_AM_face..txt  \n",
            "  inflating: train/labels/24-11-2021_04-18-14_AM_head..txt  \n",
            "  inflating: train/labels/24-11-2021_04-18-14_AM_human..txt  \n",
            "  inflating: train/labels/24-11-2021_04-18-24_AM_car..txt  \n",
            "  inflating: train/labels/24-11-2021_04-18-24_AM_head..txt  \n",
            "  inflating: train/labels/24-11-2021_04-18-24_AM_human..txt  \n",
            "  inflating: train/labels/24-11-2021_04-18-34_AM_car..txt  \n",
            "  inflating: train/labels/24-11-2021_04-18-34_AM_head..txt  \n",
            "  inflating: train/labels/24-11-2021_04-18-34_AM_human..txt  \n",
            "  inflating: train/labels/24-11-2021_04-18-40_AM_car..txt  \n",
            "  inflating: train/labels/24-11-2021_04-18-40_AM_head..txt  \n",
            "  inflating: train/labels/24-11-2021_04-18-40_AM_human..txt  \n",
            "  inflating: train/labels/24-11-2021_04-18-49_AM_car..txt  \n",
            "  inflating: train/labels/24-11-2021_04-18-49_AM_head..txt  \n",
            "  inflating: train/labels/24-11-2021_04-18-49_AM_human..txt  \n",
            "  inflating: train/labels/24-11-2021_04-18-57_AM_car..txt  \n",
            "  inflating: train/labels/24-11-2021_04-18-57_AM_face..txt  \n",
            "  inflating: train/labels/24-11-2021_04-18-57_AM_head..txt  \n",
            "  inflating: train/labels/24-11-2021_04-18-57_AM_human..txt  \n",
            "  inflating: train/labels/24-11-2021_04-19-20_AM_car..txt  \n",
            "  inflating: train/labels/24-11-2021_04-19-20_AM_head..txt  \n",
            "  inflating: train/labels/24-11-2021_04-19-20_AM_human..txt  \n",
            "  inflating: train/labels/24-11-2021_04-19-24_AM_car..txt  \n",
            "  inflating: train/labels/24-11-2021_04-19-24_AM_head..txt  \n",
            "  inflating: train/labels/24-11-2021_04-19-24_AM_human..txt  \n",
            "  inflating: train/labels/24-11-2021_04-19-47_AM_car..txt  \n",
            "  inflating: train/labels/24-11-2021_04-19-47_AM_head..txt  \n",
            "  inflating: train/labels/24-11-2021_04-19-47_AM_human..txt  \n",
            "  inflating: train/labels/24-11-2021_04-19-51_AM_car..txt  \n",
            "  inflating: train/labels/24-11-2021_04-19-51_AM_face..txt  \n",
            "  inflating: train/labels/24-11-2021_04-19-51_AM_head..txt  \n",
            "  inflating: train/labels/24-11-2021_04-19-51_AM_human..txt  \n",
            "  inflating: train/labels/24-11-2021_04-19-53_AM_car..txt  \n",
            "  inflating: train/labels/24-11-2021_04-19-53_AM_head..txt  \n",
            "  inflating: train/labels/24-11-2021_04-19-53_AM_human..txt  \n",
            "  inflating: train/labels/24-11-2021_04-20-05_AM_face..txt  \n",
            "  inflating: train/labels/24-11-2021_04-20-05_AM_head..txt  \n",
            "  inflating: train/labels/24-11-2021_04-20-05_AM_human..txt  \n",
            "  inflating: train/labels/24-11-2021_04-20-14_AM_car..txt  \n",
            "  inflating: train/labels/24-11-2021_04-20-14_AM_head..txt  \n",
            "  inflating: train/labels/24-11-2021_04-20-14_AM_human..txt  \n",
            "  inflating: train/labels/24-11-2021_04-28-47_PM_car..txt  \n",
            "  inflating: train/labels/24-11-2021_04-28-47_PM_face..txt  \n",
            "  inflating: train/labels/24-11-2021_04-28-47_PM_head..txt  \n",
            "  inflating: train/labels/24-11-2021_04-28-47_PM_human..txt  \n",
            "  inflating: train/labels/24-11-2021_04-29-12_PM_car..txt  \n",
            "  inflating: train/labels/24-11-2021_04-29-12_PM_face..txt  \n",
            "  inflating: train/labels/24-11-2021_04-29-12_PM_head..txt  \n",
            "  inflating: train/labels/24-11-2021_04-29-12_PM_human..txt  \n",
            "  inflating: train/labels/24-11-2021_04-29-26_PM_car..txt  \n",
            "  inflating: train/labels/24-11-2021_04-29-26_PM_face..txt  \n",
            "  inflating: train/labels/24-11-2021_04-29-26_PM_head..txt  \n",
            "  inflating: train/labels/24-11-2021_04-29-26_PM_human..txt  \n",
            "  inflating: train/labels/24-11-2021_04-29-37_PM_car..txt  \n",
            "  inflating: train/labels/24-11-2021_04-29-37_PM_head..txt  \n",
            "  inflating: train/labels/24-11-2021_04-29-37_PM_human..txt  \n",
            "  inflating: train/labels/24-11-2021_04-29-43_PM_face..txt  \n",
            "  inflating: train/labels/24-11-2021_04-29-43_PM_head..txt  \n",
            "  inflating: train/labels/24-11-2021_04-29-43_PM_human..txt  \n",
            "  inflating: train/labels/24-11-2021_04-30-49_PM_car..txt  \n",
            "  inflating: train/labels/24-11-2021_04-30-49_PM_face..txt  \n",
            "  inflating: train/labels/24-11-2021_04-30-49_PM_head..txt  \n",
            "  inflating: train/labels/24-11-2021_04-30-49_PM_human..txt  \n",
            "  inflating: train/labels/24-11-2021_04-35-30_AM_car..txt  \n",
            "  inflating: train/labels/24-11-2021_04-35-30_AM_face..txt  \n",
            "  inflating: train/labels/24-11-2021_04-35-30_AM_head..txt  \n",
            "  inflating: train/labels/24-11-2021_04-35-30_AM_human..txt  \n",
            "  inflating: train/labels/24-11-2021_04-35-42_AM_car..txt  \n",
            "  inflating: train/labels/24-11-2021_04-35-42_AM_face..txt  \n",
            "  inflating: train/labels/24-11-2021_04-35-42_AM_head..txt  \n",
            "  inflating: train/labels/24-11-2021_04-35-42_AM_human..txt  \n",
            "  inflating: train/labels/24-11-2021_04-35-54_AM_car..txt  \n",
            "  inflating: train/labels/24-11-2021_04-35-54_AM_head..txt  \n",
            "  inflating: train/labels/24-11-2021_04-35-54_AM_human..txt  \n",
            "  inflating: train/labels/24-11-2021_04-35-57_AM_car..txt  \n",
            "  inflating: train/labels/24-11-2021_04-35-57_AM_head..txt  \n",
            "  inflating: train/labels/24-11-2021_04-35-57_AM_human..txt  \n",
            "  inflating: train/labels/24-11-2021_04-36-08_AM_car..txt  \n",
            "  inflating: train/labels/24-11-2021_04-36-08_AM_face..txt  \n",
            "  inflating: train/labels/24-11-2021_04-36-08_AM_head..txt  \n",
            "  inflating: train/labels/24-11-2021_04-36-08_AM_human..txt  \n",
            "  inflating: train/labels/24-11-2021_04-36-11_AM_car..txt  \n",
            "  inflating: train/labels/24-11-2021_04-36-11_AM_head..txt  \n",
            "  inflating: train/labels/24-11-2021_04-36-11_AM_human..txt  \n",
            "  inflating: train/labels/24-11-2021_04-36-20_AM_car..txt  \n",
            "  inflating: train/labels/24-11-2021_04-36-20_AM_head..txt  \n",
            "  inflating: train/labels/24-11-2021_04-36-20_AM_human..txt  \n",
            "  inflating: train/labels/24-11-2021_04-36-37_AM_car..txt  \n",
            "  inflating: train/labels/24-11-2021_04-36-37_AM_face..txt  \n",
            "  inflating: train/labels/24-11-2021_04-36-37_AM_head..txt  \n",
            "  inflating: train/labels/24-11-2021_04-36-37_AM_human..txt  \n",
            "  inflating: train/labels/24-11-2021_04-36-45_AM_car..txt  \n",
            "  inflating: train/labels/24-11-2021_04-36-45_AM_head..txt  \n",
            "  inflating: train/labels/24-11-2021_04-36-45_AM_human..txt  \n",
            "  inflating: train/labels/24-11-2021_04-36-53_AM_car..txt  \n",
            "  inflating: train/labels/24-11-2021_04-36-53_AM_head..txt  \n",
            "  inflating: train/labels/24-11-2021_04-36-53_AM_human..txt  \n",
            "  inflating: train/labels/24-11-2021_04-36-56_AM_car..txt  \n",
            "  inflating: train/labels/24-11-2021_04-36-56_AM_head..txt  \n",
            "  inflating: train/labels/24-11-2021_04-36-56_AM_human..txt  \n",
            "  inflating: train/labels/24-11-2021_04-37-00_AM_car..txt  \n",
            "  inflating: train/labels/24-11-2021_04-37-00_AM_face..txt  \n",
            "  inflating: train/labels/24-11-2021_04-37-00_AM_head..txt  \n",
            "  inflating: train/labels/24-11-2021_04-37-00_AM_human..txt  \n",
            "  inflating: train/labels/24-11-2021_04-37-08_AM_car..txt  \n",
            "  inflating: train/labels/24-11-2021_04-37-08_AM_head..txt  \n",
            "  inflating: train/labels/24-11-2021_04-37-08_AM_human..txt  \n",
            "  inflating: train/labels/24-11-2021_04-37-27_AM_car..txt  \n",
            "  inflating: train/labels/24-11-2021_04-37-27_AM_face..txt  \n",
            "  inflating: train/labels/24-11-2021_04-37-27_AM_head..txt  \n",
            "  inflating: train/labels/24-11-2021_04-37-27_AM_human..txt  \n",
            "  inflating: train/labels/24-11-2021_04-37-30_AM_car..txt  \n",
            "  inflating: train/labels/24-11-2021_04-37-30_AM_head..txt  \n",
            "  inflating: train/labels/24-11-2021_04-37-30_AM_human..txt  \n",
            "  inflating: train/labels/24-11-2021_04-37-41_AM_car..txt  \n",
            "  inflating: train/labels/24-11-2021_04-37-41_AM_face..txt  \n",
            "  inflating: train/labels/24-11-2021_04-37-41_AM_head..txt  \n",
            "  inflating: train/labels/24-11-2021_04-37-41_AM_human..txt  \n",
            "  inflating: train/labels/24-11-2021_04-37-44_AM_car..txt  \n",
            "  inflating: train/labels/24-11-2021_04-37-44_AM_head..txt  \n",
            "  inflating: train/labels/24-11-2021_04-37-44_AM_human..txt  \n",
            "  inflating: train/labels/24-11-2021_04-37-46_AM_car..txt  \n",
            "  inflating: train/labels/24-11-2021_04-37-46_AM_face..txt  \n",
            "  inflating: train/labels/24-11-2021_04-37-46_AM_head..txt  \n",
            "  inflating: train/labels/24-11-2021_04-37-46_AM_human..txt  \n",
            "  inflating: train/labels/24-11-2021_04-37-53_AM_car..txt  \n",
            "  inflating: train/labels/24-11-2021_04-37-53_AM_head..txt  \n",
            "  inflating: train/labels/24-11-2021_04-37-53_AM_human..txt  \n",
            "  inflating: train/labels/24-11-2021_04-38-06_AM_car..txt  \n",
            "  inflating: train/labels/24-11-2021_04-38-06_AM_face..txt  \n",
            "  inflating: train/labels/24-11-2021_04-38-06_AM_head..txt  \n",
            "  inflating: train/labels/24-11-2021_04-38-06_AM_human..txt  \n",
            "  inflating: train/labels/24-11-2021_04-38-08_AM_car..txt  \n",
            "  inflating: train/labels/24-11-2021_04-38-08_AM_head..txt  \n",
            "  inflating: train/labels/24-11-2021_04-38-08_AM_human..txt  \n",
            "  inflating: train/labels/24-11-2021_04-46-05_PM_car..txt  \n",
            "  inflating: train/labels/24-11-2021_04-46-05_PM_head..txt  \n",
            "  inflating: train/labels/24-11-2021_04-46-05_PM_human..txt  \n",
            "  inflating: train/labels/24-11-2021_04-46-27_PM_car..txt  \n",
            "  inflating: train/labels/24-11-2021_04-46-27_PM_head..txt  \n",
            "  inflating: train/labels/24-11-2021_04-46-27_PM_human..txt  \n",
            "  inflating: train/labels/24-11-2021_04-47-09_PM_car..txt  \n",
            "  inflating: train/labels/24-11-2021_04-47-09_PM_head..txt  \n",
            "  inflating: train/labels/24-11-2021_04-47-09_PM_human..txt  \n",
            "  inflating: train/labels/24-11-2021_04-47-20_PM_car..txt  \n",
            "  inflating: train/labels/24-11-2021_04-47-20_PM_face..txt  \n",
            "  inflating: train/labels/24-11-2021_04-47-20_PM_head..txt  \n",
            "  inflating: train/labels/24-11-2021_04-47-20_PM_human..txt  \n",
            "  inflating: train/labels/24-11-2021_04-47-23_PM_car..txt  \n",
            "  inflating: train/labels/24-11-2021_04-47-23_PM_face..txt  \n",
            "  inflating: train/labels/24-11-2021_04-47-23_PM_head..txt  \n",
            "  inflating: train/labels/24-11-2021_04-47-23_PM_human..txt  \n",
            "  inflating: train/labels/24-11-2021_04-47-30_PM_head..txt  \n",
            "  inflating: train/labels/24-11-2021_04-47-30_PM_human..txt  \n",
            "  inflating: train/labels/24-11-2021_04-48-32_PM_car..txt  \n",
            "  inflating: train/labels/24-11-2021_04-48-32_PM_face..txt  \n",
            "  inflating: train/labels/24-11-2021_04-48-32_PM_head..txt  \n",
            "  inflating: train/labels/24-11-2021_04-48-32_PM_human..txt  \n",
            "  inflating: train/labels/24-11-2021_04-53-22_AM_car..txt  \n",
            "  inflating: train/labels/24-11-2021_04-53-22_AM_face..txt  \n",
            "  inflating: train/labels/24-11-2021_04-53-22_AM_head..txt  \n",
            "  inflating: train/labels/24-11-2021_04-53-22_AM_human..txt  \n",
            "  inflating: train/labels/24-11-2021_04-53-24_AM_car..txt  \n",
            "  inflating: train/labels/24-11-2021_04-53-24_AM_head..txt  \n",
            "  inflating: train/labels/24-11-2021_04-53-24_AM_human..txt  \n",
            "  inflating: train/labels/24-11-2021_04-53-37_AM_car..txt  \n",
            "  inflating: train/labels/24-11-2021_04-53-37_AM_head..txt  \n",
            "  inflating: train/labels/24-11-2021_04-53-37_AM_human..txt  \n",
            "  inflating: train/labels/24-11-2021_04-53-42_AM_car..txt  \n",
            "  inflating: train/labels/24-11-2021_04-53-42_AM_head..txt  \n",
            "  inflating: train/labels/24-11-2021_04-53-42_AM_human..txt  \n",
            "  inflating: train/labels/24-11-2021_04-53-46_AM_car..txt  \n",
            "  inflating: train/labels/24-11-2021_04-53-46_AM_face..txt  \n",
            "  inflating: train/labels/24-11-2021_04-53-46_AM_head..txt  \n",
            "  inflating: train/labels/24-11-2021_04-53-46_AM_human..txt  \n",
            "  inflating: train/labels/24-11-2021_04-53-52_AM_car..txt  \n",
            "  inflating: train/labels/24-11-2021_04-53-52_AM_face..txt  \n",
            "  inflating: train/labels/24-11-2021_04-53-52_AM_head..txt  \n",
            "  inflating: train/labels/24-11-2021_04-53-52_AM_human..txt  \n",
            "  inflating: train/labels/24-11-2021_04-53-55_AM_car..txt  \n",
            "  inflating: train/labels/24-11-2021_04-53-55_AM_face..txt  \n",
            "  inflating: train/labels/24-11-2021_04-53-55_AM_head..txt  \n",
            "  inflating: train/labels/24-11-2021_04-53-55_AM_human..txt  \n",
            "  inflating: train/labels/24-11-2021_04-54-02_AM_car..txt  \n",
            "  inflating: train/labels/24-11-2021_04-54-02_AM_head..txt  \n",
            "  inflating: train/labels/24-11-2021_04-54-02_AM_human..txt  \n",
            "  inflating: train/labels/24-11-2021_04-54-23_AM_car..txt  \n",
            "  inflating: train/labels/24-11-2021_04-54-23_AM_face..txt  \n",
            "  inflating: train/labels/24-11-2021_04-54-23_AM_head..txt  \n",
            "  inflating: train/labels/24-11-2021_04-54-23_AM_human..txt  \n",
            "  inflating: train/labels/24-11-2021_04-54-30_AM_car..txt  \n",
            "  inflating: train/labels/24-11-2021_04-54-30_AM_head..txt  \n",
            "  inflating: train/labels/24-11-2021_04-54-30_AM_human..txt  \n",
            "  inflating: train/labels/24-11-2021_04-55-05_AM_car..txt  \n",
            "  inflating: train/labels/24-11-2021_04-55-05_AM_face..txt  \n",
            "  inflating: train/labels/24-11-2021_04-55-05_AM_head..txt  \n",
            "  inflating: train/labels/24-11-2021_04-55-05_AM_human..txt  \n",
            "  inflating: train/labels/24-11-2021_04-55-18_AM_car..txt  \n",
            "  inflating: train/labels/24-11-2021_04-55-18_AM_head..txt  \n",
            "  inflating: train/labels/24-11-2021_04-55-18_AM_human..txt  \n",
            "  inflating: train/labels/24-11-2021_04-55-28_AM_car..txt  \n",
            "  inflating: train/labels/24-11-2021_04-55-28_AM_head..txt  \n",
            "  inflating: train/labels/24-11-2021_04-55-28_AM_human..txt  \n",
            "  inflating: train/labels/24-11-2021_04-55-34_AM_car..txt  \n",
            "  inflating: train/labels/24-11-2021_04-55-34_AM_head..txt  \n",
            "  inflating: train/labels/24-11-2021_04-55-34_AM_human..txt  \n",
            "  inflating: train/labels/24-11-2021_04-55-47_AM_car..txt  \n",
            "  inflating: train/labels/24-11-2021_04-55-47_AM_face..txt  \n",
            "  inflating: train/labels/24-11-2021_04-55-47_AM_head..txt  \n",
            "  inflating: train/labels/24-11-2021_04-55-47_AM_human..txt  \n",
            "  inflating: train/labels/24-11-2021_04-55-56_AM_car..txt  \n",
            "  inflating: train/labels/24-11-2021_04-55-56_AM_face..txt  \n",
            "  inflating: train/labels/24-11-2021_04-55-56_AM_head..txt  \n",
            "  inflating: train/labels/24-11-2021_04-55-56_AM_human..txt  \n",
            "  inflating: train/labels/24-11-2021_05-03-48_PM_car..txt  \n",
            "  inflating: train/labels/24-11-2021_05-03-48_PM_head..txt  \n",
            "  inflating: train/labels/24-11-2021_05-03-48_PM_human..txt  \n",
            "  inflating: train/labels/24-11-2021_05-04-47_PM_car..txt  \n",
            "  inflating: train/labels/24-11-2021_05-04-47_PM_face..txt  \n",
            "  inflating: train/labels/24-11-2021_05-04-47_PM_head..txt  \n",
            "  inflating: train/labels/24-11-2021_05-04-47_PM_human..txt  \n",
            "  inflating: train/labels/24-11-2021_05-04-52_PM_car..txt  \n",
            "  inflating: train/labels/24-11-2021_05-04-52_PM_head..txt  \n",
            "  inflating: train/labels/24-11-2021_05-04-52_PM_human..txt  \n",
            "  inflating: train/labels/24-11-2021_05-04-56_PM_car..txt  \n",
            "  inflating: train/labels/24-11-2021_05-04-56_PM_head..txt  \n",
            "  inflating: train/labels/24-11-2021_05-04-56_PM_human..txt  \n",
            "  inflating: train/labels/24-11-2021_05-05-14_PM_face..txt  \n",
            "  inflating: train/labels/24-11-2021_05-05-14_PM_head..txt  \n",
            "  inflating: train/labels/24-11-2021_05-05-14_PM_human..txt  \n",
            "  inflating: train/labels/24-11-2021_05-05-52_PM_car..txt  \n",
            "  inflating: train/labels/24-11-2021_05-05-52_PM_head..txt  \n",
            "  inflating: train/labels/24-11-2021_05-05-52_PM_human..txt  \n",
            "  inflating: train/labels/24-11-2021_05-06-11_PM_car..txt  \n",
            "  inflating: train/labels/24-11-2021_05-06-11_PM_face..txt  \n",
            "  inflating: train/labels/24-11-2021_05-06-11_PM_head..txt  \n",
            "  inflating: train/labels/24-11-2021_05-06-11_PM_human..txt  \n",
            "  inflating: train/labels/24-11-2021_05-06-23_PM_car..txt  \n",
            "  inflating: train/labels/24-11-2021_05-06-23_PM_face..txt  \n",
            "  inflating: train/labels/24-11-2021_05-06-23_PM_head..txt  \n",
            "  inflating: train/labels/24-11-2021_05-06-23_PM_human..txt  \n",
            "  inflating: train/labels/24-11-2021_05-11-27_AM_car..txt  \n",
            "  inflating: train/labels/24-11-2021_05-11-27_AM_face..txt  \n",
            "  inflating: train/labels/24-11-2021_05-11-27_AM_head..txt  \n",
            "  inflating: train/labels/24-11-2021_05-11-27_AM_human..txt  \n",
            "  inflating: train/labels/24-11-2021_05-11-32_AM_car..txt  \n",
            "  inflating: train/labels/24-11-2021_05-11-32_AM_head..txt  \n",
            "  inflating: train/labels/24-11-2021_05-11-32_AM_human..txt  \n",
            "  inflating: train/labels/24-11-2021_05-11-45_AM_car..txt  \n",
            "  inflating: train/labels/24-11-2021_05-11-45_AM_head..txt  \n",
            "  inflating: train/labels/24-11-2021_05-11-45_AM_human..txt  \n",
            "  inflating: train/labels/24-11-2021_05-11-47_AM_car..txt  \n",
            "  inflating: train/labels/24-11-2021_05-11-47_AM_head..txt  \n",
            "  inflating: train/labels/24-11-2021_05-11-47_AM_human..txt  \n",
            "  inflating: train/labels/24-11-2021_05-11-53_AM_car..txt  \n",
            "  inflating: train/labels/24-11-2021_05-11-53_AM_face..txt  \n",
            "  inflating: train/labels/24-11-2021_05-11-53_AM_head..txt  \n",
            "  inflating: train/labels/24-11-2021_05-11-53_AM_human..txt  \n",
            "  inflating: train/labels/24-11-2021_05-12-02_AM_car..txt  \n",
            "  inflating: train/labels/24-11-2021_05-12-02_AM_head..txt  \n",
            "  inflating: train/labels/24-11-2021_05-12-02_AM_human..txt  \n",
            "  inflating: train/labels/24-11-2021_05-12-11_AM_car..txt  \n",
            "  inflating: train/labels/24-11-2021_05-12-11_AM_face..txt  \n",
            "  inflating: train/labels/24-11-2021_05-12-11_AM_head..txt  \n",
            "  inflating: train/labels/24-11-2021_05-12-11_AM_human..txt  \n",
            "  inflating: train/labels/24-11-2021_05-12-15_AM_car..txt  \n",
            "  inflating: train/labels/24-11-2021_05-12-15_AM_head..txt  \n",
            "  inflating: train/labels/24-11-2021_05-12-15_AM_human..txt  \n",
            "  inflating: train/labels/24-11-2021_05-12-23_AM_car..txt  \n",
            "  inflating: train/labels/24-11-2021_05-12-23_AM_face..txt  \n",
            "  inflating: train/labels/24-11-2021_05-12-23_AM_head..txt  \n",
            "  inflating: train/labels/24-11-2021_05-12-23_AM_human..txt  \n",
            "  inflating: train/labels/24-11-2021_05-12-28_AM_car..txt  \n",
            "  inflating: train/labels/24-11-2021_05-12-28_AM_face..txt  \n",
            "  inflating: train/labels/24-11-2021_05-12-28_AM_head..txt  \n",
            "  inflating: train/labels/24-11-2021_05-12-28_AM_human..txt  \n",
            "  inflating: train/labels/24-11-2021_05-12-35_AM_car..txt  \n",
            "  inflating: train/labels/24-11-2021_05-12-35_AM_head..txt  \n",
            "  inflating: train/labels/24-11-2021_05-12-35_AM_human..txt  \n",
            "  inflating: train/labels/24-11-2021_05-13-07_AM_car..txt  \n",
            "  inflating: train/labels/24-11-2021_05-13-07_AM_face..txt  \n",
            "  inflating: train/labels/24-11-2021_05-13-07_AM_head..txt  \n",
            "  inflating: train/labels/24-11-2021_05-13-07_AM_human..txt  \n",
            "  inflating: train/labels/24-11-2021_05-13-22_AM_car..txt  \n",
            "  inflating: train/labels/24-11-2021_05-13-22_AM_head..txt  \n",
            "  inflating: train/labels/24-11-2021_05-13-22_AM_human..txt  \n",
            "  inflating: train/labels/24-11-2021_05-13-39_AM_car..txt  \n",
            "  inflating: train/labels/24-11-2021_05-13-39_AM_head..txt  \n",
            "  inflating: train/labels/24-11-2021_05-13-39_AM_human..txt  \n",
            "  inflating: train/labels/24-11-2021_05-13-49_AM_car..txt  \n",
            "  inflating: train/labels/24-11-2021_05-13-49_AM_head..txt  \n",
            "  inflating: train/labels/24-11-2021_05-13-49_AM_human..txt  \n",
            "  inflating: train/labels/24-11-2021_05-13-59_AM_car..txt  \n",
            "  inflating: train/labels/24-11-2021_05-13-59_AM_head..txt  \n",
            "  inflating: train/labels/24-11-2021_05-13-59_AM_human..txt  \n",
            "  inflating: train/labels/24-11-2021_05-21-53_PM_head..txt  \n",
            "  inflating: train/labels/24-11-2021_05-21-53_PM_human..txt  \n",
            "  inflating: train/labels/24-11-2021_05-21-58_PM_car..txt  \n",
            "  inflating: train/labels/24-11-2021_05-21-58_PM_head..txt  \n",
            "  inflating: train/labels/24-11-2021_05-21-58_PM_human..txt  \n",
            "  inflating: train/labels/24-11-2021_05-23-23_PM_car..txt  \n",
            "  inflating: train/labels/24-11-2021_05-23-23_PM_face..txt  \n",
            "  inflating: train/labels/24-11-2021_05-23-23_PM_head..txt  \n",
            "  inflating: train/labels/24-11-2021_05-23-23_PM_human..txt  \n",
            "  inflating: train/labels/24-11-2021_05-23-29_PM_car..txt  \n",
            "  inflating: train/labels/24-11-2021_05-23-29_PM_face..txt  \n",
            "  inflating: train/labels/24-11-2021_05-23-29_PM_head..txt  \n",
            "  inflating: train/labels/24-11-2021_05-23-29_PM_human..txt  \n",
            "  inflating: train/labels/24-11-2021_05-23-42_PM_car..txt  \n",
            "  inflating: train/labels/24-11-2021_05-23-42_PM_head..txt  \n",
            "  inflating: train/labels/24-11-2021_05-23-42_PM_human..txt  \n",
            "  inflating: train/labels/24-11-2021_05-24-09_PM_car..txt  \n",
            "  inflating: train/labels/24-11-2021_05-24-09_PM_head..txt  \n",
            "  inflating: train/labels/24-11-2021_05-24-09_PM_human..txt  \n",
            "  inflating: train/labels/24-11-2021_05-29-14_AM_car..txt  \n",
            "  inflating: train/labels/24-11-2021_05-29-14_AM_head..txt  \n",
            "  inflating: train/labels/24-11-2021_05-29-14_AM_human..txt  \n",
            "  inflating: train/labels/24-11-2021_05-29-40_AM_car..txt  \n",
            "  inflating: train/labels/24-11-2021_05-29-40_AM_head..txt  \n",
            "  inflating: train/labels/24-11-2021_05-29-40_AM_human..txt  \n",
            "  inflating: train/labels/24-11-2021_05-29-45_AM_car..txt  \n",
            "  inflating: train/labels/24-11-2021_05-29-45_AM_face..txt  \n",
            "  inflating: train/labels/24-11-2021_05-29-45_AM_head..txt  \n",
            "  inflating: train/labels/24-11-2021_05-29-45_AM_human..txt  \n",
            "  inflating: train/labels/24-11-2021_05-30-13_AM_car..txt  \n",
            "  inflating: train/labels/24-11-2021_05-30-13_AM_head..txt  \n",
            "  inflating: train/labels/24-11-2021_05-30-13_AM_human..txt  \n",
            "  inflating: train/labels/24-11-2021_05-30-17_AM_car..txt  \n",
            "  inflating: train/labels/24-11-2021_05-30-17_AM_head..txt  \n",
            "  inflating: train/labels/24-11-2021_05-30-17_AM_human..txt  \n",
            "  inflating: train/labels/24-11-2021_05-30-36_AM_face..txt  \n",
            "  inflating: train/labels/24-11-2021_05-30-36_AM_head..txt  \n",
            "  inflating: train/labels/24-11-2021_05-30-36_AM_human..txt  \n",
            "  inflating: train/labels/24-11-2021_05-30-40_AM_car..txt  \n",
            "  inflating: train/labels/24-11-2021_05-30-40_AM_head..txt  \n",
            "  inflating: train/labels/24-11-2021_05-30-40_AM_human..txt  \n",
            "  inflating: train/labels/24-11-2021_05-30-51_AM_car..txt  \n",
            "  inflating: train/labels/24-11-2021_05-30-51_AM_face..txt  \n",
            "  inflating: train/labels/24-11-2021_05-30-51_AM_head..txt  \n",
            "  inflating: train/labels/24-11-2021_05-30-51_AM_human..txt  \n",
            "  inflating: train/labels/24-11-2021_05-31-10_AM_car..txt  \n",
            "  inflating: train/labels/24-11-2021_05-31-10_AM_head..txt  \n",
            "  inflating: train/labels/24-11-2021_05-31-10_AM_human..txt  \n",
            "  inflating: train/labels/24-11-2021_05-31-12_AM_car..txt  \n",
            "  inflating: train/labels/24-11-2021_05-31-12_AM_head..txt  \n",
            "  inflating: train/labels/24-11-2021_05-31-12_AM_human..txt  \n",
            "  inflating: train/labels/24-11-2021_05-31-14_AM_car..txt  \n",
            "  inflating: train/labels/24-11-2021_05-31-14_AM_head..txt  \n",
            "  inflating: train/labels/24-11-2021_05-31-14_AM_human..txt  \n",
            "  inflating: train/labels/24-11-2021_05-31-21_AM_car..txt  \n",
            "  inflating: train/labels/24-11-2021_05-31-21_AM_face..txt  \n",
            "  inflating: train/labels/24-11-2021_05-31-21_AM_head..txt  \n",
            "  inflating: train/labels/24-11-2021_05-31-21_AM_human..txt  \n",
            "  inflating: train/labels/24-11-2021_05-31-23_AM_head..txt  \n",
            "  inflating: train/labels/24-11-2021_05-31-23_AM_human..txt  \n",
            "  inflating: train/labels/24-11-2021_05-31-33_AM_car..txt  \n",
            "  inflating: train/labels/24-11-2021_05-31-33_AM_face..txt  \n",
            "  inflating: train/labels/24-11-2021_05-31-33_AM_head..txt  \n",
            "  inflating: train/labels/24-11-2021_05-31-33_AM_human..txt  \n",
            "  inflating: train/labels/24-11-2021_05-31-39_AM_face..txt  \n",
            "  inflating: train/labels/24-11-2021_05-31-39_AM_head..txt  \n",
            "  inflating: train/labels/24-11-2021_05-31-39_AM_human..txt  \n",
            "  inflating: train/labels/24-11-2021_05-31-41_AM_car..txt  \n",
            "  inflating: train/labels/24-11-2021_05-31-41_AM_head..txt  \n",
            "  inflating: train/labels/24-11-2021_05-31-41_AM_human..txt  \n",
            "  inflating: train/labels/24-11-2021_05-40-36_PM_car..txt  \n",
            "  inflating: train/labels/24-11-2021_05-40-36_PM_head..txt  \n",
            "  inflating: train/labels/24-11-2021_05-40-36_PM_human..txt  \n",
            "  inflating: train/labels/24-11-2021_05-42-04_PM_car..txt  \n",
            "  inflating: train/labels/24-11-2021_05-42-04_PM_face..txt  \n",
            "  inflating: train/labels/24-11-2021_05-42-04_PM_head..txt  \n",
            "  inflating: train/labels/24-11-2021_05-42-04_PM_human..txt  \n",
            "  inflating: train/labels/24-11-2021_05-47-08_AM_car..txt  \n",
            "  inflating: train/labels/24-11-2021_05-47-08_AM_face..txt  \n",
            "  inflating: train/labels/24-11-2021_05-47-08_AM_head..txt  \n",
            "  inflating: train/labels/24-11-2021_05-47-08_AM_human..txt  \n",
            "  inflating: train/labels/24-11-2021_05-47-16_AM_car..txt  \n",
            "  inflating: train/labels/24-11-2021_05-47-16_AM_head..txt  \n",
            "  inflating: train/labels/24-11-2021_05-47-16_AM_human..txt  \n",
            "  inflating: train/labels/24-11-2021_05-47-22_AM_car..txt  \n",
            "  inflating: train/labels/24-11-2021_05-47-22_AM_head..txt  \n",
            "  inflating: train/labels/24-11-2021_05-47-22_AM_human..txt  \n",
            "  inflating: train/labels/24-11-2021_05-47-32_AM_car..txt  \n",
            "  inflating: train/labels/24-11-2021_05-47-32_AM_head..txt  \n",
            "  inflating: train/labels/24-11-2021_05-47-32_AM_human..txt  \n",
            "  inflating: train/labels/24-11-2021_05-47-35_AM_car..txt  \n",
            "  inflating: train/labels/24-11-2021_05-47-35_AM_head..txt  \n",
            "  inflating: train/labels/24-11-2021_05-47-35_AM_human..txt  \n",
            "  inflating: train/labels/24-11-2021_05-47-42_AM_car..txt  \n",
            "  inflating: train/labels/24-11-2021_05-47-42_AM_head..txt  \n",
            "  inflating: train/labels/24-11-2021_05-47-42_AM_human..txt  \n",
            "  inflating: train/labels/24-11-2021_05-47-50_AM_car..txt  \n",
            "  inflating: train/labels/24-11-2021_05-47-50_AM_head..txt  \n",
            "  inflating: train/labels/24-11-2021_05-47-50_AM_human..txt  \n",
            "  inflating: train/labels/24-11-2021_05-47-54_AM_car..txt  \n",
            "  inflating: train/labels/24-11-2021_05-47-54_AM_head..txt  \n",
            "  inflating: train/labels/24-11-2021_05-47-54_AM_human..txt  \n",
            "  inflating: train/labels/24-11-2021_05-48-09_AM_car..txt  \n",
            "  inflating: train/labels/24-11-2021_05-48-09_AM_face..txt  \n",
            "  inflating: train/labels/24-11-2021_05-48-09_AM_head..txt  \n",
            "  inflating: train/labels/24-11-2021_05-48-09_AM_human..txt  \n",
            "  inflating: train/labels/24-11-2021_05-48-13_AM_car..txt  \n",
            "  inflating: train/labels/24-11-2021_05-48-13_AM_face..txt  \n",
            "  inflating: train/labels/24-11-2021_05-48-13_AM_head..txt  \n",
            "  inflating: train/labels/24-11-2021_05-48-13_AM_human..txt  \n",
            "  inflating: train/labels/24-11-2021_05-48-17_AM_car..txt  \n",
            "  inflating: train/labels/24-11-2021_05-48-17_AM_head..txt  \n",
            "  inflating: train/labels/24-11-2021_05-48-17_AM_human..txt  \n",
            "  inflating: train/labels/24-11-2021_05-48-24_AM_car..txt  \n",
            "  inflating: train/labels/24-11-2021_05-48-24_AM_face..txt  \n",
            "  inflating: train/labels/24-11-2021_05-48-24_AM_head..txt  \n",
            "  inflating: train/labels/24-11-2021_05-48-24_AM_human..txt  \n",
            "  inflating: train/labels/24-11-2021_05-48-39_AM_car..txt  \n",
            "  inflating: train/labels/24-11-2021_05-48-39_AM_face..txt  \n",
            "  inflating: train/labels/24-11-2021_05-48-39_AM_head..txt  \n",
            "  inflating: train/labels/24-11-2021_05-48-39_AM_human..txt  \n",
            "  inflating: train/labels/24-11-2021_05-48-54_AM_face..txt  \n",
            "  inflating: train/labels/24-11-2021_05-48-54_AM_head..txt  \n",
            "  inflating: train/labels/24-11-2021_05-48-54_AM_human..txt  \n",
            "  inflating: train/labels/24-11-2021_05-49-00_AM_car..txt  \n",
            "  inflating: train/labels/24-11-2021_05-49-00_AM_head..txt  \n",
            "  inflating: train/labels/24-11-2021_05-49-00_AM_human..txt  \n",
            "  inflating: train/labels/24-11-2021_05-49-06_AM_car..txt  \n",
            "  inflating: train/labels/24-11-2021_05-49-06_AM_head..txt  \n",
            "  inflating: train/labels/24-11-2021_05-49-06_AM_human..txt  \n",
            "  inflating: train/labels/24-11-2021_05-49-17_AM_face..txt  \n",
            "  inflating: train/labels/24-11-2021_05-49-17_AM_head..txt  \n",
            "  inflating: train/labels/24-11-2021_05-49-17_AM_human..txt  \n",
            "  inflating: train/labels/24-11-2021_05-58-48_PM_car..txt  \n",
            "  inflating: train/labels/24-11-2021_05-58-48_PM_head..txt  \n",
            "  inflating: train/labels/24-11-2021_05-58-48_PM_human..txt  \n",
            "  inflating: train/labels/24-11-2021_05-59-12_PM_car..txt  \n",
            "  inflating: train/labels/24-11-2021_05-59-12_PM_head..txt  \n",
            "  inflating: train/labels/24-11-2021_05-59-12_PM_human..txt  \n",
            "  inflating: train/labels/24-11-2021_06-04-51_AM_car..txt  \n",
            "  inflating: train/labels/24-11-2021_06-04-51_AM_face..txt  \n",
            "  inflating: train/labels/24-11-2021_06-04-51_AM_head..txt  \n",
            "  inflating: train/labels/24-11-2021_06-04-51_AM_human..txt  \n",
            "  inflating: train/labels/24-11-2021_06-05-17_AM_car..txt  \n",
            "  inflating: train/labels/24-11-2021_06-05-17_AM_face..txt  \n",
            "  inflating: train/labels/24-11-2021_06-05-17_AM_head..txt  \n",
            "  inflating: train/labels/24-11-2021_06-05-17_AM_human..txt  \n",
            "  inflating: train/labels/24-11-2021_06-05-20_AM_car..txt  \n",
            "  inflating: train/labels/24-11-2021_06-05-20_AM_face..txt  \n",
            "  inflating: train/labels/24-11-2021_06-05-20_AM_head..txt  \n",
            "  inflating: train/labels/24-11-2021_06-05-20_AM_human..txt  \n",
            "  inflating: train/labels/24-11-2021_06-05-25_AM_car..txt  \n",
            "  inflating: train/labels/24-11-2021_06-05-25_AM_head..txt  \n",
            "  inflating: train/labels/24-11-2021_06-05-25_AM_human..txt  \n",
            "  inflating: train/labels/24-11-2021_06-05-50_AM_car..txt  \n",
            "  inflating: train/labels/24-11-2021_06-05-50_AM_head..txt  \n",
            "  inflating: train/labels/24-11-2021_06-05-50_AM_human..txt  \n",
            "  inflating: train/labels/24-11-2021_06-06-16_AM_car..txt  \n",
            "  inflating: train/labels/24-11-2021_06-06-16_AM_head..txt  \n",
            "  inflating: train/labels/24-11-2021_06-06-16_AM_human..txt  \n",
            "  inflating: train/labels/24-11-2021_06-06-23_AM_car..txt  \n",
            "  inflating: train/labels/24-11-2021_06-06-23_AM_head..txt  \n",
            "  inflating: train/labels/24-11-2021_06-06-23_AM_human..txt  \n",
            "  inflating: train/labels/24-11-2021_06-06-27_AM_car..txt  \n",
            "  inflating: train/labels/24-11-2021_06-06-27_AM_face..txt  \n",
            "  inflating: train/labels/24-11-2021_06-06-27_AM_head..txt  \n",
            "  inflating: train/labels/24-11-2021_06-06-27_AM_human..txt  \n",
            "  inflating: train/labels/24-11-2021_06-06-44_AM_car..txt  \n",
            "  inflating: train/labels/24-11-2021_06-06-44_AM_head..txt  \n",
            "  inflating: train/labels/24-11-2021_06-06-44_AM_human..txt  \n",
            "  inflating: train/labels/24-11-2021_06-06-46_AM_car..txt  \n",
            "  inflating: train/labels/24-11-2021_06-06-46_AM_head..txt  \n",
            "  inflating: train/labels/24-11-2021_06-06-46_AM_human..txt  \n",
            "  inflating: train/labels/24-11-2021_06-06-54_AM_car..txt  \n",
            "  inflating: train/labels/24-11-2021_06-06-54_AM_head..txt  \n",
            "  inflating: train/labels/24-11-2021_06-06-54_AM_human..txt  \n",
            "  inflating: train/labels/24-11-2021_06-15-20_PM_car..txt  \n",
            "  inflating: train/labels/24-11-2021_06-15-20_PM_head..txt  \n",
            "  inflating: train/labels/24-11-2021_06-15-20_PM_human..txt  \n",
            "  inflating: train/labels/24-11-2021_06-16-12_PM_car..txt  \n",
            "  inflating: train/labels/24-11-2021_06-16-12_PM_head..txt  \n",
            "  inflating: train/labels/24-11-2021_06-16-12_PM_human..txt  \n",
            "  inflating: train/labels/24-11-2021_06-16-53_PM_face..txt  \n",
            "  inflating: train/labels/24-11-2021_06-16-53_PM_head..txt  \n",
            "  inflating: train/labels/24-11-2021_06-16-53_PM_human..txt  \n",
            "  inflating: train/labels/24-11-2021_06-16-58_PM_car..txt  \n",
            "  inflating: train/labels/24-11-2021_06-16-58_PM_face..txt  \n",
            "  inflating: train/labels/24-11-2021_06-16-58_PM_head..txt  \n",
            "  inflating: train/labels/24-11-2021_06-16-58_PM_human..txt  \n",
            "  inflating: train/labels/24-11-2021_06-17-22_PM_car..txt  \n",
            "  inflating: train/labels/24-11-2021_06-17-22_PM_head..txt  \n",
            "  inflating: train/labels/24-11-2021_06-17-22_PM_human..txt  \n",
            "  inflating: train/labels/24-11-2021_06-22-30_AM_car..txt  \n",
            "  inflating: train/labels/24-11-2021_06-22-30_AM_head..txt  \n",
            "  inflating: train/labels/24-11-2021_06-22-30_AM_human..txt  \n",
            "  inflating: train/labels/24-11-2021_06-22-47_AM_face..txt  \n",
            "  inflating: train/labels/24-11-2021_06-22-47_AM_head..txt  \n",
            "  inflating: train/labels/24-11-2021_06-22-47_AM_human..txt  \n",
            "  inflating: train/labels/24-11-2021_06-23-24_AM_car..txt  \n",
            "  inflating: train/labels/24-11-2021_06-23-24_AM_head..txt  \n",
            "  inflating: train/labels/24-11-2021_06-23-24_AM_human..txt  \n",
            "  inflating: train/labels/24-11-2021_06-23-27_AM_car..txt  \n",
            "  inflating: train/labels/24-11-2021_06-23-27_AM_face..txt  \n",
            "  inflating: train/labels/24-11-2021_06-23-27_AM_head..txt  \n",
            "  inflating: train/labels/24-11-2021_06-23-27_AM_human..txt  \n",
            "  inflating: train/labels/24-11-2021_06-23-38_AM_car..txt  \n",
            "  inflating: train/labels/24-11-2021_06-23-38_AM_face..txt  \n",
            "  inflating: train/labels/24-11-2021_06-23-38_AM_head..txt  \n",
            "  inflating: train/labels/24-11-2021_06-23-38_AM_human..txt  \n",
            "  inflating: train/labels/24-11-2021_06-24-10_AM_car..txt  \n",
            "  inflating: train/labels/24-11-2021_06-24-10_AM_head..txt  \n",
            "  inflating: train/labels/24-11-2021_06-24-10_AM_human..txt  \n",
            "  inflating: train/labels/24-11-2021_06-24-21_AM_car..txt  \n",
            "  inflating: train/labels/24-11-2021_06-24-21_AM_face..txt  \n",
            "  inflating: train/labels/24-11-2021_06-24-21_AM_head..txt  \n",
            "  inflating: train/labels/24-11-2021_06-24-21_AM_human..txt  \n",
            "  inflating: train/labels/24-11-2021_06-24-40_AM_car..txt  \n",
            "  inflating: train/labels/24-11-2021_06-24-40_AM_head..txt  \n",
            "  inflating: train/labels/24-11-2021_06-24-40_AM_human..txt  \n",
            "  inflating: train/labels/24-11-2021_06-24-47_AM_head..txt  \n",
            "  inflating: train/labels/24-11-2021_06-24-47_AM_human..txt  \n",
            "  inflating: train/labels/24-11-2021_06-24-55_AM_car..txt  \n",
            "  inflating: train/labels/24-11-2021_06-24-55_AM_head..txt  \n",
            "  inflating: train/labels/24-11-2021_06-24-55_AM_human..txt  \n",
            "  inflating: train/labels/24-11-2021_06-33-06_PM_car..txt  \n",
            "  inflating: train/labels/24-11-2021_06-33-06_PM_head..txt  \n",
            "  inflating: train/labels/24-11-2021_06-33-06_PM_human..txt  \n",
            "  inflating: train/labels/24-11-2021_06-34-18_PM_car..txt  \n",
            "  inflating: train/labels/24-11-2021_06-34-18_PM_face..txt  \n",
            "  inflating: train/labels/24-11-2021_06-34-18_PM_head..txt  \n",
            "  inflating: train/labels/24-11-2021_06-34-18_PM_human..txt  \n",
            "  inflating: train/labels/24-11-2021_06-40-23_AM_car..txt  \n",
            "  inflating: train/labels/24-11-2021_06-40-23_AM_face..txt  \n",
            "  inflating: train/labels/24-11-2021_06-40-23_AM_head..txt  \n",
            "  inflating: train/labels/24-11-2021_06-40-23_AM_human..txt  \n",
            "  inflating: train/labels/24-11-2021_06-40-40_AM_car..txt  \n",
            "  inflating: train/labels/24-11-2021_06-40-40_AM_head..txt  \n",
            "  inflating: train/labels/24-11-2021_06-40-40_AM_human..txt  \n",
            "  inflating: train/labels/24-11-2021_06-40-55_AM_car..txt  \n",
            "  inflating: train/labels/24-11-2021_06-40-55_AM_head..txt  \n",
            "  inflating: train/labels/24-11-2021_06-40-55_AM_human..txt  \n",
            "  inflating: train/labels/24-11-2021_06-41-04_AM_car..txt  \n",
            "  inflating: train/labels/24-11-2021_06-41-04_AM_head..txt  \n",
            "  inflating: train/labels/24-11-2021_06-41-04_AM_human..txt  \n",
            "  inflating: train/labels/24-11-2021_06-41-24_AM_car..txt  \n",
            "  inflating: train/labels/24-11-2021_06-41-24_AM_head..txt  \n",
            "  inflating: train/labels/24-11-2021_06-41-24_AM_human..txt  \n",
            "  inflating: train/labels/24-11-2021_06-41-53_AM_car..txt  \n",
            "  inflating: train/labels/24-11-2021_06-41-53_AM_head..txt  \n",
            "  inflating: train/labels/24-11-2021_06-41-53_AM_human..txt  \n",
            "  inflating: train/labels/24-11-2021_06-42-22_AM_car..txt  \n",
            "  inflating: train/labels/24-11-2021_06-42-22_AM_head..txt  \n",
            "  inflating: train/labels/24-11-2021_06-42-22_AM_human..txt  \n",
            "  inflating: train/labels/24-11-2021_06-42-24_AM_car..txt  \n",
            "  inflating: train/labels/24-11-2021_06-42-24_AM_face..txt  \n",
            "  inflating: train/labels/24-11-2021_06-42-24_AM_head..txt  \n",
            "  inflating: train/labels/24-11-2021_06-42-24_AM_human..txt  \n",
            "  inflating: train/labels/24-11-2021_06-42-36_AM_face..txt  \n",
            "  inflating: train/labels/24-11-2021_06-42-36_AM_head..txt  \n",
            "  inflating: train/labels/24-11-2021_06-42-36_AM_human..txt  \n",
            "  inflating: train/labels/24-11-2021_06-43-03_AM_car..txt  \n",
            "  inflating: train/labels/24-11-2021_06-43-03_AM_face..txt  \n",
            "  inflating: train/labels/24-11-2021_06-43-03_AM_head..txt  \n",
            "  inflating: train/labels/24-11-2021_06-43-03_AM_human..txt  \n",
            "  inflating: train/labels/24-11-2021_06-50-27_PM_car..txt  \n",
            "  inflating: train/labels/24-11-2021_06-50-27_PM_face..txt  \n",
            "  inflating: train/labels/24-11-2021_06-50-27_PM_head..txt  \n",
            "  inflating: train/labels/24-11-2021_06-50-27_PM_human..txt  \n",
            "  inflating: train/labels/24-11-2021_06-51-00_PM_car..txt  \n",
            "  inflating: train/labels/24-11-2021_06-51-00_PM_face..txt  \n",
            "  inflating: train/labels/24-11-2021_06-51-00_PM_head..txt  \n",
            "  inflating: train/labels/24-11-2021_06-51-00_PM_human..txt  \n",
            "  inflating: train/labels/24-11-2021_06-51-18_PM_car..txt  \n",
            "  inflating: train/labels/24-11-2021_06-51-18_PM_head..txt  \n",
            "  inflating: train/labels/24-11-2021_06-51-18_PM_human..txt  \n",
            "  inflating: train/labels/24-11-2021_06-51-36_PM_car..txt  \n",
            "  inflating: train/labels/24-11-2021_06-51-36_PM_head..txt  \n",
            "  inflating: train/labels/24-11-2021_06-51-36_PM_human..txt  \n",
            "  inflating: train/labels/24-11-2021_06-51-41_PM_car..txt  \n",
            "  inflating: train/labels/24-11-2021_06-51-41_PM_head..txt  \n",
            "  inflating: train/labels/24-11-2021_06-51-41_PM_human..txt  \n",
            "  inflating: train/labels/24-11-2021_06-52-32_PM_face..txt  \n",
            "  inflating: train/labels/24-11-2021_06-52-32_PM_head..txt  \n",
            "  inflating: train/labels/24-11-2021_06-52-32_PM_human..txt  \n",
            "  inflating: train/labels/24-11-2021_06-52-54_PM_car..txt  \n",
            "  inflating: train/labels/24-11-2021_06-52-54_PM_face..txt  \n",
            "  inflating: train/labels/24-11-2021_06-52-54_PM_head..txt  \n",
            "  inflating: train/labels/24-11-2021_06-52-54_PM_human..txt  \n",
            "  inflating: train/labels/24-11-2021_06-58-16_AM_car..txt  \n",
            "  inflating: train/labels/24-11-2021_06-58-16_AM_head..txt  \n",
            "  inflating: train/labels/24-11-2021_06-58-16_AM_human..txt  \n",
            "  inflating: train/labels/24-11-2021_06-58-19_AM_car..txt  \n",
            "  inflating: train/labels/24-11-2021_06-58-19_AM_head..txt  \n",
            "  inflating: train/labels/24-11-2021_06-58-19_AM_human..txt  \n",
            "  inflating: train/labels/24-11-2021_06-58-25_AM_car..txt  \n",
            "  inflating: train/labels/24-11-2021_06-58-25_AM_head..txt  \n",
            "  inflating: train/labels/24-11-2021_06-58-25_AM_human..txt  \n",
            "  inflating: train/labels/24-11-2021_06-58-30_AM_car..txt  \n",
            "  inflating: train/labels/24-11-2021_06-58-30_AM_head..txt  \n",
            "  inflating: train/labels/24-11-2021_06-58-30_AM_human..txt  \n",
            "  inflating: train/labels/24-11-2021_06-58-45_AM_car..txt  \n",
            "  inflating: train/labels/24-11-2021_06-58-45_AM_head..txt  \n",
            "  inflating: train/labels/24-11-2021_06-58-45_AM_human..txt  \n",
            "  inflating: train/labels/24-11-2021_06-58-48_AM_car..txt  \n",
            "  inflating: train/labels/24-11-2021_06-58-48_AM_face..txt  \n",
            "  inflating: train/labels/24-11-2021_06-58-48_AM_head..txt  \n",
            "  inflating: train/labels/24-11-2021_06-58-48_AM_human..txt  \n",
            "  inflating: train/labels/24-11-2021_07-00-12_AM_car..txt  \n",
            "  inflating: train/labels/24-11-2021_07-00-12_AM_face..txt  \n",
            "  inflating: train/labels/24-11-2021_07-00-12_AM_head..txt  \n",
            "  inflating: train/labels/24-11-2021_07-00-12_AM_human..txt  \n",
            "  inflating: train/labels/24-11-2021_07-00-14_AM_car..txt  \n",
            "  inflating: train/labels/24-11-2021_07-00-14_AM_head..txt  \n",
            "  inflating: train/labels/24-11-2021_07-00-14_AM_human..txt  \n",
            "  inflating: train/labels/24-11-2021_07-00-16_AM_head..txt  \n",
            "  inflating: train/labels/24-11-2021_07-00-16_AM_human..txt  \n",
            "  inflating: train/labels/24-11-2021_07-00-18_AM_car..txt  \n",
            "  inflating: train/labels/24-11-2021_07-00-18_AM_head..txt  \n",
            "  inflating: train/labels/24-11-2021_07-00-18_AM_human..txt  \n",
            "  inflating: train/labels/24-11-2021_07-00-25_AM_car..txt  \n",
            "  inflating: train/labels/24-11-2021_07-00-25_AM_face..txt  \n",
            "  inflating: train/labels/24-11-2021_07-00-25_AM_head..txt  \n",
            "  inflating: train/labels/24-11-2021_07-00-25_AM_human..txt  \n",
            "  inflating: train/labels/24-11-2021_07-00-41_AM_car..txt  \n",
            "  inflating: train/labels/24-11-2021_07-00-41_AM_face..txt  \n",
            "  inflating: train/labels/24-11-2021_07-00-41_AM_head..txt  \n",
            "  inflating: train/labels/24-11-2021_07-00-41_AM_human..txt  \n",
            "  inflating: train/labels/24-11-2021_07-00-46_AM_car..txt  \n",
            "  inflating: train/labels/24-11-2021_07-00-46_AM_face..txt  \n",
            "  inflating: train/labels/24-11-2021_07-00-46_AM_head..txt  \n",
            "  inflating: train/labels/24-11-2021_07-00-46_AM_human..txt  \n",
            "  inflating: train/labels/24-11-2021_07-09-11_PM_car..txt  \n",
            "  inflating: train/labels/24-11-2021_07-09-11_PM_head..txt  \n",
            "  inflating: train/labels/24-11-2021_07-09-11_PM_human..txt  \n",
            "  inflating: train/labels/24-11-2021_07-09-42_PM_car..txt  \n",
            "  inflating: train/labels/24-11-2021_07-09-42_PM_head..txt  \n",
            "  inflating: train/labels/24-11-2021_07-09-42_PM_human..txt  \n",
            "  inflating: train/labels/24-11-2021_07-10-41_PM_head..txt  \n",
            "  inflating: train/labels/24-11-2021_07-10-41_PM_human..txt  \n",
            "  inflating: train/labels/24-11-2021_07-16-32_AM_car..txt  \n",
            "  inflating: train/labels/24-11-2021_07-16-32_AM_head..txt  \n",
            "  inflating: train/labels/24-11-2021_07-16-32_AM_human..txt  \n",
            "  inflating: train/labels/24-11-2021_07-16-35_AM_car..txt  \n",
            "  inflating: train/labels/24-11-2021_07-16-35_AM_head..txt  \n",
            "  inflating: train/labels/24-11-2021_07-16-35_AM_human..txt  \n",
            "  inflating: train/labels/24-11-2021_07-16-52_AM_car..txt  \n",
            "  inflating: train/labels/24-11-2021_07-16-52_AM_face..txt  \n",
            "  inflating: train/labels/24-11-2021_07-16-52_AM_head..txt  \n",
            "  inflating: train/labels/24-11-2021_07-16-52_AM_human..txt  \n",
            "  inflating: train/labels/24-11-2021_07-17-00_AM_car..txt  \n",
            "  inflating: train/labels/24-11-2021_07-17-00_AM_head..txt  \n",
            "  inflating: train/labels/24-11-2021_07-17-00_AM_human..txt  \n",
            "  inflating: train/labels/24-11-2021_07-17-44_AM_car..txt  \n",
            "  inflating: train/labels/24-11-2021_07-17-44_AM_face..txt  \n",
            "  inflating: train/labels/24-11-2021_07-17-44_AM_head..txt  \n",
            "  inflating: train/labels/24-11-2021_07-17-44_AM_human..txt  \n",
            "  inflating: train/labels/24-11-2021_07-17-58_AM_car..txt  \n",
            "  inflating: train/labels/24-11-2021_07-17-58_AM_head..txt  \n",
            "  inflating: train/labels/24-11-2021_07-17-58_AM_human..txt  \n",
            "  inflating: train/labels/24-11-2021_07-18-14_AM_car..txt  \n",
            "  inflating: train/labels/24-11-2021_07-18-14_AM_face..txt  \n",
            "  inflating: train/labels/24-11-2021_07-18-14_AM_head..txt  \n",
            "  inflating: train/labels/24-11-2021_07-18-14_AM_human..txt  \n",
            "  inflating: train/labels/24-11-2021_07-18-33_AM_head..txt  \n",
            "  inflating: train/labels/24-11-2021_07-18-33_AM_human..txt  \n",
            "  inflating: train/labels/24-11-2021_07-18-36_AM_car..txt  \n",
            "  inflating: train/labels/24-11-2021_07-18-36_AM_face..txt  \n",
            "  inflating: train/labels/24-11-2021_07-18-36_AM_head..txt  \n",
            "  inflating: train/labels/24-11-2021_07-18-36_AM_human..txt  \n",
            "  inflating: train/labels/24-11-2021_07-18-38_AM_car..txt  \n",
            "  inflating: train/labels/24-11-2021_07-18-38_AM_face..txt  \n",
            "  inflating: train/labels/24-11-2021_07-18-38_AM_head..txt  \n",
            "  inflating: train/labels/24-11-2021_07-18-38_AM_human..txt  \n",
            "  inflating: train/labels/24-11-2021_07-26-54_PM_car..txt  \n",
            "  inflating: train/labels/24-11-2021_07-26-54_PM_head..txt  \n",
            "  inflating: train/labels/24-11-2021_07-26-54_PM_human..txt  \n",
            "  inflating: train/labels/24-11-2021_07-27-12_PM_car..txt  \n",
            "  inflating: train/labels/24-11-2021_07-27-12_PM_face..txt  \n",
            "  inflating: train/labels/24-11-2021_07-27-12_PM_head..txt  \n",
            "  inflating: train/labels/24-11-2021_07-27-12_PM_human..txt  \n",
            "  inflating: train/labels/24-11-2021_07-28-34_PM_car..txt  \n",
            "  inflating: train/labels/24-11-2021_07-28-34_PM_head..txt  \n",
            "  inflating: train/labels/24-11-2021_07-28-34_PM_human..txt  \n",
            "  inflating: train/labels/24-11-2021_07-28-43_PM_car..txt  \n",
            "  inflating: train/labels/24-11-2021_07-28-43_PM_face..txt  \n",
            "  inflating: train/labels/24-11-2021_07-28-43_PM_head..txt  \n",
            "  inflating: train/labels/24-11-2021_07-28-43_PM_human..txt  \n",
            "  inflating: train/labels/24-11-2021_07-33-52_AM_car..txt  \n",
            "  inflating: train/labels/24-11-2021_07-33-52_AM_head..txt  \n",
            "  inflating: train/labels/24-11-2021_07-33-52_AM_human..txt  \n",
            "  inflating: train/labels/24-11-2021_07-33-58_AM_car..txt  \n",
            "  inflating: train/labels/24-11-2021_07-33-58_AM_face..txt  \n",
            "  inflating: train/labels/24-11-2021_07-33-58_AM_head..txt  \n",
            "  inflating: train/labels/24-11-2021_07-33-58_AM_human..txt  \n",
            "  inflating: train/labels/24-11-2021_07-34-07_AM_car..txt  \n",
            "  inflating: train/labels/24-11-2021_07-34-07_AM_head..txt  \n",
            "  inflating: train/labels/24-11-2021_07-34-07_AM_human..txt  \n",
            "  inflating: train/labels/24-11-2021_07-34-22_AM_car..txt  \n",
            "  inflating: train/labels/24-11-2021_07-34-22_AM_head..txt  \n",
            "  inflating: train/labels/24-11-2021_07-34-22_AM_human..txt  \n",
            "  inflating: train/labels/24-11-2021_07-34-27_AM_car..txt  \n",
            "  inflating: train/labels/24-11-2021_07-34-27_AM_face..txt  \n",
            "  inflating: train/labels/24-11-2021_07-34-27_AM_head..txt  \n",
            "  inflating: train/labels/24-11-2021_07-34-27_AM_human..txt  \n",
            "  inflating: train/labels/24-11-2021_07-34-35_AM_car..txt  \n",
            "  inflating: train/labels/24-11-2021_07-34-35_AM_head..txt  \n",
            "  inflating: train/labels/24-11-2021_07-34-35_AM_human..txt  \n",
            "  inflating: train/labels/24-11-2021_07-34-59_AM_car..txt  \n",
            "  inflating: train/labels/24-11-2021_07-34-59_AM_face..txt  \n",
            "  inflating: train/labels/24-11-2021_07-34-59_AM_head..txt  \n",
            "  inflating: train/labels/24-11-2021_07-34-59_AM_human..txt  \n",
            "  inflating: train/labels/24-11-2021_07-35-54_AM_car..txt  \n",
            "  inflating: train/labels/24-11-2021_07-35-54_AM_head..txt  \n",
            "  inflating: train/labels/24-11-2021_07-35-54_AM_human..txt  \n",
            "  inflating: train/labels/24-11-2021_07-36-04_AM_head..txt  \n",
            "  inflating: train/labels/24-11-2021_07-36-04_AM_human..txt  \n",
            "  inflating: train/labels/24-11-2021_07-36-26_AM_car..txt  \n",
            "  inflating: train/labels/24-11-2021_07-36-26_AM_head..txt  \n",
            "  inflating: train/labels/24-11-2021_07-36-26_AM_human..txt  \n",
            "  inflating: train/labels/24-11-2021_07-44-26_PM_head..txt  \n",
            "  inflating: train/labels/24-11-2021_07-44-26_PM_human..txt  \n",
            "  inflating: train/labels/24-11-2021_07-51-49_AM_car..txt  \n",
            "  inflating: train/labels/24-11-2021_07-51-49_AM_head..txt  \n",
            "  inflating: train/labels/24-11-2021_07-51-49_AM_human..txt  \n",
            "  inflating: train/labels/24-11-2021_07-51-55_AM_car..txt  \n",
            "  inflating: train/labels/24-11-2021_07-51-55_AM_head..txt  \n",
            "  inflating: train/labels/24-11-2021_07-51-55_AM_human..txt  \n",
            "  inflating: train/labels/24-11-2021_07-52-00_AM_car..txt  \n",
            "  inflating: train/labels/24-11-2021_07-52-00_AM_face..txt  \n",
            "  inflating: train/labels/24-11-2021_07-52-00_AM_head..txt  \n",
            "  inflating: train/labels/24-11-2021_07-52-00_AM_human..txt  \n",
            "  inflating: train/labels/24-11-2021_07-52-03_AM_car..txt  \n",
            "  inflating: train/labels/24-11-2021_07-52-03_AM_head..txt  \n",
            "  inflating: train/labels/24-11-2021_07-52-03_AM_human..txt  \n",
            "  inflating: train/labels/24-11-2021_07-52-07_AM_car..txt  \n",
            "  inflating: train/labels/24-11-2021_07-52-07_AM_face..txt  \n",
            "  inflating: train/labels/24-11-2021_07-52-07_AM_head..txt  \n",
            "  inflating: train/labels/24-11-2021_07-52-07_AM_human..txt  \n",
            "  inflating: train/labels/24-11-2021_07-52-25_AM_car..txt  \n",
            "  inflating: train/labels/24-11-2021_07-52-25_AM_head..txt  \n",
            "  inflating: train/labels/24-11-2021_07-52-25_AM_human..txt  \n",
            "  inflating: train/labels/24-11-2021_07-52-54_AM_car..txt  \n",
            "  inflating: train/labels/24-11-2021_07-52-54_AM_head..txt  \n",
            "  inflating: train/labels/24-11-2021_07-52-54_AM_human..txt  \n",
            "  inflating: train/labels/24-11-2021_07-53-00_AM_car..txt  \n",
            "  inflating: train/labels/24-11-2021_07-53-00_AM_face..txt  \n",
            "  inflating: train/labels/24-11-2021_07-53-00_AM_head..txt  \n",
            "  inflating: train/labels/24-11-2021_07-53-00_AM_human..txt  \n",
            "  inflating: train/labels/24-11-2021_07-53-24_AM_car..txt  \n",
            "  inflating: train/labels/24-11-2021_07-53-24_AM_face..txt  \n",
            "  inflating: train/labels/24-11-2021_07-53-24_AM_head..txt  \n",
            "  inflating: train/labels/24-11-2021_07-53-24_AM_human..txt  \n",
            "  inflating: train/labels/24-11-2021_07-53-52_AM_car..txt  \n",
            "  inflating: train/labels/24-11-2021_07-53-52_AM_face..txt  \n",
            "  inflating: train/labels/24-11-2021_07-53-52_AM_head..txt  \n",
            "  inflating: train/labels/24-11-2021_07-53-52_AM_human..txt  \n",
            "  inflating: train/labels/24-11-2021_07-53-54_AM_head..txt  \n",
            "  inflating: train/labels/24-11-2021_07-53-54_AM_human..txt  \n",
            "  inflating: train/labels/24-11-2021_07-54-14_AM_car..txt  \n",
            "  inflating: train/labels/24-11-2021_07-54-14_AM_face..txt  \n",
            "  inflating: train/labels/24-11-2021_07-54-14_AM_head..txt  \n",
            "  inflating: train/labels/24-11-2021_07-54-14_AM_human..txt  \n",
            "  inflating: train/labels/24-11-2021_08-04-04_PM_car..txt  \n",
            "  inflating: train/labels/24-11-2021_08-04-04_PM_head..txt  \n",
            "  inflating: train/labels/24-11-2021_08-04-04_PM_human..txt  \n",
            "  inflating: train/labels/24-11-2021_08-04-09_PM_head..txt  \n",
            "  inflating: train/labels/24-11-2021_08-04-09_PM_human..txt  \n",
            "  inflating: train/labels/24-11-2021_08-09-36_AM_car..txt  \n",
            "  inflating: train/labels/24-11-2021_08-09-36_AM_head..txt  \n",
            "  inflating: train/labels/24-11-2021_08-09-36_AM_human..txt  \n",
            "  inflating: train/labels/24-11-2021_08-09-42_AM_car..txt  \n",
            "  inflating: train/labels/24-11-2021_08-09-42_AM_face..txt  \n",
            "  inflating: train/labels/24-11-2021_08-09-42_AM_head..txt  \n",
            "  inflating: train/labels/24-11-2021_08-09-42_AM_human..txt  \n",
            "  inflating: train/labels/24-11-2021_08-09-50_AM_car..txt  \n",
            "  inflating: train/labels/24-11-2021_08-09-50_AM_head..txt  \n",
            "  inflating: train/labels/24-11-2021_08-09-50_AM_human..txt  \n",
            "  inflating: train/labels/24-11-2021_08-09-57_AM_face..txt  \n",
            "  inflating: train/labels/24-11-2021_08-09-57_AM_head..txt  \n",
            "  inflating: train/labels/24-11-2021_08-09-57_AM_human..txt  \n",
            "  inflating: train/labels/24-11-2021_08-09-59_AM_car..txt  \n",
            "  inflating: train/labels/24-11-2021_08-09-59_AM_head..txt  \n",
            "  inflating: train/labels/24-11-2021_08-09-59_AM_human..txt  \n",
            "  inflating: train/labels/24-11-2021_08-10-08_AM_car..txt  \n",
            "  inflating: train/labels/24-11-2021_08-10-08_AM_head..txt  \n",
            "  inflating: train/labels/24-11-2021_08-10-08_AM_human..txt  \n",
            "  inflating: train/labels/24-11-2021_08-10-44_AM_car..txt  \n",
            "  inflating: train/labels/24-11-2021_08-10-44_AM_head..txt  \n",
            "  inflating: train/labels/24-11-2021_08-10-44_AM_human..txt  \n",
            "  inflating: train/labels/24-11-2021_08-11-19_AM_car..txt  \n",
            "  inflating: train/labels/24-11-2021_08-11-19_AM_face..txt  \n",
            "  inflating: train/labels/24-11-2021_08-11-19_AM_head..txt  \n",
            "  inflating: train/labels/24-11-2021_08-11-19_AM_human..txt  \n",
            "  inflating: train/labels/24-11-2021_08-11-33_AM_car..txt  \n",
            "  inflating: train/labels/24-11-2021_08-11-33_AM_head..txt  \n",
            "  inflating: train/labels/24-11-2021_08-11-33_AM_human..txt  \n",
            "  inflating: train/labels/24-11-2021_08-12-09_AM_car..txt  \n",
            "  inflating: train/labels/24-11-2021_08-12-09_AM_face..txt  \n",
            "  inflating: train/labels/24-11-2021_08-12-09_AM_head..txt  \n",
            "  inflating: train/labels/24-11-2021_08-12-09_AM_human..txt  \n",
            "  inflating: train/labels/24-11-2021_08-19-41_PM_car..txt  \n",
            "  inflating: train/labels/24-11-2021_08-19-41_PM_face..txt  \n",
            "  inflating: train/labels/24-11-2021_08-19-41_PM_head..txt  \n",
            "  inflating: train/labels/24-11-2021_08-19-41_PM_human..txt  \n",
            "  inflating: train/labels/24-11-2021_08-27-25_AM_car..txt  \n",
            "  inflating: train/labels/24-11-2021_08-27-25_AM_face..txt  \n",
            "  inflating: train/labels/24-11-2021_08-27-25_AM_head..txt  \n",
            "  inflating: train/labels/24-11-2021_08-27-25_AM_human..txt  \n",
            "  inflating: train/labels/24-11-2021_08-27-28_AM_car..txt  \n",
            "  inflating: train/labels/24-11-2021_08-27-28_AM_head..txt  \n",
            "  inflating: train/labels/24-11-2021_08-27-28_AM_human..txt  \n",
            "  inflating: train/labels/24-11-2021_08-27-31_AM_car..txt  \n",
            "  inflating: train/labels/24-11-2021_08-27-31_AM_head..txt  \n",
            "  inflating: train/labels/24-11-2021_08-27-31_AM_human..txt  \n",
            "  inflating: train/labels/24-11-2021_08-27-42_AM_car..txt  \n",
            "  inflating: train/labels/24-11-2021_08-27-42_AM_head..txt  \n",
            "  inflating: train/labels/24-11-2021_08-27-42_AM_human..txt  \n",
            "  inflating: train/labels/24-11-2021_08-28-05_AM_car..txt  \n",
            "  inflating: train/labels/24-11-2021_08-28-05_AM_head..txt  \n",
            "  inflating: train/labels/24-11-2021_08-28-05_AM_human..txt  \n",
            "  inflating: train/labels/24-11-2021_08-28-12_AM_car..txt  \n",
            "  inflating: train/labels/24-11-2021_08-28-12_AM_head..txt  \n",
            "  inflating: train/labels/24-11-2021_08-28-12_AM_human..txt  \n",
            "  inflating: train/labels/24-11-2021_08-28-26_AM_car..txt  \n",
            "  inflating: train/labels/24-11-2021_08-28-26_AM_head..txt  \n",
            "  inflating: train/labels/24-11-2021_08-28-26_AM_human..txt  \n",
            "  inflating: train/labels/24-11-2021_08-28-33_AM_car..txt  \n",
            "  inflating: train/labels/24-11-2021_08-28-33_AM_head..txt  \n",
            "  inflating: train/labels/24-11-2021_08-28-33_AM_human..txt  \n",
            "  inflating: train/labels/24-11-2021_08-28-36_AM_car..txt  \n",
            "  inflating: train/labels/24-11-2021_08-28-36_AM_face..txt  \n",
            "  inflating: train/labels/24-11-2021_08-28-36_AM_head..txt  \n",
            "  inflating: train/labels/24-11-2021_08-28-36_AM_human..txt  \n",
            "  inflating: train/labels/24-11-2021_08-28-43_AM_car..txt  \n",
            "  inflating: train/labels/24-11-2021_08-28-43_AM_head..txt  \n",
            "  inflating: train/labels/24-11-2021_08-28-43_AM_human..txt  \n",
            "  inflating: train/labels/24-11-2021_08-28-57_AM_car..txt  \n",
            "  inflating: train/labels/24-11-2021_08-28-57_AM_face..txt  \n",
            "  inflating: train/labels/24-11-2021_08-28-57_AM_head..txt  \n",
            "  inflating: train/labels/24-11-2021_08-28-57_AM_human..txt  \n",
            "  inflating: train/labels/24-11-2021_08-29-28_AM_car..txt  \n",
            "  inflating: train/labels/24-11-2021_08-29-28_AM_head..txt  \n",
            "  inflating: train/labels/24-11-2021_08-29-28_AM_human..txt  \n",
            "  inflating: train/labels/24-11-2021_08-29-34_AM_car..txt  \n",
            "  inflating: train/labels/24-11-2021_08-29-34_AM_head..txt  \n",
            "  inflating: train/labels/24-11-2021_08-29-34_AM_human..txt  \n",
            "  inflating: train/labels/24-11-2021_08-29-47_AM_face..txt  \n",
            "  inflating: train/labels/24-11-2021_08-29-47_AM_head..txt  \n",
            "  inflating: train/labels/24-11-2021_08-29-47_AM_human..txt  \n",
            "  inflating: train/labels/24-11-2021_08-29-49_AM_car..txt  \n",
            "  inflating: train/labels/24-11-2021_08-29-49_AM_face..txt  \n",
            "  inflating: train/labels/24-11-2021_08-29-49_AM_head..txt  \n",
            "  inflating: train/labels/24-11-2021_08-29-49_AM_human..txt  \n",
            "  inflating: train/labels/24-11-2021_08-29-54_AM_car..txt  \n",
            "  inflating: train/labels/24-11-2021_08-29-54_AM_face..txt  \n",
            "  inflating: train/labels/24-11-2021_08-29-54_AM_head..txt  \n",
            "  inflating: train/labels/24-11-2021_08-29-54_AM_human..txt  \n",
            "  inflating: train/labels/24-11-2021_08-29-56_AM_car..txt  \n",
            "  inflating: train/labels/24-11-2021_08-29-56_AM_head..txt  \n",
            "  inflating: train/labels/24-11-2021_08-29-56_AM_human..txt  \n",
            "  inflating: train/labels/24-11-2021_08-38-01_PM_car..txt  \n",
            "  inflating: train/labels/24-11-2021_08-38-01_PM_head..txt  \n",
            "  inflating: train/labels/24-11-2021_08-38-01_PM_human..txt  \n",
            "  inflating: train/labels/24-11-2021_08-45-10_AM_car..txt  \n",
            "  inflating: train/labels/24-11-2021_08-45-10_AM_head..txt  \n",
            "  inflating: train/labels/24-11-2021_08-45-10_AM_human..txt  \n",
            "  inflating: train/labels/24-11-2021_08-45-22_AM_car..txt  \n",
            "  inflating: train/labels/24-11-2021_08-45-22_AM_head..txt  \n",
            "  inflating: train/labels/24-11-2021_08-45-22_AM_human..txt  \n",
            "  inflating: train/labels/24-11-2021_08-45-42_AM_car..txt  \n",
            "  inflating: train/labels/24-11-2021_08-45-42_AM_face..txt  \n",
            "  inflating: train/labels/24-11-2021_08-45-42_AM_head..txt  \n",
            "  inflating: train/labels/24-11-2021_08-45-42_AM_human..txt  \n",
            "  inflating: train/labels/24-11-2021_08-46-02_AM_car..txt  \n",
            "  inflating: train/labels/24-11-2021_08-46-02_AM_head..txt  \n",
            "  inflating: train/labels/24-11-2021_08-46-02_AM_human..txt  \n",
            "  inflating: train/labels/24-11-2021_08-46-06_AM_car..txt  \n",
            "  inflating: train/labels/24-11-2021_08-46-06_AM_face..txt  \n",
            "  inflating: train/labels/24-11-2021_08-46-06_AM_head..txt  \n",
            "  inflating: train/labels/24-11-2021_08-46-06_AM_human..txt  \n",
            "  inflating: train/labels/24-11-2021_08-46-10_AM_car..txt  \n",
            "  inflating: train/labels/24-11-2021_08-46-10_AM_face..txt  \n",
            "  inflating: train/labels/24-11-2021_08-46-10_AM_head..txt  \n",
            "  inflating: train/labels/24-11-2021_08-46-10_AM_human..txt  \n",
            "  inflating: train/labels/24-11-2021_08-46-20_AM_car..txt  \n",
            "  inflating: train/labels/24-11-2021_08-46-20_AM_head..txt  \n",
            "  inflating: train/labels/24-11-2021_08-46-20_AM_human..txt  \n",
            "  inflating: train/labels/24-11-2021_08-47-07_AM_car..txt  \n",
            "  inflating: train/labels/24-11-2021_08-47-07_AM_face..txt  \n",
            "  inflating: train/labels/24-11-2021_08-47-07_AM_head..txt  \n",
            "  inflating: train/labels/24-11-2021_08-47-07_AM_human..txt  \n",
            "  inflating: train/labels/24-11-2021_08-47-14_AM_car..txt  \n",
            "  inflating: train/labels/24-11-2021_08-47-14_AM_head..txt  \n",
            "  inflating: train/labels/24-11-2021_08-47-14_AM_human..txt  \n",
            "  inflating: train/labels/24-11-2021_08-47-22_AM_head..txt  \n",
            "  inflating: train/labels/24-11-2021_08-47-22_AM_human..txt  \n",
            "  inflating: train/labels/24-11-2021_08-47-33_AM_car..txt  \n",
            "  inflating: train/labels/24-11-2021_08-47-33_AM_face..txt  \n",
            "  inflating: train/labels/24-11-2021_08-47-33_AM_head..txt  \n",
            "  inflating: train/labels/24-11-2021_08-47-33_AM_human..txt  \n",
            "  inflating: train/labels/24-11-2021_08-47-41_AM_car..txt  \n",
            "  inflating: train/labels/24-11-2021_08-47-41_AM_head..txt  \n",
            "  inflating: train/labels/24-11-2021_08-47-41_AM_human..txt  \n",
            "  inflating: train/labels/24-11-2021_08-47-47_AM_car..txt  \n",
            "  inflating: train/labels/24-11-2021_08-47-47_AM_face..txt  \n",
            "  inflating: train/labels/24-11-2021_08-47-47_AM_head..txt  \n",
            "  inflating: train/labels/24-11-2021_08-47-47_AM_human..txt  \n",
            "  inflating: train/labels/24-11-2021_08-55-59_PM_car..txt  \n",
            "  inflating: train/labels/24-11-2021_08-55-59_PM_head..txt  \n",
            "  inflating: train/labels/24-11-2021_08-55-59_PM_human..txt  \n",
            "  inflating: train/labels/24-11-2021_08-57-42_PM_car..txt  \n",
            "  inflating: train/labels/24-11-2021_08-57-42_PM_head..txt  \n",
            "  inflating: train/labels/24-11-2021_08-57-42_PM_human..txt  \n",
            "  inflating: train/labels/24-11-2021_09-03-16_AM_car..txt  \n",
            "  inflating: train/labels/24-11-2021_09-03-16_AM_head..txt  \n",
            "  inflating: train/labels/24-11-2021_09-03-16_AM_human..txt  \n",
            "  inflating: train/labels/24-11-2021_09-03-18_AM_car..txt  \n",
            "  inflating: train/labels/24-11-2021_09-03-18_AM_face..txt  \n",
            "  inflating: train/labels/24-11-2021_09-03-18_AM_head..txt  \n",
            "  inflating: train/labels/24-11-2021_09-03-18_AM_human..txt  \n",
            "  inflating: train/labels/24-11-2021_09-04-27_AM_car..txt  \n",
            "  inflating: train/labels/24-11-2021_09-04-27_AM_face..txt  \n",
            "  inflating: train/labels/24-11-2021_09-04-27_AM_head..txt  \n",
            "  inflating: train/labels/24-11-2021_09-04-27_AM_human..txt  \n",
            "  inflating: train/labels/24-11-2021_09-04-53_AM_face..txt  \n",
            "  inflating: train/labels/24-11-2021_09-04-53_AM_head..txt  \n",
            "  inflating: train/labels/24-11-2021_09-04-53_AM_human..txt  \n",
            "  inflating: train/labels/24-11-2021_09-05-07_AM_car..txt  \n",
            "  inflating: train/labels/24-11-2021_09-05-07_AM_face..txt  \n",
            "  inflating: train/labels/24-11-2021_09-05-07_AM_head..txt  \n",
            "  inflating: train/labels/24-11-2021_09-05-07_AM_human..txt  \n",
            "  inflating: train/labels/24-11-2021_09-05-09_AM_head..txt  \n",
            "  inflating: train/labels/24-11-2021_09-05-09_AM_human..txt  \n",
            "  inflating: train/labels/24-11-2021_09-05-37_AM_car..txt  \n",
            "  inflating: train/labels/24-11-2021_09-05-37_AM_face..txt  \n",
            "  inflating: train/labels/24-11-2021_09-05-37_AM_head..txt  \n",
            "  inflating: train/labels/24-11-2021_09-05-37_AM_human..txt  \n",
            "  inflating: train/labels/24-11-2021_09-13-14_PM_car..txt  \n",
            "  inflating: train/labels/24-11-2021_09-13-14_PM_head..txt  \n",
            "  inflating: train/labels/24-11-2021_09-13-14_PM_human..txt  \n",
            "  inflating: train/labels/24-11-2021_09-20-45_AM_car..txt  \n",
            "  inflating: train/labels/24-11-2021_09-20-45_AM_head..txt  \n",
            "  inflating: train/labels/24-11-2021_09-20-45_AM_human..txt  \n",
            "  inflating: train/labels/24-11-2021_09-20-51_AM_car..txt  \n",
            "  inflating: train/labels/24-11-2021_09-20-51_AM_head..txt  \n",
            "  inflating: train/labels/24-11-2021_09-20-51_AM_human..txt  \n",
            "  inflating: train/labels/24-11-2021_09-21-06_AM_car..txt  \n",
            "  inflating: train/labels/24-11-2021_09-21-06_AM_head..txt  \n",
            "  inflating: train/labels/24-11-2021_09-21-06_AM_human..txt  \n",
            "  inflating: train/labels/24-11-2021_09-21-22_AM_car..txt  \n",
            "  inflating: train/labels/24-11-2021_09-21-22_AM_face..txt  \n",
            "  inflating: train/labels/24-11-2021_09-21-22_AM_head..txt  \n",
            "  inflating: train/labels/24-11-2021_09-21-22_AM_human..txt  \n",
            "  inflating: train/labels/24-11-2021_09-22-00_AM_car..txt  \n",
            "  inflating: train/labels/24-11-2021_09-22-00_AM_head..txt  \n",
            "  inflating: train/labels/24-11-2021_09-22-00_AM_human..txt  \n",
            "  inflating: train/labels/24-11-2021_09-22-13_AM_car..txt  \n",
            "  inflating: train/labels/24-11-2021_09-22-13_AM_head..txt  \n",
            "  inflating: train/labels/24-11-2021_09-22-13_AM_human..txt  \n",
            "  inflating: train/labels/24-11-2021_09-22-33_AM_car..txt  \n",
            "  inflating: train/labels/24-11-2021_09-22-33_AM_head..txt  \n",
            "  inflating: train/labels/24-11-2021_09-22-33_AM_human..txt  \n",
            "  inflating: train/labels/24-11-2021_09-22-46_AM_car..txt  \n",
            "  inflating: train/labels/24-11-2021_09-22-46_AM_head..txt  \n",
            "  inflating: train/labels/24-11-2021_09-22-46_AM_human..txt  \n",
            "  inflating: train/labels/24-11-2021_09-22-53_AM_car..txt  \n",
            "  inflating: train/labels/24-11-2021_09-22-53_AM_head..txt  \n",
            "  inflating: train/labels/24-11-2021_09-22-53_AM_human..txt  \n",
            "  inflating: train/labels/24-11-2021_09-22-55_AM_car..txt  \n",
            "  inflating: train/labels/24-11-2021_09-22-55_AM_head..txt  \n",
            "  inflating: train/labels/24-11-2021_09-22-55_AM_human..txt  \n",
            "  inflating: train/labels/24-11-2021_09-23-00_AM_car..txt  \n",
            "  inflating: train/labels/24-11-2021_09-23-00_AM_head..txt  \n",
            "  inflating: train/labels/24-11-2021_09-23-00_AM_human..txt  \n",
            "  inflating: train/labels/24-11-2021_09-23-21_AM_car..txt  \n",
            "  inflating: train/labels/24-11-2021_09-23-21_AM_head..txt  \n",
            "  inflating: train/labels/24-11-2021_09-23-21_AM_human..txt  \n",
            "  inflating: train/labels/24-11-2021_09-38-34_AM_car..txt  \n",
            "  inflating: train/labels/24-11-2021_09-38-34_AM_head..txt  \n",
            "  inflating: train/labels/24-11-2021_09-38-34_AM_human..txt  \n",
            "  inflating: train/labels/24-11-2021_09-38-37_AM_car..txt  \n",
            "  inflating: train/labels/24-11-2021_09-38-37_AM_head..txt  \n",
            "  inflating: train/labels/24-11-2021_09-38-37_AM_human..txt  \n",
            "  inflating: train/labels/24-11-2021_09-38-48_AM_car..txt  \n",
            "  inflating: train/labels/24-11-2021_09-38-48_AM_head..txt  \n",
            "  inflating: train/labels/24-11-2021_09-38-48_AM_human..txt  \n",
            "  inflating: train/labels/24-11-2021_09-38-58_AM_car..txt  \n",
            "  inflating: train/labels/24-11-2021_09-38-58_AM_face..txt  \n",
            "  inflating: train/labels/24-11-2021_09-38-58_AM_head..txt  \n",
            "  inflating: train/labels/24-11-2021_09-38-58_AM_human..txt  \n",
            "  inflating: train/labels/24-11-2021_09-39-14_AM_car..txt  \n",
            "  inflating: train/labels/24-11-2021_09-39-14_AM_face..txt  \n",
            "  inflating: train/labels/24-11-2021_09-39-14_AM_head..txt  \n",
            "  inflating: train/labels/24-11-2021_09-39-14_AM_human..txt  \n",
            "  inflating: train/labels/24-11-2021_09-39-54_AM_car..txt  \n",
            "  inflating: train/labels/24-11-2021_09-39-54_AM_head..txt  \n",
            "  inflating: train/labels/24-11-2021_09-39-54_AM_human..txt  \n",
            "  inflating: train/labels/24-11-2021_09-40-37_AM_car..txt  \n",
            "  inflating: train/labels/24-11-2021_09-40-37_AM_head..txt  \n",
            "  inflating: train/labels/24-11-2021_09-40-37_AM_human..txt  \n",
            "  inflating: train/labels/24-11-2021_09-40-42_AM_car..txt  \n",
            "  inflating: train/labels/24-11-2021_09-40-42_AM_face..txt  \n",
            "  inflating: train/labels/24-11-2021_09-40-42_AM_head..txt  \n",
            "  inflating: train/labels/24-11-2021_09-40-42_AM_human..txt  \n",
            "  inflating: train/labels/24-11-2021_09-40-48_AM_car..txt  \n",
            "  inflating: train/labels/24-11-2021_09-40-48_AM_head..txt  \n",
            "  inflating: train/labels/24-11-2021_09-40-48_AM_human..txt  \n",
            "  inflating: train/labels/24-11-2021_09-41-08_AM_car..txt  \n",
            "  inflating: train/labels/24-11-2021_09-41-08_AM_face..txt  \n",
            "  inflating: train/labels/24-11-2021_09-41-08_AM_head..txt  \n",
            "  inflating: train/labels/24-11-2021_09-41-08_AM_human..txt  \n",
            "  inflating: train/labels/24-11-2021_09-48-43_PM_car..txt  \n",
            "  inflating: train/labels/24-11-2021_09-48-43_PM_face..txt  \n",
            "  inflating: train/labels/24-11-2021_09-48-43_PM_head..txt  \n",
            "  inflating: train/labels/24-11-2021_09-48-43_PM_human..txt  \n",
            "  inflating: train/labels/24-11-2021_09-49-23_PM_car..txt  \n",
            "  inflating: train/labels/24-11-2021_09-49-23_PM_head..txt  \n",
            "  inflating: train/labels/24-11-2021_09-49-23_PM_human..txt  \n",
            "  inflating: train/labels/24-11-2021_09-56-20_AM_car..txt  \n",
            "  inflating: train/labels/24-11-2021_09-56-20_AM_head..txt  \n",
            "  inflating: train/labels/24-11-2021_09-56-20_AM_human..txt  \n",
            "  inflating: train/labels/24-11-2021_09-56-57_AM_car..txt  \n",
            "  inflating: train/labels/24-11-2021_09-56-57_AM_face..txt  \n",
            "  inflating: train/labels/24-11-2021_09-56-57_AM_head..txt  \n",
            "  inflating: train/labels/24-11-2021_09-56-57_AM_human..txt  \n",
            "  inflating: train/labels/24-11-2021_09-56-59_AM_car..txt  \n",
            "  inflating: train/labels/24-11-2021_09-56-59_AM_head..txt  \n",
            "  inflating: train/labels/24-11-2021_09-56-59_AM_human..txt  \n",
            "  inflating: train/labels/24-11-2021_09-57-02_AM_car..txt  \n",
            "  inflating: train/labels/24-11-2021_09-57-02_AM_head..txt  \n",
            "  inflating: train/labels/24-11-2021_09-57-02_AM_human..txt  \n",
            "  inflating: train/labels/24-11-2021_09-57-08_AM_car..txt  \n",
            "  inflating: train/labels/24-11-2021_09-57-08_AM_head..txt  \n",
            "  inflating: train/labels/24-11-2021_09-57-08_AM_human..txt  \n",
            "  inflating: train/labels/24-11-2021_09-57-28_AM_car..txt  \n",
            "  inflating: train/labels/24-11-2021_09-57-28_AM_head..txt  \n",
            "  inflating: train/labels/24-11-2021_09-57-28_AM_human..txt  \n",
            "  inflating: train/labels/24-11-2021_09-57-36_AM_car..txt  \n",
            "  inflating: train/labels/24-11-2021_09-57-36_AM_face..txt  \n",
            "  inflating: train/labels/24-11-2021_09-57-36_AM_head..txt  \n",
            "  inflating: train/labels/24-11-2021_09-57-36_AM_human..txt  \n",
            "  inflating: train/labels/24-11-2021_09-57-44_AM_car..txt  \n",
            "  inflating: train/labels/24-11-2021_09-57-44_AM_face..txt  \n",
            "  inflating: train/labels/24-11-2021_09-57-44_AM_head..txt  \n",
            "  inflating: train/labels/24-11-2021_09-57-44_AM_human..txt  \n",
            "  inflating: train/labels/24-11-2021_09-58-06_AM_car..txt  \n",
            "  inflating: train/labels/24-11-2021_09-58-06_AM_face..txt  \n",
            "  inflating: train/labels/24-11-2021_09-58-06_AM_head..txt  \n",
            "  inflating: train/labels/24-11-2021_09-58-06_AM_human..txt  \n",
            "  inflating: train/labels/24-11-2021_09-58-29_AM_car..txt  \n",
            "  inflating: train/labels/24-11-2021_09-58-29_AM_face..txt  \n",
            "  inflating: train/labels/24-11-2021_09-58-29_AM_head..txt  \n",
            "  inflating: train/labels/24-11-2021_09-58-29_AM_human..txt  \n",
            "  inflating: train/labels/24-11-2021_09-58-32_AM_car..txt  \n",
            "  inflating: train/labels/24-11-2021_09-58-32_AM_face..txt  \n",
            "  inflating: train/labels/24-11-2021_09-58-32_AM_head..txt  \n",
            "  inflating: train/labels/24-11-2021_09-58-32_AM_human..txt  \n",
            "  inflating: train/labels/24-11-2021_09-58-34_AM_car..txt  \n",
            "  inflating: train/labels/24-11-2021_09-58-34_AM_face..txt  \n",
            "  inflating: train/labels/24-11-2021_09-58-34_AM_head..txt  \n",
            "  inflating: train/labels/24-11-2021_09-58-34_AM_human..txt  \n",
            "  inflating: train/labels/24-11-2021_09-58-58_AM_car..txt  \n",
            "  inflating: train/labels/24-11-2021_09-58-58_AM_head..txt  \n",
            "  inflating: train/labels/24-11-2021_09-58-58_AM_human..txt  \n",
            "  inflating: train/labels/24-11-2021_09-59-01_AM_car..txt  \n",
            "  inflating: train/labels/24-11-2021_09-59-01_AM_face..txt  \n",
            "  inflating: train/labels/24-11-2021_09-59-01_AM_head..txt  \n",
            "  inflating: train/labels/24-11-2021_09-59-01_AM_human..txt  \n",
            "  inflating: train/labels/24-11-2021_10-14-44_AM_car..txt  \n",
            "  inflating: train/labels/24-11-2021_10-14-44_AM_head..txt  \n",
            "  inflating: train/labels/24-11-2021_10-14-44_AM_human..txt  \n",
            "  inflating: train/labels/24-11-2021_10-14-49_AM_car..txt  \n",
            "  inflating: train/labels/24-11-2021_10-14-49_AM_head..txt  \n",
            "  inflating: train/labels/24-11-2021_10-14-49_AM_human..txt  \n",
            "  inflating: train/labels/24-11-2021_10-15-14_AM_car..txt  \n",
            "  inflating: train/labels/24-11-2021_10-15-14_AM_head..txt  \n",
            "  inflating: train/labels/24-11-2021_10-15-14_AM_human..txt  \n",
            "  inflating: train/labels/24-11-2021_10-15-28_AM_car..txt  \n",
            "  inflating: train/labels/24-11-2021_10-15-28_AM_face..txt  \n",
            "  inflating: train/labels/24-11-2021_10-15-28_AM_head..txt  \n",
            "  inflating: train/labels/24-11-2021_10-15-28_AM_human..txt  \n",
            "  inflating: train/labels/24-11-2021_10-16-46_AM_car..txt  \n",
            "  inflating: train/labels/24-11-2021_10-16-46_AM_head..txt  \n",
            "  inflating: train/labels/24-11-2021_10-16-46_AM_human..txt  \n",
            "  inflating: train/labels/24-11-2021_10-16-49_AM_car..txt  \n",
            "  inflating: train/labels/24-11-2021_10-16-49_AM_head..txt  \n",
            "  inflating: train/labels/24-11-2021_10-16-49_AM_human..txt  \n",
            "  inflating: train/labels/24-11-2021_10-16-55_AM_car..txt  \n",
            "  inflating: train/labels/24-11-2021_10-16-55_AM_face..txt  \n",
            "  inflating: train/labels/24-11-2021_10-16-55_AM_head..txt  \n",
            "  inflating: train/labels/24-11-2021_10-16-55_AM_human..txt  \n",
            "  inflating: train/labels/24-11-2021_10-31-58_AM_car..txt  \n",
            "  inflating: train/labels/24-11-2021_10-31-58_AM_head..txt  \n",
            "  inflating: train/labels/24-11-2021_10-31-58_AM_human..txt  \n",
            "  inflating: train/labels/24-11-2021_10-32-09_AM_car..txt  \n",
            "  inflating: train/labels/24-11-2021_10-32-09_AM_head..txt  \n",
            "  inflating: train/labels/24-11-2021_10-32-09_AM_human..txt  \n",
            "  inflating: train/labels/24-11-2021_10-32-37_AM_car..txt  \n",
            "  inflating: train/labels/24-11-2021_10-32-37_AM_face..txt  \n",
            "  inflating: train/labels/24-11-2021_10-32-37_AM_head..txt  \n",
            "  inflating: train/labels/24-11-2021_10-32-37_AM_human..txt  \n",
            "  inflating: train/labels/24-11-2021_10-32-42_AM_car..txt  \n",
            "  inflating: train/labels/24-11-2021_10-32-42_AM_head..txt  \n",
            "  inflating: train/labels/24-11-2021_10-32-42_AM_human..txt  \n",
            "  inflating: train/labels/24-11-2021_10-32-54_AM_car..txt  \n",
            "  inflating: train/labels/24-11-2021_10-32-54_AM_head..txt  \n",
            "  inflating: train/labels/24-11-2021_10-32-54_AM_human..txt  \n",
            "  inflating: train/labels/24-11-2021_10-33-05_AM_car..txt  \n",
            "  inflating: train/labels/24-11-2021_10-33-05_AM_head..txt  \n",
            "  inflating: train/labels/24-11-2021_10-33-05_AM_human..txt  \n",
            "  inflating: train/labels/24-11-2021_10-33-19_AM_car..txt  \n",
            "  inflating: train/labels/24-11-2021_10-33-19_AM_face..txt  \n",
            "  inflating: train/labels/24-11-2021_10-33-19_AM_head..txt  \n",
            "  inflating: train/labels/24-11-2021_10-33-19_AM_human..txt  \n",
            "  inflating: train/labels/24-11-2021_10-33-22_AM_car..txt  \n",
            "  inflating: train/labels/24-11-2021_10-33-22_AM_face..txt  \n",
            "  inflating: train/labels/24-11-2021_10-33-22_AM_head..txt  \n",
            "  inflating: train/labels/24-11-2021_10-33-22_AM_human..txt  \n",
            "  inflating: train/labels/24-11-2021_10-33-25_AM_car..txt  \n",
            "  inflating: train/labels/24-11-2021_10-33-25_AM_face..txt  \n",
            "  inflating: train/labels/24-11-2021_10-33-25_AM_head..txt  \n",
            "  inflating: train/labels/24-11-2021_10-33-25_AM_human..txt  \n",
            "  inflating: train/labels/24-11-2021_10-33-32_AM_car..txt  \n",
            "  inflating: train/labels/24-11-2021_10-33-32_AM_head..txt  \n",
            "  inflating: train/labels/24-11-2021_10-33-32_AM_human..txt  \n",
            "  inflating: train/labels/24-11-2021_10-33-36_AM_car..txt  \n",
            "  inflating: train/labels/24-11-2021_10-33-36_AM_head..txt  \n",
            "  inflating: train/labels/24-11-2021_10-33-36_AM_human..txt  \n",
            "  inflating: train/labels/24-11-2021_10-33-43_AM_car..txt  \n",
            "  inflating: train/labels/24-11-2021_10-33-43_AM_face..txt  \n",
            "  inflating: train/labels/24-11-2021_10-33-43_AM_head..txt  \n",
            "  inflating: train/labels/24-11-2021_10-33-43_AM_human..txt  \n",
            "  inflating: train/labels/24-11-2021_10-34-05_AM_car..txt  \n",
            "  inflating: train/labels/24-11-2021_10-34-05_AM_face..txt  \n",
            "  inflating: train/labels/24-11-2021_10-34-05_AM_head..txt  \n",
            "  inflating: train/labels/24-11-2021_10-34-05_AM_human..txt  \n",
            "  inflating: train/labels/24-11-2021_10-34-08_AM_car..txt  \n",
            "  inflating: train/labels/24-11-2021_10-34-08_AM_head..txt  \n",
            "  inflating: train/labels/24-11-2021_10-34-08_AM_human..txt  \n",
            "  inflating: train/labels/24-11-2021_10-34-10_AM_car..txt  \n",
            "  inflating: train/labels/24-11-2021_10-34-10_AM_head..txt  \n",
            "  inflating: train/labels/24-11-2021_10-34-10_AM_human..txt  \n",
            "  inflating: train/labels/24-11-2021_10-34-14_AM_car..txt  \n",
            "  inflating: train/labels/24-11-2021_10-34-14_AM_head..txt  \n",
            "  inflating: train/labels/24-11-2021_10-34-14_AM_human..txt  \n",
            "  inflating: train/labels/24-11-2021_10-34-18_AM_head..txt  \n",
            "  inflating: train/labels/24-11-2021_10-34-18_AM_human..txt  \n",
            "  inflating: train/labels/24-11-2021_10-34-20_AM_car..txt  \n",
            "  inflating: train/labels/24-11-2021_10-34-20_AM_head..txt  \n",
            "  inflating: train/labels/24-11-2021_10-34-20_AM_human..txt  \n",
            "  inflating: train/labels/24-11-2021_10-34-27_AM_face..txt  \n",
            "  inflating: train/labels/24-11-2021_10-34-27_AM_head..txt  \n",
            "  inflating: train/labels/24-11-2021_10-34-27_AM_human..txt  \n",
            "  inflating: train/labels/24-11-2021_10-34-36_AM_car..txt  \n",
            "  inflating: train/labels/24-11-2021_10-34-36_AM_face..txt  \n",
            "  inflating: train/labels/24-11-2021_10-34-36_AM_head..txt  \n",
            "  inflating: train/labels/24-11-2021_10-34-36_AM_human..txt  \n",
            "  inflating: train/labels/24-11-2021_10-34-39_AM_car..txt  \n",
            "  inflating: train/labels/24-11-2021_10-34-39_AM_face..txt  \n",
            "  inflating: train/labels/24-11-2021_10-34-39_AM_head..txt  \n",
            "  inflating: train/labels/24-11-2021_10-34-39_AM_human..txt  \n",
            "  inflating: train/labels/24-11-2021_10-43-15_PM_car..txt  \n",
            "  inflating: train/labels/24-11-2021_10-43-15_PM_face..txt  \n",
            "  inflating: train/labels/24-11-2021_10-43-15_PM_head..txt  \n",
            "  inflating: train/labels/24-11-2021_10-43-15_PM_human..txt  \n",
            "  inflating: train/labels/24-11-2021_10-49-52_AM_car..txt  \n",
            "  inflating: train/labels/24-11-2021_10-49-52_AM_head..txt  \n",
            "  inflating: train/labels/24-11-2021_10-49-52_AM_human..txt  \n",
            "  inflating: train/labels/24-11-2021_10-49-56_AM_car..txt  \n",
            "  inflating: train/labels/24-11-2021_10-49-56_AM_head..txt  \n",
            "  inflating: train/labels/24-11-2021_10-49-56_AM_human..txt  \n",
            "  inflating: train/labels/24-11-2021_10-50-09_AM_face..txt  \n",
            "  inflating: train/labels/24-11-2021_10-50-09_AM_head..txt  \n",
            "  inflating: train/labels/24-11-2021_10-50-09_AM_human..txt  \n",
            "  inflating: train/labels/24-11-2021_10-50-16_AM_car..txt  \n",
            "  inflating: train/labels/24-11-2021_10-50-16_AM_head..txt  \n",
            "  inflating: train/labels/24-11-2021_10-50-16_AM_human..txt  \n",
            "  inflating: train/labels/24-11-2021_10-50-24_AM_car..txt  \n",
            "  inflating: train/labels/24-11-2021_10-50-24_AM_face..txt  \n",
            "  inflating: train/labels/24-11-2021_10-50-24_AM_head..txt  \n",
            "  inflating: train/labels/24-11-2021_10-50-24_AM_human..txt  \n",
            "  inflating: train/labels/24-11-2021_10-50-29_AM_car..txt  \n",
            "  inflating: train/labels/24-11-2021_10-50-29_AM_face..txt  \n",
            "  inflating: train/labels/24-11-2021_10-50-29_AM_head..txt  \n",
            "  inflating: train/labels/24-11-2021_10-50-29_AM_human..txt  \n",
            "  inflating: train/labels/24-11-2021_10-50-37_AM_car..txt  \n",
            "  inflating: train/labels/24-11-2021_10-50-37_AM_head..txt  \n",
            "  inflating: train/labels/24-11-2021_10-50-37_AM_human..txt  \n",
            "  inflating: train/labels/24-11-2021_10-50-55_AM_car..txt  \n",
            "  inflating: train/labels/24-11-2021_10-50-55_AM_head..txt  \n",
            "  inflating: train/labels/24-11-2021_10-50-55_AM_human..txt  \n",
            "  inflating: train/labels/24-11-2021_10-51-02_AM_car..txt  \n",
            "  inflating: train/labels/24-11-2021_10-51-02_AM_head..txt  \n",
            "  inflating: train/labels/24-11-2021_10-51-02_AM_human..txt  \n",
            "  inflating: train/labels/24-11-2021_10-51-08_AM_car..txt  \n",
            "  inflating: train/labels/24-11-2021_10-51-08_AM_face..txt  \n",
            "  inflating: train/labels/24-11-2021_10-51-08_AM_head..txt  \n",
            "  inflating: train/labels/24-11-2021_10-51-08_AM_human..txt  \n",
            "  inflating: train/labels/24-11-2021_10-51-12_AM_car..txt  \n",
            "  inflating: train/labels/24-11-2021_10-51-12_AM_head..txt  \n",
            "  inflating: train/labels/24-11-2021_10-51-12_AM_human..txt  \n",
            "  inflating: train/labels/24-11-2021_10-51-24_AM_car..txt  \n",
            "  inflating: train/labels/24-11-2021_10-51-24_AM_head..txt  \n",
            "  inflating: train/labels/24-11-2021_10-51-24_AM_human..txt  \n",
            "  inflating: train/labels/24-11-2021_10-51-27_AM_car..txt  \n",
            "  inflating: train/labels/24-11-2021_10-51-27_AM_head..txt  \n",
            "  inflating: train/labels/24-11-2021_10-51-27_AM_human..txt  \n",
            "  inflating: train/labels/24-11-2021_10-51-33_AM_car..txt  \n",
            "  inflating: train/labels/24-11-2021_10-51-33_AM_head..txt  \n",
            "  inflating: train/labels/24-11-2021_10-51-33_AM_human..txt  \n",
            "  inflating: train/labels/24-11-2021_10-51-47_AM_car..txt  \n",
            "  inflating: train/labels/24-11-2021_10-51-47_AM_head..txt  \n",
            "  inflating: train/labels/24-11-2021_10-51-47_AM_human..txt  \n",
            "  inflating: train/labels/24-11-2021_10-51-50_AM_car..txt  \n",
            "  inflating: train/labels/24-11-2021_10-51-50_AM_head..txt  \n",
            "  inflating: train/labels/24-11-2021_10-51-50_AM_human..txt  \n",
            "  inflating: train/labels/24-11-2021_10-51-58_AM_car..txt  \n",
            "  inflating: train/labels/24-11-2021_10-51-58_AM_face..txt  \n",
            "  inflating: train/labels/24-11-2021_10-51-58_AM_head..txt  \n",
            "  inflating: train/labels/24-11-2021_10-51-58_AM_human..txt  \n",
            "  inflating: train/labels/24-11-2021_10-52-02_AM_car..txt  \n",
            "  inflating: train/labels/24-11-2021_10-52-02_AM_face..txt  \n",
            "  inflating: train/labels/24-11-2021_10-52-02_AM_head..txt  \n",
            "  inflating: train/labels/24-11-2021_10-52-02_AM_human..txt  \n",
            "  inflating: train/labels/24-11-2021_10-52-29_AM_car..txt  \n",
            "  inflating: train/labels/24-11-2021_10-52-29_AM_head..txt  \n",
            "  inflating: train/labels/24-11-2021_10-52-29_AM_human..txt  \n",
            "  inflating: train/labels/24-11-2021_11-08-07_AM_car..txt  \n",
            "  inflating: train/labels/24-11-2021_11-08-07_AM_face..txt  \n",
            "  inflating: train/labels/24-11-2021_11-08-07_AM_head..txt  \n",
            "  inflating: train/labels/24-11-2021_11-08-07_AM_human..txt  \n",
            "  inflating: train/labels/24-11-2021_11-08-39_AM_car..txt  \n",
            "  inflating: train/labels/24-11-2021_11-08-39_AM_face..txt  \n",
            "  inflating: train/labels/24-11-2021_11-08-39_AM_head..txt  \n",
            "  inflating: train/labels/24-11-2021_11-08-39_AM_human..txt  \n",
            "  inflating: train/labels/24-11-2021_11-08-46_AM_car..txt  \n",
            "  inflating: train/labels/24-11-2021_11-08-46_AM_head..txt  \n",
            "  inflating: train/labels/24-11-2021_11-08-46_AM_human..txt  \n",
            "  inflating: train/labels/24-11-2021_11-08-48_AM_car..txt  \n",
            "  inflating: train/labels/24-11-2021_11-08-48_AM_face..txt  \n",
            "  inflating: train/labels/24-11-2021_11-08-48_AM_head..txt  \n",
            "  inflating: train/labels/24-11-2021_11-08-48_AM_human..txt  \n",
            "  inflating: train/labels/24-11-2021_11-08-51_AM_car..txt  \n",
            "  inflating: train/labels/24-11-2021_11-08-51_AM_head..txt  \n",
            "  inflating: train/labels/24-11-2021_11-08-51_AM_human..txt  \n",
            "  inflating: train/labels/24-11-2021_11-08-54_AM_car..txt  \n",
            "  inflating: train/labels/24-11-2021_11-08-54_AM_head..txt  \n",
            "  inflating: train/labels/24-11-2021_11-08-54_AM_human..txt  \n",
            "  inflating: train/labels/24-11-2021_11-09-02_AM_car..txt  \n",
            "  inflating: train/labels/24-11-2021_11-09-02_AM_face..txt  \n",
            "  inflating: train/labels/24-11-2021_11-09-02_AM_head..txt  \n",
            "  inflating: train/labels/24-11-2021_11-09-02_AM_human..txt  \n",
            "  inflating: train/labels/24-11-2021_11-09-41_AM_car..txt  \n",
            "  inflating: train/labels/24-11-2021_11-09-41_AM_face..txt  \n",
            "  inflating: train/labels/24-11-2021_11-09-41_AM_head..txt  \n",
            "  inflating: train/labels/24-11-2021_11-09-41_AM_human..txt  \n",
            "  inflating: train/labels/24-11-2021_11-09-46_AM_car..txt  \n",
            "  inflating: train/labels/24-11-2021_11-09-46_AM_head..txt  \n",
            "  inflating: train/labels/24-11-2021_11-09-46_AM_human..txt  \n",
            "  inflating: train/labels/24-11-2021_11-09-48_AM_car..txt  \n",
            "  inflating: train/labels/24-11-2021_11-09-48_AM_face..txt  \n",
            "  inflating: train/labels/24-11-2021_11-09-48_AM_head..txt  \n",
            "  inflating: train/labels/24-11-2021_11-09-48_AM_human..txt  \n",
            "  inflating: train/labels/24-11-2021_11-09-51_AM_car..txt  \n",
            "  inflating: train/labels/24-11-2021_11-09-51_AM_head..txt  \n",
            "  inflating: train/labels/24-11-2021_11-09-51_AM_human..txt  \n",
            "  inflating: train/labels/24-11-2021_11-09-56_AM_car..txt  \n",
            "  inflating: train/labels/24-11-2021_11-09-56_AM_head..txt  \n",
            "  inflating: train/labels/24-11-2021_11-09-56_AM_human..txt  \n",
            "  inflating: train/labels/24-11-2021_11-10-11_AM_car..txt  \n",
            "  inflating: train/labels/24-11-2021_11-10-11_AM_head..txt  \n",
            "  inflating: train/labels/24-11-2021_11-10-11_AM_human..txt  \n",
            "  inflating: train/labels/24-11-2021_11-10-13_AM_car..txt  \n",
            "  inflating: train/labels/24-11-2021_11-10-15_AM_car..txt  \n",
            "  inflating: train/labels/24-11-2021_11-10-15_AM_head..txt  \n",
            "  inflating: train/labels/24-11-2021_11-10-15_AM_human..txt  \n",
            "  inflating: train/labels/24-11-2021_11-10-19_AM_car..txt  \n",
            "  inflating: train/labels/24-11-2021_11-10-19_AM_face..txt  \n",
            "  inflating: train/labels/24-11-2021_11-10-19_AM_head..txt  \n",
            "  inflating: train/labels/24-11-2021_11-10-19_AM_human..txt  \n",
            "  inflating: train/labels/24-11-2021_11-25-31_AM_car..txt  \n",
            "  inflating: train/labels/24-11-2021_11-25-31_AM_face..txt  \n",
            "  inflating: train/labels/24-11-2021_11-25-31_AM_head..txt  \n",
            "  inflating: train/labels/24-11-2021_11-25-31_AM_human..txt  \n",
            "  inflating: train/labels/24-11-2021_11-25-59_AM_car..txt  \n",
            "  inflating: train/labels/24-11-2021_11-25-59_AM_face..txt  \n",
            "  inflating: train/labels/24-11-2021_11-25-59_AM_head..txt  \n",
            "  inflating: train/labels/24-11-2021_11-25-59_AM_human..txt  \n",
            "  inflating: train/labels/24-11-2021_11-26-12_AM_car..txt  \n",
            "  inflating: train/labels/24-11-2021_11-26-12_AM_face..txt  \n",
            "  inflating: train/labels/24-11-2021_11-26-12_AM_head..txt  \n",
            "  inflating: train/labels/24-11-2021_11-26-12_AM_human..txt  \n",
            "  inflating: train/labels/24-11-2021_11-26-33_AM_car..txt  \n",
            "  inflating: train/labels/24-11-2021_11-26-33_AM_face..txt  \n",
            "  inflating: train/labels/24-11-2021_11-26-33_AM_head..txt  \n",
            "  inflating: train/labels/24-11-2021_11-26-33_AM_human..txt  \n",
            "  inflating: train/labels/24-11-2021_11-27-09_AM_car..txt  \n",
            "  inflating: train/labels/24-11-2021_11-27-09_AM_face..txt  \n",
            "  inflating: train/labels/24-11-2021_11-27-09_AM_head..txt  \n",
            "  inflating: train/labels/24-11-2021_11-27-09_AM_human..txt  \n",
            "  inflating: train/labels/24-11-2021_11-27-19_AM_face..txt  \n",
            "  inflating: train/labels/24-11-2021_11-27-19_AM_head..txt  \n",
            "  inflating: train/labels/24-11-2021_11-27-19_AM_human..txt  \n",
            "  inflating: train/labels/24-11-2021_11-27-22_AM_car..txt  \n",
            "  inflating: train/labels/24-11-2021_11-27-22_AM_head..txt  \n",
            "  inflating: train/labels/24-11-2021_11-27-22_AM_human..txt  \n",
            "  inflating: train/labels/24-11-2021_11-27-26_AM_car..txt  \n",
            "  inflating: train/labels/24-11-2021_11-27-26_AM_head..txt  \n",
            "  inflating: train/labels/24-11-2021_11-27-26_AM_human..txt  \n",
            "  inflating: train/labels/24-11-2021_11-27-32_AM_car..txt  \n",
            "  inflating: train/labels/24-11-2021_11-27-32_AM_face..txt  \n",
            "  inflating: train/labels/24-11-2021_11-27-32_AM_head..txt  \n",
            "  inflating: train/labels/24-11-2021_11-27-32_AM_human..txt  \n",
            "  inflating: train/labels/24-11-2021_11-27-38_AM_car..txt  \n",
            "  inflating: train/labels/24-11-2021_11-27-38_AM_face..txt  \n",
            "  inflating: train/labels/24-11-2021_11-27-38_AM_head..txt  \n",
            "  inflating: train/labels/24-11-2021_11-27-38_AM_human..txt  \n",
            "  inflating: train/labels/24-11-2021_11-27-44_AM_car..txt  \n",
            "  inflating: train/labels/24-11-2021_11-27-44_AM_face..txt  \n",
            "  inflating: train/labels/24-11-2021_11-27-44_AM_head..txt  \n",
            "  inflating: train/labels/24-11-2021_11-27-44_AM_human..txt  \n",
            "  inflating: train/labels/24-11-2021_11-27-49_AM_head..txt  \n",
            "  inflating: train/labels/24-11-2021_11-27-49_AM_human..txt  \n",
            "  inflating: train/labels/24-11-2021_11-27-55_AM_car..txt  \n",
            "  inflating: train/labels/24-11-2021_11-27-55_AM_head..txt  \n",
            "  inflating: train/labels/24-11-2021_11-27-55_AM_human..txt  \n",
            "  inflating: train/labels/24-11-2021_11-43-26_AM_car..txt  \n",
            "  inflating: train/labels/24-11-2021_11-43-26_AM_head..txt  \n",
            "  inflating: train/labels/24-11-2021_11-43-26_AM_human..txt  \n",
            "  inflating: train/labels/24-11-2021_11-43-29_AM_car..txt  \n",
            "  inflating: train/labels/24-11-2021_11-43-29_AM_face..txt  \n",
            "  inflating: train/labels/24-11-2021_11-43-29_AM_head..txt  \n",
            "  inflating: train/labels/24-11-2021_11-43-29_AM_human..txt  \n",
            "  inflating: train/labels/24-11-2021_11-43-36_AM_car..txt  \n",
            "  inflating: train/labels/24-11-2021_11-43-36_AM_face..txt  \n",
            "  inflating: train/labels/24-11-2021_11-43-36_AM_head..txt  \n",
            "  inflating: train/labels/24-11-2021_11-43-36_AM_human..txt  \n",
            "  inflating: train/labels/24-11-2021_11-43-44_AM_car..txt  \n",
            "  inflating: train/labels/24-11-2021_11-43-44_AM_head..txt  \n",
            "  inflating: train/labels/24-11-2021_11-43-44_AM_human..txt  \n",
            "  inflating: train/labels/24-11-2021_11-43-47_AM_car..txt  \n",
            "  inflating: train/labels/24-11-2021_11-43-47_AM_face..txt  \n",
            "  inflating: train/labels/24-11-2021_11-43-47_AM_head..txt  \n",
            "  inflating: train/labels/24-11-2021_11-43-47_AM_human..txt  \n",
            "  inflating: train/labels/24-11-2021_11-43-49_AM_car..txt  \n",
            "  inflating: train/labels/24-11-2021_11-43-49_AM_head..txt  \n",
            "  inflating: train/labels/24-11-2021_11-43-49_AM_human..txt  \n",
            "  inflating: train/labels/24-11-2021_11-43-55_AM_car..txt  \n",
            "  inflating: train/labels/24-11-2021_11-43-55_AM_head..txt  \n",
            "  inflating: train/labels/24-11-2021_11-43-55_AM_human..txt  \n",
            "  inflating: train/labels/24-11-2021_11-44-32_AM_car..txt  \n",
            "  inflating: train/labels/24-11-2021_11-44-32_AM_face..txt  \n",
            "  inflating: train/labels/24-11-2021_11-44-32_AM_head..txt  \n",
            "  inflating: train/labels/24-11-2021_11-44-32_AM_human..txt  \n",
            "  inflating: train/labels/24-11-2021_11-45-01_AM_car..txt  \n",
            "  inflating: train/labels/24-11-2021_11-45-01_AM_face..txt  \n",
            "  inflating: train/labels/24-11-2021_11-45-01_AM_head..txt  \n",
            "  inflating: train/labels/24-11-2021_11-45-01_AM_human..txt  \n",
            "  inflating: train/labels/24-11-2021_11-45-18_AM_car..txt  \n",
            "  inflating: train/labels/24-11-2021_11-45-18_AM_face..txt  \n",
            "  inflating: train/labels/24-11-2021_11-45-18_AM_head..txt  \n",
            "  inflating: train/labels/24-11-2021_11-45-18_AM_human..txt  \n",
            "  inflating: train/labels/24-11-2021_11-45-25_AM_car..txt  \n",
            "  inflating: train/labels/24-11-2021_11-45-25_AM_head..txt  \n",
            "  inflating: train/labels/24-11-2021_11-45-25_AM_human..txt  \n",
            "  inflating: train/labels/24-11-2021_11-45-32_AM_face..txt  \n",
            "  inflating: train/labels/24-11-2021_11-45-32_AM_head..txt  \n",
            "  inflating: train/labels/24-11-2021_11-45-32_AM_human..txt  \n",
            "  inflating: train/labels/24-11-2021_11-45-55_AM_car..txt  \n",
            "  inflating: train/labels/24-11-2021_11-45-55_AM_face..txt  \n",
            "  inflating: train/labels/24-11-2021_11-45-55_AM_head..txt  \n",
            "  inflating: train/labels/24-11-2021_11-45-55_AM_human..txt  \n",
            "  inflating: train/labels/24-11-2021_12-01-08_PM_car..txt  \n",
            "  inflating: train/labels/24-11-2021_12-01-08_PM_face..txt  \n",
            "  inflating: train/labels/24-11-2021_12-01-08_PM_head..txt  \n",
            "  inflating: train/labels/24-11-2021_12-01-08_PM_human..txt  \n",
            "  inflating: train/labels/24-11-2021_12-01-14_PM_car..txt  \n",
            "  inflating: train/labels/24-11-2021_12-01-14_PM_face..txt  \n",
            "  inflating: train/labels/24-11-2021_12-01-14_PM_head..txt  \n",
            "  inflating: train/labels/24-11-2021_12-01-14_PM_human..txt  \n",
            "  inflating: train/labels/24-11-2021_12-01-28_PM_car..txt  \n",
            "  inflating: train/labels/24-11-2021_12-01-28_PM_face..txt  \n",
            "  inflating: train/labels/24-11-2021_12-01-28_PM_head..txt  \n",
            "  inflating: train/labels/24-11-2021_12-01-28_PM_human..txt  \n",
            "  inflating: train/labels/24-11-2021_12-01-32_PM_car..txt  \n",
            "  inflating: train/labels/24-11-2021_12-01-32_PM_head..txt  \n",
            "  inflating: train/labels/24-11-2021_12-01-32_PM_human..txt  \n",
            "  inflating: train/labels/24-11-2021_12-01-36_PM_car..txt  \n",
            "  inflating: train/labels/24-11-2021_12-01-36_PM_head..txt  \n",
            "  inflating: train/labels/24-11-2021_12-01-36_PM_human..txt  \n",
            "  inflating: train/labels/24-11-2021_12-01-59_PM_car..txt  \n",
            "  inflating: train/labels/24-11-2021_12-01-59_PM_head..txt  \n",
            "  inflating: train/labels/24-11-2021_12-01-59_PM_human..txt  \n",
            "  inflating: train/labels/24-11-2021_12-02-05_PM_car..txt  \n",
            "  inflating: train/labels/24-11-2021_12-02-05_PM_head..txt  \n",
            "  inflating: train/labels/24-11-2021_12-02-05_PM_human..txt  \n",
            "  inflating: train/labels/24-11-2021_12-03-10_PM_car..txt  \n",
            "  inflating: train/labels/24-11-2021_12-03-10_PM_face..txt  \n",
            "  inflating: train/labels/24-11-2021_12-03-10_PM_head..txt  \n",
            "  inflating: train/labels/24-11-2021_12-03-10_PM_human..txt  \n",
            "  inflating: train/labels/24-11-2021_12-03-18_PM_car..txt  \n",
            "  inflating: train/labels/24-11-2021_12-03-18_PM_face..txt  \n",
            "  inflating: train/labels/24-11-2021_12-03-18_PM_head..txt  \n",
            "  inflating: train/labels/24-11-2021_12-03-18_PM_human..txt  \n",
            "  inflating: train/labels/24-11-2021_12-03-50_PM_car..txt  \n",
            "  inflating: train/labels/24-11-2021_12-03-50_PM_face..txt  \n",
            "  inflating: train/labels/24-11-2021_12-03-50_PM_head..txt  \n",
            "  inflating: train/labels/24-11-2021_12-03-50_PM_human..txt  \n",
            "  inflating: train/labels/24-11-2021_12-19-08_PM_car..txt  \n",
            "  inflating: train/labels/24-11-2021_12-19-08_PM_face..txt  \n",
            "  inflating: train/labels/24-11-2021_12-19-08_PM_head..txt  \n",
            "  inflating: train/labels/24-11-2021_12-19-08_PM_human..txt  \n",
            "  inflating: train/labels/24-11-2021_12-19-48_PM_car..txt  \n",
            "  inflating: train/labels/24-11-2021_12-19-48_PM_face..txt  \n",
            "  inflating: train/labels/24-11-2021_12-19-48_PM_head..txt  \n",
            "  inflating: train/labels/24-11-2021_12-19-48_PM_human..txt  \n",
            "  inflating: train/labels/24-11-2021_12-19-55_PM_car..txt  \n",
            "  inflating: train/labels/24-11-2021_12-19-55_PM_face..txt  \n",
            "  inflating: train/labels/24-11-2021_12-19-55_PM_head..txt  \n",
            "  inflating: train/labels/24-11-2021_12-19-55_PM_human..txt  \n",
            "  inflating: train/labels/24-11-2021_12-20-34_PM_car..txt  \n",
            "  inflating: train/labels/24-11-2021_12-20-34_PM_head..txt  \n",
            "  inflating: train/labels/24-11-2021_12-20-34_PM_human..txt  \n",
            "  inflating: train/labels/24-11-2021_12-20-40_PM_car..txt  \n",
            "  inflating: train/labels/24-11-2021_12-20-40_PM_head..txt  \n",
            "  inflating: train/labels/24-11-2021_12-20-40_PM_human..txt  \n",
            "  inflating: train/labels/24-11-2021_12-21-06_PM_car..txt  \n",
            "  inflating: train/labels/24-11-2021_12-21-06_PM_face..txt  \n",
            "  inflating: train/labels/24-11-2021_12-21-06_PM_head..txt  \n",
            "  inflating: train/labels/24-11-2021_12-21-06_PM_human..txt  \n",
            "  inflating: train/labels/24-11-2021_12-21-12_PM_head..txt  \n",
            "  inflating: train/labels/24-11-2021_12-21-12_PM_human..txt  \n",
            "  inflating: train/labels/24-11-2021_12-21-14_PM_car..txt  \n",
            "  inflating: train/labels/24-11-2021_12-21-14_PM_head..txt  \n",
            "  inflating: train/labels/24-11-2021_12-21-14_PM_human..txt  \n",
            "  inflating: train/labels/24-11-2021_12-21-38_PM_car..txt  \n",
            "  inflating: train/labels/24-11-2021_12-37-06_PM_car..txt  \n",
            "  inflating: train/labels/24-11-2021_12-37-06_PM_head..txt  \n",
            "  inflating: train/labels/24-11-2021_12-37-06_PM_human..txt  \n",
            "  inflating: train/labels/24-11-2021_12-37-08_PM_car..txt  \n",
            "  inflating: train/labels/24-11-2021_12-37-08_PM_face..txt  \n",
            "  inflating: train/labels/24-11-2021_12-37-08_PM_head..txt  \n",
            "  inflating: train/labels/24-11-2021_12-37-08_PM_human..txt  \n",
            "  inflating: train/labels/24-11-2021_12-37-19_PM_car..txt  \n",
            "  inflating: train/labels/24-11-2021_12-37-19_PM_face..txt  \n",
            "  inflating: train/labels/24-11-2021_12-37-19_PM_head..txt  \n",
            "  inflating: train/labels/24-11-2021_12-37-19_PM_human..txt  \n",
            "  inflating: train/labels/24-11-2021_12-38-01_PM_car..txt  \n",
            "  inflating: train/labels/24-11-2021_12-38-01_PM_face..txt  \n",
            "  inflating: train/labels/24-11-2021_12-38-01_PM_head..txt  \n",
            "  inflating: train/labels/24-11-2021_12-38-01_PM_human..txt  \n",
            "  inflating: train/labels/24-11-2021_12-38-42_PM_car..txt  \n",
            "  inflating: train/labels/24-11-2021_12-38-42_PM_head..txt  \n",
            "  inflating: train/labels/24-11-2021_12-38-42_PM_human..txt  \n",
            "  inflating: train/labels/24-11-2021_12-38-50_PM_face..txt  \n",
            "  inflating: train/labels/24-11-2021_12-38-50_PM_head..txt  \n",
            "  inflating: train/labels/24-11-2021_12-38-50_PM_human..txt  \n",
            "  inflating: train/labels/24-11-2021_12-39-03_PM_car..txt  \n",
            "  inflating: train/labels/24-11-2021_12-39-03_PM_head..txt  \n",
            "  inflating: train/labels/24-11-2021_12-39-03_PM_human..txt  \n",
            "  inflating: train/labels/24-11-2021_12-39-15_PM_car..txt  \n",
            "  inflating: train/labels/24-11-2021_12-39-15_PM_face..txt  \n",
            "  inflating: train/labels/24-11-2021_12-39-15_PM_head..txt  \n",
            "  inflating: train/labels/24-11-2021_12-39-15_PM_human..txt  \n",
            "  inflating: train/labels/24-11-2021_12-39-27_PM_car..txt  \n",
            "  inflating: train/labels/24-11-2021_12-39-27_PM_head..txt  \n",
            "  inflating: train/labels/24-11-2021_12-39-27_PM_human..txt  \n",
            "  inflating: train/labels/24-11-2021_12-39-30_PM_car..txt  \n",
            "  inflating: train/labels/24-11-2021_12-39-30_PM_head..txt  \n",
            "  inflating: train/labels/24-11-2021_12-39-30_PM_human..txt  \n",
            "  inflating: train/labels/24-11-2021_12-55-09_PM_car..txt  \n",
            "  inflating: train/labels/24-11-2021_12-55-09_PM_face..txt  \n",
            "  inflating: train/labels/24-11-2021_12-55-09_PM_head..txt  \n",
            "  inflating: train/labels/24-11-2021_12-55-09_PM_human..txt  \n",
            "  inflating: train/labels/24-11-2021_12-55-18_PM_car..txt  \n",
            "  inflating: train/labels/24-11-2021_12-55-18_PM_face..txt  \n",
            "  inflating: train/labels/24-11-2021_12-55-18_PM_head..txt  \n",
            "  inflating: train/labels/24-11-2021_12-55-18_PM_human..txt  \n",
            "  inflating: train/labels/24-11-2021_12-55-24_PM_car..txt  \n",
            "  inflating: train/labels/24-11-2021_12-55-24_PM_face..txt  \n",
            "  inflating: train/labels/24-11-2021_12-55-24_PM_head..txt  \n",
            "  inflating: train/labels/24-11-2021_12-55-24_PM_human..txt  \n",
            "  inflating: train/labels/24-11-2021_12-55-30_PM_car..txt  \n",
            "  inflating: train/labels/24-11-2021_12-55-30_PM_head..txt  \n",
            "  inflating: train/labels/24-11-2021_12-55-30_PM_human..txt  \n",
            "  inflating: train/labels/24-11-2021_12-55-42_PM_car..txt  \n",
            "  inflating: train/labels/24-11-2021_12-55-42_PM_face..txt  \n",
            "  inflating: train/labels/24-11-2021_12-55-42_PM_head..txt  \n",
            "  inflating: train/labels/24-11-2021_12-55-42_PM_human..txt  \n",
            "  inflating: train/labels/24-11-2021_12-55-47_PM_car..txt  \n",
            "  inflating: train/labels/24-11-2021_12-55-47_PM_head..txt  \n",
            "  inflating: train/labels/24-11-2021_12-55-47_PM_human..txt  \n",
            "  inflating: train/labels/24-11-2021_12-55-50_PM_car..txt  \n",
            "  inflating: train/labels/24-11-2021_12-55-50_PM_head..txt  \n",
            "  inflating: train/labels/24-11-2021_12-55-50_PM_human..txt  \n",
            "  inflating: train/labels/24-11-2021_12-56-15_PM_car..txt  \n",
            "  inflating: train/labels/24-11-2021_12-56-15_PM_head..txt  \n",
            "  inflating: train/labels/24-11-2021_12-56-15_PM_human..txt  \n",
            "  inflating: train/labels/24-11-2021_12-56-37_PM_head..txt  \n",
            "  inflating: train/labels/24-11-2021_12-56-37_PM_human..txt  \n",
            "  inflating: train/labels/24-11-2021_12-56-59_PM_car..txt  \n",
            "  inflating: train/labels/24-11-2021_12-56-59_PM_face..txt  \n",
            "  inflating: train/labels/24-11-2021_12-56-59_PM_head..txt  \n",
            "  inflating: train/labels/24-11-2021_12-56-59_PM_human..txt  \n",
            "  inflating: train/labels/25-11-2021_01-18-16_PM_car..txt  \n",
            "  inflating: train/labels/25-11-2021_01-18-16_PM_face..txt  \n",
            "  inflating: train/labels/25-11-2021_01-18-16_PM_head..txt  \n",
            "  inflating: train/labels/25-11-2021_01-18-16_PM_human..txt  \n",
            "  inflating: train/labels/25-11-2021_01-18-30_PM_car..txt  \n",
            "  inflating: train/labels/25-11-2021_01-18-30_PM_head..txt  \n",
            "  inflating: train/labels/25-11-2021_01-18-30_PM_human..txt  \n",
            "  inflating: train/labels/25-11-2021_01-18-44_PM_car..txt  \n",
            "  inflating: train/labels/25-11-2021_01-18-44_PM_head..txt  \n",
            "  inflating: train/labels/25-11-2021_01-18-44_PM_human..txt  \n",
            "  inflating: train/labels/25-11-2021_01-18-57_PM_car..txt  \n",
            "  inflating: train/labels/25-11-2021_01-18-57_PM_head..txt  \n",
            "  inflating: train/labels/25-11-2021_01-18-57_PM_human..txt  \n",
            "  inflating: train/labels/25-11-2021_01-19-16_PM_car..txt  \n",
            "  inflating: train/labels/25-11-2021_01-19-16_PM_face..txt  \n",
            "  inflating: train/labels/25-11-2021_01-19-16_PM_head..txt  \n",
            "  inflating: train/labels/25-11-2021_01-19-16_PM_human..txt  \n",
            "  inflating: train/labels/25-11-2021_01-19-26_PM_car..txt  \n",
            "  inflating: train/labels/25-11-2021_01-19-26_PM_head..txt  \n",
            "  inflating: train/labels/25-11-2021_01-19-26_PM_human..txt  \n",
            "  inflating: train/labels/25-11-2021_01-19-34_PM_car..txt  \n",
            "  inflating: train/labels/25-11-2021_01-19-34_PM_head..txt  \n",
            "  inflating: train/labels/25-11-2021_01-19-34_PM_human..txt  \n",
            "  inflating: train/labels/25-11-2021_01-20-03_PM_car..txt  \n",
            "  inflating: train/labels/25-11-2021_01-20-03_PM_head..txt  \n",
            "  inflating: train/labels/25-11-2021_01-20-03_PM_human..txt  \n",
            "  inflating: train/labels/25-11-2021_01-20-18_PM_car..txt  \n",
            "  inflating: train/labels/25-11-2021_01-20-18_PM_face..txt  \n",
            "  inflating: train/labels/25-11-2021_01-20-18_PM_head..txt  \n",
            "  inflating: train/labels/25-11-2021_01-20-18_PM_human..txt  \n",
            "  inflating: train/labels/25-11-2021_01-20-25_PM_car..txt  \n",
            "  inflating: train/labels/25-11-2021_01-20-25_PM_face..txt  \n",
            "  inflating: train/labels/25-11-2021_01-20-25_PM_head..txt  \n",
            "  inflating: train/labels/25-11-2021_01-20-25_PM_human..txt  \n",
            "  inflating: train/labels/25-11-2021_01-20-47_PM_car..txt  \n",
            "  inflating: train/labels/25-11-2021_01-20-47_PM_head..txt  \n",
            "  inflating: train/labels/25-11-2021_01-20-47_PM_human..txt  \n",
            "  inflating: train/labels/25-11-2021_01-36-17_PM_car..txt  \n",
            "  inflating: train/labels/25-11-2021_01-36-17_PM_head..txt  \n",
            "  inflating: train/labels/25-11-2021_01-36-17_PM_human..txt  \n",
            "  inflating: train/labels/25-11-2021_01-36-24_PM_car..txt  \n",
            "  inflating: train/labels/25-11-2021_01-36-24_PM_head..txt  \n",
            "  inflating: train/labels/25-11-2021_01-36-24_PM_human..txt  \n",
            "  inflating: train/labels/25-11-2021_01-37-14_PM_car..txt  \n",
            "  inflating: train/labels/25-11-2021_01-37-14_PM_face..txt  \n",
            "  inflating: train/labels/25-11-2021_01-37-14_PM_head..txt  \n",
            "  inflating: train/labels/25-11-2021_01-37-14_PM_human..txt  \n",
            "  inflating: train/labels/25-11-2021_01-37-25_PM_car..txt  \n",
            "  inflating: train/labels/25-11-2021_01-37-25_PM_head..txt  \n",
            "  inflating: train/labels/25-11-2021_01-37-25_PM_human..txt  \n",
            "  inflating: train/labels/25-11-2021_01-37-29_PM_car..txt  \n",
            "  inflating: train/labels/25-11-2021_01-37-29_PM_face..txt  \n",
            "  inflating: train/labels/25-11-2021_01-37-29_PM_head..txt  \n",
            "  inflating: train/labels/25-11-2021_01-37-29_PM_human..txt  \n",
            "  inflating: train/labels/25-11-2021_01-37-35_PM_car..txt  \n",
            "  inflating: train/labels/25-11-2021_01-37-35_PM_head..txt  \n",
            "  inflating: train/labels/25-11-2021_01-37-35_PM_human..txt  \n",
            "  inflating: train/labels/25-11-2021_01-38-00_PM_car..txt  \n",
            "  inflating: train/labels/25-11-2021_01-38-00_PM_head..txt  \n",
            "  inflating: train/labels/25-11-2021_01-38-00_PM_human..txt  \n",
            "  inflating: train/labels/25-11-2021_01-38-04_PM_car..txt  \n",
            "  inflating: train/labels/25-11-2021_01-38-04_PM_face..txt  \n",
            "  inflating: train/labels/25-11-2021_01-38-04_PM_head..txt  \n",
            "  inflating: train/labels/25-11-2021_01-38-04_PM_human..txt  \n",
            "  inflating: train/labels/25-11-2021_01-38-28_PM_car..txt  \n",
            "  inflating: train/labels/25-11-2021_01-38-28_PM_head..txt  \n",
            "  inflating: train/labels/25-11-2021_01-38-28_PM_human..txt  \n",
            "  inflating: train/labels/25-11-2021_01-38-43_PM_car..txt  \n",
            "  inflating: train/labels/25-11-2021_01-38-43_PM_face..txt  \n",
            "  inflating: train/labels/25-11-2021_01-38-43_PM_head..txt  \n",
            "  inflating: train/labels/25-11-2021_01-38-43_PM_human..txt  \n",
            "  inflating: train/labels/25-11-2021_01-38-49_PM_car..txt  \n",
            "  inflating: train/labels/25-11-2021_01-38-49_PM_head..txt  \n",
            "  inflating: train/labels/25-11-2021_01-38-49_PM_human..txt  \n",
            "  inflating: train/labels/25-11-2021_01-38-56_PM_car..txt  \n",
            "  inflating: train/labels/25-11-2021_01-38-56_PM_head..txt  \n",
            "  inflating: train/labels/25-11-2021_01-38-56_PM_human..txt  \n",
            "  inflating: train/labels/25-11-2021_01-54-18_PM_car..txt  \n",
            "  inflating: train/labels/25-11-2021_01-54-18_PM_head..txt  \n",
            "  inflating: train/labels/25-11-2021_01-54-18_PM_human..txt  \n",
            "  inflating: train/labels/25-11-2021_01-54-26_PM_car..txt  \n",
            "  inflating: train/labels/25-11-2021_01-54-26_PM_head..txt  \n",
            "  inflating: train/labels/25-11-2021_01-54-26_PM_human..txt  \n",
            "  inflating: train/labels/25-11-2021_01-54-32_PM_car..txt  \n",
            "  inflating: train/labels/25-11-2021_01-54-32_PM_head..txt  \n",
            "  inflating: train/labels/25-11-2021_01-54-32_PM_human..txt  \n",
            "  inflating: train/labels/25-11-2021_01-54-41_PM_car..txt  \n",
            "  inflating: train/labels/25-11-2021_01-54-41_PM_head..txt  \n",
            "  inflating: train/labels/25-11-2021_01-54-41_PM_human..txt  \n",
            "  inflating: train/labels/25-11-2021_01-55-05_PM_car..txt  \n",
            "  inflating: train/labels/25-11-2021_01-55-05_PM_face..txt  \n",
            "  inflating: train/labels/25-11-2021_01-55-05_PM_head..txt  \n",
            "  inflating: train/labels/25-11-2021_01-55-05_PM_human..txt  \n",
            "  inflating: train/labels/25-11-2021_01-55-21_PM_car..txt  \n",
            "  inflating: train/labels/25-11-2021_01-55-21_PM_face..txt  \n",
            "  inflating: train/labels/25-11-2021_01-55-21_PM_head..txt  \n",
            "  inflating: train/labels/25-11-2021_01-55-21_PM_human..txt  \n",
            "  inflating: train/labels/25-11-2021_01-55-32_PM_car..txt  \n",
            "  inflating: train/labels/25-11-2021_01-55-32_PM_face..txt  \n",
            "  inflating: train/labels/25-11-2021_01-55-32_PM_head..txt  \n",
            "  inflating: train/labels/25-11-2021_01-55-32_PM_human..txt  \n",
            "  inflating: train/labels/25-11-2021_01-55-36_PM_car..txt  \n",
            "  inflating: train/labels/25-11-2021_01-55-36_PM_face..txt  \n",
            "  inflating: train/labels/25-11-2021_01-55-36_PM_head..txt  \n",
            "  inflating: train/labels/25-11-2021_01-55-36_PM_human..txt  \n",
            "  inflating: train/labels/25-11-2021_01-55-39_PM_head..txt  \n",
            "  inflating: train/labels/25-11-2021_01-55-39_PM_human..txt  \n",
            "  inflating: train/labels/25-11-2021_01-55-54_PM_car..txt  \n",
            "  inflating: train/labels/25-11-2021_01-55-54_PM_head..txt  \n",
            "  inflating: train/labels/25-11-2021_01-55-54_PM_human..txt  \n",
            "  inflating: train/labels/25-11-2021_01-55-58_PM_car..txt  \n",
            "  inflating: train/labels/25-11-2021_01-55-58_PM_face..txt  \n",
            "  inflating: train/labels/25-11-2021_01-55-58_PM_head..txt  \n",
            "  inflating: train/labels/25-11-2021_01-55-58_PM_human..txt  \n",
            "  inflating: train/labels/25-11-2021_01-56-13_PM_car..txt  \n",
            "  inflating: train/labels/25-11-2021_01-56-13_PM_face..txt  \n",
            "  inflating: train/labels/25-11-2021_01-56-13_PM_head..txt  \n",
            "  inflating: train/labels/25-11-2021_01-56-13_PM_human..txt  \n",
            "  inflating: train/labels/25-11-2021_01-56-24_PM_car..txt  \n",
            "  inflating: train/labels/25-11-2021_01-56-24_PM_head..txt  \n",
            "  inflating: train/labels/25-11-2021_01-56-24_PM_human..txt  \n",
            "  inflating: train/labels/25-11-2021_01-56-45_PM_car..txt  \n",
            "  inflating: train/labels/25-11-2021_01-56-45_PM_head..txt  \n",
            "  inflating: train/labels/25-11-2021_01-56-45_PM_human..txt  \n",
            "  inflating: train/labels/25-11-2021_01-56-55_PM_car..txt  \n",
            "  inflating: train/labels/25-11-2021_01-56-55_PM_head..txt  \n",
            "  inflating: train/labels/25-11-2021_01-56-55_PM_human..txt  \n",
            "  inflating: train/labels/25-11-2021_01-59-15_AM_car..txt  \n",
            "  inflating: train/labels/25-11-2021_01-59-15_AM_head..txt  \n",
            "  inflating: train/labels/25-11-2021_01-59-15_AM_human..txt  \n",
            "  inflating: train/labels/25-11-2021_02-11-59_PM_car..txt  \n",
            "  inflating: train/labels/25-11-2021_02-11-59_PM_face..txt  \n",
            "  inflating: train/labels/25-11-2021_02-11-59_PM_head..txt  \n",
            "  inflating: train/labels/25-11-2021_02-11-59_PM_human..txt  \n",
            "  inflating: train/labels/25-11-2021_02-12-09_PM_car..txt  \n",
            "  inflating: train/labels/25-11-2021_02-12-09_PM_head..txt  \n",
            "  inflating: train/labels/25-11-2021_02-12-09_PM_human..txt  \n",
            "  inflating: train/labels/25-11-2021_02-12-16_PM_car..txt  \n",
            "  inflating: train/labels/25-11-2021_02-12-16_PM_head..txt  \n",
            "  inflating: train/labels/25-11-2021_02-12-16_PM_human..txt  \n",
            "  inflating: train/labels/25-11-2021_02-12-38_PM_car..txt  \n",
            "  inflating: train/labels/25-11-2021_02-12-38_PM_head..txt  \n",
            "  inflating: train/labels/25-11-2021_02-12-38_PM_human..txt  \n",
            "  inflating: train/labels/25-11-2021_02-12-41_PM_car..txt  \n",
            "  inflating: train/labels/25-11-2021_02-12-41_PM_head..txt  \n",
            "  inflating: train/labels/25-11-2021_02-12-41_PM_human..txt  \n",
            "  inflating: train/labels/25-11-2021_02-12-45_PM_car..txt  \n",
            "  inflating: train/labels/25-11-2021_02-12-45_PM_face..txt  \n",
            "  inflating: train/labels/25-11-2021_02-12-45_PM_head..txt  \n",
            "  inflating: train/labels/25-11-2021_02-12-45_PM_human..txt  \n",
            "  inflating: train/labels/25-11-2021_02-12-47_PM_car..txt  \n",
            "  inflating: train/labels/25-11-2021_02-12-47_PM_face..txt  \n",
            "  inflating: train/labels/25-11-2021_02-12-47_PM_head..txt  \n",
            "  inflating: train/labels/25-11-2021_02-12-47_PM_human..txt  \n",
            "  inflating: train/labels/25-11-2021_02-12-50_PM_car..txt  \n",
            "  inflating: train/labels/25-11-2021_02-12-50_PM_head..txt  \n",
            "  inflating: train/labels/25-11-2021_02-12-50_PM_human..txt  \n",
            "  inflating: train/labels/25-11-2021_02-12-56_PM_car..txt  \n",
            "  inflating: train/labels/25-11-2021_02-12-56_PM_head..txt  \n",
            "  inflating: train/labels/25-11-2021_02-12-56_PM_human..txt  \n",
            "  inflating: train/labels/25-11-2021_02-13-04_PM_car..txt  \n",
            "  inflating: train/labels/25-11-2021_02-13-04_PM_head..txt  \n",
            "  inflating: train/labels/25-11-2021_02-13-04_PM_human..txt  \n",
            "  inflating: train/labels/25-11-2021_02-13-16_PM_car..txt  \n",
            "  inflating: train/labels/25-11-2021_02-13-16_PM_head..txt  \n",
            "  inflating: train/labels/25-11-2021_02-13-16_PM_human..txt  \n",
            "  inflating: train/labels/25-11-2021_02-13-24_PM_car..txt  \n",
            "  inflating: train/labels/25-11-2021_02-13-24_PM_head..txt  \n",
            "  inflating: train/labels/25-11-2021_02-13-24_PM_human..txt  \n",
            "  inflating: train/labels/25-11-2021_02-13-54_PM_car..txt  \n",
            "  inflating: train/labels/25-11-2021_02-13-54_PM_face..txt  \n",
            "  inflating: train/labels/25-11-2021_02-13-54_PM_head..txt  \n",
            "  inflating: train/labels/25-11-2021_02-13-54_PM_human..txt  \n",
            "  inflating: train/labels/25-11-2021_02-14-02_PM_car..txt  \n",
            "  inflating: train/labels/25-11-2021_02-14-02_PM_face..txt  \n",
            "  inflating: train/labels/25-11-2021_02-14-02_PM_head..txt  \n",
            "  inflating: train/labels/25-11-2021_02-14-02_PM_human..txt  \n",
            "  inflating: train/labels/25-11-2021_02-14-04_PM_car..txt  \n",
            "  inflating: train/labels/25-11-2021_02-14-04_PM_head..txt  \n",
            "  inflating: train/labels/25-11-2021_02-14-04_PM_human..txt  \n",
            "  inflating: train/labels/25-11-2021_02-14-09_PM_car..txt  \n",
            "  inflating: train/labels/25-11-2021_02-14-09_PM_head..txt  \n",
            "  inflating: train/labels/25-11-2021_02-14-09_PM_human..txt  \n",
            "  inflating: train/labels/25-11-2021_02-14-38_PM_car..txt  \n",
            "  inflating: train/labels/25-11-2021_02-14-38_PM_head..txt  \n",
            "  inflating: train/labels/25-11-2021_02-14-38_PM_human..txt  \n",
            "  inflating: train/labels/25-11-2021_02-14-47_PM_car..txt  \n",
            "  inflating: train/labels/25-11-2021_02-14-47_PM_face..txt  \n",
            "  inflating: train/labels/25-11-2021_02-14-47_PM_head..txt  \n",
            "  inflating: train/labels/25-11-2021_02-14-47_PM_human..txt  \n",
            "  inflating: train/labels/25-11-2021_02-16-43_AM_car..txt  \n",
            "  inflating: train/labels/25-11-2021_02-16-43_AM_head..txt  \n",
            "  inflating: train/labels/25-11-2021_02-16-43_AM_human..txt  \n",
            "  inflating: train/labels/25-11-2021_02-17-24_AM_car..txt  \n",
            "  inflating: train/labels/25-11-2021_02-17-24_AM_head..txt  \n",
            "  inflating: train/labels/25-11-2021_02-17-24_AM_human..txt  \n",
            "  inflating: train/labels/25-11-2021_02-18-36_AM_car..txt  \n",
            "  inflating: train/labels/25-11-2021_02-18-36_AM_head..txt  \n",
            "  inflating: train/labels/25-11-2021_02-18-36_AM_human..txt  \n",
            "  inflating: train/labels/25-11-2021_02-29-51_PM_car..txt  \n",
            "  inflating: train/labels/25-11-2021_02-29-51_PM_head..txt  \n",
            "  inflating: train/labels/25-11-2021_02-29-51_PM_human..txt  \n",
            "  inflating: train/labels/25-11-2021_02-30-09_PM_car..txt  \n",
            "  inflating: train/labels/25-11-2021_02-30-09_PM_head..txt  \n",
            "  inflating: train/labels/25-11-2021_02-30-09_PM_human..txt  \n",
            "  inflating: train/labels/25-11-2021_02-30-35_PM_car..txt  \n",
            "  inflating: train/labels/25-11-2021_02-30-35_PM_face..txt  \n",
            "  inflating: train/labels/25-11-2021_02-30-35_PM_head..txt  \n",
            "  inflating: train/labels/25-11-2021_02-30-35_PM_human..txt  \n",
            "  inflating: train/labels/25-11-2021_02-30-37_PM_car..txt  \n",
            "  inflating: train/labels/25-11-2021_02-30-37_PM_head..txt  \n",
            "  inflating: train/labels/25-11-2021_02-30-37_PM_human..txt  \n",
            "  inflating: train/labels/25-11-2021_02-30-58_PM_car..txt  \n",
            "  inflating: train/labels/25-11-2021_02-30-58_PM_head..txt  \n",
            "  inflating: train/labels/25-11-2021_02-30-58_PM_human..txt  \n",
            "  inflating: train/labels/25-11-2021_02-31-06_PM_car..txt  \n",
            "  inflating: train/labels/25-11-2021_02-31-06_PM_head..txt  \n",
            "  inflating: train/labels/25-11-2021_02-31-06_PM_human..txt  \n",
            "  inflating: train/labels/25-11-2021_02-31-27_PM_head..txt  \n",
            "  inflating: train/labels/25-11-2021_02-31-27_PM_human..txt  \n",
            "  inflating: train/labels/25-11-2021_02-31-30_PM_car..txt  \n",
            "  inflating: train/labels/25-11-2021_02-31-30_PM_head..txt  \n",
            "  inflating: train/labels/25-11-2021_02-31-30_PM_human..txt  \n",
            "  inflating: train/labels/25-11-2021_02-31-45_PM_car..txt  \n",
            "  inflating: train/labels/25-11-2021_02-31-45_PM_face..txt  \n",
            "  inflating: train/labels/25-11-2021_02-31-45_PM_head..txt  \n",
            "  inflating: train/labels/25-11-2021_02-31-45_PM_human..txt  \n",
            "  inflating: train/labels/25-11-2021_02-31-52_PM_car..txt  \n",
            "  inflating: train/labels/25-11-2021_02-31-52_PM_head..txt  \n",
            "  inflating: train/labels/25-11-2021_02-31-52_PM_human..txt  \n",
            "  inflating: train/labels/25-11-2021_02-32-11_PM_face..txt  \n",
            "  inflating: train/labels/25-11-2021_02-32-11_PM_head..txt  \n",
            "  inflating: train/labels/25-11-2021_02-32-11_PM_human..txt  \n",
            "  inflating: train/labels/25-11-2021_02-32-23_PM_car..txt  \n",
            "  inflating: train/labels/25-11-2021_02-32-23_PM_face..txt  \n",
            "  inflating: train/labels/25-11-2021_02-32-23_PM_head..txt  \n",
            "  inflating: train/labels/25-11-2021_02-32-23_PM_human..txt  \n",
            "  inflating: train/labels/25-11-2021_02-32-30_PM_car..txt  \n",
            "  inflating: train/labels/25-11-2021_02-32-30_PM_head..txt  \n",
            "  inflating: train/labels/25-11-2021_02-32-30_PM_human..txt  \n",
            "  inflating: train/labels/25-11-2021_02-34-31_AM_car..txt  \n",
            "  inflating: train/labels/25-11-2021_02-34-31_AM_head..txt  \n",
            "  inflating: train/labels/25-11-2021_02-34-31_AM_human..txt  \n",
            "  inflating: train/labels/25-11-2021_02-35-48_AM_car..txt  \n",
            "  inflating: train/labels/25-11-2021_02-35-48_AM_head..txt  \n",
            "  inflating: train/labels/25-11-2021_02-35-48_AM_human..txt  \n",
            "  inflating: train/labels/25-11-2021_02-47-43_PM_car..txt  \n",
            "  inflating: train/labels/25-11-2021_02-47-43_PM_head..txt  \n",
            "  inflating: train/labels/25-11-2021_02-47-43_PM_human..txt  \n",
            "  inflating: train/labels/25-11-2021_02-47-49_PM_car..txt  \n",
            "  inflating: train/labels/25-11-2021_02-47-49_PM_head..txt  \n",
            "  inflating: train/labels/25-11-2021_02-47-49_PM_human..txt  \n",
            "  inflating: train/labels/25-11-2021_02-47-58_PM_car..txt  \n",
            "  inflating: train/labels/25-11-2021_02-47-58_PM_head..txt  \n",
            "  inflating: train/labels/25-11-2021_02-47-58_PM_human..txt  \n",
            "  inflating: train/labels/25-11-2021_02-48-18_PM_car..txt  \n",
            "  inflating: train/labels/25-11-2021_02-48-18_PM_face..txt  \n",
            "  inflating: train/labels/25-11-2021_02-48-18_PM_head..txt  \n",
            "  inflating: train/labels/25-11-2021_02-48-18_PM_human..txt  \n",
            "  inflating: train/labels/25-11-2021_02-48-27_PM_car..txt  \n",
            "  inflating: train/labels/25-11-2021_02-48-27_PM_head..txt  \n",
            "  inflating: train/labels/25-11-2021_02-48-27_PM_human..txt  \n",
            "  inflating: train/labels/25-11-2021_02-48-36_PM_car..txt  \n",
            "  inflating: train/labels/25-11-2021_02-48-36_PM_head..txt  \n",
            "  inflating: train/labels/25-11-2021_02-48-36_PM_human..txt  \n",
            "  inflating: train/labels/25-11-2021_02-48-41_PM_car..txt  \n",
            "  inflating: train/labels/25-11-2021_02-48-41_PM_head..txt  \n",
            "  inflating: train/labels/25-11-2021_02-48-41_PM_human..txt  \n",
            "  inflating: train/labels/25-11-2021_02-49-07_PM_car..txt  \n",
            "  inflating: train/labels/25-11-2021_02-49-07_PM_head..txt  \n",
            "  inflating: train/labels/25-11-2021_02-49-07_PM_human..txt  \n",
            "  inflating: train/labels/25-11-2021_02-49-13_PM_face..txt  \n",
            "  inflating: train/labels/25-11-2021_02-49-13_PM_head..txt  \n",
            "  inflating: train/labels/25-11-2021_02-49-13_PM_human..txt  \n",
            "  inflating: train/labels/25-11-2021_02-49-51_PM_car..txt  \n",
            "  inflating: train/labels/25-11-2021_02-49-51_PM_head..txt  \n",
            "  inflating: train/labels/25-11-2021_02-49-51_PM_human..txt  \n",
            "  inflating: train/labels/25-11-2021_02-49-54_PM_car..txt  \n",
            "  inflating: train/labels/25-11-2021_02-49-54_PM_head..txt  \n",
            "  inflating: train/labels/25-11-2021_02-49-54_PM_human..txt  \n",
            "  inflating: train/labels/25-11-2021_02-50-14_PM_car..txt  \n",
            "  inflating: train/labels/25-11-2021_02-50-14_PM_head..txt  \n",
            "  inflating: train/labels/25-11-2021_02-50-14_PM_human..txt  \n",
            "  inflating: train/labels/25-11-2021_02-50-25_PM_car..txt  \n",
            "  inflating: train/labels/25-11-2021_02-50-25_PM_head..txt  \n",
            "  inflating: train/labels/25-11-2021_02-50-25_PM_human..txt  \n",
            "  inflating: train/labels/25-11-2021_02-52-26_AM_car..txt  \n",
            "  inflating: train/labels/25-11-2021_02-52-26_AM_head..txt  \n",
            "  inflating: train/labels/25-11-2021_02-52-26_AM_human..txt  \n",
            "  inflating: train/labels/25-11-2021_02-52-33_AM_head..txt  \n",
            "  inflating: train/labels/25-11-2021_02-52-33_AM_human..txt  \n",
            "  inflating: train/labels/25-11-2021_02-52-56_AM_car..txt  \n",
            "  inflating: train/labels/25-11-2021_02-52-56_AM_head..txt  \n",
            "  inflating: train/labels/25-11-2021_02-52-56_AM_human..txt  \n",
            "  inflating: train/labels/25-11-2021_03-05-49_PM_car..txt  \n",
            "  inflating: train/labels/25-11-2021_03-05-49_PM_head..txt  \n",
            "  inflating: train/labels/25-11-2021_03-05-49_PM_human..txt  \n",
            "  inflating: train/labels/25-11-2021_03-05-54_PM_car..txt  \n",
            "  inflating: train/labels/25-11-2021_03-05-54_PM_head..txt  \n",
            "  inflating: train/labels/25-11-2021_03-05-54_PM_human..txt  \n",
            "  inflating: train/labels/25-11-2021_03-05-58_PM_car..txt  \n",
            "  inflating: train/labels/25-11-2021_03-05-58_PM_head..txt  \n",
            "  inflating: train/labels/25-11-2021_03-05-58_PM_human..txt  \n",
            "  inflating: train/labels/25-11-2021_03-06-15_PM_car..txt  \n",
            "  inflating: train/labels/25-11-2021_03-06-15_PM_head..txt  \n",
            "  inflating: train/labels/25-11-2021_03-06-15_PM_human..txt  \n",
            "  inflating: train/labels/25-11-2021_03-06-17_PM_car..txt  \n",
            "  inflating: train/labels/25-11-2021_03-06-17_PM_head..txt  \n",
            "  inflating: train/labels/25-11-2021_03-06-17_PM_human..txt  \n",
            "  inflating: train/labels/25-11-2021_03-06-26_PM_car..txt  \n",
            "  inflating: train/labels/25-11-2021_03-06-26_PM_head..txt  \n",
            "  inflating: train/labels/25-11-2021_03-06-26_PM_human..txt  \n",
            "  inflating: train/labels/25-11-2021_03-06-36_PM_car..txt  \n",
            "  inflating: train/labels/25-11-2021_03-06-36_PM_face..txt  \n",
            "  inflating: train/labels/25-11-2021_03-06-36_PM_head..txt  \n",
            "  inflating: train/labels/25-11-2021_03-06-36_PM_human..txt  \n",
            "  inflating: train/labels/25-11-2021_03-06-41_PM_car..txt  \n",
            "  inflating: train/labels/25-11-2021_03-06-41_PM_head..txt  \n",
            "  inflating: train/labels/25-11-2021_03-06-41_PM_human..txt  \n",
            "  inflating: train/labels/25-11-2021_03-10-27_AM_car..txt  \n",
            "  inflating: train/labels/25-11-2021_03-10-27_AM_face..txt  \n",
            "  inflating: train/labels/25-11-2021_03-10-27_AM_head..txt  \n",
            "  inflating: train/labels/25-11-2021_03-10-27_AM_human..txt  \n",
            "  inflating: train/labels/25-11-2021_03-21-51_PM_car..txt  \n",
            "  inflating: train/labels/25-11-2021_03-21-51_PM_head..txt  \n",
            "  inflating: train/labels/25-11-2021_03-21-51_PM_human..txt  \n",
            "  inflating: train/labels/25-11-2021_03-21-59_PM_car..txt  \n",
            "  inflating: train/labels/25-11-2021_03-21-59_PM_head..txt  \n",
            "  inflating: train/labels/25-11-2021_03-21-59_PM_human..txt  \n",
            "  inflating: train/labels/25-11-2021_03-22-06_PM_car..txt  \n",
            "  inflating: train/labels/25-11-2021_03-22-06_PM_head..txt  \n",
            "  inflating: train/labels/25-11-2021_03-22-06_PM_human..txt  \n",
            "  inflating: train/labels/25-11-2021_03-22-35_PM_car..txt  \n",
            "  inflating: train/labels/25-11-2021_03-22-35_PM_head..txt  \n",
            "  inflating: train/labels/25-11-2021_03-22-35_PM_human..txt  \n",
            "  inflating: train/labels/25-11-2021_03-22-46_PM_car..txt  \n",
            "  inflating: train/labels/25-11-2021_03-22-46_PM_head..txt  \n",
            "  inflating: train/labels/25-11-2021_03-22-46_PM_human..txt  \n",
            "  inflating: train/labels/25-11-2021_03-23-27_PM_face..txt  \n",
            "  inflating: train/labels/25-11-2021_03-23-27_PM_head..txt  \n",
            "  inflating: train/labels/25-11-2021_03-23-27_PM_human..txt  \n",
            "  inflating: train/labels/25-11-2021_03-24-08_PM_car..txt  \n",
            "  inflating: train/labels/25-11-2021_03-24-08_PM_face..txt  \n",
            "  inflating: train/labels/25-11-2021_03-24-08_PM_head..txt  \n",
            "  inflating: train/labels/25-11-2021_03-24-08_PM_human..txt  \n",
            "  inflating: train/labels/25-11-2021_03-24-12_PM_face..txt  \n",
            "  inflating: train/labels/25-11-2021_03-24-12_PM_head..txt  \n",
            "  inflating: train/labels/25-11-2021_03-24-12_PM_human..txt  \n",
            "  inflating: train/labels/25-11-2021_03-24-23_PM_car..txt  \n",
            "  inflating: train/labels/25-11-2021_03-24-23_PM_face..txt  \n",
            "  inflating: train/labels/25-11-2021_03-24-23_PM_head..txt  \n",
            "  inflating: train/labels/25-11-2021_03-24-23_PM_human..txt  \n",
            "  inflating: train/labels/25-11-2021_03-24-29_PM_car..txt  \n",
            "  inflating: train/labels/25-11-2021_03-24-29_PM_head..txt  \n",
            "  inflating: train/labels/25-11-2021_03-24-29_PM_human..txt  \n",
            "  inflating: train/labels/25-11-2021_03-28-09_AM_car..txt  \n",
            "  inflating: train/labels/25-11-2021_03-28-09_AM_head..txt  \n",
            "  inflating: train/labels/25-11-2021_03-28-09_AM_human..txt  \n",
            "  inflating: train/labels/25-11-2021_03-29-00_AM_car..txt  \n",
            "  inflating: train/labels/25-11-2021_03-29-00_AM_head..txt  \n",
            "  inflating: train/labels/25-11-2021_03-29-00_AM_human..txt  \n",
            "  inflating: train/labels/25-11-2021_03-29-27_AM_car..txt  \n",
            "  inflating: train/labels/25-11-2021_03-29-27_AM_head..txt  \n",
            "  inflating: train/labels/25-11-2021_03-29-27_AM_human..txt  \n",
            "  inflating: train/labels/25-11-2021_03-30-14_AM_car..txt  \n",
            "  inflating: train/labels/25-11-2021_03-30-14_AM_head..txt  \n",
            "  inflating: train/labels/25-11-2021_03-30-14_AM_human..txt  \n",
            "  inflating: train/labels/25-11-2021_03-30-19_AM_car..txt  \n",
            "  inflating: train/labels/25-11-2021_03-30-19_AM_head..txt  \n",
            "  inflating: train/labels/25-11-2021_03-30-19_AM_human..txt  \n",
            "  inflating: train/labels/25-11-2021_03-30-21_AM_car..txt  \n",
            "  inflating: train/labels/25-11-2021_03-30-21_AM_head..txt  \n",
            "  inflating: train/labels/25-11-2021_03-30-21_AM_human..txt  \n",
            "  inflating: train/labels/25-11-2021_03-39-48_PM_car..txt  \n",
            "  inflating: train/labels/25-11-2021_03-39-48_PM_head..txt  \n",
            "  inflating: train/labels/25-11-2021_03-39-48_PM_human..txt  \n",
            "  inflating: train/labels/25-11-2021_03-40-25_PM_car..txt  \n",
            "  inflating: train/labels/25-11-2021_03-40-25_PM_head..txt  \n",
            "  inflating: train/labels/25-11-2021_03-40-25_PM_human..txt  \n",
            "  inflating: train/labels/25-11-2021_03-40-46_PM_car..txt  \n",
            "  inflating: train/labels/25-11-2021_03-40-46_PM_face..txt  \n",
            "  inflating: train/labels/25-11-2021_03-40-46_PM_head..txt  \n",
            "  inflating: train/labels/25-11-2021_03-40-46_PM_human..txt  \n",
            "  inflating: train/labels/25-11-2021_03-40-53_PM_car..txt  \n",
            "  inflating: train/labels/25-11-2021_03-40-53_PM_head..txt  \n",
            "  inflating: train/labels/25-11-2021_03-40-53_PM_human..txt  \n",
            "  inflating: train/labels/25-11-2021_03-41-06_PM_car..txt  \n",
            "  inflating: train/labels/25-11-2021_03-41-06_PM_face..txt  \n",
            "  inflating: train/labels/25-11-2021_03-41-06_PM_head..txt  \n",
            "  inflating: train/labels/25-11-2021_03-41-06_PM_human..txt  \n",
            "  inflating: train/labels/25-11-2021_03-41-18_PM_face..txt  \n",
            "  inflating: train/labels/25-11-2021_03-41-18_PM_head..txt  \n",
            "  inflating: train/labels/25-11-2021_03-41-18_PM_human..txt  \n",
            "  inflating: train/labels/25-11-2021_03-41-21_PM_car..txt  \n",
            "  inflating: train/labels/25-11-2021_03-41-21_PM_face..txt  \n",
            "  inflating: train/labels/25-11-2021_03-41-21_PM_head..txt  \n",
            "  inflating: train/labels/25-11-2021_03-41-21_PM_human..txt  \n",
            "  inflating: train/labels/25-11-2021_03-41-24_PM_car..txt  \n",
            "  inflating: train/labels/25-11-2021_03-41-24_PM_head..txt  \n",
            "  inflating: train/labels/25-11-2021_03-41-24_PM_human..txt  \n",
            "  inflating: train/labels/25-11-2021_03-41-31_PM_car..txt  \n",
            "  inflating: train/labels/25-11-2021_03-41-31_PM_face..txt  \n",
            "  inflating: train/labels/25-11-2021_03-41-31_PM_head..txt  \n",
            "  inflating: train/labels/25-11-2021_03-41-31_PM_human..txt  \n",
            "  inflating: train/labels/25-11-2021_03-42-03_PM_face..txt  \n",
            "  inflating: train/labels/25-11-2021_03-42-03_PM_head..txt  \n",
            "  inflating: train/labels/25-11-2021_03-42-03_PM_human..txt  \n",
            "  inflating: train/labels/25-11-2021_03-42-20_PM_car..txt  \n",
            "  inflating: train/labels/25-11-2021_03-42-20_PM_head..txt  \n",
            "  inflating: train/labels/25-11-2021_03-42-20_PM_human..txt  \n",
            "  inflating: train/labels/25-11-2021_03-42-27_PM_car..txt  \n",
            "  inflating: train/labels/25-11-2021_03-42-27_PM_face..txt  \n",
            "  inflating: train/labels/25-11-2021_03-42-27_PM_head..txt  \n",
            "  inflating: train/labels/25-11-2021_03-42-27_PM_human..txt  \n",
            "  inflating: train/labels/25-11-2021_03-45-51_AM_car..txt  \n",
            "  inflating: train/labels/25-11-2021_03-45-51_AM_face..txt  \n",
            "  inflating: train/labels/25-11-2021_03-45-51_AM_head..txt  \n",
            "  inflating: train/labels/25-11-2021_03-45-51_AM_human..txt  \n",
            "  inflating: train/labels/25-11-2021_03-46-01_AM_car..txt  \n",
            "  inflating: train/labels/25-11-2021_03-46-01_AM_head..txt  \n",
            "  inflating: train/labels/25-11-2021_03-46-01_AM_human..txt  \n",
            "  inflating: train/labels/25-11-2021_03-46-39_AM_car..txt  \n",
            "  inflating: train/labels/25-11-2021_03-46-39_AM_face..txt  \n",
            "  inflating: train/labels/25-11-2021_03-46-39_AM_head..txt  \n",
            "  inflating: train/labels/25-11-2021_03-46-39_AM_human..txt  \n",
            "  inflating: train/labels/25-11-2021_03-47-27_AM_car..txt  \n",
            "  inflating: train/labels/25-11-2021_03-47-27_AM_head..txt  \n",
            "  inflating: train/labels/25-11-2021_03-47-27_AM_human..txt  \n",
            "  inflating: train/labels/25-11-2021_03-47-45_AM_head..txt  \n",
            "  inflating: train/labels/25-11-2021_03-47-45_AM_human..txt  \n",
            "  inflating: train/labels/25-11-2021_03-58-28_PM_car..txt  \n",
            "  inflating: train/labels/25-11-2021_03-58-28_PM_head..txt  \n",
            "  inflating: train/labels/25-11-2021_03-58-28_PM_human..txt  \n",
            "  inflating: train/labels/25-11-2021_03-58-33_PM_car..txt  \n",
            "  inflating: train/labels/25-11-2021_03-58-33_PM_head..txt  \n",
            "  inflating: train/labels/25-11-2021_03-58-33_PM_human..txt  \n",
            "  inflating: train/labels/25-11-2021_03-58-56_PM_car..txt  \n",
            "  inflating: train/labels/25-11-2021_03-58-56_PM_head..txt  \n",
            "  inflating: train/labels/25-11-2021_03-58-56_PM_human..txt  \n",
            "  inflating: train/labels/25-11-2021_03-59-03_PM_car..txt  \n",
            "  inflating: train/labels/25-11-2021_03-59-03_PM_head..txt  \n",
            "  inflating: train/labels/25-11-2021_03-59-03_PM_human..txt  \n",
            "  inflating: train/labels/25-11-2021_03-59-24_PM_car..txt  \n",
            "  inflating: train/labels/25-11-2021_03-59-24_PM_face..txt  \n",
            "  inflating: train/labels/25-11-2021_03-59-24_PM_head..txt  \n",
            "  inflating: train/labels/25-11-2021_03-59-24_PM_human..txt  \n",
            "  inflating: train/labels/25-11-2021_04-00-08_PM_car..txt  \n",
            "  inflating: train/labels/25-11-2021_04-00-08_PM_face..txt  \n",
            "  inflating: train/labels/25-11-2021_04-00-08_PM_head..txt  \n",
            "  inflating: train/labels/25-11-2021_04-00-08_PM_human..txt  \n",
            "  inflating: train/labels/25-11-2021_04-00-10_PM_car..txt  \n",
            "  inflating: train/labels/25-11-2021_04-00-10_PM_head..txt  \n",
            "  inflating: train/labels/25-11-2021_04-00-10_PM_human..txt  \n",
            "  inflating: train/labels/25-11-2021_04-00-15_PM_car..txt  \n",
            "  inflating: train/labels/25-11-2021_04-00-15_PM_face..txt  \n",
            "  inflating: train/labels/25-11-2021_04-00-15_PM_head..txt  \n",
            "  inflating: train/labels/25-11-2021_04-00-15_PM_human..txt  \n",
            "  inflating: train/labels/25-11-2021_04-03-19_AM_car..txt  \n",
            "  inflating: train/labels/25-11-2021_04-03-19_AM_head..txt  \n",
            "  inflating: train/labels/25-11-2021_04-03-19_AM_human..txt  \n",
            "  inflating: train/labels/25-11-2021_04-03-29_AM_car..txt  \n",
            "  inflating: train/labels/25-11-2021_04-03-29_AM_head..txt  \n",
            "  inflating: train/labels/25-11-2021_04-03-29_AM_human..txt  \n",
            "  inflating: train/labels/25-11-2021_04-03-42_AM_car..txt  \n",
            "  inflating: train/labels/25-11-2021_04-03-42_AM_head..txt  \n",
            "  inflating: train/labels/25-11-2021_04-03-42_AM_human..txt  \n",
            "  inflating: train/labels/25-11-2021_04-03-46_AM_car..txt  \n",
            "  inflating: train/labels/25-11-2021_04-03-46_AM_head..txt  \n",
            "  inflating: train/labels/25-11-2021_04-03-46_AM_human..txt  \n",
            "  inflating: train/labels/25-11-2021_04-03-49_AM_car..txt  \n",
            "  inflating: train/labels/25-11-2021_04-03-49_AM_head..txt  \n",
            "  inflating: train/labels/25-11-2021_04-03-49_AM_human..txt  \n",
            "  inflating: train/labels/25-11-2021_04-04-26_AM_car..txt  \n",
            "  inflating: train/labels/25-11-2021_04-04-26_AM_head..txt  \n",
            "  inflating: train/labels/25-11-2021_04-04-26_AM_human..txt  \n",
            "  inflating: train/labels/25-11-2021_04-04-45_AM_car..txt  \n",
            "  inflating: train/labels/25-11-2021_04-04-45_AM_head..txt  \n",
            "  inflating: train/labels/25-11-2021_04-04-45_AM_human..txt  \n",
            "  inflating: train/labels/25-11-2021_04-06-03_AM_car..txt  \n",
            "  inflating: train/labels/25-11-2021_04-06-03_AM_head..txt  \n",
            "  inflating: train/labels/25-11-2021_04-06-03_AM_human..txt  \n",
            "  inflating: train/labels/25-11-2021_04-06-07_AM_car..txt  \n",
            "  inflating: train/labels/25-11-2021_04-06-07_AM_head..txt  \n",
            "  inflating: train/labels/25-11-2021_04-06-07_AM_human..txt  \n",
            "  inflating: train/labels/25-11-2021_04-15-23_PM_car..txt  \n",
            "  inflating: train/labels/25-11-2021_04-15-23_PM_face..txt  \n",
            "  inflating: train/labels/25-11-2021_04-15-23_PM_head..txt  \n",
            "  inflating: train/labels/25-11-2021_04-15-23_PM_human..txt  \n",
            "  inflating: train/labels/25-11-2021_04-15-36_PM_car..txt  \n",
            "  inflating: train/labels/25-11-2021_04-15-36_PM_head..txt  \n",
            "  inflating: train/labels/25-11-2021_04-15-36_PM_human..txt  \n",
            "  inflating: train/labels/25-11-2021_04-15-39_PM_car..txt  \n",
            "  inflating: train/labels/25-11-2021_04-15-39_PM_head..txt  \n",
            "  inflating: train/labels/25-11-2021_04-15-39_PM_human..txt  \n",
            "  inflating: train/labels/25-11-2021_04-15-48_PM_car..txt  \n",
            "  inflating: train/labels/25-11-2021_04-15-48_PM_head..txt  \n",
            "  inflating: train/labels/25-11-2021_04-15-48_PM_human..txt  \n",
            "  inflating: train/labels/25-11-2021_04-15-52_PM_car..txt  \n",
            "  inflating: train/labels/25-11-2021_04-15-52_PM_head..txt  \n",
            "  inflating: train/labels/25-11-2021_04-15-52_PM_human..txt  \n",
            "  inflating: train/labels/25-11-2021_04-16-31_PM_car..txt  \n",
            "  inflating: train/labels/25-11-2021_04-16-31_PM_head..txt  \n",
            "  inflating: train/labels/25-11-2021_04-16-31_PM_human..txt  \n",
            "  inflating: train/labels/25-11-2021_04-17-24_PM_car..txt  \n",
            "  inflating: train/labels/25-11-2021_04-17-24_PM_head..txt  \n",
            "  inflating: train/labels/25-11-2021_04-17-24_PM_human..txt  \n",
            "  inflating: train/labels/25-11-2021_04-17-46_PM_car..txt  \n",
            "  inflating: train/labels/25-11-2021_04-17-46_PM_head..txt  \n",
            "  inflating: train/labels/25-11-2021_04-17-46_PM_human..txt  \n",
            "  inflating: train/labels/25-11-2021_04-17-53_PM_car..txt  \n",
            "  inflating: train/labels/25-11-2021_04-17-53_PM_face..txt  \n",
            "  inflating: train/labels/25-11-2021_04-17-53_PM_head..txt  \n",
            "  inflating: train/labels/25-11-2021_04-17-53_PM_human..txt  \n",
            "  inflating: train/labels/25-11-2021_04-21-15_AM_car..txt  \n",
            "  inflating: train/labels/25-11-2021_04-21-15_AM_head..txt  \n",
            "  inflating: train/labels/25-11-2021_04-21-15_AM_human..txt  \n",
            "  inflating: train/labels/25-11-2021_04-21-24_AM_car..txt  \n",
            "  inflating: train/labels/25-11-2021_04-21-24_AM_head..txt  \n",
            "  inflating: train/labels/25-11-2021_04-21-24_AM_human..txt  \n",
            "  inflating: train/labels/25-11-2021_04-21-34_AM_car..txt  \n",
            "  inflating: train/labels/25-11-2021_04-21-34_AM_head..txt  \n",
            "  inflating: train/labels/25-11-2021_04-21-34_AM_human..txt  \n",
            "  inflating: train/labels/25-11-2021_04-21-43_AM_car..txt  \n",
            "  inflating: train/labels/25-11-2021_04-21-43_AM_head..txt  \n",
            "  inflating: train/labels/25-11-2021_04-21-43_AM_human..txt  \n",
            "  inflating: train/labels/25-11-2021_04-21-49_AM_car..txt  \n",
            "  inflating: train/labels/25-11-2021_04-21-49_AM_face..txt  \n",
            "  inflating: train/labels/25-11-2021_04-21-49_AM_head..txt  \n",
            "  inflating: train/labels/25-11-2021_04-21-49_AM_human..txt  \n",
            "  inflating: train/labels/25-11-2021_04-22-19_AM_car..txt  \n",
            "  inflating: train/labels/25-11-2021_04-22-19_AM_head..txt  \n",
            "  inflating: train/labels/25-11-2021_04-22-19_AM_human..txt  \n",
            "  inflating: train/labels/25-11-2021_04-22-30_AM_car..txt  \n",
            "  inflating: train/labels/25-11-2021_04-22-30_AM_face..txt  \n",
            "  inflating: train/labels/25-11-2021_04-22-30_AM_head..txt  \n",
            "  inflating: train/labels/25-11-2021_04-22-30_AM_human..txt  \n",
            "  inflating: train/labels/25-11-2021_04-23-40_AM_car..txt  \n",
            "  inflating: train/labels/25-11-2021_04-23-40_AM_face..txt  \n",
            "  inflating: train/labels/25-11-2021_04-23-40_AM_head..txt  \n",
            "  inflating: train/labels/25-11-2021_04-23-40_AM_human..txt  \n",
            "  inflating: train/labels/25-11-2021_04-23-55_AM_car..txt  \n",
            "  inflating: train/labels/25-11-2021_04-23-55_AM_head..txt  \n",
            "  inflating: train/labels/25-11-2021_04-23-55_AM_human..txt  \n",
            "  inflating: train/labels/25-11-2021_04-33-22_PM_car..txt  \n",
            "  inflating: train/labels/25-11-2021_04-33-22_PM_head..txt  \n",
            "  inflating: train/labels/25-11-2021_04-33-22_PM_human..txt  \n",
            "  inflating: train/labels/25-11-2021_04-33-44_PM_car..txt  \n",
            "  inflating: train/labels/25-11-2021_04-33-44_PM_head..txt  \n",
            "  inflating: train/labels/25-11-2021_04-33-44_PM_human..txt  \n",
            "  inflating: train/labels/25-11-2021_04-34-12_PM_car..txt  \n",
            "  inflating: train/labels/25-11-2021_04-34-12_PM_face..txt  \n",
            "  inflating: train/labels/25-11-2021_04-34-12_PM_head..txt  \n",
            "  inflating: train/labels/25-11-2021_04-34-12_PM_human..txt  \n",
            "  inflating: train/labels/25-11-2021_04-34-15_PM_car..txt  \n",
            "  inflating: train/labels/25-11-2021_04-34-15_PM_head..txt  \n",
            "  inflating: train/labels/25-11-2021_04-34-15_PM_human..txt  \n",
            "  inflating: train/labels/25-11-2021_04-34-34_PM_car..txt  \n",
            "  inflating: train/labels/25-11-2021_04-34-34_PM_face..txt  \n",
            "  inflating: train/labels/25-11-2021_04-34-34_PM_head..txt  \n",
            "  inflating: train/labels/25-11-2021_04-34-34_PM_human..txt  \n",
            "  inflating: train/labels/25-11-2021_04-34-54_PM_car..txt  \n",
            "  inflating: train/labels/25-11-2021_04-34-54_PM_face..txt  \n",
            "  inflating: train/labels/25-11-2021_04-34-54_PM_head..txt  \n",
            "  inflating: train/labels/25-11-2021_04-34-54_PM_human..txt  \n",
            "  inflating: train/labels/25-11-2021_04-34-57_PM_car..txt  \n",
            "  inflating: train/labels/25-11-2021_04-34-57_PM_face..txt  \n",
            "  inflating: train/labels/25-11-2021_04-34-57_PM_head..txt  \n",
            "  inflating: train/labels/25-11-2021_04-34-57_PM_human..txt  \n",
            "  inflating: train/labels/25-11-2021_04-35-20_PM_car..txt  \n",
            "  inflating: train/labels/25-11-2021_04-35-20_PM_head..txt  \n",
            "  inflating: train/labels/25-11-2021_04-35-20_PM_human..txt  \n",
            "  inflating: train/labels/25-11-2021_04-35-53_PM_car..txt  \n",
            "  inflating: train/labels/25-11-2021_04-35-53_PM_face..txt  \n",
            "  inflating: train/labels/25-11-2021_04-35-53_PM_head..txt  \n",
            "  inflating: train/labels/25-11-2021_04-35-53_PM_human..txt  \n",
            "  inflating: train/labels/25-11-2021_04-38-59_AM_car..txt  \n",
            "  inflating: train/labels/25-11-2021_04-38-59_AM_face..txt  \n",
            "  inflating: train/labels/25-11-2021_04-38-59_AM_head..txt  \n",
            "  inflating: train/labels/25-11-2021_04-38-59_AM_human..txt  \n",
            "  inflating: train/labels/25-11-2021_04-39-03_AM_car..txt  \n",
            "  inflating: train/labels/25-11-2021_04-39-03_AM_head..txt  \n",
            "  inflating: train/labels/25-11-2021_04-39-03_AM_human..txt  \n",
            "  inflating: train/labels/25-11-2021_04-39-07_AM_car..txt  \n",
            "  inflating: train/labels/25-11-2021_04-39-07_AM_face..txt  \n",
            "  inflating: train/labels/25-11-2021_04-39-07_AM_head..txt  \n",
            "  inflating: train/labels/25-11-2021_04-39-07_AM_human..txt  \n",
            "  inflating: train/labels/25-11-2021_04-39-11_AM_car..txt  \n",
            "  inflating: train/labels/25-11-2021_04-39-11_AM_face..txt  \n",
            "  inflating: train/labels/25-11-2021_04-39-11_AM_head..txt  \n",
            "  inflating: train/labels/25-11-2021_04-39-11_AM_human..txt  \n",
            "  inflating: train/labels/25-11-2021_04-39-14_AM_car..txt  \n",
            "  inflating: train/labels/25-11-2021_04-39-14_AM_head..txt  \n",
            "  inflating: train/labels/25-11-2021_04-39-14_AM_human..txt  \n",
            "  inflating: train/labels/25-11-2021_04-39-16_AM_car..txt  \n",
            "  inflating: train/labels/25-11-2021_04-39-16_AM_head..txt  \n",
            "  inflating: train/labels/25-11-2021_04-39-16_AM_human..txt  \n",
            "  inflating: train/labels/25-11-2021_04-39-22_AM_car..txt  \n",
            "  inflating: train/labels/25-11-2021_04-39-22_AM_head..txt  \n",
            "  inflating: train/labels/25-11-2021_04-39-22_AM_human..txt  \n",
            "  inflating: train/labels/25-11-2021_04-39-36_AM_car..txt  \n",
            "  inflating: train/labels/25-11-2021_04-39-36_AM_face..txt  \n",
            "  inflating: train/labels/25-11-2021_04-39-36_AM_head..txt  \n",
            "  inflating: train/labels/25-11-2021_04-39-36_AM_human..txt  \n",
            "  inflating: train/labels/25-11-2021_04-40-01_AM_car..txt  \n",
            "  inflating: train/labels/25-11-2021_04-40-01_AM_head..txt  \n",
            "  inflating: train/labels/25-11-2021_04-40-01_AM_human..txt  \n",
            "  inflating: train/labels/25-11-2021_04-40-03_AM_car..txt  \n",
            "  inflating: train/labels/25-11-2021_04-40-03_AM_head..txt  \n",
            "  inflating: train/labels/25-11-2021_04-40-03_AM_human..txt  \n",
            "  inflating: train/labels/25-11-2021_04-40-10_AM_car..txt  \n",
            "  inflating: train/labels/25-11-2021_04-40-10_AM_head..txt  \n",
            "  inflating: train/labels/25-11-2021_04-40-10_AM_human..txt  \n",
            "  inflating: train/labels/25-11-2021_04-40-20_AM_car..txt  \n",
            "  inflating: train/labels/25-11-2021_04-40-20_AM_head..txt  \n",
            "  inflating: train/labels/25-11-2021_04-40-20_AM_human..txt  \n",
            "  inflating: train/labels/25-11-2021_04-40-30_AM_car..txt  \n",
            "  inflating: train/labels/25-11-2021_04-40-30_AM_head..txt  \n",
            "  inflating: train/labels/25-11-2021_04-40-30_AM_human..txt  \n",
            "  inflating: train/labels/25-11-2021_04-40-33_AM_car..txt  \n",
            "  inflating: train/labels/25-11-2021_04-40-33_AM_head..txt  \n",
            "  inflating: train/labels/25-11-2021_04-40-33_AM_human..txt  \n",
            "  inflating: train/labels/25-11-2021_04-40-36_AM_head..txt  \n",
            "  inflating: train/labels/25-11-2021_04-40-36_AM_human..txt  \n",
            "  inflating: train/labels/25-11-2021_04-40-39_AM_car..txt  \n",
            "  inflating: train/labels/25-11-2021_04-40-39_AM_head..txt  \n",
            "  inflating: train/labels/25-11-2021_04-40-39_AM_human..txt  \n",
            "  inflating: train/labels/25-11-2021_04-41-16_AM_car..txt  \n",
            "  inflating: train/labels/25-11-2021_04-41-16_AM_face..txt  \n",
            "  inflating: train/labels/25-11-2021_04-41-16_AM_head..txt  \n",
            "  inflating: train/labels/25-11-2021_04-41-16_AM_human..txt  \n",
            "  inflating: train/labels/25-11-2021_04-41-22_AM_car..txt  \n",
            "  inflating: train/labels/25-11-2021_04-41-22_AM_face..txt  \n",
            "  inflating: train/labels/25-11-2021_04-41-22_AM_head..txt  \n",
            "  inflating: train/labels/25-11-2021_04-41-22_AM_human..txt  \n",
            "  inflating: train/labels/25-11-2021_04-41-28_AM_car..txt  \n",
            "  inflating: train/labels/25-11-2021_04-41-28_AM_head..txt  \n",
            "  inflating: train/labels/25-11-2021_04-41-28_AM_human..txt  \n",
            "  inflating: train/labels/25-11-2021_04-41-34_AM_car..txt  \n",
            "  inflating: train/labels/25-11-2021_04-41-34_AM_head..txt  \n",
            "  inflating: train/labels/25-11-2021_04-41-34_AM_human..txt  \n",
            "  inflating: train/labels/25-11-2021_04-41-43_AM_car..txt  \n",
            "  inflating: train/labels/25-11-2021_04-41-43_AM_head..txt  \n",
            "  inflating: train/labels/25-11-2021_04-41-43_AM_human..txt  \n",
            "  inflating: train/labels/25-11-2021_04-41-45_AM_car..txt  \n",
            "  inflating: train/labels/25-11-2021_04-41-45_AM_head..txt  \n",
            "  inflating: train/labels/25-11-2021_04-41-45_AM_human..txt  \n",
            "  inflating: train/labels/25-11-2021_04-51-38_PM_car..txt  \n",
            "  inflating: train/labels/25-11-2021_04-51-38_PM_head..txt  \n",
            "  inflating: train/labels/25-11-2021_04-51-38_PM_human..txt  \n",
            "  inflating: train/labels/25-11-2021_04-52-19_PM_car..txt  \n",
            "  inflating: train/labels/25-11-2021_04-52-19_PM_head..txt  \n",
            "  inflating: train/labels/25-11-2021_04-52-19_PM_human..txt  \n",
            "  inflating: train/labels/25-11-2021_04-52-33_PM_car..txt  \n",
            "  inflating: train/labels/25-11-2021_04-52-33_PM_face..txt  \n",
            "  inflating: train/labels/25-11-2021_04-52-33_PM_head..txt  \n",
            "  inflating: train/labels/25-11-2021_04-52-33_PM_human..txt  \n",
            "  inflating: train/labels/25-11-2021_04-52-46_PM_face..txt  \n",
            "  inflating: train/labels/25-11-2021_04-52-46_PM_head..txt  \n",
            "  inflating: train/labels/25-11-2021_04-52-46_PM_human..txt  \n",
            "  inflating: train/labels/25-11-2021_04-53-19_PM_car..txt  \n",
            "  inflating: train/labels/25-11-2021_04-53-19_PM_face..txt  \n",
            "  inflating: train/labels/25-11-2021_04-53-19_PM_head..txt  \n",
            "  inflating: train/labels/25-11-2021_04-53-19_PM_human..txt  \n",
            "  inflating: train/labels/25-11-2021_04-53-26_PM_car..txt  \n",
            "  inflating: train/labels/25-11-2021_04-53-26_PM_head..txt  \n",
            "  inflating: train/labels/25-11-2021_04-53-26_PM_human..txt  \n",
            "  inflating: train/labels/25-11-2021_04-53-50_PM_car..txt  \n",
            "  inflating: train/labels/25-11-2021_04-53-50_PM_head..txt  \n",
            "  inflating: train/labels/25-11-2021_04-53-50_PM_human..txt  \n",
            "  inflating: train/labels/25-11-2021_04-53-52_PM_car..txt  \n",
            "  inflating: train/labels/25-11-2021_04-53-52_PM_head..txt  \n",
            "  inflating: train/labels/25-11-2021_04-53-52_PM_human..txt  \n",
            "  inflating: train/labels/25-11-2021_04-53-57_PM_car..txt  \n",
            "  inflating: train/labels/25-11-2021_04-53-57_PM_head..txt  \n",
            "  inflating: train/labels/25-11-2021_04-53-57_PM_human..txt  \n",
            "  inflating: train/labels/25-11-2021_04-57-00_AM_car..txt  \n",
            "  inflating: train/labels/25-11-2021_04-57-00_AM_head..txt  \n",
            "  inflating: train/labels/25-11-2021_04-57-00_AM_human..txt  \n",
            "  inflating: train/labels/25-11-2021_04-57-07_AM_car..txt  \n",
            "  inflating: train/labels/25-11-2021_04-57-07_AM_head..txt  \n",
            "  inflating: train/labels/25-11-2021_04-57-07_AM_human..txt  \n",
            "  inflating: train/labels/25-11-2021_04-57-35_AM_car..txt  \n",
            "  inflating: train/labels/25-11-2021_04-57-35_AM_head..txt  \n",
            "  inflating: train/labels/25-11-2021_04-57-35_AM_human..txt  \n",
            "  inflating: train/labels/25-11-2021_04-57-37_AM_car..txt  \n",
            "  inflating: train/labels/25-11-2021_04-57-37_AM_face..txt  \n",
            "  inflating: train/labels/25-11-2021_04-57-37_AM_head..txt  \n",
            "  inflating: train/labels/25-11-2021_04-57-37_AM_human..txt  \n",
            "  inflating: train/labels/25-11-2021_04-57-40_AM_car..txt  \n",
            "  inflating: train/labels/25-11-2021_04-57-40_AM_head..txt  \n",
            "  inflating: train/labels/25-11-2021_04-57-40_AM_human..txt  \n",
            "  inflating: train/labels/25-11-2021_04-57-50_AM_car..txt  \n",
            "  inflating: train/labels/25-11-2021_04-57-50_AM_face..txt  \n",
            "  inflating: train/labels/25-11-2021_04-57-50_AM_head..txt  \n",
            "  inflating: train/labels/25-11-2021_04-57-50_AM_human..txt  \n",
            "  inflating: train/labels/25-11-2021_04-58-05_AM_car..txt  \n",
            "  inflating: train/labels/25-11-2021_04-58-05_AM_head..txt  \n",
            "  inflating: train/labels/25-11-2021_04-58-05_AM_human..txt  \n",
            "  inflating: train/labels/25-11-2021_04-58-57_AM_car..txt  \n",
            "  inflating: train/labels/25-11-2021_04-58-57_AM_head..txt  \n",
            "  inflating: train/labels/25-11-2021_04-58-57_AM_human..txt  \n",
            "  inflating: train/labels/25-11-2021_04-58-59_AM_car..txt  \n",
            "  inflating: train/labels/25-11-2021_04-58-59_AM_head..txt  \n",
            "  inflating: train/labels/25-11-2021_04-58-59_AM_human..txt  \n",
            "  inflating: train/labels/25-11-2021_04-59-08_AM_car..txt  \n",
            "  inflating: train/labels/25-11-2021_04-59-08_AM_face..txt  \n",
            "  inflating: train/labels/25-11-2021_04-59-08_AM_head..txt  \n",
            "  inflating: train/labels/25-11-2021_04-59-08_AM_human..txt  \n",
            "  inflating: train/labels/25-11-2021_04-59-12_AM_car..txt  \n",
            "  inflating: train/labels/25-11-2021_04-59-12_AM_head..txt  \n",
            "  inflating: train/labels/25-11-2021_04-59-12_AM_human..txt  \n",
            "  inflating: train/labels/25-11-2021_04-59-19_AM_car..txt  \n",
            "  inflating: train/labels/25-11-2021_04-59-19_AM_head..txt  \n",
            "  inflating: train/labels/25-11-2021_04-59-19_AM_human..txt  \n",
            "  inflating: train/labels/25-11-2021_05-09-12_PM_car..txt  \n",
            "  inflating: train/labels/25-11-2021_05-09-12_PM_head..txt  \n",
            "  inflating: train/labels/25-11-2021_05-09-12_PM_human..txt  \n",
            "  inflating: train/labels/25-11-2021_05-09-32_PM_car..txt  \n",
            "  inflating: train/labels/25-11-2021_05-09-32_PM_head..txt  \n",
            "  inflating: train/labels/25-11-2021_05-09-32_PM_human..txt  \n",
            "  inflating: train/labels/25-11-2021_05-09-59_PM_car..txt  \n",
            "  inflating: train/labels/25-11-2021_05-09-59_PM_head..txt  \n",
            "  inflating: train/labels/25-11-2021_05-09-59_PM_human..txt  \n",
            "  inflating: train/labels/25-11-2021_05-10-12_PM_car..txt  \n",
            "  inflating: train/labels/25-11-2021_05-10-12_PM_head..txt  \n",
            "  inflating: train/labels/25-11-2021_05-10-12_PM_human..txt  \n",
            "  inflating: train/labels/25-11-2021_05-10-18_PM_car..txt  \n",
            "  inflating: train/labels/25-11-2021_05-10-18_PM_face..txt  \n",
            "  inflating: train/labels/25-11-2021_05-10-18_PM_head..txt  \n",
            "  inflating: train/labels/25-11-2021_05-10-18_PM_human..txt  \n",
            "  inflating: train/labels/25-11-2021_05-10-43_PM_car..txt  \n",
            "  inflating: train/labels/25-11-2021_05-10-43_PM_head..txt  \n",
            "  inflating: train/labels/25-11-2021_05-10-43_PM_human..txt  \n",
            "  inflating: train/labels/25-11-2021_05-11-04_PM_car..txt  \n",
            "  inflating: train/labels/25-11-2021_05-11-04_PM_head..txt  \n",
            "  inflating: train/labels/25-11-2021_05-11-04_PM_human..txt  \n",
            "  inflating: train/labels/25-11-2021_05-14-48_AM_car..txt  \n",
            "  inflating: train/labels/25-11-2021_05-14-48_AM_head..txt  \n",
            "  inflating: train/labels/25-11-2021_05-14-48_AM_human..txt  \n",
            "  inflating: train/labels/25-11-2021_05-15-02_AM_car..txt  \n",
            "  inflating: train/labels/25-11-2021_05-15-02_AM_head..txt  \n",
            "  inflating: train/labels/25-11-2021_05-15-02_AM_human..txt  \n",
            "  inflating: train/labels/25-11-2021_05-15-26_AM_car..txt  \n",
            "  inflating: train/labels/25-11-2021_05-15-26_AM_face..txt  \n",
            "  inflating: train/labels/25-11-2021_05-15-26_AM_head..txt  \n",
            "  inflating: train/labels/25-11-2021_05-15-26_AM_human..txt  \n",
            "  inflating: train/labels/25-11-2021_05-16-01_AM_car..txt  \n",
            "  inflating: train/labels/25-11-2021_05-16-01_AM_head..txt  \n",
            "  inflating: train/labels/25-11-2021_05-16-01_AM_human..txt  \n",
            "  inflating: train/labels/25-11-2021_05-16-04_AM_car..txt  \n",
            "  inflating: train/labels/25-11-2021_05-16-04_AM_face..txt  \n",
            "  inflating: train/labels/25-11-2021_05-16-04_AM_head..txt  \n",
            "  inflating: train/labels/25-11-2021_05-16-04_AM_human..txt  \n",
            "  inflating: train/labels/25-11-2021_05-16-22_AM_car..txt  \n",
            "  inflating: train/labels/25-11-2021_05-16-22_AM_head..txt  \n",
            "  inflating: train/labels/25-11-2021_05-16-22_AM_human..txt  \n",
            "  inflating: train/labels/25-11-2021_05-16-56_AM_car..txt  \n",
            "  inflating: train/labels/25-11-2021_05-16-56_AM_head..txt  \n",
            "  inflating: train/labels/25-11-2021_05-16-56_AM_human..txt  \n",
            "  inflating: train/labels/25-11-2021_05-17-02_AM_car..txt  \n",
            "  inflating: train/labels/25-11-2021_05-17-02_AM_head..txt  \n",
            "  inflating: train/labels/25-11-2021_05-17-02_AM_human..txt  \n",
            "  inflating: train/labels/25-11-2021_05-17-04_AM_car..txt  \n",
            "  inflating: train/labels/25-11-2021_05-17-04_AM_face..txt  \n",
            "  inflating: train/labels/25-11-2021_05-17-04_AM_head..txt  \n",
            "  inflating: train/labels/25-11-2021_05-17-04_AM_human..txt  \n",
            "  inflating: train/labels/25-11-2021_05-17-28_AM_car..txt  \n",
            "  inflating: train/labels/25-11-2021_05-17-28_AM_head..txt  \n",
            "  inflating: train/labels/25-11-2021_05-17-28_AM_human..txt  \n",
            "  inflating: train/labels/25-11-2021_05-27-35_PM_car..txt  \n",
            "  inflating: train/labels/25-11-2021_05-27-35_PM_head..txt  \n",
            "  inflating: train/labels/25-11-2021_05-27-35_PM_human..txt  \n",
            "  inflating: train/labels/25-11-2021_05-27-56_PM_car..txt  \n",
            "  inflating: train/labels/25-11-2021_05-27-56_PM_head..txt  \n",
            "  inflating: train/labels/25-11-2021_05-27-56_PM_human..txt  \n",
            "  inflating: train/labels/25-11-2021_05-28-11_PM_car..txt  \n",
            "  inflating: train/labels/25-11-2021_05-28-11_PM_head..txt  \n",
            "  inflating: train/labels/25-11-2021_05-28-11_PM_human..txt  \n",
            "  inflating: train/labels/25-11-2021_05-28-18_PM_car..txt  \n",
            "  inflating: train/labels/25-11-2021_05-28-18_PM_face..txt  \n",
            "  inflating: train/labels/25-11-2021_05-28-18_PM_head..txt  \n",
            "  inflating: train/labels/25-11-2021_05-28-18_PM_human..txt  \n",
            "  inflating: train/labels/25-11-2021_05-28-43_PM_car..txt  \n",
            "  inflating: train/labels/25-11-2021_05-28-43_PM_head..txt  \n",
            "  inflating: train/labels/25-11-2021_05-28-43_PM_human..txt  \n",
            "  inflating: train/labels/25-11-2021_05-28-47_PM_car..txt  \n",
            "  inflating: train/labels/25-11-2021_05-28-47_PM_head..txt  \n",
            "  inflating: train/labels/25-11-2021_05-28-47_PM_human..txt  \n",
            "  inflating: train/labels/25-11-2021_05-28-58_PM_car..txt  \n",
            "  inflating: train/labels/25-11-2021_05-28-58_PM_head..txt  \n",
            "  inflating: train/labels/25-11-2021_05-28-58_PM_human..txt  \n",
            "  inflating: train/labels/25-11-2021_05-29-22_PM_car..txt  \n",
            "  inflating: train/labels/25-11-2021_05-29-22_PM_head..txt  \n",
            "  inflating: train/labels/25-11-2021_05-29-22_PM_human..txt  \n",
            "  inflating: train/labels/25-11-2021_05-29-30_PM_car..txt  \n",
            "  inflating: train/labels/25-11-2021_05-29-30_PM_head..txt  \n",
            "  inflating: train/labels/25-11-2021_05-29-30_PM_human..txt  \n",
            "  inflating: train/labels/25-11-2021_05-32-38_AM_car..txt  \n",
            "  inflating: train/labels/25-11-2021_05-32-38_AM_head..txt  \n",
            "  inflating: train/labels/25-11-2021_05-32-38_AM_human..txt  \n",
            "  inflating: train/labels/25-11-2021_05-32-48_AM_car..txt  \n",
            "  inflating: train/labels/25-11-2021_05-32-48_AM_head..txt  \n",
            "  inflating: train/labels/25-11-2021_05-32-48_AM_human..txt  \n",
            "  inflating: train/labels/25-11-2021_05-32-58_AM_car..txt  \n",
            "  inflating: train/labels/25-11-2021_05-32-58_AM_head..txt  \n",
            "  inflating: train/labels/25-11-2021_05-32-58_AM_human..txt  \n",
            "  inflating: train/labels/25-11-2021_05-33-01_AM_car..txt  \n",
            "  inflating: train/labels/25-11-2021_05-33-01_AM_head..txt  \n",
            "  inflating: train/labels/25-11-2021_05-33-01_AM_human..txt  \n",
            "  inflating: train/labels/25-11-2021_05-33-28_AM_car..txt  \n",
            "  inflating: train/labels/25-11-2021_05-33-28_AM_head..txt  \n",
            "  inflating: train/labels/25-11-2021_05-33-28_AM_human..txt  \n",
            "  inflating: train/labels/25-11-2021_05-33-49_AM_car..txt  \n",
            "  inflating: train/labels/25-11-2021_05-33-49_AM_head..txt  \n",
            "  inflating: train/labels/25-11-2021_05-33-49_AM_human..txt  \n",
            "  inflating: train/labels/25-11-2021_05-33-52_AM_car..txt  \n",
            "  inflating: train/labels/25-11-2021_05-33-52_AM_head..txt  \n",
            "  inflating: train/labels/25-11-2021_05-33-52_AM_human..txt  \n",
            "  inflating: train/labels/25-11-2021_05-34-32_AM_car..txt  \n",
            "  inflating: train/labels/25-11-2021_05-34-32_AM_face..txt  \n",
            "  inflating: train/labels/25-11-2021_05-34-32_AM_head..txt  \n",
            "  inflating: train/labels/25-11-2021_05-34-32_AM_human..txt  \n",
            "  inflating: train/labels/25-11-2021_05-34-46_AM_car..txt  \n",
            "  inflating: train/labels/25-11-2021_05-34-46_AM_face..txt  \n",
            "  inflating: train/labels/25-11-2021_05-34-46_AM_head..txt  \n",
            "  inflating: train/labels/25-11-2021_05-34-46_AM_human..txt  \n",
            "  inflating: train/labels/25-11-2021_05-34-52_AM_car..txt  \n",
            "  inflating: train/labels/25-11-2021_05-34-52_AM_face..txt  \n",
            "  inflating: train/labels/25-11-2021_05-34-52_AM_head..txt  \n",
            "  inflating: train/labels/25-11-2021_05-34-52_AM_human..txt  \n",
            "  inflating: train/labels/25-11-2021_05-35-13_AM_car..txt  \n",
            "  inflating: train/labels/25-11-2021_05-35-13_AM_face..txt  \n",
            "  inflating: train/labels/25-11-2021_05-35-13_AM_head..txt  \n",
            "  inflating: train/labels/25-11-2021_05-35-13_AM_human..txt  \n",
            "  inflating: train/labels/25-11-2021_05-35-18_AM_car..txt  \n",
            "  inflating: train/labels/25-11-2021_05-35-18_AM_head..txt  \n",
            "  inflating: train/labels/25-11-2021_05-35-18_AM_human..txt  \n",
            "  inflating: train/labels/25-11-2021_05-35-23_AM_face..txt  \n",
            "  inflating: train/labels/25-11-2021_05-35-23_AM_head..txt  \n",
            "  inflating: train/labels/25-11-2021_05-35-23_AM_human..txt  \n",
            "  inflating: train/labels/25-11-2021_05-45-36_PM_car..txt  \n",
            "  inflating: train/labels/25-11-2021_05-45-36_PM_head..txt  \n",
            "  inflating: train/labels/25-11-2021_05-45-36_PM_human..txt  \n",
            "  inflating: train/labels/25-11-2021_05-45-39_PM_car..txt  \n",
            "  inflating: train/labels/25-11-2021_05-45-39_PM_face..txt  \n",
            "  inflating: train/labels/25-11-2021_05-45-39_PM_head..txt  \n",
            "  inflating: train/labels/25-11-2021_05-45-39_PM_human..txt  \n",
            "  inflating: train/labels/25-11-2021_05-45-43_PM_car..txt  \n",
            "  inflating: train/labels/25-11-2021_05-45-43_PM_face..txt  \n",
            "  inflating: train/labels/25-11-2021_05-45-43_PM_head..txt  \n",
            "  inflating: train/labels/25-11-2021_05-45-43_PM_human..txt  \n",
            "  inflating: train/labels/25-11-2021_05-45-59_PM_car..txt  \n",
            "  inflating: train/labels/25-11-2021_05-45-59_PM_head..txt  \n",
            "  inflating: train/labels/25-11-2021_05-45-59_PM_human..txt  \n",
            "  inflating: train/labels/25-11-2021_05-46-01_PM_car..txt  \n",
            "  inflating: train/labels/25-11-2021_05-46-01_PM_face..txt  \n",
            "  inflating: train/labels/25-11-2021_05-46-01_PM_head..txt  \n",
            "  inflating: train/labels/25-11-2021_05-46-01_PM_human..txt  \n",
            "  inflating: train/labels/25-11-2021_05-46-17_PM_car..txt  \n",
            "  inflating: train/labels/25-11-2021_05-46-17_PM_head..txt  \n",
            "  inflating: train/labels/25-11-2021_05-46-17_PM_human..txt  \n",
            "  inflating: train/labels/25-11-2021_05-46-21_PM_car..txt  \n",
            "  inflating: train/labels/25-11-2021_05-46-21_PM_head..txt  \n",
            "  inflating: train/labels/25-11-2021_05-46-21_PM_human..txt  \n",
            "  inflating: train/labels/25-11-2021_05-46-28_PM_car..txt  \n",
            "  inflating: train/labels/25-11-2021_05-46-28_PM_head..txt  \n",
            "  inflating: train/labels/25-11-2021_05-46-28_PM_human..txt  \n",
            "  inflating: train/labels/25-11-2021_05-47-21_PM_face..txt  \n",
            "  inflating: train/labels/25-11-2021_05-47-21_PM_head..txt  \n",
            "  inflating: train/labels/25-11-2021_05-47-21_PM_human..txt  \n",
            "  inflating: train/labels/25-11-2021_05-47-35_PM_car..txt  \n",
            "  inflating: train/labels/25-11-2021_05-47-35_PM_head..txt  \n",
            "  inflating: train/labels/25-11-2021_05-47-35_PM_human..txt  \n",
            "  inflating: train/labels/25-11-2021_05-47-46_PM_car..txt  \n",
            "  inflating: train/labels/25-11-2021_05-47-46_PM_face..txt  \n",
            "  inflating: train/labels/25-11-2021_05-47-46_PM_head..txt  \n",
            "  inflating: train/labels/25-11-2021_05-47-46_PM_human..txt  \n",
            "  inflating: train/labels/25-11-2021_05-50-26_AM_car..txt  \n",
            "  inflating: train/labels/25-11-2021_05-50-26_AM_head..txt  \n",
            "  inflating: train/labels/25-11-2021_05-50-26_AM_human..txt  \n",
            "  inflating: train/labels/25-11-2021_05-50-34_AM_car..txt  \n",
            "  inflating: train/labels/25-11-2021_05-50-34_AM_face..txt  \n",
            "  inflating: train/labels/25-11-2021_05-50-34_AM_head..txt  \n",
            "  inflating: train/labels/25-11-2021_05-50-34_AM_human..txt  \n",
            "  inflating: train/labels/25-11-2021_05-51-18_AM_car..txt  \n",
            "  inflating: train/labels/25-11-2021_05-51-18_AM_head..txt  \n",
            "  inflating: train/labels/25-11-2021_05-51-18_AM_human..txt  \n",
            "  inflating: train/labels/25-11-2021_05-51-31_AM_car..txt  \n",
            "  inflating: train/labels/25-11-2021_05-51-31_AM_head..txt  \n",
            "  inflating: train/labels/25-11-2021_05-51-31_AM_human..txt  \n",
            "  inflating: train/labels/25-11-2021_05-51-46_AM_car..txt  \n",
            "  inflating: train/labels/25-11-2021_05-51-46_AM_head..txt  \n",
            "  inflating: train/labels/25-11-2021_05-51-46_AM_human..txt  \n",
            "  inflating: train/labels/25-11-2021_05-51-53_AM_car..txt  \n",
            "  inflating: train/labels/25-11-2021_05-51-53_AM_head..txt  \n",
            "  inflating: train/labels/25-11-2021_05-51-53_AM_human..txt  \n",
            "  inflating: train/labels/25-11-2021_05-52-15_AM_car..txt  \n",
            "  inflating: train/labels/25-11-2021_05-52-15_AM_head..txt  \n",
            "  inflating: train/labels/25-11-2021_05-52-15_AM_human..txt  \n",
            "  inflating: train/labels/25-11-2021_05-52-21_AM_car..txt  \n",
            "  inflating: train/labels/25-11-2021_05-52-21_AM_face..txt  \n",
            "  inflating: train/labels/25-11-2021_05-52-21_AM_head..txt  \n",
            "  inflating: train/labels/25-11-2021_05-52-21_AM_human..txt  \n",
            "  inflating: train/labels/25-11-2021_05-52-42_AM_car..txt  \n",
            "  inflating: train/labels/25-11-2021_05-52-42_AM_face..txt  \n",
            "  inflating: train/labels/25-11-2021_05-52-42_AM_head..txt  \n",
            "  inflating: train/labels/25-11-2021_05-52-42_AM_human..txt  \n",
            "  inflating: train/labels/25-11-2021_05-52-46_AM_car..txt  \n",
            "  inflating: train/labels/25-11-2021_05-52-46_AM_face..txt  \n",
            "  inflating: train/labels/25-11-2021_05-52-46_AM_head..txt  \n",
            "  inflating: train/labels/25-11-2021_05-52-46_AM_human..txt  \n",
            "  inflating: train/labels/25-11-2021_05-52-50_AM_car..txt  \n",
            "  inflating: train/labels/25-11-2021_05-52-50_AM_face..txt  \n",
            "  inflating: train/labels/25-11-2021_05-52-50_AM_head..txt  \n",
            "  inflating: train/labels/25-11-2021_05-52-50_AM_human..txt  \n",
            "  inflating: train/labels/25-11-2021_05-52-52_AM_car..txt  \n",
            "  inflating: train/labels/25-11-2021_05-52-52_AM_face..txt  \n",
            "  inflating: train/labels/25-11-2021_05-52-52_AM_head..txt  \n",
            "  inflating: train/labels/25-11-2021_05-52-52_AM_human..txt  \n",
            "  inflating: train/labels/25-11-2021_05-53-18_AM_car..txt  \n",
            "  inflating: train/labels/25-11-2021_05-53-18_AM_face..txt  \n",
            "  inflating: train/labels/25-11-2021_05-53-18_AM_head..txt  \n",
            "  inflating: train/labels/25-11-2021_05-53-18_AM_human..txt  \n",
            "  inflating: train/labels/25-11-2021_06-03-02_PM_car..txt  \n",
            "  inflating: train/labels/25-11-2021_06-03-02_PM_face..txt  \n",
            "  inflating: train/labels/25-11-2021_06-03-02_PM_head..txt  \n",
            "  inflating: train/labels/25-11-2021_06-03-02_PM_human..txt  \n",
            "  inflating: train/labels/25-11-2021_06-03-22_PM_car..txt  \n",
            "  inflating: train/labels/25-11-2021_06-03-22_PM_head..txt  \n",
            "  inflating: train/labels/25-11-2021_06-03-22_PM_human..txt  \n",
            "  inflating: train/labels/25-11-2021_06-04-12_PM_car..txt  \n",
            "  inflating: train/labels/25-11-2021_06-04-12_PM_face..txt  \n",
            "  inflating: train/labels/25-11-2021_06-04-12_PM_head..txt  \n",
            "  inflating: train/labels/25-11-2021_06-04-12_PM_human..txt  \n",
            "  inflating: train/labels/25-11-2021_06-05-12_PM_face..txt  \n",
            "  inflating: train/labels/25-11-2021_06-05-12_PM_head..txt  \n",
            "  inflating: train/labels/25-11-2021_06-05-12_PM_human..txt  \n",
            "  inflating: train/labels/25-11-2021_06-05-37_PM_car..txt  \n",
            "  inflating: train/labels/25-11-2021_06-05-37_PM_head..txt  \n",
            "  inflating: train/labels/25-11-2021_06-05-37_PM_human..txt  \n",
            "  inflating: train/labels/25-11-2021_06-08-26_AM_car..txt  \n",
            "  inflating: train/labels/25-11-2021_06-08-26_AM_head..txt  \n",
            "  inflating: train/labels/25-11-2021_06-08-26_AM_human..txt  \n",
            "  inflating: train/labels/25-11-2021_06-08-30_AM_car..txt  \n",
            "  inflating: train/labels/25-11-2021_06-08-30_AM_head..txt  \n",
            "  inflating: train/labels/25-11-2021_06-08-30_AM_human..txt  \n",
            "  inflating: train/labels/25-11-2021_06-08-40_AM_car..txt  \n",
            "  inflating: train/labels/25-11-2021_06-08-40_AM_head..txt  \n",
            "  inflating: train/labels/25-11-2021_06-08-40_AM_human..txt  \n",
            "  inflating: train/labels/25-11-2021_06-08-56_AM_car..txt  \n",
            "  inflating: train/labels/25-11-2021_06-08-56_AM_face..txt  \n",
            "  inflating: train/labels/25-11-2021_06-08-56_AM_head..txt  \n",
            "  inflating: train/labels/25-11-2021_06-08-56_AM_human..txt  \n",
            "  inflating: train/labels/25-11-2021_06-09-12_AM_car..txt  \n",
            "  inflating: train/labels/25-11-2021_06-09-12_AM_head..txt  \n",
            "  inflating: train/labels/25-11-2021_06-09-12_AM_human..txt  \n",
            "  inflating: train/labels/25-11-2021_06-09-15_AM_car..txt  \n",
            "  inflating: train/labels/25-11-2021_06-09-15_AM_head..txt  \n",
            "  inflating: train/labels/25-11-2021_06-09-15_AM_human..txt  \n",
            "  inflating: train/labels/25-11-2021_06-09-33_AM_car..txt  \n",
            "  inflating: train/labels/25-11-2021_06-09-33_AM_head..txt  \n",
            "  inflating: train/labels/25-11-2021_06-09-33_AM_human..txt  \n",
            "  inflating: train/labels/25-11-2021_06-09-45_AM_car..txt  \n",
            "  inflating: train/labels/25-11-2021_06-09-45_AM_head..txt  \n",
            "  inflating: train/labels/25-11-2021_06-09-45_AM_human..txt  \n",
            "  inflating: train/labels/25-11-2021_06-10-00_AM_car..txt  \n",
            "  inflating: train/labels/25-11-2021_06-10-00_AM_head..txt  \n",
            "  inflating: train/labels/25-11-2021_06-10-00_AM_human..txt  \n",
            "  inflating: train/labels/25-11-2021_06-10-42_AM_car..txt  \n",
            "  inflating: train/labels/25-11-2021_06-10-42_AM_head..txt  \n",
            "  inflating: train/labels/25-11-2021_06-10-42_AM_human..txt  \n",
            "  inflating: train/labels/25-11-2021_06-10-46_AM_car..txt  \n",
            "  inflating: train/labels/25-11-2021_06-10-46_AM_face..txt  \n",
            "  inflating: train/labels/25-11-2021_06-10-46_AM_head..txt  \n",
            "  inflating: train/labels/25-11-2021_06-10-46_AM_human..txt  \n",
            "  inflating: train/labels/25-11-2021_06-10-54_AM_face..txt  \n",
            "  inflating: train/labels/25-11-2021_06-10-54_AM_head..txt  \n",
            "  inflating: train/labels/25-11-2021_06-10-54_AM_human..txt  \n",
            "  inflating: train/labels/25-11-2021_06-11-24_AM_car..txt  \n",
            "  inflating: train/labels/25-11-2021_06-11-24_AM_face..txt  \n",
            "  inflating: train/labels/25-11-2021_06-11-24_AM_head..txt  \n",
            "  inflating: train/labels/25-11-2021_06-11-24_AM_human..txt  \n",
            "  inflating: train/labels/25-11-2021_06-11-26_AM_car..txt  \n",
            "  inflating: train/labels/25-11-2021_06-11-26_AM_head..txt  \n",
            "  inflating: train/labels/25-11-2021_06-11-26_AM_human..txt  \n",
            "  inflating: train/labels/25-11-2021_06-21-27_PM_car..txt  \n",
            "  inflating: train/labels/25-11-2021_06-21-27_PM_head..txt  \n",
            "  inflating: train/labels/25-11-2021_06-21-27_PM_human..txt  \n",
            "  inflating: train/labels/25-11-2021_06-21-44_PM_car..txt  \n",
            "  inflating: train/labels/25-11-2021_06-21-44_PM_head..txt  \n",
            "  inflating: train/labels/25-11-2021_06-21-44_PM_human..txt  \n",
            "  inflating: train/labels/25-11-2021_06-21-58_PM_car..txt  \n",
            "  inflating: train/labels/25-11-2021_06-21-58_PM_head..txt  \n",
            "  inflating: train/labels/25-11-2021_06-21-58_PM_human..txt  \n",
            "  inflating: train/labels/25-11-2021_06-22-13_PM_car..txt  \n",
            "  inflating: train/labels/25-11-2021_06-22-13_PM_face..txt  \n",
            "  inflating: train/labels/25-11-2021_06-22-13_PM_head..txt  \n",
            "  inflating: train/labels/25-11-2021_06-22-13_PM_human..txt  \n",
            "  inflating: train/labels/25-11-2021_06-22-47_PM_face..txt  \n",
            "  inflating: train/labels/25-11-2021_06-22-47_PM_head..txt  \n",
            "  inflating: train/labels/25-11-2021_06-22-47_PM_human..txt  \n",
            "  inflating: train/labels/25-11-2021_06-23-25_PM_car..txt  \n",
            "  inflating: train/labels/25-11-2021_06-23-25_PM_head..txt  \n",
            "  inflating: train/labels/25-11-2021_06-23-25_PM_human..txt  \n",
            "  inflating: train/labels/25-11-2021_06-23-29_PM_car..txt  \n",
            "  inflating: train/labels/25-11-2021_06-23-29_PM_head..txt  \n",
            "  inflating: train/labels/25-11-2021_06-23-29_PM_human..txt  \n",
            "  inflating: train/labels/25-11-2021_06-26-30_AM_car..txt  \n",
            "  inflating: train/labels/25-11-2021_06-26-30_AM_head..txt  \n",
            "  inflating: train/labels/25-11-2021_06-26-30_AM_human..txt  \n",
            "  inflating: train/labels/25-11-2021_06-26-43_AM_car..txt  \n",
            "  inflating: train/labels/25-11-2021_06-26-43_AM_face..txt  \n",
            "  inflating: train/labels/25-11-2021_06-26-43_AM_head..txt  \n",
            "  inflating: train/labels/25-11-2021_06-26-43_AM_human..txt  \n",
            "  inflating: train/labels/25-11-2021_06-27-03_AM_car..txt  \n",
            "  inflating: train/labels/25-11-2021_06-27-03_AM_face..txt  \n",
            "  inflating: train/labels/25-11-2021_06-27-03_AM_head..txt  \n",
            "  inflating: train/labels/25-11-2021_06-27-03_AM_human..txt  \n",
            "  inflating: train/labels/25-11-2021_06-27-07_AM_car..txt  \n",
            "  inflating: train/labels/25-11-2021_06-27-07_AM_face..txt  \n",
            "  inflating: train/labels/25-11-2021_06-27-07_AM_head..txt  \n",
            "  inflating: train/labels/25-11-2021_06-27-07_AM_human..txt  \n",
            "  inflating: train/labels/25-11-2021_06-27-09_AM_car..txt  \n",
            "  inflating: train/labels/25-11-2021_06-27-09_AM_head..txt  \n",
            "  inflating: train/labels/25-11-2021_06-27-09_AM_human..txt  \n",
            "  inflating: train/labels/25-11-2021_06-27-15_AM_car..txt  \n",
            "  inflating: train/labels/25-11-2021_06-27-15_AM_head..txt  \n",
            "  inflating: train/labels/25-11-2021_06-27-15_AM_human..txt  \n",
            "  inflating: train/labels/25-11-2021_06-27-17_AM_car..txt  \n",
            "  inflating: train/labels/25-11-2021_06-27-17_AM_face..txt  \n",
            "  inflating: train/labels/25-11-2021_06-27-17_AM_head..txt  \n",
            "  inflating: train/labels/25-11-2021_06-27-17_AM_human..txt  \n",
            "  inflating: train/labels/25-11-2021_06-27-38_AM_car..txt  \n",
            "  inflating: train/labels/25-11-2021_06-27-38_AM_head..txt  \n",
            "  inflating: train/labels/25-11-2021_06-27-38_AM_human..txt  \n",
            "  inflating: train/labels/25-11-2021_06-27-53_AM_car..txt  \n",
            "  inflating: train/labels/25-11-2021_06-27-53_AM_face..txt  \n",
            "  inflating: train/labels/25-11-2021_06-27-53_AM_head..txt  \n",
            "  inflating: train/labels/25-11-2021_06-27-53_AM_human..txt  \n",
            "  inflating: train/labels/25-11-2021_06-28-22_AM_car..txt  \n",
            "  inflating: train/labels/25-11-2021_06-28-22_AM_face..txt  \n",
            "  inflating: train/labels/25-11-2021_06-28-22_AM_head..txt  \n",
            "  inflating: train/labels/25-11-2021_06-28-22_AM_human..txt  \n",
            "  inflating: train/labels/25-11-2021_06-28-29_AM_car..txt  \n",
            "  inflating: train/labels/25-11-2021_06-28-29_AM_face..txt  \n",
            "  inflating: train/labels/25-11-2021_06-28-29_AM_head..txt  \n",
            "  inflating: train/labels/25-11-2021_06-28-29_AM_human..txt  \n",
            "  inflating: train/labels/25-11-2021_06-28-58_AM_car..txt  \n",
            "  inflating: train/labels/25-11-2021_06-28-58_AM_face..txt  \n",
            "  inflating: train/labels/25-11-2021_06-28-58_AM_head..txt  \n",
            "  inflating: train/labels/25-11-2021_06-28-58_AM_human..txt  \n",
            "  inflating: train/labels/25-11-2021_06-29-16_AM_car..txt  \n",
            "  inflating: train/labels/25-11-2021_06-29-16_AM_face..txt  \n",
            "  inflating: train/labels/25-11-2021_06-29-16_AM_head..txt  \n",
            "  inflating: train/labels/25-11-2021_06-29-16_AM_human..txt  \n",
            "  inflating: train/labels/25-11-2021_06-29-24_AM_car..txt  \n",
            "  inflating: train/labels/25-11-2021_06-29-24_AM_face..txt  \n",
            "  inflating: train/labels/25-11-2021_06-29-24_AM_head..txt  \n",
            "  inflating: train/labels/25-11-2021_06-29-24_AM_human..txt  \n",
            "  inflating: train/labels/25-11-2021_06-38-32_PM_car..txt  \n",
            "  inflating: train/labels/25-11-2021_06-38-32_PM_head..txt  \n",
            "  inflating: train/labels/25-11-2021_06-38-32_PM_human..txt  \n",
            "  inflating: train/labels/25-11-2021_06-38-45_PM_car..txt  \n",
            "  inflating: train/labels/25-11-2021_06-38-45_PM_head..txt  \n",
            "  inflating: train/labels/25-11-2021_06-38-45_PM_human..txt  \n",
            "  inflating: train/labels/25-11-2021_06-39-02_PM_car..txt  \n",
            "  inflating: train/labels/25-11-2021_06-39-02_PM_head..txt  \n",
            "  inflating: train/labels/25-11-2021_06-39-02_PM_human..txt  \n",
            "  inflating: train/labels/25-11-2021_06-41-12_PM_car..txt  \n",
            "  inflating: train/labels/25-11-2021_06-41-12_PM_face..txt  \n",
            "  inflating: train/labels/25-11-2021_06-41-12_PM_head..txt  \n",
            "  inflating: train/labels/25-11-2021_06-41-12_PM_human..txt  \n",
            "  inflating: train/labels/25-11-2021_06-44-26_AM_car..txt  \n",
            "  inflating: train/labels/25-11-2021_06-44-26_AM_head..txt  \n",
            "  inflating: train/labels/25-11-2021_06-44-26_AM_human..txt  \n",
            "  inflating: train/labels/25-11-2021_06-45-12_AM_car..txt  \n",
            "  inflating: train/labels/25-11-2021_06-45-12_AM_face..txt  \n",
            "  inflating: train/labels/25-11-2021_06-45-12_AM_head..txt  \n",
            "  inflating: train/labels/25-11-2021_06-45-12_AM_human..txt  \n",
            "  inflating: train/labels/25-11-2021_06-45-15_AM_car..txt  \n",
            "  inflating: train/labels/25-11-2021_06-45-15_AM_head..txt  \n",
            "  inflating: train/labels/25-11-2021_06-45-15_AM_human..txt  \n",
            "  inflating: train/labels/25-11-2021_06-45-17_AM_car..txt  \n",
            "  inflating: train/labels/25-11-2021_06-45-17_AM_head..txt  \n",
            "  inflating: train/labels/25-11-2021_06-45-17_AM_human..txt  \n",
            "  inflating: train/labels/25-11-2021_06-45-42_AM_car..txt  \n",
            "  inflating: train/labels/25-11-2021_06-45-42_AM_head..txt  \n",
            "  inflating: train/labels/25-11-2021_06-45-42_AM_human..txt  \n",
            "  inflating: train/labels/25-11-2021_06-45-49_AM_car..txt  \n",
            "  inflating: train/labels/25-11-2021_06-45-49_AM_face..txt  \n",
            "  inflating: train/labels/25-11-2021_06-45-49_AM_head..txt  \n",
            "  inflating: train/labels/25-11-2021_06-45-49_AM_human..txt  \n",
            "  inflating: train/labels/25-11-2021_06-46-30_AM_car..txt  \n",
            "  inflating: train/labels/25-11-2021_06-46-30_AM_head..txt  \n",
            "  inflating: train/labels/25-11-2021_06-46-30_AM_human..txt  \n",
            "  inflating: train/labels/25-11-2021_06-46-34_AM_car..txt  \n",
            "  inflating: train/labels/25-11-2021_06-46-34_AM_head..txt  \n",
            "  inflating: train/labels/25-11-2021_06-46-34_AM_human..txt  \n",
            "  inflating: train/labels/25-11-2021_06-46-58_AM_car..txt  \n",
            "  inflating: train/labels/25-11-2021_06-46-58_AM_head..txt  \n",
            "  inflating: train/labels/25-11-2021_06-46-58_AM_human..txt  \n",
            "  inflating: train/labels/25-11-2021_06-47-05_AM_car..txt  \n",
            "  inflating: train/labels/25-11-2021_06-47-05_AM_head..txt  \n",
            "  inflating: train/labels/25-11-2021_06-47-05_AM_human..txt  \n",
            "  inflating: train/labels/25-11-2021_06-47-14_AM_face..txt  \n",
            "  inflating: train/labels/25-11-2021_06-47-14_AM_head..txt  \n",
            "  inflating: train/labels/25-11-2021_06-47-14_AM_human..txt  \n",
            "  inflating: train/labels/25-11-2021_06-56-55_PM_head..txt  \n",
            "  inflating: train/labels/25-11-2021_06-56-55_PM_human..txt  \n",
            "  inflating: train/labels/25-11-2021_06-57-44_PM_car..txt  \n",
            "  inflating: train/labels/25-11-2021_06-57-44_PM_face..txt  \n",
            "  inflating: train/labels/25-11-2021_06-57-44_PM_head..txt  \n",
            "  inflating: train/labels/25-11-2021_06-57-44_PM_human..txt  \n",
            "  inflating: train/labels/25-11-2021_06-59-05_PM_car..txt  \n",
            "  inflating: train/labels/25-11-2021_06-59-05_PM_face..txt  \n",
            "  inflating: train/labels/25-11-2021_06-59-05_PM_head..txt  \n",
            "  inflating: train/labels/25-11-2021_06-59-05_PM_human..txt  \n",
            "  inflating: train/labels/25-11-2021_07-02-18_AM_car..txt  \n",
            "  inflating: train/labels/25-11-2021_07-02-18_AM_head..txt  \n",
            "  inflating: train/labels/25-11-2021_07-02-18_AM_human..txt  \n",
            "  inflating: train/labels/25-11-2021_07-02-24_AM_car..txt  \n",
            "  inflating: train/labels/25-11-2021_07-02-24_AM_head..txt  \n",
            "  inflating: train/labels/25-11-2021_07-02-24_AM_human..txt  \n",
            "  inflating: train/labels/25-11-2021_07-02-34_AM_car..txt  \n",
            "  inflating: train/labels/25-11-2021_07-02-34_AM_head..txt  \n",
            "  inflating: train/labels/25-11-2021_07-02-34_AM_human..txt  \n",
            "  inflating: train/labels/25-11-2021_07-02-42_AM_car..txt  \n",
            "  inflating: train/labels/25-11-2021_07-02-42_AM_head..txt  \n",
            "  inflating: train/labels/25-11-2021_07-02-42_AM_human..txt  \n",
            "  inflating: train/labels/25-11-2021_07-02-46_AM_car..txt  \n",
            "  inflating: train/labels/25-11-2021_07-02-46_AM_head..txt  \n",
            "  inflating: train/labels/25-11-2021_07-02-46_AM_human..txt  \n",
            "  inflating: train/labels/25-11-2021_07-03-28_AM_car..txt  \n",
            "  inflating: train/labels/25-11-2021_07-03-28_AM_head..txt  \n",
            "  inflating: train/labels/25-11-2021_07-03-28_AM_human..txt  \n",
            "  inflating: train/labels/25-11-2021_07-04-25_AM_car..txt  \n",
            "  inflating: train/labels/25-11-2021_07-04-25_AM_face..txt  \n",
            "  inflating: train/labels/25-11-2021_07-04-25_AM_head..txt  \n",
            "  inflating: train/labels/25-11-2021_07-04-25_AM_human..txt  \n",
            "  inflating: train/labels/25-11-2021_07-04-55_AM_car..txt  \n",
            "  inflating: train/labels/25-11-2021_07-04-55_AM_head..txt  \n",
            "  inflating: train/labels/25-11-2021_07-04-55_AM_human..txt  \n",
            "  inflating: train/labels/25-11-2021_07-05-05_AM_car..txt  \n",
            "  inflating: train/labels/25-11-2021_07-05-05_AM_head..txt  \n",
            "  inflating: train/labels/25-11-2021_07-05-05_AM_human..txt  \n",
            "  inflating: train/labels/25-11-2021_07-05-12_AM_car..txt  \n",
            "  inflating: train/labels/25-11-2021_07-05-12_AM_face..txt  \n",
            "  inflating: train/labels/25-11-2021_07-05-12_AM_head..txt  \n",
            "  inflating: train/labels/25-11-2021_07-05-12_AM_human..txt  \n",
            "  inflating: train/labels/25-11-2021_07-15-14_PM_car..txt  \n",
            "  inflating: train/labels/25-11-2021_07-15-14_PM_head..txt  \n",
            "  inflating: train/labels/25-11-2021_07-15-14_PM_human..txt  \n",
            "  inflating: train/labels/25-11-2021_07-15-32_PM_car..txt  \n",
            "  inflating: train/labels/25-11-2021_07-15-32_PM_head..txt  \n",
            "  inflating: train/labels/25-11-2021_07-15-32_PM_human..txt  \n",
            "  inflating: train/labels/25-11-2021_07-17-01_PM_car..txt  \n",
            "  inflating: train/labels/25-11-2021_07-17-01_PM_head..txt  \n",
            "  inflating: train/labels/25-11-2021_07-17-01_PM_human..txt  \n",
            "  inflating: train/labels/25-11-2021_07-20-24_AM_car..txt  \n",
            "  inflating: train/labels/25-11-2021_07-20-24_AM_face..txt  \n",
            "  inflating: train/labels/25-11-2021_07-20-24_AM_head..txt  \n",
            "  inflating: train/labels/25-11-2021_07-20-24_AM_human..txt  \n",
            "  inflating: train/labels/25-11-2021_07-20-30_AM_car..txt  \n",
            "  inflating: train/labels/25-11-2021_07-20-30_AM_head..txt  \n",
            "  inflating: train/labels/25-11-2021_07-20-30_AM_human..txt  \n",
            "  inflating: train/labels/25-11-2021_07-20-36_AM_car..txt  \n",
            "  inflating: train/labels/25-11-2021_07-20-36_AM_face..txt  \n",
            "  inflating: train/labels/25-11-2021_07-20-36_AM_head..txt  \n",
            "  inflating: train/labels/25-11-2021_07-20-36_AM_human..txt  \n",
            "  inflating: train/labels/25-11-2021_07-20-42_AM_car..txt  \n",
            "  inflating: train/labels/25-11-2021_07-20-42_AM_face..txt  \n",
            "  inflating: train/labels/25-11-2021_07-20-42_AM_head..txt  \n",
            "  inflating: train/labels/25-11-2021_07-20-42_AM_human..txt  \n",
            "  inflating: train/labels/25-11-2021_07-20-46_AM_car..txt  \n",
            "  inflating: train/labels/25-11-2021_07-20-46_AM_head..txt  \n",
            "  inflating: train/labels/25-11-2021_07-20-46_AM_human..txt  \n",
            "  inflating: train/labels/25-11-2021_07-21-07_AM_car..txt  \n",
            "  inflating: train/labels/25-11-2021_07-21-07_AM_face..txt  \n",
            "  inflating: train/labels/25-11-2021_07-21-07_AM_head..txt  \n",
            "  inflating: train/labels/25-11-2021_07-21-07_AM_human..txt  \n",
            "  inflating: train/labels/25-11-2021_07-21-27_AM_car..txt  \n",
            "  inflating: train/labels/25-11-2021_07-21-27_AM_head..txt  \n",
            "  inflating: train/labels/25-11-2021_07-21-27_AM_human..txt  \n",
            "  inflating: train/labels/25-11-2021_07-21-30_AM_car..txt  \n",
            "  inflating: train/labels/25-11-2021_07-21-30_AM_face..txt  \n",
            "  inflating: train/labels/25-11-2021_07-21-30_AM_head..txt  \n",
            "  inflating: train/labels/25-11-2021_07-21-30_AM_human..txt  \n",
            "  inflating: train/labels/25-11-2021_07-21-52_AM_car..txt  \n",
            "  inflating: train/labels/25-11-2021_07-21-52_AM_head..txt  \n",
            "  inflating: train/labels/25-11-2021_07-21-52_AM_human..txt  \n",
            "  inflating: train/labels/25-11-2021_07-22-14_AM_car..txt  \n",
            "  inflating: train/labels/25-11-2021_07-22-14_AM_face..txt  \n",
            "  inflating: train/labels/25-11-2021_07-22-14_AM_head..txt  \n",
            "  inflating: train/labels/25-11-2021_07-22-14_AM_human..txt  \n",
            "  inflating: train/labels/25-11-2021_07-22-17_AM_car..txt  \n",
            "  inflating: train/labels/25-11-2021_07-22-17_AM_head..txt  \n",
            "  inflating: train/labels/25-11-2021_07-22-17_AM_human..txt  \n",
            "  inflating: train/labels/25-11-2021_07-22-26_AM_car..txt  \n",
            "  inflating: train/labels/25-11-2021_07-22-26_AM_face..txt  \n",
            "  inflating: train/labels/25-11-2021_07-22-26_AM_head..txt  \n",
            "  inflating: train/labels/25-11-2021_07-22-26_AM_human..txt  \n",
            "  inflating: train/labels/25-11-2021_07-22-40_AM_car..txt  \n",
            "  inflating: train/labels/25-11-2021_07-22-40_AM_head..txt  \n",
            "  inflating: train/labels/25-11-2021_07-22-40_AM_human..txt  \n",
            "  inflating: train/labels/25-11-2021_07-33-16_PM_car..txt  \n",
            "  inflating: train/labels/25-11-2021_07-33-16_PM_face..txt  \n",
            "  inflating: train/labels/25-11-2021_07-33-16_PM_head..txt  \n",
            "  inflating: train/labels/25-11-2021_07-33-16_PM_human..txt  \n",
            "  inflating: train/labels/25-11-2021_07-38-08_AM_car..txt  \n",
            "  inflating: train/labels/25-11-2021_07-38-08_AM_head..txt  \n",
            "  inflating: train/labels/25-11-2021_07-38-08_AM_human..txt  \n",
            "  inflating: train/labels/25-11-2021_07-38-49_AM_car..txt  \n",
            "  inflating: train/labels/25-11-2021_07-38-49_AM_head..txt  \n",
            "  inflating: train/labels/25-11-2021_07-38-49_AM_human..txt  \n",
            "  inflating: train/labels/25-11-2021_07-38-55_AM_car..txt  \n",
            "  inflating: train/labels/25-11-2021_07-38-55_AM_head..txt  \n",
            "  inflating: train/labels/25-11-2021_07-38-55_AM_human..txt  \n",
            "  inflating: train/labels/25-11-2021_07-39-14_AM_car..txt  \n",
            "  inflating: train/labels/25-11-2021_07-39-14_AM_head..txt  \n",
            "  inflating: train/labels/25-11-2021_07-39-14_AM_human..txt  \n",
            "  inflating: train/labels/25-11-2021_07-39-42_AM_face..txt  \n",
            "  inflating: train/labels/25-11-2021_07-39-42_AM_head..txt  \n",
            "  inflating: train/labels/25-11-2021_07-39-42_AM_human..txt  \n",
            "  inflating: train/labels/25-11-2021_07-41-02_AM_car..txt  \n",
            "  inflating: train/labels/25-11-2021_07-41-02_AM_head..txt  \n",
            "  inflating: train/labels/25-11-2021_07-41-02_AM_human..txt  \n",
            "  inflating: train/labels/25-11-2021_07-50-41_PM_car..txt  \n",
            "  inflating: train/labels/25-11-2021_07-50-41_PM_face..txt  \n",
            "  inflating: train/labels/25-11-2021_07-50-41_PM_head..txt  \n",
            "  inflating: train/labels/25-11-2021_07-50-41_PM_human..txt  \n",
            "  inflating: train/labels/25-11-2021_07-56-14_AM_car..txt  \n",
            "  inflating: train/labels/25-11-2021_07-56-14_AM_head..txt  \n",
            "  inflating: train/labels/25-11-2021_07-56-14_AM_human..txt  \n",
            "  inflating: train/labels/25-11-2021_07-56-18_AM_car..txt  \n",
            "  inflating: train/labels/25-11-2021_07-56-18_AM_face..txt  \n",
            "  inflating: train/labels/25-11-2021_07-56-18_AM_head..txt  \n",
            "  inflating: train/labels/25-11-2021_07-56-18_AM_human..txt  \n",
            "  inflating: train/labels/25-11-2021_07-56-43_AM_car..txt  \n",
            "  inflating: train/labels/25-11-2021_07-56-43_AM_head..txt  \n",
            "  inflating: train/labels/25-11-2021_07-56-43_AM_human..txt  \n",
            "  inflating: train/labels/25-11-2021_07-56-52_AM_car..txt  \n",
            "  inflating: train/labels/25-11-2021_07-56-52_AM_head..txt  \n",
            "  inflating: train/labels/25-11-2021_07-56-52_AM_human..txt  \n",
            "  inflating: train/labels/25-11-2021_07-56-58_AM_car..txt  \n",
            "  inflating: train/labels/25-11-2021_07-56-58_AM_head..txt  \n",
            "  inflating: train/labels/25-11-2021_07-56-58_AM_human..txt  \n",
            "  inflating: train/labels/25-11-2021_07-57-38_AM_car..txt  \n",
            "  inflating: train/labels/25-11-2021_07-57-38_AM_face..txt  \n",
            "  inflating: train/labels/25-11-2021_07-57-38_AM_head..txt  \n",
            "  inflating: train/labels/25-11-2021_07-57-38_AM_human..txt  \n",
            "  inflating: train/labels/25-11-2021_07-58-02_AM_car..txt  \n",
            "  inflating: train/labels/25-11-2021_07-58-02_AM_face..txt  \n",
            "  inflating: train/labels/25-11-2021_07-58-02_AM_head..txt  \n",
            "  inflating: train/labels/25-11-2021_07-58-02_AM_human..txt  \n",
            "  inflating: train/labels/25-11-2021_07-58-05_AM_car..txt  \n",
            "  inflating: train/labels/25-11-2021_07-58-05_AM_face..txt  \n",
            "  inflating: train/labels/25-11-2021_07-58-05_AM_head..txt  \n",
            "  inflating: train/labels/25-11-2021_07-58-05_AM_human..txt  \n",
            "  inflating: train/labels/25-11-2021_08-08-46_PM_car..txt  \n",
            "  inflating: train/labels/25-11-2021_08-08-46_PM_head..txt  \n",
            "  inflating: train/labels/25-11-2021_08-08-46_PM_human..txt  \n",
            "  inflating: train/labels/25-11-2021_08-13-56_AM_car..txt  \n",
            "  inflating: train/labels/25-11-2021_08-13-56_AM_head..txt  \n",
            "  inflating: train/labels/25-11-2021_08-13-56_AM_human..txt  \n",
            "  inflating: train/labels/25-11-2021_08-14-28_AM_car..txt  \n",
            "  inflating: train/labels/25-11-2021_08-14-28_AM_head..txt  \n",
            "  inflating: train/labels/25-11-2021_08-14-28_AM_human..txt  \n",
            "  inflating: train/labels/25-11-2021_08-14-42_AM_car..txt  \n",
            "  inflating: train/labels/25-11-2021_08-14-42_AM_head..txt  \n",
            "  inflating: train/labels/25-11-2021_08-14-42_AM_human..txt  \n",
            "  inflating: train/labels/25-11-2021_08-14-52_AM_car..txt  \n",
            "  inflating: train/labels/25-11-2021_08-14-52_AM_head..txt  \n",
            "  inflating: train/labels/25-11-2021_08-14-52_AM_human..txt  \n",
            "  inflating: train/labels/25-11-2021_08-15-21_AM_car..txt  \n",
            "  inflating: train/labels/25-11-2021_08-15-21_AM_head..txt  \n",
            "  inflating: train/labels/25-11-2021_08-15-21_AM_human..txt  \n",
            "  inflating: train/labels/25-11-2021_08-15-24_AM_car..txt  \n",
            "  inflating: train/labels/25-11-2021_08-15-24_AM_face..txt  \n",
            "  inflating: train/labels/25-11-2021_08-15-24_AM_head..txt  \n",
            "  inflating: train/labels/25-11-2021_08-15-24_AM_human..txt  \n",
            "  inflating: train/labels/25-11-2021_08-16-00_AM_car..txt  \n",
            "  inflating: train/labels/25-11-2021_08-16-00_AM_head..txt  \n",
            "  inflating: train/labels/25-11-2021_08-16-00_AM_human..txt  \n",
            "  inflating: train/labels/25-11-2021_08-16-02_AM_car..txt  \n",
            "  inflating: train/labels/25-11-2021_08-16-02_AM_head..txt  \n",
            "  inflating: train/labels/25-11-2021_08-16-02_AM_human..txt  \n",
            "  inflating: train/labels/25-11-2021_08-16-38_AM_car..txt  \n",
            "  inflating: train/labels/25-11-2021_08-16-38_AM_face..txt  \n",
            "  inflating: train/labels/25-11-2021_08-16-38_AM_head..txt  \n",
            "  inflating: train/labels/25-11-2021_08-16-38_AM_human..txt  \n",
            "  inflating: train/labels/25-11-2021_08-16-44_AM_car..txt  \n",
            "  inflating: train/labels/25-11-2021_08-16-44_AM_face..txt  \n",
            "  inflating: train/labels/25-11-2021_08-16-44_AM_head..txt  \n",
            "  inflating: train/labels/25-11-2021_08-16-44_AM_human..txt  \n",
            "  inflating: train/labels/25-11-2021_08-26-55_PM_car..txt  \n",
            "  inflating: train/labels/25-11-2021_08-26-55_PM_face..txt  \n",
            "  inflating: train/labels/25-11-2021_08-26-55_PM_head..txt  \n",
            "  inflating: train/labels/25-11-2021_08-26-55_PM_human..txt  \n",
            "  inflating: train/labels/25-11-2021_08-28-06_PM_head..txt  \n",
            "  inflating: train/labels/25-11-2021_08-28-06_PM_human..txt  \n",
            "  inflating: train/labels/25-11-2021_08-28-26_PM_face..txt  \n",
            "  inflating: train/labels/25-11-2021_08-28-26_PM_head..txt  \n",
            "  inflating: train/labels/25-11-2021_08-28-26_PM_human..txt  \n",
            "  inflating: train/labels/25-11-2021_08-28-42_PM_car..txt  \n",
            "  inflating: train/labels/25-11-2021_08-28-42_PM_head..txt  \n",
            "  inflating: train/labels/25-11-2021_08-28-42_PM_human..txt  \n",
            "  inflating: train/labels/25-11-2021_08-32-19_AM_face..txt  \n",
            "  inflating: train/labels/25-11-2021_08-32-19_AM_head..txt  \n",
            "  inflating: train/labels/25-11-2021_08-32-19_AM_human..txt  \n",
            "  inflating: train/labels/25-11-2021_08-32-35_AM_car..txt  \n",
            "  inflating: train/labels/25-11-2021_08-32-35_AM_head..txt  \n",
            "  inflating: train/labels/25-11-2021_08-32-35_AM_human..txt  \n",
            "  inflating: train/labels/25-11-2021_08-32-38_AM_car..txt  \n",
            "  inflating: train/labels/25-11-2021_08-32-38_AM_head..txt  \n",
            "  inflating: train/labels/25-11-2021_08-32-38_AM_human..txt  \n",
            "  inflating: train/labels/25-11-2021_08-33-58_AM_car..txt  \n",
            "  inflating: train/labels/25-11-2021_08-33-58_AM_head..txt  \n",
            "  inflating: train/labels/25-11-2021_08-33-58_AM_human..txt  \n",
            "  inflating: train/labels/25-11-2021_08-34-25_AM_face..txt  \n",
            "  inflating: train/labels/25-11-2021_08-34-25_AM_head..txt  \n",
            "  inflating: train/labels/25-11-2021_08-34-25_AM_human..txt  \n",
            "  inflating: train/labels/25-11-2021_08-34-36_AM_car..txt  \n",
            "  inflating: train/labels/25-11-2021_08-34-36_AM_face..txt  \n",
            "  inflating: train/labels/25-11-2021_08-34-36_AM_head..txt  \n",
            "  inflating: train/labels/25-11-2021_08-34-36_AM_human..txt  \n",
            "  inflating: train/labels/25-11-2021_08-44-52_PM_car..txt  \n",
            "  inflating: train/labels/25-11-2021_08-44-52_PM_face..txt  \n",
            "  inflating: train/labels/25-11-2021_08-44-52_PM_head..txt  \n",
            "  inflating: train/labels/25-11-2021_08-44-52_PM_human..txt  \n",
            "  inflating: train/labels/25-11-2021_08-46-23_PM_car..txt  \n",
            "  inflating: train/labels/25-11-2021_08-46-23_PM_head..txt  \n",
            "  inflating: train/labels/25-11-2021_08-46-23_PM_human..txt  \n",
            "  inflating: train/labels/25-11-2021_08-49-41_AM_car..txt  \n",
            "  inflating: train/labels/25-11-2021_08-49-41_AM_head..txt  \n",
            "  inflating: train/labels/25-11-2021_08-49-41_AM_human..txt  \n",
            "  inflating: train/labels/25-11-2021_08-49-46_AM_car..txt  \n",
            "  inflating: train/labels/25-11-2021_08-49-46_AM_head..txt  \n",
            "  inflating: train/labels/25-11-2021_08-49-46_AM_human..txt  \n",
            "  inflating: train/labels/25-11-2021_08-50-08_AM_car..txt  \n",
            "  inflating: train/labels/25-11-2021_08-50-08_AM_head..txt  \n",
            "  inflating: train/labels/25-11-2021_08-50-08_AM_human..txt  \n",
            "  inflating: train/labels/25-11-2021_08-50-24_AM_car..txt  \n",
            "  inflating: train/labels/25-11-2021_08-50-24_AM_head..txt  \n",
            "  inflating: train/labels/25-11-2021_08-50-24_AM_human..txt  \n",
            "  inflating: train/labels/25-11-2021_08-50-51_AM_car..txt  \n",
            "  inflating: train/labels/25-11-2021_08-50-51_AM_head..txt  \n",
            "  inflating: train/labels/25-11-2021_08-50-51_AM_human..txt  \n",
            "  inflating: train/labels/25-11-2021_08-50-56_AM_car..txt  \n",
            "  inflating: train/labels/25-11-2021_08-50-56_AM_face..txt  \n",
            "  inflating: train/labels/25-11-2021_08-50-56_AM_head..txt  \n",
            "  inflating: train/labels/25-11-2021_08-50-56_AM_human..txt  \n",
            "  inflating: train/labels/25-11-2021_08-51-04_AM_car..txt  \n",
            "  inflating: train/labels/25-11-2021_08-51-04_AM_head..txt  \n",
            "  inflating: train/labels/25-11-2021_08-51-04_AM_human..txt  \n",
            "  inflating: train/labels/25-11-2021_08-51-11_AM_car..txt  \n",
            "  inflating: train/labels/25-11-2021_08-51-11_AM_face..txt  \n",
            "  inflating: train/labels/25-11-2021_08-51-11_AM_head..txt  \n",
            "  inflating: train/labels/25-11-2021_08-51-11_AM_human..txt  \n",
            "  inflating: train/labels/25-11-2021_08-51-15_AM_car..txt  \n",
            "  inflating: train/labels/25-11-2021_08-51-15_AM_face..txt  \n",
            "  inflating: train/labels/25-11-2021_08-51-15_AM_head..txt  \n",
            "  inflating: train/labels/25-11-2021_08-51-15_AM_human..txt  \n",
            "  inflating: train/labels/25-11-2021_08-51-18_AM_face..txt  \n",
            "  inflating: train/labels/25-11-2021_08-51-18_AM_head..txt  \n",
            "  inflating: train/labels/25-11-2021_08-51-18_AM_human..txt  \n",
            "  inflating: train/labels/25-11-2021_08-51-22_AM_car..txt  \n",
            "  inflating: train/labels/25-11-2021_08-51-22_AM_face..txt  \n",
            "  inflating: train/labels/25-11-2021_08-51-22_AM_head..txt  \n",
            "  inflating: train/labels/25-11-2021_08-51-22_AM_human..txt  \n",
            "  inflating: train/labels/25-11-2021_08-52-33_AM_car..txt  \n",
            "  inflating: train/labels/25-11-2021_08-52-33_AM_head..txt  \n",
            "  inflating: train/labels/25-11-2021_08-52-33_AM_human..txt  \n",
            "  inflating: train/labels/25-11-2021_09-07-46_AM_car..txt  \n",
            "  inflating: train/labels/25-11-2021_09-07-46_AM_head..txt  \n",
            "  inflating: train/labels/25-11-2021_09-07-46_AM_human..txt  \n",
            "  inflating: train/labels/25-11-2021_09-07-55_AM_car..txt  \n",
            "  inflating: train/labels/25-11-2021_09-07-55_AM_head..txt  \n",
            "  inflating: train/labels/25-11-2021_09-07-55_AM_human..txt  \n",
            "  inflating: train/labels/25-11-2021_09-08-21_AM_car..txt  \n",
            "  inflating: train/labels/25-11-2021_09-08-21_AM_head..txt  \n",
            "  inflating: train/labels/25-11-2021_09-08-21_AM_human..txt  \n",
            "  inflating: train/labels/25-11-2021_09-08-24_AM_car..txt  \n",
            "  inflating: train/labels/25-11-2021_09-08-24_AM_head..txt  \n",
            "  inflating: train/labels/25-11-2021_09-08-24_AM_human..txt  \n",
            "  inflating: train/labels/25-11-2021_09-08-27_AM_car..txt  \n",
            "  inflating: train/labels/25-11-2021_09-08-27_AM_head..txt  \n",
            "  inflating: train/labels/25-11-2021_09-08-27_AM_human..txt  \n",
            "  inflating: train/labels/25-11-2021_09-08-29_AM_car..txt  \n",
            "  inflating: train/labels/25-11-2021_09-08-29_AM_face..txt  \n",
            "  inflating: train/labels/25-11-2021_09-08-29_AM_head..txt  \n",
            "  inflating: train/labels/25-11-2021_09-08-29_AM_human..txt  \n",
            "  inflating: train/labels/25-11-2021_09-08-46_AM_car..txt  \n",
            "  inflating: train/labels/25-11-2021_09-08-46_AM_head..txt  \n",
            "  inflating: train/labels/25-11-2021_09-08-46_AM_human..txt  \n",
            "  inflating: train/labels/25-11-2021_09-09-11_AM_car..txt  \n",
            "  inflating: train/labels/25-11-2021_09-09-11_AM_face..txt  \n",
            "  inflating: train/labels/25-11-2021_09-09-11_AM_head..txt  \n",
            "  inflating: train/labels/25-11-2021_09-09-11_AM_human..txt  \n",
            "  inflating: train/labels/25-11-2021_09-09-14_AM_car..txt  \n",
            "  inflating: train/labels/25-11-2021_09-09-14_AM_face..txt  \n",
            "  inflating: train/labels/25-11-2021_09-09-14_AM_head..txt  \n",
            "  inflating: train/labels/25-11-2021_09-09-14_AM_human..txt  \n",
            "  inflating: train/labels/25-11-2021_09-09-31_AM_car..txt  \n",
            "  inflating: train/labels/25-11-2021_09-09-31_AM_head..txt  \n",
            "  inflating: train/labels/25-11-2021_09-09-31_AM_human..txt  \n",
            "  inflating: train/labels/25-11-2021_09-10-15_AM_car..txt  \n",
            "  inflating: train/labels/25-11-2021_09-10-15_AM_face..txt  \n",
            "  inflating: train/labels/25-11-2021_09-10-15_AM_head..txt  \n",
            "  inflating: train/labels/25-11-2021_09-10-15_AM_human..txt  \n",
            "  inflating: train/labels/25-11-2021_09-10-18_AM_car..txt  \n",
            "  inflating: train/labels/25-11-2021_09-10-18_AM_face..txt  \n",
            "  inflating: train/labels/25-11-2021_09-10-18_AM_head..txt  \n",
            "  inflating: train/labels/25-11-2021_09-10-18_AM_human..txt  \n",
            "  inflating: train/labels/25-11-2021_09-10-24_AM_car..txt  \n",
            "  inflating: train/labels/25-11-2021_09-10-24_AM_face..txt  \n",
            "  inflating: train/labels/25-11-2021_09-10-24_AM_head..txt  \n",
            "  inflating: train/labels/25-11-2021_09-10-24_AM_human..txt  \n",
            "  inflating: train/labels/25-11-2021_09-10-28_AM_car..txt  \n",
            "  inflating: train/labels/25-11-2021_09-10-28_AM_face..txt  \n",
            "  inflating: train/labels/25-11-2021_09-10-28_AM_head..txt  \n",
            "  inflating: train/labels/25-11-2021_09-10-28_AM_human..txt  \n",
            "  inflating: train/labels/25-11-2021_09-10-30_AM_car..txt  \n",
            "  inflating: train/labels/25-11-2021_09-10-30_AM_head..txt  \n",
            "  inflating: train/labels/25-11-2021_09-10-30_AM_human..txt  \n",
            "  inflating: train/labels/25-11-2021_09-19-55_PM_car..txt  \n",
            "  inflating: train/labels/25-11-2021_09-19-55_PM_head..txt  \n",
            "  inflating: train/labels/25-11-2021_09-19-55_PM_human..txt  \n",
            "  inflating: train/labels/25-11-2021_09-22-09_PM_car..txt  \n",
            "  inflating: train/labels/25-11-2021_09-22-09_PM_head..txt  \n",
            "  inflating: train/labels/25-11-2021_09-22-09_PM_human..txt  \n",
            "  inflating: train/labels/25-11-2021_09-26-18_AM_car..txt  \n",
            "  inflating: train/labels/25-11-2021_09-26-18_AM_face..txt  \n",
            "  inflating: train/labels/25-11-2021_09-26-18_AM_head..txt  \n",
            "  inflating: train/labels/25-11-2021_09-26-18_AM_human..txt  \n",
            "  inflating: train/labels/25-11-2021_09-26-24_AM_car..txt  \n",
            "  inflating: train/labels/25-11-2021_09-26-24_AM_face..txt  \n",
            "  inflating: train/labels/25-11-2021_09-26-24_AM_head..txt  \n",
            "  inflating: train/labels/25-11-2021_09-26-24_AM_human..txt  \n",
            "  inflating: train/labels/25-11-2021_09-26-29_AM_car..txt  \n",
            "  inflating: train/labels/25-11-2021_09-26-29_AM_head..txt  \n",
            "  inflating: train/labels/25-11-2021_09-26-29_AM_human..txt  \n",
            "  inflating: train/labels/25-11-2021_09-26-42_AM_car..txt  \n",
            "  inflating: train/labels/25-11-2021_09-26-42_AM_face..txt  \n",
            "  inflating: train/labels/25-11-2021_09-26-42_AM_head..txt  \n",
            "  inflating: train/labels/25-11-2021_09-26-42_AM_human..txt  \n",
            "  inflating: train/labels/25-11-2021_09-26-45_AM_car..txt  \n",
            "  inflating: train/labels/25-11-2021_09-26-45_AM_head..txt  \n",
            "  inflating: train/labels/25-11-2021_09-26-45_AM_human..txt  \n",
            "  inflating: train/labels/25-11-2021_09-26-55_AM_car..txt  \n",
            "  inflating: train/labels/25-11-2021_09-26-55_AM_face..txt  \n",
            "  inflating: train/labels/25-11-2021_09-26-55_AM_head..txt  \n",
            "  inflating: train/labels/25-11-2021_09-26-55_AM_human..txt  \n",
            "  inflating: train/labels/25-11-2021_09-26-59_AM_car..txt  \n",
            "  inflating: train/labels/25-11-2021_09-26-59_AM_head..txt  \n",
            "  inflating: train/labels/25-11-2021_09-26-59_AM_human..txt  \n",
            "  inflating: train/labels/25-11-2021_09-27-30_AM_car..txt  \n",
            "  inflating: train/labels/25-11-2021_09-27-30_AM_head..txt  \n",
            "  inflating: train/labels/25-11-2021_09-27-30_AM_human..txt  \n",
            "  inflating: train/labels/25-11-2021_09-27-44_AM_car..txt  \n",
            "  inflating: train/labels/25-11-2021_09-27-44_AM_head..txt  \n",
            "  inflating: train/labels/25-11-2021_09-27-44_AM_human..txt  \n",
            "  inflating: train/labels/25-11-2021_09-27-51_AM_car..txt  \n",
            "  inflating: train/labels/25-11-2021_09-27-51_AM_head..txt  \n",
            "  inflating: train/labels/25-11-2021_09-27-51_AM_human..txt  \n",
            "  inflating: train/labels/25-11-2021_09-28-21_AM_car..txt  \n",
            "  inflating: train/labels/25-11-2021_09-28-21_AM_head..txt  \n",
            "  inflating: train/labels/25-11-2021_09-28-21_AM_human..txt  \n",
            "  inflating: train/labels/25-11-2021_09-28-32_AM_car..txt  \n",
            "  inflating: train/labels/25-11-2021_09-28-32_AM_face..txt  \n",
            "  inflating: train/labels/25-11-2021_09-28-32_AM_head..txt  \n",
            "  inflating: train/labels/25-11-2021_09-28-32_AM_human..txt  \n",
            "  inflating: train/labels/25-11-2021_09-43-35_AM_car..txt  \n",
            "  inflating: train/labels/25-11-2021_09-43-35_AM_head..txt  \n",
            "  inflating: train/labels/25-11-2021_09-43-35_AM_human..txt  \n",
            "  inflating: train/labels/25-11-2021_09-43-58_AM_car..txt  \n",
            "  inflating: train/labels/25-11-2021_09-43-58_AM_head..txt  \n",
            "  inflating: train/labels/25-11-2021_09-43-58_AM_human..txt  \n",
            "  inflating: train/labels/25-11-2021_09-44-01_AM_car..txt  \n",
            "  inflating: train/labels/25-11-2021_09-44-01_AM_head..txt  \n",
            "  inflating: train/labels/25-11-2021_09-44-01_AM_human..txt  \n",
            "  inflating: train/labels/25-11-2021_09-44-04_AM_car..txt  \n",
            "  inflating: train/labels/25-11-2021_09-44-04_AM_head..txt  \n",
            "  inflating: train/labels/25-11-2021_09-44-04_AM_human..txt  \n",
            "  inflating: train/labels/25-11-2021_09-44-13_AM_car..txt  \n",
            "  inflating: train/labels/25-11-2021_09-44-13_AM_face..txt  \n",
            "  inflating: train/labels/25-11-2021_09-44-13_AM_head..txt  \n",
            "  inflating: train/labels/25-11-2021_09-44-13_AM_human..txt  \n",
            "  inflating: train/labels/25-11-2021_09-44-19_AM_car..txt  \n",
            "  inflating: train/labels/25-11-2021_09-44-19_AM_head..txt  \n",
            "  inflating: train/labels/25-11-2021_09-44-19_AM_human..txt  \n",
            "  inflating: train/labels/25-11-2021_09-44-21_AM_car..txt  \n",
            "  inflating: train/labels/25-11-2021_09-44-21_AM_head..txt  \n",
            "  inflating: train/labels/25-11-2021_09-44-21_AM_human..txt  \n",
            "  inflating: train/labels/25-11-2021_09-44-28_AM_car..txt  \n",
            "  inflating: train/labels/25-11-2021_09-44-28_AM_head..txt  \n",
            "  inflating: train/labels/25-11-2021_09-44-28_AM_human..txt  \n",
            "  inflating: train/labels/25-11-2021_09-44-43_AM_car..txt  \n",
            "  inflating: train/labels/25-11-2021_09-44-43_AM_face..txt  \n",
            "  inflating: train/labels/25-11-2021_09-44-43_AM_head..txt  \n",
            "  inflating: train/labels/25-11-2021_09-44-43_AM_human..txt  \n",
            "  inflating: train/labels/25-11-2021_09-45-01_AM_car..txt  \n",
            "  inflating: train/labels/25-11-2021_09-45-01_AM_head..txt  \n",
            "  inflating: train/labels/25-11-2021_09-45-01_AM_human..txt  \n",
            "  inflating: train/labels/25-11-2021_09-45-19_AM_car..txt  \n",
            "  inflating: train/labels/25-11-2021_09-45-19_AM_face..txt  \n",
            "  inflating: train/labels/25-11-2021_09-45-19_AM_head..txt  \n",
            "  inflating: train/labels/25-11-2021_09-45-19_AM_human..txt  \n",
            "  inflating: train/labels/25-11-2021_09-46-26_AM_car..txt  \n",
            "  inflating: train/labels/25-11-2021_09-46-26_AM_head..txt  \n",
            "  inflating: train/labels/25-11-2021_09-46-26_AM_human..txt  \n",
            "  inflating: train/labels/25-11-2021_09-46-32_AM_car..txt  \n",
            "  inflating: train/labels/25-11-2021_09-46-32_AM_face..txt  \n",
            "  inflating: train/labels/25-11-2021_09-46-32_AM_head..txt  \n",
            "  inflating: train/labels/25-11-2021_09-46-32_AM_human..txt  \n",
            "  inflating: train/labels/25-11-2021_09-55-55_PM_head..txt  \n",
            "  inflating: train/labels/25-11-2021_09-55-55_PM_human..txt  \n",
            "  inflating: train/labels/25-11-2021_09-57-41_PM_car..txt  \n",
            "  inflating: train/labels/25-11-2021_09-57-41_PM_head..txt  \n",
            "  inflating: train/labels/25-11-2021_09-57-41_PM_human..txt  \n",
            "  inflating: train/labels/25-11-2021_10-01-44_AM_car..txt  \n",
            "  inflating: train/labels/25-11-2021_10-01-44_AM_head..txt  \n",
            "  inflating: train/labels/25-11-2021_10-01-44_AM_human..txt  \n",
            "  inflating: train/labels/25-11-2021_10-02-07_AM_car..txt  \n",
            "  inflating: train/labels/25-11-2021_10-02-07_AM_head..txt  \n",
            "  inflating: train/labels/25-11-2021_10-02-07_AM_human..txt  \n",
            "  inflating: train/labels/25-11-2021_10-02-12_AM_car..txt  \n",
            "  inflating: train/labels/25-11-2021_10-02-12_AM_head..txt  \n",
            "  inflating: train/labels/25-11-2021_10-02-12_AM_human..txt  \n",
            "  inflating: train/labels/25-11-2021_10-02-21_AM_car..txt  \n",
            "  inflating: train/labels/25-11-2021_10-02-21_AM_head..txt  \n",
            "  inflating: train/labels/25-11-2021_10-02-21_AM_human..txt  \n",
            "  inflating: train/labels/25-11-2021_10-02-33_AM_car..txt  \n",
            "  inflating: train/labels/25-11-2021_10-02-33_AM_face..txt  \n",
            "  inflating: train/labels/25-11-2021_10-02-33_AM_head..txt  \n",
            "  inflating: train/labels/25-11-2021_10-02-33_AM_human..txt  \n",
            "  inflating: train/labels/25-11-2021_10-02-43_AM_car..txt  \n",
            "  inflating: train/labels/25-11-2021_10-02-43_AM_head..txt  \n",
            "  inflating: train/labels/25-11-2021_10-02-43_AM_human..txt  \n",
            "  inflating: train/labels/25-11-2021_10-02-48_AM_car..txt  \n",
            "  inflating: train/labels/25-11-2021_10-02-48_AM_head..txt  \n",
            "  inflating: train/labels/25-11-2021_10-02-48_AM_human..txt  \n",
            "  inflating: train/labels/25-11-2021_10-02-55_AM_car..txt  \n",
            "  inflating: train/labels/25-11-2021_10-02-55_AM_face..txt  \n",
            "  inflating: train/labels/25-11-2021_10-02-55_AM_head..txt  \n",
            "  inflating: train/labels/25-11-2021_10-02-55_AM_human..txt  \n",
            "  inflating: train/labels/25-11-2021_10-03-03_AM_car..txt  \n",
            "  inflating: train/labels/25-11-2021_10-03-03_AM_head..txt  \n",
            "  inflating: train/labels/25-11-2021_10-03-03_AM_human..txt  \n",
            "  inflating: train/labels/25-11-2021_10-03-07_AM_car..txt  \n",
            "  inflating: train/labels/25-11-2021_10-03-07_AM_head..txt  \n",
            "  inflating: train/labels/25-11-2021_10-03-07_AM_human..txt  \n",
            "  inflating: train/labels/25-11-2021_10-03-16_AM_car..txt  \n",
            "  inflating: train/labels/25-11-2021_10-03-16_AM_head..txt  \n",
            "  inflating: train/labels/25-11-2021_10-03-16_AM_human..txt  \n",
            "  inflating: train/labels/25-11-2021_10-03-26_AM_car..txt  \n",
            "  inflating: train/labels/25-11-2021_10-03-26_AM_head..txt  \n",
            "  inflating: train/labels/25-11-2021_10-03-26_AM_human..txt  \n",
            "  inflating: train/labels/25-11-2021_10-03-40_AM_car..txt  \n",
            "  inflating: train/labels/25-11-2021_10-03-40_AM_head..txt  \n",
            "  inflating: train/labels/25-11-2021_10-03-40_AM_human..txt  \n",
            "  inflating: train/labels/25-11-2021_10-03-45_AM_car..txt  \n",
            "  inflating: train/labels/25-11-2021_10-03-45_AM_face..txt  \n",
            "  inflating: train/labels/25-11-2021_10-03-45_AM_head..txt  \n",
            "  inflating: train/labels/25-11-2021_10-03-45_AM_human..txt  \n",
            "  inflating: train/labels/25-11-2021_10-03-47_AM_car..txt  \n",
            "  inflating: train/labels/25-11-2021_10-03-47_AM_head..txt  \n",
            "  inflating: train/labels/25-11-2021_10-03-47_AM_human..txt  \n",
            "  inflating: train/labels/25-11-2021_10-03-50_AM_car..txt  \n",
            "  inflating: train/labels/25-11-2021_10-03-50_AM_head..txt  \n",
            "  inflating: train/labels/25-11-2021_10-03-50_AM_human..txt  \n",
            "  inflating: train/labels/25-11-2021_10-03-54_AM_car..txt  \n",
            "  inflating: train/labels/25-11-2021_10-03-54_AM_head..txt  \n",
            "  inflating: train/labels/25-11-2021_10-03-54_AM_human..txt  \n",
            "  inflating: train/labels/25-11-2021_10-04-09_AM_car..txt  \n",
            "  inflating: train/labels/25-11-2021_10-04-09_AM_head..txt  \n",
            "  inflating: train/labels/25-11-2021_10-04-09_AM_human..txt  \n",
            "  inflating: train/labels/25-11-2021_10-04-19_AM_car..txt  \n",
            "  inflating: train/labels/25-11-2021_10-04-19_AM_face..txt  \n",
            "  inflating: train/labels/25-11-2021_10-04-19_AM_head..txt  \n",
            "  inflating: train/labels/25-11-2021_10-04-19_AM_human..txt  \n",
            "  inflating: train/labels/25-11-2021_10-04-25_AM_car..txt  \n",
            "  inflating: train/labels/25-11-2021_10-04-25_AM_face..txt  \n",
            "  inflating: train/labels/25-11-2021_10-04-25_AM_head..txt  \n",
            "  inflating: train/labels/25-11-2021_10-04-25_AM_human..txt  \n",
            "  inflating: train/labels/25-11-2021_10-04-27_AM_car..txt  \n",
            "  inflating: train/labels/25-11-2021_10-04-27_AM_face..txt  \n",
            "  inflating: train/labels/25-11-2021_10-04-27_AM_head..txt  \n",
            "  inflating: train/labels/25-11-2021_10-04-27_AM_human..txt  \n",
            "  inflating: train/labels/25-11-2021_10-04-30_AM_car..txt  \n",
            "  inflating: train/labels/25-11-2021_10-04-30_AM_face..txt  \n",
            "  inflating: train/labels/25-11-2021_10-04-30_AM_head..txt  \n",
            "  inflating: train/labels/25-11-2021_10-04-30_AM_human..txt  \n",
            "  inflating: train/labels/25-11-2021_10-15-24_PM_car..txt  \n",
            "  inflating: train/labels/25-11-2021_10-15-24_PM_head..txt  \n",
            "  inflating: train/labels/25-11-2021_10-15-24_PM_human..txt  \n",
            "  inflating: train/labels/25-11-2021_10-19-36_AM_car..txt  \n",
            "  inflating: train/labels/25-11-2021_10-19-36_AM_face..txt  \n",
            "  inflating: train/labels/25-11-2021_10-19-36_AM_head..txt  \n",
            "  inflating: train/labels/25-11-2021_10-19-36_AM_human..txt  \n",
            "  inflating: train/labels/25-11-2021_10-19-42_AM_car..txt  \n",
            "  inflating: train/labels/25-11-2021_10-19-42_AM_head..txt  \n",
            "  inflating: train/labels/25-11-2021_10-19-42_AM_human..txt  \n",
            "  inflating: train/labels/25-11-2021_10-20-08_AM_car..txt  \n",
            "  inflating: train/labels/25-11-2021_10-20-08_AM_face..txt  \n",
            "  inflating: train/labels/25-11-2021_10-20-08_AM_head..txt  \n",
            "  inflating: train/labels/25-11-2021_10-20-08_AM_human..txt  \n",
            "  inflating: train/labels/25-11-2021_10-20-11_AM_car..txt  \n",
            "  inflating: train/labels/25-11-2021_10-20-11_AM_head..txt  \n",
            "  inflating: train/labels/25-11-2021_10-20-11_AM_human..txt  \n",
            "  inflating: train/labels/25-11-2021_10-20-14_AM_car..txt  \n",
            "  inflating: train/labels/25-11-2021_10-20-14_AM_face..txt  \n",
            "  inflating: train/labels/25-11-2021_10-20-14_AM_head..txt  \n",
            "  inflating: train/labels/25-11-2021_10-20-14_AM_human..txt  \n",
            "  inflating: train/labels/25-11-2021_10-20-17_AM_car..txt  \n",
            "  inflating: train/labels/25-11-2021_10-20-17_AM_head..txt  \n",
            "  inflating: train/labels/25-11-2021_10-20-17_AM_human..txt  \n",
            "  inflating: train/labels/25-11-2021_10-20-19_AM_car..txt  \n",
            "  inflating: train/labels/25-11-2021_10-20-19_AM_head..txt  \n",
            "  inflating: train/labels/25-11-2021_10-20-19_AM_human..txt  \n",
            "  inflating: train/labels/25-11-2021_10-20-24_AM_car..txt  \n",
            "  inflating: train/labels/25-11-2021_10-20-24_AM_face..txt  \n",
            "  inflating: train/labels/25-11-2021_10-20-24_AM_head..txt  \n",
            "  inflating: train/labels/25-11-2021_10-20-24_AM_human..txt  \n",
            "  inflating: train/labels/25-11-2021_10-20-38_AM_car..txt  \n",
            "  inflating: train/labels/25-11-2021_10-20-38_AM_face..txt  \n",
            "  inflating: train/labels/25-11-2021_10-20-38_AM_head..txt  \n",
            "  inflating: train/labels/25-11-2021_10-20-38_AM_human..txt  \n",
            "  inflating: train/labels/25-11-2021_10-21-23_AM_car..txt  \n",
            "  inflating: train/labels/25-11-2021_10-21-23_AM_head..txt  \n",
            "  inflating: train/labels/25-11-2021_10-21-23_AM_human..txt  \n",
            "  inflating: train/labels/25-11-2021_10-21-39_AM_car..txt  \n",
            "  inflating: train/labels/25-11-2021_10-21-39_AM_head..txt  \n",
            "  inflating: train/labels/25-11-2021_10-21-39_AM_human..txt  \n",
            "  inflating: train/labels/25-11-2021_10-22-14_AM_car..txt  \n",
            "  inflating: train/labels/25-11-2021_10-22-14_AM_face..txt  \n",
            "  inflating: train/labels/25-11-2021_10-22-14_AM_head..txt  \n",
            "  inflating: train/labels/25-11-2021_10-22-14_AM_human..txt  \n",
            "  inflating: train/labels/25-11-2021_10-22-18_AM_car..txt  \n",
            "  inflating: train/labels/25-11-2021_10-22-18_AM_face..txt  \n",
            "  inflating: train/labels/25-11-2021_10-22-18_AM_head..txt  \n",
            "  inflating: train/labels/25-11-2021_10-22-18_AM_human..txt  \n",
            "  inflating: train/labels/25-11-2021_10-22-22_AM_head..txt  \n",
            "  inflating: train/labels/25-11-2021_10-22-22_AM_human..txt  \n",
            "  inflating: train/labels/25-11-2021_10-31-38_PM_car..txt  \n",
            "  inflating: train/labels/25-11-2021_10-31-38_PM_head..txt  \n",
            "  inflating: train/labels/25-11-2021_10-31-38_PM_human..txt  \n",
            "  inflating: train/labels/25-11-2021_10-32-14_PM_car..txt  \n",
            "  inflating: train/labels/25-11-2021_10-32-14_PM_face..txt  \n",
            "  inflating: train/labels/25-11-2021_10-32-14_PM_head..txt  \n",
            "  inflating: train/labels/25-11-2021_10-32-14_PM_human..txt  \n",
            "  inflating: train/labels/25-11-2021_10-33-29_PM_car..txt  \n",
            "  inflating: train/labels/25-11-2021_10-33-29_PM_head..txt  \n",
            "  inflating: train/labels/25-11-2021_10-33-29_PM_human..txt  \n",
            "  inflating: train/labels/25-11-2021_10-37-25_AM_car..txt  \n",
            "  inflating: train/labels/25-11-2021_10-37-25_AM_head..txt  \n",
            "  inflating: train/labels/25-11-2021_10-37-25_AM_human..txt  \n",
            "  inflating: train/labels/25-11-2021_10-37-28_AM_car..txt  \n",
            "  inflating: train/labels/25-11-2021_10-37-28_AM_head..txt  \n",
            "  inflating: train/labels/25-11-2021_10-37-28_AM_human..txt  \n",
            "  inflating: train/labels/25-11-2021_10-37-40_AM_car..txt  \n",
            "  inflating: train/labels/25-11-2021_10-37-40_AM_face..txt  \n",
            "  inflating: train/labels/25-11-2021_10-37-40_AM_head..txt  \n",
            "  inflating: train/labels/25-11-2021_10-37-40_AM_human..txt  \n",
            "  inflating: train/labels/25-11-2021_10-37-43_AM_car..txt  \n",
            "  inflating: train/labels/25-11-2021_10-37-43_AM_head..txt  \n",
            "  inflating: train/labels/25-11-2021_10-37-43_AM_human..txt  \n",
            "  inflating: train/labels/25-11-2021_10-37-48_AM_car..txt  \n",
            "  inflating: train/labels/25-11-2021_10-37-48_AM_head..txt  \n",
            "  inflating: train/labels/25-11-2021_10-37-48_AM_human..txt  \n",
            "  inflating: train/labels/25-11-2021_10-38-06_AM_car..txt  \n",
            "  inflating: train/labels/25-11-2021_10-38-06_AM_head..txt  \n",
            "  inflating: train/labels/25-11-2021_10-38-06_AM_human..txt  \n",
            "  inflating: train/labels/25-11-2021_10-38-25_AM_car..txt  \n",
            "  inflating: train/labels/25-11-2021_10-38-25_AM_head..txt  \n",
            "  inflating: train/labels/25-11-2021_10-38-25_AM_human..txt  \n",
            "  inflating: train/labels/25-11-2021_10-38-31_AM_car..txt  \n",
            "  inflating: train/labels/25-11-2021_10-38-31_AM_head..txt  \n",
            "  inflating: train/labels/25-11-2021_10-38-31_AM_human..txt  \n",
            "  inflating: train/labels/25-11-2021_10-38-35_AM_car..txt  \n",
            "  inflating: train/labels/25-11-2021_10-38-35_AM_head..txt  \n",
            "  inflating: train/labels/25-11-2021_10-38-35_AM_human..txt  \n",
            "  inflating: train/labels/25-11-2021_10-38-39_AM_car..txt  \n",
            "  inflating: train/labels/25-11-2021_10-38-39_AM_face..txt  \n",
            "  inflating: train/labels/25-11-2021_10-38-39_AM_head..txt  \n",
            "  inflating: train/labels/25-11-2021_10-38-39_AM_human..txt  \n",
            "  inflating: train/labels/25-11-2021_10-38-43_AM_car..txt  \n",
            "  inflating: train/labels/25-11-2021_10-38-43_AM_head..txt  \n",
            "  inflating: train/labels/25-11-2021_10-38-43_AM_human..txt  \n",
            "  inflating: train/labels/25-11-2021_10-38-58_AM_face..txt  \n",
            "  inflating: train/labels/25-11-2021_10-38-58_AM_head..txt  \n",
            "  inflating: train/labels/25-11-2021_10-38-58_AM_human..txt  \n",
            "  inflating: train/labels/25-11-2021_10-39-04_AM_car..txt  \n",
            "  inflating: train/labels/25-11-2021_10-39-04_AM_face..txt  \n",
            "  inflating: train/labels/25-11-2021_10-39-04_AM_head..txt  \n",
            "  inflating: train/labels/25-11-2021_10-39-04_AM_human..txt  \n",
            "  inflating: train/labels/25-11-2021_10-39-11_AM_car..txt  \n",
            "  inflating: train/labels/25-11-2021_10-39-11_AM_face..txt  \n",
            "  inflating: train/labels/25-11-2021_10-39-11_AM_head..txt  \n",
            "  inflating: train/labels/25-11-2021_10-39-11_AM_human..txt  \n",
            "  inflating: train/labels/25-11-2021_10-39-26_AM_car..txt  \n",
            "  inflating: train/labels/25-11-2021_10-39-26_AM_face..txt  \n",
            "  inflating: train/labels/25-11-2021_10-39-26_AM_head..txt  \n",
            "  inflating: train/labels/25-11-2021_10-39-26_AM_human..txt  \n",
            "  inflating: train/labels/25-11-2021_10-39-28_AM_car..txt  \n",
            "  inflating: train/labels/25-11-2021_10-39-28_AM_head..txt  \n",
            "  inflating: train/labels/25-11-2021_10-39-28_AM_human..txt  \n",
            "  inflating: train/labels/25-11-2021_10-39-31_AM_car..txt  \n",
            "  inflating: train/labels/25-11-2021_10-39-31_AM_face..txt  \n",
            "  inflating: train/labels/25-11-2021_10-39-31_AM_head..txt  \n",
            "  inflating: train/labels/25-11-2021_10-39-31_AM_human..txt  \n",
            "  inflating: train/labels/25-11-2021_10-39-40_AM_car..txt  \n",
            "  inflating: train/labels/25-11-2021_10-39-40_AM_face..txt  \n",
            "  inflating: train/labels/25-11-2021_10-39-40_AM_head..txt  \n",
            "  inflating: train/labels/25-11-2021_10-39-40_AM_human..txt  \n",
            "  inflating: train/labels/25-11-2021_10-39-43_AM_car..txt  \n",
            "  inflating: train/labels/25-11-2021_10-39-43_AM_face..txt  \n",
            "  inflating: train/labels/25-11-2021_10-39-43_AM_head..txt  \n",
            "  inflating: train/labels/25-11-2021_10-39-43_AM_human..txt  \n",
            "  inflating: train/labels/25-11-2021_10-40-10_AM_car..txt  \n",
            "  inflating: train/labels/25-11-2021_10-40-10_AM_face..txt  \n",
            "  inflating: train/labels/25-11-2021_10-40-10_AM_head..txt  \n",
            "  inflating: train/labels/25-11-2021_10-40-10_AM_human..txt  \n",
            "  inflating: train/labels/25-11-2021_10-40-12_AM_car..txt  \n",
            "  inflating: train/labels/25-11-2021_10-40-12_AM_head..txt  \n",
            "  inflating: train/labels/25-11-2021_10-40-12_AM_human..txt  \n",
            "  inflating: train/labels/25-11-2021_10-49-47_PM_car..txt  \n",
            "  inflating: train/labels/25-11-2021_10-49-47_PM_face..txt  \n",
            "  inflating: train/labels/25-11-2021_10-49-47_PM_head..txt  \n",
            "  inflating: train/labels/25-11-2021_10-49-47_PM_human..txt  \n",
            "  inflating: train/labels/25-11-2021_10-55-19_AM_car..txt  \n",
            "  inflating: train/labels/25-11-2021_10-55-19_AM_head..txt  \n",
            "  inflating: train/labels/25-11-2021_10-55-19_AM_human..txt  \n",
            "  inflating: train/labels/25-11-2021_10-55-30_AM_car..txt  \n",
            "  inflating: train/labels/25-11-2021_10-55-30_AM_face..txt  \n",
            "  inflating: train/labels/25-11-2021_10-55-30_AM_head..txt  \n",
            "  inflating: train/labels/25-11-2021_10-55-30_AM_human..txt  \n",
            "  inflating: train/labels/25-11-2021_10-55-36_AM_car..txt  \n",
            "  inflating: train/labels/25-11-2021_10-55-36_AM_head..txt  \n",
            "  inflating: train/labels/25-11-2021_10-55-36_AM_human..txt  \n",
            "  inflating: train/labels/25-11-2021_10-55-46_AM_car..txt  \n",
            "  inflating: train/labels/25-11-2021_10-55-46_AM_head..txt  \n",
            "  inflating: train/labels/25-11-2021_10-55-46_AM_human..txt  \n",
            "  inflating: train/labels/25-11-2021_10-56-03_AM_car..txt  \n",
            "  inflating: train/labels/25-11-2021_10-56-03_AM_head..txt  \n",
            "  inflating: train/labels/25-11-2021_10-56-03_AM_human..txt  \n",
            "  inflating: train/labels/25-11-2021_10-56-41_AM_car..txt  \n",
            "  inflating: train/labels/25-11-2021_10-56-41_AM_face..txt  \n",
            "  inflating: train/labels/25-11-2021_10-56-41_AM_head..txt  \n",
            "  inflating: train/labels/25-11-2021_10-56-41_AM_human..txt  \n",
            "  inflating: train/labels/25-11-2021_10-57-00_AM_car..txt  \n",
            "  inflating: train/labels/25-11-2021_10-57-00_AM_face..txt  \n",
            "  inflating: train/labels/25-11-2021_10-57-00_AM_head..txt  \n",
            "  inflating: train/labels/25-11-2021_10-57-00_AM_human..txt  \n",
            "  inflating: train/labels/25-11-2021_10-57-07_AM_car..txt  \n",
            "  inflating: train/labels/25-11-2021_10-57-07_AM_face..txt  \n",
            "  inflating: train/labels/25-11-2021_10-57-07_AM_head..txt  \n",
            "  inflating: train/labels/25-11-2021_10-57-07_AM_human..txt  \n",
            "  inflating: train/labels/25-11-2021_10-57-27_AM_car..txt  \n",
            "  inflating: train/labels/25-11-2021_10-57-27_AM_face..txt  \n",
            "  inflating: train/labels/25-11-2021_10-57-27_AM_head..txt  \n",
            "  inflating: train/labels/25-11-2021_10-57-27_AM_human..txt  \n",
            "  inflating: train/labels/25-11-2021_10-57-49_AM_face..txt  \n",
            "  inflating: train/labels/25-11-2021_10-57-49_AM_head..txt  \n",
            "  inflating: train/labels/25-11-2021_10-57-49_AM_human..txt  \n",
            "  inflating: train/labels/25-11-2021_10-57-58_AM_car..txt  \n",
            "  inflating: train/labels/25-11-2021_10-57-58_AM_head..txt  \n",
            "  inflating: train/labels/25-11-2021_10-57-58_AM_human..txt  \n",
            "  inflating: train/labels/25-11-2021_10-58-05_AM_car..txt  \n",
            "  inflating: train/labels/25-11-2021_11-07-38_PM_car..txt  \n",
            "  inflating: train/labels/25-11-2021_11-07-38_PM_head..txt  \n",
            "  inflating: train/labels/25-11-2021_11-07-38_PM_human..txt  \n",
            "  inflating: train/labels/25-11-2021_11-13-13_AM_car..txt  \n",
            "  inflating: train/labels/25-11-2021_11-13-13_AM_head..txt  \n",
            "  inflating: train/labels/25-11-2021_11-13-13_AM_human..txt  \n",
            "  inflating: train/labels/25-11-2021_11-13-23_AM_car..txt  \n",
            "  inflating: train/labels/25-11-2021_11-13-23_AM_head..txt  \n",
            "  inflating: train/labels/25-11-2021_11-13-23_AM_human..txt  \n",
            "  inflating: train/labels/25-11-2021_11-13-26_AM_car..txt  \n",
            "  inflating: train/labels/25-11-2021_11-13-26_AM_head..txt  \n",
            "  inflating: train/labels/25-11-2021_11-13-26_AM_human..txt  \n",
            "  inflating: train/labels/25-11-2021_11-13-32_AM_face..txt  \n",
            "  inflating: train/labels/25-11-2021_11-13-32_AM_head..txt  \n",
            "  inflating: train/labels/25-11-2021_11-13-32_AM_human..txt  \n",
            "  inflating: train/labels/25-11-2021_11-13-34_AM_car..txt  \n",
            "  inflating: train/labels/25-11-2021_11-13-34_AM_head..txt  \n",
            "  inflating: train/labels/25-11-2021_11-13-34_AM_human..txt  \n",
            "  inflating: train/labels/25-11-2021_11-13-38_AM_car..txt  \n",
            "  inflating: train/labels/25-11-2021_11-13-38_AM_head..txt  \n",
            "  inflating: train/labels/25-11-2021_11-13-38_AM_human..txt  \n",
            "  inflating: train/labels/25-11-2021_11-13-42_AM_car..txt  \n",
            "  inflating: train/labels/25-11-2021_11-13-42_AM_head..txt  \n",
            "  inflating: train/labels/25-11-2021_11-13-42_AM_human..txt  \n",
            "  inflating: train/labels/25-11-2021_11-13-46_AM_car..txt  \n",
            "  inflating: train/labels/25-11-2021_11-13-46_AM_head..txt  \n",
            "  inflating: train/labels/25-11-2021_11-13-46_AM_human..txt  \n",
            "  inflating: train/labels/25-11-2021_11-13-48_AM_car..txt  \n",
            "  inflating: train/labels/25-11-2021_11-13-48_AM_head..txt  \n",
            "  inflating: train/labels/25-11-2021_11-13-48_AM_human..txt  \n",
            "  inflating: train/labels/25-11-2021_11-14-38_AM_car..txt  \n",
            "  inflating: train/labels/25-11-2021_11-14-38_AM_head..txt  \n",
            "  inflating: train/labels/25-11-2021_11-14-38_AM_human..txt  \n",
            "  inflating: train/labels/25-11-2021_11-14-44_AM_head..txt  \n",
            "  inflating: train/labels/25-11-2021_11-14-44_AM_human..txt  \n",
            "  inflating: train/labels/25-11-2021_11-15-09_AM_car..txt  \n",
            "  inflating: train/labels/25-11-2021_11-15-09_AM_head..txt  \n",
            "  inflating: train/labels/25-11-2021_11-15-09_AM_human..txt  \n",
            "  inflating: train/labels/25-11-2021_11-15-12_AM_car..txt  \n",
            "  inflating: train/labels/25-11-2021_11-15-12_AM_head..txt  \n",
            "  inflating: train/labels/25-11-2021_11-15-12_AM_human..txt  \n",
            "  inflating: train/labels/25-11-2021_11-15-48_AM_car..txt  \n",
            "  inflating: train/labels/25-11-2021_11-15-48_AM_head..txt  \n",
            "  inflating: train/labels/25-11-2021_11-15-48_AM_human..txt  \n",
            "  inflating: train/labels/25-11-2021_11-15-53_AM_car..txt  \n",
            "  inflating: train/labels/25-11-2021_11-15-53_AM_face..txt  \n",
            "  inflating: train/labels/25-11-2021_11-15-53_AM_head..txt  \n",
            "  inflating: train/labels/25-11-2021_11-15-53_AM_human..txt  \n",
            "  inflating: train/labels/26-11-2021_01-07-48_PM_car..txt  \n",
            "  inflating: train/labels/26-11-2021_01-07-48_PM_head..txt  \n",
            "  inflating: train/labels/26-11-2021_01-07-48_PM_human..txt  \n",
            "  inflating: train/labels/26-11-2021_01-32-26_PM_car..txt  \n",
            "  inflating: train/labels/26-11-2021_01-32-26_PM_head..txt  \n",
            "  inflating: train/labels/26-11-2021_01-32-26_PM_human..txt  \n",
            "  inflating: train/labels/26-11-2021_01-32-36_PM_car..txt  \n",
            "  inflating: train/labels/26-11-2021_01-32-36_PM_head..txt  \n",
            "  inflating: train/labels/26-11-2021_01-32-36_PM_human..txt  \n",
            "  inflating: train/labels/26-11-2021_01-34-30_PM_car..txt  \n",
            "  inflating: train/labels/26-11-2021_01-34-30_PM_head..txt  \n",
            "  inflating: train/labels/26-11-2021_01-34-30_PM_human..txt  \n",
            "  inflating: train/labels/26-11-2021_01-34-35_PM_car..txt  \n",
            "  inflating: train/labels/26-11-2021_01-34-35_PM_face..txt  \n",
            "  inflating: train/labels/26-11-2021_01-34-35_PM_head..txt  \n",
            "  inflating: train/labels/26-11-2021_01-34-35_PM_human..txt  \n",
            "  inflating: train/labels/26-11-2021_02-08-04_AM_car..txt  \n",
            "  inflating: train/labels/26-11-2021_02-08-04_AM_head..txt  \n",
            "  inflating: train/labels/26-11-2021_02-08-04_AM_human..txt  \n",
            "  inflating: train/labels/26-11-2021_02-08-13_AM_car..txt  \n",
            "  inflating: train/labels/26-11-2021_02-08-13_AM_head..txt  \n",
            "  inflating: train/labels/26-11-2021_02-08-13_AM_human..txt  \n",
            "  inflating: train/labels/26-11-2021_02-23-42_AM_car..txt  \n",
            "  inflating: train/labels/26-11-2021_02-23-42_AM_head..txt  \n",
            "  inflating: train/labels/26-11-2021_02-23-42_AM_human..txt  \n",
            "  inflating: train/labels/26-11-2021_02-41-54_AM_car..txt  \n",
            "  inflating: train/labels/26-11-2021_02-41-54_AM_head..txt  \n",
            "  inflating: train/labels/26-11-2021_02-41-54_AM_human..txt  \n",
            "  inflating: train/labels/26-11-2021_02-59-30_AM_car..txt  \n",
            "  inflating: train/labels/26-11-2021_02-59-30_AM_head..txt  \n",
            "  inflating: train/labels/26-11-2021_02-59-30_AM_human..txt  \n",
            "  inflating: train/labels/26-11-2021_02-59-47_AM_car..txt  \n",
            "  inflating: train/labels/26-11-2021_02-59-47_AM_head..txt  \n",
            "  inflating: train/labels/26-11-2021_02-59-47_AM_human..txt  \n",
            "  inflating: train/labels/26-11-2021_03-00-01_AM_car..txt  \n",
            "  inflating: train/labels/26-11-2021_03-00-01_AM_head..txt  \n",
            "  inflating: train/labels/26-11-2021_03-00-01_AM_human..txt  \n",
            "  inflating: train/labels/26-11-2021_03-01-44_AM_head..txt  \n",
            "  inflating: train/labels/26-11-2021_03-01-44_AM_human..txt  \n",
            "  inflating: train/labels/26-11-2021_03-17-32_AM_car..txt  \n",
            "  inflating: train/labels/26-11-2021_03-17-32_AM_face..txt  \n",
            "  inflating: train/labels/26-11-2021_03-17-32_AM_head..txt  \n",
            "  inflating: train/labels/26-11-2021_03-17-32_AM_human..txt  \n",
            "  inflating: train/labels/26-11-2021_03-18-14_AM_car..txt  \n",
            "  inflating: train/labels/26-11-2021_03-18-14_AM_face..txt  \n",
            "  inflating: train/labels/26-11-2021_03-18-14_AM_head..txt  \n",
            "  inflating: train/labels/26-11-2021_03-18-14_AM_human..txt  \n",
            "  inflating: train/labels/26-11-2021_03-18-21_AM_car..txt  \n",
            "  inflating: train/labels/26-11-2021_03-18-21_AM_head..txt  \n",
            "  inflating: train/labels/26-11-2021_03-18-21_AM_human..txt  \n",
            "  inflating: train/labels/26-11-2021_03-18-35_AM_car..txt  \n",
            "  inflating: train/labels/26-11-2021_03-18-35_AM_head..txt  \n",
            "  inflating: train/labels/26-11-2021_03-18-35_AM_human..txt  \n",
            "  inflating: train/labels/26-11-2021_03-18-39_AM_car..txt  \n",
            "  inflating: train/labels/26-11-2021_03-18-39_AM_face..txt  \n",
            "  inflating: train/labels/26-11-2021_03-18-39_AM_head..txt  \n",
            "  inflating: train/labels/26-11-2021_03-18-39_AM_human..txt  \n",
            "  inflating: train/labels/26-11-2021_03-19-51_AM_car..txt  \n",
            "  inflating: train/labels/26-11-2021_03-19-51_AM_face..txt  \n",
            "  inflating: train/labels/26-11-2021_03-19-51_AM_head..txt  \n",
            "  inflating: train/labels/26-11-2021_03-19-51_AM_human..txt  \n",
            "  inflating: train/labels/26-11-2021_03-20-07_AM_face..txt  \n",
            "  inflating: train/labels/26-11-2021_03-20-07_AM_head..txt  \n",
            "  inflating: train/labels/26-11-2021_03-20-07_AM_human..txt  \n",
            "  inflating: train/labels/26-11-2021_03-35-49_AM_car..txt  \n",
            "  inflating: train/labels/26-11-2021_03-35-49_AM_head..txt  \n",
            "  inflating: train/labels/26-11-2021_03-35-49_AM_human..txt  \n",
            "  inflating: train/labels/26-11-2021_03-35-51_AM_car..txt  \n",
            "  inflating: train/labels/26-11-2021_03-35-51_AM_head..txt  \n",
            "  inflating: train/labels/26-11-2021_03-35-51_AM_human..txt  \n",
            "  inflating: train/labels/26-11-2021_03-36-13_AM_car..txt  \n",
            "  inflating: train/labels/26-11-2021_03-36-13_AM_head..txt  \n",
            "  inflating: train/labels/26-11-2021_03-36-13_AM_human..txt  \n",
            "  inflating: train/labels/26-11-2021_03-37-28_AM_car..txt  \n",
            "  inflating: train/labels/26-11-2021_03-37-28_AM_head..txt  \n",
            "  inflating: train/labels/26-11-2021_03-37-28_AM_human..txt  \n",
            "  inflating: train/labels/26-11-2021_03-37-47_AM_car..txt  \n",
            "  inflating: train/labels/26-11-2021_03-37-47_AM_head..txt  \n",
            "  inflating: train/labels/26-11-2021_03-37-47_AM_human..txt  \n",
            "  inflating: train/labels/26-11-2021_03-53-12_AM_car..txt  \n",
            "  inflating: train/labels/26-11-2021_03-53-12_AM_head..txt  \n",
            "  inflating: train/labels/26-11-2021_03-53-12_AM_human..txt  \n",
            "  inflating: train/labels/26-11-2021_03-53-20_AM_car..txt  \n",
            "  inflating: train/labels/26-11-2021_03-53-20_AM_head..txt  \n",
            "  inflating: train/labels/26-11-2021_03-53-20_AM_human..txt  \n",
            "  inflating: train/labels/26-11-2021_03-53-28_AM_car..txt  \n",
            "  inflating: train/labels/26-11-2021_03-53-28_AM_head..txt  \n",
            "  inflating: train/labels/26-11-2021_03-53-28_AM_human..txt  \n",
            "  inflating: train/labels/26-11-2021_03-53-40_AM_car..txt  \n",
            "  inflating: train/labels/26-11-2021_03-53-40_AM_head..txt  \n",
            "  inflating: train/labels/26-11-2021_03-53-40_AM_human..txt  \n",
            "  inflating: train/labels/26-11-2021_03-53-44_AM_car..txt  \n",
            "  inflating: train/labels/26-11-2021_03-53-44_AM_head..txt  \n",
            "  inflating: train/labels/26-11-2021_03-53-44_AM_human..txt  \n",
            "  inflating: train/labels/26-11-2021_03-53-51_AM_car..txt  \n",
            "  inflating: train/labels/26-11-2021_03-53-51_AM_head..txt  \n",
            "  inflating: train/labels/26-11-2021_03-53-51_AM_human..txt  \n",
            "  inflating: train/labels/26-11-2021_03-55-23_AM_car..txt  \n",
            "  inflating: train/labels/26-11-2021_03-55-23_AM_face..txt  \n",
            "  inflating: train/labels/26-11-2021_03-55-23_AM_head..txt  \n",
            "  inflating: train/labels/26-11-2021_03-55-23_AM_human..txt  \n",
            "  inflating: train/labels/26-11-2021_04-10-40_AM_car..txt  \n",
            "  inflating: train/labels/26-11-2021_04-10-40_AM_face..txt  \n",
            "  inflating: train/labels/26-11-2021_04-10-40_AM_head..txt  \n",
            "  inflating: train/labels/26-11-2021_04-10-40_AM_human..txt  \n",
            "  inflating: train/labels/26-11-2021_04-10-44_AM_car..txt  \n",
            "  inflating: train/labels/26-11-2021_04-10-44_AM_head..txt  \n",
            "  inflating: train/labels/26-11-2021_04-10-44_AM_human..txt  \n",
            "  inflating: train/labels/26-11-2021_04-10-50_AM_car..txt  \n",
            "  inflating: train/labels/26-11-2021_04-10-50_AM_head..txt  \n",
            "  inflating: train/labels/26-11-2021_04-10-50_AM_human..txt  \n",
            "  inflating: train/labels/26-11-2021_04-10-53_AM_car..txt  \n",
            "  inflating: train/labels/26-11-2021_04-10-53_AM_head..txt  \n",
            "  inflating: train/labels/26-11-2021_04-10-53_AM_human..txt  \n",
            "  inflating: train/labels/26-11-2021_04-11-05_AM_car..txt  \n",
            "  inflating: train/labels/26-11-2021_04-11-05_AM_head..txt  \n",
            "  inflating: train/labels/26-11-2021_04-11-05_AM_human..txt  \n",
            "  inflating: train/labels/26-11-2021_04-11-53_AM_car..txt  \n",
            "  inflating: train/labels/26-11-2021_04-11-53_AM_head..txt  \n",
            "  inflating: train/labels/26-11-2021_04-11-53_AM_human..txt  \n",
            "  inflating: train/labels/26-11-2021_04-13-02_AM_car..txt  \n",
            "  inflating: train/labels/26-11-2021_04-13-02_AM_head..txt  \n",
            "  inflating: train/labels/26-11-2021_04-13-02_AM_human..txt  \n",
            "  inflating: train/labels/26-11-2021_04-13-09_AM_car..txt  \n",
            "  inflating: train/labels/26-11-2021_04-13-09_AM_face..txt  \n",
            "  inflating: train/labels/26-11-2021_04-13-09_AM_head..txt  \n",
            "  inflating: train/labels/26-11-2021_04-13-09_AM_human..txt  \n",
            "  inflating: train/labels/26-11-2021_04-13-21_AM_car..txt  \n",
            "  inflating: train/labels/26-11-2021_04-13-21_AM_head..txt  \n",
            "  inflating: train/labels/26-11-2021_04-13-21_AM_human..txt  \n",
            "  inflating: train/labels/26-11-2021_04-28-40_AM_head..txt  \n",
            "  inflating: train/labels/26-11-2021_04-28-40_AM_human..txt  \n",
            "  inflating: train/labels/26-11-2021_04-28-44_AM_car..txt  \n",
            "  inflating: train/labels/26-11-2021_04-28-44_AM_face..txt  \n",
            "  inflating: train/labels/26-11-2021_04-28-44_AM_head..txt  \n",
            "  inflating: train/labels/26-11-2021_04-28-44_AM_human..txt  \n",
            "  inflating: train/labels/26-11-2021_04-28-48_AM_face..txt  \n",
            "  inflating: train/labels/26-11-2021_04-28-48_AM_head..txt  \n",
            "  inflating: train/labels/26-11-2021_04-28-48_AM_human..txt  \n",
            "  inflating: train/labels/26-11-2021_04-28-55_AM_car..txt  \n",
            "  inflating: train/labels/26-11-2021_04-28-55_AM_head..txt  \n",
            "  inflating: train/labels/26-11-2021_04-28-55_AM_human..txt  \n",
            "  inflating: train/labels/26-11-2021_04-28-59_AM_car..txt  \n",
            "  inflating: train/labels/26-11-2021_04-28-59_AM_face..txt  \n",
            "  inflating: train/labels/26-11-2021_04-28-59_AM_head..txt  \n",
            "  inflating: train/labels/26-11-2021_04-28-59_AM_human..txt  \n",
            "  inflating: train/labels/26-11-2021_04-29-06_AM_car..txt  \n",
            "  inflating: train/labels/26-11-2021_04-29-06_AM_face..txt  \n",
            "  inflating: train/labels/26-11-2021_04-29-06_AM_head..txt  \n",
            "  inflating: train/labels/26-11-2021_04-29-06_AM_human..txt  \n",
            "  inflating: train/labels/26-11-2021_04-29-11_AM_car..txt  \n",
            "  inflating: train/labels/26-11-2021_04-29-11_AM_face..txt  \n",
            "  inflating: train/labels/26-11-2021_04-29-11_AM_head..txt  \n",
            "  inflating: train/labels/26-11-2021_04-29-11_AM_human..txt  \n",
            "  inflating: train/labels/26-11-2021_04-30-30_AM_car..txt  \n",
            "  inflating: train/labels/26-11-2021_04-30-30_AM_face..txt  \n",
            "  inflating: train/labels/26-11-2021_04-30-30_AM_head..txt  \n",
            "  inflating: train/labels/26-11-2021_04-30-30_AM_human..txt  \n",
            "  inflating: train/labels/26-11-2021_04-30-35_AM_head..txt  \n",
            "  inflating: train/labels/26-11-2021_04-30-35_AM_human..txt  \n",
            "  inflating: train/labels/26-11-2021_04-30-52_AM_car..txt  \n",
            "  inflating: train/labels/26-11-2021_04-30-52_AM_head..txt  \n",
            "  inflating: train/labels/26-11-2021_04-30-52_AM_human..txt  \n",
            "  inflating: train/labels/26-11-2021_04-30-59_AM_car..txt  \n",
            "  inflating: train/labels/26-11-2021_04-30-59_AM_head..txt  \n",
            "  inflating: train/labels/26-11-2021_04-30-59_AM_human..txt  \n",
            "  inflating: train/labels/26-11-2021_04-31-09_AM_car..txt  \n",
            "  inflating: train/labels/26-11-2021_04-31-09_AM_head..txt  \n",
            "  inflating: train/labels/26-11-2021_04-31-09_AM_human..txt  \n",
            "  inflating: train/labels/26-11-2021_04-31-12_AM_car..txt  \n",
            "  inflating: train/labels/26-11-2021_04-31-12_AM_head..txt  \n",
            "  inflating: train/labels/26-11-2021_04-31-12_AM_human..txt  \n",
            "  inflating: train/labels/26-11-2021_04-46-20_AM_car..txt  \n",
            "  inflating: train/labels/26-11-2021_04-46-20_AM_face..txt  \n",
            "  inflating: train/labels/26-11-2021_04-46-20_AM_head..txt  \n",
            "  inflating: train/labels/26-11-2021_04-46-20_AM_human..txt  \n",
            "  inflating: train/labels/26-11-2021_04-46-27_AM_car..txt  \n",
            "  inflating: train/labels/26-11-2021_04-46-27_AM_head..txt  \n",
            "  inflating: train/labels/26-11-2021_04-46-27_AM_human..txt  \n",
            "  inflating: train/labels/26-11-2021_04-46-36_AM_car..txt  \n",
            "  inflating: train/labels/26-11-2021_04-46-36_AM_face..txt  \n",
            "  inflating: train/labels/26-11-2021_04-46-36_AM_head..txt  \n",
            "  inflating: train/labels/26-11-2021_04-46-36_AM_human..txt  \n",
            "  inflating: train/labels/26-11-2021_04-46-37_AM_car..txt  \n",
            "  inflating: train/labels/26-11-2021_04-46-37_AM_head..txt  \n",
            "  inflating: train/labels/26-11-2021_04-46-37_AM_human..txt  \n",
            "  inflating: train/labels/26-11-2021_04-46-49_AM_car..txt  \n",
            "  inflating: train/labels/26-11-2021_04-46-49_AM_head..txt  \n",
            "  inflating: train/labels/26-11-2021_04-46-49_AM_human..txt  \n",
            "  inflating: train/labels/26-11-2021_04-46-53_AM_car..txt  \n",
            "  inflating: train/labels/26-11-2021_04-46-53_AM_face..txt  \n",
            "  inflating: train/labels/26-11-2021_04-46-53_AM_head..txt  \n",
            "  inflating: train/labels/26-11-2021_04-46-53_AM_human..txt  \n",
            "  inflating: train/labels/26-11-2021_04-46-59_AM_car..txt  \n",
            "  inflating: train/labels/26-11-2021_04-46-59_AM_head..txt  \n",
            "  inflating: train/labels/26-11-2021_04-46-59_AM_human..txt  \n",
            "  inflating: train/labels/26-11-2021_04-47-03_AM_car..txt  \n",
            "  inflating: train/labels/26-11-2021_04-47-03_AM_face..txt  \n",
            "  inflating: train/labels/26-11-2021_04-47-03_AM_head..txt  \n",
            "  inflating: train/labels/26-11-2021_04-47-03_AM_human..txt  \n",
            "  inflating: train/labels/26-11-2021_04-47-05_AM_car..txt  \n",
            "  inflating: train/labels/26-11-2021_04-47-05_AM_face..txt  \n",
            "  inflating: train/labels/26-11-2021_04-47-05_AM_head..txt  \n",
            "  inflating: train/labels/26-11-2021_04-47-05_AM_human..txt  \n",
            "  inflating: train/labels/26-11-2021_04-47-18_AM_head..txt  \n",
            "  inflating: train/labels/26-11-2021_04-47-18_AM_human..txt  \n",
            "  inflating: train/labels/26-11-2021_04-47-26_AM_car..txt  \n",
            "  inflating: train/labels/26-11-2021_04-47-26_AM_face..txt  \n",
            "  inflating: train/labels/26-11-2021_04-47-26_AM_head..txt  \n",
            "  inflating: train/labels/26-11-2021_04-47-26_AM_human..txt  \n",
            "  inflating: train/labels/26-11-2021_04-47-37_AM_car..txt  \n",
            "  inflating: train/labels/26-11-2021_04-47-37_AM_face..txt  \n",
            "  inflating: train/labels/26-11-2021_04-47-37_AM_head..txt  \n",
            "  inflating: train/labels/26-11-2021_04-47-37_AM_human..txt  \n",
            "  inflating: train/labels/26-11-2021_04-47-43_AM_car..txt  \n",
            "  inflating: train/labels/26-11-2021_04-47-43_AM_face..txt  \n",
            "  inflating: train/labels/26-11-2021_04-47-43_AM_head..txt  \n",
            "  inflating: train/labels/26-11-2021_04-47-43_AM_human..txt  \n",
            "  inflating: train/labels/26-11-2021_04-47-50_AM_head..txt  \n",
            "  inflating: train/labels/26-11-2021_04-47-50_AM_human..txt  \n",
            "  inflating: train/labels/26-11-2021_04-48-35_AM_car..txt  \n",
            "  inflating: train/labels/26-11-2021_04-48-35_AM_head..txt  \n",
            "  inflating: train/labels/26-11-2021_04-48-35_AM_human..txt  \n",
            "  inflating: train/labels/26-11-2021_04-48-37_AM_head..txt  \n",
            "  inflating: train/labels/26-11-2021_04-48-37_AM_human..txt  \n",
            "  inflating: train/labels/26-11-2021_05-04-17_AM_car..txt  \n",
            "  inflating: train/labels/26-11-2021_05-04-17_AM_head..txt  \n",
            "  inflating: train/labels/26-11-2021_05-04-17_AM_human..txt  \n",
            "  inflating: train/labels/26-11-2021_05-04-23_AM_car..txt  \n",
            "  inflating: train/labels/26-11-2021_05-04-23_AM_face..txt  \n",
            "  inflating: train/labels/26-11-2021_05-04-23_AM_head..txt  \n",
            "  inflating: train/labels/26-11-2021_05-04-23_AM_human..txt  \n",
            "  inflating: train/labels/26-11-2021_05-04-27_AM_car..txt  \n",
            "  inflating: train/labels/26-11-2021_05-04-27_AM_head..txt  \n",
            "  inflating: train/labels/26-11-2021_05-04-27_AM_human..txt  \n",
            "  inflating: train/labels/26-11-2021_05-04-32_AM_car..txt  \n",
            "  inflating: train/labels/26-11-2021_05-04-32_AM_head..txt  \n",
            "  inflating: train/labels/26-11-2021_05-04-32_AM_human..txt  \n",
            "  inflating: train/labels/26-11-2021_05-04-35_AM_car..txt  \n",
            "  inflating: train/labels/26-11-2021_05-04-35_AM_face..txt  \n",
            "  inflating: train/labels/26-11-2021_05-04-35_AM_head..txt  \n",
            "  inflating: train/labels/26-11-2021_05-04-35_AM_human..txt  \n",
            "  inflating: train/labels/26-11-2021_05-04-39_AM_car..txt  \n",
            "  inflating: train/labels/26-11-2021_05-04-39_AM_face..txt  \n",
            "  inflating: train/labels/26-11-2021_05-04-39_AM_head..txt  \n",
            "  inflating: train/labels/26-11-2021_05-04-39_AM_human..txt  \n",
            "  inflating: train/labels/26-11-2021_05-04-47_AM_car..txt  \n",
            "  inflating: train/labels/26-11-2021_05-04-47_AM_face..txt  \n",
            "  inflating: train/labels/26-11-2021_05-04-47_AM_head..txt  \n",
            "  inflating: train/labels/26-11-2021_05-04-47_AM_human..txt  \n",
            "  inflating: train/labels/26-11-2021_05-04-53_AM_car..txt  \n",
            "  inflating: train/labels/26-11-2021_05-04-53_AM_head..txt  \n",
            "  inflating: train/labels/26-11-2021_05-04-53_AM_human..txt  \n",
            "  inflating: train/labels/26-11-2021_05-05-00_AM_car..txt  \n",
            "  inflating: train/labels/26-11-2021_05-05-00_AM_face..txt  \n",
            "  inflating: train/labels/26-11-2021_05-05-00_AM_head..txt  \n",
            "  inflating: train/labels/26-11-2021_05-05-00_AM_human..txt  \n",
            "  inflating: train/labels/26-11-2021_05-05-05_AM_car..txt  \n",
            "  inflating: train/labels/26-11-2021_05-05-05_AM_head..txt  \n",
            "  inflating: train/labels/26-11-2021_05-05-05_AM_human..txt  \n",
            "  inflating: train/labels/26-11-2021_05-05-16_AM_car..txt  \n",
            "  inflating: train/labels/26-11-2021_05-05-16_AM_head..txt  \n",
            "  inflating: train/labels/26-11-2021_05-05-16_AM_human..txt  \n",
            "  inflating: train/labels/26-11-2021_05-05-34_AM_car..txt  \n",
            "  inflating: train/labels/26-11-2021_05-05-34_AM_head..txt  \n",
            "  inflating: train/labels/26-11-2021_05-05-34_AM_human..txt  \n",
            "  inflating: train/labels/26-11-2021_05-06-11_AM_head..txt  \n",
            "  inflating: train/labels/26-11-2021_05-06-11_AM_human..txt  \n",
            "  inflating: train/labels/26-11-2021_05-06-18_AM_car..txt  \n",
            "  inflating: train/labels/26-11-2021_05-06-18_AM_head..txt  \n",
            "  inflating: train/labels/26-11-2021_05-06-18_AM_human..txt  \n",
            "  inflating: train/labels/26-11-2021_05-06-41_AM_face..txt  \n",
            "  inflating: train/labels/26-11-2021_05-06-41_AM_head..txt  \n",
            "  inflating: train/labels/26-11-2021_05-06-41_AM_human..txt  \n",
            "  inflating: train/labels/26-11-2021_05-06-43_AM_car..txt  \n",
            "  inflating: train/labels/26-11-2021_05-06-43_AM_face..txt  \n",
            "  inflating: train/labels/26-11-2021_05-06-43_AM_head..txt  \n",
            "  inflating: train/labels/26-11-2021_05-06-43_AM_human..txt  \n",
            "  inflating: train/labels/26-11-2021_05-06-49_AM_car..txt  \n",
            "  inflating: train/labels/26-11-2021_05-06-49_AM_head..txt  \n",
            "  inflating: train/labels/26-11-2021_05-06-49_AM_human..txt  \n",
            "  inflating: train/labels/26-11-2021_05-21-59_AM_car..txt  \n",
            "  inflating: train/labels/26-11-2021_05-21-59_AM_face..txt  \n",
            "  inflating: train/labels/26-11-2021_05-21-59_AM_head..txt  \n",
            "  inflating: train/labels/26-11-2021_05-21-59_AM_human..txt  \n",
            "  inflating: train/labels/26-11-2021_05-22-24_AM_car..txt  \n",
            "  inflating: train/labels/26-11-2021_05-22-24_AM_head..txt  \n",
            "  inflating: train/labels/26-11-2021_05-22-24_AM_human..txt  \n",
            "  inflating: train/labels/26-11-2021_05-22-38_AM_car..txt  \n",
            "  inflating: train/labels/26-11-2021_05-22-38_AM_head..txt  \n",
            "  inflating: train/labels/26-11-2021_05-22-38_AM_human..txt  \n",
            "  inflating: train/labels/26-11-2021_05-22-43_AM_car..txt  \n",
            "  inflating: train/labels/26-11-2021_05-22-43_AM_head..txt  \n",
            "  inflating: train/labels/26-11-2021_05-22-43_AM_human..txt  \n",
            "  inflating: train/labels/26-11-2021_05-22-47_AM_car..txt  \n",
            "  inflating: train/labels/26-11-2021_05-22-47_AM_face..txt  \n",
            "  inflating: train/labels/26-11-2021_05-22-47_AM_head..txt  \n",
            "  inflating: train/labels/26-11-2021_05-22-47_AM_human..txt  \n",
            "  inflating: train/labels/26-11-2021_05-22-51_AM_car..txt  \n",
            "  inflating: train/labels/26-11-2021_05-22-51_AM_face..txt  \n",
            "  inflating: train/labels/26-11-2021_05-22-51_AM_head..txt  \n",
            "  inflating: train/labels/26-11-2021_05-22-51_AM_human..txt  \n",
            "  inflating: train/labels/26-11-2021_05-22-58_AM_car..txt  \n",
            "  inflating: train/labels/26-11-2021_05-22-58_AM_head..txt  \n",
            "  inflating: train/labels/26-11-2021_05-22-58_AM_human..txt  \n",
            "  inflating: train/labels/26-11-2021_05-23-08_AM_car..txt  \n",
            "  inflating: train/labels/26-11-2021_05-23-08_AM_head..txt  \n",
            "  inflating: train/labels/26-11-2021_05-23-08_AM_human..txt  \n",
            "  inflating: train/labels/26-11-2021_05-23-16_AM_car..txt  \n",
            "  inflating: train/labels/26-11-2021_05-23-16_AM_head..txt  \n",
            "  inflating: train/labels/26-11-2021_05-23-16_AM_human..txt  \n",
            "  inflating: train/labels/26-11-2021_05-23-53_AM_car..txt  \n",
            "  inflating: train/labels/26-11-2021_05-23-53_AM_head..txt  \n",
            "  inflating: train/labels/26-11-2021_05-23-53_AM_human..txt  \n",
            "  inflating: train/labels/26-11-2021_05-24-02_AM_car..txt  \n",
            "  inflating: train/labels/26-11-2021_05-24-02_AM_head..txt  \n",
            "  inflating: train/labels/26-11-2021_05-24-02_AM_human..txt  \n",
            "  inflating: train/labels/26-11-2021_05-24-47_AM_face..txt  \n",
            "  inflating: train/labels/26-11-2021_05-24-47_AM_head..txt  \n",
            "  inflating: train/labels/26-11-2021_05-24-47_AM_human..txt  \n",
            "  inflating: train/labels/26-11-2021_05-24-51_AM_car..txt  \n",
            "  inflating: train/labels/26-11-2021_05-24-51_AM_face..txt  \n",
            "  inflating: train/labels/26-11-2021_05-24-51_AM_head..txt  \n",
            "  inflating: train/labels/26-11-2021_05-24-51_AM_human..txt  \n",
            "  inflating: train/labels/26-11-2021_05-24-56_AM_car..txt  \n",
            "  inflating: train/labels/26-11-2021_05-24-56_AM_head..txt  \n",
            "  inflating: train/labels/26-11-2021_05-24-56_AM_human..txt  \n",
            "  inflating: train/labels/26-11-2021_05-40-09_AM_car..txt  \n",
            "  inflating: train/labels/26-11-2021_05-40-09_AM_head..txt  \n",
            "  inflating: train/labels/26-11-2021_05-40-09_AM_human..txt  \n",
            "  inflating: train/labels/26-11-2021_05-40-11_AM_car..txt  \n",
            "  inflating: train/labels/26-11-2021_05-40-11_AM_face..txt  \n",
            "  inflating: train/labels/26-11-2021_05-40-11_AM_head..txt  \n",
            "  inflating: train/labels/26-11-2021_05-40-11_AM_human..txt  \n",
            "  inflating: train/labels/26-11-2021_05-40-38_AM_car..txt  \n",
            "  inflating: train/labels/26-11-2021_05-40-38_AM_face..txt  \n",
            "  inflating: train/labels/26-11-2021_05-40-38_AM_head..txt  \n",
            "  inflating: train/labels/26-11-2021_05-40-38_AM_human..txt  \n",
            "  inflating: train/labels/26-11-2021_05-41-28_AM_car..txt  \n",
            "  inflating: train/labels/26-11-2021_05-41-28_AM_face..txt  \n",
            "  inflating: train/labels/26-11-2021_05-41-28_AM_head..txt  \n",
            "  inflating: train/labels/26-11-2021_05-41-28_AM_human..txt  \n",
            "  inflating: train/labels/26-11-2021_05-41-46_AM_car..txt  \n",
            "  inflating: train/labels/26-11-2021_05-41-46_AM_head..txt  \n",
            "  inflating: train/labels/26-11-2021_05-41-46_AM_human..txt  \n",
            "  inflating: train/labels/26-11-2021_05-41-49_AM_car..txt  \n",
            "  inflating: train/labels/26-11-2021_05-41-49_AM_head..txt  \n",
            "  inflating: train/labels/26-11-2021_05-41-49_AM_human..txt  \n",
            "  inflating: train/labels/26-11-2021_05-41-57_AM_car..txt  \n",
            "  inflating: train/labels/26-11-2021_05-41-57_AM_face..txt  \n",
            "  inflating: train/labels/26-11-2021_05-41-57_AM_head..txt  \n",
            "  inflating: train/labels/26-11-2021_05-41-57_AM_human..txt  \n",
            "  inflating: train/labels/26-11-2021_05-42-19_AM_car..txt  \n",
            "  inflating: train/labels/26-11-2021_05-42-19_AM_face..txt  \n",
            "  inflating: train/labels/26-11-2021_05-42-19_AM_head..txt  \n",
            "  inflating: train/labels/26-11-2021_05-42-19_AM_human..txt  \n",
            "  inflating: train/labels/26-11-2021_05-42-33_AM_face..txt  \n",
            "  inflating: train/labels/26-11-2021_05-42-33_AM_head..txt  \n",
            "  inflating: train/labels/26-11-2021_05-42-33_AM_human..txt  \n",
            "  inflating: train/labels/26-11-2021_05-58-17_AM_car..txt  \n",
            "  inflating: train/labels/26-11-2021_05-58-17_AM_face..txt  \n",
            "  inflating: train/labels/26-11-2021_05-58-17_AM_head..txt  \n",
            "  inflating: train/labels/26-11-2021_05-58-17_AM_human..txt  \n",
            "  inflating: train/labels/26-11-2021_05-58-20_AM_car..txt  \n",
            "  inflating: train/labels/26-11-2021_05-58-20_AM_head..txt  \n",
            "  inflating: train/labels/26-11-2021_05-58-20_AM_human..txt  \n",
            "  inflating: train/labels/26-11-2021_05-58-25_AM_car..txt  \n",
            "  inflating: train/labels/26-11-2021_05-58-25_AM_head..txt  \n",
            "  inflating: train/labels/26-11-2021_05-58-25_AM_human..txt  \n",
            "  inflating: train/labels/26-11-2021_05-58-30_AM_car..txt  \n",
            "  inflating: train/labels/26-11-2021_05-58-30_AM_head..txt  \n",
            "  inflating: train/labels/26-11-2021_05-58-30_AM_human..txt  \n",
            "  inflating: train/labels/26-11-2021_05-58-33_AM_car..txt  \n",
            "  inflating: train/labels/26-11-2021_05-58-33_AM_face..txt  \n",
            "  inflating: train/labels/26-11-2021_05-58-33_AM_head..txt  \n",
            "  inflating: train/labels/26-11-2021_05-58-33_AM_human..txt  \n",
            "  inflating: train/labels/26-11-2021_05-58-47_AM_car..txt  \n",
            "  inflating: train/labels/26-11-2021_05-58-47_AM_face..txt  \n",
            "  inflating: train/labels/26-11-2021_05-58-47_AM_head..txt  \n",
            "  inflating: train/labels/26-11-2021_05-58-47_AM_human..txt  \n",
            "  inflating: train/labels/26-11-2021_05-58-49_AM_car..txt  \n",
            "  inflating: train/labels/26-11-2021_05-58-49_AM_head..txt  \n",
            "  inflating: train/labels/26-11-2021_05-58-49_AM_human..txt  \n",
            "  inflating: train/labels/26-11-2021_05-59-14_AM_car..txt  \n",
            "  inflating: train/labels/26-11-2021_05-59-14_AM_head..txt  \n",
            "  inflating: train/labels/26-11-2021_05-59-14_AM_human..txt  \n",
            "  inflating: train/labels/26-11-2021_06-00-32_AM_face..txt  \n",
            "  inflating: train/labels/26-11-2021_06-00-32_AM_head..txt  \n",
            "  inflating: train/labels/26-11-2021_06-00-32_AM_human..txt  \n",
            "  inflating: train/labels/26-11-2021_06-01-02_AM_car..txt  \n",
            "  inflating: train/labels/26-11-2021_06-01-02_AM_face..txt  \n",
            "  inflating: train/labels/26-11-2021_06-01-02_AM_head..txt  \n",
            "  inflating: train/labels/26-11-2021_06-01-02_AM_human..txt  \n",
            "  inflating: train/labels/26-11-2021_06-16-26_AM_car..txt  \n",
            "  inflating: train/labels/26-11-2021_06-16-26_AM_head..txt  \n",
            "  inflating: train/labels/26-11-2021_06-16-26_AM_human..txt  \n",
            "  inflating: train/labels/26-11-2021_06-16-28_AM_car..txt  \n",
            "  inflating: train/labels/26-11-2021_06-16-28_AM_head..txt  \n",
            "  inflating: train/labels/26-11-2021_06-16-28_AM_human..txt  \n",
            "  inflating: train/labels/26-11-2021_06-16-32_AM_car..txt  \n",
            "  inflating: train/labels/26-11-2021_06-16-32_AM_face..txt  \n",
            "  inflating: train/labels/26-11-2021_06-16-32_AM_head..txt  \n",
            "  inflating: train/labels/26-11-2021_06-16-32_AM_human..txt  \n",
            "  inflating: train/labels/26-11-2021_06-16-49_AM_car..txt  \n",
            "  inflating: train/labels/26-11-2021_06-16-49_AM_head..txt  \n",
            "  inflating: train/labels/26-11-2021_06-16-49_AM_human..txt  \n",
            "  inflating: train/labels/26-11-2021_06-16-51_AM_car..txt  \n",
            "  inflating: train/labels/26-11-2021_06-16-51_AM_face..txt  \n",
            "  inflating: train/labels/26-11-2021_06-16-51_AM_head..txt  \n",
            "  inflating: train/labels/26-11-2021_06-16-51_AM_human..txt  \n",
            "  inflating: train/labels/26-11-2021_06-17-07_AM_car..txt  \n",
            "  inflating: train/labels/26-11-2021_06-17-07_AM_head..txt  \n",
            "  inflating: train/labels/26-11-2021_06-17-07_AM_human..txt  \n",
            "  inflating: train/labels/26-11-2021_06-17-27_AM_car..txt  \n",
            "  inflating: train/labels/26-11-2021_06-17-27_AM_face..txt  \n",
            "  inflating: train/labels/26-11-2021_06-17-27_AM_head..txt  \n",
            "  inflating: train/labels/26-11-2021_06-17-27_AM_human..txt  \n",
            "  inflating: train/labels/26-11-2021_06-17-55_AM_car..txt  \n",
            "  inflating: train/labels/26-11-2021_06-17-55_AM_face..txt  \n",
            "  inflating: train/labels/26-11-2021_06-17-55_AM_head..txt  \n",
            "  inflating: train/labels/26-11-2021_06-17-55_AM_human..txt  \n",
            "  inflating: train/labels/26-11-2021_06-17-58_AM_car..txt  \n",
            "  inflating: train/labels/26-11-2021_06-17-58_AM_head..txt  \n",
            "  inflating: train/labels/26-11-2021_06-17-58_AM_human..txt  \n",
            "  inflating: train/labels/26-11-2021_06-18-08_AM_car..txt  \n",
            "  inflating: train/labels/26-11-2021_06-18-08_AM_head..txt  \n",
            "  inflating: train/labels/26-11-2021_06-18-08_AM_human..txt  \n",
            "  inflating: train/labels/26-11-2021_06-18-13_AM_car..txt  \n",
            "  inflating: train/labels/26-11-2021_06-18-13_AM_face..txt  \n",
            "  inflating: train/labels/26-11-2021_06-18-13_AM_head..txt  \n",
            "  inflating: train/labels/26-11-2021_06-18-13_AM_human..txt  \n",
            "  inflating: train/labels/26-11-2021_06-18-15_AM_car..txt  \n",
            "  inflating: train/labels/26-11-2021_06-18-15_AM_head..txt  \n",
            "  inflating: train/labels/26-11-2021_06-18-15_AM_human..txt  \n",
            "  inflating: train/labels/26-11-2021_06-18-38_AM_car..txt  \n",
            "  inflating: train/labels/26-11-2021_06-18-38_AM_head..txt  \n",
            "  inflating: train/labels/26-11-2021_06-18-38_AM_human..txt  \n",
            "  inflating: train/labels/26-11-2021_06-18-48_AM_car..txt  \n",
            "  inflating: train/labels/26-11-2021_06-18-48_AM_head..txt  \n",
            "  inflating: train/labels/26-11-2021_06-18-48_AM_human..txt  \n",
            "  inflating: train/labels/26-11-2021_06-18-55_AM_car..txt  \n",
            "  inflating: train/labels/26-11-2021_06-18-55_AM_head..txt  \n",
            "  inflating: train/labels/26-11-2021_06-18-55_AM_human..txt  \n",
            "  inflating: train/labels/26-11-2021_06-18-57_AM_car..txt  \n",
            "  inflating: train/labels/26-11-2021_06-18-57_AM_head..txt  \n",
            "  inflating: train/labels/26-11-2021_06-18-57_AM_human..txt  \n",
            "  inflating: train/labels/26-11-2021_06-34-04_AM_car..txt  \n",
            "  inflating: train/labels/26-11-2021_06-34-10_AM_car..txt  \n",
            "  inflating: train/labels/26-11-2021_06-34-10_AM_head..txt  \n",
            "  inflating: train/labels/26-11-2021_06-34-10_AM_human..txt  \n",
            "  inflating: train/labels/26-11-2021_06-34-13_AM_car..txt  \n",
            "  inflating: train/labels/26-11-2021_06-34-13_AM_head..txt  \n",
            "  inflating: train/labels/26-11-2021_06-34-13_AM_human..txt  \n",
            "  inflating: train/labels/26-11-2021_06-34-39_AM_car..txt  \n",
            "  inflating: train/labels/26-11-2021_06-34-39_AM_head..txt  \n",
            "  inflating: train/labels/26-11-2021_06-34-39_AM_human..txt  \n",
            "  inflating: train/labels/26-11-2021_06-34-41_AM_car..txt  \n",
            "  inflating: train/labels/26-11-2021_06-34-41_AM_head..txt  \n",
            "  inflating: train/labels/26-11-2021_06-34-41_AM_human..txt  \n",
            "  inflating: train/labels/26-11-2021_06-35-18_AM_car..txt  \n",
            "  inflating: train/labels/26-11-2021_06-35-18_AM_face..txt  \n",
            "  inflating: train/labels/26-11-2021_06-35-18_AM_head..txt  \n",
            "  inflating: train/labels/26-11-2021_06-35-18_AM_human..txt  \n",
            "  inflating: train/labels/26-11-2021_06-35-26_AM_car..txt  \n",
            "  inflating: train/labels/26-11-2021_06-35-26_AM_face..txt  \n",
            "  inflating: train/labels/26-11-2021_06-35-26_AM_head..txt  \n",
            "  inflating: train/labels/26-11-2021_06-35-26_AM_human..txt  \n",
            "  inflating: train/labels/26-11-2021_06-35-30_AM_car..txt  \n",
            "  inflating: train/labels/26-11-2021_06-35-30_AM_head..txt  \n",
            "  inflating: train/labels/26-11-2021_06-35-30_AM_human..txt  \n",
            "  inflating: train/labels/26-11-2021_06-35-47_AM_car..txt  \n",
            "  inflating: train/labels/26-11-2021_06-35-47_AM_head..txt  \n",
            "  inflating: train/labels/26-11-2021_06-35-47_AM_human..txt  \n",
            "  inflating: train/labels/26-11-2021_06-36-03_AM_car..txt  \n",
            "  inflating: train/labels/26-11-2021_06-36-03_AM_head..txt  \n",
            "  inflating: train/labels/26-11-2021_06-36-03_AM_human..txt  \n",
            "  inflating: train/labels/26-11-2021_06-36-06_AM_car..txt  \n",
            "  inflating: train/labels/26-11-2021_06-36-06_AM_head..txt  \n",
            "  inflating: train/labels/26-11-2021_06-36-06_AM_human..txt  \n",
            "  inflating: train/labels/26-11-2021_06-36-13_AM_car..txt  \n",
            "  inflating: train/labels/26-11-2021_06-36-13_AM_head..txt  \n",
            "  inflating: train/labels/26-11-2021_06-36-13_AM_human..txt  \n",
            "  inflating: train/labels/26-11-2021_06-36-18_AM_car..txt  \n",
            "  inflating: train/labels/26-11-2021_06-36-18_AM_face..txt  \n",
            "  inflating: train/labels/26-11-2021_06-36-18_AM_head..txt  \n",
            "  inflating: train/labels/26-11-2021_06-36-18_AM_human..txt  \n",
            "  inflating: train/labels/26-11-2021_06-36-20_AM_face..txt  \n",
            "  inflating: train/labels/26-11-2021_06-36-20_AM_head..txt  \n",
            "  inflating: train/labels/26-11-2021_06-36-20_AM_human..txt  \n",
            "  inflating: train/labels/26-11-2021_06-36-43_AM_car..txt  \n",
            "  inflating: train/labels/26-11-2021_06-36-43_AM_face..txt  \n",
            "  inflating: train/labels/26-11-2021_06-36-43_AM_head..txt  \n",
            "  inflating: train/labels/26-11-2021_06-36-43_AM_human..txt  \n",
            "  inflating: train/labels/26-11-2021_06-36-48_AM_car..txt  \n",
            "  inflating: train/labels/26-11-2021_06-36-48_AM_head..txt  \n",
            "  inflating: train/labels/26-11-2021_06-36-48_AM_human..txt  \n",
            "  inflating: train/labels/26-11-2021_06-52-05_AM_car..txt  \n",
            "  inflating: train/labels/26-11-2021_06-52-05_AM_head..txt  \n",
            "  inflating: train/labels/26-11-2021_06-52-05_AM_human..txt  \n",
            "  inflating: train/labels/26-11-2021_06-52-20_AM_car..txt  \n",
            "  inflating: train/labels/26-11-2021_06-52-20_AM_head..txt  \n",
            "  inflating: train/labels/26-11-2021_06-52-20_AM_human..txt  \n",
            "  inflating: train/labels/26-11-2021_06-52-28_AM_car..txt  \n",
            "  inflating: train/labels/26-11-2021_06-52-28_AM_head..txt  \n",
            "  inflating: train/labels/26-11-2021_06-52-28_AM_human..txt  \n",
            "  inflating: train/labels/26-11-2021_06-52-30_AM_car..txt  \n",
            "  inflating: train/labels/26-11-2021_06-52-30_AM_head..txt  \n",
            "  inflating: train/labels/26-11-2021_06-52-30_AM_human..txt  \n",
            "  inflating: train/labels/26-11-2021_06-52-51_AM_car..txt  \n",
            "  inflating: train/labels/26-11-2021_06-52-51_AM_face..txt  \n",
            "  inflating: train/labels/26-11-2021_06-52-51_AM_head..txt  \n",
            "  inflating: train/labels/26-11-2021_06-52-51_AM_human..txt  \n",
            "  inflating: train/labels/26-11-2021_06-53-14_AM_car..txt  \n",
            "  inflating: train/labels/26-11-2021_06-53-14_AM_head..txt  \n",
            "  inflating: train/labels/26-11-2021_06-53-14_AM_human..txt  \n",
            "  inflating: train/labels/26-11-2021_06-53-21_AM_car..txt  \n",
            "  inflating: train/labels/26-11-2021_06-53-21_AM_face..txt  \n",
            "  inflating: train/labels/26-11-2021_06-53-21_AM_head..txt  \n",
            "  inflating: train/labels/26-11-2021_06-53-21_AM_human..txt  \n",
            "  inflating: train/labels/26-11-2021_06-53-25_AM_car..txt  \n",
            "  inflating: train/labels/26-11-2021_06-53-25_AM_face..txt  \n",
            "  inflating: train/labels/26-11-2021_06-53-25_AM_head..txt  \n",
            "  inflating: train/labels/26-11-2021_06-53-25_AM_human..txt  \n",
            "  inflating: train/labels/26-11-2021_06-54-06_AM_car..txt  \n",
            "  inflating: train/labels/26-11-2021_06-54-06_AM_face..txt  \n",
            "  inflating: train/labels/26-11-2021_06-54-06_AM_head..txt  \n",
            "  inflating: train/labels/26-11-2021_06-54-06_AM_human..txt  \n",
            "  inflating: train/labels/26-11-2021_06-54-21_AM_head..txt  \n",
            "  inflating: train/labels/26-11-2021_06-54-21_AM_human..txt  \n",
            "  inflating: train/labels/26-11-2021_06-54-26_AM_car..txt  \n",
            "  inflating: train/labels/26-11-2021_06-54-26_AM_head..txt  \n",
            "  inflating: train/labels/26-11-2021_06-54-26_AM_human..txt  \n",
            "  inflating: train/labels/26-11-2021_06-54-43_AM_car..txt  \n",
            "  inflating: train/labels/26-11-2021_06-54-43_AM_face..txt  \n",
            "  inflating: train/labels/26-11-2021_06-54-43_AM_head..txt  \n",
            "  inflating: train/labels/26-11-2021_06-54-43_AM_human..txt  \n",
            "  inflating: train/labels/26-11-2021_06-54-47_AM_car..txt  \n",
            "  inflating: train/labels/26-11-2021_06-54-47_AM_head..txt  \n",
            "  inflating: train/labels/26-11-2021_06-54-47_AM_human..txt  \n",
            "  inflating: train/labels/26-11-2021_07-10-02_AM_car..txt  \n",
            "  inflating: train/labels/26-11-2021_07-10-02_AM_head..txt  \n",
            "  inflating: train/labels/26-11-2021_07-10-02_AM_human..txt  \n",
            "  inflating: train/labels/26-11-2021_07-10-24_AM_car..txt  \n",
            "  inflating: train/labels/26-11-2021_07-10-24_AM_face..txt  \n",
            "  inflating: train/labels/26-11-2021_07-10-24_AM_head..txt  \n",
            "  inflating: train/labels/26-11-2021_07-10-24_AM_human..txt  \n",
            "  inflating: train/labels/26-11-2021_07-10-28_AM_car..txt  \n",
            "  inflating: train/labels/26-11-2021_07-10-28_AM_head..txt  \n",
            "  inflating: train/labels/26-11-2021_07-10-28_AM_human..txt  \n",
            "  inflating: train/labels/26-11-2021_07-10-39_AM_car..txt  \n",
            "  inflating: train/labels/26-11-2021_07-10-39_AM_face..txt  \n",
            "  inflating: train/labels/26-11-2021_07-10-39_AM_head..txt  \n",
            "  inflating: train/labels/26-11-2021_07-10-39_AM_human..txt  \n",
            "  inflating: train/labels/26-11-2021_07-11-07_AM_car..txt  \n",
            "  inflating: train/labels/26-11-2021_07-11-07_AM_head..txt  \n",
            "  inflating: train/labels/26-11-2021_07-11-07_AM_human..txt  \n",
            "  inflating: train/labels/26-11-2021_07-11-11_AM_car..txt  \n",
            "  inflating: train/labels/26-11-2021_07-11-11_AM_face..txt  \n",
            "  inflating: train/labels/26-11-2021_07-11-11_AM_head..txt  \n",
            "  inflating: train/labels/26-11-2021_07-11-11_AM_human..txt  \n",
            "  inflating: train/labels/26-11-2021_07-12-01_AM_car..txt  \n",
            "  inflating: train/labels/26-11-2021_07-12-01_AM_face..txt  \n",
            "  inflating: train/labels/26-11-2021_07-12-01_AM_head..txt  \n",
            "  inflating: train/labels/26-11-2021_07-12-01_AM_human..txt  \n",
            "  inflating: train/labels/26-11-2021_07-12-06_AM_car..txt  \n",
            "  inflating: train/labels/26-11-2021_07-12-06_AM_face..txt  \n",
            "  inflating: train/labels/26-11-2021_07-12-06_AM_head..txt  \n",
            "  inflating: train/labels/26-11-2021_07-12-06_AM_human..txt  \n",
            "  inflating: train/labels/26-11-2021_07-12-14_AM_head..txt  \n",
            "  inflating: train/labels/26-11-2021_07-12-14_AM_human..txt  \n",
            "  inflating: train/labels/26-11-2021_07-12-39_AM_car..txt  \n",
            "  inflating: train/labels/26-11-2021_07-12-39_AM_head..txt  \n",
            "  inflating: train/labels/26-11-2021_07-12-39_AM_human..txt  \n",
            "  inflating: train/labels/26-11-2021_07-28-01_AM_car..txt  \n",
            "  inflating: train/labels/26-11-2021_07-28-01_AM_head..txt  \n",
            "  inflating: train/labels/26-11-2021_07-28-01_AM_human..txt  \n",
            "  inflating: train/labels/26-11-2021_07-28-10_AM_car..txt  \n",
            "  inflating: train/labels/26-11-2021_07-28-10_AM_face..txt  \n",
            "  inflating: train/labels/26-11-2021_07-28-10_AM_head..txt  \n",
            "  inflating: train/labels/26-11-2021_07-28-10_AM_human..txt  \n",
            "  inflating: train/labels/26-11-2021_07-28-13_AM_car..txt  \n",
            "  inflating: train/labels/26-11-2021_07-28-13_AM_head..txt  \n",
            "  inflating: train/labels/26-11-2021_07-28-13_AM_human..txt  \n",
            "  inflating: train/labels/26-11-2021_07-28-17_AM_car..txt  \n",
            "  inflating: train/labels/26-11-2021_07-28-17_AM_head..txt  \n",
            "  inflating: train/labels/26-11-2021_07-28-17_AM_human..txt  \n",
            "  inflating: train/labels/26-11-2021_07-28-45_AM_car..txt  \n",
            "  inflating: train/labels/26-11-2021_07-28-45_AM_face..txt  \n",
            "  inflating: train/labels/26-11-2021_07-28-45_AM_head..txt  \n",
            "  inflating: train/labels/26-11-2021_07-28-45_AM_human..txt  \n",
            "  inflating: train/labels/26-11-2021_07-28-52_AM_car..txt  \n",
            "  inflating: train/labels/26-11-2021_07-28-52_AM_head..txt  \n",
            "  inflating: train/labels/26-11-2021_07-28-52_AM_human..txt  \n",
            "  inflating: train/labels/26-11-2021_07-29-12_AM_car..txt  \n",
            "  inflating: train/labels/26-11-2021_07-29-12_AM_head..txt  \n",
            "  inflating: train/labels/26-11-2021_07-29-12_AM_human..txt  \n",
            "  inflating: train/labels/26-11-2021_07-29-18_AM_head..txt  \n",
            "  inflating: train/labels/26-11-2021_07-29-18_AM_human..txt  \n",
            "  inflating: train/labels/26-11-2021_07-29-21_AM_car..txt  \n",
            "  inflating: train/labels/26-11-2021_07-29-21_AM_head..txt  \n",
            "  inflating: train/labels/26-11-2021_07-29-21_AM_human..txt  \n",
            "  inflating: train/labels/26-11-2021_07-29-24_AM_car..txt  \n",
            "  inflating: train/labels/26-11-2021_07-29-24_AM_head..txt  \n",
            "  inflating: train/labels/26-11-2021_07-29-24_AM_human..txt  \n",
            "  inflating: train/labels/26-11-2021_07-30-36_AM_car..txt  \n",
            "  inflating: train/labels/26-11-2021_07-30-36_AM_head..txt  \n",
            "  inflating: train/labels/26-11-2021_07-30-36_AM_human..txt  \n",
            "  inflating: train/labels/26-11-2021_07-45-44_AM_car..txt  \n",
            "  inflating: train/labels/26-11-2021_07-45-44_AM_head..txt  \n",
            "  inflating: train/labels/26-11-2021_07-45-44_AM_human..txt  \n",
            "  inflating: train/labels/26-11-2021_07-45-52_AM_car..txt  \n",
            "  inflating: train/labels/26-11-2021_07-45-52_AM_face..txt  \n",
            "  inflating: train/labels/26-11-2021_07-45-52_AM_head..txt  \n",
            "  inflating: train/labels/26-11-2021_07-45-52_AM_human..txt  \n",
            "  inflating: train/labels/26-11-2021_07-45-55_AM_car..txt  \n",
            "  inflating: train/labels/26-11-2021_07-45-55_AM_face..txt  \n",
            "  inflating: train/labels/26-11-2021_07-45-55_AM_head..txt  \n",
            "  inflating: train/labels/26-11-2021_07-45-55_AM_human..txt  \n",
            "  inflating: train/labels/26-11-2021_07-46-14_AM_car..txt  \n",
            "  inflating: train/labels/26-11-2021_07-46-14_AM_face..txt  \n",
            "  inflating: train/labels/26-11-2021_07-46-14_AM_head..txt  \n",
            "  inflating: train/labels/26-11-2021_07-46-14_AM_human..txt  \n",
            "  inflating: train/labels/26-11-2021_07-46-25_AM_car..txt  \n",
            "  inflating: train/labels/26-11-2021_07-46-25_AM_face..txt  \n",
            "  inflating: train/labels/26-11-2021_07-46-25_AM_head..txt  \n",
            "  inflating: train/labels/26-11-2021_07-46-25_AM_human..txt  \n",
            "  inflating: train/labels/26-11-2021_07-46-27_AM_car..txt  \n",
            "  inflating: train/labels/26-11-2021_07-46-27_AM_face..txt  \n",
            "  inflating: train/labels/26-11-2021_07-46-27_AM_head..txt  \n",
            "  inflating: train/labels/26-11-2021_07-46-27_AM_human..txt  \n",
            "  inflating: train/labels/26-11-2021_07-46-29_AM_car..txt  \n",
            "  inflating: train/labels/26-11-2021_07-46-29_AM_head..txt  \n",
            "  inflating: train/labels/26-11-2021_07-46-29_AM_human..txt  \n",
            "  inflating: train/labels/26-11-2021_07-46-41_AM_car..txt  \n",
            "  inflating: train/labels/26-11-2021_07-46-41_AM_face..txt  \n",
            "  inflating: train/labels/26-11-2021_07-46-41_AM_head..txt  \n",
            "  inflating: train/labels/26-11-2021_07-46-41_AM_human..txt  \n",
            "  inflating: train/labels/26-11-2021_07-46-49_AM_car..txt  \n",
            "  inflating: train/labels/26-11-2021_07-46-49_AM_head..txt  \n",
            "  inflating: train/labels/26-11-2021_07-46-49_AM_human..txt  \n",
            "  inflating: train/labels/26-11-2021_07-47-01_AM_car..txt  \n",
            "  inflating: train/labels/26-11-2021_07-47-01_AM_face..txt  \n",
            "  inflating: train/labels/26-11-2021_07-47-01_AM_head..txt  \n",
            "  inflating: train/labels/26-11-2021_07-47-01_AM_human..txt  \n",
            "  inflating: train/labels/26-11-2021_07-47-42_AM_car..txt  \n",
            "  inflating: train/labels/26-11-2021_07-47-42_AM_head..txt  \n",
            "  inflating: train/labels/26-11-2021_07-47-42_AM_human..txt  \n",
            "  inflating: train/labels/26-11-2021_07-47-46_AM_car..txt  \n",
            "  inflating: train/labels/26-11-2021_07-47-46_AM_head..txt  \n",
            "  inflating: train/labels/26-11-2021_07-47-46_AM_human..txt  \n",
            "  inflating: train/labels/26-11-2021_07-47-47_AM_car..txt  \n",
            "  inflating: train/labels/26-11-2021_07-47-47_AM_face..txt  \n",
            "  inflating: train/labels/26-11-2021_07-47-47_AM_head..txt  \n",
            "  inflating: train/labels/26-11-2021_07-47-47_AM_human..txt  \n",
            "  inflating: train/labels/26-11-2021_07-48-25_AM_car..txt  \n",
            "  inflating: train/labels/26-11-2021_07-48-25_AM_face..txt  \n",
            "  inflating: train/labels/26-11-2021_07-48-25_AM_head..txt  \n",
            "  inflating: train/labels/26-11-2021_07-48-25_AM_human..txt  \n",
            "  inflating: train/labels/26-11-2021_07-48-28_AM_car..txt  \n",
            "  inflating: train/labels/26-11-2021_07-48-28_AM_face..txt  \n",
            "  inflating: train/labels/26-11-2021_07-48-28_AM_head..txt  \n",
            "  inflating: train/labels/26-11-2021_07-48-28_AM_human..txt  \n",
            "  inflating: train/labels/26-11-2021_08-03-51_AM_car..txt  \n",
            "  inflating: train/labels/26-11-2021_08-03-51_AM_face..txt  \n",
            "  inflating: train/labels/26-11-2021_08-03-51_AM_head..txt  \n",
            "  inflating: train/labels/26-11-2021_08-03-51_AM_human..txt  \n",
            "  inflating: train/labels/26-11-2021_08-03-54_AM_car..txt  \n",
            "  inflating: train/labels/26-11-2021_08-03-54_AM_head..txt  \n",
            "  inflating: train/labels/26-11-2021_08-03-54_AM_human..txt  \n",
            "  inflating: train/labels/26-11-2021_08-04-17_AM_car..txt  \n",
            "  inflating: train/labels/26-11-2021_08-04-17_AM_head..txt  \n",
            "  inflating: train/labels/26-11-2021_08-04-17_AM_human..txt  \n",
            "  inflating: train/labels/26-11-2021_08-04-32_AM_car..txt  \n",
            "  inflating: train/labels/26-11-2021_08-04-32_AM_head..txt  \n",
            "  inflating: train/labels/26-11-2021_08-04-32_AM_human..txt  \n",
            "  inflating: train/labels/26-11-2021_08-04-53_AM_car..txt  \n",
            "  inflating: train/labels/26-11-2021_08-04-53_AM_head..txt  \n",
            "  inflating: train/labels/26-11-2021_08-04-53_AM_human..txt  \n",
            "  inflating: train/labels/26-11-2021_08-05-25_AM_car..txt  \n",
            "  inflating: train/labels/26-11-2021_08-05-25_AM_face..txt  \n",
            "  inflating: train/labels/26-11-2021_08-05-25_AM_head..txt  \n",
            "  inflating: train/labels/26-11-2021_08-05-25_AM_human..txt  \n",
            "  inflating: train/labels/26-11-2021_08-05-44_AM_car..txt  \n",
            "  inflating: train/labels/26-11-2021_08-05-44_AM_face..txt  \n",
            "  inflating: train/labels/26-11-2021_08-05-44_AM_head..txt  \n",
            "  inflating: train/labels/26-11-2021_08-05-44_AM_human..txt  \n",
            "  inflating: train/labels/26-11-2021_08-05-48_AM_car..txt  \n",
            "  inflating: train/labels/26-11-2021_08-05-48_AM_head..txt  \n",
            "  inflating: train/labels/26-11-2021_08-05-48_AM_human..txt  \n",
            "  inflating: train/labels/26-11-2021_08-05-55_AM_face..txt  \n",
            "  inflating: train/labels/26-11-2021_08-05-55_AM_head..txt  \n",
            "  inflating: train/labels/26-11-2021_08-05-55_AM_human..txt  \n",
            "  inflating: train/labels/26-11-2021_08-06-19_AM_car..txt  \n",
            "  inflating: train/labels/26-11-2021_08-06-19_AM_head..txt  \n",
            "  inflating: train/labels/26-11-2021_08-06-19_AM_human..txt  \n",
            "  inflating: train/labels/26-11-2021_08-21-34_AM_car..txt  \n",
            "  inflating: train/labels/26-11-2021_08-21-34_AM_head..txt  \n",
            "  inflating: train/labels/26-11-2021_08-21-34_AM_human..txt  \n",
            "  inflating: train/labels/26-11-2021_08-21-36_AM_car..txt  \n",
            "  inflating: train/labels/26-11-2021_08-21-36_AM_head..txt  \n",
            "  inflating: train/labels/26-11-2021_08-21-36_AM_human..txt  \n",
            "  inflating: train/labels/26-11-2021_08-21-40_AM_car..txt  \n",
            "  inflating: train/labels/26-11-2021_08-21-40_AM_head..txt  \n",
            "  inflating: train/labels/26-11-2021_08-21-40_AM_human..txt  \n",
            "  inflating: train/labels/26-11-2021_08-21-52_AM_car..txt  \n",
            "  inflating: train/labels/26-11-2021_08-21-52_AM_head..txt  \n",
            "  inflating: train/labels/26-11-2021_08-21-52_AM_human..txt  \n",
            "  inflating: train/labels/26-11-2021_08-21-55_AM_car..txt  \n",
            "  inflating: train/labels/26-11-2021_08-21-55_AM_head..txt  \n",
            "  inflating: train/labels/26-11-2021_08-21-55_AM_human..txt  \n",
            "  inflating: train/labels/26-11-2021_08-22-36_AM_car..txt  \n",
            "  inflating: train/labels/26-11-2021_08-22-36_AM_head..txt  \n",
            "  inflating: train/labels/26-11-2021_08-22-36_AM_human..txt  \n",
            "  inflating: train/labels/26-11-2021_08-23-28_AM_car..txt  \n",
            "  inflating: train/labels/26-11-2021_08-23-28_AM_head..txt  \n",
            "  inflating: train/labels/26-11-2021_08-23-28_AM_human..txt  \n",
            "  inflating: train/labels/26-11-2021_08-23-32_AM_car..txt  \n",
            "  inflating: train/labels/26-11-2021_08-23-32_AM_face..txt  \n",
            "  inflating: train/labels/26-11-2021_08-23-32_AM_head..txt  \n",
            "  inflating: train/labels/26-11-2021_08-23-32_AM_human..txt  \n",
            "  inflating: train/labels/26-11-2021_08-23-44_AM_car..txt  \n",
            "  inflating: train/labels/26-11-2021_08-23-44_AM_face..txt  \n",
            "  inflating: train/labels/26-11-2021_08-23-44_AM_head..txt  \n",
            "  inflating: train/labels/26-11-2021_08-23-44_AM_human..txt  \n",
            "  inflating: train/labels/26-11-2021_08-23-46_AM_head..txt  \n",
            "  inflating: train/labels/26-11-2021_08-23-46_AM_human..txt  \n",
            "  inflating: train/labels/26-11-2021_08-23-58_AM_car..txt  \n",
            "  inflating: train/labels/26-11-2021_08-23-58_AM_face..txt  \n",
            "  inflating: train/labels/26-11-2021_08-23-58_AM_head..txt  \n",
            "  inflating: train/labels/26-11-2021_08-23-58_AM_human..txt  \n",
            "  inflating: train/labels/26-11-2021_08-24-08_AM_car..txt  \n",
            "  inflating: train/labels/26-11-2021_08-24-08_AM_face..txt  \n",
            "  inflating: train/labels/26-11-2021_08-24-08_AM_head..txt  \n",
            "  inflating: train/labels/26-11-2021_08-24-08_AM_human..txt  \n",
            "  inflating: train/labels/26-11-2021_08-39-26_AM_car..txt  \n",
            "  inflating: train/labels/26-11-2021_08-39-26_AM_head..txt  \n",
            "  inflating: train/labels/26-11-2021_08-39-26_AM_human..txt  \n",
            "  inflating: train/labels/26-11-2021_08-39-30_AM_car..txt  \n",
            "  inflating: train/labels/26-11-2021_08-39-30_AM_face..txt  \n",
            "  inflating: train/labels/26-11-2021_08-39-30_AM_head..txt  \n",
            "  inflating: train/labels/26-11-2021_08-39-30_AM_human..txt  \n",
            "  inflating: train/labels/26-11-2021_08-39-32_AM_car..txt  \n",
            "  inflating: train/labels/26-11-2021_08-39-32_AM_face..txt  \n",
            "  inflating: train/labels/26-11-2021_08-39-32_AM_head..txt  \n",
            "  inflating: train/labels/26-11-2021_08-39-32_AM_human..txt  \n",
            "  inflating: train/labels/26-11-2021_08-40-14_AM_car..txt  \n",
            "  inflating: train/labels/26-11-2021_08-40-14_AM_head..txt  \n",
            "  inflating: train/labels/26-11-2021_08-40-14_AM_human..txt  \n",
            "  inflating: train/labels/26-11-2021_08-41-10_AM_car..txt  \n",
            "  inflating: train/labels/26-11-2021_08-41-10_AM_head..txt  \n",
            "  inflating: train/labels/26-11-2021_08-41-10_AM_human..txt  \n",
            "  inflating: train/labels/26-11-2021_08-41-19_AM_car..txt  \n",
            "  inflating: train/labels/26-11-2021_08-41-19_AM_head..txt  \n",
            "  inflating: train/labels/26-11-2021_08-41-19_AM_human..txt  \n",
            "  inflating: train/labels/26-11-2021_08-41-25_AM_car..txt  \n",
            "  inflating: train/labels/26-11-2021_08-41-25_AM_face..txt  \n",
            "  inflating: train/labels/26-11-2021_08-41-25_AM_head..txt  \n",
            "  inflating: train/labels/26-11-2021_08-41-25_AM_human..txt  \n",
            "  inflating: train/labels/26-11-2021_08-41-38_AM_head..txt  \n",
            "  inflating: train/labels/26-11-2021_08-41-38_AM_human..txt  \n",
            "  inflating: train/labels/26-11-2021_08-57-48_AM_car..txt  \n",
            "  inflating: train/labels/26-11-2021_08-57-48_AM_head..txt  \n",
            "  inflating: train/labels/26-11-2021_08-57-48_AM_human..txt  \n",
            "  inflating: train/labels/26-11-2021_08-57-53_AM_car..txt  \n",
            "  inflating: train/labels/26-11-2021_08-57-53_AM_face..txt  \n",
            "  inflating: train/labels/26-11-2021_08-57-53_AM_head..txt  \n",
            "  inflating: train/labels/26-11-2021_08-57-53_AM_human..txt  \n",
            "  inflating: train/labels/26-11-2021_08-57-57_AM_car..txt  \n",
            "  inflating: train/labels/26-11-2021_08-57-57_AM_head..txt  \n",
            "  inflating: train/labels/26-11-2021_08-57-57_AM_human..txt  \n",
            "  inflating: train/labels/26-11-2021_08-58-32_AM_car..txt  \n",
            "  inflating: train/labels/26-11-2021_08-58-32_AM_face..txt  \n",
            "  inflating: train/labels/26-11-2021_08-58-32_AM_head..txt  \n",
            "  inflating: train/labels/26-11-2021_08-58-32_AM_human..txt  \n",
            "  inflating: train/labels/26-11-2021_08-58-40_AM_car..txt  \n",
            "  inflating: train/labels/26-11-2021_08-58-40_AM_head..txt  \n",
            "  inflating: train/labels/26-11-2021_08-58-40_AM_human..txt  \n",
            "  inflating: train/labels/26-11-2021_08-58-44_AM_car..txt  \n",
            "  inflating: train/labels/26-11-2021_08-58-44_AM_face..txt  \n",
            "  inflating: train/labels/26-11-2021_08-58-44_AM_head..txt  \n",
            "  inflating: train/labels/26-11-2021_08-58-44_AM_human..txt  \n",
            "  inflating: train/labels/26-11-2021_08-59-20_AM_car..txt  \n",
            "  inflating: train/labels/26-11-2021_08-59-20_AM_face..txt  \n",
            "  inflating: train/labels/26-11-2021_08-59-20_AM_head..txt  \n",
            "  inflating: train/labels/26-11-2021_08-59-20_AM_human..txt  \n",
            "  inflating: train/labels/26-11-2021_08-59-22_AM_car..txt  \n",
            "  inflating: train/labels/26-11-2021_08-59-22_AM_head..txt  \n",
            "  inflating: train/labels/26-11-2021_08-59-22_AM_human..txt  \n",
            "  inflating: train/labels/26-11-2021_08-59-32_AM_head..txt  \n",
            "  inflating: train/labels/26-11-2021_08-59-32_AM_human..txt  \n",
            "  inflating: train/labels/26-11-2021_08-59-55_AM_car..txt  \n",
            "  inflating: train/labels/26-11-2021_08-59-55_AM_face..txt  \n",
            "  inflating: train/labels/26-11-2021_08-59-55_AM_head..txt  \n",
            "  inflating: train/labels/26-11-2021_08-59-55_AM_human..txt  \n",
            "  inflating: train/labels/26-11-2021_09-15-06_AM_car..txt  \n",
            "  inflating: train/labels/26-11-2021_09-15-06_AM_head..txt  \n",
            "  inflating: train/labels/26-11-2021_09-15-06_AM_human..txt  \n",
            "  inflating: train/labels/26-11-2021_09-15-09_AM_car..txt  \n",
            "  inflating: train/labels/26-11-2021_09-15-09_AM_head..txt  \n",
            "  inflating: train/labels/26-11-2021_09-15-09_AM_human..txt  \n",
            "  inflating: train/labels/26-11-2021_09-15-15_AM_car..txt  \n",
            "  inflating: train/labels/26-11-2021_09-15-15_AM_face..txt  \n",
            "  inflating: train/labels/26-11-2021_09-15-15_AM_head..txt  \n",
            "  inflating: train/labels/26-11-2021_09-15-15_AM_human..txt  \n",
            "  inflating: train/labels/26-11-2021_09-15-18_AM_car..txt  \n",
            "  inflating: train/labels/26-11-2021_09-15-18_AM_head..txt  \n",
            "  inflating: train/labels/26-11-2021_09-15-18_AM_human..txt  \n",
            "  inflating: train/labels/26-11-2021_09-15-20_AM_car..txt  \n",
            "  inflating: train/labels/26-11-2021_09-15-20_AM_face..txt  \n",
            "  inflating: train/labels/26-11-2021_09-15-20_AM_head..txt  \n",
            "  inflating: train/labels/26-11-2021_09-15-20_AM_human..txt  \n",
            "  inflating: train/labels/26-11-2021_09-15-24_AM_car..txt  \n",
            "  inflating: train/labels/26-11-2021_09-15-24_AM_head..txt  \n",
            "  inflating: train/labels/26-11-2021_09-15-24_AM_human..txt  \n",
            "  inflating: train/labels/26-11-2021_09-15-41_AM_car..txt  \n",
            "  inflating: train/labels/26-11-2021_09-15-41_AM_head..txt  \n",
            "  inflating: train/labels/26-11-2021_09-15-41_AM_human..txt  \n",
            "  inflating: train/labels/26-11-2021_09-15-56_AM_car..txt  \n",
            "  inflating: train/labels/26-11-2021_09-15-56_AM_head..txt  \n",
            "  inflating: train/labels/26-11-2021_09-15-56_AM_human..txt  \n",
            "  inflating: train/labels/26-11-2021_09-16-05_AM_car..txt  \n",
            "  inflating: train/labels/26-11-2021_09-16-05_AM_head..txt  \n",
            "  inflating: train/labels/26-11-2021_09-16-05_AM_human..txt  \n",
            "  inflating: train/labels/26-11-2021_09-16-10_AM_car..txt  \n",
            "  inflating: train/labels/26-11-2021_09-16-10_AM_face..txt  \n",
            "  inflating: train/labels/26-11-2021_09-16-10_AM_head..txt  \n",
            "  inflating: train/labels/26-11-2021_09-16-10_AM_human..txt  \n",
            "  inflating: train/labels/26-11-2021_09-16-24_AM_car..txt  \n",
            "  inflating: train/labels/26-11-2021_09-16-24_AM_face..txt  \n",
            "  inflating: train/labels/26-11-2021_09-16-24_AM_head..txt  \n",
            "  inflating: train/labels/26-11-2021_09-16-24_AM_human..txt  \n",
            "  inflating: train/labels/26-11-2021_09-16-27_AM_car..txt  \n",
            "  inflating: train/labels/26-11-2021_09-16-27_AM_head..txt  \n",
            "  inflating: train/labels/26-11-2021_09-16-27_AM_human..txt  \n",
            "  inflating: train/labels/26-11-2021_09-16-45_AM_car..txt  \n",
            "  inflating: train/labels/26-11-2021_09-16-45_AM_head..txt  \n",
            "  inflating: train/labels/26-11-2021_09-16-45_AM_human..txt  \n",
            "  inflating: train/labels/26-11-2021_09-17-04_AM_car..txt  \n",
            "  inflating: train/labels/26-11-2021_09-17-07_AM_car..txt  \n",
            "  inflating: train/labels/26-11-2021_09-17-07_AM_head..txt  \n",
            "  inflating: train/labels/26-11-2021_09-17-07_AM_human..txt  \n",
            "  inflating: train/labels/26-11-2021_09-17-28_AM_car..txt  \n",
            "  inflating: train/labels/26-11-2021_09-17-28_AM_head..txt  \n",
            "  inflating: train/labels/26-11-2021_09-17-28_AM_human..txt  \n",
            "  inflating: train/labels/26-11-2021_09-17-43_AM_car..txt  \n",
            "  inflating: train/labels/26-11-2021_09-17-43_AM_head..txt  \n",
            "  inflating: train/labels/26-11-2021_09-17-43_AM_human..txt  \n",
            "  inflating: train/labels/26-11-2021_09-17-52_AM_car..txt  \n",
            "  inflating: train/labels/26-11-2021_09-17-52_AM_head..txt  \n",
            "  inflating: train/labels/26-11-2021_09-17-52_AM_human..txt  \n",
            "  inflating: train/labels/26-11-2021_09-33-01_AM_car..txt  \n",
            "  inflating: train/labels/26-11-2021_09-33-01_AM_head..txt  \n",
            "  inflating: train/labels/26-11-2021_09-33-01_AM_human..txt  \n",
            "  inflating: train/labels/26-11-2021_09-33-05_AM_car..txt  \n",
            "  inflating: train/labels/26-11-2021_09-33-05_AM_head..txt  \n",
            "  inflating: train/labels/26-11-2021_09-33-05_AM_human..txt  \n",
            "  inflating: train/labels/26-11-2021_09-33-18_AM_car..txt  \n",
            "  inflating: train/labels/26-11-2021_09-33-18_AM_face..txt  \n",
            "  inflating: train/labels/26-11-2021_09-33-18_AM_head..txt  \n",
            "  inflating: train/labels/26-11-2021_09-33-18_AM_human..txt  \n",
            "  inflating: train/labels/26-11-2021_09-33-20_AM_car..txt  \n",
            "  inflating: train/labels/26-11-2021_09-33-20_AM_face..txt  \n",
            "  inflating: train/labels/26-11-2021_09-33-20_AM_head..txt  \n",
            "  inflating: train/labels/26-11-2021_09-33-20_AM_human..txt  \n",
            "  inflating: train/labels/26-11-2021_09-33-24_AM_car..txt  \n",
            "  inflating: train/labels/26-11-2021_09-33-24_AM_face..txt  \n",
            "  inflating: train/labels/26-11-2021_09-33-24_AM_head..txt  \n",
            "  inflating: train/labels/26-11-2021_09-33-24_AM_human..txt  \n",
            "  inflating: train/labels/26-11-2021_09-33-27_AM_car..txt  \n",
            "  inflating: train/labels/26-11-2021_09-33-27_AM_head..txt  \n",
            "  inflating: train/labels/26-11-2021_09-33-27_AM_human..txt  \n",
            "  inflating: train/labels/26-11-2021_09-33-35_AM_car..txt  \n",
            "  inflating: train/labels/26-11-2021_09-33-35_AM_head..txt  \n",
            "  inflating: train/labels/26-11-2021_09-33-35_AM_human..txt  \n",
            "  inflating: train/labels/26-11-2021_09-33-39_AM_car..txt  \n",
            "  inflating: train/labels/26-11-2021_09-33-39_AM_head..txt  \n",
            "  inflating: train/labels/26-11-2021_09-33-39_AM_human..txt  \n",
            "  inflating: train/labels/26-11-2021_09-33-42_AM_car..txt  \n",
            "  inflating: train/labels/26-11-2021_09-33-42_AM_head..txt  \n",
            "  inflating: train/labels/26-11-2021_09-33-42_AM_human..txt  \n",
            "  inflating: train/labels/26-11-2021_09-33-48_AM_car..txt  \n",
            "  inflating: train/labels/26-11-2021_09-33-48_AM_face..txt  \n",
            "  inflating: train/labels/26-11-2021_09-33-48_AM_head..txt  \n",
            "  inflating: train/labels/26-11-2021_09-33-48_AM_human..txt  \n",
            "  inflating: train/labels/26-11-2021_09-33-53_AM_car..txt  \n",
            "  inflating: train/labels/26-11-2021_09-33-53_AM_head..txt  \n",
            "  inflating: train/labels/26-11-2021_09-33-53_AM_human..txt  \n",
            "  inflating: train/labels/26-11-2021_09-34-31_AM_face..txt  \n",
            "  inflating: train/labels/26-11-2021_09-34-31_AM_head..txt  \n",
            "  inflating: train/labels/26-11-2021_09-34-31_AM_human..txt  \n",
            "  inflating: train/labels/26-11-2021_09-35-02_AM_car..txt  \n",
            "  inflating: train/labels/26-11-2021_09-35-02_AM_head..txt  \n",
            "  inflating: train/labels/26-11-2021_09-35-02_AM_human..txt  \n",
            "  inflating: train/labels/26-11-2021_09-35-05_AM_car..txt  \n",
            "  inflating: train/labels/26-11-2021_09-35-05_AM_face..txt  \n",
            "  inflating: train/labels/26-11-2021_09-35-05_AM_head..txt  \n",
            "  inflating: train/labels/26-11-2021_09-35-05_AM_human..txt  \n",
            "  inflating: train/labels/26-11-2021_09-35-08_AM_car..txt  \n",
            "  inflating: train/labels/26-11-2021_09-35-08_AM_head..txt  \n",
            "  inflating: train/labels/26-11-2021_09-35-08_AM_human..txt  \n",
            "  inflating: train/labels/26-11-2021_09-35-18_AM_car..txt  \n",
            "  inflating: train/labels/26-11-2021_09-35-18_AM_head..txt  \n",
            "  inflating: train/labels/26-11-2021_09-35-18_AM_human..txt  \n",
            "  inflating: train/labels/26-11-2021_09-35-43_AM_car..txt  \n",
            "  inflating: train/labels/26-11-2021_09-35-43_AM_head..txt  \n",
            "  inflating: train/labels/26-11-2021_09-35-43_AM_human..txt  \n",
            "  inflating: train/labels/26-11-2021_09-35-46_AM_car..txt  \n",
            "  inflating: train/labels/26-11-2021_09-35-46_AM_head..txt  \n",
            "  inflating: train/labels/26-11-2021_09-35-46_AM_human..txt  \n",
            "  inflating: train/labels/26-11-2021_09-35-48_AM_car..txt  \n",
            "  inflating: train/labels/26-11-2021_09-35-48_AM_head..txt  \n",
            "  inflating: train/labels/26-11-2021_09-35-48_AM_human..txt  \n",
            "  inflating: train/labels/26-11-2021_09-50-59_AM_car..txt  \n",
            "  inflating: train/labels/26-11-2021_09-50-59_AM_head..txt  \n",
            "  inflating: train/labels/26-11-2021_09-50-59_AM_human..txt  \n",
            "  inflating: train/labels/26-11-2021_09-51-06_AM_car..txt  \n",
            "  inflating: train/labels/26-11-2021_09-51-06_AM_face..txt  \n",
            "  inflating: train/labels/26-11-2021_09-51-06_AM_head..txt  \n",
            "  inflating: train/labels/26-11-2021_09-51-06_AM_human..txt  \n",
            "  inflating: train/labels/26-11-2021_09-51-30_AM_car..txt  \n",
            "  inflating: train/labels/26-11-2021_09-51-30_AM_head..txt  \n",
            "  inflating: train/labels/26-11-2021_09-51-30_AM_human..txt  \n",
            "  inflating: train/labels/26-11-2021_09-51-33_AM_car..txt  \n",
            "  inflating: train/labels/26-11-2021_09-51-33_AM_head..txt  \n",
            "  inflating: train/labels/26-11-2021_09-51-33_AM_human..txt  \n",
            "  inflating: train/labels/26-11-2021_09-51-48_AM_car..txt  \n",
            "  inflating: train/labels/26-11-2021_09-51-48_AM_head..txt  \n",
            "  inflating: train/labels/26-11-2021_09-51-48_AM_human..txt  \n",
            "  inflating: train/labels/26-11-2021_09-51-55_AM_car..txt  \n",
            "  inflating: train/labels/26-11-2021_09-51-55_AM_head..txt  \n",
            "  inflating: train/labels/26-11-2021_09-51-55_AM_human..txt  \n",
            "  inflating: train/labels/26-11-2021_09-53-07_AM_head..txt  \n",
            "  inflating: train/labels/26-11-2021_09-53-07_AM_human..txt  \n",
            "  inflating: train/labels/26-11-2021_09-53-10_AM_car..txt  \n",
            "  inflating: train/labels/26-11-2021_09-53-10_AM_face..txt  \n",
            "  inflating: train/labels/26-11-2021_09-53-10_AM_head..txt  \n",
            "  inflating: train/labels/26-11-2021_09-53-10_AM_human..txt  \n",
            "  inflating: train/labels/26-11-2021_09-53-15_AM_car..txt  \n",
            "  inflating: train/labels/26-11-2021_09-53-15_AM_head..txt  \n",
            "  inflating: train/labels/26-11-2021_09-53-15_AM_human..txt  \n",
            "  inflating: train/labels/26-11-2021_09-53-34_AM_car..txt  \n",
            "  inflating: train/labels/26-11-2021_09-53-34_AM_face..txt  \n",
            "  inflating: train/labels/26-11-2021_09-53-34_AM_head..txt  \n",
            "  inflating: train/labels/26-11-2021_09-53-34_AM_human..txt  \n",
            "  inflating: train/labels/26-11-2021_09-53-45_AM_car..txt  \n",
            "  inflating: train/labels/26-11-2021_09-53-45_AM_head..txt  \n",
            "  inflating: train/labels/26-11-2021_09-53-45_AM_human..txt  \n",
            "  inflating: train/labels/26-11-2021_09-53-49_AM_car..txt  \n",
            "  inflating: train/labels/26-11-2021_09-53-49_AM_head..txt  \n",
            "  inflating: train/labels/26-11-2021_09-53-49_AM_human..txt  \n",
            "  inflating: train/labels/26-11-2021_09-53-54_AM_car..txt  \n",
            "  inflating: train/labels/26-11-2021_09-53-54_AM_face..txt  \n",
            "  inflating: train/labels/26-11-2021_09-53-54_AM_head..txt  \n",
            "  inflating: train/labels/26-11-2021_09-53-54_AM_human..txt  \n",
            "  inflating: train/labels/26-11-2021_10-09-29_AM_car..txt  \n",
            "  inflating: train/labels/26-11-2021_10-09-29_AM_face..txt  \n",
            "  inflating: train/labels/26-11-2021_10-09-29_AM_head..txt  \n",
            "  inflating: train/labels/26-11-2021_10-09-29_AM_human..txt  \n",
            "  inflating: train/labels/26-11-2021_10-09-39_AM_car..txt  \n",
            "  inflating: train/labels/26-11-2021_10-09-39_AM_face..txt  \n",
            "  inflating: train/labels/26-11-2021_10-09-39_AM_head..txt  \n",
            "  inflating: train/labels/26-11-2021_10-09-39_AM_human..txt  \n",
            "  inflating: train/labels/26-11-2021_10-09-49_AM_car..txt  \n",
            "  inflating: train/labels/26-11-2021_10-09-49_AM_face..txt  \n",
            "  inflating: train/labels/26-11-2021_10-09-49_AM_head..txt  \n",
            "  inflating: train/labels/26-11-2021_10-09-49_AM_human..txt  \n",
            "  inflating: train/labels/26-11-2021_10-09-56_AM_car..txt  \n",
            "  inflating: train/labels/26-11-2021_10-09-56_AM_face..txt  \n",
            "  inflating: train/labels/26-11-2021_10-09-56_AM_head..txt  \n",
            "  inflating: train/labels/26-11-2021_10-09-56_AM_human..txt  \n",
            "  inflating: train/labels/26-11-2021_10-10-04_AM_car..txt  \n",
            "  inflating: train/labels/26-11-2021_10-10-04_AM_face..txt  \n",
            "  inflating: train/labels/26-11-2021_10-10-04_AM_head..txt  \n",
            "  inflating: train/labels/26-11-2021_10-10-04_AM_human..txt  \n",
            "  inflating: train/labels/26-11-2021_10-10-11_AM_car..txt  \n",
            "  inflating: train/labels/26-11-2021_10-10-11_AM_head..txt  \n",
            "  inflating: train/labels/26-11-2021_10-10-11_AM_human..txt  \n",
            "  inflating: train/labels/26-11-2021_10-10-33_AM_car..txt  \n",
            "  inflating: train/labels/26-11-2021_10-10-33_AM_face..txt  \n",
            "  inflating: train/labels/26-11-2021_10-10-33_AM_head..txt  \n",
            "  inflating: train/labels/26-11-2021_10-10-33_AM_human..txt  \n",
            "  inflating: train/labels/26-11-2021_10-10-53_AM_car..txt  \n",
            "  inflating: train/labels/26-11-2021_10-10-53_AM_face..txt  \n",
            "  inflating: train/labels/26-11-2021_10-10-53_AM_head..txt  \n",
            "  inflating: train/labels/26-11-2021_10-10-53_AM_human..txt  \n",
            "  inflating: train/labels/26-11-2021_10-10-56_AM_car..txt  \n",
            "  inflating: train/labels/26-11-2021_10-10-56_AM_face..txt  \n",
            "  inflating: train/labels/26-11-2021_10-10-56_AM_head..txt  \n",
            "  inflating: train/labels/26-11-2021_10-10-56_AM_human..txt  \n",
            "  inflating: train/labels/26-11-2021_10-11-14_AM_car..txt  \n",
            "  inflating: train/labels/26-11-2021_10-11-14_AM_face..txt  \n",
            "  inflating: train/labels/26-11-2021_10-11-14_AM_head..txt  \n",
            "  inflating: train/labels/26-11-2021_10-11-14_AM_human..txt  \n",
            "  inflating: train/labels/26-11-2021_10-11-48_AM_car..txt  \n",
            "  inflating: train/labels/26-11-2021_10-11-48_AM_head..txt  \n",
            "  inflating: train/labels/26-11-2021_10-11-48_AM_human..txt  \n",
            "  inflating: train/labels/26-11-2021_10-11-54_AM_car..txt  \n",
            "  inflating: train/labels/26-11-2021_10-11-54_AM_face..txt  \n",
            "  inflating: train/labels/26-11-2021_10-11-54_AM_head..txt  \n",
            "  inflating: train/labels/26-11-2021_10-11-54_AM_human..txt  \n",
            "  inflating: train/labels/26-11-2021_10-11-58_AM_car..txt  \n",
            "  inflating: train/labels/26-11-2021_10-11-58_AM_head..txt  \n",
            "  inflating: train/labels/26-11-2021_10-11-58_AM_human..txt  \n",
            "  inflating: train/labels/26-11-2021_10-27-10_AM_car..txt  \n",
            "  inflating: train/labels/26-11-2021_10-27-10_AM_face..txt  \n",
            "  inflating: train/labels/26-11-2021_10-27-10_AM_head..txt  \n",
            "  inflating: train/labels/26-11-2021_10-27-10_AM_human..txt  \n",
            "  inflating: train/labels/26-11-2021_10-27-49_AM_car..txt  \n",
            "  inflating: train/labels/26-11-2021_10-27-49_AM_face..txt  \n",
            "  inflating: train/labels/26-11-2021_10-27-49_AM_head..txt  \n",
            "  inflating: train/labels/26-11-2021_10-27-49_AM_human..txt  \n",
            "  inflating: train/labels/26-11-2021_10-28-12_AM_car..txt  \n",
            "  inflating: train/labels/26-11-2021_10-28-12_AM_head..txt  \n",
            "  inflating: train/labels/26-11-2021_10-28-12_AM_human..txt  \n",
            "  inflating: train/labels/26-11-2021_10-28-55_AM_car..txt  \n",
            "  inflating: train/labels/26-11-2021_10-28-55_AM_face..txt  \n",
            "  inflating: train/labels/26-11-2021_10-28-55_AM_head..txt  \n",
            "  inflating: train/labels/26-11-2021_10-28-55_AM_human..txt  \n",
            "  inflating: train/labels/26-11-2021_10-28-59_AM_car..txt  \n",
            "  inflating: train/labels/26-11-2021_10-28-59_AM_head..txt  \n",
            "  inflating: train/labels/26-11-2021_10-28-59_AM_human..txt  \n",
            "  inflating: train/labels/26-11-2021_10-29-13_AM_car..txt  \n",
            "  inflating: train/labels/26-11-2021_10-29-13_AM_face..txt  \n",
            "  inflating: train/labels/26-11-2021_10-29-13_AM_head..txt  \n",
            "  inflating: train/labels/26-11-2021_10-29-13_AM_human..txt  \n",
            "  inflating: train/labels/26-11-2021_10-29-16_AM_car..txt  \n",
            "  inflating: train/labels/26-11-2021_10-29-16_AM_face..txt  \n",
            "  inflating: train/labels/26-11-2021_10-29-16_AM_head..txt  \n",
            "  inflating: train/labels/26-11-2021_10-29-16_AM_human..txt  \n",
            "  inflating: train/labels/26-11-2021_10-29-34_AM_car..txt  \n",
            "  inflating: train/labels/26-11-2021_10-29-34_AM_head..txt  \n",
            "  inflating: train/labels/26-11-2021_10-29-34_AM_human..txt  \n",
            "  inflating: train/labels/26-11-2021_10-29-40_AM_car..txt  \n",
            "  inflating: train/labels/26-11-2021_10-29-40_AM_face..txt  \n",
            "  inflating: train/labels/26-11-2021_10-29-40_AM_head..txt  \n",
            "  inflating: train/labels/26-11-2021_10-29-40_AM_human..txt  \n",
            "  inflating: train/labels/26-11-2021_10-29-50_AM_car..txt  \n",
            "  inflating: train/labels/26-11-2021_10-29-50_AM_head..txt  \n",
            "  inflating: train/labels/26-11-2021_10-29-50_AM_human..txt  \n",
            "  inflating: train/labels/26-11-2021_10-29-53_AM_car..txt  \n",
            "  inflating: train/labels/26-11-2021_10-29-53_AM_head..txt  \n",
            "  inflating: train/labels/26-11-2021_10-29-53_AM_human..txt  \n",
            "  inflating: train/labels/26-11-2021_10-29-56_AM_car..txt  \n",
            "  inflating: train/labels/26-11-2021_10-29-56_AM_face..txt  \n",
            "  inflating: train/labels/26-11-2021_10-29-56_AM_head..txt  \n",
            "  inflating: train/labels/26-11-2021_10-29-56_AM_human..txt  \n",
            "  inflating: train/labels/26-11-2021_10-29-58_AM_car..txt  \n",
            "  inflating: train/labels/26-11-2021_10-29-58_AM_face..txt  \n",
            "  inflating: train/labels/26-11-2021_10-29-58_AM_head..txt  \n",
            "  inflating: train/labels/26-11-2021_10-29-58_AM_human..txt  \n",
            "  inflating: train/labels/26-11-2021_10-45-11_AM_car..txt  \n",
            "  inflating: train/labels/26-11-2021_10-45-11_AM_head..txt  \n",
            "  inflating: train/labels/26-11-2021_10-45-11_AM_human..txt  \n",
            "  inflating: train/labels/26-11-2021_10-45-28_AM_face..txt  \n",
            "  inflating: train/labels/26-11-2021_10-45-28_AM_head..txt  \n",
            "  inflating: train/labels/26-11-2021_10-45-28_AM_human..txt  \n",
            "  inflating: train/labels/26-11-2021_10-45-32_AM_car..txt  \n",
            "  inflating: train/labels/26-11-2021_10-45-35_AM_car..txt  \n",
            "  inflating: train/labels/26-11-2021_10-45-35_AM_head..txt  \n",
            "  inflating: train/labels/26-11-2021_10-45-35_AM_human..txt  \n",
            "  inflating: train/labels/26-11-2021_10-45-49_AM_car..txt  \n",
            "  inflating: train/labels/26-11-2021_10-45-49_AM_head..txt  \n",
            "  inflating: train/labels/26-11-2021_10-45-49_AM_human..txt  \n",
            "  inflating: train/labels/26-11-2021_10-45-53_AM_car..txt  \n",
            "  inflating: train/labels/26-11-2021_10-45-53_AM_face..txt  \n",
            "  inflating: train/labels/26-11-2021_10-45-53_AM_head..txt  \n",
            "  inflating: train/labels/26-11-2021_10-45-53_AM_human..txt  \n",
            "  inflating: train/labels/26-11-2021_10-46-22_AM_car..txt  \n",
            "  inflating: train/labels/26-11-2021_10-46-22_AM_face..txt  \n",
            "  inflating: train/labels/26-11-2021_10-46-22_AM_head..txt  \n",
            "  inflating: train/labels/26-11-2021_10-46-22_AM_human..txt  \n",
            "  inflating: train/labels/26-11-2021_10-46-43_AM_car..txt  \n",
            "  inflating: train/labels/26-11-2021_10-46-43_AM_head..txt  \n",
            "  inflating: train/labels/26-11-2021_10-46-43_AM_human..txt  \n",
            "  inflating: train/labels/26-11-2021_10-46-49_AM_car..txt  \n",
            "  inflating: train/labels/26-11-2021_10-46-49_AM_face..txt  \n",
            "  inflating: train/labels/26-11-2021_10-46-49_AM_head..txt  \n",
            "  inflating: train/labels/26-11-2021_10-46-49_AM_human..txt  \n",
            "  inflating: train/labels/26-11-2021_10-46-54_AM_car..txt  \n",
            "  inflating: train/labels/26-11-2021_10-46-54_AM_head..txt  \n",
            "  inflating: train/labels/26-11-2021_10-46-54_AM_human..txt  \n",
            "  inflating: train/labels/26-11-2021_10-46-59_AM_car..txt  \n",
            "  inflating: train/labels/26-11-2021_10-46-59_AM_head..txt  \n",
            "  inflating: train/labels/26-11-2021_10-46-59_AM_human..txt  \n",
            "  inflating: train/labels/26-11-2021_10-47-47_AM_car..txt  \n",
            "  inflating: train/labels/26-11-2021_10-47-47_AM_head..txt  \n",
            "  inflating: train/labels/26-11-2021_10-47-47_AM_human..txt  \n",
            "  inflating: train/labels/26-11-2021_10-52-08_AM_car..txt  \n",
            "  inflating: train/labels/26-11-2021_10-52-08_AM_head..txt  \n",
            "  inflating: train/labels/26-11-2021_10-52-08_AM_human..txt  \n",
            "  inflating: train/labels/26-11-2021_10-53-24_AM_car..txt  \n",
            "  inflating: train/labels/26-11-2021_10-53-24_AM_head..txt  \n",
            "  inflating: train/labels/26-11-2021_10-53-24_AM_human..txt  \n",
            "  inflating: train/labels/26-11-2021_10-55-22_AM_car..txt  \n",
            "  inflating: train/labels/26-11-2021_10-55-22_AM_face..txt  \n",
            "  inflating: train/labels/26-11-2021_10-55-22_AM_head..txt  \n",
            "  inflating: train/labels/26-11-2021_10-55-22_AM_human..txt  \n",
            "  inflating: train/labels/26-11-2021_10-55-45_AM_car..txt  \n",
            "  inflating: train/labels/26-11-2021_10-55-45_AM_head..txt  \n",
            "  inflating: train/labels/26-11-2021_10-55-45_AM_human..txt  \n",
            "  inflating: train/labels/26-11-2021_11-14-34_AM_car..txt  \n",
            "  inflating: train/labels/26-11-2021_11-14-34_AM_head..txt  \n",
            "  inflating: train/labels/26-11-2021_11-14-34_AM_human..txt  \n",
            "  inflating: train/labels/26-11-2021_11-15-30_AM_car..txt  \n",
            "  inflating: train/labels/26-11-2021_11-15-30_AM_face..txt  \n",
            "  inflating: train/labels/26-11-2021_11-15-30_AM_head..txt  \n",
            "  inflating: train/labels/26-11-2021_11-15-30_AM_human..txt  \n",
            "  inflating: train/labels/26-11-2021_11-17-01_AM_car..txt  \n",
            "  inflating: train/labels/26-11-2021_11-17-01_AM_head..txt  \n",
            "  inflating: train/labels/26-11-2021_11-17-01_AM_human..txt  \n",
            "  inflating: train/labels/26-11-2021_11-17-29_AM_car..txt  \n",
            "  inflating: train/labels/26-11-2021_11-17-29_AM_head..txt  \n",
            "  inflating: train/labels/26-11-2021_11-17-29_AM_human..txt  \n",
            "  inflating: train/labels/26-11-2021_11-17-55_AM_car..txt  \n",
            "  inflating: train/labels/26-11-2021_11-17-55_AM_head..txt  \n",
            "  inflating: train/labels/26-11-2021_11-17-55_AM_human..txt  \n",
            "  inflating: train/labels/26-11-2021_11-19-11_AM_car..txt  \n",
            "  inflating: train/labels/26-11-2021_11-19-11_AM_head..txt  \n",
            "  inflating: train/labels/26-11-2021_11-19-11_AM_human..txt  \n",
            "  inflating: train/labels/26-11-2021_11-20-05_AM_car..txt  \n",
            "  inflating: train/labels/26-11-2021_11-20-05_AM_face..txt  \n",
            "  inflating: train/labels/26-11-2021_11-20-05_AM_head..txt  \n",
            "  inflating: train/labels/26-11-2021_11-20-05_AM_human..txt  \n",
            "  inflating: train/labels/26-11-2021_11-20-45_AM_car..txt  \n",
            "  inflating: train/labels/26-11-2021_11-20-45_AM_head..txt  \n",
            "  inflating: train/labels/26-11-2021_11-20-45_AM_human..txt  \n",
            "  inflating: train/labels/26-11-2021_11-21-15_AM_car..txt  \n",
            "  inflating: train/labels/26-11-2021_11-21-15_AM_head..txt  \n",
            "  inflating: train/labels/26-11-2021_11-21-15_AM_human..txt  \n",
            "  inflating: train/labels/26-11-2021_11-22-28_AM_car..txt  \n",
            "  inflating: train/labels/26-11-2021_11-22-28_AM_head..txt  \n",
            "  inflating: train/labels/26-11-2021_11-22-28_AM_human..txt  \n",
            "  inflating: train/labels/26-11-2021_11-22-59_AM_car..txt  \n",
            "  inflating: train/labels/26-11-2021_11-22-59_AM_head..txt  \n",
            "  inflating: train/labels/26-11-2021_11-22-59_AM_human..txt  \n",
            "  inflating: train/labels/26-11-2021_11-23-45_AM_car..txt  \n",
            "  inflating: train/labels/26-11-2021_11-23-45_AM_head..txt  \n",
            "  inflating: train/labels/26-11-2021_11-23-45_AM_human..txt  \n",
            "  inflating: train/labels/26-11-2021_11-24-58_AM_car..txt  \n",
            "  inflating: train/labels/26-11-2021_11-24-58_AM_head..txt  \n",
            "  inflating: train/labels/26-11-2021_11-24-58_AM_human..txt  \n",
            "  inflating: train/labels/26-11-2021_11-25-14_AM_car..txt  \n",
            "  inflating: train/labels/26-11-2021_11-25-14_AM_face..txt  \n",
            "  inflating: train/labels/26-11-2021_11-25-14_AM_head..txt  \n",
            "  inflating: train/labels/26-11-2021_11-25-14_AM_human..txt  \n",
            "  inflating: train/labels/26-11-2021_11-40-45_AM_car..txt  \n",
            "  inflating: train/labels/26-11-2021_11-40-45_AM_head..txt  \n",
            "  inflating: train/labels/26-11-2021_11-40-45_AM_human..txt  \n",
            "  inflating: train/labels/26-11-2021_11-41-18_AM_car..txt  \n",
            "  inflating: train/labels/26-11-2021_11-41-18_AM_face..txt  \n",
            "  inflating: train/labels/26-11-2021_11-41-18_AM_head..txt  \n",
            "  inflating: train/labels/26-11-2021_11-41-18_AM_human..txt  \n",
            "  inflating: train/labels/26-11-2021_11-42-42_AM_car..txt  \n",
            "  inflating: train/labels/26-11-2021_11-42-42_AM_head..txt  \n",
            "  inflating: train/labels/26-11-2021_11-42-42_AM_human..txt  \n",
            "  inflating: train/labels/26-11-2021_11-43-20_AM_car..txt  \n",
            "  inflating: train/labels/26-11-2021_11-43-20_AM_head..txt  \n",
            "  inflating: train/labels/26-11-2021_11-43-20_AM_human..txt  \n",
            "  inflating: train/labels/26-11-2021_11-45-55_AM_car..txt  \n",
            "  inflating: train/labels/26-11-2021_11-45-55_AM_head..txt  \n",
            "  inflating: train/labels/26-11-2021_11-45-55_AM_human..txt  \n",
            "  inflating: train/labels/26-11-2021_11-46-08_AM_car..txt  \n",
            "  inflating: train/labels/26-11-2021_11-46-08_AM_head..txt  \n",
            "  inflating: train/labels/26-11-2021_11-46-08_AM_human..txt  \n",
            "  inflating: train/labels/26-11-2021_11-46-24_AM_car..txt  \n",
            "  inflating: train/labels/26-11-2021_11-46-24_AM_head..txt  \n",
            "  inflating: train/labels/26-11-2021_11-46-24_AM_human..txt  \n",
            "  inflating: train/labels/26-11-2021_12-02-38_PM_car..txt  \n",
            "  inflating: train/labels/26-11-2021_12-02-38_PM_head..txt  \n",
            "  inflating: train/labels/26-11-2021_12-02-38_PM_human..txt  \n",
            "  inflating: train/labels/26-11-2021_12-03-21_PM_car..txt  \n",
            "  inflating: train/labels/26-11-2021_12-03-21_PM_head..txt  \n",
            "  inflating: train/labels/26-11-2021_12-03-21_PM_human..txt  \n",
            "  inflating: train/labels/26-11-2021_12-03-36_PM_car..txt  \n",
            "  inflating: train/labels/26-11-2021_12-03-36_PM_head..txt  \n",
            "  inflating: train/labels/26-11-2021_12-03-36_PM_human..txt  \n",
            "  inflating: train/labels/26-11-2021_12-03-49_PM_car..txt  \n",
            "  inflating: train/labels/26-11-2021_12-03-49_PM_face..txt  \n",
            "  inflating: train/labels/26-11-2021_12-03-49_PM_head..txt  \n",
            "  inflating: train/labels/26-11-2021_12-03-49_PM_human..txt  \n",
            "  inflating: train/labels/26-11-2021_12-04-27_PM_car..txt  \n",
            "  inflating: train/labels/26-11-2021_12-04-27_PM_face..txt  \n",
            "  inflating: train/labels/26-11-2021_12-04-27_PM_head..txt  \n",
            "  inflating: train/labels/26-11-2021_12-04-27_PM_human..txt  \n",
            "  inflating: train/labels/26-11-2021_12-05-55_PM_face..txt  \n",
            "  inflating: train/labels/26-11-2021_12-05-55_PM_head..txt  \n",
            "  inflating: train/labels/26-11-2021_12-05-55_PM_human..txt  \n",
            "  inflating: train/labels/26-11-2021_12-06-14_PM_car..txt  \n",
            "  inflating: train/labels/26-11-2021_12-06-14_PM_head..txt  \n",
            "  inflating: train/labels/26-11-2021_12-06-14_PM_human..txt  \n",
            "  inflating: train/labels/26-11-2021_12-07-33_PM_car..txt  \n",
            "  inflating: train/labels/26-11-2021_12-07-33_PM_head..txt  \n",
            "  inflating: train/labels/26-11-2021_12-07-33_PM_human..txt  \n",
            "  inflating: train/labels/26-11-2021_12-08-16_PM_car..txt  \n",
            "  inflating: train/labels/26-11-2021_12-08-16_PM_face..txt  \n",
            "  inflating: train/labels/26-11-2021_12-08-16_PM_head..txt  \n",
            "  inflating: train/labels/26-11-2021_12-08-16_PM_human..txt  \n",
            "  inflating: train/labels/26-11-2021_12-18-50_AM_car..txt  \n",
            "  inflating: train/labels/26-11-2021_12-18-50_AM_head..txt  \n",
            "  inflating: train/labels/26-11-2021_12-18-50_AM_human..txt  \n",
            "  inflating: train/labels/26-11-2021_12-23-55_PM_car..txt  \n",
            "  inflating: train/labels/26-11-2021_12-23-55_PM_head..txt  \n",
            "  inflating: train/labels/26-11-2021_12-23-55_PM_human..txt  \n",
            "  inflating: train/labels/26-11-2021_12-24-18_PM_car..txt  \n",
            "  inflating: train/labels/26-11-2021_12-24-18_PM_head..txt  \n",
            "  inflating: train/labels/26-11-2021_12-24-18_PM_human..txt  \n",
            "  inflating: train/labels/26-11-2021_12-24-48_PM_car..txt  \n",
            "  inflating: train/labels/26-11-2021_12-24-48_PM_head..txt  \n",
            "  inflating: train/labels/26-11-2021_12-24-48_PM_human..txt  \n",
            "  inflating: train/labels/26-11-2021_12-24-53_PM_car..txt  \n",
            "  inflating: train/labels/26-11-2021_12-24-53_PM_head..txt  \n",
            "  inflating: train/labels/26-11-2021_12-24-53_PM_human..txt  \n",
            "  inflating: train/labels/26-11-2021_12-25-29_PM_car..txt  \n",
            "  inflating: train/labels/26-11-2021_12-25-29_PM_head..txt  \n",
            "  inflating: train/labels/26-11-2021_12-25-29_PM_human..txt  \n",
            "  inflating: train/labels/26-11-2021_12-25-34_PM_car..txt  \n",
            "  inflating: train/labels/26-11-2021_12-25-34_PM_head..txt  \n",
            "  inflating: train/labels/26-11-2021_12-25-34_PM_human..txt  \n",
            "  inflating: train/labels/26-11-2021_12-26-01_PM_car..txt  \n",
            "  inflating: train/labels/26-11-2021_12-26-01_PM_head..txt  \n",
            "  inflating: train/labels/26-11-2021_12-26-01_PM_human..txt  \n",
            "  inflating: train/labels/26-11-2021_12-28-56_PM_car..txt  \n",
            "  inflating: train/labels/26-11-2021_12-28-56_PM_face..txt  \n",
            "  inflating: train/labels/26-11-2021_12-28-56_PM_head..txt  \n",
            "  inflating: train/labels/26-11-2021_12-28-56_PM_human..txt  \n",
            "  inflating: train/labels/26-11-2021_12-30-16_PM_car..txt  \n",
            "  inflating: train/labels/26-11-2021_12-30-16_PM_head..txt  \n",
            "  inflating: train/labels/26-11-2021_12-30-16_PM_human..txt  \n",
            "  inflating: train/labels/26-11-2021_12-45-44_PM_car..txt  \n",
            "  inflating: train/labels/26-11-2021_12-45-44_PM_head..txt  \n",
            "  inflating: train/labels/26-11-2021_12-45-44_PM_human..txt  \n",
            "  inflating: train/labels/26-11-2021_12-45-55_PM_car..txt  \n",
            "  inflating: train/labels/26-11-2021_12-45-55_PM_face..txt  \n",
            "  inflating: train/labels/26-11-2021_12-45-55_PM_head..txt  \n",
            "  inflating: train/labels/26-11-2021_12-45-55_PM_human..txt  \n",
            "  inflating: train/labels/26-11-2021_12-47-09_PM_car..txt  \n",
            "  inflating: train/labels/26-11-2021_12-47-09_PM_head..txt  \n",
            "  inflating: train/labels/26-11-2021_12-47-09_PM_human..txt  \n",
            "  inflating: train/labels/26-11-2021_12-48-34_PM_car..txt  \n",
            "  inflating: train/labels/26-11-2021_12-48-34_PM_head..txt  \n",
            "  inflating: train/labels/26-11-2021_12-48-34_PM_human..txt  \n",
            "  inflating: train/labels/26-11-2021_12-50-21_PM_car..txt  \n",
            "  inflating: train/labels/26-11-2021_12-50-21_PM_head..txt  \n",
            "  inflating: train/labels/26-11-2021_12-50-21_PM_human..txt  \n",
            "  inflating: train/labels/26-11-2021_12-51-14_PM_car..txt  \n",
            "  inflating: train/labels/26-11-2021_12-51-14_PM_face..txt  \n",
            "  inflating: train/labels/26-11-2021_12-51-14_PM_head..txt  \n",
            "  inflating: train/labels/26-11-2021_12-51-14_PM_human..txt  \n",
            "  inflating: train/labels/26-11-2021_12-51-35_PM_car..txt  \n",
            "  inflating: train/labels/26-11-2021_12-51-35_PM_head..txt  \n",
            "  inflating: train/labels/26-11-2021_12-51-35_PM_human..txt  \n",
            "  inflating: train/labels/2_23-11-2021_02-20-04_PM_carplate..txt  \n",
            "  inflating: train/labels/2_23-11-2021_04-41-35_PM_carplate..txt  \n",
            "  inflating: train/labels/2_24-11-2021_04-17-33_AM_carplate..txt  \n",
            "  inflating: train/labels/2_24-11-2021_04-17-46_AM_carplate..txt  \n",
            "  inflating: train/labels/2_24-11-2021_04-19-00_AM_carplate..txt  \n",
            "  inflating: train/labels/2_24-11-2021_04-19-03_AM_carplate..txt  \n",
            "  inflating: train/labels/2_24-11-2021_05-39-29_PM_carplate..txt  \n",
            "  inflating: train/labels/2_24-11-2021_05-49-00_AM_carplate..txt  \n",
            "  inflating: train/labels/2_24-11-2021_09-20-41_AM_carplate..txt  \n",
            "  inflating: train/labels/2_24-11-2021_09-22-55_AM_carplate..txt  \n",
            "  inflating: train/labels/2_25-11-2021_01-59-56_AM_carplate..txt  \n",
            "  inflating: train/labels/2_25-11-2021_04-21-55_AM_carplate..txt  \n",
            "  inflating: train/labels/2_26-11-2021_12-02-25_PM_carplate..txt  \n",
            "  inflating: train/labels/3_24-11-2021_09-20-41_AM_carplate..txt  \n",
            "  inflating: train/labels/3_25-11-2021_05-15-29_AM_carplate..txt  \n",
            "  inflating: train/labels/3_26-11-2021_12-02-25_PM_carplate..txt  \n",
            "caution: excluded filename not matched:  train\n"
          ]
        }
      ]
    },
    {
      "cell_type": "code",
      "source": [
        "# from google.colab import drive\n",
        "# drive.mount('/content/drive')\n",
        "# !cp train_dataset_train.zip /content/drive/MyDrive\n",
        "# !rm train_dataset_train.zip"
      ],
      "metadata": {
        "id": "gVM_dldiVOYz"
      },
      "execution_count": 8,
      "outputs": []
    },
    {
      "cell_type": "markdown",
      "metadata": {
        "id": "qyDDzZRRTr_Q"
      },
      "source": [
        "Подготовим данные для обучения и валидации"
      ]
    },
    {
      "cell_type": "code",
      "execution_count": 9,
      "metadata": {
        "id": "_C53aa5uTr_T"
      },
      "outputs": [],
      "source": [
        "!mkdir output\n",
        "!mkdir output/train\n",
        "!mkdir output/val"
      ]
    },
    {
      "cell_type": "code",
      "execution_count": 10,
      "metadata": {
        "id": "xAlFwoyoTr_V"
      },
      "outputs": [],
      "source": [
        "from sklearn.model_selection import train_test_split\n",
        "import os\n",
        "\n",
        "train_names, val_names = train_test_split(\n",
        "                            [f.split('.')[0] for f in os.listdir('train/images')], \n",
        "                                    test_size=0.15, random_state=22)"
      ]
    },
    {
      "cell_type": "code",
      "execution_count": 11,
      "metadata": {
        "id": "c3rqokUCTr_W"
      },
      "outputs": [],
      "source": [
        "import shutil\n",
        "classes = ['car', 'head', 'face', 'human', 'carplate']\n",
        "def wt1(path):\n",
        "    shutil.copy('train/images/' + name + '.jpg', f'output/{path}/')\n",
        "    with open(f'output/{path}/'+name+'.txt', 'a') as fo:\n",
        "        for file in os.listdir('train/labels'):\n",
        "            if name in file:\n",
        "                with open('train/labels/' + file) as fi:\n",
        "                    for line in fi.readlines():\n",
        "                        cl = classes.index(file.split('_')[-1].split('.')[0])\n",
        "                        line = ' '.join([str(cl)]+line.split()[1:])+'\\n'\n",
        "                        fo.write(line)\n",
        "for name in [f.split('.')[0] for f in os.listdir('train/images')]:\n",
        "    if name in val_names: wt1('val')\n",
        "    else: wt1('train')"
      ]
    },
    {
      "cell_type": "markdown",
      "metadata": {
        "id": "aLGrDo0CTr_Z"
      },
      "source": [
        "Сформируем json файлы в формате COCO"
      ]
    },
    {
      "cell_type": "code",
      "execution_count": 12,
      "metadata": {
        "id": "Xjx6j-VbTr_a"
      },
      "outputs": [],
      "source": [
        "from pathlib import Path\n",
        "import imagesize\n",
        "import json"
      ]
    },
    {
      "cell_type": "code",
      "source": [
        "# для раздела аннотаций\n",
        "def create_image_annotation(file_path: Path, width: int, height: int, image_id: int):\n",
        "    file_path = file_path.name\n",
        "    image_annotation = {\n",
        "        \"file_name\": file_path,\n",
        "        \"height\": height,\n",
        "        \"width\": width,\n",
        "        \"id\": image_id}\n",
        "    return image_annotation\n",
        "\n",
        "def create_annotation_from_yolo_format(\n",
        "    min_x, min_y, width, height, image_id, category_id, annotation_id):\n",
        "    bbox = (float(min_x), float(min_y), float(width), float(height))\n",
        "    area = width * height\n",
        "    max_x = min_x + width\n",
        "    max_y = min_y + height\n",
        "    annotation = {\n",
        "        \"id\": annotation_id,\n",
        "        \"image_id\": image_id,\n",
        "        \"bbox\": bbox,\n",
        "        \"area\": area,\n",
        "        \"iscrowd\": 0,\n",
        "        \"category_id\": category_id,\n",
        "        \"segmentation\": []}\n",
        "    return annotation"
      ],
      "metadata": {
        "id": "DaS5-8lYbeem"
      },
      "execution_count": 13,
      "outputs": []
    },
    {
      "cell_type": "code",
      "execution_count": 14,
      "metadata": {
        "id": "hSyj3fzcTr_c"
      },
      "outputs": [],
      "source": [
        "# для раздела аннотаций и данных изображений\n",
        "def get_images_info_and_annotations(path):\n",
        "    path = Path(path)\n",
        "    annotations = []\n",
        "    images_annotations = []\n",
        "    file_paths = sorted(path.rglob(\"*.jpg\"))\n",
        "    image_id = 0\n",
        "    annotation_id = 1  # В формате COCO нумеррация классов начинается с '1'\n",
        "    for file_path in file_paths:\n",
        "        w, h = imagesize.get(str(file_path))\n",
        "        image_annotation = create_image_annotation(\n",
        "            file_path=file_path, width=w, height=h, image_id=image_id)\n",
        "        images_annotations.append(image_annotation)\n",
        "\n",
        "        label_file_name = f\"{file_path.stem}.txt\"\n",
        "        annotations_path = file_path.parent / label_file_name\n",
        "\n",
        "        if not annotations_path.exists(): continue\n",
        "\n",
        "        with open(str(annotations_path), \"r\") as label_file:\n",
        "            label_read_line = label_file.readlines()\n",
        "\n",
        "        for line1 in label_read_line:\n",
        "            label_line = line1\n",
        "            category_id = (\n",
        "                int(label_line.split()[0]) + 1)\n",
        "            x_center = float(label_line.split()[1])\n",
        "            y_center = float(label_line.split()[2])\n",
        "            width = float(label_line.split()[3])\n",
        "            height = float(label_line.split()[4])\n",
        "\n",
        "            float_x_center = w * x_center\n",
        "            float_y_center = h * y_center\n",
        "            float_width = w * width\n",
        "            float_height = h * height\n",
        "\n",
        "            min_x = int(float_x_center - float_width / 2)\n",
        "            min_y = int(float_y_center - float_height / 2)\n",
        "            width = int(float_width)\n",
        "            height = int(float_height)\n",
        "\n",
        "            annotation = create_annotation_from_yolo_format(\n",
        "                min_x,\n",
        "                min_y,\n",
        "                width,\n",
        "                height,\n",
        "                image_id,\n",
        "                category_id,\n",
        "                annotation_id)\n",
        "            annotations.append(annotation)\n",
        "            annotation_id += 1\n",
        "        image_id += 1\n",
        "    return images_annotations, annotations"
      ]
    },
    {
      "cell_type": "markdown",
      "metadata": {
        "id": "jG5NZ90DTr_i"
      },
      "source": [
        "Для обучения:"
      ]
    },
    {
      "cell_type": "code",
      "execution_count": 15,
      "metadata": {
        "colab": {
          "base_uri": "https://localhost:8080/"
        },
        "id": "6jBOvyb2Tr_k",
        "outputId": "1a66ab02-9fe9-4e13-c349-de2e460c7f1c"
      },
      "outputs": [
        {
          "output_type": "stream",
          "name": "stdout",
          "text": [
            "OK!\n",
            "OK!\n",
            "OK!\n",
            "OK!\n",
            "OK!\n"
          ]
        }
      ],
      "source": [
        "coco_format = {\"images\": [{}], \"categories\": [], \"annotations\": [{}]}\n",
        "output_path = 'output/train/'\n",
        "(coco_format[\"images\"], coco_format[\"annotations\"],\n",
        "        ) = get_images_info_and_annotations(output_path)\n",
        "\n",
        "for index, label in enumerate(classes):\n",
        "    categories = {\n",
        "        \"supercategory\": \"Defect\",\n",
        "        \"id\": index + 1,  # ID starts with '1' .\n",
        "        \"name\": label}\n",
        "    coco_format[\"categories\"].append(categories)\n",
        "    with open(output_path+'/train.json', \"w\") as outfile:\n",
        "        json.dump(coco_format, outfile, indent=4)\n",
        "    print(\"OK!\")"
      ]
    },
    {
      "cell_type": "markdown",
      "metadata": {
        "id": "AXby8gmCTr_n"
      },
      "source": [
        "Для валидации"
      ]
    },
    {
      "cell_type": "code",
      "execution_count": 16,
      "metadata": {
        "colab": {
          "base_uri": "https://localhost:8080/"
        },
        "id": "U9f4flhDTr_o",
        "outputId": "c8ae00bb-9134-4db9-bb82-5904f788d144"
      },
      "outputs": [
        {
          "output_type": "stream",
          "name": "stdout",
          "text": [
            "OK!\n",
            "OK!\n",
            "OK!\n",
            "OK!\n",
            "OK!\n"
          ]
        }
      ],
      "source": [
        "coco_format = {\"images\": [{}], \"categories\": [], \"annotations\": [{}]}\n",
        "output_path = 'output/val/'\n",
        "(coco_format[\"images\"], coco_format[\"annotations\"],\n",
        "        ) = get_images_info_and_annotations(output_path)\n",
        "\n",
        "for index, label in enumerate(classes):\n",
        "    categories = {\n",
        "        \"supercategory\": \"Defect\",\n",
        "        \"id\": index + 1,\n",
        "        \"name\": label}\n",
        "    coco_format[\"categories\"].append(categories)\n",
        "\n",
        "    with open(output_path+'/val.json', \"w\") as outfile:\n",
        "        json.dump(coco_format, outfile, indent=4)\n",
        "    print(\"OK!\")"
      ]
    },
    {
      "cell_type": "markdown",
      "metadata": {
        "id": "efMzWRhuTr_p"
      },
      "source": [
        "Класс для датасета CocoDetection:"
      ]
    },
    {
      "cell_type": "code",
      "execution_count": 17,
      "metadata": {
        "id": "_6XZFEJlTr_q"
      },
      "outputs": [],
      "source": [
        "from torchvision import datasets\n",
        "\n",
        "class CocoDetection(datasets.CocoDetection):\n",
        "    def __init__(self, img_folder, feature_extractor, train=True):\n",
        "        ann_file = os.path.join(img_folder, \"train.json\" if train else \"val.json\")\n",
        "        super(CocoDetection, self).__init__(img_folder, ann_file)\n",
        "        self.feature_extractor = feature_extractor\n",
        "\n",
        "    def __getitem__(self, idx):\n",
        "        img, target = super(CocoDetection, self).__getitem__(idx)\n",
        "\n",
        "        image_id = self.ids[idx]\n",
        "        target = {'image_id': image_id, 'annotations': target}\n",
        "        encoding = self.feature_extractor(images=img, \n",
        "                                          annotations=target, \n",
        "                                          return_tensors=\"pt\")\n",
        "        pixel_values = encoding[\"pixel_values\"].squeeze() # remove batch dimension\n",
        "        target = encoding[\"labels\"][0] # remove batch dimension\n",
        "\n",
        "        return pixel_values, target"
      ]
    },
    {
      "cell_type": "code",
      "source": [
        "!pip install transformers"
      ],
      "metadata": {
        "colab": {
          "base_uri": "https://localhost:8080/"
        },
        "id": "AjAdQLu_cRkl",
        "outputId": "2084adc0-d721-4545-ef6f-05676d6c6c54"
      },
      "execution_count": 20,
      "outputs": [
        {
          "output_type": "stream",
          "name": "stdout",
          "text": [
            "Looking in indexes: https://pypi.org/simple, https://us-python.pkg.dev/colab-wheels/public/simple/\n",
            "Collecting transformers\n",
            "  Downloading transformers-4.21.1-py3-none-any.whl (4.7 MB)\n",
            "\u001b[K     |████████████████████████████████| 4.7 MB 7.3 MB/s \n",
            "\u001b[?25hRequirement already satisfied: filelock in /usr/local/lib/python3.7/dist-packages (from transformers) (3.7.1)\n",
            "Collecting pyyaml>=5.1\n",
            "  Downloading PyYAML-6.0-cp37-cp37m-manylinux_2_5_x86_64.manylinux1_x86_64.manylinux_2_12_x86_64.manylinux2010_x86_64.whl (596 kB)\n",
            "\u001b[K     |████████████████████████████████| 596 kB 72.0 MB/s \n",
            "\u001b[?25hRequirement already satisfied: regex!=2019.12.17 in /usr/local/lib/python3.7/dist-packages (from transformers) (2022.6.2)\n",
            "Requirement already satisfied: numpy>=1.17 in /usr/local/lib/python3.7/dist-packages (from transformers) (1.21.6)\n",
            "Requirement already satisfied: importlib-metadata in /usr/local/lib/python3.7/dist-packages (from transformers) (4.12.0)\n",
            "Collecting huggingface-hub<1.0,>=0.1.0\n",
            "  Downloading huggingface_hub-0.8.1-py3-none-any.whl (101 kB)\n",
            "\u001b[K     |████████████████████████████████| 101 kB 12.8 MB/s \n",
            "\u001b[?25hCollecting tokenizers!=0.11.3,<0.13,>=0.11.1\n",
            "  Downloading tokenizers-0.12.1-cp37-cp37m-manylinux_2_12_x86_64.manylinux2010_x86_64.whl (6.6 MB)\n",
            "\u001b[K     |████████████████████████████████| 6.6 MB 42.4 MB/s \n",
            "\u001b[?25hRequirement already satisfied: tqdm>=4.27 in /usr/local/lib/python3.7/dist-packages (from transformers) (4.64.0)\n",
            "Requirement already satisfied: requests in /usr/local/lib/python3.7/dist-packages (from transformers) (2.23.0)\n",
            "Requirement already satisfied: packaging>=20.0 in /usr/local/lib/python3.7/dist-packages (from transformers) (21.3)\n",
            "Requirement already satisfied: typing-extensions>=3.7.4.3 in /usr/local/lib/python3.7/dist-packages (from huggingface-hub<1.0,>=0.1.0->transformers) (4.1.1)\n",
            "Requirement already satisfied: pyparsing!=3.0.5,>=2.0.2 in /usr/local/lib/python3.7/dist-packages (from packaging>=20.0->transformers) (3.0.9)\n",
            "Requirement already satisfied: zipp>=0.5 in /usr/local/lib/python3.7/dist-packages (from importlib-metadata->transformers) (3.8.1)\n",
            "Requirement already satisfied: urllib3!=1.25.0,!=1.25.1,<1.26,>=1.21.1 in /usr/local/lib/python3.7/dist-packages (from requests->transformers) (1.24.3)\n",
            "Requirement already satisfied: certifi>=2017.4.17 in /usr/local/lib/python3.7/dist-packages (from requests->transformers) (2022.6.15)\n",
            "Requirement already satisfied: idna<3,>=2.5 in /usr/local/lib/python3.7/dist-packages (from requests->transformers) (2.10)\n",
            "Requirement already satisfied: chardet<4,>=3.0.2 in /usr/local/lib/python3.7/dist-packages (from requests->transformers) (3.0.4)\n",
            "Installing collected packages: pyyaml, tokenizers, huggingface-hub, transformers\n",
            "  Attempting uninstall: pyyaml\n",
            "    Found existing installation: PyYAML 3.13\n",
            "    Uninstalling PyYAML-3.13:\n",
            "      Successfully uninstalled PyYAML-3.13\n",
            "Successfully installed huggingface-hub-0.8.1 pyyaml-6.0 tokenizers-0.12.1 transformers-4.21.1\n"
          ]
        }
      ]
    },
    {
      "cell_type": "markdown",
      "metadata": {
        "id": "tJ1DSmJcTr_s"
      },
      "source": [
        "Для выбранной модели для детекции (Yolos), YolosFeatureExtractor можно использовать для подготовки изображений."
      ]
    },
    {
      "cell_type": "code",
      "execution_count": 21,
      "metadata": {
        "colab": {
          "base_uri": "https://localhost:8080/",
          "height": 49,
          "referenced_widgets": [
            "ef0c59a8fb3e4b2ea4053fd4291ccd66",
            "0b770407fef24c7b8d19f5f383b87587",
            "39f9b66c521d4906866bd0ffe1651496",
            "46240899702c4f06adfae842e01f8c36",
            "bb61174c77c2488787d19d89f27ef62b",
            "1632ca1fbf89434e9405b963269883d7",
            "e2c938da062d46ee8be1661c917f799f",
            "a09c1e5d904e4c13b5c768141f6be997",
            "58761f36f1ae4bbca58d7825a1f218d7",
            "ef0a68d4d02d454ba8e0959171d69537",
            "966cd269606c48668c25bc6b1d249b7a"
          ]
        },
        "id": "d55dlcoITr_t",
        "outputId": "7342ca5e-520a-46e3-86c5-d8f7550c753b"
      },
      "outputs": [
        {
          "output_type": "display_data",
          "data": {
            "text/plain": [
              "Downloading preprocessor_config.json:   0%|          | 0.00/275 [00:00<?, ?B/s]"
            ],
            "application/vnd.jupyter.widget-view+json": {
              "version_major": 2,
              "version_minor": 0,
              "model_id": "ef0c59a8fb3e4b2ea4053fd4291ccd66"
            }
          },
          "metadata": {}
        }
      ],
      "source": [
        "from transformers import YolosFeatureExtractor\n",
        "\n",
        "feature_extractor = YolosFeatureExtractor.from_pretrained(\n",
        "    \"hustvl/yolos-small\", do_resize=True, size=512)"
      ]
    },
    {
      "cell_type": "markdown",
      "source": [
        "Датасеты для тренировачной и валидационной выборки для детекции в формате Coco"
      ],
      "metadata": {
        "id": "Z3OAoEsucdZc"
      }
    },
    {
      "cell_type": "code",
      "execution_count": 23,
      "metadata": {
        "colab": {
          "base_uri": "https://localhost:8080/"
        },
        "id": "OON_rYdzTr_u",
        "outputId": "47bcd05a-d8e8-4dea-f844-abf6b8ee0867"
      },
      "outputs": [
        {
          "output_type": "stream",
          "name": "stdout",
          "text": [
            "loading annotations into memory...\n",
            "Done (t=0.15s)\n",
            "creating index...\n",
            "index created!\n",
            "loading annotations into memory...\n",
            "Done (t=0.01s)\n",
            "creating index...\n",
            "index created!\n"
          ]
        }
      ],
      "source": [
        "train_dataset = CocoDetection(img_folder='output/train', \n",
        "                              feature_extractor=feature_extractor)\n",
        "val_dataset = CocoDetection(img_folder='output/val', \n",
        "                            feature_extractor=feature_extractor, train=False)"
      ]
    },
    {
      "cell_type": "markdown",
      "metadata": {
        "id": "y0TOOUC7Tr_v"
      },
      "source": [
        "Размеры тренировачной и валидационной выборки:"
      ]
    },
    {
      "cell_type": "code",
      "execution_count": 24,
      "metadata": {
        "colab": {
          "base_uri": "https://localhost:8080/"
        },
        "id": "DKdAcmnJTr_w",
        "outputId": "198ba6c8-5e58-4d18-d163-9d37305d3156"
      },
      "outputs": [
        {
          "output_type": "execute_result",
          "data": {
            "text/plain": [
              "(1701, 301)"
            ]
          },
          "metadata": {},
          "execution_count": 24
        }
      ],
      "source": [
        "len(train_dataset), len(val_dataset)"
      ]
    },
    {
      "cell_type": "markdown",
      "metadata": {
        "id": "OLU2zh-zTr_x"
      },
      "source": [
        "Создание DataLoader-ов, которые будут генировать данные для модели"
      ]
    },
    {
      "cell_type": "code",
      "execution_count": 46,
      "metadata": {
        "id": "8jvBiYosTr_y"
      },
      "outputs": [],
      "source": [
        "from torch.utils.data import DataLoader\n",
        "\n",
        "def collate_fn(batch):\n",
        "    pixel_values = [item[0] for item in batch]\n",
        "    encoding = feature_extractor.pad(pixel_values, return_tensors=\"pt\")\n",
        "    labels = [item[1] for item in batch]\n",
        "    batch = {}\n",
        "    batch['pixel_values'] = encoding['pixel_values']\n",
        "    batch['labels'] = labels\n",
        "    return batch\n",
        "\n",
        "train_dataloader = DataLoader(\n",
        "            train_dataset, collate_fn=collate_fn, batch_size=2, shuffle=True)\n",
        "val_dataloader = DataLoader(val_dataset, collate_fn=collate_fn, batch_size=1)\n",
        "batch = next(iter(train_dataloader))"
      ]
    },
    {
      "cell_type": "markdown",
      "metadata": {
        "id": "dC9lJwpCTr_z"
      },
      "source": [
        "Словарь соответствий: номер - имя класса"
      ]
    },
    {
      "cell_type": "code",
      "execution_count": 27,
      "metadata": {
        "colab": {
          "base_uri": "https://localhost:8080/"
        },
        "id": "LOTdu9PtTr_z",
        "outputId": "30529158-de05-4341-f5b4-7302d19337f2"
      },
      "outputs": [
        {
          "output_type": "execute_result",
          "data": {
            "text/plain": [
              "{1: 'car', 2: 'head', 3: 'face', 4: 'human', 5: 'carplate'}"
            ]
          },
          "metadata": {},
          "execution_count": 27
        }
      ],
      "source": [
        "id2label = {k: v['name'] for k,v in train_dataset.coco.cats.items()}\n",
        "id2label"
      ]
    },
    {
      "cell_type": "code",
      "source": [
        "!pip install pytorch_lightning"
      ],
      "metadata": {
        "colab": {
          "base_uri": "https://localhost:8080/"
        },
        "id": "kxMtYGpec89M",
        "outputId": "f4673430-c8b2-4c61-d3a8-19e9e3550cf0"
      },
      "execution_count": 29,
      "outputs": [
        {
          "output_type": "stream",
          "name": "stdout",
          "text": [
            "Looking in indexes: https://pypi.org/simple, https://us-python.pkg.dev/colab-wheels/public/simple/\n",
            "Collecting pytorch_lightning\n",
            "  Downloading pytorch_lightning-1.7.1-py3-none-any.whl (701 kB)\n",
            "\u001b[K     |████████████████████████████████| 701 kB 8.6 MB/s \n",
            "\u001b[?25hRequirement already satisfied: PyYAML>=5.4 in /usr/local/lib/python3.7/dist-packages (from pytorch_lightning) (6.0)\n",
            "Collecting torchmetrics>=0.7.0\n",
            "  Downloading torchmetrics-0.9.3-py3-none-any.whl (419 kB)\n",
            "\u001b[K     |████████████████████████████████| 419 kB 63.9 MB/s \n",
            "\u001b[?25hCollecting pyDeprecate>=0.3.1\n",
            "  Downloading pyDeprecate-0.3.2-py3-none-any.whl (10 kB)\n",
            "Requirement already satisfied: torch>=1.9.* in /usr/local/lib/python3.7/dist-packages (from pytorch_lightning) (1.12.1+cu113)\n",
            "Requirement already satisfied: tqdm>=4.57.0 in /usr/local/lib/python3.7/dist-packages (from pytorch_lightning) (4.64.0)\n",
            "Requirement already satisfied: numpy>=1.17.2 in /usr/local/lib/python3.7/dist-packages (from pytorch_lightning) (1.21.6)\n",
            "Requirement already satisfied: packaging>=17.0 in /usr/local/lib/python3.7/dist-packages (from pytorch_lightning) (21.3)\n",
            "Collecting fsspec[http]!=2021.06.0,>=2021.05.0\n",
            "  Downloading fsspec-2022.7.1-py3-none-any.whl (141 kB)\n",
            "\u001b[K     |████████████████████████████████| 141 kB 72.9 MB/s \n",
            "\u001b[?25hRequirement already satisfied: typing-extensions>=4.0.0 in /usr/local/lib/python3.7/dist-packages (from pytorch_lightning) (4.1.1)\n",
            "Collecting tensorboard>=2.9.1\n",
            "  Downloading tensorboard-2.10.0-py3-none-any.whl (5.9 MB)\n",
            "\u001b[K     |████████████████████████████████| 5.9 MB 43.8 MB/s \n",
            "\u001b[?25hRequirement already satisfied: requests in /usr/local/lib/python3.7/dist-packages (from fsspec[http]!=2021.06.0,>=2021.05.0->pytorch_lightning) (2.23.0)\n",
            "Requirement already satisfied: aiohttp in /usr/local/lib/python3.7/dist-packages (from fsspec[http]!=2021.06.0,>=2021.05.0->pytorch_lightning) (3.8.1)\n",
            "Requirement already satisfied: pyparsing!=3.0.5,>=2.0.2 in /usr/local/lib/python3.7/dist-packages (from packaging>=17.0->pytorch_lightning) (3.0.9)\n",
            "Requirement already satisfied: protobuf<3.20,>=3.9.2 in /usr/local/lib/python3.7/dist-packages (from tensorboard>=2.9.1->pytorch_lightning) (3.17.3)\n",
            "Requirement already satisfied: tensorboard-data-server<0.7.0,>=0.6.0 in /usr/local/lib/python3.7/dist-packages (from tensorboard>=2.9.1->pytorch_lightning) (0.6.1)\n",
            "Requirement already satisfied: absl-py>=0.4 in /usr/local/lib/python3.7/dist-packages (from tensorboard>=2.9.1->pytorch_lightning) (1.2.0)\n",
            "Requirement already satisfied: google-auth<3,>=1.6.3 in /usr/local/lib/python3.7/dist-packages (from tensorboard>=2.9.1->pytorch_lightning) (1.35.0)\n",
            "Requirement already satisfied: werkzeug>=1.0.1 in /usr/local/lib/python3.7/dist-packages (from tensorboard>=2.9.1->pytorch_lightning) (1.0.1)\n",
            "Requirement already satisfied: setuptools>=41.0.0 in /usr/local/lib/python3.7/dist-packages (from tensorboard>=2.9.1->pytorch_lightning) (57.4.0)\n",
            "Requirement already satisfied: google-auth-oauthlib<0.5,>=0.4.1 in /usr/local/lib/python3.7/dist-packages (from tensorboard>=2.9.1->pytorch_lightning) (0.4.6)\n",
            "Requirement already satisfied: tensorboard-plugin-wit>=1.6.0 in /usr/local/lib/python3.7/dist-packages (from tensorboard>=2.9.1->pytorch_lightning) (1.8.1)\n",
            "Requirement already satisfied: wheel>=0.26 in /usr/local/lib/python3.7/dist-packages (from tensorboard>=2.9.1->pytorch_lightning) (0.37.1)\n",
            "Requirement already satisfied: grpcio>=1.24.3 in /usr/local/lib/python3.7/dist-packages (from tensorboard>=2.9.1->pytorch_lightning) (1.47.0)\n",
            "Requirement already satisfied: markdown>=2.6.8 in /usr/local/lib/python3.7/dist-packages (from tensorboard>=2.9.1->pytorch_lightning) (3.4.1)\n",
            "Requirement already satisfied: rsa<5,>=3.1.4 in /usr/local/lib/python3.7/dist-packages (from google-auth<3,>=1.6.3->tensorboard>=2.9.1->pytorch_lightning) (4.9)\n",
            "Requirement already satisfied: pyasn1-modules>=0.2.1 in /usr/local/lib/python3.7/dist-packages (from google-auth<3,>=1.6.3->tensorboard>=2.9.1->pytorch_lightning) (0.2.8)\n",
            "Requirement already satisfied: cachetools<5.0,>=2.0.0 in /usr/local/lib/python3.7/dist-packages (from google-auth<3,>=1.6.3->tensorboard>=2.9.1->pytorch_lightning) (4.2.4)\n",
            "Requirement already satisfied: six>=1.9.0 in /usr/local/lib/python3.7/dist-packages (from google-auth<3,>=1.6.3->tensorboard>=2.9.1->pytorch_lightning) (1.15.0)\n",
            "Requirement already satisfied: requests-oauthlib>=0.7.0 in /usr/local/lib/python3.7/dist-packages (from google-auth-oauthlib<0.5,>=0.4.1->tensorboard>=2.9.1->pytorch_lightning) (1.3.1)\n",
            "Requirement already satisfied: importlib-metadata>=4.4 in /usr/local/lib/python3.7/dist-packages (from markdown>=2.6.8->tensorboard>=2.9.1->pytorch_lightning) (4.12.0)\n",
            "Requirement already satisfied: zipp>=0.5 in /usr/local/lib/python3.7/dist-packages (from importlib-metadata>=4.4->markdown>=2.6.8->tensorboard>=2.9.1->pytorch_lightning) (3.8.1)\n",
            "Requirement already satisfied: pyasn1<0.5.0,>=0.4.6 in /usr/local/lib/python3.7/dist-packages (from pyasn1-modules>=0.2.1->google-auth<3,>=1.6.3->tensorboard>=2.9.1->pytorch_lightning) (0.4.8)\n",
            "Requirement already satisfied: urllib3!=1.25.0,!=1.25.1,<1.26,>=1.21.1 in /usr/local/lib/python3.7/dist-packages (from requests->fsspec[http]!=2021.06.0,>=2021.05.0->pytorch_lightning) (1.24.3)\n",
            "Requirement already satisfied: idna<3,>=2.5 in /usr/local/lib/python3.7/dist-packages (from requests->fsspec[http]!=2021.06.0,>=2021.05.0->pytorch_lightning) (2.10)\n",
            "Requirement already satisfied: certifi>=2017.4.17 in /usr/local/lib/python3.7/dist-packages (from requests->fsspec[http]!=2021.06.0,>=2021.05.0->pytorch_lightning) (2022.6.15)\n",
            "Requirement already satisfied: chardet<4,>=3.0.2 in /usr/local/lib/python3.7/dist-packages (from requests->fsspec[http]!=2021.06.0,>=2021.05.0->pytorch_lightning) (3.0.4)\n",
            "Requirement already satisfied: oauthlib>=3.0.0 in /usr/local/lib/python3.7/dist-packages (from requests-oauthlib>=0.7.0->google-auth-oauthlib<0.5,>=0.4.1->tensorboard>=2.9.1->pytorch_lightning) (3.2.0)\n",
            "Requirement already satisfied: yarl<2.0,>=1.0 in /usr/local/lib/python3.7/dist-packages (from aiohttp->fsspec[http]!=2021.06.0,>=2021.05.0->pytorch_lightning) (1.8.1)\n",
            "Requirement already satisfied: charset-normalizer<3.0,>=2.0 in /usr/local/lib/python3.7/dist-packages (from aiohttp->fsspec[http]!=2021.06.0,>=2021.05.0->pytorch_lightning) (2.1.0)\n",
            "Requirement already satisfied: async-timeout<5.0,>=4.0.0a3 in /usr/local/lib/python3.7/dist-packages (from aiohttp->fsspec[http]!=2021.06.0,>=2021.05.0->pytorch_lightning) (4.0.2)\n",
            "Requirement already satisfied: asynctest==0.13.0 in /usr/local/lib/python3.7/dist-packages (from aiohttp->fsspec[http]!=2021.06.0,>=2021.05.0->pytorch_lightning) (0.13.0)\n",
            "Requirement already satisfied: multidict<7.0,>=4.5 in /usr/local/lib/python3.7/dist-packages (from aiohttp->fsspec[http]!=2021.06.0,>=2021.05.0->pytorch_lightning) (6.0.2)\n",
            "Requirement already satisfied: attrs>=17.3.0 in /usr/local/lib/python3.7/dist-packages (from aiohttp->fsspec[http]!=2021.06.0,>=2021.05.0->pytorch_lightning) (22.1.0)\n",
            "Requirement already satisfied: frozenlist>=1.1.1 in /usr/local/lib/python3.7/dist-packages (from aiohttp->fsspec[http]!=2021.06.0,>=2021.05.0->pytorch_lightning) (1.3.1)\n",
            "Requirement already satisfied: aiosignal>=1.1.2 in /usr/local/lib/python3.7/dist-packages (from aiohttp->fsspec[http]!=2021.06.0,>=2021.05.0->pytorch_lightning) (1.2.0)\n",
            "Installing collected packages: fsspec, torchmetrics, tensorboard, pyDeprecate, pytorch-lightning\n",
            "  Attempting uninstall: tensorboard\n",
            "    Found existing installation: tensorboard 2.8.0\n",
            "    Uninstalling tensorboard-2.8.0:\n",
            "      Successfully uninstalled tensorboard-2.8.0\n",
            "\u001b[31mERROR: pip's dependency resolver does not currently take into account all the packages that are installed. This behaviour is the source of the following dependency conflicts.\n",
            "tensorflow 2.8.2+zzzcolab20220719082949 requires tensorboard<2.9,>=2.8, but you have tensorboard 2.10.0 which is incompatible.\u001b[0m\n",
            "Successfully installed fsspec-2022.7.1 pyDeprecate-0.3.2 pytorch-lightning-1.7.1 tensorboard-2.10.0 torchmetrics-0.9.3\n"
          ]
        }
      ]
    },
    {
      "cell_type": "markdown",
      "metadata": {
        "id": "NkS-5-dvTr_0"
      },
      "source": [
        "Для обучения модели YolosForObjectDetection воспользуемся pytorch_lightning"
      ]
    },
    {
      "cell_type": "code",
      "execution_count": 47,
      "metadata": {
        "id": "2fIaP80dTr_1"
      },
      "outputs": [],
      "source": [
        "import pytorch_lightning as pl\n",
        "from transformers import DetrConfig, YolosForObjectDetection\n",
        "from torch.optim import AdamW\n",
        "\n",
        "class Detr(pl.LightningModule):\n",
        "    def __init__(self, lr=2.5e-5, weight_decay=1e-4):\n",
        "        super().__init__()\n",
        "        self.model = YolosForObjectDetection.from_pretrained(\"hustvl/yolos-small\", \n",
        "                                                         num_labels=len(id2label),\n",
        "                                                         ignore_mismatched_sizes=True)\n",
        "        self.lr = lr\n",
        "        self.weight_decay = weight_decay\n",
        "\n",
        "    def forward(self, pixel_values):\n",
        "        outputs = self.model(pixel_values=pixel_values)\n",
        "        return outputs\n",
        "     \n",
        "    def common_step(self, batch, batch_idx):\n",
        "        pixel_values = batch[\"pixel_values\"]\n",
        "        labels = [{k: v.to(self.device) for k, v in t.items()} for t in batch[\"labels\"]]\n",
        "\n",
        "        outputs = self.model(pixel_values=pixel_values, labels=labels)\n",
        "\n",
        "        loss = outputs.loss\n",
        "        loss_dict = outputs.loss_dict\n",
        "\n",
        "        return loss, loss_dict\n",
        "\n",
        "    def training_step(self, batch, batch_idx):\n",
        "        loss, loss_dict = self.common_step(batch, batch_idx)     \n",
        "        self.log(\"training_loss\", loss)\n",
        "        for k,v in loss_dict.items():\n",
        "            self.log(\"train_\" + k, v.item())\n",
        "        return loss\n",
        "\n",
        "    def validation_step(self, batch, batch_idx):\n",
        "        loss, loss_dict = self.common_step(batch, batch_idx)     \n",
        "        self.log(\"validation_loss\", loss)\n",
        "        for k,v in loss_dict.items():\n",
        "            self.log(\"validation_\" + k, v.item())\n",
        "        return loss\n",
        "\n",
        "    def configure_optimizers(self):\n",
        "        optimizer = AdamW(self.parameters(), lr=self.lr,\n",
        "                                  weight_decay=self.weight_decay)\n",
        "        return optimizer\n",
        "\n",
        "    def train_dataloader(self):\n",
        "        return train_dataloader\n",
        "\n",
        "    def val_dataloader(self):\n",
        "        return val_dataloader"
      ]
    },
    {
      "cell_type": "markdown",
      "metadata": {
        "id": "k9MyuodOTr_3"
      },
      "source": [
        "Обучение модели"
      ]
    },
    {
      "cell_type": "code",
      "execution_count": 48,
      "metadata": {
        "colab": {
          "base_uri": "https://localhost:8080/",
          "height": 451,
          "referenced_widgets": [
            "08f621d02878430c883d7e79dbb90133",
            "0972b11f10fd47549eb2d4c6adffc2cc",
            "33634ac97db2422484bab818734489f2",
            "4af7ffe4a7e94b5c8c6db831a7307fd6",
            "6e9059d8ec43471cbec35ed7af2c54e5",
            "6e4f449f193641f3be3ed210b47980af",
            "84ec8e64ffde41bfbf238a9997b8ad94",
            "25c25feb874f4f61921cf09ca0a67aca",
            "38000827871548cb8d6d33d9f30eedfa",
            "99051877b2e04f188db09bda92a50193",
            "18d7ed03c2844b9ca23669fb8be122c7",
            "7f21484cdda8480e9552649e20b893ad",
            "f6dc4499fda9492ba06373bf7043eefd",
            "427822d7f75845bb9b677aee44aee7d8",
            "6871878335fc4095a4d23fc7cf7f72a2",
            "5911799954784391ac17923c022aa4e4",
            "ed1f3e921f924daa8f05b9adac057968",
            "dc1f281b8b964853abe8bd2f255f9843",
            "5c11df56e3a949ed9763d55713547bfd",
            "8e808b08b19049058d06936c2233f2a8",
            "fc61ef845361463190d0479dff66657b",
            "dbf8f858d3504b86901bab06e234eabf",
            "8be518a7834b404cb211add84065eec7",
            "12f6fea7b0c744d4818c2b45af5ad228",
            "c175a532d59d41948691e317ff264d19",
            "b450706e1d2a43a9ba010ca64cf87044",
            "7df26b29bb364e359c43afd22f50da6f",
            "4d45a7daed2d40e0a4dea649f4706aeb",
            "aef2b560d48d428b9a4fb166c99e7118",
            "7bd6a4ee8fb441f4b456815e54472ba8",
            "befc278e95cb41ab8265eafd36ee4150",
            "273e59e680984300892915ef8e50e307",
            "353c7bc4b8064137a744b3968a2a7937",
            "25f778295b6d473492e4bb4173c07b11",
            "63362bf4088d462fa5256d6f9ef64c57",
            "7886897ea4d74d088523c74a329153f4",
            "091754f1d0ff48a0b91098ce1a625d25",
            "c294e97e993243d38a6686135ec7c005",
            "debc77cb35154732af6c712008ae8737",
            "bbc4f3380a7f49d4914bc716992bdc90",
            "9bedea53e43c49ddbb1e0896bd823d3e",
            "e635de7c88474b129ed14379ef01d193",
            "7e9e420e4a304879a09ec5aa65295dd9",
            "6dae64abf7a2493f9560d9b497e2d571",
            "622d508a6cbc4ef994ce8fa79fc7f506",
            "d5c58a2a9f3e4eff8d833ae361a82120",
            "3981b0e1d99a4a7aa2140b6ac0d2119a",
            "1d054caddaa74d9299620916b989213f",
            "879c35069538457db5eef1debb6845cd",
            "13dfb71a8a9b48c499214f9c930dea6a",
            "038f3ca7567c42e294ae905248e301ed",
            "d542b95fb74f46db9941694359ddf898",
            "d825d202e0cb47f990386759e945d2eb",
            "a5c67a46e2d44961ac6490f709cb6506",
            "3cf1213878c14b6e92900e3f87b2371f",
            "d7497dcc99c94fbeb7384f10b42d717b",
            "a9bd0c5eba284e0484d2672b89b046da",
            "516c6f99f1714cdcaefc4bb38b42ad77",
            "ba4551103fac4def865ac00de2a40f85",
            "248ff04a3a154244890986f4935a134d",
            "92729b7a28cf432ebfe52c2b9b4b76f2",
            "e198f26612c44b70839f2b9c0a4d4253",
            "e26e04af46fc4ceba8f8733138395bf0",
            "626a6c01a864413e9bcb655689207862",
            "bb6996623e8c4663a74813766d6d6aea",
            "df07b7b8c24449ddaa599f4db854ca95",
            "ecbf7b3a098e49e9a4a4b5fd365b9503",
            "e252b5eb7dde42a782ece582c919cff9",
            "508b96164329412aa24ba9957d80f9e9",
            "17376dd6b9e34502849fc4ce5f306fc2",
            "878ae28279a94db58b7e8220a3071a53",
            "c0db1162c8504a63a049eb33452abb06",
            "f99bec1b026448aa83acdd06e9092463",
            "82c6ba8217b54e72968be909a9f71b78",
            "9be8a7e6048645ee9f9eaa802106089b",
            "0b855b53650c413e987ffcd3d5087af9",
            "e59a4557b38246df9a1d83d0193f8e83",
            "c804edc4285f44838a8bbc3006f9c2b7",
            "d6f58e8f84fe4a028f2d3d242be65b76",
            "35e825408ac948968456a5076823719d",
            "6f0cbdafcaab4cdbb59d9becb80d0970",
            "4d7350bf6a204758b7e7455000f42dfb",
            "36253fefb821496cbf072c714883f43a",
            "2edfe059bb3b44d699b83b8aca840b0d",
            "9af7a7c5d1d44af0a60a7600c2ea096d",
            "0016a49900da4191b161daff2ac503d5",
            "fd916aeceb50467fbcf7211ca71f5817",
            "edb34ea5ebe84f98aa1ba1870db61c35",
            "5be3f49e2d61486e88e0f90263a2b9de",
            "f7b141576efa408f99fb8e3516543721",
            "72a7b6d521a14490b4d6457e7a97f72e",
            "fb1dd24d82964af5ad968df6498a3880",
            "9c8dc7316783467c9274ee0c56f864dd",
            "ab70a32fdfd641899bcb5f3711724f71",
            "e51de698f3064989af7e2da961aca6c1",
            "881edb9469294b579889693b937200b0",
            "0e1d959bf57343a9a636dbf7e8745ad0",
            "5f71bc2d28c74256899abddfa495b42b",
            "7995d14992e84c2d85692ab7503d0750",
            "f42ab0e58d164be9bb1ef358b47fd4ff",
            "b9b73ea652ea46a8978d3b314712a099",
            "d138b6695473430aa3de7f68ca00023b",
            "369ff126f3a24e03b1142b04664f5be0",
            "cc2b836de34246b4a93b1961f1badbdf",
            "dbb74b6fa89c466584b650d07ae96ee7",
            "c31a8785cdbb4bd6b72b409b1755afe7",
            "0a9eff2dc71d4da7b6f069cfd87e65e3",
            "d18f8c20ecba497998d962394e5ae048",
            "53040564c8d8479991b1c70c80cb6f0d",
            "6e29ea62cfb643da8fd8cdb7c78e209b",
            "2b6dfd3b22b144169be70f901c1ef6c7",
            "77716dfc4f034acbb4a12f7bed82b143",
            "4114c83df174400c845e38e25a622965",
            "c09c894a2abd437a9b720aaaee997445",
            "481e9bb53c9f454c941e43e1cdeee149",
            "57eaa0ccf8e1498a98f299c308d427eb",
            "9798213927264c5dadbf5f31892c131a",
            "27fbf8c1e6524caebab2dc345b96493d",
            "19cac00ca54547abb85376f121725b81",
            "dfd269ba79ba4e91b383234897b92eae",
            "c0e1c80bc04d4ecb9dd0011a3720d00a",
            "36b0aefcf76347eb9a5ab73368e20802",
            "b00fe55782d54ecca66a4ea19850edd3",
            "32e146ab42224b58af2f30fcb1aa94eb",
            "7eace3f55a6d4516ac7c4785d44a377e",
            "a441c701252f4c4188623039153d8bb5",
            "d3d76a25f15d4c8c9da6dbfa8e675b33",
            "ad58e42af739462b99d2d9062c5522bc",
            "31206f2b5a9445c0850bc31f30bdcc5b",
            "d5276d30c22b4bfe8ac134c8015b7857",
            "cf8dac0f138046c698b0d635807bcca1",
            "6fa2450c616d4d1fbd1bfca642c6f1b4",
            "66cc0c2c72384293a524e64fcb03f592",
            "9da94c401d4f426280bc6123f45ba753",
            "d44418c50a764a2abc0f8749064d52cd",
            "5b96abdb91394cf1bf463ae7323dd337",
            "90446fcb0285426db98b430e687e5d4c",
            "420ff1eb040d4609814ff489a180e924",
            "32addacabf4e4a9d9365aff489f3f131",
            "fb3cd9e7e77b47619c84077bd8973b90",
            "99074bf16adc461b8cffe62382471bf4",
            "ca093e39591f42238461bfebcb3c33fb",
            "e9f20acc168c4ffeaee00d5eabf8bfd5"
          ]
        },
        "id": "QhEabmfwTr_4",
        "outputId": "bdc750df-1147-41ea-a85e-f47447f4fb0f"
      },
      "outputs": [
        {
          "output_type": "stream",
          "name": "stderr",
          "text": [
            "Some weights of YolosForObjectDetection were not initialized from the model checkpoint at hustvl/yolos-small and are newly initialized because the shapes did not match:\n",
            "- class_labels_classifier.layers.2.weight: found shape torch.Size([92, 384]) in the checkpoint and torch.Size([6, 384]) in the model instantiated\n",
            "- class_labels_classifier.layers.2.bias: found shape torch.Size([92]) in the checkpoint and torch.Size([6]) in the model instantiated\n",
            "You should probably TRAIN this model on a down-stream task to be able to use it for predictions and inference.\n",
            "/usr/local/lib/python3.7/dist-packages/pytorch_lightning/trainer/connectors/accelerator_connector.py:446: LightningDeprecationWarning: Setting `Trainer(gpus=1)` is deprecated in v1.7 and will be removed in v2.0. Please use `Trainer(accelerator='gpu', devices=1)` instead.\n",
            "  f\"Setting `Trainer(gpus={gpus!r})` is deprecated in v1.7 and will be removed\"\n",
            "INFO:pytorch_lightning.utilities.rank_zero:GPU available: True (cuda), used: True\n",
            "INFO:pytorch_lightning.utilities.rank_zero:TPU available: False, using: 0 TPU cores\n",
            "INFO:pytorch_lightning.utilities.rank_zero:IPU available: False, using: 0 IPUs\n",
            "INFO:pytorch_lightning.utilities.rank_zero:HPU available: False, using: 0 HPUs\n",
            "WARNING:pytorch_lightning.loggers.tensorboard:Missing logger folder: /content/lightning_logs\n",
            "INFO:pytorch_lightning.accelerators.cuda:LOCAL_RANK: 0 - CUDA_VISIBLE_DEVICES: [0]\n",
            "INFO:pytorch_lightning.callbacks.model_summary:\n",
            "  | Name  | Type                    | Params\n",
            "--------------------------------------------------\n",
            "0 | model | YolosForObjectDetection | 30.7 M\n",
            "--------------------------------------------------\n",
            "30.7 M    Trainable params\n",
            "0         Non-trainable params\n",
            "30.7 M    Total params\n",
            "122.607   Total estimated model params size (MB)\n"
          ]
        },
        {
          "output_type": "display_data",
          "data": {
            "text/plain": [
              "Sanity Checking: 0it [00:00, ?it/s]"
            ],
            "application/vnd.jupyter.widget-view+json": {
              "version_major": 2,
              "version_minor": 0,
              "model_id": "08f621d02878430c883d7e79dbb90133"
            }
          },
          "metadata": {}
        },
        {
          "output_type": "display_data",
          "data": {
            "text/plain": [
              "Training: 0it [00:00, ?it/s]"
            ],
            "application/vnd.jupyter.widget-view+json": {
              "version_major": 2,
              "version_minor": 0,
              "model_id": "7f21484cdda8480e9552649e20b893ad"
            }
          },
          "metadata": {}
        },
        {
          "output_type": "display_data",
          "data": {
            "text/plain": [
              "Validation: 0it [00:00, ?it/s]"
            ],
            "application/vnd.jupyter.widget-view+json": {
              "version_major": 2,
              "version_minor": 0,
              "model_id": "8be518a7834b404cb211add84065eec7"
            }
          },
          "metadata": {}
        },
        {
          "output_type": "display_data",
          "data": {
            "text/plain": [
              "Validation: 0it [00:00, ?it/s]"
            ],
            "application/vnd.jupyter.widget-view+json": {
              "version_major": 2,
              "version_minor": 0,
              "model_id": "25f778295b6d473492e4bb4173c07b11"
            }
          },
          "metadata": {}
        },
        {
          "output_type": "display_data",
          "data": {
            "text/plain": [
              "Validation: 0it [00:00, ?it/s]"
            ],
            "application/vnd.jupyter.widget-view+json": {
              "version_major": 2,
              "version_minor": 0,
              "model_id": "622d508a6cbc4ef994ce8fa79fc7f506"
            }
          },
          "metadata": {}
        },
        {
          "output_type": "display_data",
          "data": {
            "text/plain": [
              "Validation: 0it [00:00, ?it/s]"
            ],
            "application/vnd.jupyter.widget-view+json": {
              "version_major": 2,
              "version_minor": 0,
              "model_id": "d7497dcc99c94fbeb7384f10b42d717b"
            }
          },
          "metadata": {}
        },
        {
          "output_type": "display_data",
          "data": {
            "text/plain": [
              "Validation: 0it [00:00, ?it/s]"
            ],
            "application/vnd.jupyter.widget-view+json": {
              "version_major": 2,
              "version_minor": 0,
              "model_id": "ecbf7b3a098e49e9a4a4b5fd365b9503"
            }
          },
          "metadata": {}
        },
        {
          "output_type": "display_data",
          "data": {
            "text/plain": [
              "Validation: 0it [00:00, ?it/s]"
            ],
            "application/vnd.jupyter.widget-view+json": {
              "version_major": 2,
              "version_minor": 0,
              "model_id": "c804edc4285f44838a8bbc3006f9c2b7"
            }
          },
          "metadata": {}
        },
        {
          "output_type": "display_data",
          "data": {
            "text/plain": [
              "Validation: 0it [00:00, ?it/s]"
            ],
            "application/vnd.jupyter.widget-view+json": {
              "version_major": 2,
              "version_minor": 0,
              "model_id": "5be3f49e2d61486e88e0f90263a2b9de"
            }
          },
          "metadata": {}
        },
        {
          "output_type": "display_data",
          "data": {
            "text/plain": [
              "Validation: 0it [00:00, ?it/s]"
            ],
            "application/vnd.jupyter.widget-view+json": {
              "version_major": 2,
              "version_minor": 0,
              "model_id": "f42ab0e58d164be9bb1ef358b47fd4ff"
            }
          },
          "metadata": {}
        },
        {
          "output_type": "display_data",
          "data": {
            "text/plain": [
              "Validation: 0it [00:00, ?it/s]"
            ],
            "application/vnd.jupyter.widget-view+json": {
              "version_major": 2,
              "version_minor": 0,
              "model_id": "2b6dfd3b22b144169be70f901c1ef6c7"
            }
          },
          "metadata": {}
        },
        {
          "output_type": "display_data",
          "data": {
            "text/plain": [
              "Validation: 0it [00:00, ?it/s]"
            ],
            "application/vnd.jupyter.widget-view+json": {
              "version_major": 2,
              "version_minor": 0,
              "model_id": "36b0aefcf76347eb9a5ab73368e20802"
            }
          },
          "metadata": {}
        },
        {
          "output_type": "display_data",
          "data": {
            "text/plain": [
              "Validation: 0it [00:00, ?it/s]"
            ],
            "application/vnd.jupyter.widget-view+json": {
              "version_major": 2,
              "version_minor": 0,
              "model_id": "66cc0c2c72384293a524e64fcb03f592"
            }
          },
          "metadata": {}
        },
        {
          "output_type": "stream",
          "name": "stderr",
          "text": [
            "INFO:pytorch_lightning.utilities.rank_zero:`Trainer.fit` stopped: `max_steps=2500` reached.\n"
          ]
        }
      ],
      "source": [
        "model = Detr(lr=2.5e-5, weight_decay=1e-4)\n",
        "\n",
        "from pytorch_lightning import Trainer\n",
        "\n",
        "trainer = Trainer(gpus=1, \n",
        "                  max_steps=2000, \n",
        "                    gradient_clip_val=0.1, accumulate_grad_batches=4)\n",
        "trainer.fit(model)"
      ]
    },
    {
      "cell_type": "code",
      "source": [
        "from torch import no_grad, cuda\n",
        "with no_grad():\n",
        "  for m in model.children():\n",
        "    m.cuda()\n",
        "    m.eval()\n",
        "    # x = m(x)\n",
        "    m.cpu()\n",
        "    cuda.empty_cache()"
      ],
      "metadata": {
        "id": "O2rPw8I_eMpY"
      },
      "execution_count": 44,
      "outputs": []
    },
    {
      "cell_type": "code",
      "source": [
        "import gc\n",
        "cuda.empty_cache()\n",
        "gc.collect()"
      ],
      "metadata": {
        "colab": {
          "base_uri": "https://localhost:8080/"
        },
        "id": "qkeVR1Fle94U",
        "outputId": "646da9c3-4b0b-45b6-f517-73adf675157f"
      },
      "execution_count": 45,
      "outputs": [
        {
          "output_type": "execute_result",
          "data": {
            "text/plain": [
              "176"
            ]
          },
          "metadata": {},
          "execution_count": 45
        }
      ]
    },
    {
      "cell_type": "markdown",
      "metadata": {
        "id": "zWldMqrzTr_5"
      },
      "source": [
        "Тестирование обученой модели"
      ]
    },
    {
      "cell_type": "code",
      "execution_count": 53,
      "metadata": {
        "id": "boKgQtiDTr_6"
      },
      "outputs": [],
      "source": [
        "from pandas import DataFrame\n",
        "\n",
        "def b2b(b):\n",
        "    center_x, center_y, width, height = b\n",
        "    return[center_x - width / 2,\n",
        "           center_x + width / 2,\n",
        "           center_y - height / 2,\n",
        "           center_y + height / 2]\n",
        "\n",
        "def get_test_labels_df(path):\n",
        "    simple_solution = []\n",
        "    for detection_file in [x for x in os.listdir(path) if 'txt' in x]:\n",
        "        img_name = detection_file.split('.')[0] + '.jpg'\n",
        "        with open(path + detection_file, 'r') as f:\n",
        "            data = f.read()\n",
        "            data = [i for i in data.split('\\n') if i != '']\n",
        "        for line in data:\n",
        "            val = [float(i) for i in line.split()]\n",
        "            cls, center_x, center_y, width, height = val\n",
        "            xmin, xmax, ymin, ymax = b2b([center_x, center_y, width, height])\n",
        "            simple_solution.append([img_name, cls, xmin, xmax, ymin, ymax])\n",
        "    return simple_solution\n",
        "\n",
        "test_labels = get_test_labels_df('output/val/')\n",
        "test_labels = DataFrame(test_labels, \n",
        "                   columns=['ImageID', 'LabelName', 'XMin', 'XMax', 'YMin', 'YMax'])"
      ]
    },
    {
      "cell_type": "code",
      "execution_count": 54,
      "metadata": {
        "scrolled": true,
        "id": "AYKKE1kHTr_7"
      },
      "outputs": [],
      "source": [
        "test_labels['LabelName'] = test_labels.LabelName.astype(int)"
      ]
    },
    {
      "cell_type": "code",
      "execution_count": 55,
      "metadata": {
        "id": "j3gLohP2Tr_9"
      },
      "outputs": [],
      "source": [
        "from torch import device, cuda\n",
        "device = device(\"cuda\" if cuda.is_available() else \"cpu\")\n",
        "model.to(device)\n",
        "model.eval();"
      ]
    },
    {
      "cell_type": "code",
      "execution_count": 57,
      "metadata": {
        "colab": {
          "base_uri": "https://localhost:8080/"
        },
        "id": "OSR8rSkUTr_-",
        "outputId": "562be6db-27ca-4451-c462-c935abd707ce"
      },
      "outputs": [
        {
          "output_type": "stream",
          "name": "stderr",
          "text": [
            "100%|██████████| 300/300 [01:00<00:00,  4.99it/s]\n"
          ]
        }
      ],
      "source": [
        "from PIL import Image\n",
        "from tqdm import tqdm\n",
        "\n",
        "solution = []\n",
        "for name in tqdm([x for x in os.listdir('output/val') if 'jpg'in x][:300]):\n",
        "    im = Image.open('output/val/'+name)\n",
        "    pixel_values = feature_extractor(im, return_tensors=\"pt\").pixel_values\n",
        "    outputs = model(pixel_values.to(device))\n",
        "    maxprobs = outputs.logits.softmax(-1)[0, :, :-1].max(-1)\n",
        "    for i in range(len(maxprobs.indices)):\n",
        "        if maxprobs.values[i] > .5:\n",
        "            solution.append([name] + [(maxprobs.indices[i].item()-1)%5]+\n",
        "                 [maxprobs.values[i].item()] + \n",
        "                 [x.item() for x in b2b(outputs.pred_boxes[0, [i]].cpu()[0])])"
      ]
    },
    {
      "cell_type": "code",
      "execution_count": 58,
      "metadata": {
        "colab": {
          "base_uri": "https://localhost:8080/",
          "height": 423
        },
        "id": "V27ErXy4TsAA",
        "outputId": "90322cb0-0ccc-4f99-e972-8d3f1eb32c6b"
      },
      "outputs": [
        {
          "output_type": "execute_result",
          "data": {
            "text/plain": [
              "                         ImageID  LabelName      Conf      XMin      XMax  \\\n",
              "0     23-11-2021_05-38-07_PM.jpg          0  0.965053  0.105039  0.191237   \n",
              "1     23-11-2021_05-38-07_PM.jpg          3  0.970547  0.606138  0.628866   \n",
              "2     23-11-2021_05-38-07_PM.jpg          0  0.965056  0.320690  0.449562   \n",
              "3     23-11-2021_05-38-07_PM.jpg          0  0.815412  0.106339  0.193815   \n",
              "4     23-11-2021_05-38-07_PM.jpg          0  0.980741  0.265057  0.502824   \n",
              "...                          ...        ...       ...       ...       ...   \n",
              "7317  24-11-2021_05-11-47_AM.jpg          0  0.813723  0.202973  0.257187   \n",
              "7318  24-11-2021_05-11-47_AM.jpg          0  0.874657  0.448519  0.514668   \n",
              "7319  24-11-2021_05-11-47_AM.jpg          0  0.928922  0.533009  0.602260   \n",
              "7320  24-11-2021_05-11-47_AM.jpg          0  0.948398  0.266704  0.311609   \n",
              "7321  24-11-2021_05-11-47_AM.jpg          0  0.987652  0.537738  0.610028   \n",
              "\n",
              "          YMin      YMax  \n",
              "0     0.158907  0.231030  \n",
              "1     0.265035  0.390576  \n",
              "2     0.232706  0.306808  \n",
              "3     0.159658  0.228810  \n",
              "4     0.347597  0.522861  \n",
              "...        ...       ...  \n",
              "7317  0.162605  0.209344  \n",
              "7318  0.124720  0.187324  \n",
              "7319  0.141010  0.208264  \n",
              "7320  0.120722  0.164748  \n",
              "7321  0.140410  0.208767  \n",
              "\n",
              "[7322 rows x 7 columns]"
            ],
            "text/html": [
              "\n",
              "  <div id=\"df-0af0c755-a6ea-49f0-ae10-d8f551d1d9b7\">\n",
              "    <div class=\"colab-df-container\">\n",
              "      <div>\n",
              "<style scoped>\n",
              "    .dataframe tbody tr th:only-of-type {\n",
              "        vertical-align: middle;\n",
              "    }\n",
              "\n",
              "    .dataframe tbody tr th {\n",
              "        vertical-align: top;\n",
              "    }\n",
              "\n",
              "    .dataframe thead th {\n",
              "        text-align: right;\n",
              "    }\n",
              "</style>\n",
              "<table border=\"1\" class=\"dataframe\">\n",
              "  <thead>\n",
              "    <tr style=\"text-align: right;\">\n",
              "      <th></th>\n",
              "      <th>ImageID</th>\n",
              "      <th>LabelName</th>\n",
              "      <th>Conf</th>\n",
              "      <th>XMin</th>\n",
              "      <th>XMax</th>\n",
              "      <th>YMin</th>\n",
              "      <th>YMax</th>\n",
              "    </tr>\n",
              "  </thead>\n",
              "  <tbody>\n",
              "    <tr>\n",
              "      <th>0</th>\n",
              "      <td>23-11-2021_05-38-07_PM.jpg</td>\n",
              "      <td>0</td>\n",
              "      <td>0.965053</td>\n",
              "      <td>0.105039</td>\n",
              "      <td>0.191237</td>\n",
              "      <td>0.158907</td>\n",
              "      <td>0.231030</td>\n",
              "    </tr>\n",
              "    <tr>\n",
              "      <th>1</th>\n",
              "      <td>23-11-2021_05-38-07_PM.jpg</td>\n",
              "      <td>3</td>\n",
              "      <td>0.970547</td>\n",
              "      <td>0.606138</td>\n",
              "      <td>0.628866</td>\n",
              "      <td>0.265035</td>\n",
              "      <td>0.390576</td>\n",
              "    </tr>\n",
              "    <tr>\n",
              "      <th>2</th>\n",
              "      <td>23-11-2021_05-38-07_PM.jpg</td>\n",
              "      <td>0</td>\n",
              "      <td>0.965056</td>\n",
              "      <td>0.320690</td>\n",
              "      <td>0.449562</td>\n",
              "      <td>0.232706</td>\n",
              "      <td>0.306808</td>\n",
              "    </tr>\n",
              "    <tr>\n",
              "      <th>3</th>\n",
              "      <td>23-11-2021_05-38-07_PM.jpg</td>\n",
              "      <td>0</td>\n",
              "      <td>0.815412</td>\n",
              "      <td>0.106339</td>\n",
              "      <td>0.193815</td>\n",
              "      <td>0.159658</td>\n",
              "      <td>0.228810</td>\n",
              "    </tr>\n",
              "    <tr>\n",
              "      <th>4</th>\n",
              "      <td>23-11-2021_05-38-07_PM.jpg</td>\n",
              "      <td>0</td>\n",
              "      <td>0.980741</td>\n",
              "      <td>0.265057</td>\n",
              "      <td>0.502824</td>\n",
              "      <td>0.347597</td>\n",
              "      <td>0.522861</td>\n",
              "    </tr>\n",
              "    <tr>\n",
              "      <th>...</th>\n",
              "      <td>...</td>\n",
              "      <td>...</td>\n",
              "      <td>...</td>\n",
              "      <td>...</td>\n",
              "      <td>...</td>\n",
              "      <td>...</td>\n",
              "      <td>...</td>\n",
              "    </tr>\n",
              "    <tr>\n",
              "      <th>7317</th>\n",
              "      <td>24-11-2021_05-11-47_AM.jpg</td>\n",
              "      <td>0</td>\n",
              "      <td>0.813723</td>\n",
              "      <td>0.202973</td>\n",
              "      <td>0.257187</td>\n",
              "      <td>0.162605</td>\n",
              "      <td>0.209344</td>\n",
              "    </tr>\n",
              "    <tr>\n",
              "      <th>7318</th>\n",
              "      <td>24-11-2021_05-11-47_AM.jpg</td>\n",
              "      <td>0</td>\n",
              "      <td>0.874657</td>\n",
              "      <td>0.448519</td>\n",
              "      <td>0.514668</td>\n",
              "      <td>0.124720</td>\n",
              "      <td>0.187324</td>\n",
              "    </tr>\n",
              "    <tr>\n",
              "      <th>7319</th>\n",
              "      <td>24-11-2021_05-11-47_AM.jpg</td>\n",
              "      <td>0</td>\n",
              "      <td>0.928922</td>\n",
              "      <td>0.533009</td>\n",
              "      <td>0.602260</td>\n",
              "      <td>0.141010</td>\n",
              "      <td>0.208264</td>\n",
              "    </tr>\n",
              "    <tr>\n",
              "      <th>7320</th>\n",
              "      <td>24-11-2021_05-11-47_AM.jpg</td>\n",
              "      <td>0</td>\n",
              "      <td>0.948398</td>\n",
              "      <td>0.266704</td>\n",
              "      <td>0.311609</td>\n",
              "      <td>0.120722</td>\n",
              "      <td>0.164748</td>\n",
              "    </tr>\n",
              "    <tr>\n",
              "      <th>7321</th>\n",
              "      <td>24-11-2021_05-11-47_AM.jpg</td>\n",
              "      <td>0</td>\n",
              "      <td>0.987652</td>\n",
              "      <td>0.537738</td>\n",
              "      <td>0.610028</td>\n",
              "      <td>0.140410</td>\n",
              "      <td>0.208767</td>\n",
              "    </tr>\n",
              "  </tbody>\n",
              "</table>\n",
              "<p>7322 rows × 7 columns</p>\n",
              "</div>\n",
              "      <button class=\"colab-df-convert\" onclick=\"convertToInteractive('df-0af0c755-a6ea-49f0-ae10-d8f551d1d9b7')\"\n",
              "              title=\"Convert this dataframe to an interactive table.\"\n",
              "              style=\"display:none;\">\n",
              "        \n",
              "  <svg xmlns=\"http://www.w3.org/2000/svg\" height=\"24px\"viewBox=\"0 0 24 24\"\n",
              "       width=\"24px\">\n",
              "    <path d=\"M0 0h24v24H0V0z\" fill=\"none\"/>\n",
              "    <path d=\"M18.56 5.44l.94 2.06.94-2.06 2.06-.94-2.06-.94-.94-2.06-.94 2.06-2.06.94zm-11 1L8.5 8.5l.94-2.06 2.06-.94-2.06-.94L8.5 2.5l-.94 2.06-2.06.94zm10 10l.94 2.06.94-2.06 2.06-.94-2.06-.94-.94-2.06-.94 2.06-2.06.94z\"/><path d=\"M17.41 7.96l-1.37-1.37c-.4-.4-.92-.59-1.43-.59-.52 0-1.04.2-1.43.59L10.3 9.45l-7.72 7.72c-.78.78-.78 2.05 0 2.83L4 21.41c.39.39.9.59 1.41.59.51 0 1.02-.2 1.41-.59l7.78-7.78 2.81-2.81c.8-.78.8-2.07 0-2.86zM5.41 20L4 18.59l7.72-7.72 1.47 1.35L5.41 20z\"/>\n",
              "  </svg>\n",
              "      </button>\n",
              "      \n",
              "  <style>\n",
              "    .colab-df-container {\n",
              "      display:flex;\n",
              "      flex-wrap:wrap;\n",
              "      gap: 12px;\n",
              "    }\n",
              "\n",
              "    .colab-df-convert {\n",
              "      background-color: #E8F0FE;\n",
              "      border: none;\n",
              "      border-radius: 50%;\n",
              "      cursor: pointer;\n",
              "      display: none;\n",
              "      fill: #1967D2;\n",
              "      height: 32px;\n",
              "      padding: 0 0 0 0;\n",
              "      width: 32px;\n",
              "    }\n",
              "\n",
              "    .colab-df-convert:hover {\n",
              "      background-color: #E2EBFA;\n",
              "      box-shadow: 0px 1px 2px rgba(60, 64, 67, 0.3), 0px 1px 3px 1px rgba(60, 64, 67, 0.15);\n",
              "      fill: #174EA6;\n",
              "    }\n",
              "\n",
              "    [theme=dark] .colab-df-convert {\n",
              "      background-color: #3B4455;\n",
              "      fill: #D2E3FC;\n",
              "    }\n",
              "\n",
              "    [theme=dark] .colab-df-convert:hover {\n",
              "      background-color: #434B5C;\n",
              "      box-shadow: 0px 1px 3px 1px rgba(0, 0, 0, 0.15);\n",
              "      filter: drop-shadow(0px 1px 2px rgba(0, 0, 0, 0.3));\n",
              "      fill: #FFFFFF;\n",
              "    }\n",
              "  </style>\n",
              "\n",
              "      <script>\n",
              "        const buttonEl =\n",
              "          document.querySelector('#df-0af0c755-a6ea-49f0-ae10-d8f551d1d9b7 button.colab-df-convert');\n",
              "        buttonEl.style.display =\n",
              "          google.colab.kernel.accessAllowed ? 'block' : 'none';\n",
              "\n",
              "        async function convertToInteractive(key) {\n",
              "          const element = document.querySelector('#df-0af0c755-a6ea-49f0-ae10-d8f551d1d9b7');\n",
              "          const dataTable =\n",
              "            await google.colab.kernel.invokeFunction('convertToInteractive',\n",
              "                                                     [key], {});\n",
              "          if (!dataTable) return;\n",
              "\n",
              "          const docLinkHtml = 'Like what you see? Visit the ' +\n",
              "            '<a target=\"_blank\" href=https://colab.research.google.com/notebooks/data_table.ipynb>data table notebook</a>'\n",
              "            + ' to learn more about interactive tables.';\n",
              "          element.innerHTML = '';\n",
              "          dataTable['output_type'] = 'display_data';\n",
              "          await google.colab.output.renderOutput(dataTable, element);\n",
              "          const docLink = document.createElement('div');\n",
              "          docLink.innerHTML = docLinkHtml;\n",
              "          element.appendChild(docLink);\n",
              "        }\n",
              "      </script>\n",
              "    </div>\n",
              "  </div>\n",
              "  "
            ]
          },
          "metadata": {},
          "execution_count": 58
        }
      ],
      "source": [
        "simple_solution = DataFrame(solution, \n",
        "               columns=['ImageID', 'LabelName', 'Conf', 'XMin', 'XMax', 'YMin', 'YMax'])\n",
        "simple_solution[['XMin','XMax','YMin','YMax']\n",
        "             ] = simple_solution[['XMin','XMax','YMin','YMax']].clip(0,1)\n",
        "simple_solution"
      ]
    },
    {
      "cell_type": "code",
      "execution_count": 60,
      "metadata": {
        "id": "s64unJjhTsAB"
      },
      "outputs": [],
      "source": [
        "test_labels.to_csv('val.csv', index=False, sep=';')"
      ]
    },
    {
      "cell_type": "code",
      "source": [
        "!pip install map_boxes"
      ],
      "metadata": {
        "colab": {
          "base_uri": "https://localhost:8080/"
        },
        "id": "udpxNvqB5jBL",
        "outputId": "71ecff9f-0973-42a6-c78a-33223e93e4b8"
      },
      "execution_count": 62,
      "outputs": [
        {
          "output_type": "stream",
          "name": "stdout",
          "text": [
            "Looking in indexes: https://pypi.org/simple, https://us-python.pkg.dev/colab-wheels/public/simple/\n",
            "Collecting map_boxes\n",
            "  Downloading map_boxes-1.0.5-py3-none-any.whl (5.1 kB)\n",
            "Requirement already satisfied: numpy in /usr/local/lib/python3.7/dist-packages (from map_boxes) (1.21.6)\n",
            "Requirement already satisfied: pandas in /usr/local/lib/python3.7/dist-packages (from map_boxes) (1.3.5)\n",
            "Requirement already satisfied: pytz>=2017.3 in /usr/local/lib/python3.7/dist-packages (from pandas->map_boxes) (2022.1)\n",
            "Requirement already satisfied: python-dateutil>=2.7.3 in /usr/local/lib/python3.7/dist-packages (from pandas->map_boxes) (2.8.2)\n",
            "Requirement already satisfied: six>=1.5 in /usr/local/lib/python3.7/dist-packages (from python-dateutil>=2.7.3->pandas->map_boxes) (1.15.0)\n",
            "Installing collected packages: map-boxes\n",
            "Successfully installed map-boxes-1.0.5\n"
          ]
        }
      ]
    },
    {
      "cell_type": "code",
      "execution_count": 63,
      "metadata": {
        "colab": {
          "base_uri": "https://localhost:8080/"
        },
        "id": "ls_j4GWdTsAC",
        "outputId": "05bdcc5f-3d22-4f46-d3f3-3682b835cacd"
      },
      "outputs": [
        {
          "output_type": "stream",
          "name": "stderr",
          "text": [
            "/usr/local/lib/python3.7/dist-packages/Cython/Compiler/Main.py:369: FutureWarning: Cython directive 'language_level' not set, using 2 for now (Py2). This will change in a later release! File: /usr/local/lib/python3.7/dist-packages/map_boxes/compute_overlap.pyx\n",
            "  tree = Parsing.p_module(s, pxd, full_module_name)\n"
          ]
        },
        {
          "output_type": "execute_result",
          "data": {
            "text/plain": [
              "(0.20968040207377023,\n",
              " {'0': (0.7110145197895248, 2516.0),\n",
              "  '1': (0.008162134199444218, 640.0),\n",
              "  '2': (0.0, 117.0),\n",
              "  '3': (0.3292253563798821, 644.0),\n",
              "  '4': (0.0, 51.0)})"
            ]
          },
          "metadata": {},
          "execution_count": 63
        }
      ],
      "source": [
        "from map_boxes import mean_average_precision_for_boxes\n",
        "mean_ap, average_precisions = mean_average_precision_for_boxes(test_labels, \n",
        "                                                               simple_solution, \n",
        "                                                               iou_threshold=0.5, \n",
        "                                                               verbose=False)\n",
        "mean_ap, average_precisions"
      ]
    },
    {
      "cell_type": "markdown",
      "metadata": {
        "id": "oJcnpXzoTsAD"
      },
      "source": [
        "Формирование данных для тестирования"
      ]
    },
    {
      "cell_type": "code",
      "execution_count": 64,
      "metadata": {
        "colab": {
          "base_uri": "https://localhost:8080/"
        },
        "id": "4zGkDOJuTsAE",
        "outputId": "e9b48c28-3284-41db-8982-61ddc1221c4a"
      },
      "outputs": [
        {
          "output_type": "stream",
          "name": "stdout",
          "text": [
            "--2022-08-14 15:10:02--  https://lodmedia.hb.bizmrg.com/case_files/789899/test_dataset_test.zip\n",
            "Resolving lodmedia.hb.bizmrg.com (lodmedia.hb.bizmrg.com)... 217.69.142.100\n",
            "Connecting to lodmedia.hb.bizmrg.com (lodmedia.hb.bizmrg.com)|217.69.142.100|:443... connected.\n",
            "HTTP request sent, awaiting response... 200 OK\n",
            "Length: 455731722 (435M) [application/zip]\n",
            "Saving to: ‘test_dataset_test.zip’\n",
            "\n",
            "test_dataset_test.z 100%[===================>] 434.62M  16.5MB/s    in 89s     \n",
            "\n",
            "2022-08-14 15:11:32 (4.88 MB/s) - ‘test_dataset_test.zip’ saved [455731722/455731722]\n",
            "\n",
            "Archive:  test_dataset_test.zip\n",
            "   creating: test/\n",
            "   creating: test/images/\n",
            "  inflating: test/images/0_23-11-2021_02-18-50_PM.jpg  \n",
            "  inflating: test/images/0_23-11-2021_02-18-56_PM.jpg  \n",
            "  inflating: test/images/0_23-11-2021_02-19-19_PM.jpg  \n",
            "  inflating: test/images/0_23-11-2021_02-20-47_PM.jpg  \n",
            "  inflating: test/images/0_23-11-2021_02-37-47_PM.jpg  \n",
            "  inflating: test/images/0_23-11-2021_02-38-40_PM.jpg  \n",
            "  inflating: test/images/0_23-11-2021_02-38-46_PM.jpg  \n",
            "  inflating: test/images/0_23-11-2021_02-56-42_PM.jpg  \n",
            "  inflating: test/images/0_23-11-2021_04-41-35_PM.jpg  \n",
            "  inflating: test/images/0_23-11-2021_05-55-18_PM.jpg  \n",
            "  inflating: test/images/0_23-11-2021_09-28-25_PM.jpg  \n",
            "  inflating: test/images/0_24-11-2021_01-12-29_PM.jpg  \n",
            "  inflating: test/images/0_24-11-2021_01-48-11_PM.jpg  \n",
            "  inflating: test/images/0_24-11-2021_01-49-25_PM.jpg  \n",
            "  inflating: test/images/0_24-11-2021_02-41-59_PM.jpg  \n",
            "  inflating: test/images/0_24-11-2021_03-37-33_PM.jpg  \n",
            "  inflating: test/images/0_24-11-2021_03-54-02_PM.jpg  \n",
            "  inflating: test/images/0_24-11-2021_03-59-43_AM.jpg  \n",
            "  inflating: test/images/0_24-11-2021_04-01-33_AM.jpg  \n",
            "  inflating: test/images/0_24-11-2021_04-11-58_PM.jpg  \n",
            "  inflating: test/images/0_24-11-2021_04-13-05_PM.jpg  \n",
            "  inflating: test/images/0_24-11-2021_04-17-46_AM.jpg  \n",
            "  inflating: test/images/0_24-11-2021_04-37-41_AM.jpg  \n",
            "  inflating: test/images/0_24-11-2021_05-12-35_AM.jpg  \n",
            "  inflating: test/images/0_24-11-2021_05-13-22_AM.jpg  \n",
            "  inflating: test/images/0_24-11-2021_05-47-57_AM.jpg  \n",
            "  inflating: test/images/0_24-11-2021_05-49-06_AM.jpg  \n",
            "  inflating: test/images/0_24-11-2021_06-23-16_AM.jpg  \n",
            "  inflating: test/images/0_24-11-2021_06-24-14_AM.jpg  \n",
            "  inflating: test/images/0_24-11-2021_06-24-44_AM.jpg  \n",
            "  inflating: test/images/0_24-11-2021_07-28-12_PM.jpg  \n",
            "  inflating: test/images/0_24-11-2021_07-36-02_AM.jpg  \n",
            "  inflating: test/images/0_24-11-2021_08-03-20_PM.jpg  \n",
            "  inflating: test/images/0_24-11-2021_09-03-16_AM.jpg  \n",
            "  inflating: test/images/0_24-11-2021_09-05-07_AM.jpg  \n",
            "  inflating: test/images/0_24-11-2021_09-13-14_PM.jpg  \n",
            "  inflating: test/images/0_24-11-2021_09-38-58_AM.jpg  \n",
            "  inflating: test/images/0_24-11-2021_11-07-32_AM.jpg  \n",
            "  inflating: test/images/0_24-11-2021_12-36-58_PM.jpg  \n",
            "  inflating: test/images/0_24-11-2021_12-39-25_PM.jpg  \n",
            "  inflating: test/images/0_25-11-2021_01-05-14_AM.jpg  \n",
            "  inflating: test/images/0_25-11-2021_01-37-39_PM.jpg  \n",
            "  inflating: test/images/0_25-11-2021_01-59-46_AM.jpg  \n",
            "  inflating: test/images/0_25-11-2021_02-13-34_PM.jpg  \n",
            "  inflating: test/images/0_25-11-2021_02-14-43_PM.jpg  \n",
            "  inflating: test/images/0_25-11-2021_02-35-15_AM.jpg  \n",
            "  inflating: test/images/0_25-11-2021_03-41-21_PM.jpg  \n",
            "  inflating: test/images/0_25-11-2021_04-21-55_AM.jpg  \n",
            "  inflating: test/images/0_25-11-2021_04-57-20_AM.jpg  \n",
            "  inflating: test/images/0_25-11-2021_05-34-46_AM.jpg  \n",
            "  inflating: test/images/0_25-11-2021_07-04-34_AM.jpg  \n",
            "  inflating: test/images/0_25-11-2021_07-58-20_AM.jpg  \n",
            "  inflating: test/images/0_25-11-2021_08-09-32_PM.jpg  \n",
            "  inflating: test/images/0_25-11-2021_08-34-03_AM.jpg  \n",
            "  inflating: test/images/0_25-11-2021_08-50-08_AM.jpg  \n",
            "  inflating: test/images/0_25-11-2021_09-27-14_AM.jpg  \n",
            "  inflating: test/images/0_25-11-2021_09-46-26_AM.jpg  \n",
            "  inflating: test/images/0_25-11-2021_10-03-07_AM.jpg  \n",
            "  inflating: test/images/0_25-11-2021_10-03-50_AM.jpg  \n",
            "  inflating: test/images/0_25-11-2021_10-55-30_AM.jpg  \n",
            "  inflating: test/images/0_25-11-2021_11-14-06_AM.jpg  \n",
            "  inflating: test/images/0_26-11-2021_02-25-08_AM.jpg  \n",
            "  inflating: test/images/0_26-11-2021_03-53-12_AM.jpg  \n",
            "  inflating: test/images/0_26-11-2021_04-10-55_AM.jpg  \n",
            "  inflating: test/images/0_26-11-2021_04-11-19_AM.jpg  \n",
            "  inflating: test/images/0_26-11-2021_07-30-00_AM.jpg  \n",
            "  inflating: test/images/0_26-11-2021_08-05-48_AM.jpg  \n",
            "  inflating: test/images/0_26-11-2021_08-39-44_AM.jpg  \n",
            "  inflating: test/images/0_26-11-2021_08-40-42_AM.jpg  \n",
            "  inflating: test/images/0_26-11-2021_08-41-30_AM.jpg  \n",
            "  inflating: test/images/0_26-11-2021_08-57-34_AM.jpg  \n",
            "  inflating: test/images/0_26-11-2021_09-35-12_AM.jpg  \n",
            "  inflating: test/images/0_26-11-2021_10-11-18_AM.jpg  \n",
            "  inflating: test/images/0_26-11-2021_10-27-24_AM.jpg  \n",
            "  inflating: test/images/0_26-11-2021_10-27-56_AM.jpg  \n",
            "  inflating: test/images/0_26-11-2021_10-29-56_AM.jpg  \n",
            "  inflating: test/images/0_26-11-2021_11-40-27_AM.jpg  \n",
            "  inflating: test/images/0_26-11-2021_12-02-25_PM.jpg  \n",
            "  inflating: test/images/0_26-11-2021_12-55-52_AM.jpg  \n",
            "  inflating: test/images/1_23-11-2021_02-18-50_PM.jpg  \n",
            "  inflating: test/images/1_23-11-2021_02-20-07_PM.jpg  \n",
            "  inflating: test/images/1_23-11-2021_02-20-15_PM.jpg  \n",
            "  inflating: test/images/1_23-11-2021_02-36-38_PM.jpg  \n",
            "  inflating: test/images/1_23-11-2021_03-13-26_PM.jpg  \n",
            "  inflating: test/images/1_24-11-2021_01-13-44_PM.jpg  \n",
            "  inflating: test/images/1_24-11-2021_05-29-11_AM.jpg  \n",
            "  inflating: test/images/1_24-11-2021_09-05-00_AM.jpg  \n",
            "  inflating: test/images/1_24-11-2021_09-22-55_AM.jpg  \n",
            "  inflating: test/images/1_24-11-2021_10-14-52_AM.jpg  \n",
            "  inflating: test/images/1_24-11-2021_10-52-02_AM.jpg  \n",
            "  inflating: test/images/1_24-11-2021_11-26-05_AM.jpg  \n",
            "  inflating: test/images/1_24-11-2021_12-01-44_PM.jpg  \n",
            "  inflating: test/images/1_25-11-2021_09-45-52_AM.jpg  \n",
            "  inflating: test/images/1_25-11-2021_10-02-59_AM.jpg  \n",
            "  inflating: test/images/1_26-11-2021_04-10-55_AM.jpg  \n",
            "  inflating: test/images/1_26-11-2021_06-00-09_AM.jpg  \n",
            "  inflating: test/images/1_26-11-2021_07-12-06_AM.jpg  \n",
            "  inflating: test/images/1_26-11-2021_07-47-11_AM.jpg  \n",
            "  inflating: test/images/1_26-11-2021_08-05-07_AM.jpg  \n",
            "  inflating: test/images/1_26-11-2021_10-10-33_AM.jpg  \n",
            "  inflating: test/images/1_26-11-2021_10-29-56_AM.jpg  \n",
            "  inflating: test/images/1_26-11-2021_12-02-25_PM.jpg  \n",
            "  inflating: test/images/23-11-2021_02-18-50_PM.jpg  \n",
            "  inflating: test/images/23-11-2021_02-18-58_PM.jpg  \n",
            "  inflating: test/images/23-11-2021_02-19-04_PM.jpg  \n",
            "  inflating: test/images/23-11-2021_02-19-26_PM.jpg  \n",
            "  inflating: test/images/23-11-2021_02-19-42_PM.jpg  \n",
            "  inflating: test/images/23-11-2021_02-20-25_PM.jpg  \n",
            "  inflating: test/images/23-11-2021_02-21-03_PM.jpg  \n",
            "  inflating: test/images/23-11-2021_02-21-18_PM.jpg  \n",
            "  inflating: test/images/23-11-2021_02-36-28_PM.jpg  \n",
            "  inflating: test/images/23-11-2021_02-37-17_PM.jpg  \n",
            "  inflating: test/images/23-11-2021_02-37-22_PM.jpg  \n",
            "  inflating: test/images/23-11-2021_02-37-31_PM.jpg  \n",
            "  inflating: test/images/23-11-2021_02-37-35_PM.jpg  \n",
            "  inflating: test/images/23-11-2021_02-37-57_PM.jpg  \n",
            "  inflating: test/images/23-11-2021_02-38-55_PM.jpg  \n",
            "  inflating: test/images/23-11-2021_02-39-07_PM.jpg  \n",
            "  inflating: test/images/23-11-2021_02-54-50_PM.jpg  \n",
            "  inflating: test/images/23-11-2021_02-55-09_PM.jpg  \n",
            "  inflating: test/images/23-11-2021_02-55-30_PM.jpg  \n",
            "  inflating: test/images/23-11-2021_02-55-37_PM.jpg  \n",
            "  inflating: test/images/23-11-2021_02-55-45_PM.jpg  \n",
            "  inflating: test/images/23-11-2021_02-56-00_PM.jpg  \n",
            "  inflating: test/images/23-11-2021_02-56-08_PM.jpg  \n",
            "  inflating: test/images/23-11-2021_02-56-18_PM.jpg  \n",
            "  inflating: test/images/23-11-2021_02-56-22_PM.jpg  \n",
            "  inflating: test/images/23-11-2021_03-13-04_PM.jpg  \n",
            "  inflating: test/images/23-11-2021_03-13-29_PM.jpg  \n",
            "  inflating: test/images/23-11-2021_03-14-00_PM.jpg  \n",
            "  inflating: test/images/23-11-2021_03-14-04_PM.jpg  \n",
            "  inflating: test/images/23-11-2021_03-14-11_PM.jpg  \n",
            "  inflating: test/images/23-11-2021_03-14-14_PM.jpg  \n",
            "  inflating: test/images/23-11-2021_03-14-55_PM.jpg  \n",
            "  inflating: test/images/23-11-2021_03-30-56_PM.jpg  \n",
            "  inflating: test/images/23-11-2021_03-31-12_PM.jpg  \n",
            "  inflating: test/images/23-11-2021_03-31-18_PM.jpg  \n",
            "  inflating: test/images/23-11-2021_03-31-33_PM.jpg  \n",
            "  inflating: test/images/23-11-2021_03-32-16_PM.jpg  \n",
            "  inflating: test/images/23-11-2021_03-48-47_PM.jpg  \n",
            "  inflating: test/images/23-11-2021_03-48-49_PM.jpg  \n",
            "  inflating: test/images/23-11-2021_03-49-06_PM.jpg  \n",
            "  inflating: test/images/23-11-2021_03-49-17_PM.jpg  \n",
            "  inflating: test/images/23-11-2021_04-06-35_PM.jpg  \n",
            "  inflating: test/images/23-11-2021_04-07-09_PM.jpg  \n",
            "  inflating: test/images/23-11-2021_04-08-00_PM.jpg  \n",
            "  inflating: test/images/23-11-2021_04-08-28_PM.jpg  \n",
            "  inflating: test/images/23-11-2021_04-24-45_PM.jpg  \n",
            "  inflating: test/images/23-11-2021_04-25-02_PM.jpg  \n",
            "  inflating: test/images/23-11-2021_04-25-41_PM.jpg  \n",
            "  inflating: test/images/23-11-2021_04-25-46_PM.jpg  \n",
            "  inflating: test/images/23-11-2021_04-41-35_PM.jpg  \n",
            "  inflating: test/images/23-11-2021_04-41-57_PM.jpg  \n",
            "  inflating: test/images/23-11-2021_04-42-07_PM.jpg  \n",
            "  inflating: test/images/23-11-2021_04-43-13_PM.jpg  \n",
            "  inflating: test/images/23-11-2021_04-44-12_PM.jpg  \n",
            "  inflating: test/images/23-11-2021_04-59-17_PM.jpg  \n",
            "  inflating: test/images/23-11-2021_04-59-47_PM.jpg  \n",
            "  inflating: test/images/23-11-2021_04-59-58_PM.jpg  \n",
            "  inflating: test/images/23-11-2021_05-00-14_PM.jpg  \n",
            "  inflating: test/images/23-11-2021_05-01-08_PM.jpg  \n",
            "  inflating: test/images/23-11-2021_05-01-36_PM.jpg  \n",
            "  inflating: test/images/23-11-2021_05-01-38_PM.jpg  \n",
            "  inflating: test/images/23-11-2021_05-02-13_PM.jpg  \n",
            "  inflating: test/images/23-11-2021_05-02-16_PM.jpg  \n",
            "  inflating: test/images/23-11-2021_05-18-06_PM.jpg  \n",
            "  inflating: test/images/23-11-2021_05-18-46_PM.jpg  \n",
            "  inflating: test/images/23-11-2021_05-19-24_PM.jpg  \n",
            "  inflating: test/images/23-11-2021_05-35-51_PM.jpg  \n",
            "  inflating: test/images/23-11-2021_05-36-00_PM.jpg  \n",
            "  inflating: test/images/23-11-2021_05-36-22_PM.jpg  \n",
            "  inflating: test/images/23-11-2021_05-37-26_PM.jpg  \n",
            "  inflating: test/images/23-11-2021_05-38-10_PM.jpg  \n",
            "  inflating: test/images/23-11-2021_05-55-09_PM.jpg  \n",
            "  inflating: test/images/23-11-2021_05-55-34_PM.jpg  \n",
            "  inflating: test/images/23-11-2021_06-11-21_PM.jpg  \n",
            "  inflating: test/images/23-11-2021_06-12-42_PM.jpg  \n",
            "  inflating: test/images/23-11-2021_06-13-11_PM.jpg  \n",
            "  inflating: test/images/23-11-2021_06-30-27_PM.jpg  \n",
            "  inflating: test/images/23-11-2021_06-30-30_PM.jpg  \n",
            "  inflating: test/images/23-11-2021_06-30-48_PM.jpg  \n",
            "  inflating: test/images/23-11-2021_06-31-22_PM.jpg  \n",
            "  inflating: test/images/23-11-2021_06-31-42_PM.jpg  \n",
            "  inflating: test/images/23-11-2021_06-46-48_PM.jpg  \n",
            "  inflating: test/images/23-11-2021_06-47-17_PM.jpg  \n",
            "  inflating: test/images/23-11-2021_06-49-15_PM.jpg  \n",
            "  inflating: test/images/23-11-2021_07-05-28_PM.jpg  \n",
            "  inflating: test/images/23-11-2021_07-06-01_PM.jpg  \n",
            "  inflating: test/images/23-11-2021_07-07-01_PM.jpg  \n",
            "  inflating: test/images/23-11-2021_07-41-17_PM.jpg  \n",
            "  inflating: test/images/23-11-2021_07-42-13_PM.jpg  \n",
            "  inflating: test/images/23-11-2021_08-36-04_PM.jpg  \n",
            "  inflating: test/images/23-11-2021_08-36-15_PM.jpg  \n",
            "  inflating: test/images/23-11-2021_10-40-20_PM.jpg  \n",
            "  inflating: test/images/24-11-2021_01-12-19_PM.jpg  \n",
            "  inflating: test/images/24-11-2021_01-13-29_PM.jpg  \n",
            "  inflating: test/images/24-11-2021_01-13-32_PM.jpg  \n",
            "  inflating: test/images/24-11-2021_01-30-40_PM.jpg  \n",
            "  inflating: test/images/24-11-2021_01-31-00_PM.jpg  \n",
            "  inflating: test/images/24-11-2021_01-31-29_PM.jpg  \n",
            "  inflating: test/images/24-11-2021_01-31-36_PM.jpg  \n",
            "  inflating: test/images/24-11-2021_01-31-40_PM.jpg  \n",
            "  inflating: test/images/24-11-2021_01-32-05_PM.jpg  \n",
            "  inflating: test/images/24-11-2021_01-32-29_PM.jpg  \n",
            "  inflating: test/images/24-11-2021_01-32-37_PM.jpg  \n",
            "  inflating: test/images/24-11-2021_01-36-38_AM.jpg  \n",
            "  inflating: test/images/24-11-2021_01-48-34_PM.jpg  \n",
            "  inflating: test/images/24-11-2021_01-48-58_PM.jpg  \n",
            "  inflating: test/images/24-11-2021_01-49-02_PM.jpg  \n",
            "  inflating: test/images/24-11-2021_01-49-10_PM.jpg  \n",
            "  inflating: test/images/24-11-2021_01-50-22_PM.jpg  \n",
            "  inflating: test/images/24-11-2021_01-50-29_PM.jpg  \n",
            "  inflating: test/images/24-11-2021_01-50-40_PM.jpg  \n",
            "  inflating: test/images/24-11-2021_01-55-37_AM.jpg  \n",
            "  inflating: test/images/24-11-2021_02-06-04_PM.jpg  \n",
            "  inflating: test/images/24-11-2021_02-06-37_PM.jpg  \n",
            "  inflating: test/images/24-11-2021_02-06-55_PM.jpg  \n",
            "  inflating: test/images/24-11-2021_02-24-52_PM.jpg  \n",
            "  inflating: test/images/24-11-2021_02-25-19_PM.jpg  \n",
            "  inflating: test/images/24-11-2021_02-25-31_PM.jpg  \n",
            "  inflating: test/images/24-11-2021_02-25-34_PM.jpg  \n",
            "  inflating: test/images/24-11-2021_02-25-41_PM.jpg  \n",
            "  inflating: test/images/24-11-2021_02-25-48_PM.jpg  \n",
            "  inflating: test/images/24-11-2021_02-31-10_AM.jpg  \n",
            "  inflating: test/images/24-11-2021_02-31-12_AM.jpg  \n",
            "  inflating: test/images/24-11-2021_02-32-58_AM.jpg  \n",
            "  inflating: test/images/24-11-2021_02-33-05_AM.jpg  \n",
            "  inflating: test/images/24-11-2021_02-42-12_PM.jpg  \n",
            "  inflating: test/images/24-11-2021_02-42-46_PM.jpg  \n",
            "  inflating: test/images/24-11-2021_02-42-57_PM.jpg  \n",
            "  inflating: test/images/24-11-2021_02-43-15_PM.jpg  \n",
            "  inflating: test/images/24-11-2021_02-43-19_PM.jpg  \n",
            "  inflating: test/images/24-11-2021_02-43-32_PM.jpg  \n",
            "  inflating: test/images/24-11-2021_02-59-58_PM.jpg  \n",
            "  inflating: test/images/24-11-2021_03-00-04_PM.jpg  \n",
            "  inflating: test/images/24-11-2021_03-00-12_PM.jpg  \n",
            "  inflating: test/images/24-11-2021_03-00-18_PM.jpg  \n",
            "  inflating: test/images/24-11-2021_03-01-14_PM.jpg  \n",
            "  inflating: test/images/24-11-2021_03-01-26_PM.jpg  \n",
            "  inflating: test/images/24-11-2021_03-06-50_AM.jpg  \n",
            "  inflating: test/images/24-11-2021_03-07-29_AM.jpg  \n",
            "  inflating: test/images/24-11-2021_03-08-07_AM.jpg  \n",
            "  inflating: test/images/24-11-2021_03-17-45_PM.jpg  \n",
            "  inflating: test/images/24-11-2021_03-17-57_PM.jpg  \n",
            "  inflating: test/images/24-11-2021_03-18-11_PM.jpg  \n",
            "  inflating: test/images/24-11-2021_03-18-14_PM.jpg  \n",
            "  inflating: test/images/24-11-2021_03-19-10_PM.jpg  \n",
            "  inflating: test/images/24-11-2021_03-19-29_PM.jpg  \n",
            "  inflating: test/images/24-11-2021_03-24-50_AM.jpg  \n",
            "  inflating: test/images/24-11-2021_03-25-13_AM.jpg  \n",
            "  inflating: test/images/24-11-2021_03-35-58_PM.jpg  \n",
            "  inflating: test/images/24-11-2021_03-36-03_PM.jpg  \n",
            "  inflating: test/images/24-11-2021_03-36-34_PM.jpg  \n",
            "  inflating: test/images/24-11-2021_03-36-53_PM.jpg  \n",
            "  inflating: test/images/24-11-2021_03-37-19_PM.jpg  \n",
            "  inflating: test/images/24-11-2021_03-42-06_AM.jpg  \n",
            "  inflating: test/images/24-11-2021_03-42-56_AM.jpg  \n",
            "  inflating: test/images/24-11-2021_03-43-35_AM.jpg  \n",
            "  inflating: test/images/24-11-2021_03-53-30_PM.jpg  \n",
            "  inflating: test/images/24-11-2021_03-53-49_PM.jpg  \n",
            "  inflating: test/images/24-11-2021_03-59-48_AM.jpg  \n",
            "  inflating: test/images/24-11-2021_03-59-54_AM.jpg  \n",
            "  inflating: test/images/24-11-2021_04-00-06_AM.jpg  \n",
            "  inflating: test/images/24-11-2021_04-01-33_AM.jpg  \n",
            "  inflating: test/images/24-11-2021_04-01-50_AM.jpg  \n",
            "  inflating: test/images/24-11-2021_04-11-15_PM.jpg  \n",
            "  inflating: test/images/24-11-2021_04-11-29_PM.jpg  \n",
            "  inflating: test/images/24-11-2021_04-12-21_PM.jpg  \n",
            "  inflating: test/images/24-11-2021_04-17-33_AM.jpg  \n",
            "  inflating: test/images/24-11-2021_04-18-00_AM.jpg  \n",
            "  inflating: test/images/24-11-2021_04-18-41_AM.jpg  \n",
            "  inflating: test/images/24-11-2021_04-18-45_AM.jpg  \n",
            "  inflating: test/images/24-11-2021_04-29-01_PM.jpg  \n",
            "  inflating: test/images/24-11-2021_04-30-20_PM.jpg  \n",
            "  inflating: test/images/24-11-2021_04-36-03_AM.jpg  \n",
            "  inflating: test/images/24-11-2021_04-36-17_AM.jpg  \n",
            "  inflating: test/images/24-11-2021_04-37-21_AM.jpg  \n",
            "  inflating: test/images/24-11-2021_04-37-55_AM.jpg  \n",
            "  inflating: test/images/24-11-2021_04-47-04_PM.jpg  \n",
            "  inflating: test/images/24-11-2021_04-47-07_PM.jpg  \n",
            "  inflating: test/images/24-11-2021_04-47-47_PM.jpg  \n",
            "  inflating: test/images/24-11-2021_04-47-57_PM.jpg  \n",
            "  inflating: test/images/24-11-2021_04-48-35_PM.jpg  \n",
            "  inflating: test/images/24-11-2021_04-53-50_AM.jpg  \n",
            "  inflating: test/images/24-11-2021_04-54-59_AM.jpg  \n",
            "  inflating: test/images/24-11-2021_04-55-09_AM.jpg  \n",
            "  inflating: test/images/24-11-2021_05-04-31_PM.jpg  \n",
            "  inflating: test/images/24-11-2021_05-05-31_PM.jpg  \n",
            "  inflating: test/images/24-11-2021_05-05-56_PM.jpg  \n",
            "  inflating: test/images/24-11-2021_05-11-59_AM.jpg  \n",
            "  inflating: test/images/24-11-2021_05-12-32_AM.jpg  \n",
            "  inflating: test/images/24-11-2021_05-12-53_AM.jpg  \n",
            "  inflating: test/images/24-11-2021_05-13-11_AM.jpg  \n",
            "  inflating: test/images/24-11-2021_05-13-28_AM.jpg  \n",
            "  inflating: test/images/24-11-2021_05-13-30_AM.jpg  \n",
            "  inflating: test/images/24-11-2021_05-13-37_AM.jpg  \n",
            "  inflating: test/images/24-11-2021_05-23-26_PM.jpg  \n",
            "  inflating: test/images/24-11-2021_05-23-52_PM.jpg  \n",
            "  inflating: test/images/24-11-2021_05-29-16_AM.jpg  \n",
            "  inflating: test/images/24-11-2021_05-29-26_AM.jpg  \n",
            "  inflating: test/images/24-11-2021_05-29-37_AM.jpg  \n",
            "  inflating: test/images/24-11-2021_05-29-48_AM.jpg  \n",
            "  inflating: test/images/24-11-2021_05-30-07_AM.jpg  \n",
            "  inflating: test/images/24-11-2021_05-30-44_AM.jpg  \n",
            "  inflating: test/images/24-11-2021_05-31-51_AM.jpg  \n",
            "  inflating: test/images/24-11-2021_05-40-07_PM.jpg  \n",
            "  inflating: test/images/24-11-2021_05-41-35_PM.jpg  \n",
            "  inflating: test/images/24-11-2021_05-47-57_AM.jpg  \n",
            "  inflating: test/images/24-11-2021_05-48-42_AM.jpg  \n",
            "  inflating: test/images/24-11-2021_05-49-04_AM.jpg  \n",
            "  inflating: test/images/24-11-2021_05-49-08_AM.jpg  \n",
            "  inflating: test/images/24-11-2021_05-49-23_AM.jpg  \n",
            "  inflating: test/images/24-11-2021_05-49-26_AM.jpg  \n",
            "  inflating: test/images/24-11-2021_05-58-10_PM.jpg  \n",
            "  inflating: test/images/24-11-2021_06-05-27_AM.jpg  \n",
            "  inflating: test/images/24-11-2021_06-07-14_AM.jpg  \n",
            "  inflating: test/images/24-11-2021_06-17-15_PM.jpg  \n",
            "  inflating: test/images/24-11-2021_06-22-45_AM.jpg  \n",
            "  inflating: test/images/24-11-2021_06-23-10_AM.jpg  \n",
            "  inflating: test/images/24-11-2021_06-23-20_AM.jpg  \n",
            "  inflating: test/images/24-11-2021_06-23-42_AM.jpg  \n",
            "  inflating: test/images/24-11-2021_06-23-47_AM.jpg  \n",
            "  inflating: test/images/24-11-2021_06-23-50_AM.jpg  \n",
            "  inflating: test/images/24-11-2021_06-23-57_AM.jpg  \n",
            "  inflating: test/images/24-11-2021_06-24-01_AM.jpg  \n",
            "  inflating: test/images/24-11-2021_06-24-34_AM.jpg  \n",
            "  inflating: test/images/24-11-2021_06-24-38_AM.jpg  \n",
            "  inflating: test/images/24-11-2021_06-33-29_PM.jpg  \n",
            "  inflating: test/images/24-11-2021_06-33-50_PM.jpg  \n",
            "  inflating: test/images/24-11-2021_06-34-48_PM.jpg  \n",
            "  inflating: test/images/24-11-2021_06-40-20_AM.jpg  \n",
            "  inflating: test/images/24-11-2021_06-40-49_AM.jpg  \n",
            "  inflating: test/images/24-11-2021_06-40-53_AM.jpg  \n",
            "  inflating: test/images/24-11-2021_06-41-22_AM.jpg  \n",
            "  inflating: test/images/24-11-2021_06-41-33_AM.jpg  \n",
            "  inflating: test/images/24-11-2021_06-42-04_AM.jpg  \n",
            "  inflating: test/images/24-11-2021_06-42-28_AM.jpg  \n",
            "  inflating: test/images/24-11-2021_06-42-34_AM.jpg  \n",
            "  inflating: test/images/24-11-2021_06-42-54_AM.jpg  \n",
            "  inflating: test/images/24-11-2021_06-51-15_PM.jpg  \n",
            "  inflating: test/images/24-11-2021_06-52-09_PM.jpg  \n",
            "  inflating: test/images/24-11-2021_06-52-44_PM.jpg  \n",
            "  inflating: test/images/24-11-2021_06-59-50_AM.jpg  \n",
            "  inflating: test/images/24-11-2021_07-00-00_AM.jpg  \n",
            "  inflating: test/images/24-11-2021_07-00-27_AM.jpg  \n",
            "  inflating: test/images/24-11-2021_07-00-36_AM.jpg  \n",
            "  inflating: test/images/24-11-2021_07-08-21_PM.jpg  \n",
            "  inflating: test/images/24-11-2021_07-09-00_PM.jpg  \n",
            "  inflating: test/images/24-11-2021_07-09-36_PM.jpg  \n",
            "  inflating: test/images/24-11-2021_07-16-42_AM.jpg  \n",
            "  inflating: test/images/24-11-2021_07-27-02_PM.jpg  \n",
            "  inflating: test/images/24-11-2021_07-28-24_PM.jpg  \n",
            "  inflating: test/images/24-11-2021_07-28-27_PM.jpg  \n",
            "  inflating: test/images/24-11-2021_07-34-12_AM.jpg  \n",
            "  inflating: test/images/24-11-2021_07-34-30_AM.jpg  \n",
            "  inflating: test/images/24-11-2021_07-34-38_AM.jpg  \n",
            "  inflating: test/images/24-11-2021_07-35-29_AM.jpg  \n",
            "  inflating: test/images/24-11-2021_07-36-02_AM.jpg  \n",
            "  inflating: test/images/24-11-2021_07-36-12_AM.jpg  \n",
            "  inflating: test/images/24-11-2021_07-51-37_AM.jpg  \n",
            "  inflating: test/images/24-11-2021_07-53-17_AM.jpg  \n",
            "  inflating: test/images/24-11-2021_07-53-46_AM.jpg  \n",
            "  inflating: test/images/24-11-2021_07-54-02_AM.jpg  \n",
            "  inflating: test/images/24-11-2021_08-28-09_AM.jpg  \n",
            "  inflating: test/images/24-11-2021_08-28-27_AM.jpg  \n",
            "  inflating: test/images/24-11-2021_08-29-00_AM.jpg  \n",
            "  inflating: test/images/24-11-2021_08-45-19_AM.jpg  \n",
            "  inflating: test/images/24-11-2021_08-45-55_AM.jpg  \n",
            "  inflating: test/images/24-11-2021_08-46-18_AM.jpg  \n",
            "  inflating: test/images/24-11-2021_08-46-23_AM.jpg  \n",
            "  inflating: test/images/24-11-2021_08-46-26_AM.jpg  \n",
            "  inflating: test/images/24-11-2021_09-02-55_AM.jpg  \n",
            "  inflating: test/images/24-11-2021_09-02-57_AM.jpg  \n",
            "  inflating: test/images/24-11-2021_09-03-42_AM.jpg  \n",
            "  inflating: test/images/24-11-2021_09-03-51_AM.jpg  \n",
            "  inflating: test/images/24-11-2021_09-03-54_AM.jpg  \n",
            "  inflating: test/images/24-11-2021_09-04-10_AM.jpg  \n",
            "  inflating: test/images/24-11-2021_09-04-43_AM.jpg  \n",
            "  inflating: test/images/24-11-2021_09-05-00_AM.jpg  \n",
            "  inflating: test/images/24-11-2021_09-05-17_AM.jpg  \n",
            "  inflating: test/images/24-11-2021_09-21-10_AM.jpg  \n",
            "  inflating: test/images/24-11-2021_09-21-25_AM.jpg  \n",
            "  inflating: test/images/24-11-2021_09-21-31_AM.jpg  \n",
            "  inflating: test/images/24-11-2021_09-21-53_AM.jpg  \n",
            "  inflating: test/images/24-11-2021_09-22-07_AM.jpg  \n",
            "  inflating: test/images/24-11-2021_09-22-20_AM.jpg  \n",
            "  inflating: test/images/24-11-2021_09-23-17_AM.jpg  \n",
            "  inflating: test/images/24-11-2021_09-33-08_PM.jpg  \n",
            "  inflating: test/images/24-11-2021_09-38-40_AM.jpg  \n",
            "  inflating: test/images/24-11-2021_09-39-41_AM.jpg  \n",
            "  inflating: test/images/24-11-2021_09-56-50_AM.jpg  \n",
            "  inflating: test/images/24-11-2021_09-57-05_AM.jpg  \n",
            "  inflating: test/images/24-11-2021_09-57-26_AM.jpg  \n",
            "  inflating: test/images/24-11-2021_09-59-05_AM.jpg  \n",
            "  inflating: test/images/24-11-2021_10-14-58_AM.jpg  \n",
            "  inflating: test/images/24-11-2021_10-15-57_AM.jpg  \n",
            "  inflating: test/images/24-11-2021_10-16-04_AM.jpg  \n",
            "  inflating: test/images/24-11-2021_10-16-26_AM.jpg  \n",
            "  inflating: test/images/24-11-2021_10-16-37_AM.jpg  \n",
            "  inflating: test/images/24-11-2021_10-25-31_PM.jpg  \n",
            "  inflating: test/images/24-11-2021_10-32-26_AM.jpg  \n",
            "  inflating: test/images/24-11-2021_10-32-39_AM.jpg  \n",
            "  inflating: test/images/24-11-2021_10-33-07_AM.jpg  \n",
            "  inflating: test/images/24-11-2021_10-33-09_AM.jpg  \n",
            "  inflating: test/images/24-11-2021_10-33-15_AM.jpg  \n",
            "  inflating: test/images/24-11-2021_10-33-47_AM.jpg  \n",
            "  inflating: test/images/24-11-2021_10-33-58_AM.jpg  \n",
            "  inflating: test/images/24-11-2021_10-50-27_AM.jpg  \n",
            "  inflating: test/images/24-11-2021_10-50-41_AM.jpg  \n",
            "  inflating: test/images/24-11-2021_10-50-59_AM.jpg  \n",
            "  inflating: test/images/24-11-2021_10-51-40_AM.jpg  \n",
            "  inflating: test/images/24-11-2021_10-51-53_AM.jpg  \n",
            "  inflating: test/images/24-11-2021_11-08-42_AM.jpg  \n",
            "  inflating: test/images/24-11-2021_11-08-58_AM.jpg  \n",
            "  inflating: test/images/24-11-2021_11-09-35_AM.jpg  \n",
            "  inflating: test/images/24-11-2021_11-25-22_AM.jpg  \n",
            "  inflating: test/images/24-11-2021_11-25-25_AM.jpg  \n",
            "  inflating: test/images/24-11-2021_11-25-34_AM.jpg  \n",
            "  inflating: test/images/24-11-2021_11-25-50_AM.jpg  \n",
            "  inflating: test/images/24-11-2021_11-26-02_AM.jpg  \n",
            "  inflating: test/images/24-11-2021_11-27-06_AM.jpg  \n",
            "  inflating: test/images/24-11-2021_11-27-36_AM.jpg  \n",
            "  inflating: test/images/24-11-2021_11-27-46_AM.jpg  \n",
            "  inflating: test/images/24-11-2021_11-43-40_AM.jpg  \n",
            "  inflating: test/images/24-11-2021_11-44-07_AM.jpg  \n",
            "  inflating: test/images/24-11-2021_11-44-29_AM.jpg  \n",
            "  inflating: test/images/24-11-2021_11-44-39_AM.jpg  \n",
            "  inflating: test/images/24-11-2021_11-44-51_AM.jpg  \n",
            "  inflating: test/images/24-11-2021_11-45-22_AM.jpg  \n",
            "  inflating: test/images/24-11-2021_11-45-59_AM.jpg  \n",
            "  inflating: test/images/24-11-2021_11-54-22_PM.jpg  \n",
            "  inflating: test/images/24-11-2021_12-01-21_PM.jpg  \n",
            "  inflating: test/images/24-11-2021_12-01-26_PM.jpg  \n",
            "  inflating: test/images/24-11-2021_12-02-11_PM.jpg  \n",
            "  inflating: test/images/24-11-2021_12-02-14_PM.jpg  \n",
            "  inflating: test/images/24-11-2021_12-03-08_PM.jpg  \n",
            "  inflating: test/images/24-11-2021_12-03-30_PM.jpg  \n",
            "  inflating: test/images/24-11-2021_12-03-45_PM.jpg  \n",
            "  inflating: test/images/24-11-2021_12-19-04_PM.jpg  \n",
            "  inflating: test/images/24-11-2021_12-19-26_PM.jpg  \n",
            "  inflating: test/images/24-11-2021_12-19-31_PM.jpg  \n",
            "  inflating: test/images/24-11-2021_12-19-34_PM.jpg  \n",
            "  inflating: test/images/24-11-2021_12-20-52_PM.jpg  \n",
            "  inflating: test/images/24-11-2021_12-20-59_PM.jpg  \n",
            "  inflating: test/images/24-11-2021_12-21-10_PM.jpg  \n",
            "  inflating: test/images/24-11-2021_12-37-02_PM.jpg  \n",
            "  inflating: test/images/24-11-2021_12-37-12_PM.jpg  \n",
            "  inflating: test/images/24-11-2021_12-37-30_PM.jpg  \n",
            "  inflating: test/images/24-11-2021_12-37-36_PM.jpg  \n",
            "  inflating: test/images/24-11-2021_12-37-51_PM.jpg  \n",
            "  inflating: test/images/24-11-2021_12-38-26_PM.jpg  \n",
            "  inflating: test/images/24-11-2021_12-38-47_PM.jpg  \n",
            "  inflating: test/images/24-11-2021_12-38-52_PM.jpg  \n",
            "  inflating: test/images/24-11-2021_12-38-58_PM.jpg  \n",
            "  inflating: test/images/24-11-2021_12-55-04_PM.jpg  \n",
            "  inflating: test/images/24-11-2021_12-55-38_PM.jpg  \n",
            "  inflating: test/images/24-11-2021_12-56-12_PM.jpg  \n",
            "  inflating: test/images/25-11-2021_01-18-18_PM.jpg  \n",
            "  inflating: test/images/25-11-2021_01-19-03_PM.jpg  \n",
            "  inflating: test/images/25-11-2021_01-19-23_PM.jpg  \n",
            "  inflating: test/images/25-11-2021_01-20-39_PM.jpg  \n",
            "  inflating: test/images/25-11-2021_01-20-54_PM.jpg  \n",
            "  inflating: test/images/25-11-2021_01-36-39_PM.jpg  \n",
            "  inflating: test/images/25-11-2021_01-36-53_PM.jpg  \n",
            "  inflating: test/images/25-11-2021_01-36-55_PM.jpg  \n",
            "  inflating: test/images/25-11-2021_01-37-02_PM.jpg  \n",
            "  inflating: test/images/25-11-2021_01-37-43_PM.jpg  \n",
            "  inflating: test/images/25-11-2021_01-37-49_PM.jpg  \n",
            "  inflating: test/images/25-11-2021_01-38-39_PM.jpg  \n",
            "  inflating: test/images/25-11-2021_01-54-21_PM.jpg  \n",
            "  inflating: test/images/25-11-2021_01-55-11_PM.jpg  \n",
            "  inflating: test/images/25-11-2021_01-55-28_PM.jpg  \n",
            "  inflating: test/images/25-11-2021_01-56-07_PM.jpg  \n",
            "  inflating: test/images/25-11-2021_01-56-10_PM.jpg  \n",
            "  inflating: test/images/25-11-2021_01-58-34_AM.jpg  \n",
            "  inflating: test/images/25-11-2021_02-12-03_PM.jpg  \n",
            "  inflating: test/images/25-11-2021_02-12-53_PM.jpg  \n",
            "  inflating: test/images/25-11-2021_02-13-20_PM.jpg  \n",
            "  inflating: test/images/25-11-2021_02-13-40_PM.jpg  \n",
            "  inflating: test/images/25-11-2021_02-13-50_PM.jpg  \n",
            "  inflating: test/images/25-11-2021_02-13-58_PM.jpg  \n",
            "  inflating: test/images/25-11-2021_02-14-20_PM.jpg  \n",
            "  inflating: test/images/25-11-2021_02-14-28_PM.jpg  \n",
            "  inflating: test/images/25-11-2021_02-30-22_PM.jpg  \n",
            "  inflating: test/images/25-11-2021_02-30-31_PM.jpg  \n",
            "  inflating: test/images/25-11-2021_02-31-09_PM.jpg  \n",
            "  inflating: test/images/25-11-2021_02-31-38_PM.jpg  \n",
            "  inflating: test/images/25-11-2021_02-32-36_PM.jpg  \n",
            "  inflating: test/images/25-11-2021_02-48-32_PM.jpg  \n",
            "  inflating: test/images/25-11-2021_02-48-48_PM.jpg  \n",
            "  inflating: test/images/25-11-2021_03-06-02_PM.jpg  \n",
            "  inflating: test/images/25-11-2021_03-06-22_PM.jpg  \n",
            "  inflating: test/images/25-11-2021_03-06-44_PM.jpg  \n",
            "  inflating: test/images/25-11-2021_03-10-38_AM.jpg  \n",
            "  inflating: test/images/25-11-2021_03-12-34_AM.jpg  \n",
            "  inflating: test/images/25-11-2021_03-22-28_PM.jpg  \n",
            "  inflating: test/images/25-11-2021_03-22-37_PM.jpg  \n",
            "  inflating: test/images/25-11-2021_03-23-10_PM.jpg  \n",
            "  inflating: test/images/25-11-2021_03-23-13_PM.jpg  \n",
            "  inflating: test/images/25-11-2021_03-23-37_PM.jpg  \n",
            "  inflating: test/images/25-11-2021_03-23-47_PM.jpg  \n",
            "  inflating: test/images/25-11-2021_03-27-49_AM.jpg  \n",
            "  inflating: test/images/25-11-2021_03-27-56_AM.jpg  \n",
            "  inflating: test/images/25-11-2021_03-28-56_AM.jpg  \n",
            "  inflating: test/images/25-11-2021_03-30-08_AM.jpg  \n",
            "  inflating: test/images/25-11-2021_03-40-27_PM.jpg  \n",
            "  inflating: test/images/25-11-2021_03-40-32_PM.jpg  \n",
            "  inflating: test/images/25-11-2021_03-40-56_PM.jpg  \n",
            "  inflating: test/images/25-11-2021_03-41-12_PM.jpg  \n",
            "  inflating: test/images/25-11-2021_03-41-37_PM.jpg  \n",
            "  inflating: test/images/25-11-2021_03-46-33_AM.jpg  \n",
            "  inflating: test/images/25-11-2021_03-47-10_AM.jpg  \n",
            "  inflating: test/images/25-11-2021_03-47-56_AM.jpg  \n",
            "  inflating: test/images/25-11-2021_03-48-06_AM.jpg  \n",
            "  inflating: test/images/25-11-2021_03-57-35_PM.jpg  \n",
            "  inflating: test/images/25-11-2021_03-57-48_PM.jpg  \n",
            "  inflating: test/images/25-11-2021_03-58-19_PM.jpg  \n",
            "  inflating: test/images/25-11-2021_03-58-54_PM.jpg  \n",
            "  inflating: test/images/25-11-2021_03-59-16_PM.jpg  \n",
            "  inflating: test/images/25-11-2021_03-59-27_PM.jpg  \n",
            "  inflating: test/images/25-11-2021_04-04-05_AM.jpg  \n",
            "  inflating: test/images/25-11-2021_04-04-52_AM.jpg  \n",
            "  inflating: test/images/25-11-2021_04-05-14_AM.jpg  \n",
            "  inflating: test/images/25-11-2021_04-15-29_PM.jpg  \n",
            "  inflating: test/images/25-11-2021_04-15-33_PM.jpg  \n",
            "  inflating: test/images/25-11-2021_04-17-49_PM.jpg  \n",
            "  inflating: test/images/25-11-2021_04-18-04_PM.jpg  \n",
            "  inflating: test/images/25-11-2021_04-21-26_AM.jpg  \n",
            "  inflating: test/images/25-11-2021_04-22-21_AM.jpg  \n",
            "  inflating: test/images/25-11-2021_04-22-26_AM.jpg  \n",
            "  inflating: test/images/25-11-2021_04-22-54_AM.jpg  \n",
            "  inflating: test/images/25-11-2021_04-33-50_PM.jpg  \n",
            "  inflating: test/images/25-11-2021_04-34-05_PM.jpg  \n",
            "  inflating: test/images/25-11-2021_04-34-18_PM.jpg  \n",
            "  inflating: test/images/25-11-2021_04-35-01_PM.jpg  \n",
            "  inflating: test/images/25-11-2021_04-35-12_PM.jpg  \n",
            "  inflating: test/images/25-11-2021_04-39-33_AM.jpg  \n",
            "  inflating: test/images/25-11-2021_04-39-54_AM.jpg  \n",
            "  inflating: test/images/25-11-2021_04-40-13_AM.jpg  \n",
            "  inflating: test/images/25-11-2021_04-40-43_AM.jpg  \n",
            "  inflating: test/images/25-11-2021_04-41-12_AM.jpg  \n",
            "  inflating: test/images/25-11-2021_04-52-22_PM.jpg  \n",
            "  inflating: test/images/25-11-2021_04-52-29_PM.jpg  \n",
            "  inflating: test/images/25-11-2021_04-53-39_PM.jpg  \n",
            "  inflating: test/images/25-11-2021_04-53-43_PM.jpg  \n",
            "  inflating: test/images/25-11-2021_04-57-23_AM.jpg  \n",
            "  inflating: test/images/25-11-2021_04-57-27_AM.jpg  \n",
            "  inflating: test/images/25-11-2021_04-57-47_AM.jpg  \n",
            "  inflating: test/images/25-11-2021_04-57-59_AM.jpg  \n",
            "  inflating: test/images/25-11-2021_04-58-09_AM.jpg  \n",
            "  inflating: test/images/25-11-2021_04-58-43_AM.jpg  \n",
            "  inflating: test/images/25-11-2021_04-59-28_AM.jpg  \n",
            "  inflating: test/images/25-11-2021_05-09-38_PM.jpg  \n",
            "  inflating: test/images/25-11-2021_05-09-52_PM.jpg  \n",
            "  inflating: test/images/25-11-2021_05-09-56_PM.jpg  \n",
            "  inflating: test/images/25-11-2021_05-10-05_PM.jpg  \n",
            "  inflating: test/images/25-11-2021_05-11-01_PM.jpg  \n",
            "  inflating: test/images/25-11-2021_05-14-56_AM.jpg  \n",
            "  inflating: test/images/25-11-2021_05-15-15_AM.jpg  \n",
            "  inflating: test/images/25-11-2021_05-15-35_AM.jpg  \n",
            "  inflating: test/images/25-11-2021_05-16-26_AM.jpg  \n",
            "  inflating: test/images/25-11-2021_05-16-30_AM.jpg  \n",
            "  inflating: test/images/25-11-2021_05-28-22_PM.jpg  \n",
            "  inflating: test/images/25-11-2021_05-29-01_PM.jpg  \n",
            "  inflating: test/images/25-11-2021_05-33-25_AM.jpg  \n",
            "  inflating: test/images/25-11-2021_05-33-42_AM.jpg  \n",
            "  inflating: test/images/25-11-2021_05-33-46_AM.jpg  \n",
            "  inflating: test/images/25-11-2021_05-34-13_AM.jpg  \n",
            "  inflating: test/images/25-11-2021_05-34-29_AM.jpg  \n",
            "  inflating: test/images/25-11-2021_05-34-56_AM.jpg  \n",
            "  inflating: test/images/25-11-2021_05-46-31_PM.jpg  \n",
            "  inflating: test/images/25-11-2021_05-47-16_PM.jpg  \n",
            "  inflating: test/images/25-11-2021_05-50-52_AM.jpg  \n",
            "  inflating: test/images/25-11-2021_05-50-56_AM.jpg  \n",
            "  inflating: test/images/25-11-2021_05-51-12_AM.jpg  \n",
            "  inflating: test/images/25-11-2021_05-51-37_AM.jpg  \n",
            "  inflating: test/images/25-11-2021_05-52-18_AM.jpg  \n",
            "  inflating: test/images/25-11-2021_06-03-18_PM.jpg  \n",
            "  inflating: test/images/25-11-2021_06-03-41_PM.jpg  \n",
            "  inflating: test/images/25-11-2021_06-04-02_PM.jpg  \n",
            "  inflating: test/images/25-11-2021_06-04-57_PM.jpg  \n",
            "  inflating: test/images/25-11-2021_06-09-42_AM.jpg  \n",
            "  inflating: test/images/25-11-2021_06-10-03_AM.jpg  \n",
            "  inflating: test/images/25-11-2021_06-10-10_AM.jpg  \n",
            "  inflating: test/images/25-11-2021_06-10-20_AM.jpg  \n",
            "  inflating: test/images/25-11-2021_06-21-32_PM.jpg  \n",
            "  inflating: test/images/25-11-2021_06-22-44_PM.jpg  \n",
            "  inflating: test/images/25-11-2021_06-27-21_AM.jpg  \n",
            "  inflating: test/images/25-11-2021_06-28-52_AM.jpg  \n",
            "  inflating: test/images/25-11-2021_06-39-38_PM.jpg  \n",
            "  inflating: test/images/25-11-2021_06-44-40_AM.jpg  \n",
            "  inflating: test/images/25-11-2021_06-45-20_AM.jpg  \n",
            "  inflating: test/images/25-11-2021_06-45-24_AM.jpg  \n",
            "  inflating: test/images/25-11-2021_06-46-12_AM.jpg  \n",
            "  inflating: test/images/25-11-2021_06-46-24_AM.jpg  \n",
            "  inflating: test/images/25-11-2021_06-59-00_PM.jpg  \n",
            "  inflating: test/images/25-11-2021_07-03-10_AM.jpg  \n",
            "  inflating: test/images/25-11-2021_07-03-25_AM.jpg  \n",
            "  inflating: test/images/25-11-2021_07-03-30_AM.jpg  \n",
            "  inflating: test/images/25-11-2021_07-03-59_AM.jpg  \n",
            "  inflating: test/images/25-11-2021_07-04-28_AM.jpg  \n",
            "  inflating: test/images/25-11-2021_07-04-51_AM.jpg  \n",
            "  inflating: test/images/25-11-2021_07-05-01_AM.jpg  \n",
            "  inflating: test/images/25-11-2021_07-15-03_PM.jpg  \n",
            "  inflating: test/images/25-11-2021_07-21-05_AM.jpg  \n",
            "  inflating: test/images/25-11-2021_07-21-20_AM.jpg  \n",
            "  inflating: test/images/25-11-2021_07-22-02_AM.jpg  \n",
            "  inflating: test/images/25-11-2021_07-22-22_AM.jpg  \n",
            "  inflating: test/images/25-11-2021_07-33-52_PM.jpg  \n",
            "  inflating: test/images/25-11-2021_07-34-00_PM.jpg  \n",
            "  inflating: test/images/25-11-2021_07-34-32_PM.jpg  \n",
            "  inflating: test/images/25-11-2021_07-56-34_AM.jpg  \n",
            "  inflating: test/images/25-11-2021_07-57-05_AM.jpg  \n",
            "  inflating: test/images/25-11-2021_07-57-51_AM.jpg  \n",
            "  inflating: test/images/25-11-2021_07-57-57_AM.jpg  \n",
            "  inflating: test/images/25-11-2021_07-58-31_AM.jpg  \n",
            "  inflating: test/images/25-11-2021_07-58-51_AM.jpg  \n",
            "  inflating: test/images/25-11-2021_08-08-43_PM.jpg  \n",
            "  inflating: test/images/25-11-2021_08-14-18_AM.jpg  \n",
            "  inflating: test/images/25-11-2021_08-14-36_AM.jpg  \n",
            "  inflating: test/images/25-11-2021_08-14-45_AM.jpg  \n",
            "  inflating: test/images/25-11-2021_08-15-01_AM.jpg  \n",
            "  inflating: test/images/25-11-2021_08-15-15_AM.jpg  \n",
            "  inflating: test/images/25-11-2021_08-16-05_AM.jpg  \n",
            "  inflating: test/images/25-11-2021_08-16-40_AM.jpg  \n",
            "  inflating: test/images/25-11-2021_08-32-04_AM.jpg  \n",
            "  inflating: test/images/25-11-2021_08-32-41_AM.jpg  \n",
            "  inflating: test/images/25-11-2021_08-32-54_AM.jpg  \n",
            "  inflating: test/images/25-11-2021_08-33-28_AM.jpg  \n",
            "  inflating: test/images/25-11-2021_08-33-34_AM.jpg  \n",
            "  inflating: test/images/25-11-2021_08-33-38_AM.jpg  \n",
            "  inflating: test/images/25-11-2021_08-33-52_AM.jpg  \n",
            "  inflating: test/images/25-11-2021_08-34-17_AM.jpg  \n",
            "  inflating: test/images/25-11-2021_08-44-40_PM.jpg  \n",
            "  inflating: test/images/25-11-2021_08-49-55_AM.jpg  \n",
            "  inflating: test/images/25-11-2021_08-50-21_AM.jpg  \n",
            "  inflating: test/images/25-11-2021_08-50-27_AM.jpg  \n",
            "  inflating: test/images/25-11-2021_08-50-33_AM.jpg  \n",
            "  inflating: test/images/25-11-2021_08-50-48_AM.jpg  \n",
            "  inflating: test/images/25-11-2021_08-50-53_AM.jpg  \n",
            "  inflating: test/images/25-11-2021_08-51-25_AM.jpg  \n",
            "  inflating: test/images/25-11-2021_08-51-39_AM.jpg  \n",
            "  inflating: test/images/25-11-2021_08-51-44_AM.jpg  \n",
            "  inflating: test/images/25-11-2021_08-52-12_AM.jpg  \n",
            "  inflating: test/images/25-11-2021_08-52-30_AM.jpg  \n",
            "  inflating: test/images/25-11-2021_09-02-48_PM.jpg  \n",
            "  inflating: test/images/25-11-2021_09-08-32_AM.jpg  \n",
            "  inflating: test/images/25-11-2021_09-08-51_AM.jpg  \n",
            "  inflating: test/images/25-11-2021_09-09-37_AM.jpg  \n",
            "  inflating: test/images/25-11-2021_09-09-52_AM.jpg  \n",
            "  inflating: test/images/25-11-2021_09-10-12_AM.jpg  \n",
            "  inflating: test/images/25-11-2021_09-20-00_PM.jpg  \n",
            "  inflating: test/images/25-11-2021_09-25-39_AM.jpg  \n",
            "  inflating: test/images/25-11-2021_09-26-33_AM.jpg  \n",
            "  inflating: test/images/25-11-2021_09-26-47_AM.jpg  \n",
            "  inflating: test/images/25-11-2021_09-26-52_AM.jpg  \n",
            "  inflating: test/images/25-11-2021_09-27-38_AM.jpg  \n",
            "  inflating: test/images/25-11-2021_09-44-25_AM.jpg  \n",
            "  inflating: test/images/25-11-2021_09-44-40_AM.jpg  \n",
            "  inflating: test/images/25-11-2021_09-45-47_AM.jpg  \n",
            "  inflating: test/images/25-11-2021_09-46-29_AM.jpg  \n",
            "  inflating: test/images/25-11-2021_09-56-12_PM.jpg  \n",
            "  inflating: test/images/25-11-2021_10-01-48_AM.jpg  \n",
            "  inflating: test/images/25-11-2021_10-01-52_AM.jpg  \n",
            "  inflating: test/images/25-11-2021_10-02-28_AM.jpg  \n",
            "  inflating: test/images/25-11-2021_10-02-36_AM.jpg  \n",
            "  inflating: test/images/25-11-2021_10-02-51_AM.jpg  \n",
            "  inflating: test/images/25-11-2021_10-03-12_AM.jpg  \n",
            "  inflating: test/images/25-11-2021_10-03-33_AM.jpg  \n",
            "  inflating: test/images/25-11-2021_10-19-38_AM.jpg  \n",
            "  inflating: test/images/25-11-2021_10-20-32_AM.jpg  \n",
            "  inflating: test/images/25-11-2021_10-20-40_AM.jpg  \n",
            "  inflating: test/images/25-11-2021_10-21-06_AM.jpg  \n",
            "  inflating: test/images/25-11-2021_10-21-41_AM.jpg  \n",
            "  inflating: test/images/25-11-2021_10-21-45_AM.jpg  \n",
            "  inflating: test/images/25-11-2021_10-38-15_AM.jpg  \n",
            "  inflating: test/images/25-11-2021_10-38-29_AM.jpg  \n",
            "  inflating: test/images/25-11-2021_10-38-33_AM.jpg  \n",
            "  inflating: test/images/25-11-2021_10-38-55_AM.jpg  \n",
            "  inflating: test/images/25-11-2021_10-39-17_AM.jpg  \n",
            "  inflating: test/images/25-11-2021_10-55-24_AM.jpg  \n",
            "  inflating: test/images/25-11-2021_10-55-49_AM.jpg  \n",
            "  inflating: test/images/25-11-2021_10-56-11_AM.jpg  \n",
            "  inflating: test/images/25-11-2021_10-56-23_AM.jpg  \n",
            "  inflating: test/images/25-11-2021_10-56-27_AM.jpg  \n",
            "  inflating: test/images/25-11-2021_10-56-36_AM.jpg  \n",
            "  inflating: test/images/25-11-2021_10-57-03_AM.jpg  \n",
            "  inflating: test/images/25-11-2021_10-57-24_AM.jpg  \n",
            "  inflating: test/images/25-11-2021_11-14-06_AM.jpg  \n",
            "  inflating: test/images/25-11-2021_11-14-15_AM.jpg  \n",
            "  inflating: test/images/25-11-2021_11-14-22_AM.jpg  \n",
            "  inflating: test/images/25-11-2021_11-15-15_AM.jpg  \n",
            "  inflating: test/images/25-11-2021_11-15-40_AM.jpg  \n",
            "  inflating: test/images/25-11-2021_11-25-55_PM.jpg  \n",
            "  inflating: test/images/26-11-2021_02-26-05_AM.jpg  \n",
            "  inflating: test/images/26-11-2021_02-42-05_AM.jpg  \n",
            "  inflating: test/images/26-11-2021_02-59-24_AM.jpg  \n",
            "  inflating: test/images/26-11-2021_03-00-28_AM.jpg  \n",
            "  inflating: test/images/26-11-2021_03-18-02_AM.jpg  \n",
            "  inflating: test/images/26-11-2021_03-20-01_AM.jpg  \n",
            "  inflating: test/images/26-11-2021_03-35-23_AM.jpg  \n",
            "  inflating: test/images/26-11-2021_03-35-26_AM.jpg  \n",
            "  inflating: test/images/26-11-2021_03-35-27_AM.jpg  \n",
            "  inflating: test/images/26-11-2021_03-37-22_AM.jpg  \n",
            "  inflating: test/images/26-11-2021_03-53-33_AM.jpg  \n",
            "  inflating: test/images/26-11-2021_03-53-37_AM.jpg  \n",
            "  inflating: test/images/26-11-2021_03-53-42_AM.jpg  \n",
            "  inflating: test/images/26-11-2021_03-54-45_AM.jpg  \n",
            "  inflating: test/images/26-11-2021_03-54-53_AM.jpg  \n",
            "  inflating: test/images/26-11-2021_03-55-17_AM.jpg  \n",
            "  inflating: test/images/26-11-2021_04-10-47_AM.jpg  \n",
            "  inflating: test/images/26-11-2021_04-11-09_AM.jpg  \n",
            "  inflating: test/images/26-11-2021_04-11-13_AM.jpg  \n",
            "  inflating: test/images/26-11-2021_04-11-29_AM.jpg  \n",
            "  inflating: test/images/26-11-2021_04-11-45_AM.jpg  \n",
            "  inflating: test/images/26-11-2021_04-12-27_AM.jpg  \n",
            "  inflating: test/images/26-11-2021_04-12-57_AM.jpg  \n",
            "  inflating: test/images/26-11-2021_04-29-13_AM.jpg  \n",
            "  inflating: test/images/26-11-2021_04-29-31_AM.jpg  \n",
            "  inflating: test/images/26-11-2021_04-29-34_AM.jpg  \n",
            "  inflating: test/images/26-11-2021_04-30-50_AM.jpg  \n",
            "  inflating: test/images/26-11-2021_04-47-01_AM.jpg  \n",
            "  inflating: test/images/26-11-2021_04-47-28_AM.jpg  \n",
            "  inflating: test/images/26-11-2021_04-47-47_AM.jpg  \n",
            "  inflating: test/images/26-11-2021_04-48-11_AM.jpg  \n",
            "  inflating: test/images/26-11-2021_04-48-23_AM.jpg  \n",
            "  inflating: test/images/26-11-2021_04-49-01_AM.jpg  \n",
            "  inflating: test/images/26-11-2021_05-04-43_AM.jpg  \n",
            "  inflating: test/images/26-11-2021_05-04-56_AM.jpg  \n",
            "  inflating: test/images/26-11-2021_05-05-59_AM.jpg  \n",
            "  inflating: test/images/26-11-2021_05-23-05_AM.jpg  \n",
            "  inflating: test/images/26-11-2021_05-23-48_AM.jpg  \n",
            "  inflating: test/images/26-11-2021_05-24-06_AM.jpg  \n",
            "  inflating: test/images/26-11-2021_05-24-38_AM.jpg  \n",
            "  inflating: test/images/26-11-2021_05-40-18_AM.jpg  \n",
            "  inflating: test/images/26-11-2021_05-40-45_AM.jpg  \n",
            "  inflating: test/images/26-11-2021_05-42-17_AM.jpg  \n",
            "  inflating: test/images/26-11-2021_05-42-59_AM.jpg  \n",
            "  inflating: test/images/26-11-2021_05-43-02_AM.jpg  \n",
            "  inflating: test/images/26-11-2021_06-00-53_AM.jpg  \n",
            "  inflating: test/images/26-11-2021_06-16-35_AM.jpg  \n",
            "  inflating: test/images/26-11-2021_06-17-09_AM.jpg  \n",
            "  inflating: test/images/26-11-2021_06-17-16_AM.jpg  \n",
            "  inflating: test/images/26-11-2021_06-18-20_AM.jpg  \n",
            "  inflating: test/images/26-11-2021_06-18-28_AM.jpg  \n",
            "  inflating: test/images/26-11-2021_06-18-42_AM.jpg  \n",
            "  inflating: test/images/26-11-2021_06-34-15_AM.jpg  \n",
            "  inflating: test/images/26-11-2021_06-34-26_AM.jpg  \n",
            "  inflating: test/images/26-11-2021_06-34-36_AM.jpg  \n",
            "  inflating: test/images/26-11-2021_06-36-09_AM.jpg  \n",
            "  inflating: test/images/26-11-2021_06-36-34_AM.jpg  \n",
            "  inflating: test/images/26-11-2021_06-52-37_AM.jpg  \n",
            "  inflating: test/images/26-11-2021_06-52-45_AM.jpg  \n",
            "  inflating: test/images/26-11-2021_06-53-07_AM.jpg  \n",
            "  inflating: test/images/26-11-2021_06-53-54_AM.jpg  \n",
            "  inflating: test/images/26-11-2021_06-54-32_AM.jpg  \n",
            "  inflating: test/images/26-11-2021_06-54-45_AM.jpg  \n",
            "  inflating: test/images/26-11-2021_07-09-59_AM.jpg  \n",
            "  inflating: test/images/26-11-2021_07-10-30_AM.jpg  \n",
            "  inflating: test/images/26-11-2021_07-10-35_AM.jpg  \n",
            "  inflating: test/images/26-11-2021_07-10-46_AM.jpg  \n",
            "  inflating: test/images/26-11-2021_07-10-57_AM.jpg  \n",
            "  inflating: test/images/26-11-2021_07-11-54_AM.jpg  \n",
            "  inflating: test/images/26-11-2021_07-27-54_AM.jpg  \n",
            "  inflating: test/images/26-11-2021_07-29-09_AM.jpg  \n",
            "  inflating: test/images/26-11-2021_07-29-39_AM.jpg  \n",
            "  inflating: test/images/26-11-2021_07-29-48_AM.jpg  \n",
            "  inflating: test/images/26-11-2021_07-30-30_AM.jpg  \n",
            "  inflating: test/images/26-11-2021_07-46-02_AM.jpg  \n",
            "  inflating: test/images/26-11-2021_07-46-10_AM.jpg  \n",
            "  inflating: test/images/26-11-2021_07-46-31_AM.jpg  \n",
            "  inflating: test/images/26-11-2021_07-46-34_AM.jpg  \n",
            "  inflating: test/images/26-11-2021_07-46-43_AM.jpg  \n",
            "  inflating: test/images/26-11-2021_07-46-51_AM.jpg  \n",
            "  inflating: test/images/26-11-2021_07-47-56_AM.jpg  \n",
            "  inflating: test/images/26-11-2021_07-48-27_AM.jpg  \n",
            "  inflating: test/images/26-11-2021_08-03-58_AM.jpg  \n",
            "  inflating: test/images/26-11-2021_08-04-15_AM.jpg  \n",
            "  inflating: test/images/26-11-2021_08-05-04_AM.jpg  \n",
            "  inflating: test/images/26-11-2021_08-05-07_AM.jpg  \n",
            "  inflating: test/images/26-11-2021_08-05-21_AM.jpg  \n",
            "  inflating: test/images/26-11-2021_08-06-03_AM.jpg  \n",
            "  inflating: test/images/26-11-2021_08-06-23_AM.jpg  \n",
            "  inflating: test/images/26-11-2021_08-22-11_AM.jpg  \n",
            "  inflating: test/images/26-11-2021_08-22-27_AM.jpg  \n",
            "  inflating: test/images/26-11-2021_08-23-34_AM.jpg  \n",
            "  inflating: test/images/26-11-2021_08-24-11_AM.jpg  \n",
            "  inflating: test/images/26-11-2021_08-24-18_AM.jpg  \n",
            "  inflating: test/images/26-11-2021_08-40-11_AM.jpg  \n",
            "  inflating: test/images/26-11-2021_08-40-24_AM.jpg  \n",
            "  inflating: test/images/26-11-2021_08-41-58_AM.jpg  \n",
            "  inflating: test/images/26-11-2021_08-58-00_AM.jpg  \n",
            "  inflating: test/images/26-11-2021_08-58-03_AM.jpg  \n",
            "  inflating: test/images/26-11-2021_08-58-53_AM.jpg  \n",
            "  inflating: test/images/26-11-2021_08-59-28_AM.jpg  \n",
            "  inflating: test/images/26-11-2021_08-59-57_AM.jpg  \n",
            "  inflating: test/images/26-11-2021_09-16-58_AM.jpg  \n",
            "  inflating: test/images/26-11-2021_09-17-10_AM.jpg  \n",
            "  inflating: test/images/26-11-2021_09-17-12_AM.jpg  \n",
            "  inflating: test/images/26-11-2021_09-17-30_AM.jpg  \n",
            "  inflating: test/images/26-11-2021_09-17-48_AM.jpg  \n",
            "  inflating: test/images/26-11-2021_09-33-08_AM.jpg  \n",
            "  inflating: test/images/26-11-2021_09-33-44_AM.jpg  \n",
            "  inflating: test/images/26-11-2021_09-34-35_AM.jpg  \n",
            "  inflating: test/images/26-11-2021_09-34-43_AM.jpg  \n",
            "  inflating: test/images/26-11-2021_09-34-47_AM.jpg  \n",
            "  inflating: test/images/26-11-2021_09-34-54_AM.jpg  \n",
            "  inflating: test/images/26-11-2021_09-52-01_AM.jpg  \n",
            "  inflating: test/images/26-11-2021_09-52-06_AM.jpg  \n",
            "  inflating: test/images/26-11-2021_09-52-27_AM.jpg  \n",
            "  inflating: test/images/26-11-2021_09-52-43_AM.jpg  \n",
            "  inflating: test/images/26-11-2021_09-52-54_AM.jpg  \n",
            "  inflating: test/images/26-11-2021_09-53-51_AM.jpg  \n",
            "  inflating: test/images/26-11-2021_10-09-10_AM.jpg  \n",
            "  inflating: test/images/26-11-2021_10-09-18_AM.jpg  \n",
            "  inflating: test/images/26-11-2021_10-09-22_AM.jpg  \n",
            "  inflating: test/images/26-11-2021_10-09-53_AM.jpg  \n",
            "  inflating: test/images/26-11-2021_10-10-07_AM.jpg  \n",
            "  inflating: test/images/26-11-2021_10-10-13_AM.jpg  \n",
            "  inflating: test/images/26-11-2021_10-10-46_AM.jpg  \n",
            "  inflating: test/images/26-11-2021_10-11-07_AM.jpg  \n",
            "  inflating: test/images/26-11-2021_10-28-02_AM.jpg  \n",
            "  inflating: test/images/26-11-2021_10-28-51_AM.jpg  \n",
            "  inflating: test/images/26-11-2021_10-29-29_AM.jpg  \n",
            "  inflating: test/images/26-11-2021_10-49-21_AM.jpg  \n",
            "  inflating: test/images/26-11-2021_10-50-34_AM.jpg  \n",
            "  inflating: test/images/26-11-2021_10-52-57_AM.jpg  \n",
            "  inflating: test/images/26-11-2021_11-14-04_AM.jpg  \n",
            "  inflating: test/images/26-11-2021_11-22-36_AM.jpg  \n",
            "  inflating: test/images/26-11-2021_11-25-09_AM.jpg  \n",
            "  inflating: test/images/26-11-2021_11-42-01_AM.jpg  \n",
            "  inflating: test/images/26-11-2021_11-42-06_AM.jpg  \n",
            "  inflating: test/images/26-11-2021_11-44-10_AM.jpg  \n",
            "  inflating: test/images/26-11-2021_11-44-35_AM.jpg  \n",
            "  inflating: test/images/26-11-2021_11-45-44_AM.jpg  \n",
            "  inflating: test/images/26-11-2021_11-46-34_AM.jpg  \n",
            "  inflating: test/images/26-11-2021_11-47-14_AM.jpg  \n",
            "  inflating: test/images/26-11-2021_12-04-22_PM.jpg  \n",
            "  inflating: test/images/26-11-2021_12-07-24_PM.jpg  \n",
            "  inflating: test/images/26-11-2021_12-08-44_PM.jpg  \n",
            "  inflating: test/images/26-11-2021_12-21-08_AM.jpg  \n",
            "  inflating: test/images/26-11-2021_12-24-26_PM.jpg  \n",
            "  inflating: test/images/26-11-2021_12-27-04_PM.jpg  \n",
            "  inflating: test/images/26-11-2021_12-30-08_PM.jpg  \n",
            "  inflating: test/images/26-11-2021_12-37-22_AM.jpg  \n",
            "  inflating: test/images/26-11-2021_12-47-01_PM.jpg  \n",
            "  inflating: test/images/2_23-11-2021_02-20-07_PM.jpg  \n",
            "  inflating: test/images/2_24-11-2021_10-14-19_AM.jpg  \n",
            "  inflating: test/images/2_24-11-2021_11-26-05_AM.jpg  \n",
            "  inflating: test/images/2_25-11-2021_05-15-29_AM.jpg  \n",
            "  inflating: test/images/2_25-11-2021_07-04-34_AM.jpg  \n",
            "  inflating: test/images/2_26-11-2021_08-41-30_AM.jpg  \n",
            "  inflating: test/images/3_23-11-2021_02-20-07_PM.jpg  \n",
            "  inflating: test/images/3_24-11-2021_04-17-46_AM.jpg  \n",
            "  inflating: test/images/3_25-11-2021_04-21-55_AM.jpg  \n",
            "caution: excluded filename not matched:  test\n"
          ]
        }
      ],
      "source": [
        "!wget https://lodmedia.hb.bizmrg.com/case_files/789899/test_dataset_test.zip\n",
        "!unzip test_dataset_test.zip -x test"
      ]
    },
    {
      "cell_type": "code",
      "execution_count": 75,
      "metadata": {
        "colab": {
          "base_uri": "https://localhost:8080/"
        },
        "id": "IE_UiFvpTsAF",
        "outputId": "991f096e-cbfc-4914-cb0a-7faf6443a583"
      },
      "outputs": [
        {
          "output_type": "stream",
          "name": "stderr",
          "text": [
            "\r  0%|          | 0/855 [00:00<?, ?it/s]"
          ]
        },
        {
          "output_type": "stream",
          "name": "stdout",
          "text": [
            "0_24-11-2021_05-49-06_AM.jpg\n"
          ]
        },
        {
          "output_type": "stream",
          "name": "stderr",
          "text": [
            "\r  0%|          | 1/855 [00:00<03:25,  4.16it/s]"
          ]
        },
        {
          "output_type": "stream",
          "name": "stdout",
          "text": [
            "24-11-2021_04-55-09_AM.jpg\n"
          ]
        },
        {
          "output_type": "stream",
          "name": "stderr",
          "text": [
            "\r  0%|          | 2/855 [00:00<03:26,  4.14it/s]"
          ]
        },
        {
          "output_type": "stream",
          "name": "stdout",
          "text": [
            "24-11-2021_02-25-19_PM.jpg\n"
          ]
        },
        {
          "output_type": "stream",
          "name": "stderr",
          "text": [
            "\r  0%|          | 3/855 [00:00<03:27,  4.10it/s]"
          ]
        },
        {
          "output_type": "stream",
          "name": "stdout",
          "text": [
            "25-11-2021_06-03-41_PM.jpg\n"
          ]
        },
        {
          "output_type": "stream",
          "name": "stderr",
          "text": [
            "  1%|          | 5/855 [00:01<03:14,  4.38it/s]"
          ]
        },
        {
          "output_type": "stream",
          "name": "stdout",
          "text": [
            "25-11-2021_07-03-25_AM.jpg\n",
            "26-11-2021_02-59-24_AM.jpg\n"
          ]
        },
        {
          "output_type": "stream",
          "name": "stderr",
          "text": [
            "\r  1%|          | 6/855 [00:01<03:02,  4.65it/s]"
          ]
        },
        {
          "output_type": "stream",
          "name": "stdout",
          "text": [
            "26-11-2021_09-52-27_AM.jpg\n"
          ]
        },
        {
          "output_type": "stream",
          "name": "stderr",
          "text": [
            "\r  1%|          | 7/855 [00:01<03:08,  4.50it/s]"
          ]
        },
        {
          "output_type": "stream",
          "name": "stdout",
          "text": [
            "25-11-2021_03-23-37_PM.jpg\n"
          ]
        },
        {
          "output_type": "stream",
          "name": "stderr",
          "text": [
            "  1%|          | 9/855 [00:02<03:06,  4.54it/s]"
          ]
        },
        {
          "output_type": "stream",
          "name": "stdout",
          "text": [
            "25-11-2021_02-48-48_PM.jpg\n"
          ]
        },
        {
          "output_type": "stream",
          "name": "stderr",
          "text": [
            "\r  1%|          | 10/855 [00:02<03:00,  4.68it/s]"
          ]
        },
        {
          "output_type": "stream",
          "name": "stdout",
          "text": [
            "26-11-2021_10-09-10_AM.jpg\n",
            "26-11-2021_03-55-17_AM.jpg\n"
          ]
        },
        {
          "output_type": "stream",
          "name": "stderr",
          "text": [
            "\r  1%|▏         | 11/855 [00:02<02:54,  4.84it/s]"
          ]
        },
        {
          "output_type": "stream",
          "name": "stdout",
          "text": [
            "2_25-11-2021_05-15-29_AM.jpg\n",
            "1_24-11-2021_11-26-05_AM.jpg\n"
          ]
        },
        {
          "output_type": "stream",
          "name": "stderr",
          "text": [
            "  2%|▏         | 14/855 [00:02<02:23,  5.87it/s]"
          ]
        },
        {
          "output_type": "stream",
          "name": "stdout",
          "text": [
            "26-11-2021_02-26-05_AM.jpg\n",
            "24-11-2021_03-36-53_PM.jpg\n"
          ]
        },
        {
          "output_type": "stream",
          "name": "stderr",
          "text": [
            "  2%|▏         | 16/855 [00:03<02:28,  5.67it/s]"
          ]
        },
        {
          "output_type": "stream",
          "name": "stdout",
          "text": [
            "1_26-11-2021_07-47-11_AM.jpg\n",
            "24-11-2021_09-57-26_AM.jpg\n"
          ]
        },
        {
          "output_type": "stream",
          "name": "stderr",
          "text": [
            "  2%|▏         | 18/855 [00:03<02:36,  5.34it/s]"
          ]
        },
        {
          "output_type": "stream",
          "name": "stdout",
          "text": [
            "26-11-2021_04-49-01_AM.jpg\n",
            "24-11-2021_04-01-50_AM.jpg\n"
          ]
        },
        {
          "output_type": "stream",
          "name": "stderr",
          "text": [
            "  2%|▏         | 20/855 [00:03<02:35,  5.38it/s]"
          ]
        },
        {
          "output_type": "stream",
          "name": "stdout",
          "text": [
            "25-11-2021_03-48-06_AM.jpg\n",
            "25-11-2021_10-38-33_AM.jpg\n"
          ]
        },
        {
          "output_type": "stream",
          "name": "stderr",
          "text": [
            "\r  2%|▏         | 21/855 [00:04<02:38,  5.27it/s]"
          ]
        },
        {
          "output_type": "stream",
          "name": "stdout",
          "text": [
            "23-11-2021_06-30-48_PM.jpg\n"
          ]
        },
        {
          "output_type": "stream",
          "name": "stderr",
          "text": [
            "\r  3%|▎         | 22/855 [00:04<02:50,  4.90it/s]"
          ]
        },
        {
          "output_type": "stream",
          "name": "stdout",
          "text": [
            "25-11-2021_04-35-01_PM.jpg\n"
          ]
        },
        {
          "output_type": "stream",
          "name": "stderr",
          "text": [
            "  3%|▎         | 24/855 [00:04<02:52,  4.81it/s]"
          ]
        },
        {
          "output_type": "stream",
          "name": "stdout",
          "text": [
            "24-11-2021_01-55-37_AM.jpg\n",
            "26-11-2021_08-59-57_AM.jpg\n"
          ]
        },
        {
          "output_type": "stream",
          "name": "stderr",
          "text": [
            "\r  3%|▎         | 25/855 [00:05<02:44,  5.06it/s]"
          ]
        },
        {
          "output_type": "stream",
          "name": "stdout",
          "text": [
            "24-11-2021_03-01-26_PM.jpg\n"
          ]
        },
        {
          "output_type": "stream",
          "name": "stderr",
          "text": [
            "  3%|▎         | 27/855 [00:05<02:45,  5.00it/s]"
          ]
        },
        {
          "output_type": "stream",
          "name": "stdout",
          "text": [
            "25-11-2021_02-30-22_PM.jpg\n",
            "26-11-2021_04-48-23_AM.jpg\n"
          ]
        },
        {
          "output_type": "stream",
          "name": "stderr",
          "text": [
            "  3%|▎         | 29/855 [00:05<02:44,  5.02it/s]"
          ]
        },
        {
          "output_type": "stream",
          "name": "stdout",
          "text": [
            "25-11-2021_06-04-02_PM.jpg\n"
          ]
        },
        {
          "output_type": "stream",
          "name": "stderr",
          "text": [
            "\r  4%|▎         | 30/855 [00:06<02:44,  5.01it/s]"
          ]
        },
        {
          "output_type": "stream",
          "name": "stdout",
          "text": [
            "26-11-2021_03-20-01_AM.jpg\n",
            "24-11-2021_06-33-29_PM.jpg\n"
          ]
        },
        {
          "output_type": "stream",
          "name": "stderr",
          "text": [
            "  4%|▎         | 32/855 [00:06<02:49,  4.86it/s]"
          ]
        },
        {
          "output_type": "stream",
          "name": "stdout",
          "text": [
            "25-11-2021_06-44-40_AM.jpg\n",
            "25-11-2021_07-04-28_AM.jpg\n"
          ]
        },
        {
          "output_type": "stream",
          "name": "stderr",
          "text": [
            "  4%|▍         | 34/855 [00:06<02:42,  5.04it/s]"
          ]
        },
        {
          "output_type": "stream",
          "name": "stdout",
          "text": [
            "24-11-2021_12-55-04_PM.jpg\n",
            "25-11-2021_07-57-57_AM.jpg\n"
          ]
        },
        {
          "output_type": "stream",
          "name": "stderr",
          "text": [
            "  4%|▍         | 36/855 [00:07<02:32,  5.38it/s]"
          ]
        },
        {
          "output_type": "stream",
          "name": "stdout",
          "text": [
            "1_23-11-2021_02-18-50_PM.jpg\n",
            "24-11-2021_04-11-15_PM.jpg\n"
          ]
        },
        {
          "output_type": "stream",
          "name": "stderr",
          "text": [
            "\r  4%|▍         | 37/855 [00:07<02:44,  4.96it/s]"
          ]
        },
        {
          "output_type": "stream",
          "name": "stdout",
          "text": [
            "26-11-2021_08-05-04_AM.jpg\n"
          ]
        },
        {
          "output_type": "stream",
          "name": "stderr",
          "text": [
            "  5%|▍         | 39/855 [00:07<02:36,  5.21it/s]"
          ]
        },
        {
          "output_type": "stream",
          "name": "stdout",
          "text": [
            "0_26-11-2021_12-02-25_PM.jpg\n",
            "25-11-2021_02-13-40_PM.jpg\n"
          ]
        },
        {
          "output_type": "stream",
          "name": "stderr",
          "text": [
            "  5%|▍         | 41/855 [00:08<02:45,  4.92it/s]"
          ]
        },
        {
          "output_type": "stream",
          "name": "stdout",
          "text": [
            "25-11-2021_02-12-03_PM.jpg\n",
            "24-11-2021_06-41-33_AM.jpg\n"
          ]
        },
        {
          "output_type": "stream",
          "name": "stderr",
          "text": [
            "  5%|▌         | 43/855 [00:08<02:33,  5.28it/s]"
          ]
        },
        {
          "output_type": "stream",
          "name": "stdout",
          "text": [
            "0_24-11-2021_06-23-16_AM.jpg\n",
            "0_24-11-2021_03-54-02_PM.jpg\n",
            "25-11-2021_08-44-40_PM.jpg\n"
          ]
        },
        {
          "output_type": "stream",
          "name": "stderr",
          "text": [
            "\r  5%|▌         | 45/855 [00:08<02:25,  5.55it/s]"
          ]
        },
        {
          "output_type": "stream",
          "name": "stdout",
          "text": [
            "26-11-2021_10-10-46_AM.jpg\n"
          ]
        },
        {
          "output_type": "stream",
          "name": "stderr",
          "text": [
            "  5%|▌         | 47/855 [00:09<02:39,  5.08it/s]"
          ]
        },
        {
          "output_type": "stream",
          "name": "stdout",
          "text": [
            "25-11-2021_07-56-34_AM.jpg\n",
            "25-11-2021_05-14-56_AM.jpg\n"
          ]
        },
        {
          "output_type": "stream",
          "name": "stderr",
          "text": [
            "\r  6%|▌         | 48/855 [00:09<02:39,  5.07it/s]"
          ]
        },
        {
          "output_type": "stream",
          "name": "stdout",
          "text": [
            "25-11-2021_10-38-15_AM.jpg\n"
          ]
        },
        {
          "output_type": "stream",
          "name": "stderr",
          "text": [
            "  6%|▌         | 50/855 [00:10<02:38,  5.08it/s]"
          ]
        },
        {
          "output_type": "stream",
          "name": "stdout",
          "text": [
            "2_24-11-2021_10-14-19_AM.jpg\n",
            "0_24-11-2021_04-17-46_AM.jpg\n"
          ]
        },
        {
          "output_type": "stream",
          "name": "stderr",
          "text": [
            "  6%|▌         | 52/855 [00:10<02:15,  5.94it/s]"
          ]
        },
        {
          "output_type": "stream",
          "name": "stdout",
          "text": [
            "3_23-11-2021_02-20-07_PM.jpg\n",
            "26-11-2021_05-24-38_AM.jpg\n"
          ]
        },
        {
          "output_type": "stream",
          "name": "stderr",
          "text": [
            "\r  6%|▌         | 53/855 [00:10<02:20,  5.71it/s]"
          ]
        },
        {
          "output_type": "stream",
          "name": "stdout",
          "text": [
            "26-11-2021_07-29-39_AM.jpg\n"
          ]
        },
        {
          "output_type": "stream",
          "name": "stderr",
          "text": [
            "\r  6%|▋         | 54/855 [00:10<02:35,  5.16it/s]"
          ]
        },
        {
          "output_type": "stream",
          "name": "stdout",
          "text": [
            "26-11-2021_10-29-29_AM.jpg\n"
          ]
        },
        {
          "output_type": "stream",
          "name": "stderr",
          "text": [
            "  7%|▋         | 56/855 [00:11<02:23,  5.56it/s]"
          ]
        },
        {
          "output_type": "stream",
          "name": "stdout",
          "text": [
            "0_25-11-2021_07-04-34_AM.jpg\n",
            "23-11-2021_05-55-34_PM.jpg\n"
          ]
        },
        {
          "output_type": "stream",
          "name": "stderr",
          "text": [
            "  7%|▋         | 58/855 [00:11<02:24,  5.52it/s]"
          ]
        },
        {
          "output_type": "stream",
          "name": "stdout",
          "text": [
            "0_23-11-2021_02-19-19_PM.jpg\n",
            "25-11-2021_07-05-01_AM.jpg\n"
          ]
        },
        {
          "output_type": "stream",
          "name": "stderr",
          "text": [
            "\r  7%|▋         | 59/855 [00:11<02:29,  5.33it/s]"
          ]
        },
        {
          "output_type": "stream",
          "name": "stdout",
          "text": [
            "26-11-2021_06-18-20_AM.jpg\n"
          ]
        },
        {
          "output_type": "stream",
          "name": "stderr",
          "text": [
            "  7%|▋         | 61/855 [00:12<02:25,  5.45it/s]"
          ]
        },
        {
          "output_type": "stream",
          "name": "stdout",
          "text": [
            "0_23-11-2021_02-18-50_PM.jpg\n",
            "23-11-2021_04-07-09_PM.jpg\n"
          ]
        },
        {
          "output_type": "stream",
          "name": "stderr",
          "text": [
            "  7%|▋         | 63/855 [00:12<02:24,  5.48it/s]"
          ]
        },
        {
          "output_type": "stream",
          "name": "stdout",
          "text": [
            "1_23-11-2021_03-13-26_PM.jpg\n",
            "25-11-2021_07-21-20_AM.jpg\n"
          ]
        },
        {
          "output_type": "stream",
          "name": "stderr",
          "text": [
            "\r  7%|▋         | 64/855 [00:12<02:28,  5.33it/s]"
          ]
        },
        {
          "output_type": "stream",
          "name": "stdout",
          "text": [
            "26-11-2021_08-05-21_AM.jpg\n"
          ]
        },
        {
          "output_type": "stream",
          "name": "stderr",
          "text": [
            "\r  8%|▊         | 65/855 [00:12<02:43,  4.83it/s]"
          ]
        },
        {
          "output_type": "stream",
          "name": "stdout",
          "text": [
            "24-11-2021_09-39-41_AM.jpg\n"
          ]
        },
        {
          "output_type": "stream",
          "name": "stderr",
          "text": [
            "\r  8%|▊         | 66/855 [00:13<02:43,  4.83it/s]"
          ]
        },
        {
          "output_type": "stream",
          "name": "stdout",
          "text": [
            "24-11-2021_06-05-27_AM.jpg\n"
          ]
        },
        {
          "output_type": "stream",
          "name": "stderr",
          "text": [
            "  8%|▊         | 68/855 [00:13<02:47,  4.70it/s]"
          ]
        },
        {
          "output_type": "stream",
          "name": "stdout",
          "text": [
            "23-11-2021_04-42-07_PM.jpg\n",
            "24-11-2021_06-22-45_AM.jpg\n"
          ]
        },
        {
          "output_type": "stream",
          "name": "stderr",
          "text": [
            "  8%|▊         | 70/855 [00:13<02:41,  4.87it/s]"
          ]
        },
        {
          "output_type": "stream",
          "name": "stdout",
          "text": [
            "24-11-2021_07-51-37_AM.jpg\n",
            "26-11-2021_12-08-44_PM.jpg\n"
          ]
        },
        {
          "output_type": "stream",
          "name": "stderr",
          "text": [
            "  8%|▊         | 72/855 [00:14<02:34,  5.07it/s]"
          ]
        },
        {
          "output_type": "stream",
          "name": "stdout",
          "text": [
            "23-11-2021_05-38-10_PM.jpg\n",
            "24-11-2021_05-58-10_PM.jpg\n"
          ]
        },
        {
          "output_type": "stream",
          "name": "stderr",
          "text": [
            "\r  9%|▊         | 73/855 [00:14<02:35,  5.02it/s]"
          ]
        },
        {
          "output_type": "stream",
          "name": "stdout",
          "text": [
            "26-11-2021_09-34-54_AM.jpg\n"
          ]
        },
        {
          "output_type": "stream",
          "name": "stderr",
          "text": [
            "\r  9%|▊         | 74/855 [00:14<02:44,  4.74it/s]"
          ]
        },
        {
          "output_type": "stream",
          "name": "stdout",
          "text": [
            "25-11-2021_09-56-12_PM.jpg\n"
          ]
        },
        {
          "output_type": "stream",
          "name": "stderr",
          "text": [
            "  9%|▉         | 76/855 [00:15<02:29,  5.21it/s]"
          ]
        },
        {
          "output_type": "stream",
          "name": "stdout",
          "text": [
            "0_24-11-2021_04-01-33_AM.jpg\n",
            "24-11-2021_06-42-34_AM.jpg\n"
          ]
        },
        {
          "output_type": "stream",
          "name": "stderr",
          "text": [
            "  9%|▉         | 78/855 [00:15<02:35,  5.00it/s]"
          ]
        },
        {
          "output_type": "stream",
          "name": "stdout",
          "text": [
            "25-11-2021_04-39-33_AM.jpg\n",
            "26-11-2021_08-24-11_AM.jpg\n"
          ]
        },
        {
          "output_type": "stream",
          "name": "stderr",
          "text": [
            "  9%|▉         | 80/855 [00:16<02:45,  4.68it/s]"
          ]
        },
        {
          "output_type": "stream",
          "name": "stdout",
          "text": [
            "25-11-2021_07-57-05_AM.jpg\n",
            "24-11-2021_12-38-26_PM.jpg\n"
          ]
        },
        {
          "output_type": "stream",
          "name": "stderr",
          "text": [
            " 10%|▉         | 82/855 [00:16<02:30,  5.14it/s]"
          ]
        },
        {
          "output_type": "stream",
          "name": "stdout",
          "text": [
            "0_26-11-2021_08-41-30_AM.jpg\n",
            "24-11-2021_04-29-01_PM.jpg\n"
          ]
        },
        {
          "output_type": "stream",
          "name": "stderr",
          "text": [
            " 10%|▉         | 84/855 [00:16<02:36,  4.92it/s]"
          ]
        },
        {
          "output_type": "stream",
          "name": "stdout",
          "text": [
            "24-11-2021_05-49-23_AM.jpg\n",
            "25-11-2021_02-48-32_PM.jpg\n"
          ]
        },
        {
          "output_type": "stream",
          "name": "stderr",
          "text": [
            " 10%|█         | 86/855 [00:17<02:43,  4.71it/s]"
          ]
        },
        {
          "output_type": "stream",
          "name": "stdout",
          "text": [
            "26-11-2021_11-42-01_AM.jpg\n",
            "25-11-2021_04-22-26_AM.jpg\n"
          ]
        },
        {
          "output_type": "stream",
          "name": "stderr",
          "text": [
            " 10%|█         | 88/855 [00:17<02:26,  5.23it/s]"
          ]
        },
        {
          "output_type": "stream",
          "name": "stdout",
          "text": [
            "2_24-11-2021_11-26-05_AM.jpg\n",
            "24-11-2021_04-12-21_PM.jpg\n"
          ]
        },
        {
          "output_type": "stream",
          "name": "stderr",
          "text": [
            " 11%|█         | 90/855 [00:18<02:32,  5.03it/s]"
          ]
        },
        {
          "output_type": "stream",
          "name": "stdout",
          "text": [
            "1_26-11-2021_06-00-09_AM.jpg\n",
            "0_23-11-2021_02-38-46_PM.jpg\n"
          ]
        },
        {
          "output_type": "stream",
          "name": "stderr",
          "text": [
            "\r 11%|█         | 91/855 [00:18<02:30,  5.07it/s]"
          ]
        },
        {
          "output_type": "stream",
          "name": "stdout",
          "text": [
            "23-11-2021_05-00-14_PM.jpg\n"
          ]
        },
        {
          "output_type": "stream",
          "name": "stderr",
          "text": [
            "\r 11%|█         | 92/855 [00:18<02:41,  4.73it/s]"
          ]
        },
        {
          "output_type": "stream",
          "name": "stdout",
          "text": [
            "25-11-2021_04-57-27_AM.jpg\n"
          ]
        },
        {
          "output_type": "stream",
          "name": "stderr",
          "text": [
            "\r 11%|█         | 93/855 [00:18<02:47,  4.54it/s]"
          ]
        },
        {
          "output_type": "stream",
          "name": "stdout",
          "text": [
            "23-11-2021_03-31-33_PM.jpg\n"
          ]
        },
        {
          "output_type": "stream",
          "name": "stderr",
          "text": [
            "\r 11%|█         | 94/855 [00:19<03:11,  3.98it/s]"
          ]
        },
        {
          "output_type": "stream",
          "name": "stdout",
          "text": [
            "25-11-2021_04-58-43_AM.jpg\n"
          ]
        },
        {
          "output_type": "stream",
          "name": "stderr",
          "text": [
            "\r 11%|█         | 95/855 [00:19<03:27,  3.66it/s]"
          ]
        },
        {
          "output_type": "stream",
          "name": "stdout",
          "text": [
            "24-11-2021_07-53-46_AM.jpg\n"
          ]
        },
        {
          "output_type": "stream",
          "name": "stderr",
          "text": [
            " 11%|█▏        | 97/855 [00:19<03:16,  3.86it/s]"
          ]
        },
        {
          "output_type": "stream",
          "name": "stdout",
          "text": [
            "24-11-2021_05-49-04_AM.jpg\n",
            "0_26-11-2021_04-11-19_AM.jpg\n"
          ]
        },
        {
          "output_type": "stream",
          "name": "stderr",
          "text": [
            " 12%|█▏        | 99/855 [00:20<02:46,  4.55it/s]"
          ]
        },
        {
          "output_type": "stream",
          "name": "stdout",
          "text": [
            "24-11-2021_09-03-54_AM.jpg\n",
            "26-11-2021_08-41-58_AM.jpg\n"
          ]
        },
        {
          "output_type": "stream",
          "name": "stderr",
          "text": [
            " 12%|█▏        | 101/855 [00:20<02:38,  4.77it/s]"
          ]
        },
        {
          "output_type": "stream",
          "name": "stdout",
          "text": [
            "24-11-2021_09-05-17_AM.jpg\n"
          ]
        },
        {
          "output_type": "stream",
          "name": "stderr",
          "text": [
            "\r 12%|█▏        | 102/855 [00:20<02:34,  4.89it/s]"
          ]
        },
        {
          "output_type": "stream",
          "name": "stdout",
          "text": [
            "24-11-2021_02-06-04_PM.jpg\n",
            "24-11-2021_06-17-15_PM.jpg\n"
          ]
        },
        {
          "output_type": "stream",
          "name": "stderr",
          "text": [
            " 12%|█▏        | 104/855 [00:21<02:31,  4.95it/s]"
          ]
        },
        {
          "output_type": "stream",
          "name": "stdout",
          "text": [
            "26-11-2021_04-29-13_AM.jpg\n",
            "0_24-11-2021_01-12-29_PM.jpg\n"
          ]
        },
        {
          "output_type": "stream",
          "name": "stderr",
          "text": [
            " 12%|█▏        | 106/855 [00:21<02:28,  5.03it/s]"
          ]
        },
        {
          "output_type": "stream",
          "name": "stdout",
          "text": [
            "24-11-2021_06-33-50_PM.jpg\n",
            "24-11-2021_12-38-52_PM.jpg\n"
          ]
        },
        {
          "output_type": "stream",
          "name": "stderr",
          "text": [
            " 13%|█▎        | 108/855 [00:21<02:17,  5.43it/s]"
          ]
        },
        {
          "output_type": "stream",
          "name": "stdout",
          "text": [
            "2_25-11-2021_07-04-34_AM.jpg\n",
            "23-11-2021_04-06-35_PM.jpg\n"
          ]
        },
        {
          "output_type": "stream",
          "name": "stderr",
          "text": [
            "\r 13%|█▎        | 109/855 [00:22<02:33,  4.87it/s]"
          ]
        },
        {
          "output_type": "stream",
          "name": "stdout",
          "text": [
            "24-11-2021_05-11-59_AM.jpg\n"
          ]
        },
        {
          "output_type": "stream",
          "name": "stderr",
          "text": [
            "\r 13%|█▎        | 110/855 [00:22<02:42,  4.57it/s]"
          ]
        },
        {
          "output_type": "stream",
          "name": "stdout",
          "text": [
            "23-11-2021_02-37-57_PM.jpg\n"
          ]
        },
        {
          "output_type": "stream",
          "name": "stderr",
          "text": [
            " 13%|█▎        | 112/855 [00:22<02:40,  4.62it/s]"
          ]
        },
        {
          "output_type": "stream",
          "name": "stdout",
          "text": [
            "25-11-2021_09-10-12_AM.jpg\n",
            "25-11-2021_03-06-02_PM.jpg\n"
          ]
        },
        {
          "output_type": "stream",
          "name": "stderr",
          "text": [
            " 13%|█▎        | 114/855 [00:23<02:33,  4.81it/s]"
          ]
        },
        {
          "output_type": "stream",
          "name": "stdout",
          "text": [
            "25-11-2021_04-57-23_AM.jpg\n",
            "24-11-2021_10-32-26_AM.jpg\n"
          ]
        },
        {
          "output_type": "stream",
          "name": "stderr",
          "text": [
            "\r 13%|█▎        | 115/855 [00:23<02:32,  4.86it/s]"
          ]
        },
        {
          "output_type": "stream",
          "name": "stdout",
          "text": [
            "24-11-2021_01-13-32_PM.jpg\n"
          ]
        },
        {
          "output_type": "stream",
          "name": "stderr",
          "text": [
            "\r 14%|█▎        | 116/855 [00:23<02:39,  4.64it/s]"
          ]
        },
        {
          "output_type": "stream",
          "name": "stdout",
          "text": [
            "26-11-2021_04-11-29_AM.jpg\n"
          ]
        },
        {
          "output_type": "stream",
          "name": "stderr",
          "text": [
            " 14%|█▍        | 118/855 [00:24<02:36,  4.70it/s]"
          ]
        },
        {
          "output_type": "stream",
          "name": "stdout",
          "text": [
            "23-11-2021_03-32-16_PM.jpg\n",
            "26-11-2021_06-17-09_AM.jpg\n"
          ]
        },
        {
          "output_type": "stream",
          "name": "stderr",
          "text": [
            "\r 14%|█▍        | 119/855 [00:24<02:36,  4.71it/s]"
          ]
        },
        {
          "output_type": "stream",
          "name": "stdout",
          "text": [
            "24-11-2021_05-12-53_AM.jpg\n"
          ]
        },
        {
          "output_type": "stream",
          "name": "stderr",
          "text": [
            " 14%|█▍        | 121/855 [00:24<02:36,  4.69it/s]"
          ]
        },
        {
          "output_type": "stream",
          "name": "stdout",
          "text": [
            "23-11-2021_04-59-47_PM.jpg\n",
            "26-11-2021_05-42-17_AM.jpg\n"
          ]
        },
        {
          "output_type": "stream",
          "name": "stderr",
          "text": [
            "\r 14%|█▍        | 122/855 [00:25<02:32,  4.80it/s]"
          ]
        },
        {
          "output_type": "stream",
          "name": "stdout",
          "text": [
            "25-11-2021_07-04-51_AM.jpg\n"
          ]
        },
        {
          "output_type": "stream",
          "name": "stderr",
          "text": [
            "\r 14%|█▍        | 123/855 [00:25<02:34,  4.73it/s]"
          ]
        },
        {
          "output_type": "stream",
          "name": "stdout",
          "text": [
            "26-11-2021_04-47-28_AM.jpg\n"
          ]
        },
        {
          "output_type": "stream",
          "name": "stderr",
          "text": [
            "\r 15%|█▍        | 124/855 [00:25<02:36,  4.68it/s]"
          ]
        },
        {
          "output_type": "stream",
          "name": "stdout",
          "text": [
            "26-11-2021_04-12-27_AM.jpg\n"
          ]
        },
        {
          "output_type": "stream",
          "name": "stderr",
          "text": [
            " 15%|█▍        | 126/855 [00:25<02:33,  4.74it/s]"
          ]
        },
        {
          "output_type": "stream",
          "name": "stdout",
          "text": [
            "23-11-2021_02-39-07_PM.jpg\n",
            "23-11-2021_06-13-11_PM.jpg\n"
          ]
        },
        {
          "output_type": "stream",
          "name": "stderr",
          "text": [
            " 15%|█▍        | 128/855 [00:26<02:28,  4.91it/s]"
          ]
        },
        {
          "output_type": "stream",
          "name": "stdout",
          "text": [
            "24-11-2021_06-34-48_PM.jpg\n",
            "26-11-2021_06-34-15_AM.jpg\n"
          ]
        },
        {
          "output_type": "stream",
          "name": "stderr",
          "text": [
            " 15%|█▌        | 130/855 [00:26<02:24,  5.01it/s]"
          ]
        },
        {
          "output_type": "stream",
          "name": "stdout",
          "text": [
            "24-11-2021_12-01-21_PM.jpg\n",
            "0_24-11-2021_04-11-58_PM.jpg\n"
          ]
        },
        {
          "output_type": "stream",
          "name": "stderr",
          "text": [
            " 15%|█▌        | 132/855 [00:27<02:19,  5.17it/s]"
          ]
        },
        {
          "output_type": "stream",
          "name": "stdout",
          "text": [
            "24-11-2021_06-41-22_AM.jpg\n"
          ]
        },
        {
          "output_type": "stream",
          "name": "stderr",
          "text": [
            "\r 16%|█▌        | 133/855 [00:27<02:31,  4.78it/s]"
          ]
        },
        {
          "output_type": "stream",
          "name": "stdout",
          "text": [
            "25-11-2021_02-13-20_PM.jpg\n",
            "25-11-2021_03-06-44_PM.jpg\n"
          ]
        },
        {
          "output_type": "stream",
          "name": "stderr",
          "text": [
            " 16%|█▌        | 135/855 [00:27<02:28,  4.85it/s]"
          ]
        },
        {
          "output_type": "stream",
          "name": "stdout",
          "text": [
            "24-11-2021_12-20-59_PM.jpg\n",
            "23-11-2021_06-12-42_PM.jpg\n"
          ]
        },
        {
          "output_type": "stream",
          "name": "stderr",
          "text": [
            "\r 16%|█▌        | 136/855 [00:27<02:40,  4.47it/s]"
          ]
        },
        {
          "output_type": "stream",
          "name": "stdout",
          "text": [
            "24-11-2021_03-18-11_PM.jpg\n"
          ]
        },
        {
          "output_type": "stream",
          "name": "stderr",
          "text": [
            " 16%|█▌        | 138/855 [00:28<02:36,  4.58it/s]"
          ]
        },
        {
          "output_type": "stream",
          "name": "stdout",
          "text": [
            "25-11-2021_06-04-57_PM.jpg\n",
            "24-11-2021_05-04-31_PM.jpg\n"
          ]
        },
        {
          "output_type": "stream",
          "name": "stderr",
          "text": [
            " 16%|█▋        | 140/855 [00:28<02:36,  4.58it/s]"
          ]
        },
        {
          "output_type": "stream",
          "name": "stdout",
          "text": [
            "23-11-2021_02-37-31_PM.jpg\n",
            "25-11-2021_06-46-12_AM.jpg\n"
          ]
        },
        {
          "output_type": "stream",
          "name": "stderr",
          "text": [
            "\r 16%|█▋        | 141/855 [00:29<02:41,  4.42it/s]"
          ]
        },
        {
          "output_type": "stream",
          "name": "stdout",
          "text": [
            "23-11-2021_06-49-15_PM.jpg\n"
          ]
        },
        {
          "output_type": "stream",
          "name": "stderr",
          "text": [
            "\r 17%|█▋        | 142/855 [00:29<02:37,  4.54it/s]"
          ]
        },
        {
          "output_type": "stream",
          "name": "stdout",
          "text": [
            "26-11-2021_06-34-36_AM.jpg\n"
          ]
        },
        {
          "output_type": "stream",
          "name": "stderr",
          "text": [
            "\r 17%|█▋        | 143/855 [00:29<02:36,  4.56it/s]"
          ]
        },
        {
          "output_type": "stream",
          "name": "stdout",
          "text": [
            "25-11-2021_01-37-02_PM.jpg\n"
          ]
        },
        {
          "output_type": "stream",
          "name": "stderr",
          "text": [
            "\r 17%|█▋        | 144/855 [00:29<02:41,  4.39it/s]"
          ]
        },
        {
          "output_type": "stream",
          "name": "stdout",
          "text": [
            "24-11-2021_03-35-58_PM.jpg\n"
          ]
        },
        {
          "output_type": "stream",
          "name": "stderr",
          "text": [
            " 17%|█▋        | 146/855 [00:30<02:32,  4.64it/s]"
          ]
        },
        {
          "output_type": "stream",
          "name": "stdout",
          "text": [
            "24-11-2021_11-25-22_AM.jpg\n",
            "24-11-2021_07-34-30_AM.jpg\n"
          ]
        },
        {
          "output_type": "stream",
          "name": "stderr",
          "text": [
            "\r 17%|█▋        | 147/855 [00:30<02:30,  4.71it/s]"
          ]
        },
        {
          "output_type": "stream",
          "name": "stdout",
          "text": [
            "24-11-2021_07-09-36_PM.jpg\n"
          ]
        },
        {
          "output_type": "stream",
          "name": "stderr",
          "text": [
            "\r 17%|█▋        | 148/855 [00:30<02:34,  4.56it/s]"
          ]
        },
        {
          "output_type": "stream",
          "name": "stdout",
          "text": [
            "23-11-2021_05-36-22_PM.jpg\n"
          ]
        },
        {
          "output_type": "stream",
          "name": "stderr",
          "text": [
            " 18%|█▊        | 150/855 [00:31<02:27,  4.77it/s]"
          ]
        },
        {
          "output_type": "stream",
          "name": "stdout",
          "text": [
            "25-11-2021_04-21-26_AM.jpg\n",
            "0_25-11-2021_09-27-14_AM.jpg\n"
          ]
        },
        {
          "output_type": "stream",
          "name": "stderr",
          "text": [
            "\r 18%|█▊        | 151/855 [00:31<02:14,  5.22it/s]"
          ]
        },
        {
          "output_type": "stream",
          "name": "stdout",
          "text": [
            "25-11-2021_08-51-25_AM.jpg\n"
          ]
        },
        {
          "output_type": "stream",
          "name": "stderr",
          "text": [
            " 18%|█▊        | 153/855 [00:31<02:21,  4.95it/s]"
          ]
        },
        {
          "output_type": "stream",
          "name": "stdout",
          "text": [
            "25-11-2021_01-36-39_PM.jpg\n",
            "23-11-2021_04-25-41_PM.jpg\n"
          ]
        },
        {
          "output_type": "stream",
          "name": "stderr",
          "text": [
            " 18%|█▊        | 155/855 [00:31<02:20,  4.97it/s]"
          ]
        },
        {
          "output_type": "stream",
          "name": "stdout",
          "text": [
            "24-11-2021_06-40-20_AM.jpg\n",
            "1_24-11-2021_09-05-00_AM.jpg\n"
          ]
        },
        {
          "output_type": "stream",
          "name": "stderr",
          "text": [
            " 18%|█▊        | 157/855 [00:32<02:08,  5.42it/s]"
          ]
        },
        {
          "output_type": "stream",
          "name": "stdout",
          "text": [
            "24-11-2021_09-21-10_AM.jpg\n",
            "0_25-11-2021_09-46-26_AM.jpg\n"
          ]
        },
        {
          "output_type": "stream",
          "name": "stderr",
          "text": [
            " 19%|█▊        | 159/855 [00:32<02:05,  5.55it/s]"
          ]
        },
        {
          "output_type": "stream",
          "name": "stdout",
          "text": [
            "25-11-2021_04-53-43_PM.jpg\n",
            "23-11-2021_04-08-28_PM.jpg\n"
          ]
        },
        {
          "output_type": "stream",
          "name": "stderr",
          "text": [
            " 19%|█▉        | 161/855 [00:33<02:06,  5.50it/s]"
          ]
        },
        {
          "output_type": "stream",
          "name": "stdout",
          "text": [
            "23-11-2021_04-44-12_PM.jpg\n",
            "0_26-11-2021_07-30-00_AM.jpg\n"
          ]
        },
        {
          "output_type": "stream",
          "name": "stderr",
          "text": [
            " 19%|█▉        | 163/855 [00:33<02:06,  5.48it/s]"
          ]
        },
        {
          "output_type": "stream",
          "name": "stdout",
          "text": [
            "26-11-2021_07-10-30_AM.jpg\n",
            "23-11-2021_04-25-46_PM.jpg\n"
          ]
        },
        {
          "output_type": "stream",
          "name": "stderr",
          "text": [
            "\r 19%|█▉        | 164/855 [00:33<02:10,  5.30it/s]"
          ]
        },
        {
          "output_type": "stream",
          "name": "stdout",
          "text": [
            "26-11-2021_09-34-47_AM.jpg\n"
          ]
        },
        {
          "output_type": "stream",
          "name": "stderr",
          "text": [
            "\r 19%|█▉        | 165/855 [00:33<02:23,  4.82it/s]"
          ]
        },
        {
          "output_type": "stream",
          "name": "stdout",
          "text": [
            "26-11-2021_07-11-54_AM.jpg\n"
          ]
        },
        {
          "output_type": "stream",
          "name": "stderr",
          "text": [
            " 20%|█▉        | 167/855 [00:34<02:24,  4.76it/s]"
          ]
        },
        {
          "output_type": "stream",
          "name": "stdout",
          "text": [
            "25-11-2021_09-26-47_AM.jpg\n",
            "25-11-2021_06-22-44_PM.jpg\n"
          ]
        },
        {
          "output_type": "stream",
          "name": "stderr",
          "text": [
            " 20%|█▉        | 169/855 [00:34<02:24,  4.74it/s]"
          ]
        },
        {
          "output_type": "stream",
          "name": "stdout",
          "text": [
            "25-11-2021_03-57-35_PM.jpg\n",
            "25-11-2021_08-33-28_AM.jpg\n"
          ]
        },
        {
          "output_type": "stream",
          "name": "stderr",
          "text": [
            " 20%|██        | 171/855 [00:35<02:18,  4.95it/s]"
          ]
        },
        {
          "output_type": "stream",
          "name": "stdout",
          "text": [
            "26-11-2021_11-47-14_AM.jpg\n",
            "24-11-2021_06-23-57_AM.jpg\n"
          ]
        },
        {
          "output_type": "stream",
          "name": "stderr",
          "text": [
            " 20%|██        | 173/855 [00:35<02:23,  4.77it/s]"
          ]
        },
        {
          "output_type": "stream",
          "name": "stdout",
          "text": [
            "25-11-2021_10-02-36_AM.jpg\n",
            "24-11-2021_05-23-52_PM.jpg\n"
          ]
        },
        {
          "output_type": "stream",
          "name": "stderr",
          "text": [
            "\r 20%|██        | 174/855 [00:35<02:21,  4.81it/s]"
          ]
        },
        {
          "output_type": "stream",
          "name": "stdout",
          "text": [
            "26-11-2021_11-22-36_AM.jpg\n"
          ]
        },
        {
          "output_type": "stream",
          "name": "stderr",
          "text": [
            " 21%|██        | 176/855 [00:36<02:25,  4.66it/s]"
          ]
        },
        {
          "output_type": "stream",
          "name": "stdout",
          "text": [
            "25-11-2021_04-15-29_PM.jpg\n",
            "25-11-2021_08-52-30_AM.jpg\n"
          ]
        },
        {
          "output_type": "stream",
          "name": "stderr",
          "text": [
            " 21%|██        | 178/855 [00:36<02:20,  4.81it/s]"
          ]
        },
        {
          "output_type": "stream",
          "name": "stdout",
          "text": [
            "26-11-2021_11-25-09_AM.jpg\n",
            "0_25-11-2021_10-55-30_AM.jpg\n"
          ]
        },
        {
          "output_type": "stream",
          "name": "stderr",
          "text": [
            " 21%|██        | 180/855 [00:36<02:06,  5.36it/s]"
          ]
        },
        {
          "output_type": "stream",
          "name": "stdout",
          "text": [
            "25-11-2021_09-09-52_AM.jpg\n",
            "26-11-2021_08-22-27_AM.jpg\n"
          ]
        },
        {
          "output_type": "stream",
          "name": "stderr",
          "text": [
            "\r 21%|██        | 181/855 [00:37<02:08,  5.25it/s]"
          ]
        },
        {
          "output_type": "stream",
          "name": "stdout",
          "text": [
            "24-11-2021_10-15-57_AM.jpg\n"
          ]
        },
        {
          "output_type": "stream",
          "name": "stderr",
          "text": [
            "\r 21%|██▏       | 182/855 [00:37<02:18,  4.85it/s]"
          ]
        },
        {
          "output_type": "stream",
          "name": "stdout",
          "text": [
            "24-11-2021_04-47-47_PM.jpg\n"
          ]
        },
        {
          "output_type": "stream",
          "name": "stderr",
          "text": [
            " 22%|██▏       | 184/855 [00:37<02:07,  5.25it/s]"
          ]
        },
        {
          "output_type": "stream",
          "name": "stdout",
          "text": [
            "0_26-11-2021_09-35-12_AM.jpg\n",
            "25-11-2021_10-01-52_AM.jpg\n"
          ]
        },
        {
          "output_type": "stream",
          "name": "stderr",
          "text": [
            "\r 22%|██▏       | 185/855 [00:37<02:09,  5.19it/s]"
          ]
        },
        {
          "output_type": "stream",
          "name": "stdout",
          "text": [
            "24-11-2021_10-33-47_AM.jpg\n"
          ]
        },
        {
          "output_type": "stream",
          "name": "stderr",
          "text": [
            "\r 22%|██▏       | 186/855 [00:38<02:18,  4.84it/s]"
          ]
        },
        {
          "output_type": "stream",
          "name": "stdout",
          "text": [
            "26-11-2021_05-40-45_AM.jpg\n"
          ]
        },
        {
          "output_type": "stream",
          "name": "stderr",
          "text": [
            "\r 22%|██▏       | 187/855 [00:38<02:18,  4.83it/s]"
          ]
        },
        {
          "output_type": "stream",
          "name": "stdout",
          "text": [
            "25-11-2021_08-33-52_AM.jpg\n"
          ]
        },
        {
          "output_type": "stream",
          "name": "stderr",
          "text": [
            " 22%|██▏       | 189/855 [00:38<02:20,  4.75it/s]"
          ]
        },
        {
          "output_type": "stream",
          "name": "stdout",
          "text": [
            "25-11-2021_04-57-59_AM.jpg\n"
          ]
        },
        {
          "output_type": "stream",
          "name": "stderr",
          "text": [
            "\r 22%|██▏       | 190/855 [00:39<02:17,  4.83it/s]"
          ]
        },
        {
          "output_type": "stream",
          "name": "stdout",
          "text": [
            "24-11-2021_04-53-50_AM.jpg\n",
            "25-11-2021_03-41-12_PM.jpg\n"
          ]
        },
        {
          "output_type": "stream",
          "name": "stderr",
          "text": [
            "\r 22%|██▏       | 191/855 [00:39<02:23,  4.62it/s]"
          ]
        },
        {
          "output_type": "stream",
          "name": "stdout",
          "text": [
            "25-11-2021_08-15-15_AM.jpg\n"
          ]
        },
        {
          "output_type": "stream",
          "name": "stderr",
          "text": [
            " 23%|██▎       | 193/855 [00:39<02:23,  4.62it/s]"
          ]
        },
        {
          "output_type": "stream",
          "name": "stdout",
          "text": [
            "26-11-2021_04-11-13_AM.jpg\n",
            "26-11-2021_08-06-23_AM.jpg\n"
          ]
        },
        {
          "output_type": "stream",
          "name": "stderr",
          "text": [
            " 23%|██▎       | 195/855 [00:40<02:13,  4.93it/s]"
          ]
        },
        {
          "output_type": "stream",
          "name": "stdout",
          "text": [
            "26-11-2021_04-11-45_AM.jpg\n",
            "24-11-2021_04-36-03_AM.jpg\n"
          ]
        },
        {
          "output_type": "stream",
          "name": "stderr",
          "text": [
            " 23%|██▎       | 197/855 [00:40<02:13,  4.95it/s]"
          ]
        },
        {
          "output_type": "stream",
          "name": "stdout",
          "text": [
            "25-11-2021_10-20-40_AM.jpg\n",
            "24-11-2021_05-29-48_AM.jpg\n"
          ]
        },
        {
          "output_type": "stream",
          "name": "stderr",
          "text": [
            " 23%|██▎       | 199/855 [00:40<02:19,  4.69it/s]"
          ]
        },
        {
          "output_type": "stream",
          "name": "stdout",
          "text": [
            "25-11-2021_04-52-22_PM.jpg\n",
            "25-11-2021_08-50-53_AM.jpg\n"
          ]
        },
        {
          "output_type": "stream",
          "name": "stderr",
          "text": [
            " 24%|██▎       | 201/855 [00:41<02:16,  4.80it/s]"
          ]
        },
        {
          "output_type": "stream",
          "name": "stdout",
          "text": [
            "24-11-2021_09-57-05_AM.jpg\n",
            "26-11-2021_07-10-35_AM.jpg\n"
          ]
        },
        {
          "output_type": "stream",
          "name": "stderr",
          "text": [
            " 24%|██▎       | 203/855 [00:41<02:13,  4.88it/s]"
          ]
        },
        {
          "output_type": "stream",
          "name": "stdout",
          "text": [
            "23-11-2021_03-48-49_PM.jpg\n",
            "26-11-2021_03-35-23_AM.jpg\n"
          ]
        },
        {
          "output_type": "stream",
          "name": "stderr",
          "text": [
            "\r 24%|██▍       | 204/855 [00:41<02:10,  4.98it/s]"
          ]
        },
        {
          "output_type": "stream",
          "name": "stdout",
          "text": [
            "24-11-2021_07-53-17_AM.jpg\n"
          ]
        },
        {
          "output_type": "stream",
          "name": "stderr",
          "text": [
            " 24%|██▍       | 206/855 [00:42<02:15,  4.78it/s]"
          ]
        },
        {
          "output_type": "stream",
          "name": "stdout",
          "text": [
            "24-11-2021_11-45-59_AM.jpg\n",
            "24-11-2021_03-06-50_AM.jpg\n"
          ]
        },
        {
          "output_type": "stream",
          "name": "stderr",
          "text": [
            "\r 24%|██▍       | 207/855 [00:42<02:14,  4.82it/s]"
          ]
        },
        {
          "output_type": "stream",
          "name": "stdout",
          "text": [
            "24-11-2021_05-12-32_AM.jpg\n"
          ]
        },
        {
          "output_type": "stream",
          "name": "stderr",
          "text": [
            " 24%|██▍       | 209/855 [00:42<02:10,  4.94it/s]"
          ]
        },
        {
          "output_type": "stream",
          "name": "stdout",
          "text": [
            "2_23-11-2021_02-20-07_PM.jpg\n",
            "24-11-2021_10-33-07_AM.jpg\n"
          ]
        },
        {
          "output_type": "stream",
          "name": "stderr",
          "text": [
            "\r 25%|██▍       | 210/855 [00:43<02:11,  4.91it/s]"
          ]
        },
        {
          "output_type": "stream",
          "name": "stdout",
          "text": [
            "24-11-2021_06-59-50_AM.jpg\n"
          ]
        },
        {
          "output_type": "stream",
          "name": "stderr",
          "text": [
            " 25%|██▍       | 212/855 [00:43<02:15,  4.73it/s]"
          ]
        },
        {
          "output_type": "stream",
          "name": "stdout",
          "text": [
            "24-11-2021_10-25-31_PM.jpg\n",
            "25-11-2021_07-22-02_AM.jpg\n"
          ]
        },
        {
          "output_type": "stream",
          "name": "stderr",
          "text": [
            " 25%|██▌       | 214/855 [00:44<02:17,  4.67it/s]"
          ]
        },
        {
          "output_type": "stream",
          "name": "stdout",
          "text": [
            "26-11-2021_03-53-37_AM.jpg\n",
            "25-11-2021_05-47-16_PM.jpg\n"
          ]
        },
        {
          "output_type": "stream",
          "name": "stderr",
          "text": [
            "\r 25%|██▌       | 215/855 [00:44<02:15,  4.74it/s]"
          ]
        },
        {
          "output_type": "stream",
          "name": "stdout",
          "text": [
            "23-11-2021_02-56-00_PM.jpg\n"
          ]
        },
        {
          "output_type": "stream",
          "name": "stderr",
          "text": [
            " 25%|██▌       | 217/855 [00:44<02:16,  4.66it/s]"
          ]
        },
        {
          "output_type": "stream",
          "name": "stdout",
          "text": [
            "26-11-2021_10-49-21_AM.jpg\n",
            "24-11-2021_08-46-26_AM.jpg\n"
          ]
        },
        {
          "output_type": "stream",
          "name": "stderr",
          "text": [
            " 26%|██▌       | 219/855 [00:45<02:08,  4.96it/s]"
          ]
        },
        {
          "output_type": "stream",
          "name": "stdout",
          "text": [
            "0_25-11-2021_01-05-14_AM.jpg\n",
            "24-11-2021_04-11-29_PM.jpg\n"
          ]
        },
        {
          "output_type": "stream",
          "name": "stderr",
          "text": [
            "\r 26%|██▌       | 220/855 [00:45<02:09,  4.92it/s]"
          ]
        },
        {
          "output_type": "stream",
          "name": "stdout",
          "text": [
            "25-11-2021_07-33-52_PM.jpg\n"
          ]
        },
        {
          "output_type": "stream",
          "name": "stderr",
          "text": [
            "\r 26%|██▌       | 221/855 [00:45<02:15,  4.67it/s]"
          ]
        },
        {
          "output_type": "stream",
          "name": "stdout",
          "text": [
            "25-11-2021_08-15-01_AM.jpg\n"
          ]
        },
        {
          "output_type": "stream",
          "name": "stderr",
          "text": [
            " 26%|██▌       | 223/855 [00:45<02:14,  4.69it/s]"
          ]
        },
        {
          "output_type": "stream",
          "name": "stdout",
          "text": [
            "26-11-2021_10-52-57_AM.jpg\n"
          ]
        },
        {
          "output_type": "stream",
          "name": "stderr",
          "text": [
            "\r 26%|██▌       | 224/855 [00:46<02:13,  4.74it/s]"
          ]
        },
        {
          "output_type": "stream",
          "name": "stdout",
          "text": [
            "24-11-2021_07-08-21_PM.jpg\n"
          ]
        },
        {
          "output_type": "stream",
          "name": "stderr",
          "text": [
            " 26%|██▋       | 226/855 [00:46<02:00,  5.20it/s]"
          ]
        },
        {
          "output_type": "stream",
          "name": "stdout",
          "text": [
            "0_25-11-2021_05-34-46_AM.jpg\n",
            "25-11-2021_03-47-56_AM.jpg\n",
            "24-11-2021_07-36-12_AM.jpg\n"
          ]
        },
        {
          "output_type": "stream",
          "name": "stderr",
          "text": [
            " 27%|██▋       | 228/855 [00:46<02:03,  5.07it/s]"
          ]
        },
        {
          "output_type": "stream",
          "name": "stdout",
          "text": [
            "26-11-2021_06-17-16_AM.jpg\n",
            "26-11-2021_03-53-42_AM.jpg\n"
          ]
        },
        {
          "output_type": "stream",
          "name": "stderr",
          "text": [
            " 27%|██▋       | 230/855 [00:47<02:08,  4.86it/s]"
          ]
        },
        {
          "output_type": "stream",
          "name": "stdout",
          "text": [
            "24-11-2021_07-54-02_AM.jpg\n",
            "23-11-2021_06-46-48_PM.jpg\n"
          ]
        },
        {
          "output_type": "stream",
          "name": "stderr",
          "text": [
            "\r 27%|██▋       | 231/855 [00:47<02:07,  4.91it/s]"
          ]
        },
        {
          "output_type": "stream",
          "name": "stdout",
          "text": [
            "25-11-2021_01-56-07_PM.jpg\n"
          ]
        },
        {
          "output_type": "stream",
          "name": "stderr",
          "text": [
            " 27%|██▋       | 233/855 [00:47<02:06,  4.93it/s]"
          ]
        },
        {
          "output_type": "stream",
          "name": "stdout",
          "text": [
            "25-11-2021_01-18-18_PM.jpg\n",
            "24-11-2021_09-22-20_AM.jpg\n"
          ]
        },
        {
          "output_type": "stream",
          "name": "stderr",
          "text": [
            " 27%|██▋       | 235/855 [00:48<02:09,  4.80it/s]"
          ]
        },
        {
          "output_type": "stream",
          "name": "stdout",
          "text": [
            "24-11-2021_04-18-41_AM.jpg\n",
            "24-11-2021_11-09-35_AM.jpg\n"
          ]
        },
        {
          "output_type": "stream",
          "name": "stderr",
          "text": [
            " 28%|██▊       | 237/855 [00:48<02:10,  4.74it/s]"
          ]
        },
        {
          "output_type": "stream",
          "name": "stdout",
          "text": [
            "24-11-2021_02-43-32_PM.jpg\n",
            "1_24-11-2021_12-01-44_PM.jpg\n"
          ]
        },
        {
          "output_type": "stream",
          "name": "stderr",
          "text": [
            " 28%|██▊       | 239/855 [00:49<01:59,  5.15it/s]"
          ]
        },
        {
          "output_type": "stream",
          "name": "stdout",
          "text": [
            "26-11-2021_12-24-26_PM.jpg\n",
            "25-11-2021_04-34-05_PM.jpg\n"
          ]
        },
        {
          "output_type": "stream",
          "name": "stderr",
          "text": [
            " 28%|██▊       | 241/855 [00:49<02:05,  4.91it/s]"
          ]
        },
        {
          "output_type": "stream",
          "name": "stdout",
          "text": [
            "24-11-2021_02-06-37_PM.jpg\n",
            "24-11-2021_06-42-54_AM.jpg\n"
          ]
        },
        {
          "output_type": "stream",
          "name": "stderr",
          "text": [
            "\r 28%|██▊       | 242/855 [00:49<02:04,  4.91it/s]"
          ]
        },
        {
          "output_type": "stream",
          "name": "stdout",
          "text": [
            "26-11-2021_07-29-09_AM.jpg\n"
          ]
        },
        {
          "output_type": "stream",
          "name": "stderr",
          "text": [
            " 29%|██▊       | 244/855 [00:50<02:06,  4.84it/s]"
          ]
        },
        {
          "output_type": "stream",
          "name": "stdout",
          "text": [
            "25-11-2021_01-20-54_PM.jpg\n",
            "24-11-2021_02-31-10_AM.jpg\n"
          ]
        },
        {
          "output_type": "stream",
          "name": "stderr",
          "text": [
            " 29%|██▉       | 246/855 [00:50<02:02,  4.96it/s]"
          ]
        },
        {
          "output_type": "stream",
          "name": "stdout",
          "text": [
            "25-11-2021_08-32-04_AM.jpg\n",
            "23-11-2021_07-42-13_PM.jpg\n"
          ]
        },
        {
          "output_type": "stream",
          "name": "stderr",
          "text": [
            " 29%|██▉       | 248/855 [00:51<01:53,  5.36it/s]"
          ]
        },
        {
          "output_type": "stream",
          "name": "stdout",
          "text": [
            "0_26-11-2021_08-39-44_AM.jpg\n",
            "24-11-2021_04-47-07_PM.jpg\n"
          ]
        },
        {
          "output_type": "stream",
          "name": "stderr",
          "text": [
            " 29%|██▉       | 250/855 [00:51<01:57,  5.16it/s]"
          ]
        },
        {
          "output_type": "stream",
          "name": "stdout",
          "text": [
            "25-11-2021_08-34-17_AM.jpg\n",
            "24-11-2021_05-41-35_PM.jpg\n"
          ]
        },
        {
          "output_type": "stream",
          "name": "stderr",
          "text": [
            "\r 29%|██▉       | 251/855 [00:51<01:58,  5.10it/s]"
          ]
        },
        {
          "output_type": "stream",
          "name": "stdout",
          "text": [
            "26-11-2021_09-34-43_AM.jpg\n"
          ]
        },
        {
          "output_type": "stream",
          "name": "stderr",
          "text": [
            " 30%|██▉       | 253/855 [00:51<01:49,  5.50it/s]"
          ]
        },
        {
          "output_type": "stream",
          "name": "stdout",
          "text": [
            "0_24-11-2021_03-59-43_AM.jpg\n",
            "24-11-2021_07-09-00_PM.jpg\n"
          ]
        },
        {
          "output_type": "stream",
          "name": "stderr",
          "text": [
            "\r 30%|██▉       | 254/855 [00:52<01:59,  5.03it/s]"
          ]
        },
        {
          "output_type": "stream",
          "name": "stdout",
          "text": [
            "25-11-2021_03-58-54_PM.jpg\n"
          ]
        },
        {
          "output_type": "stream",
          "name": "stderr",
          "text": [
            " 30%|██▉       | 256/855 [00:52<02:03,  4.86it/s]"
          ]
        },
        {
          "output_type": "stream",
          "name": "stdout",
          "text": [
            "26-11-2021_08-23-34_AM.jpg\n",
            "25-11-2021_07-34-32_PM.jpg\n"
          ]
        },
        {
          "output_type": "stream",
          "name": "stderr",
          "text": [
            "\r 30%|███       | 257/855 [00:52<02:02,  4.88it/s]"
          ]
        },
        {
          "output_type": "stream",
          "name": "stdout",
          "text": [
            "26-11-2021_09-16-58_AM.jpg\n"
          ]
        },
        {
          "output_type": "stream",
          "name": "stderr",
          "text": [
            "\r 30%|███       | 258/855 [00:53<02:08,  4.66it/s]"
          ]
        },
        {
          "output_type": "stream",
          "name": "stdout",
          "text": [
            "25-11-2021_03-41-37_PM.jpg\n"
          ]
        },
        {
          "output_type": "stream",
          "name": "stderr",
          "text": [
            "\r 30%|███       | 259/855 [00:53<02:12,  4.51it/s]"
          ]
        },
        {
          "output_type": "stream",
          "name": "stdout",
          "text": [
            "23-11-2021_03-13-04_PM.jpg\n"
          ]
        },
        {
          "output_type": "stream",
          "name": "stderr",
          "text": [
            " 31%|███       | 261/855 [00:53<02:08,  4.63it/s]"
          ]
        },
        {
          "output_type": "stream",
          "name": "stdout",
          "text": [
            "26-11-2021_10-09-18_AM.jpg\n",
            "23-11-2021_05-18-46_PM.jpg\n"
          ]
        },
        {
          "output_type": "stream",
          "name": "stderr",
          "text": [
            " 31%|███       | 263/855 [00:54<02:06,  4.66it/s]"
          ]
        },
        {
          "output_type": "stream",
          "name": "stdout",
          "text": [
            "23-11-2021_04-41-57_PM.jpg\n",
            "24-11-2021_03-25-13_AM.jpg\n"
          ]
        },
        {
          "output_type": "stream",
          "name": "stderr",
          "text": [
            " 31%|███       | 265/855 [00:54<02:08,  4.60it/s]"
          ]
        },
        {
          "output_type": "stream",
          "name": "stdout",
          "text": [
            "24-11-2021_07-00-36_AM.jpg\n",
            "25-11-2021_04-18-04_PM.jpg\n"
          ]
        },
        {
          "output_type": "stream",
          "name": "stderr",
          "text": [
            " 31%|███       | 267/855 [00:55<02:02,  4.81it/s]"
          ]
        },
        {
          "output_type": "stream",
          "name": "stdout",
          "text": [
            "25-11-2021_01-36-55_PM.jpg\n",
            "24-11-2021_09-02-55_AM.jpg\n"
          ]
        },
        {
          "output_type": "stream",
          "name": "stderr",
          "text": [
            " 31%|███▏      | 269/855 [00:55<02:00,  4.88it/s]"
          ]
        },
        {
          "output_type": "stream",
          "name": "stdout",
          "text": [
            "26-11-2021_10-28-02_AM.jpg\n",
            "24-11-2021_10-14-58_AM.jpg\n"
          ]
        },
        {
          "output_type": "stream",
          "name": "stderr",
          "text": [
            " 32%|███▏      | 271/855 [00:55<01:57,  4.96it/s]"
          ]
        },
        {
          "output_type": "stream",
          "name": "stdout",
          "text": [
            "24-11-2021_11-25-50_AM.jpg\n",
            "25-11-2021_08-49-55_AM.jpg\n"
          ]
        },
        {
          "output_type": "stream",
          "name": "stderr",
          "text": [
            "\r 32%|███▏      | 272/855 [00:56<01:58,  4.93it/s]"
          ]
        },
        {
          "output_type": "stream",
          "name": "stdout",
          "text": [
            "26-11-2021_03-53-33_AM.jpg\n"
          ]
        },
        {
          "output_type": "stream",
          "name": "stderr",
          "text": [
            "\r 32%|███▏      | 273/855 [00:56<01:58,  4.90it/s]"
          ]
        },
        {
          "output_type": "stream",
          "name": "stdout",
          "text": [
            "25-11-2021_01-54-21_PM.jpg\n"
          ]
        },
        {
          "output_type": "stream",
          "name": "stderr",
          "text": [
            "\r 32%|███▏      | 274/855 [00:56<01:59,  4.88it/s]"
          ]
        },
        {
          "output_type": "stream",
          "name": "stdout",
          "text": [
            "24-11-2021_12-56-12_PM.jpg\n"
          ]
        },
        {
          "output_type": "stream",
          "name": "stderr",
          "text": [
            "\r 32%|███▏      | 275/855 [00:56<02:05,  4.63it/s]"
          ]
        },
        {
          "output_type": "stream",
          "name": "stdout",
          "text": [
            "23-11-2021_03-13-29_PM.jpg\n"
          ]
        },
        {
          "output_type": "stream",
          "name": "stderr",
          "text": [
            " 32%|███▏      | 277/855 [00:57<01:57,  4.91it/s]"
          ]
        },
        {
          "output_type": "stream",
          "name": "stdout",
          "text": [
            "1_24-11-2021_01-13-44_PM.jpg\n",
            "26-11-2021_03-18-02_AM.jpg\n"
          ]
        },
        {
          "output_type": "stream",
          "name": "stderr",
          "text": [
            " 33%|███▎      | 279/855 [00:57<01:59,  4.82it/s]"
          ]
        },
        {
          "output_type": "stream",
          "name": "stdout",
          "text": [
            "24-11-2021_03-00-04_PM.jpg\n",
            "26-11-2021_09-34-35_AM.jpg\n"
          ]
        },
        {
          "output_type": "stream",
          "name": "stderr",
          "text": [
            " 33%|███▎      | 281/855 [00:57<02:02,  4.67it/s]"
          ]
        },
        {
          "output_type": "stream",
          "name": "stdout",
          "text": [
            "23-11-2021_04-59-58_PM.jpg\n",
            "25-11-2021_05-46-31_PM.jpg\n"
          ]
        },
        {
          "output_type": "stream",
          "name": "stderr",
          "text": [
            "\r 33%|███▎      | 282/855 [00:58<02:06,  4.52it/s]"
          ]
        },
        {
          "output_type": "stream",
          "name": "stdout",
          "text": [
            "23-11-2021_07-41-17_PM.jpg\n"
          ]
        },
        {
          "output_type": "stream",
          "name": "stderr",
          "text": [
            "\r 33%|███▎      | 283/855 [00:58<02:09,  4.43it/s]"
          ]
        },
        {
          "output_type": "stream",
          "name": "stdout",
          "text": [
            "23-11-2021_03-14-00_PM.jpg\n"
          ]
        },
        {
          "output_type": "stream",
          "name": "stderr",
          "text": [
            "\r 33%|███▎      | 284/855 [00:58<02:12,  4.31it/s]"
          ]
        },
        {
          "output_type": "stream",
          "name": "stdout",
          "text": [
            "24-11-2021_03-53-30_PM.jpg\n"
          ]
        },
        {
          "output_type": "stream",
          "name": "stderr",
          "text": [
            "\r 33%|███▎      | 285/855 [00:58<02:13,  4.27it/s]"
          ]
        },
        {
          "output_type": "stream",
          "name": "stdout",
          "text": [
            "25-11-2021_04-40-43_AM.jpg\n"
          ]
        },
        {
          "output_type": "stream",
          "name": "stderr",
          "text": [
            " 34%|███▎      | 287/855 [00:59<02:00,  4.71it/s]"
          ]
        },
        {
          "output_type": "stream",
          "name": "stdout",
          "text": [
            "0_25-11-2021_07-58-20_AM.jpg\n",
            "25-11-2021_08-50-48_AM.jpg\n"
          ]
        },
        {
          "output_type": "stream",
          "name": "stderr",
          "text": [
            " 34%|███▍      | 289/855 [00:59<01:55,  4.90it/s]"
          ]
        },
        {
          "output_type": "stream",
          "name": "stdout",
          "text": [
            "25-11-2021_06-03-18_PM.jpg\n",
            "26-11-2021_04-29-34_AM.jpg\n"
          ]
        },
        {
          "output_type": "stream",
          "name": "stderr",
          "text": [
            " 34%|███▍      | 291/855 [01:00<01:47,  5.23it/s]"
          ]
        },
        {
          "output_type": "stream",
          "name": "stdout",
          "text": [
            "1_24-11-2021_09-22-55_AM.jpg\n",
            "25-11-2021_01-37-49_PM.jpg\n"
          ]
        },
        {
          "output_type": "stream",
          "name": "stderr",
          "text": [
            " 34%|███▍      | 293/855 [01:00<01:54,  4.92it/s]"
          ]
        },
        {
          "output_type": "stream",
          "name": "stdout",
          "text": [
            "26-11-2021_08-06-03_AM.jpg\n",
            "26-11-2021_03-35-26_AM.jpg\n"
          ]
        },
        {
          "output_type": "stream",
          "name": "stderr",
          "text": [
            " 35%|███▍      | 295/855 [01:00<01:51,  5.03it/s]"
          ]
        },
        {
          "output_type": "stream",
          "name": "stdout",
          "text": [
            "25-11-2021_11-14-06_AM.jpg\n",
            "25-11-2021_10-02-28_AM.jpg\n"
          ]
        },
        {
          "output_type": "stream",
          "name": "stderr",
          "text": [
            "\r 35%|███▍      | 296/855 [01:01<01:50,  5.04it/s]"
          ]
        },
        {
          "output_type": "stream",
          "name": "stdout",
          "text": [
            "24-11-2021_02-42-57_PM.jpg\n"
          ]
        },
        {
          "output_type": "stream",
          "name": "stderr",
          "text": [
            " 35%|███▍      | 298/855 [01:01<01:45,  5.26it/s]"
          ]
        },
        {
          "output_type": "stream",
          "name": "stdout",
          "text": [
            "0_25-11-2021_10-03-07_AM.jpg\n",
            "24-11-2021_12-19-31_PM.jpg\n"
          ]
        },
        {
          "output_type": "stream",
          "name": "stderr",
          "text": [
            " 35%|███▌      | 300/855 [01:01<01:47,  5.14it/s]"
          ]
        },
        {
          "output_type": "stream",
          "name": "stdout",
          "text": [
            "25-11-2021_06-28-52_AM.jpg\n",
            "0_24-11-2021_01-49-25_PM.jpg\n"
          ]
        },
        {
          "output_type": "stream",
          "name": "stderr",
          "text": [
            " 35%|███▌      | 302/855 [01:02<01:38,  5.63it/s]"
          ]
        },
        {
          "output_type": "stream",
          "name": "stdout",
          "text": [
            "24-11-2021_03-00-12_PM.jpg\n",
            "1_24-11-2021_10-14-52_AM.jpg\n"
          ]
        },
        {
          "output_type": "stream",
          "name": "stderr",
          "text": [
            " 36%|███▌      | 304/855 [01:02<01:39,  5.55it/s]"
          ]
        },
        {
          "output_type": "stream",
          "name": "stdout",
          "text": [
            "23-11-2021_06-31-22_PM.jpg\n",
            "24-11-2021_12-19-34_PM.jpg\n"
          ]
        },
        {
          "output_type": "stream",
          "name": "stderr",
          "text": [
            " 36%|███▌      | 306/855 [01:02<01:45,  5.20it/s]"
          ]
        },
        {
          "output_type": "stream",
          "name": "stdout",
          "text": [
            "24-11-2021_05-13-30_AM.jpg\n",
            "26-11-2021_12-30-08_PM.jpg\n"
          ]
        },
        {
          "output_type": "stream",
          "name": "stderr",
          "text": [
            " 36%|███▌      | 308/855 [01:03<01:46,  5.14it/s]"
          ]
        },
        {
          "output_type": "stream",
          "name": "stdout",
          "text": [
            "25-11-2021_04-04-05_AM.jpg\n",
            "24-11-2021_06-23-42_AM.jpg\n"
          ]
        },
        {
          "output_type": "stream",
          "name": "stderr",
          "text": [
            "\r 36%|███▌      | 309/855 [01:03<01:47,  5.08it/s]"
          ]
        },
        {
          "output_type": "stream",
          "name": "stdout",
          "text": [
            "24-11-2021_08-46-23_AM.jpg\n"
          ]
        },
        {
          "output_type": "stream",
          "name": "stderr",
          "text": [
            " 36%|███▋      | 311/855 [01:03<01:43,  5.24it/s]"
          ]
        },
        {
          "output_type": "stream",
          "name": "stdout",
          "text": [
            "0_24-11-2021_05-12-35_AM.jpg\n",
            "25-11-2021_08-52-12_AM.jpg\n"
          ]
        },
        {
          "output_type": "stream",
          "name": "stderr",
          "text": [
            " 37%|███▋      | 313/855 [01:04<01:46,  5.08it/s]"
          ]
        },
        {
          "output_type": "stream",
          "name": "stdout",
          "text": [
            "25-11-2021_03-46-33_AM.jpg\n",
            "23-11-2021_05-01-08_PM.jpg\n"
          ]
        },
        {
          "output_type": "stream",
          "name": "stderr",
          "text": [
            "\r 37%|███▋      | 314/855 [01:04<01:53,  4.77it/s]"
          ]
        },
        {
          "output_type": "stream",
          "name": "stdout",
          "text": [
            "25-11-2021_10-21-06_AM.jpg\n"
          ]
        },
        {
          "output_type": "stream",
          "name": "stderr",
          "text": [
            " 37%|███▋      | 316/855 [01:05<01:54,  4.72it/s]"
          ]
        },
        {
          "output_type": "stream",
          "name": "stdout",
          "text": [
            "25-11-2021_04-58-09_AM.jpg\n"
          ]
        },
        {
          "output_type": "stream",
          "name": "stderr",
          "text": [
            "\r 37%|███▋      | 317/855 [01:05<01:43,  5.18it/s]"
          ]
        },
        {
          "output_type": "stream",
          "name": "stdout",
          "text": [
            "0_26-11-2021_12-55-52_AM.jpg\n",
            "25-11-2021_08-50-33_AM.jpg\n"
          ]
        },
        {
          "output_type": "stream",
          "name": "stderr",
          "text": [
            "\r 37%|███▋      | 318/855 [01:05<01:51,  4.82it/s]"
          ]
        },
        {
          "output_type": "stream",
          "name": "stdout",
          "text": [
            "23-11-2021_06-30-27_PM.jpg\n"
          ]
        },
        {
          "output_type": "stream",
          "name": "stderr",
          "text": [
            "\r 37%|███▋      | 319/855 [01:05<01:55,  4.64it/s]"
          ]
        },
        {
          "output_type": "stream",
          "name": "stdout",
          "text": [
            "23-11-2021_04-43-13_PM.jpg\n"
          ]
        },
        {
          "output_type": "stream",
          "name": "stderr",
          "text": [
            " 38%|███▊      | 321/855 [01:06<01:54,  4.66it/s]"
          ]
        },
        {
          "output_type": "stream",
          "name": "stdout",
          "text": [
            "25-11-2021_01-20-39_PM.jpg\n",
            "23-11-2021_05-18-06_PM.jpg\n"
          ]
        },
        {
          "output_type": "stream",
          "name": "stderr",
          "text": [
            " 38%|███▊      | 323/855 [01:06<01:54,  4.63it/s]"
          ]
        },
        {
          "output_type": "stream",
          "name": "stdout",
          "text": [
            "24-11-2021_03-19-29_PM.jpg\n",
            "25-11-2021_09-09-37_AM.jpg\n"
          ]
        },
        {
          "output_type": "stream",
          "name": "stderr",
          "text": [
            " 38%|███▊      | 325/855 [01:06<01:41,  5.24it/s]"
          ]
        },
        {
          "output_type": "stream",
          "name": "stdout",
          "text": [
            "1_26-11-2021_04-10-55_AM.jpg\n",
            "25-11-2021_06-21-32_PM.jpg\n"
          ]
        },
        {
          "output_type": "stream",
          "name": "stderr",
          "text": [
            " 38%|███▊      | 327/855 [01:07<01:47,  4.89it/s]"
          ]
        },
        {
          "output_type": "stream",
          "name": "stdout",
          "text": [
            "25-11-2021_06-09-42_AM.jpg\n",
            "24-11-2021_01-50-40_PM.jpg\n"
          ]
        },
        {
          "output_type": "stream",
          "name": "stderr",
          "text": [
            " 38%|███▊      | 329/855 [01:07<01:45,  5.00it/s]"
          ]
        },
        {
          "output_type": "stream",
          "name": "stdout",
          "text": [
            "23-11-2021_02-21-03_PM.jpg\n"
          ]
        },
        {
          "output_type": "stream",
          "name": "stderr",
          "text": [
            " 39%|███▊      | 331/855 [01:08<01:47,  4.86it/s]"
          ]
        },
        {
          "output_type": "stream",
          "name": "stdout",
          "text": [
            "23-11-2021_02-56-18_PM.jpg\n",
            "24-11-2021_09-38-40_AM.jpg\n",
            "24-11-2021_11-08-58_AM.jpg\n"
          ]
        },
        {
          "output_type": "stream",
          "name": "stderr",
          "text": [
            "\r 39%|███▉      | 332/855 [01:08<01:52,  4.63it/s]"
          ]
        },
        {
          "output_type": "stream",
          "name": "stdout",
          "text": [
            "25-11-2021_10-03-33_AM.jpg\n"
          ]
        },
        {
          "output_type": "stream",
          "name": "stderr",
          "text": [
            " 39%|███▉      | 334/855 [01:08<01:51,  4.65it/s]"
          ]
        },
        {
          "output_type": "stream",
          "name": "stdout",
          "text": [
            "24-11-2021_10-50-27_AM.jpg\n",
            "23-11-2021_02-38-55_PM.jpg\n"
          ]
        },
        {
          "output_type": "stream",
          "name": "stderr",
          "text": [
            "\r 39%|███▉      | 335/855 [01:09<01:51,  4.68it/s]"
          ]
        },
        {
          "output_type": "stream",
          "name": "stdout",
          "text": [
            "23-11-2021_02-19-26_PM.jpg\n"
          ]
        },
        {
          "output_type": "stream",
          "name": "stderr",
          "text": [
            " 39%|███▉      | 337/855 [01:09<01:39,  5.23it/s]"
          ]
        },
        {
          "output_type": "stream",
          "name": "stdout",
          "text": [
            "0_25-11-2021_04-21-55_AM.jpg\n",
            "24-11-2021_09-03-51_AM.jpg\n"
          ]
        },
        {
          "output_type": "stream",
          "name": "stderr",
          "text": [
            " 40%|███▉      | 339/855 [01:09<01:40,  5.14it/s]"
          ]
        },
        {
          "output_type": "stream",
          "name": "stdout",
          "text": [
            "24-11-2021_07-28-24_PM.jpg\n",
            "24-11-2021_09-21-31_AM.jpg\n"
          ]
        },
        {
          "output_type": "stream",
          "name": "stderr",
          "text": [
            " 40%|███▉      | 341/855 [01:10<01:46,  4.84it/s]"
          ]
        },
        {
          "output_type": "stream",
          "name": "stdout",
          "text": [
            "26-11-2021_06-36-09_AM.jpg\n",
            "3_25-11-2021_04-21-55_AM.jpg\n"
          ]
        },
        {
          "output_type": "stream",
          "name": "stderr",
          "text": [
            " 40%|████      | 343/855 [01:10<01:26,  5.91it/s]"
          ]
        },
        {
          "output_type": "stream",
          "name": "stdout",
          "text": [
            "0_24-11-2021_09-38-58_AM.jpg\n",
            "25-11-2021_08-32-41_AM.jpg\n"
          ]
        },
        {
          "output_type": "stream",
          "name": "stderr",
          "text": [
            "\r 40%|████      | 344/855 [01:10<01:37,  5.22it/s]"
          ]
        },
        {
          "output_type": "stream",
          "name": "stdout",
          "text": [
            "24-11-2021_10-33-58_AM.jpg\n"
          ]
        },
        {
          "output_type": "stream",
          "name": "stderr",
          "text": [
            " 40%|████      | 346/855 [01:11<01:43,  4.90it/s]"
          ]
        },
        {
          "output_type": "stream",
          "name": "stdout",
          "text": [
            "23-11-2021_02-37-22_PM.jpg\n",
            "25-11-2021_10-01-48_AM.jpg\n"
          ]
        },
        {
          "output_type": "stream",
          "name": "stderr",
          "text": [
            "\r 41%|████      | 347/855 [01:11<01:42,  4.96it/s]"
          ]
        },
        {
          "output_type": "stream",
          "name": "stdout",
          "text": [
            "24-11-2021_11-44-29_AM.jpg\n"
          ]
        },
        {
          "output_type": "stream",
          "name": "stderr",
          "text": [
            " 41%|████      | 349/855 [01:11<01:44,  4.84it/s]"
          ]
        },
        {
          "output_type": "stream",
          "name": "stdout",
          "text": [
            "24-11-2021_02-31-12_AM.jpg\n",
            "0_26-11-2021_08-57-34_AM.jpg\n"
          ]
        },
        {
          "output_type": "stream",
          "name": "stderr",
          "text": [
            "\r 41%|████      | 350/855 [01:11<01:31,  5.52it/s]"
          ]
        },
        {
          "output_type": "stream",
          "name": "stdout",
          "text": [
            "24-11-2021_09-04-43_AM.jpg\n"
          ]
        },
        {
          "output_type": "stream",
          "name": "stderr",
          "text": [
            " 41%|████      | 352/855 [01:12<01:34,  5.34it/s]"
          ]
        },
        {
          "output_type": "stream",
          "name": "stdout",
          "text": [
            "0_26-11-2021_10-11-18_AM.jpg\n",
            "26-11-2021_09-17-30_AM.jpg\n"
          ]
        },
        {
          "output_type": "stream",
          "name": "stderr",
          "text": [
            "\r 41%|████▏     | 353/855 [01:12<01:36,  5.20it/s]"
          ]
        },
        {
          "output_type": "stream",
          "name": "stdout",
          "text": [
            "25-11-2021_05-09-52_PM.jpg\n"
          ]
        },
        {
          "output_type": "stream",
          "name": "stderr",
          "text": [
            "\r 41%|████▏     | 354/855 [01:12<01:43,  4.84it/s]"
          ]
        },
        {
          "output_type": "stream",
          "name": "stdout",
          "text": [
            "24-11-2021_03-17-45_PM.jpg\n"
          ]
        },
        {
          "output_type": "stream",
          "name": "stderr",
          "text": [
            " 42%|████▏     | 356/855 [01:13<01:44,  4.78it/s]"
          ]
        },
        {
          "output_type": "stream",
          "name": "stdout",
          "text": [
            "25-11-2021_09-20-00_PM.jpg\n",
            "24-11-2021_06-23-20_AM.jpg\n"
          ]
        },
        {
          "output_type": "stream",
          "name": "stderr",
          "text": [
            " 42%|████▏     | 358/855 [01:13<01:46,  4.65it/s]"
          ]
        },
        {
          "output_type": "stream",
          "name": "stdout",
          "text": [
            "23-11-2021_04-59-17_PM.jpg\n",
            "25-11-2021_10-56-36_AM.jpg\n"
          ]
        },
        {
          "output_type": "stream",
          "name": "stderr",
          "text": [
            " 42%|████▏     | 360/855 [01:14<01:46,  4.64it/s]"
          ]
        },
        {
          "output_type": "stream",
          "name": "stdout",
          "text": [
            "26-11-2021_02-42-05_AM.jpg\n",
            "24-11-2021_05-40-07_PM.jpg\n"
          ]
        },
        {
          "output_type": "stream",
          "name": "stderr",
          "text": [
            "\r 42%|████▏     | 361/855 [01:14<01:51,  4.42it/s]"
          ]
        },
        {
          "output_type": "stream",
          "name": "stdout",
          "text": [
            "24-11-2021_12-20-52_PM.jpg\n"
          ]
        },
        {
          "output_type": "stream",
          "name": "stderr",
          "text": [
            "\r 42%|████▏     | 362/855 [01:14<01:49,  4.49it/s]"
          ]
        },
        {
          "output_type": "stream",
          "name": "stdout",
          "text": [
            "25-11-2021_08-33-34_AM.jpg\n"
          ]
        },
        {
          "output_type": "stream",
          "name": "stderr",
          "text": [
            " 43%|████▎     | 364/855 [01:15<01:48,  4.52it/s]"
          ]
        },
        {
          "output_type": "stream",
          "name": "stdout",
          "text": [
            "25-11-2021_08-50-27_AM.jpg\n",
            "23-11-2021_07-05-28_PM.jpg\n"
          ]
        },
        {
          "output_type": "stream",
          "name": "stderr",
          "text": [
            " 43%|████▎     | 366/855 [01:15<01:45,  4.64it/s]"
          ]
        },
        {
          "output_type": "stream",
          "name": "stdout",
          "text": [
            "26-11-2021_12-07-24_PM.jpg\n",
            "26-11-2021_06-54-32_AM.jpg\n"
          ]
        },
        {
          "output_type": "stream",
          "name": "stderr",
          "text": [
            "\r 43%|████▎     | 367/855 [01:15<01:43,  4.69it/s]"
          ]
        },
        {
          "output_type": "stream",
          "name": "stdout",
          "text": [
            "25-11-2021_06-27-21_AM.jpg\n"
          ]
        },
        {
          "output_type": "stream",
          "name": "stderr",
          "text": [
            " 43%|████▎     | 369/855 [01:16<01:39,  4.89it/s]"
          ]
        },
        {
          "output_type": "stream",
          "name": "stdout",
          "text": [
            "23-11-2021_05-02-13_PM.jpg\n",
            "24-11-2021_03-42-56_AM.jpg\n"
          ]
        },
        {
          "output_type": "stream",
          "name": "stderr",
          "text": [
            " 43%|████▎     | 371/855 [01:16<01:29,  5.39it/s]"
          ]
        },
        {
          "output_type": "stream",
          "name": "stdout",
          "text": [
            "0_24-11-2021_09-13-14_PM.jpg\n",
            "26-11-2021_07-27-54_AM.jpg\n"
          ]
        },
        {
          "output_type": "stream",
          "name": "stderr",
          "text": [
            "\r 44%|████▎     | 372/855 [01:16<01:31,  5.27it/s]"
          ]
        },
        {
          "output_type": "stream",
          "name": "stdout",
          "text": [
            "25-11-2021_09-44-25_AM.jpg\n"
          ]
        },
        {
          "output_type": "stream",
          "name": "stderr",
          "text": [
            " 44%|████▎     | 374/855 [01:17<01:33,  5.15it/s]"
          ]
        },
        {
          "output_type": "stream",
          "name": "stdout",
          "text": [
            "26-11-2021_05-43-02_AM.jpg\n",
            "24-11-2021_08-28-09_AM.jpg\n"
          ]
        },
        {
          "output_type": "stream",
          "name": "stderr",
          "text": [
            "\r 44%|████▍     | 375/855 [01:17<01:41,  4.75it/s]"
          ]
        },
        {
          "output_type": "stream",
          "name": "stdout",
          "text": [
            "25-11-2021_09-45-47_AM.jpg\n"
          ]
        },
        {
          "output_type": "stream",
          "name": "stderr",
          "text": [
            " 44%|████▍     | 377/855 [01:17<01:38,  4.83it/s]"
          ]
        },
        {
          "output_type": "stream",
          "name": "stdout",
          "text": [
            "24-11-2021_07-27-02_PM.jpg\n",
            "24-11-2021_09-02-57_AM.jpg\n"
          ]
        },
        {
          "output_type": "stream",
          "name": "stderr",
          "text": [
            " 44%|████▍     | 379/855 [01:18<01:36,  4.95it/s]"
          ]
        },
        {
          "output_type": "stream",
          "name": "stdout",
          "text": [
            "25-11-2021_06-45-24_AM.jpg\n",
            "24-11-2021_02-42-46_PM.jpg\n"
          ]
        },
        {
          "output_type": "stream",
          "name": "stderr",
          "text": [
            " 45%|████▍     | 381/855 [01:18<01:38,  4.80it/s]"
          ]
        },
        {
          "output_type": "stream",
          "name": "stdout",
          "text": [
            "23-11-2021_03-31-18_PM.jpg\n",
            "26-11-2021_08-04-15_AM.jpg\n"
          ]
        },
        {
          "output_type": "stream",
          "name": "stderr",
          "text": [
            " 45%|████▍     | 383/855 [01:18<01:31,  5.18it/s]"
          ]
        },
        {
          "output_type": "stream",
          "name": "stdout",
          "text": [
            "25-11-2021_03-12-34_AM.jpg\n",
            "24-11-2021_10-50-59_AM.jpg\n"
          ]
        },
        {
          "output_type": "stream",
          "name": "stderr",
          "text": [
            " 45%|████▌     | 385/855 [01:19<01:22,  5.71it/s]"
          ]
        },
        {
          "output_type": "stream",
          "name": "stdout",
          "text": [
            "0_26-11-2021_03-53-12_AM.jpg\n",
            "26-11-2021_06-52-37_AM.jpg\n"
          ]
        },
        {
          "output_type": "stream",
          "name": "stderr",
          "text": [
            " 45%|████▌     | 387/855 [01:19<01:28,  5.29it/s]"
          ]
        },
        {
          "output_type": "stream",
          "name": "stdout",
          "text": [
            "25-11-2021_11-15-15_AM.jpg\n",
            "24-11-2021_04-47-04_PM.jpg\n"
          ]
        },
        {
          "output_type": "stream",
          "name": "stderr",
          "text": [
            " 45%|████▌     | 389/855 [01:20<01:32,  5.06it/s]"
          ]
        },
        {
          "output_type": "stream",
          "name": "stdout",
          "text": [
            "26-11-2021_09-17-10_AM.jpg\n",
            "25-11-2021_05-28-22_PM.jpg\n"
          ]
        },
        {
          "output_type": "stream",
          "name": "stderr",
          "text": [
            "\r 46%|████▌     | 390/855 [01:20<01:38,  4.70it/s]"
          ]
        },
        {
          "output_type": "stream",
          "name": "stdout",
          "text": [
            "25-11-2021_03-59-16_PM.jpg\n"
          ]
        },
        {
          "output_type": "stream",
          "name": "stderr",
          "text": [
            " 46%|████▌     | 392/855 [01:20<01:32,  5.02it/s]"
          ]
        },
        {
          "output_type": "stream",
          "name": "stdout",
          "text": [
            "0_23-11-2021_05-55-18_PM.jpg\n",
            "25-11-2021_06-46-24_AM.jpg\n"
          ]
        },
        {
          "output_type": "stream",
          "name": "stderr",
          "text": [
            "\r 46%|████▌     | 393/855 [01:21<02:01,  3.80it/s]"
          ]
        },
        {
          "output_type": "stream",
          "name": "stdout",
          "text": [
            "25-11-2021_05-09-38_PM.jpg\n"
          ]
        },
        {
          "output_type": "stream",
          "name": "stderr",
          "text": [
            " 46%|████▌     | 395/855 [01:21<02:15,  3.41it/s]"
          ]
        },
        {
          "output_type": "stream",
          "name": "stdout",
          "text": [
            "25-11-2021_01-58-34_AM.jpg\n",
            "24-11-2021_12-02-11_PM.jpg\n"
          ]
        },
        {
          "output_type": "stream",
          "name": "stderr",
          "text": [
            " 46%|████▋     | 397/855 [01:22<01:51,  4.10it/s]"
          ]
        },
        {
          "output_type": "stream",
          "name": "stdout",
          "text": [
            "24-11-2021_06-40-53_AM.jpg\n",
            "23-11-2021_03-14-04_PM.jpg\n"
          ]
        },
        {
          "output_type": "stream",
          "name": "stderr",
          "text": [
            " 47%|████▋     | 399/855 [01:22<01:44,  4.38it/s]"
          ]
        },
        {
          "output_type": "stream",
          "name": "stdout",
          "text": [
            "26-11-2021_07-10-46_AM.jpg\n",
            "23-11-2021_04-24-45_PM.jpg\n"
          ]
        },
        {
          "output_type": "stream",
          "name": "stderr",
          "text": [
            " 47%|████▋     | 401/855 [01:22<01:37,  4.67it/s]"
          ]
        },
        {
          "output_type": "stream",
          "name": "stdout",
          "text": [
            "24-11-2021_09-33-08_PM.jpg\n",
            "24-11-2021_11-44-39_AM.jpg\n"
          ]
        },
        {
          "output_type": "stream",
          "name": "stderr",
          "text": [
            "\r 47%|████▋     | 402/855 [01:23<01:41,  4.47it/s]"
          ]
        },
        {
          "output_type": "stream",
          "name": "stdout",
          "text": [
            "24-11-2021_04-54-59_AM.jpg\n"
          ]
        },
        {
          "output_type": "stream",
          "name": "stderr",
          "text": [
            " 47%|████▋     | 404/855 [01:23<01:39,  4.54it/s]"
          ]
        },
        {
          "output_type": "stream",
          "name": "stdout",
          "text": [
            "24-11-2021_01-12-19_PM.jpg\n",
            "25-11-2021_05-15-15_AM.jpg\n"
          ]
        },
        {
          "output_type": "stream",
          "name": "stderr",
          "text": [
            "\r 47%|████▋     | 405/855 [01:23<01:35,  4.70it/s]"
          ]
        },
        {
          "output_type": "stream",
          "name": "stdout",
          "text": [
            "25-11-2021_02-13-50_PM.jpg\n"
          ]
        },
        {
          "output_type": "stream",
          "name": "stderr",
          "text": [
            " 48%|████▊     | 407/855 [01:24<01:35,  4.68it/s]"
          ]
        },
        {
          "output_type": "stream",
          "name": "stdout",
          "text": [
            "24-11-2021_03-01-14_PM.jpg\n",
            "24-11-2021_07-28-27_PM.jpg\n"
          ]
        },
        {
          "output_type": "stream",
          "name": "stderr",
          "text": [
            " 48%|████▊     | 409/855 [01:24<01:33,  4.78it/s]"
          ]
        },
        {
          "output_type": "stream",
          "name": "stdout",
          "text": [
            "24-11-2021_08-46-18_AM.jpg\n"
          ]
        },
        {
          "output_type": "stream",
          "name": "stderr",
          "text": [
            " 48%|████▊     | 411/855 [01:25<01:25,  5.18it/s]"
          ]
        },
        {
          "output_type": "stream",
          "name": "stdout",
          "text": [
            "23-11-2021_02-19-42_PM.jpg\n",
            "1_24-11-2021_05-29-11_AM.jpg\n",
            "24-11-2021_02-25-31_PM.jpg\n"
          ]
        },
        {
          "output_type": "stream",
          "name": "stderr",
          "text": [
            "\r 48%|████▊     | 412/855 [01:25<01:32,  4.78it/s]"
          ]
        },
        {
          "output_type": "stream",
          "name": "stdout",
          "text": [
            "26-11-2021_06-53-07_AM.jpg\n"
          ]
        },
        {
          "output_type": "stream",
          "name": "stderr",
          "text": [
            " 48%|████▊     | 414/855 [01:25<01:31,  4.84it/s]"
          ]
        },
        {
          "output_type": "stream",
          "name": "stdout",
          "text": [
            "25-11-2021_05-09-56_PM.jpg\n",
            "0_23-11-2021_02-20-47_PM.jpg\n"
          ]
        },
        {
          "output_type": "stream",
          "name": "stderr",
          "text": [
            " 49%|████▊     | 416/855 [01:26<01:24,  5.18it/s]"
          ]
        },
        {
          "output_type": "stream",
          "name": "stdout",
          "text": [
            "24-11-2021_01-36-38_AM.jpg\n",
            "25-11-2021_10-20-32_AM.jpg\n"
          ]
        },
        {
          "output_type": "stream",
          "name": "stderr",
          "text": [
            " 49%|████▉     | 418/855 [01:26<01:25,  5.09it/s]"
          ]
        },
        {
          "output_type": "stream",
          "name": "stdout",
          "text": [
            "24-11-2021_12-37-02_PM.jpg\n",
            "24-11-2021_02-42-12_PM.jpg\n"
          ]
        },
        {
          "output_type": "stream",
          "name": "stderr",
          "text": [
            "\r 49%|████▉     | 419/855 [01:26<01:25,  5.09it/s]"
          ]
        },
        {
          "output_type": "stream",
          "name": "stdout",
          "text": [
            "26-11-2021_09-53-51_AM.jpg\n"
          ]
        },
        {
          "output_type": "stream",
          "name": "stderr",
          "text": [
            "\r 49%|████▉     | 420/855 [01:26<01:26,  5.01it/s]"
          ]
        },
        {
          "output_type": "stream",
          "name": "stdout",
          "text": [
            "24-11-2021_06-42-28_AM.jpg\n"
          ]
        },
        {
          "output_type": "stream",
          "name": "stderr",
          "text": [
            "\r 49%|████▉     | 421/855 [01:27<01:30,  4.79it/s]"
          ]
        },
        {
          "output_type": "stream",
          "name": "stdout",
          "text": [
            "26-11-2021_10-10-13_AM.jpg\n"
          ]
        },
        {
          "output_type": "stream",
          "name": "stderr",
          "text": [
            " 49%|████▉     | 423/855 [01:27<01:18,  5.47it/s]"
          ]
        },
        {
          "output_type": "stream",
          "name": "stdout",
          "text": [
            "1_26-11-2021_12-02-25_PM.jpg\n",
            "25-11-2021_04-53-39_PM.jpg\n"
          ]
        },
        {
          "output_type": "stream",
          "name": "stderr",
          "text": [
            " 50%|████▉     | 425/855 [01:27<01:21,  5.27it/s]"
          ]
        },
        {
          "output_type": "stream",
          "name": "stdout",
          "text": [
            "24-11-2021_12-37-30_PM.jpg\n",
            "25-11-2021_11-15-40_AM.jpg\n"
          ]
        },
        {
          "output_type": "stream",
          "name": "stderr",
          "text": [
            "\r 50%|████▉     | 426/855 [01:28<01:23,  5.11it/s]"
          ]
        },
        {
          "output_type": "stream",
          "name": "stdout",
          "text": [
            "25-11-2021_03-59-27_PM.jpg\n"
          ]
        },
        {
          "output_type": "stream",
          "name": "stderr",
          "text": [
            "\r 50%|████▉     | 427/855 [01:28<01:28,  4.83it/s]"
          ]
        },
        {
          "output_type": "stream",
          "name": "stdout",
          "text": [
            "25-11-2021_06-10-03_AM.jpg\n"
          ]
        },
        {
          "output_type": "stream",
          "name": "stderr",
          "text": [
            "\r 50%|█████     | 428/855 [01:28<01:32,  4.61it/s]"
          ]
        },
        {
          "output_type": "stream",
          "name": "stdout",
          "text": [
            "26-11-2021_08-59-28_AM.jpg\n"
          ]
        },
        {
          "output_type": "stream",
          "name": "stderr",
          "text": [
            " 50%|█████     | 430/855 [01:28<01:29,  4.76it/s]"
          ]
        },
        {
          "output_type": "stream",
          "name": "stdout",
          "text": [
            "25-11-2021_10-19-38_AM.jpg\n",
            "24-11-2021_12-19-04_PM.jpg\n"
          ]
        },
        {
          "output_type": "stream",
          "name": "stderr",
          "text": [
            "\r 50%|█████     | 431/855 [01:29<01:47,  3.95it/s]"
          ]
        },
        {
          "output_type": "stream",
          "name": "stdout",
          "text": [
            "24-11-2021_12-03-30_PM.jpg\n"
          ]
        },
        {
          "output_type": "stream",
          "name": "stderr",
          "text": [
            "\r 51%|█████     | 432/855 [01:29<02:00,  3.52it/s]"
          ]
        },
        {
          "output_type": "stream",
          "name": "stdout",
          "text": [
            "23-11-2021_03-14-55_PM.jpg\n"
          ]
        },
        {
          "output_type": "stream",
          "name": "stderr",
          "text": [
            "\r 51%|█████     | 433/855 [01:29<01:57,  3.58it/s]"
          ]
        },
        {
          "output_type": "stream",
          "name": "stdout",
          "text": [
            "24-11-2021_12-38-47_PM.jpg\n"
          ]
        },
        {
          "output_type": "stream",
          "name": "stderr",
          "text": [
            "\r 51%|█████     | 434/855 [01:30<02:25,  2.89it/s]"
          ]
        },
        {
          "output_type": "stream",
          "name": "stdout",
          "text": [
            "25-11-2021_05-50-52_AM.jpg\n"
          ]
        },
        {
          "output_type": "stream",
          "name": "stderr",
          "text": [
            "\r 51%|█████     | 435/855 [01:30<02:47,  2.51it/s]"
          ]
        },
        {
          "output_type": "stream",
          "name": "stdout",
          "text": [
            "26-11-2021_12-04-22_PM.jpg\n"
          ]
        },
        {
          "output_type": "stream",
          "name": "stderr",
          "text": [
            "\r 51%|█████     | 436/855 [01:31<02:54,  2.39it/s]"
          ]
        },
        {
          "output_type": "stream",
          "name": "stdout",
          "text": [
            "26-11-2021_07-30-30_AM.jpg\n"
          ]
        },
        {
          "output_type": "stream",
          "name": "stderr",
          "text": [
            "\r 51%|█████     | 437/855 [01:31<02:54,  2.39it/s]"
          ]
        },
        {
          "output_type": "stream",
          "name": "stdout",
          "text": [
            "25-11-2021_05-51-12_AM.jpg\n"
          ]
        },
        {
          "output_type": "stream",
          "name": "stderr",
          "text": [
            "\r 51%|█████     | 438/855 [01:32<03:08,  2.22it/s]"
          ]
        },
        {
          "output_type": "stream",
          "name": "stdout",
          "text": [
            "24-11-2021_05-05-31_PM.jpg\n"
          ]
        },
        {
          "output_type": "stream",
          "name": "stderr",
          "text": [
            "\r 51%|█████▏    | 439/855 [01:32<03:09,  2.19it/s]"
          ]
        },
        {
          "output_type": "stream",
          "name": "stdout",
          "text": [
            "25-11-2021_09-44-40_AM.jpg\n"
          ]
        },
        {
          "output_type": "stream",
          "name": "stderr",
          "text": [
            "\r 51%|█████▏    | 440/855 [01:33<02:46,  2.50it/s]"
          ]
        },
        {
          "output_type": "stream",
          "name": "stdout",
          "text": [
            "25-11-2021_05-34-13_AM.jpg\n"
          ]
        },
        {
          "output_type": "stream",
          "name": "stderr",
          "text": [
            "\r 52%|█████▏    | 441/855 [01:33<02:51,  2.42it/s]"
          ]
        },
        {
          "output_type": "stream",
          "name": "stdout",
          "text": [
            "24-11-2021_01-31-00_PM.jpg\n"
          ]
        },
        {
          "output_type": "stream",
          "name": "stderr",
          "text": [
            " 52%|█████▏    | 443/855 [01:34<02:21,  2.92it/s]"
          ]
        },
        {
          "output_type": "stream",
          "name": "stdout",
          "text": [
            "0_24-11-2021_01-48-11_PM.jpg\n",
            "24-11-2021_11-43-40_AM.jpg\n"
          ]
        },
        {
          "output_type": "stream",
          "name": "stderr",
          "text": [
            " 52%|█████▏    | 445/855 [01:34<02:00,  3.41it/s]"
          ]
        },
        {
          "output_type": "stream",
          "name": "stdout",
          "text": [
            "0_26-11-2021_08-40-42_AM.jpg\n",
            "0_24-11-2021_04-37-41_AM.jpg\n"
          ]
        },
        {
          "output_type": "stream",
          "name": "stderr",
          "text": [
            "\r 52%|█████▏    | 446/855 [01:34<01:48,  3.76it/s]"
          ]
        },
        {
          "output_type": "stream",
          "name": "stdout",
          "text": [
            "25-11-2021_03-22-37_PM.jpg\n"
          ]
        },
        {
          "output_type": "stream",
          "name": "stderr",
          "text": [
            "\r 52%|█████▏    | 447/855 [01:35<01:46,  3.82it/s]"
          ]
        },
        {
          "output_type": "stream",
          "name": "stdout",
          "text": [
            "24-11-2021_02-43-19_PM.jpg\n"
          ]
        },
        {
          "output_type": "stream",
          "name": "stderr",
          "text": [
            " 53%|█████▎    | 449/855 [01:35<01:49,  3.71it/s]"
          ]
        },
        {
          "output_type": "stream",
          "name": "stdout",
          "text": [
            "0_24-11-2021_06-24-44_AM.jpg\n",
            "26-11-2021_06-36-34_AM.jpg\n"
          ]
        },
        {
          "output_type": "stream",
          "name": "stderr",
          "text": [
            " 53%|█████▎    | 451/855 [01:36<01:37,  4.14it/s]"
          ]
        },
        {
          "output_type": "stream",
          "name": "stdout",
          "text": [
            "0_26-11-2021_08-05-48_AM.jpg\n",
            "24-11-2021_05-29-26_AM.jpg\n"
          ]
        },
        {
          "output_type": "stream",
          "name": "stderr",
          "text": [
            " 53%|█████▎    | 453/855 [01:36<01:27,  4.59it/s]"
          ]
        },
        {
          "output_type": "stream",
          "name": "stdout",
          "text": [
            "1_26-11-2021_08-05-07_AM.jpg\n",
            "1_24-11-2021_10-52-02_AM.jpg\n"
          ]
        },
        {
          "output_type": "stream",
          "name": "stderr",
          "text": [
            " 53%|█████▎    | 455/855 [01:36<01:17,  5.18it/s]"
          ]
        },
        {
          "output_type": "stream",
          "name": "stdout",
          "text": [
            "24-11-2021_12-02-14_PM.jpg\n",
            "23-11-2021_02-37-35_PM.jpg\n"
          ]
        },
        {
          "output_type": "stream",
          "name": "stderr",
          "text": [
            " 53%|█████▎    | 457/855 [01:37<01:09,  5.71it/s]"
          ]
        },
        {
          "output_type": "stream",
          "name": "stdout",
          "text": [
            "0_24-11-2021_09-03-16_AM.jpg\n",
            "23-11-2021_08-36-04_PM.jpg\n"
          ]
        },
        {
          "output_type": "stream",
          "name": "stderr",
          "text": [
            " 54%|█████▎    | 459/855 [01:37<01:14,  5.30it/s]"
          ]
        },
        {
          "output_type": "stream",
          "name": "stdout",
          "text": [
            "26-11-2021_08-58-00_AM.jpg\n",
            "25-11-2021_03-28-56_AM.jpg\n"
          ]
        },
        {
          "output_type": "stream",
          "name": "stderr",
          "text": [
            "\r 54%|█████▍    | 460/855 [01:37<01:22,  4.77it/s]"
          ]
        },
        {
          "output_type": "stream",
          "name": "stdout",
          "text": [
            "26-11-2021_10-09-53_AM.jpg\n"
          ]
        },
        {
          "output_type": "stream",
          "name": "stderr",
          "text": [
            " 54%|█████▍    | 462/855 [01:38<01:14,  5.27it/s]"
          ]
        },
        {
          "output_type": "stream",
          "name": "stdout",
          "text": [
            "0_25-11-2021_03-41-21_PM.jpg\n",
            "25-11-2021_08-16-40_AM.jpg\n"
          ]
        },
        {
          "output_type": "stream",
          "name": "stderr",
          "text": [
            " 54%|█████▍    | 464/855 [01:38<01:11,  5.43it/s]"
          ]
        },
        {
          "output_type": "stream",
          "name": "stdout",
          "text": [
            "0_23-11-2021_02-56-42_PM.jpg\n",
            "24-11-2021_07-16-42_AM.jpg\n"
          ]
        },
        {
          "output_type": "stream",
          "name": "stderr",
          "text": [
            " 55%|█████▍    | 466/855 [01:39<01:15,  5.18it/s]"
          ]
        },
        {
          "output_type": "stream",
          "name": "stdout",
          "text": [
            "25-11-2021_02-14-20_PM.jpg\n",
            "24-11-2021_10-51-40_AM.jpg\n"
          ]
        },
        {
          "output_type": "stream",
          "name": "stderr",
          "text": [
            "\r 55%|█████▍    | 467/855 [01:39<01:20,  4.82it/s]"
          ]
        },
        {
          "output_type": "stream",
          "name": "stdout",
          "text": [
            "24-11-2021_02-25-48_PM.jpg\n"
          ]
        },
        {
          "output_type": "stream",
          "name": "stderr",
          "text": [
            " 55%|█████▍    | 469/855 [01:39<01:18,  4.94it/s]"
          ]
        },
        {
          "output_type": "stream",
          "name": "stdout",
          "text": [
            "25-11-2021_09-46-29_AM.jpg\n",
            "24-11-2021_11-25-25_AM.jpg\n"
          ]
        },
        {
          "output_type": "stream",
          "name": "stderr",
          "text": [
            " 55%|█████▌    | 471/855 [01:40<01:09,  5.53it/s]"
          ]
        },
        {
          "output_type": "stream",
          "name": "stdout",
          "text": [
            "0_24-11-2021_12-39-25_PM.jpg\n",
            "0_25-11-2021_04-57-20_AM.jpg\n"
          ]
        },
        {
          "output_type": "stream",
          "name": "stderr",
          "text": [
            " 55%|█████▌    | 473/855 [01:40<01:05,  5.79it/s]"
          ]
        },
        {
          "output_type": "stream",
          "name": "stdout",
          "text": [
            "26-11-2021_08-24-18_AM.jpg\n",
            "0_25-11-2021_01-37-39_PM.jpg\n"
          ]
        },
        {
          "output_type": "stream",
          "name": "stderr",
          "text": [
            " 56%|█████▌    | 475/855 [01:40<01:06,  5.75it/s]"
          ]
        },
        {
          "output_type": "stream",
          "name": "stdout",
          "text": [
            "24-11-2021_07-34-12_AM.jpg\n",
            "25-11-2021_07-03-59_AM.jpg\n"
          ]
        },
        {
          "output_type": "stream",
          "name": "stderr",
          "text": [
            " 56%|█████▌    | 477/855 [01:41<01:13,  5.11it/s]"
          ]
        },
        {
          "output_type": "stream",
          "name": "stdout",
          "text": [
            "23-11-2021_06-11-21_PM.jpg\n",
            "24-11-2021_10-16-26_AM.jpg\n"
          ]
        },
        {
          "output_type": "stream",
          "name": "stderr",
          "text": [
            " 56%|█████▌    | 479/855 [01:41<01:15,  4.99it/s]"
          ]
        },
        {
          "output_type": "stream",
          "name": "stdout",
          "text": [
            "24-11-2021_11-27-46_AM.jpg\n",
            "24-11-2021_01-50-29_PM.jpg\n"
          ]
        },
        {
          "output_type": "stream",
          "name": "stderr",
          "text": [
            " 56%|█████▋    | 481/855 [01:41<01:15,  4.94it/s]"
          ]
        },
        {
          "output_type": "stream",
          "name": "stdout",
          "text": [
            "24-11-2021_06-24-38_AM.jpg\n",
            "25-11-2021_04-59-28_AM.jpg\n"
          ]
        },
        {
          "output_type": "stream",
          "name": "stderr",
          "text": [
            " 56%|█████▋    | 483/855 [01:42<01:16,  4.89it/s]"
          ]
        },
        {
          "output_type": "stream",
          "name": "stdout",
          "text": [
            "26-11-2021_06-34-26_AM.jpg\n",
            "25-11-2021_09-26-52_AM.jpg\n"
          ]
        },
        {
          "output_type": "stream",
          "name": "stderr",
          "text": [
            "\r 57%|█████▋    | 484/855 [01:42<01:16,  4.87it/s]"
          ]
        },
        {
          "output_type": "stream",
          "name": "stdout",
          "text": [
            "25-11-2021_05-15-35_AM.jpg\n"
          ]
        },
        {
          "output_type": "stream",
          "name": "stderr",
          "text": [
            " 57%|█████▋    | 486/855 [01:42<01:11,  5.15it/s]"
          ]
        },
        {
          "output_type": "stream",
          "name": "stdout",
          "text": [
            "0_24-11-2021_08-03-20_PM.jpg\n",
            "0_24-11-2021_07-36-02_AM.jpg\n"
          ]
        },
        {
          "output_type": "stream",
          "name": "stderr",
          "text": [
            "\r 57%|█████▋    | 487/855 [01:43<01:07,  5.48it/s]"
          ]
        },
        {
          "output_type": "stream",
          "name": "stdout",
          "text": [
            "25-11-2021_03-40-32_PM.jpg\n"
          ]
        },
        {
          "output_type": "stream",
          "name": "stderr",
          "text": [
            "\r 57%|█████▋    | 488/855 [01:43<01:13,  5.01it/s]"
          ]
        },
        {
          "output_type": "stream",
          "name": "stdout",
          "text": [
            "25-11-2021_05-16-30_AM.jpg\n"
          ]
        },
        {
          "output_type": "stream",
          "name": "stderr",
          "text": [
            " 57%|█████▋    | 490/855 [01:43<01:08,  5.34it/s]"
          ]
        },
        {
          "output_type": "stream",
          "name": "stdout",
          "text": [
            "0_24-11-2021_05-47-57_AM.jpg\n",
            "24-11-2021_02-59-58_PM.jpg\n"
          ]
        },
        {
          "output_type": "stream",
          "name": "stderr",
          "text": [
            " 58%|█████▊    | 492/855 [01:44<01:10,  5.15it/s]"
          ]
        },
        {
          "output_type": "stream",
          "name": "stdout",
          "text": [
            "26-11-2021_07-46-34_AM.jpg\n",
            "26-11-2021_09-52-43_AM.jpg\n"
          ]
        },
        {
          "output_type": "stream",
          "name": "stderr",
          "text": [
            "\r 58%|█████▊    | 493/855 [01:44<01:16,  4.74it/s]"
          ]
        },
        {
          "output_type": "stream",
          "name": "stdout",
          "text": [
            "25-11-2021_08-08-43_PM.jpg\n"
          ]
        },
        {
          "output_type": "stream",
          "name": "stderr",
          "text": [
            " 58%|█████▊    | 495/855 [01:44<01:11,  5.07it/s]"
          ]
        },
        {
          "output_type": "stream",
          "name": "stdout",
          "text": [
            "0_25-11-2021_08-09-32_PM.jpg\n",
            "23-11-2021_04-41-35_PM.jpg\n"
          ]
        },
        {
          "output_type": "stream",
          "name": "stderr",
          "text": [
            " 58%|█████▊    | 497/855 [01:45<01:06,  5.37it/s]"
          ]
        },
        {
          "output_type": "stream",
          "name": "stdout",
          "text": [
            "0_25-11-2021_02-13-34_PM.jpg\n",
            "26-11-2021_06-53-54_AM.jpg\n"
          ]
        },
        {
          "output_type": "stream",
          "name": "stderr",
          "text": [
            " 58%|█████▊    | 499/855 [01:45<01:11,  4.99it/s]"
          ]
        },
        {
          "output_type": "stream",
          "name": "stdout",
          "text": [
            "23-11-2021_02-54-50_PM.jpg\n",
            "0_25-11-2021_02-14-43_PM.jpg\n"
          ]
        },
        {
          "output_type": "stream",
          "name": "stderr",
          "text": [
            " 59%|█████▊    | 501/855 [01:45<01:05,  5.43it/s]"
          ]
        },
        {
          "output_type": "stream",
          "name": "stdout",
          "text": [
            "26-11-2021_12-21-08_AM.jpg\n",
            "26-11-2021_06-18-28_AM.jpg\n"
          ]
        },
        {
          "output_type": "stream",
          "name": "stderr",
          "text": [
            " 59%|█████▉    | 503/855 [01:46<01:06,  5.26it/s]"
          ]
        },
        {
          "output_type": "stream",
          "name": "stdout",
          "text": [
            "23-11-2021_05-02-16_PM.jpg\n",
            "24-11-2021_05-13-28_AM.jpg\n"
          ]
        },
        {
          "output_type": "stream",
          "name": "stderr",
          "text": [
            "\r 59%|█████▉    | 504/855 [01:46<01:10,  5.00it/s]"
          ]
        },
        {
          "output_type": "stream",
          "name": "stdout",
          "text": [
            "24-11-2021_07-34-38_AM.jpg\n"
          ]
        },
        {
          "output_type": "stream",
          "name": "stderr",
          "text": [
            " 59%|█████▉    | 506/855 [01:46<01:11,  4.86it/s]"
          ]
        },
        {
          "output_type": "stream",
          "name": "stdout",
          "text": [
            "23-11-2021_05-01-36_PM.jpg\n",
            "26-11-2021_12-47-01_PM.jpg\n"
          ]
        },
        {
          "output_type": "stream",
          "name": "stderr",
          "text": [
            " 59%|█████▉    | 508/855 [01:47<01:10,  4.94it/s]"
          ]
        },
        {
          "output_type": "stream",
          "name": "stdout",
          "text": [
            "24-11-2021_12-37-12_PM.jpg\n",
            "24-11-2021_02-32-58_AM.jpg\n"
          ]
        },
        {
          "output_type": "stream",
          "name": "stderr",
          "text": [
            " 60%|█████▉    | 510/855 [01:47<01:09,  4.97it/s]"
          ]
        },
        {
          "output_type": "stream",
          "name": "stdout",
          "text": [
            "25-11-2021_04-34-18_PM.jpg\n",
            "25-11-2021_05-33-46_AM.jpg\n"
          ]
        },
        {
          "output_type": "stream",
          "name": "stderr",
          "text": [
            "\r 60%|█████▉    | 511/855 [01:47<01:09,  4.97it/s]"
          ]
        },
        {
          "output_type": "stream",
          "name": "stdout",
          "text": [
            "24-11-2021_03-08-07_AM.jpg\n"
          ]
        },
        {
          "output_type": "stream",
          "name": "stderr",
          "text": [
            "\r 60%|█████▉    | 512/855 [01:48<01:10,  4.89it/s]"
          ]
        },
        {
          "output_type": "stream",
          "name": "stdout",
          "text": [
            "24-11-2021_09-04-10_AM.jpg\n"
          ]
        },
        {
          "output_type": "stream",
          "name": "stderr",
          "text": [
            "\r 60%|██████    | 513/855 [01:48<01:12,  4.71it/s]"
          ]
        },
        {
          "output_type": "stream",
          "name": "stdout",
          "text": [
            "25-11-2021_03-10-38_AM.jpg\n"
          ]
        },
        {
          "output_type": "stream",
          "name": "stderr",
          "text": [
            " 60%|██████    | 515/855 [01:48<01:12,  4.71it/s]"
          ]
        },
        {
          "output_type": "stream",
          "name": "stdout",
          "text": [
            "24-11-2021_09-59-05_AM.jpg\n",
            "24-11-2021_07-00-27_AM.jpg\n"
          ]
        },
        {
          "output_type": "stream",
          "name": "stderr",
          "text": [
            "\r 60%|██████    | 516/855 [01:48<01:11,  4.77it/s]"
          ]
        },
        {
          "output_type": "stream",
          "name": "stdout",
          "text": [
            "23-11-2021_10-40-20_PM.jpg\n"
          ]
        },
        {
          "output_type": "stream",
          "name": "stderr",
          "text": [
            "\r 60%|██████    | 517/855 [01:49<01:16,  4.42it/s]"
          ]
        },
        {
          "output_type": "stream",
          "name": "stdout",
          "text": [
            "26-11-2021_03-54-53_AM.jpg\n"
          ]
        },
        {
          "output_type": "stream",
          "name": "stderr",
          "text": [
            "\r 61%|██████    | 518/855 [01:49<01:22,  4.08it/s]"
          ]
        },
        {
          "output_type": "stream",
          "name": "stdout",
          "text": [
            "25-11-2021_04-22-21_AM.jpg\n"
          ]
        },
        {
          "output_type": "stream",
          "name": "stderr",
          "text": [
            "\r 61%|██████    | 519/855 [01:49<01:21,  4.14it/s]"
          ]
        },
        {
          "output_type": "stream",
          "name": "stdout",
          "text": [
            "26-11-2021_10-10-07_AM.jpg\n"
          ]
        },
        {
          "output_type": "stream",
          "name": "stderr",
          "text": [
            "\r 61%|██████    | 520/855 [01:50<01:20,  4.16it/s]"
          ]
        },
        {
          "output_type": "stream",
          "name": "stdout",
          "text": [
            "26-11-2021_08-05-07_AM.jpg\n"
          ]
        },
        {
          "output_type": "stream",
          "name": "stderr",
          "text": [
            "\r 61%|██████    | 521/855 [01:50<01:27,  3.81it/s]"
          ]
        },
        {
          "output_type": "stream",
          "name": "stdout",
          "text": [
            "25-11-2021_07-58-31_AM.jpg\n"
          ]
        },
        {
          "output_type": "stream",
          "name": "stderr",
          "text": [
            "\r 61%|██████    | 522/855 [01:50<01:25,  3.90it/s]"
          ]
        },
        {
          "output_type": "stream",
          "name": "stdout",
          "text": [
            "26-11-2021_05-04-43_AM.jpg\n"
          ]
        },
        {
          "output_type": "stream",
          "name": "stderr",
          "text": [
            "\r 61%|██████    | 523/855 [01:50<01:23,  3.98it/s]"
          ]
        },
        {
          "output_type": "stream",
          "name": "stdout",
          "text": [
            "26-11-2021_05-04-56_AM.jpg\n"
          ]
        },
        {
          "output_type": "stream",
          "name": "stderr",
          "text": [
            "\r 61%|██████▏   | 524/855 [01:51<01:27,  3.76it/s]"
          ]
        },
        {
          "output_type": "stream",
          "name": "stdout",
          "text": [
            "24-11-2021_04-01-33_AM.jpg\n"
          ]
        },
        {
          "output_type": "stream",
          "name": "stderr",
          "text": [
            "\r 61%|██████▏   | 525/855 [01:51<01:31,  3.61it/s]"
          ]
        },
        {
          "output_type": "stream",
          "name": "stdout",
          "text": [
            "24-11-2021_02-33-05_AM.jpg\n"
          ]
        },
        {
          "output_type": "stream",
          "name": "stderr",
          "text": [
            "\r 62%|██████▏   | 526/855 [01:51<01:28,  3.74it/s]"
          ]
        },
        {
          "output_type": "stream",
          "name": "stdout",
          "text": [
            "25-11-2021_10-02-51_AM.jpg\n"
          ]
        },
        {
          "output_type": "stream",
          "name": "stderr",
          "text": [
            "\r 62%|██████▏   | 527/855 [01:51<01:33,  3.52it/s]"
          ]
        },
        {
          "output_type": "stream",
          "name": "stdout",
          "text": [
            "24-11-2021_07-35-29_AM.jpg\n"
          ]
        },
        {
          "output_type": "stream",
          "name": "stderr",
          "text": [
            " 62%|██████▏   | 529/855 [01:52<01:18,  4.15it/s]"
          ]
        },
        {
          "output_type": "stream",
          "name": "stdout",
          "text": [
            "0_26-11-2021_11-40-27_AM.jpg\n",
            "23-11-2021_05-19-24_PM.jpg\n"
          ]
        },
        {
          "output_type": "stream",
          "name": "stderr",
          "text": [
            "\r 62%|██████▏   | 530/855 [01:52<01:17,  4.20it/s]"
          ]
        },
        {
          "output_type": "stream",
          "name": "stdout",
          "text": [
            "25-11-2021_08-51-44_AM.jpg\n"
          ]
        },
        {
          "output_type": "stream",
          "name": "stderr",
          "text": [
            "\r 62%|██████▏   | 531/855 [01:52<01:17,  4.21it/s]"
          ]
        },
        {
          "output_type": "stream",
          "name": "stdout",
          "text": [
            "25-11-2021_04-33-50_PM.jpg\n"
          ]
        },
        {
          "output_type": "stream",
          "name": "stderr",
          "text": [
            " 62%|██████▏   | 533/855 [01:53<01:11,  4.50it/s]"
          ]
        },
        {
          "output_type": "stream",
          "name": "stdout",
          "text": [
            "25-11-2021_07-03-30_AM.jpg\n",
            "24-11-2021_03-43-35_AM.jpg\n"
          ]
        },
        {
          "output_type": "stream",
          "name": "stderr",
          "text": [
            "\r 62%|██████▏   | 534/855 [01:53<01:14,  4.30it/s]"
          ]
        },
        {
          "output_type": "stream",
          "name": "stdout",
          "text": [
            "24-11-2021_10-50-41_AM.jpg\n"
          ]
        },
        {
          "output_type": "stream",
          "name": "stderr",
          "text": [
            "\r 63%|██████▎   | 535/855 [01:53<01:15,  4.23it/s]"
          ]
        },
        {
          "output_type": "stream",
          "name": "stdout",
          "text": [
            "24-11-2021_01-49-02_PM.jpg\n"
          ]
        },
        {
          "output_type": "stream",
          "name": "stderr",
          "text": [
            "\r 63%|██████▎   | 536/855 [01:54<01:13,  4.35it/s]"
          ]
        },
        {
          "output_type": "stream",
          "name": "stdout",
          "text": [
            "25-11-2021_01-19-23_PM.jpg\n"
          ]
        },
        {
          "output_type": "stream",
          "name": "stderr",
          "text": [
            "\r 63%|██████▎   | 537/855 [01:54<01:11,  4.44it/s]"
          ]
        },
        {
          "output_type": "stream",
          "name": "stdout",
          "text": [
            "24-11-2021_07-00-00_AM.jpg\n"
          ]
        },
        {
          "output_type": "stream",
          "name": "stderr",
          "text": [
            " 63%|██████▎   | 539/855 [01:54<01:06,  4.78it/s]"
          ]
        },
        {
          "output_type": "stream",
          "name": "stdout",
          "text": [
            "0_23-11-2021_09-28-25_PM.jpg\n",
            "25-11-2021_03-27-56_AM.jpg\n"
          ]
        },
        {
          "output_type": "stream",
          "name": "stderr",
          "text": [
            "\r 63%|██████▎   | 540/855 [01:54<01:04,  4.88it/s]"
          ]
        },
        {
          "output_type": "stream",
          "name": "stdout",
          "text": [
            "24-11-2021_08-28-27_AM.jpg\n"
          ]
        },
        {
          "output_type": "stream",
          "name": "stderr",
          "text": [
            "\r 63%|██████▎   | 541/855 [01:55<01:04,  4.87it/s]"
          ]
        },
        {
          "output_type": "stream",
          "name": "stdout",
          "text": [
            "25-11-2021_01-56-10_PM.jpg\n"
          ]
        },
        {
          "output_type": "stream",
          "name": "stderr",
          "text": [
            " 64%|██████▎   | 543/855 [01:55<01:05,  4.75it/s]"
          ]
        },
        {
          "output_type": "stream",
          "name": "stdout",
          "text": [
            "25-11-2021_10-55-49_AM.jpg\n",
            "23-11-2021_05-01-38_PM.jpg\n"
          ]
        },
        {
          "output_type": "stream",
          "name": "stderr",
          "text": [
            "\r 64%|██████▎   | 544/855 [01:55<01:04,  4.84it/s]"
          ]
        },
        {
          "output_type": "stream",
          "name": "stdout",
          "text": [
            "24-11-2021_10-33-09_AM.jpg\n"
          ]
        },
        {
          "output_type": "stream",
          "name": "stderr",
          "text": [
            "\r 64%|██████▎   | 545/855 [01:55<01:06,  4.66it/s]"
          ]
        },
        {
          "output_type": "stream",
          "name": "stdout",
          "text": [
            "26-11-2021_07-46-10_AM.jpg\n"
          ]
        },
        {
          "output_type": "stream",
          "name": "stderr",
          "text": [
            " 64%|██████▍   | 547/855 [01:56<01:04,  4.74it/s]"
          ]
        },
        {
          "output_type": "stream",
          "name": "stdout",
          "text": [
            "24-11-2021_12-19-26_PM.jpg\n",
            "23-11-2021_05-55-09_PM.jpg\n"
          ]
        },
        {
          "output_type": "stream",
          "name": "stderr",
          "text": [
            " 64%|██████▍   | 549/855 [01:56<01:05,  4.70it/s]"
          ]
        },
        {
          "output_type": "stream",
          "name": "stdout",
          "text": [
            "26-11-2021_05-40-18_AM.jpg\n",
            "25-11-2021_06-45-20_AM.jpg\n"
          ]
        },
        {
          "output_type": "stream",
          "name": "stderr",
          "text": [
            " 64%|██████▍   | 551/855 [01:57<01:05,  4.63it/s]"
          ]
        },
        {
          "output_type": "stream",
          "name": "stdout",
          "text": [
            "24-11-2021_12-03-08_PM.jpg\n",
            "24-11-2021_01-49-10_PM.jpg\n"
          ]
        },
        {
          "output_type": "stream",
          "name": "stderr",
          "text": [
            "\r 65%|██████▍   | 552/855 [01:57<01:04,  4.72it/s]"
          ]
        },
        {
          "output_type": "stream",
          "name": "stdout",
          "text": [
            "25-11-2021_02-13-58_PM.jpg\n"
          ]
        },
        {
          "output_type": "stream",
          "name": "stderr",
          "text": [
            " 65%|██████▍   | 554/855 [01:57<01:04,  4.69it/s]"
          ]
        },
        {
          "output_type": "stream",
          "name": "stdout",
          "text": [
            "26-11-2021_07-46-51_AM.jpg\n",
            "24-11-2021_12-01-26_PM.jpg\n"
          ]
        },
        {
          "output_type": "stream",
          "name": "stderr",
          "text": [
            "\r 65%|██████▍   | 555/855 [01:58<01:02,  4.77it/s]"
          ]
        },
        {
          "output_type": "stream",
          "name": "stdout",
          "text": [
            "24-11-2021_06-51-15_PM.jpg\n"
          ]
        },
        {
          "output_type": "stream",
          "name": "stderr",
          "text": [
            "\r 65%|██████▌   | 556/855 [01:58<01:05,  4.57it/s]"
          ]
        },
        {
          "output_type": "stream",
          "name": "stdout",
          "text": [
            "25-11-2021_04-17-49_PM.jpg\n"
          ]
        },
        {
          "output_type": "stream",
          "name": "stderr",
          "text": [
            " 65%|██████▌   | 558/855 [01:58<01:02,  4.72it/s]"
          ]
        },
        {
          "output_type": "stream",
          "name": "stdout",
          "text": [
            "24-11-2021_03-37-19_PM.jpg\n",
            "24-11-2021_06-40-49_AM.jpg\n"
          ]
        },
        {
          "output_type": "stream",
          "name": "stderr",
          "text": [
            "\r 65%|██████▌   | 559/855 [01:58<01:01,  4.78it/s]"
          ]
        },
        {
          "output_type": "stream",
          "name": "stdout",
          "text": [
            "26-11-2021_05-05-59_AM.jpg\n"
          ]
        },
        {
          "output_type": "stream",
          "name": "stderr",
          "text": [
            "\r 65%|██████▌   | 560/855 [01:59<01:05,  4.53it/s]"
          ]
        },
        {
          "output_type": "stream",
          "name": "stdout",
          "text": [
            "25-11-2021_07-34-00_PM.jpg\n"
          ]
        },
        {
          "output_type": "stream",
          "name": "stderr",
          "text": [
            "\r 66%|██████▌   | 561/855 [01:59<01:07,  4.36it/s]"
          ]
        },
        {
          "output_type": "stream",
          "name": "stdout",
          "text": [
            "24-11-2021_09-03-42_AM.jpg\n"
          ]
        },
        {
          "output_type": "stream",
          "name": "stderr",
          "text": [
            " 66%|██████▌   | 563/855 [01:59<01:04,  4.51it/s]"
          ]
        },
        {
          "output_type": "stream",
          "name": "stdout",
          "text": [
            "24-11-2021_11-45-22_AM.jpg\n",
            "26-11-2021_12-27-04_PM.jpg\n"
          ]
        },
        {
          "output_type": "stream",
          "name": "stderr",
          "text": [
            " 66%|██████▌   | 565/855 [02:00<01:04,  4.53it/s]"
          ]
        },
        {
          "output_type": "stream",
          "name": "stdout",
          "text": [
            "26-11-2021_09-52-06_AM.jpg\n",
            "24-11-2021_04-17-33_AM.jpg\n"
          ]
        },
        {
          "output_type": "stream",
          "name": "stderr",
          "text": [
            " 66%|██████▋   | 567/855 [02:00<00:55,  5.21it/s]"
          ]
        },
        {
          "output_type": "stream",
          "name": "stdout",
          "text": [
            "0_24-11-2021_04-13-05_PM.jpg\n",
            "24-11-2021_04-30-20_PM.jpg\n"
          ]
        },
        {
          "output_type": "stream",
          "name": "stderr",
          "text": [
            " 67%|██████▋   | 569/855 [02:00<00:55,  5.19it/s]"
          ]
        },
        {
          "output_type": "stream",
          "name": "stdout",
          "text": [
            "25-11-2021_01-19-03_PM.jpg\n",
            "25-11-2021_10-03-12_AM.jpg\n"
          ]
        },
        {
          "output_type": "stream",
          "name": "stderr",
          "text": [
            "\r 67%|██████▋   | 570/855 [02:01<00:59,  4.77it/s]"
          ]
        },
        {
          "output_type": "stream",
          "name": "stdout",
          "text": [
            "24-11-2021_05-13-11_AM.jpg\n"
          ]
        },
        {
          "output_type": "stream",
          "name": "stderr",
          "text": [
            "\r 67%|██████▋   | 571/855 [02:01<01:01,  4.62it/s]"
          ]
        },
        {
          "output_type": "stream",
          "name": "stdout",
          "text": [
            "25-11-2021_03-47-10_AM.jpg\n"
          ]
        },
        {
          "output_type": "stream",
          "name": "stderr",
          "text": [
            " 67%|██████▋   | 573/855 [02:01<01:00,  4.67it/s]"
          ]
        },
        {
          "output_type": "stream",
          "name": "stdout",
          "text": [
            "23-11-2021_05-37-26_PM.jpg\n",
            "25-11-2021_05-33-25_AM.jpg\n"
          ]
        },
        {
          "output_type": "stream",
          "name": "stderr",
          "text": [
            "\r 67%|██████▋   | 574/855 [02:02<01:02,  4.46it/s]"
          ]
        },
        {
          "output_type": "stream",
          "name": "stdout",
          "text": [
            "25-11-2021_09-27-38_AM.jpg\n"
          ]
        },
        {
          "output_type": "stream",
          "name": "stderr",
          "text": [
            "\r 67%|██████▋   | 575/855 [02:02<01:04,  4.37it/s]"
          ]
        },
        {
          "output_type": "stream",
          "name": "stdout",
          "text": [
            "25-11-2021_01-38-39_PM.jpg\n"
          ]
        },
        {
          "output_type": "stream",
          "name": "stderr",
          "text": [
            " 67%|██████▋   | 577/855 [02:02<01:00,  4.58it/s]"
          ]
        },
        {
          "output_type": "stream",
          "name": "stdout",
          "text": [
            "24-11-2021_09-21-53_AM.jpg\n",
            "26-11-2021_04-29-31_AM.jpg\n"
          ]
        },
        {
          "output_type": "stream",
          "name": "stderr",
          "text": [
            " 68%|██████▊   | 579/855 [02:03<00:58,  4.71it/s]"
          ]
        },
        {
          "output_type": "stream",
          "name": "stdout",
          "text": [
            "25-11-2021_10-21-41_AM.jpg\n",
            "26-11-2021_09-33-08_AM.jpg\n"
          ]
        },
        {
          "output_type": "stream",
          "name": "stderr",
          "text": [
            "\r 68%|██████▊   | 580/855 [02:03<00:57,  4.80it/s]"
          ]
        },
        {
          "output_type": "stream",
          "name": "stdout",
          "text": [
            "24-11-2021_07-36-02_AM.jpg\n"
          ]
        },
        {
          "output_type": "stream",
          "name": "stderr",
          "text": [
            " 68%|██████▊   | 582/855 [02:03<00:57,  4.76it/s]"
          ]
        },
        {
          "output_type": "stream",
          "name": "stdout",
          "text": [
            "24-11-2021_08-45-55_AM.jpg\n",
            "24-11-2021_05-30-44_AM.jpg\n"
          ]
        },
        {
          "output_type": "stream",
          "name": "stderr",
          "text": [
            "\r 68%|██████▊   | 583/855 [02:04<01:01,  4.45it/s]"
          ]
        },
        {
          "output_type": "stream",
          "name": "stdout",
          "text": [
            "25-11-2021_06-10-10_AM.jpg\n"
          ]
        },
        {
          "output_type": "stream",
          "name": "stderr",
          "text": [
            " 68%|██████▊   | 585/855 [02:04<00:59,  4.53it/s]"
          ]
        },
        {
          "output_type": "stream",
          "name": "stdout",
          "text": [
            "25-11-2021_10-56-23_AM.jpg\n",
            "24-11-2021_01-32-29_PM.jpg\n"
          ]
        },
        {
          "output_type": "stream",
          "name": "stderr",
          "text": [
            " 69%|██████▊   | 587/855 [02:04<00:56,  4.77it/s]"
          ]
        },
        {
          "output_type": "stream",
          "name": "stdout",
          "text": [
            "26-11-2021_11-45-44_AM.jpg\n",
            "25-11-2021_10-56-27_AM.jpg\n"
          ]
        },
        {
          "output_type": "stream",
          "name": "stderr",
          "text": [
            " 69%|██████▉   | 589/855 [02:05<00:54,  4.84it/s]"
          ]
        },
        {
          "output_type": "stream",
          "name": "stdout",
          "text": [
            "24-11-2021_05-29-16_AM.jpg\n",
            "24-11-2021_01-48-58_PM.jpg\n"
          ]
        },
        {
          "output_type": "stream",
          "name": "stderr",
          "text": [
            " 69%|██████▉   | 591/855 [02:05<00:53,  4.93it/s]"
          ]
        },
        {
          "output_type": "stream",
          "name": "stdout",
          "text": [
            "25-11-2021_03-40-27_PM.jpg\n",
            "24-11-2021_10-51-53_AM.jpg\n"
          ]
        },
        {
          "output_type": "stream",
          "name": "stderr",
          "text": [
            " 69%|██████▉   | 593/855 [02:06<00:52,  5.01it/s]"
          ]
        },
        {
          "output_type": "stream",
          "name": "stdout",
          "text": [
            "23-11-2021_02-36-28_PM.jpg\n",
            "24-11-2021_03-36-03_PM.jpg\n"
          ]
        },
        {
          "output_type": "stream",
          "name": "stderr",
          "text": [
            " 70%|██████▉   | 595/855 [02:06<00:54,  4.73it/s]"
          ]
        },
        {
          "output_type": "stream",
          "name": "stdout",
          "text": [
            "25-11-2021_04-40-13_AM.jpg\n",
            "26-11-2021_05-24-06_AM.jpg\n"
          ]
        },
        {
          "output_type": "stream",
          "name": "stderr",
          "text": [
            " 70%|██████▉   | 597/855 [02:07<00:54,  4.74it/s]"
          ]
        },
        {
          "output_type": "stream",
          "name": "stdout",
          "text": [
            "23-11-2021_02-18-58_PM.jpg\n",
            "25-11-2021_10-21-45_AM.jpg\n"
          ]
        },
        {
          "output_type": "stream",
          "name": "stderr",
          "text": [
            "\r 70%|██████▉   | 598/855 [02:07<00:56,  4.56it/s]"
          ]
        },
        {
          "output_type": "stream",
          "name": "stdout",
          "text": [
            "25-11-2021_04-04-52_AM.jpg\n"
          ]
        },
        {
          "output_type": "stream",
          "name": "stderr",
          "text": [
            "\r 70%|███████   | 599/855 [02:07<00:56,  4.50it/s]"
          ]
        },
        {
          "output_type": "stream",
          "name": "stdout",
          "text": [
            "25-11-2021_04-05-14_AM.jpg\n"
          ]
        },
        {
          "output_type": "stream",
          "name": "stderr",
          "text": [
            "\r 70%|███████   | 600/855 [02:07<00:57,  4.45it/s]"
          ]
        },
        {
          "output_type": "stream",
          "name": "stdout",
          "text": [
            "24-11-2021_12-03-45_PM.jpg\n"
          ]
        },
        {
          "output_type": "stream",
          "name": "stderr",
          "text": [
            "\r 70%|███████   | 601/855 [02:07<00:55,  4.56it/s]"
          ]
        },
        {
          "output_type": "stream",
          "name": "stdout",
          "text": [
            "25-11-2021_03-30-08_AM.jpg\n"
          ]
        },
        {
          "output_type": "stream",
          "name": "stderr",
          "text": [
            "\r 70%|███████   | 602/855 [02:08<00:55,  4.59it/s]"
          ]
        },
        {
          "output_type": "stream",
          "name": "stdout",
          "text": [
            "24-11-2021_02-43-15_PM.jpg\n"
          ]
        },
        {
          "output_type": "stream",
          "name": "stderr",
          "text": [
            " 71%|███████   | 604/855 [02:08<00:54,  4.62it/s]"
          ]
        },
        {
          "output_type": "stream",
          "name": "stdout",
          "text": [
            "26-11-2021_04-12-57_AM.jpg\n",
            "25-11-2021_03-06-22_PM.jpg\n"
          ]
        },
        {
          "output_type": "stream",
          "name": "stderr",
          "text": [
            " 71%|███████   | 606/855 [02:08<00:48,  5.08it/s]"
          ]
        },
        {
          "output_type": "stream",
          "name": "stdout",
          "text": [
            "0_26-11-2021_10-29-56_AM.jpg\n",
            "25-11-2021_09-25-39_AM.jpg\n"
          ]
        },
        {
          "output_type": "stream",
          "name": "stderr",
          "text": [
            " 71%|███████   | 608/855 [02:09<00:48,  5.06it/s]"
          ]
        },
        {
          "output_type": "stream",
          "name": "stdout",
          "text": [
            "25-11-2021_05-34-56_AM.jpg\n",
            "23-11-2021_02-19-04_PM.jpg\n"
          ]
        },
        {
          "output_type": "stream",
          "name": "stderr",
          "text": [
            "\r 71%|███████   | 609/855 [02:09<00:48,  5.07it/s]"
          ]
        },
        {
          "output_type": "stream",
          "name": "stdout",
          "text": [
            "24-11-2021_03-18-14_PM.jpg\n"
          ]
        },
        {
          "output_type": "stream",
          "name": "stderr",
          "text": [
            " 71%|███████▏  | 611/855 [02:09<00:49,  4.88it/s]"
          ]
        },
        {
          "output_type": "stream",
          "name": "stdout",
          "text": [
            "23-11-2021_05-35-51_PM.jpg\n",
            "26-11-2021_05-23-05_AM.jpg\n"
          ]
        },
        {
          "output_type": "stream",
          "name": "stderr",
          "text": [
            " 72%|███████▏  | 613/855 [02:10<00:44,  5.46it/s]"
          ]
        },
        {
          "output_type": "stream",
          "name": "stdout",
          "text": [
            "0_24-11-2021_05-13-22_AM.jpg\n",
            "25-11-2021_09-08-32_AM.jpg\n"
          ]
        },
        {
          "output_type": "stream",
          "name": "stderr",
          "text": [
            "\r 72%|███████▏  | 614/855 [02:10<00:48,  4.97it/s]"
          ]
        },
        {
          "output_type": "stream",
          "name": "stdout",
          "text": [
            "24-11-2021_02-25-41_PM.jpg\n"
          ]
        },
        {
          "output_type": "stream",
          "name": "stderr",
          "text": [
            "\r 72%|███████▏  | 615/855 [02:10<00:48,  4.93it/s]"
          ]
        },
        {
          "output_type": "stream",
          "name": "stdout",
          "text": [
            "25-11-2021_05-52-18_AM.jpg\n"
          ]
        },
        {
          "output_type": "stream",
          "name": "stderr",
          "text": [
            " 72%|███████▏  | 617/855 [02:11<00:50,  4.73it/s]"
          ]
        },
        {
          "output_type": "stream",
          "name": "stdout",
          "text": [
            "25-11-2021_05-51-37_AM.jpg\n",
            "26-11-2021_07-46-43_AM.jpg\n"
          ]
        },
        {
          "output_type": "stream",
          "name": "stderr",
          "text": [
            "\r 72%|███████▏  | 618/855 [02:11<00:49,  4.76it/s]"
          ]
        },
        {
          "output_type": "stream",
          "name": "stdout",
          "text": [
            "25-11-2021_05-34-29_AM.jpg\n"
          ]
        },
        {
          "output_type": "stream",
          "name": "stderr",
          "text": [
            " 73%|███████▎  | 620/855 [02:11<00:44,  5.31it/s]"
          ]
        },
        {
          "output_type": "stream",
          "name": "stdout",
          "text": [
            "1_25-11-2021_10-02-59_AM.jpg\n",
            "24-11-2021_06-23-10_AM.jpg\n"
          ]
        },
        {
          "output_type": "stream",
          "name": "stderr",
          "text": [
            "\r 73%|███████▎  | 621/855 [02:11<00:45,  5.20it/s]"
          ]
        },
        {
          "output_type": "stream",
          "name": "stdout",
          "text": [
            "26-11-2021_10-11-07_AM.jpg\n"
          ]
        },
        {
          "output_type": "stream",
          "name": "stderr",
          "text": [
            " 73%|███████▎  | 623/855 [02:12<00:47,  4.87it/s]"
          ]
        },
        {
          "output_type": "stream",
          "name": "stdout",
          "text": [
            "24-11-2021_01-32-37_PM.jpg\n",
            "25-11-2021_04-57-47_AM.jpg\n"
          ]
        },
        {
          "output_type": "stream",
          "name": "stderr",
          "text": [
            " 73%|███████▎  | 625/855 [02:12<00:47,  4.88it/s]"
          ]
        },
        {
          "output_type": "stream",
          "name": "stdout",
          "text": [
            "26-11-2021_09-17-48_AM.jpg\n",
            "24-11-2021_05-05-56_PM.jpg\n"
          ]
        },
        {
          "output_type": "stream",
          "name": "stderr",
          "text": [
            "\r 73%|███████▎  | 626/855 [02:13<00:47,  4.87it/s]"
          ]
        },
        {
          "output_type": "stream",
          "name": "stdout",
          "text": [
            "25-11-2021_08-33-38_AM.jpg\n"
          ]
        },
        {
          "output_type": "stream",
          "name": "stderr",
          "text": [
            " 73%|███████▎  | 628/855 [02:13<00:48,  4.70it/s]"
          ]
        },
        {
          "output_type": "stream",
          "name": "stdout",
          "text": [
            "25-11-2021_01-36-53_PM.jpg\n",
            "24-11-2021_05-31-51_AM.jpg\n"
          ]
        },
        {
          "output_type": "stream",
          "name": "stderr",
          "text": [
            "\r 74%|███████▎  | 629/855 [02:13<00:47,  4.77it/s]"
          ]
        },
        {
          "output_type": "stream",
          "name": "stdout",
          "text": [
            "23-11-2021_03-30-56_PM.jpg\n"
          ]
        },
        {
          "output_type": "stream",
          "name": "stderr",
          "text": [
            " 74%|███████▍  | 631/855 [02:14<00:47,  4.69it/s]"
          ]
        },
        {
          "output_type": "stream",
          "name": "stdout",
          "text": [
            "26-11-2021_08-22-11_AM.jpg\n",
            "25-11-2021_04-15-33_PM.jpg\n"
          ]
        },
        {
          "output_type": "stream",
          "name": "stderr",
          "text": [
            " 74%|███████▍  | 633/855 [02:14<00:43,  5.12it/s]"
          ]
        },
        {
          "output_type": "stream",
          "name": "stdout",
          "text": [
            "0_23-11-2021_02-38-40_PM.jpg\n",
            "25-11-2021_05-16-26_AM.jpg\n"
          ]
        },
        {
          "output_type": "stream",
          "name": "stderr",
          "text": [
            "\r 74%|███████▍  | 634/855 [02:14<00:46,  4.77it/s]"
          ]
        },
        {
          "output_type": "stream",
          "name": "stdout",
          "text": [
            "26-11-2021_08-58-53_AM.jpg\n"
          ]
        },
        {
          "output_type": "stream",
          "name": "stderr",
          "text": [
            " 74%|███████▍  | 636/855 [02:15<00:42,  5.21it/s]"
          ]
        },
        {
          "output_type": "stream",
          "name": "stdout",
          "text": [
            "0_26-11-2021_10-27-24_AM.jpg\n",
            "1_23-11-2021_02-36-38_PM.jpg\n"
          ]
        },
        {
          "output_type": "stream",
          "name": "stderr",
          "text": [
            "\r 75%|███████▍  | 637/855 [02:15<00:38,  5.66it/s]"
          ]
        },
        {
          "output_type": "stream",
          "name": "stdout",
          "text": [
            "26-11-2021_06-52-45_AM.jpg\n"
          ]
        },
        {
          "output_type": "stream",
          "name": "stderr",
          "text": [
            " 75%|███████▍  | 639/855 [02:15<00:42,  5.11it/s]"
          ]
        },
        {
          "output_type": "stream",
          "name": "stdout",
          "text": [
            "24-11-2021_06-07-14_AM.jpg\n",
            "26-11-2021_11-44-35_AM.jpg\n"
          ]
        },
        {
          "output_type": "stream",
          "name": "stderr",
          "text": [
            "\r 75%|███████▍  | 640/855 [02:15<00:45,  4.77it/s]"
          ]
        },
        {
          "output_type": "stream",
          "name": "stdout",
          "text": [
            "25-11-2021_09-26-33_AM.jpg\n"
          ]
        },
        {
          "output_type": "stream",
          "name": "stderr",
          "text": [
            "\r 75%|███████▍  | 641/855 [02:16<00:47,  4.52it/s]"
          ]
        },
        {
          "output_type": "stream",
          "name": "stdout",
          "text": [
            "24-11-2021_02-24-52_PM.jpg\n"
          ]
        },
        {
          "output_type": "stream",
          "name": "stderr",
          "text": [
            " 75%|███████▌  | 643/855 [02:16<00:43,  4.92it/s]"
          ]
        },
        {
          "output_type": "stream",
          "name": "stdout",
          "text": [
            "0_25-11-2021_08-34-03_AM.jpg\n",
            "24-11-2021_05-13-37_AM.jpg\n"
          ]
        },
        {
          "output_type": "stream",
          "name": "stderr",
          "text": [
            " 75%|███████▌  | 645/855 [02:16<00:41,  5.10it/s]"
          ]
        },
        {
          "output_type": "stream",
          "name": "stdout",
          "text": [
            "26-11-2021_06-00-53_AM.jpg\n",
            "26-11-2021_08-40-24_AM.jpg\n"
          ]
        },
        {
          "output_type": "stream",
          "name": "stderr",
          "text": [
            " 76%|███████▌  | 647/855 [02:17<00:41,  5.03it/s]"
          ]
        },
        {
          "output_type": "stream",
          "name": "stdout",
          "text": [
            "26-11-2021_03-00-28_AM.jpg\n",
            "24-11-2021_04-48-35_PM.jpg\n"
          ]
        },
        {
          "output_type": "stream",
          "name": "stderr",
          "text": [
            " 76%|███████▌  | 649/855 [02:17<00:41,  5.01it/s]"
          ]
        },
        {
          "output_type": "stream",
          "name": "stdout",
          "text": [
            "26-11-2021_04-11-09_AM.jpg\n",
            "26-11-2021_06-54-45_AM.jpg\n"
          ]
        },
        {
          "output_type": "stream",
          "name": "stderr",
          "text": [
            " 76%|███████▌  | 651/855 [02:18<00:40,  5.05it/s]"
          ]
        },
        {
          "output_type": "stream",
          "name": "stdout",
          "text": [
            "24-11-2021_11-25-34_AM.jpg\n",
            "24-11-2021_12-21-10_PM.jpg\n"
          ]
        },
        {
          "output_type": "stream",
          "name": "stderr",
          "text": [
            "\r 76%|███████▋  | 652/855 [02:18<00:42,  4.82it/s]"
          ]
        },
        {
          "output_type": "stream",
          "name": "stdout",
          "text": [
            "24-11-2021_03-36-34_PM.jpg\n"
          ]
        },
        {
          "output_type": "stream",
          "name": "stderr",
          "text": [
            "\r 76%|███████▋  | 653/855 [02:18<00:44,  4.55it/s]"
          ]
        },
        {
          "output_type": "stream",
          "name": "stdout",
          "text": [
            "25-11-2021_01-55-28_PM.jpg\n"
          ]
        },
        {
          "output_type": "stream",
          "name": "stderr",
          "text": [
            "\r 76%|███████▋  | 654/855 [02:18<00:45,  4.42it/s]"
          ]
        },
        {
          "output_type": "stream",
          "name": "stdout",
          "text": [
            "23-11-2021_02-37-17_PM.jpg\n"
          ]
        },
        {
          "output_type": "stream",
          "name": "stderr",
          "text": [
            "\r 77%|███████▋  | 655/855 [02:19<00:46,  4.32it/s]"
          ]
        },
        {
          "output_type": "stream",
          "name": "stdout",
          "text": [
            "26-11-2021_07-46-31_AM.jpg\n"
          ]
        },
        {
          "output_type": "stream",
          "name": "stderr",
          "text": [
            " 77%|███████▋  | 657/855 [02:19<00:39,  4.98it/s]"
          ]
        },
        {
          "output_type": "stream",
          "name": "stdout",
          "text": [
            "0_23-11-2021_02-37-47_PM.jpg\n",
            "26-11-2021_11-46-34_AM.jpg\n"
          ]
        },
        {
          "output_type": "stream",
          "name": "stderr",
          "text": [
            " 77%|███████▋  | 659/855 [02:19<00:39,  4.98it/s]"
          ]
        },
        {
          "output_type": "stream",
          "name": "stdout",
          "text": [
            "26-11-2021_07-46-02_AM.jpg\n",
            "24-11-2021_01-13-29_PM.jpg\n"
          ]
        },
        {
          "output_type": "stream",
          "name": "stderr",
          "text": [
            " 77%|███████▋  | 661/855 [02:20<00:39,  4.95it/s]"
          ]
        },
        {
          "output_type": "stream",
          "name": "stdout",
          "text": [
            "26-11-2021_09-52-01_AM.jpg\n"
          ]
        },
        {
          "output_type": "stream",
          "name": "stderr",
          "text": [
            "\r 77%|███████▋  | 662/855 [02:20<00:34,  5.52it/s]"
          ]
        },
        {
          "output_type": "stream",
          "name": "stdout",
          "text": [
            "0_23-11-2021_02-18-56_PM.jpg\n",
            "24-11-2021_11-27-06_AM.jpg\n"
          ]
        },
        {
          "output_type": "stream",
          "name": "stderr",
          "text": [
            "\r 78%|███████▊  | 663/855 [02:20<00:39,  4.91it/s]"
          ]
        },
        {
          "output_type": "stream",
          "name": "stdout",
          "text": [
            "26-11-2021_04-48-11_AM.jpg\n"
          ]
        },
        {
          "output_type": "stream",
          "name": "stderr",
          "text": [
            " 78%|███████▊  | 665/855 [02:21<00:36,  5.20it/s]"
          ]
        },
        {
          "output_type": "stream",
          "name": "stdout",
          "text": [
            "1_26-11-2021_07-12-06_AM.jpg\n",
            "0_24-11-2021_12-36-58_PM.jpg\n"
          ]
        },
        {
          "output_type": "stream",
          "name": "stderr",
          "text": [
            "\r 78%|███████▊  | 666/855 [02:21<00:32,  5.88it/s]"
          ]
        },
        {
          "output_type": "stream",
          "name": "stdout",
          "text": [
            "23-11-2021_05-36-00_PM.jpg\n"
          ]
        },
        {
          "output_type": "stream",
          "name": "stderr",
          "text": [
            " 78%|███████▊  | 668/855 [02:21<00:36,  5.16it/s]"
          ]
        },
        {
          "output_type": "stream",
          "name": "stdout",
          "text": [
            "26-11-2021_03-37-22_AM.jpg\n",
            "24-11-2021_09-21-25_AM.jpg\n"
          ]
        },
        {
          "output_type": "stream",
          "name": "stderr",
          "text": [
            " 78%|███████▊  | 670/855 [02:22<00:36,  5.08it/s]"
          ]
        },
        {
          "output_type": "stream",
          "name": "stdout",
          "text": [
            "23-11-2021_02-18-50_PM.jpg\n",
            "0_24-11-2021_06-24-14_AM.jpg\n"
          ]
        },
        {
          "output_type": "stream",
          "name": "stderr",
          "text": [
            " 79%|███████▊  | 672/855 [02:22<00:33,  5.51it/s]"
          ]
        },
        {
          "output_type": "stream",
          "name": "stdout",
          "text": [
            "23-11-2021_07-07-01_PM.jpg\n",
            "26-11-2021_03-54-45_AM.jpg\n"
          ]
        },
        {
          "output_type": "stream",
          "name": "stderr",
          "text": [
            " 79%|███████▉  | 674/855 [02:22<00:35,  5.03it/s]"
          ]
        },
        {
          "output_type": "stream",
          "name": "stdout",
          "text": [
            "25-11-2021_03-22-28_PM.jpg\n",
            "25-11-2021_04-35-12_PM.jpg\n"
          ]
        },
        {
          "output_type": "stream",
          "name": "stderr",
          "text": [
            " 79%|███████▉  | 676/855 [02:23<00:36,  4.88it/s]"
          ]
        },
        {
          "output_type": "stream",
          "name": "stdout",
          "text": [
            "24-11-2021_01-30-40_PM.jpg\n",
            "24-11-2021_09-22-07_AM.jpg\n"
          ]
        },
        {
          "output_type": "stream",
          "name": "stderr",
          "text": [
            " 79%|███████▉  | 678/855 [02:23<00:37,  4.77it/s]"
          ]
        },
        {
          "output_type": "stream",
          "name": "stdout",
          "text": [
            "26-11-2021_04-30-50_AM.jpg\n",
            "0_24-11-2021_09-05-07_AM.jpg\n"
          ]
        },
        {
          "output_type": "stream",
          "name": "stderr",
          "text": [
            " 80%|███████▉  | 680/855 [02:24<00:34,  5.11it/s]"
          ]
        },
        {
          "output_type": "stream",
          "name": "stdout",
          "text": [
            "25-11-2021_09-02-48_PM.jpg\n",
            "25-11-2021_04-22-54_AM.jpg\n"
          ]
        },
        {
          "output_type": "stream",
          "name": "stderr",
          "text": [
            " 80%|███████▉  | 682/855 [02:24<00:35,  4.83it/s]"
          ]
        },
        {
          "output_type": "stream",
          "name": "stdout",
          "text": [
            "25-11-2021_06-59-00_PM.jpg\n",
            "24-11-2021_11-54-22_PM.jpg\n"
          ]
        },
        {
          "output_type": "stream",
          "name": "stderr",
          "text": [
            " 80%|████████  | 684/855 [02:24<00:35,  4.76it/s]"
          ]
        },
        {
          "output_type": "stream",
          "name": "stdout",
          "text": [
            "26-11-2021_07-09-59_AM.jpg\n",
            "24-11-2021_02-25-34_PM.jpg\n"
          ]
        },
        {
          "output_type": "stream",
          "name": "stderr",
          "text": [
            "\r 80%|████████  | 685/855 [02:25<00:35,  4.74it/s]"
          ]
        },
        {
          "output_type": "stream",
          "name": "stdout",
          "text": [
            "24-11-2021_06-52-09_PM.jpg\n"
          ]
        },
        {
          "output_type": "stream",
          "name": "stderr",
          "text": [
            "\r 80%|████████  | 686/855 [02:25<00:37,  4.51it/s]"
          ]
        },
        {
          "output_type": "stream",
          "name": "stdout",
          "text": [
            "26-11-2021_10-50-34_AM.jpg\n"
          ]
        },
        {
          "output_type": "stream",
          "name": "stderr",
          "text": [
            "\r 80%|████████  | 687/855 [02:25<00:37,  4.47it/s]"
          ]
        },
        {
          "output_type": "stream",
          "name": "stdout",
          "text": [
            "25-11-2021_02-31-09_PM.jpg\n"
          ]
        },
        {
          "output_type": "stream",
          "name": "stderr",
          "text": [
            " 81%|████████  | 689/855 [02:26<00:37,  4.43it/s]"
          ]
        },
        {
          "output_type": "stream",
          "name": "stdout",
          "text": [
            "24-11-2021_12-37-36_PM.jpg\n",
            "25-11-2021_05-11-01_PM.jpg\n"
          ]
        },
        {
          "output_type": "stream",
          "name": "stderr",
          "text": [
            " 81%|████████  | 691/855 [02:26<00:36,  4.53it/s]"
          ]
        },
        {
          "output_type": "stream",
          "name": "stdout",
          "text": [
            "24-11-2021_08-45-19_AM.jpg\n",
            "25-11-2021_03-23-13_PM.jpg\n"
          ]
        },
        {
          "output_type": "stream",
          "name": "stderr",
          "text": [
            " 81%|████████  | 693/855 [02:26<00:34,  4.63it/s]"
          ]
        },
        {
          "output_type": "stream",
          "name": "stdout",
          "text": [
            "24-11-2021_06-24-34_AM.jpg\n",
            "25-11-2021_04-52-29_PM.jpg\n"
          ]
        },
        {
          "output_type": "stream",
          "name": "stderr",
          "text": [
            " 81%|████████▏ | 695/855 [02:27<00:31,  5.14it/s]"
          ]
        },
        {
          "output_type": "stream",
          "name": "stdout",
          "text": [
            "1_23-11-2021_02-20-15_PM.jpg\n",
            "24-11-2021_11-08-42_AM.jpg\n"
          ]
        },
        {
          "output_type": "stream",
          "name": "stderr",
          "text": [
            " 82%|████████▏ | 697/855 [02:27<00:27,  5.76it/s]"
          ]
        },
        {
          "output_type": "stream",
          "name": "stdout",
          "text": [
            "0_24-11-2021_02-41-59_PM.jpg\n",
            "2_26-11-2021_08-41-30_AM.jpg\n"
          ]
        },
        {
          "output_type": "stream",
          "name": "stderr",
          "text": [
            "\r 82%|████████▏ | 698/855 [02:27<00:26,  5.89it/s]"
          ]
        },
        {
          "output_type": "stream",
          "name": "stdout",
          "text": [
            "24-11-2021_12-38-58_PM.jpg\n"
          ]
        },
        {
          "output_type": "stream",
          "name": "stderr",
          "text": [
            "\r 82%|████████▏ | 699/855 [02:28<00:29,  5.33it/s]"
          ]
        },
        {
          "output_type": "stream",
          "name": "stdout",
          "text": [
            "24-11-2021_10-33-15_AM.jpg\n"
          ]
        },
        {
          "output_type": "stream",
          "name": "stderr",
          "text": [
            "\r 82%|████████▏ | 700/855 [02:28<00:31,  4.90it/s]"
          ]
        },
        {
          "output_type": "stream",
          "name": "stdout",
          "text": [
            "24-11-2021_01-32-05_PM.jpg\n"
          ]
        },
        {
          "output_type": "stream",
          "name": "stderr",
          "text": [
            " 82%|████████▏ | 702/855 [02:28<00:28,  5.33it/s]"
          ]
        },
        {
          "output_type": "stream",
          "name": "stdout",
          "text": [
            "1_26-11-2021_10-29-56_AM.jpg\n",
            "25-11-2021_08-50-21_AM.jpg\n"
          ]
        },
        {
          "output_type": "stream",
          "name": "stderr",
          "text": [
            "\r 82%|████████▏ | 703/855 [02:28<00:29,  5.11it/s]"
          ]
        },
        {
          "output_type": "stream",
          "name": "stdout",
          "text": [
            "24-11-2021_08-29-00_AM.jpg\n"
          ]
        },
        {
          "output_type": "stream",
          "name": "stderr",
          "text": [
            "\r 82%|████████▏ | 704/855 [02:29<00:31,  4.73it/s]"
          ]
        },
        {
          "output_type": "stream",
          "name": "stdout",
          "text": [
            "24-11-2021_05-48-42_AM.jpg\n"
          ]
        },
        {
          "output_type": "stream",
          "name": "stderr",
          "text": [
            " 83%|████████▎ | 706/855 [02:29<00:31,  4.72it/s]"
          ]
        },
        {
          "output_type": "stream",
          "name": "stdout",
          "text": [
            "24-11-2021_03-59-54_AM.jpg\n",
            "25-11-2021_10-57-03_AM.jpg\n"
          ]
        },
        {
          "output_type": "stream",
          "name": "stderr",
          "text": [
            " 83%|████████▎ | 708/855 [02:29<00:31,  4.67it/s]"
          ]
        },
        {
          "output_type": "stream",
          "name": "stdout",
          "text": [
            "25-11-2021_10-38-29_AM.jpg\n",
            "24-11-2021_06-52-44_PM.jpg\n"
          ]
        },
        {
          "output_type": "stream",
          "name": "stderr",
          "text": [
            " 83%|████████▎ | 710/855 [02:30<00:27,  5.28it/s]"
          ]
        },
        {
          "output_type": "stream",
          "name": "stdout",
          "text": [
            "0_26-11-2021_02-25-08_AM.jpg\n",
            "25-11-2021_03-23-47_PM.jpg\n"
          ]
        },
        {
          "output_type": "stream",
          "name": "stderr",
          "text": [
            " 83%|████████▎ | 712/855 [02:30<00:25,  5.55it/s]"
          ]
        },
        {
          "output_type": "stream",
          "name": "stdout",
          "text": [
            "0_26-11-2021_10-27-56_AM.jpg\n",
            "25-11-2021_10-55-24_AM.jpg\n"
          ]
        },
        {
          "output_type": "stream",
          "name": "stderr",
          "text": [
            " 84%|████████▎ | 714/855 [02:31<00:26,  5.37it/s]"
          ]
        },
        {
          "output_type": "stream",
          "name": "stdout",
          "text": [
            "24-11-2021_03-59-48_AM.jpg\n",
            "24-11-2021_12-37-51_PM.jpg\n"
          ]
        },
        {
          "output_type": "stream",
          "name": "stderr",
          "text": [
            "\r 84%|████████▎ | 715/855 [02:31<00:26,  5.21it/s]"
          ]
        },
        {
          "output_type": "stream",
          "name": "stdout",
          "text": [
            "25-11-2021_04-39-54_AM.jpg\n"
          ]
        },
        {
          "output_type": "stream",
          "name": "stderr",
          "text": [
            " 84%|████████▍ | 717/855 [02:31<00:27,  4.98it/s]"
          ]
        },
        {
          "output_type": "stream",
          "name": "stdout",
          "text": [
            "24-11-2021_04-37-55_AM.jpg\n",
            "25-11-2021_05-33-42_AM.jpg\n"
          ]
        },
        {
          "output_type": "stream",
          "name": "stderr",
          "text": [
            " 84%|████████▍ | 719/855 [02:32<00:27,  4.91it/s]"
          ]
        },
        {
          "output_type": "stream",
          "name": "stdout",
          "text": [
            "24-11-2021_03-24-50_AM.jpg\n"
          ]
        },
        {
          "output_type": "stream",
          "name": "stderr",
          "text": [
            "\r 84%|████████▍ | 720/855 [02:32<00:27,  4.97it/s]"
          ]
        },
        {
          "output_type": "stream",
          "name": "stdout",
          "text": [
            "26-11-2021_03-35-27_AM.jpg\n",
            "24-11-2021_05-23-26_PM.jpg\n"
          ]
        },
        {
          "output_type": "stream",
          "name": "stderr",
          "text": [
            "\r 84%|████████▍ | 721/855 [02:32<00:28,  4.71it/s]"
          ]
        },
        {
          "output_type": "stream",
          "name": "stdout",
          "text": [
            "24-11-2021_01-31-40_PM.jpg\n"
          ]
        },
        {
          "output_type": "stream",
          "name": "stderr",
          "text": [
            "\r 84%|████████▍ | 722/855 [02:32<00:29,  4.55it/s]"
          ]
        },
        {
          "output_type": "stream",
          "name": "stdout",
          "text": [
            "24-11-2021_11-26-02_AM.jpg\n"
          ]
        },
        {
          "output_type": "stream",
          "name": "stderr",
          "text": [
            "\r 85%|████████▍ | 723/855 [02:32<00:28,  4.61it/s]"
          ]
        },
        {
          "output_type": "stream",
          "name": "stdout",
          "text": [
            "24-11-2021_06-23-47_AM.jpg\n"
          ]
        },
        {
          "output_type": "stream",
          "name": "stderr",
          "text": [
            "\r 85%|████████▍ | 724/855 [02:33<00:29,  4.46it/s]"
          ]
        },
        {
          "output_type": "stream",
          "name": "stdout",
          "text": [
            "24-11-2021_09-05-00_AM.jpg\n"
          ]
        },
        {
          "output_type": "stream",
          "name": "stderr",
          "text": [
            "\r 85%|████████▍ | 725/855 [02:33<00:29,  4.44it/s]"
          ]
        },
        {
          "output_type": "stream",
          "name": "stdout",
          "text": [
            "23-11-2021_03-48-47_PM.jpg\n"
          ]
        },
        {
          "output_type": "stream",
          "name": "stderr",
          "text": [
            "\r 85%|████████▍ | 726/855 [02:33<00:29,  4.35it/s]"
          ]
        },
        {
          "output_type": "stream",
          "name": "stdout",
          "text": [
            "25-11-2021_08-16-05_AM.jpg\n"
          ]
        },
        {
          "output_type": "stream",
          "name": "stderr",
          "text": [
            " 85%|████████▌ | 728/855 [02:34<00:27,  4.55it/s]"
          ]
        },
        {
          "output_type": "stream",
          "name": "stdout",
          "text": [
            "25-11-2021_03-27-49_AM.jpg\n",
            "26-11-2021_05-42-59_AM.jpg\n"
          ]
        },
        {
          "output_type": "stream",
          "name": "stderr",
          "text": [
            "\r 85%|████████▌ | 729/855 [02:34<00:27,  4.63it/s]"
          ]
        },
        {
          "output_type": "stream",
          "name": "stdout",
          "text": [
            "24-11-2021_03-17-57_PM.jpg\n"
          ]
        },
        {
          "output_type": "stream",
          "name": "stderr",
          "text": [
            "\r 85%|████████▌ | 730/855 [02:34<00:26,  4.63it/s]"
          ]
        },
        {
          "output_type": "stream",
          "name": "stdout",
          "text": [
            "23-11-2021_02-56-22_PM.jpg\n"
          ]
        },
        {
          "output_type": "stream",
          "name": "stderr",
          "text": [
            " 86%|████████▌ | 732/855 [02:34<00:26,  4.72it/s]"
          ]
        },
        {
          "output_type": "stream",
          "name": "stdout",
          "text": [
            "24-11-2021_05-30-07_AM.jpg\n"
          ]
        },
        {
          "output_type": "stream",
          "name": "stderr",
          "text": [
            "\r 86%|████████▌ | 733/855 [02:35<00:27,  4.50it/s]"
          ]
        },
        {
          "output_type": "stream",
          "name": "stdout",
          "text": [
            "24-11-2021_04-37-21_AM.jpg\n",
            "26-11-2021_10-28-51_AM.jpg\n"
          ]
        },
        {
          "output_type": "stream",
          "name": "stderr",
          "text": [
            " 86%|████████▌ | 735/855 [02:35<00:25,  4.74it/s]"
          ]
        },
        {
          "output_type": "stream",
          "name": "stdout",
          "text": [
            "23-11-2021_06-31-42_PM.jpg\n",
            "25-11-2021_07-57-51_AM.jpg\n"
          ]
        },
        {
          "output_type": "stream",
          "name": "stderr",
          "text": [
            "\r 86%|████████▌ | 736/855 [02:35<00:26,  4.54it/s]"
          ]
        },
        {
          "output_type": "stream",
          "name": "stdout",
          "text": [
            "26-11-2021_07-47-56_AM.jpg\n"
          ]
        },
        {
          "output_type": "stream",
          "name": "stderr",
          "text": [
            "\r 86%|████████▌ | 737/855 [02:36<00:25,  4.55it/s]"
          ]
        },
        {
          "output_type": "stream",
          "name": "stdout",
          "text": [
            "25-11-2021_07-15-03_PM.jpg\n"
          ]
        },
        {
          "output_type": "stream",
          "name": "stderr",
          "text": [
            "\r 86%|████████▋ | 738/855 [02:36<00:26,  4.39it/s]"
          ]
        },
        {
          "output_type": "stream",
          "name": "stdout",
          "text": [
            "25-11-2021_11-25-55_PM.jpg\n"
          ]
        },
        {
          "output_type": "stream",
          "name": "stderr",
          "text": [
            "\r 86%|████████▋ | 739/855 [02:36<00:27,  4.28it/s]"
          ]
        },
        {
          "output_type": "stream",
          "name": "stdout",
          "text": [
            "25-11-2021_04-41-12_AM.jpg\n"
          ]
        },
        {
          "output_type": "stream",
          "name": "stderr",
          "text": [
            " 87%|████████▋ | 741/855 [02:36<00:24,  4.62it/s]"
          ]
        },
        {
          "output_type": "stream",
          "name": "stdout",
          "text": [
            "24-11-2021_05-49-26_AM.jpg\n",
            "0_25-11-2021_10-03-50_AM.jpg\n"
          ]
        },
        {
          "output_type": "stream",
          "name": "stderr",
          "text": [
            " 87%|████████▋ | 743/855 [02:37<00:22,  4.95it/s]"
          ]
        },
        {
          "output_type": "stream",
          "name": "stdout",
          "text": [
            "25-11-2021_08-32-54_AM.jpg\n",
            "25-11-2021_08-14-36_AM.jpg\n"
          ]
        },
        {
          "output_type": "stream",
          "name": "stderr",
          "text": [
            " 87%|████████▋ | 745/855 [02:37<00:22,  4.96it/s]"
          ]
        },
        {
          "output_type": "stream",
          "name": "stdout",
          "text": [
            "25-11-2021_03-57-48_PM.jpg\n",
            "24-11-2021_12-55-38_PM.jpg\n"
          ]
        },
        {
          "output_type": "stream",
          "name": "stderr",
          "text": [
            " 87%|████████▋ | 747/855 [02:38<00:22,  4.88it/s]"
          ]
        },
        {
          "output_type": "stream",
          "name": "stdout",
          "text": [
            "25-11-2021_11-14-15_AM.jpg\n",
            "26-11-2021_07-10-57_AM.jpg\n"
          ]
        },
        {
          "output_type": "stream",
          "name": "stderr",
          "text": [
            " 88%|████████▊ | 749/855 [02:38<00:21,  4.93it/s]"
          ]
        },
        {
          "output_type": "stream",
          "name": "stdout",
          "text": [
            "23-11-2021_02-55-30_PM.jpg\n",
            "25-11-2021_11-14-22_AM.jpg\n"
          ]
        },
        {
          "output_type": "stream",
          "name": "stderr",
          "text": [
            " 88%|████████▊ | 751/855 [02:38<00:21,  4.94it/s]"
          ]
        },
        {
          "output_type": "stream",
          "name": "stdout",
          "text": [
            "25-11-2021_07-22-22_AM.jpg\n",
            "26-11-2021_10-09-22_AM.jpg\n"
          ]
        },
        {
          "output_type": "stream",
          "name": "stderr",
          "text": [
            " 88%|████████▊ | 753/855 [02:39<00:19,  5.36it/s]"
          ]
        },
        {
          "output_type": "stream",
          "name": "stdout",
          "text": [
            "1_25-11-2021_09-45-52_AM.jpg\n",
            "24-11-2021_05-47-57_AM.jpg\n"
          ]
        },
        {
          "output_type": "stream",
          "name": "stderr",
          "text": [
            " 88%|████████▊ | 755/855 [02:39<00:17,  5.62it/s]"
          ]
        },
        {
          "output_type": "stream",
          "name": "stdout",
          "text": [
            "1_23-11-2021_02-20-07_PM.jpg\n",
            "0_25-11-2021_11-14-06_AM.jpg\n"
          ]
        },
        {
          "output_type": "stream",
          "name": "stderr",
          "text": [
            "\r 88%|████████▊ | 756/855 [02:39<00:16,  6.10it/s]"
          ]
        },
        {
          "output_type": "stream",
          "name": "stdout",
          "text": [
            "23-11-2021_03-14-11_PM.jpg\n"
          ]
        },
        {
          "output_type": "stream",
          "name": "stderr",
          "text": [
            "\r 89%|████████▊ | 757/855 [02:40<00:18,  5.29it/s]"
          ]
        },
        {
          "output_type": "stream",
          "name": "stdout",
          "text": [
            "23-11-2021_03-14-14_PM.jpg\n"
          ]
        },
        {
          "output_type": "stream",
          "name": "stderr",
          "text": [
            " 89%|████████▉ | 759/855 [02:40<00:19,  4.98it/s]"
          ]
        },
        {
          "output_type": "stream",
          "name": "stdout",
          "text": [
            "26-11-2021_11-14-04_AM.jpg\n",
            "0_26-11-2021_04-10-55_AM.jpg\n"
          ]
        },
        {
          "output_type": "stream",
          "name": "stderr",
          "text": [
            "\r 89%|████████▉ | 760/855 [02:40<00:18,  5.26it/s]"
          ]
        },
        {
          "output_type": "stream",
          "name": "stdout",
          "text": [
            "25-11-2021_10-39-17_AM.jpg\n"
          ]
        },
        {
          "output_type": "stream",
          "name": "stderr",
          "text": [
            "\r 89%|████████▉ | 761/855 [02:40<00:19,  4.87it/s]"
          ]
        },
        {
          "output_type": "stream",
          "name": "stdout",
          "text": [
            "24-11-2021_01-31-36_PM.jpg\n"
          ]
        },
        {
          "output_type": "stream",
          "name": "stderr",
          "text": [
            " 89%|████████▉ | 763/855 [02:41<00:19,  4.72it/s]"
          ]
        },
        {
          "output_type": "stream",
          "name": "stdout",
          "text": [
            "24-11-2021_11-44-07_AM.jpg\n",
            "26-11-2021_11-44-10_AM.jpg\n"
          ]
        },
        {
          "output_type": "stream",
          "name": "stderr",
          "text": [
            "\r 89%|████████▉ | 764/855 [02:41<00:19,  4.58it/s]"
          ]
        },
        {
          "output_type": "stream",
          "name": "stdout",
          "text": [
            "26-11-2021_08-58-03_AM.jpg\n"
          ]
        },
        {
          "output_type": "stream",
          "name": "stderr",
          "text": [
            " 90%|████████▉ | 766/855 [02:41<00:19,  4.58it/s]"
          ]
        },
        {
          "output_type": "stream",
          "name": "stdout",
          "text": [
            "24-11-2021_01-50-22_PM.jpg\n",
            "23-11-2021_03-49-17_PM.jpg\n"
          ]
        },
        {
          "output_type": "stream",
          "name": "stderr",
          "text": [
            "\r 90%|████████▉ | 767/855 [02:42<00:19,  4.50it/s]"
          ]
        },
        {
          "output_type": "stream",
          "name": "stdout",
          "text": [
            "25-11-2021_07-03-10_AM.jpg\n"
          ]
        },
        {
          "output_type": "stream",
          "name": "stderr",
          "text": [
            " 90%|████████▉ | 769/855 [02:42<00:17,  4.91it/s]"
          ]
        },
        {
          "output_type": "stream",
          "name": "stdout",
          "text": [
            "0_25-11-2021_02-35-15_AM.jpg\n",
            "24-11-2021_04-36-17_AM.jpg\n"
          ]
        },
        {
          "output_type": "stream",
          "name": "stderr",
          "text": [
            " 90%|█████████ | 771/855 [02:43<00:17,  4.68it/s]"
          ]
        },
        {
          "output_type": "stream",
          "name": "stdout",
          "text": [
            "25-11-2021_09-08-51_AM.jpg\n",
            "25-11-2021_10-38-55_AM.jpg\n"
          ]
        },
        {
          "output_type": "stream",
          "name": "stderr",
          "text": [
            " 90%|█████████ | 773/855 [02:43<00:17,  4.64it/s]"
          ]
        },
        {
          "output_type": "stream",
          "name": "stdout",
          "text": [
            "23-11-2021_08-36-15_PM.jpg\n",
            "25-11-2021_01-55-11_PM.jpg\n"
          ]
        },
        {
          "output_type": "stream",
          "name": "stderr",
          "text": [
            "\r 91%|█████████ | 774/855 [02:43<00:17,  4.71it/s]"
          ]
        },
        {
          "output_type": "stream",
          "name": "stdout",
          "text": [
            "26-11-2021_08-40-11_AM.jpg\n"
          ]
        },
        {
          "output_type": "stream",
          "name": "stderr",
          "text": [
            " 91%|█████████ | 776/855 [02:44<00:17,  4.63it/s]"
          ]
        },
        {
          "output_type": "stream",
          "name": "stdout",
          "text": [
            "24-11-2021_05-49-08_AM.jpg\n"
          ]
        },
        {
          "output_type": "stream",
          "name": "stderr",
          "text": [
            "\r 91%|█████████ | 777/855 [02:44<00:17,  4.46it/s]"
          ]
        },
        {
          "output_type": "stream",
          "name": "stdout",
          "text": [
            "24-11-2021_11-44-51_AM.jpg\n",
            "23-11-2021_03-49-06_PM.jpg\n"
          ]
        },
        {
          "output_type": "stream",
          "name": "stderr",
          "text": [
            "\r 91%|█████████ | 778/855 [02:44<00:16,  4.55it/s]"
          ]
        },
        {
          "output_type": "stream",
          "name": "stdout",
          "text": [
            "26-11-2021_04-10-47_AM.jpg\n"
          ]
        },
        {
          "output_type": "stream",
          "name": "stderr",
          "text": [
            " 91%|█████████ | 780/855 [02:44<00:14,  5.14it/s]"
          ]
        },
        {
          "output_type": "stream",
          "name": "stdout",
          "text": [
            "0_24-11-2021_11-07-32_AM.jpg\n",
            "25-11-2021_05-50-56_AM.jpg\n"
          ]
        },
        {
          "output_type": "stream",
          "name": "stderr",
          "text": [
            "\r 91%|█████████▏| 781/855 [02:45<00:14,  4.98it/s]"
          ]
        },
        {
          "output_type": "stream",
          "name": "stdout",
          "text": [
            "24-11-2021_01-31-29_PM.jpg\n"
          ]
        },
        {
          "output_type": "stream",
          "name": "stderr",
          "text": [
            "\r 91%|█████████▏| 782/855 [02:45<00:15,  4.81it/s]"
          ]
        },
        {
          "output_type": "stream",
          "name": "stdout",
          "text": [
            "26-11-2021_07-29-48_AM.jpg\n"
          ]
        },
        {
          "output_type": "stream",
          "name": "stderr",
          "text": [
            "\r 92%|█████████▏| 783/855 [02:45<00:15,  4.64it/s]"
          ]
        },
        {
          "output_type": "stream",
          "name": "stdout",
          "text": [
            "24-11-2021_03-07-29_AM.jpg\n"
          ]
        },
        {
          "output_type": "stream",
          "name": "stderr",
          "text": [
            "\r 92%|█████████▏| 784/855 [02:45<00:15,  4.55it/s]"
          ]
        },
        {
          "output_type": "stream",
          "name": "stdout",
          "text": [
            "23-11-2021_06-30-30_PM.jpg\n"
          ]
        },
        {
          "output_type": "stream",
          "name": "stderr",
          "text": [
            "\r 92%|█████████▏| 785/855 [02:46<00:15,  4.46it/s]"
          ]
        },
        {
          "output_type": "stream",
          "name": "stdout",
          "text": [
            "24-11-2021_04-47-57_PM.jpg\n"
          ]
        },
        {
          "output_type": "stream",
          "name": "stderr",
          "text": [
            " 92%|█████████▏| 787/855 [02:46<00:14,  4.63it/s]"
          ]
        },
        {
          "output_type": "stream",
          "name": "stdout",
          "text": [
            "25-11-2021_08-14-18_AM.jpg\n",
            "24-11-2021_06-42-04_AM.jpg\n"
          ]
        },
        {
          "output_type": "stream",
          "name": "stderr",
          "text": [
            " 92%|█████████▏| 789/855 [02:46<00:14,  4.57it/s]"
          ]
        },
        {
          "output_type": "stream",
          "name": "stdout",
          "text": [
            "25-11-2021_06-39-38_PM.jpg\n",
            "0_24-11-2021_07-28-12_PM.jpg"
          ]
        },
        {
          "output_type": "stream",
          "name": "stderr",
          "text": [
            "\r 92%|█████████▏| 790/855 [02:47<00:12,  5.08it/s]"
          ]
        },
        {
          "output_type": "stream",
          "name": "stdout",
          "text": [
            "\n",
            "26-11-2021_08-03-58_AM.jpg\n"
          ]
        },
        {
          "output_type": "stream",
          "name": "stderr",
          "text": [
            " 93%|█████████▎| 792/855 [02:47<00:12,  5.04it/s]"
          ]
        },
        {
          "output_type": "stream",
          "name": "stdout",
          "text": [
            "24-11-2021_03-00-18_PM.jpg\n",
            "24-11-2021_02-06-55_PM.jpg\n"
          ]
        },
        {
          "output_type": "stream",
          "name": "stderr",
          "text": [
            " 93%|█████████▎| 794/855 [02:47<00:12,  4.95it/s]"
          ]
        },
        {
          "output_type": "stream",
          "name": "stdout",
          "text": [
            "23-11-2021_02-21-18_PM.jpg\n",
            "0_24-11-2021_03-37-33_PM.jpg\n"
          ]
        },
        {
          "output_type": "stream",
          "name": "stderr",
          "text": [
            "\r 93%|█████████▎| 795/855 [02:48<00:11,  5.21it/s]"
          ]
        },
        {
          "output_type": "stream",
          "name": "stdout",
          "text": [
            "25-11-2021_08-51-39_AM.jpg\n"
          ]
        },
        {
          "output_type": "stream",
          "name": "stderr",
          "text": [
            " 93%|█████████▎| 797/855 [02:48<00:11,  4.93it/s]"
          ]
        },
        {
          "output_type": "stream",
          "name": "stdout",
          "text": [
            "26-11-2021_06-16-35_AM.jpg\n",
            "24-11-2021_04-18-45_AM.jpg\n"
          ]
        },
        {
          "output_type": "stream",
          "name": "stderr",
          "text": [
            "\r 93%|█████████▎| 798/855 [02:48<00:12,  4.67it/s]"
          ]
        },
        {
          "output_type": "stream",
          "name": "stdout",
          "text": [
            "26-11-2021_09-33-44_AM.jpg\n"
          ]
        },
        {
          "output_type": "stream",
          "name": "stderr",
          "text": [
            "\r 93%|█████████▎| 799/855 [02:49<00:12,  4.46it/s]"
          ]
        },
        {
          "output_type": "stream",
          "name": "stdout",
          "text": [
            "23-11-2021_04-08-00_PM.jpg\n"
          ]
        },
        {
          "output_type": "stream",
          "name": "stderr",
          "text": [
            "\r 94%|█████████▎| 800/855 [02:49<00:12,  4.46it/s]"
          ]
        },
        {
          "output_type": "stream",
          "name": "stdout",
          "text": [
            "26-11-2021_12-37-22_AM.jpg\n"
          ]
        },
        {
          "output_type": "stream",
          "name": "stderr",
          "text": [
            " 94%|█████████▍| 802/855 [02:49<00:11,  4.55it/s]"
          ]
        },
        {
          "output_type": "stream",
          "name": "stdout",
          "text": [
            "24-11-2021_09-56-50_AM.jpg\n",
            "24-11-2021_10-32-39_AM.jpg\n"
          ]
        },
        {
          "output_type": "stream",
          "name": "stderr",
          "text": [
            "\r 94%|█████████▍| 803/855 [02:49<00:11,  4.58it/s]"
          ]
        },
        {
          "output_type": "stream",
          "name": "stdout",
          "text": [
            "25-11-2021_01-37-43_PM.jpg\n"
          ]
        },
        {
          "output_type": "stream",
          "name": "stderr",
          "text": [
            "\r 94%|█████████▍| 804/855 [02:50<00:11,  4.46it/s]"
          ]
        },
        {
          "output_type": "stream",
          "name": "stdout",
          "text": [
            "24-11-2021_05-29-37_AM.jpg\n"
          ]
        },
        {
          "output_type": "stream",
          "name": "stderr",
          "text": [
            " 94%|█████████▍| 806/855 [02:50<00:10,  4.71it/s]"
          ]
        },
        {
          "output_type": "stream",
          "name": "stdout",
          "text": [
            "24-11-2021_01-48-34_PM.jpg\n",
            "23-11-2021_07-06-01_PM.jpg\n"
          ]
        },
        {
          "output_type": "stream",
          "name": "stderr",
          "text": [
            "\r 94%|█████████▍| 807/855 [02:50<00:10,  4.52it/s]"
          ]
        },
        {
          "output_type": "stream",
          "name": "stdout",
          "text": [
            "24-11-2021_10-16-04_AM.jpg\n"
          ]
        },
        {
          "output_type": "stream",
          "name": "stderr",
          "text": [
            " 95%|█████████▍| 809/855 [02:51<00:10,  4.54it/s]"
          ]
        },
        {
          "output_type": "stream",
          "name": "stdout",
          "text": [
            "25-11-2021_05-10-05_PM.jpg\n"
          ]
        },
        {
          "output_type": "stream",
          "name": "stderr",
          "text": [
            "\r 95%|█████████▍| 810/855 [02:51<00:09,  4.65it/s]"
          ]
        },
        {
          "output_type": "stream",
          "name": "stdout",
          "text": [
            "25-11-2021_07-21-05_AM.jpg\n",
            "23-11-2021_02-55-45_PM.jpg\n"
          ]
        },
        {
          "output_type": "stream",
          "name": "stderr",
          "text": [
            "\r 95%|█████████▍| 811/855 [02:51<00:09,  4.49it/s]"
          ]
        },
        {
          "output_type": "stream",
          "name": "stdout",
          "text": [
            "25-11-2021_05-29-01_PM.jpg\n"
          ]
        },
        {
          "output_type": "stream",
          "name": "stderr",
          "text": [
            "\r 95%|█████████▍| 812/855 [02:51<00:09,  4.38it/s]"
          ]
        },
        {
          "output_type": "stream",
          "name": "stdout",
          "text": [
            "24-11-2021_03-42-06_AM.jpg\n"
          ]
        },
        {
          "output_type": "stream",
          "name": "stderr",
          "text": [
            "\r 95%|█████████▌| 813/855 [02:52<00:09,  4.49it/s]"
          ]
        },
        {
          "output_type": "stream",
          "name": "stdout",
          "text": [
            "25-11-2021_06-10-20_AM.jpg\n"
          ]
        },
        {
          "output_type": "stream",
          "name": "stderr",
          "text": [
            " 95%|█████████▌| 815/855 [02:52<00:08,  4.85it/s]"
          ]
        },
        {
          "output_type": "stream",
          "name": "stdout",
          "text": [
            "0_25-11-2021_08-50-08_AM.jpg\n",
            "26-11-2021_09-17-12_AM.jpg\n"
          ]
        },
        {
          "output_type": "stream",
          "name": "stderr",
          "text": [
            "\r 95%|█████████▌| 816/855 [02:52<00:07,  4.93it/s]"
          ]
        },
        {
          "output_type": "stream",
          "name": "stdout",
          "text": [
            "25-11-2021_02-31-38_PM.jpg\n"
          ]
        },
        {
          "output_type": "stream",
          "name": "stderr",
          "text": [
            "\r 96%|█████████▌| 817/855 [02:52<00:08,  4.67it/s]"
          ]
        },
        {
          "output_type": "stream",
          "name": "stdout",
          "text": [
            "25-11-2021_03-23-10_PM.jpg\n"
          ]
        },
        {
          "output_type": "stream",
          "name": "stderr",
          "text": [
            " 96%|█████████▌| 819/855 [02:53<00:07,  4.82it/s]"
          ]
        },
        {
          "output_type": "stream",
          "name": "stdout",
          "text": [
            "25-11-2021_07-58-51_AM.jpg\n",
            "26-11-2021_11-42-06_AM.jpg\n"
          ]
        },
        {
          "output_type": "stream",
          "name": "stderr",
          "text": [
            " 96%|█████████▌| 821/855 [02:53<00:06,  4.90it/s]"
          ]
        },
        {
          "output_type": "stream",
          "name": "stdout",
          "text": [
            "23-11-2021_06-47-17_PM.jpg\n",
            "1_26-11-2021_10-10-33_AM.jpg\n"
          ]
        },
        {
          "output_type": "stream",
          "name": "stderr",
          "text": [
            "\r 96%|█████████▌| 822/855 [02:53<00:06,  5.21it/s]"
          ]
        },
        {
          "output_type": "stream",
          "name": "stdout",
          "text": [
            "26-11-2021_05-23-48_AM.jpg\n"
          ]
        },
        {
          "output_type": "stream",
          "name": "stderr",
          "text": [
            " 96%|█████████▋| 824/855 [02:54<00:06,  5.08it/s]"
          ]
        },
        {
          "output_type": "stream",
          "name": "stdout",
          "text": [
            "0_23-11-2021_04-41-35_PM.jpg\n",
            "23-11-2021_02-56-08_PM.jpg\n"
          ]
        },
        {
          "output_type": "stream",
          "name": "stderr",
          "text": [
            " 97%|█████████▋| 826/855 [02:54<00:06,  4.81it/s]"
          ]
        },
        {
          "output_type": "stream",
          "name": "stdout",
          "text": [
            "25-11-2021_10-57-24_AM.jpg\n",
            "24-11-2021_09-23-17_AM.jpg\n"
          ]
        },
        {
          "output_type": "stream",
          "name": "stderr",
          "text": [
            " 97%|█████████▋| 828/855 [02:55<00:04,  5.50it/s]"
          ]
        },
        {
          "output_type": "stream",
          "name": "stdout",
          "text": [
            "0_25-11-2021_01-59-46_AM.jpg\n",
            "23-11-2021_02-55-09_PM.jpg\n"
          ]
        },
        {
          "output_type": "stream",
          "name": "stderr",
          "text": [
            "\r 97%|█████████▋| 829/855 [02:55<00:05,  4.97it/s]"
          ]
        },
        {
          "output_type": "stream",
          "name": "stdout",
          "text": [
            "25-11-2021_02-14-28_PM.jpg\n"
          ]
        },
        {
          "output_type": "stream",
          "name": "stderr",
          "text": [
            " 97%|█████████▋| 831/855 [02:55<00:04,  5.12it/s]"
          ]
        },
        {
          "output_type": "stream",
          "name": "stdout",
          "text": [
            "25-11-2021_02-32-36_PM.jpg\n",
            "26-11-2021_09-52-54_AM.jpg\n"
          ]
        },
        {
          "output_type": "stream",
          "name": "stderr",
          "text": [
            "\r 97%|█████████▋| 832/855 [02:56<00:04,  4.77it/s]"
          ]
        },
        {
          "output_type": "stream",
          "name": "stdout",
          "text": [
            "25-11-2021_02-30-31_PM.jpg\n"
          ]
        },
        {
          "output_type": "stream",
          "name": "stderr",
          "text": [
            "\r 97%|█████████▋| 833/855 [02:56<00:04,  4.77it/s]"
          ]
        },
        {
          "output_type": "stream",
          "name": "stdout",
          "text": [
            "25-11-2021_08-14-45_AM.jpg\n"
          ]
        },
        {
          "output_type": "stream",
          "name": "stderr",
          "text": [
            "\r 98%|█████████▊| 834/855 [02:56<00:04,  4.50it/s]"
          ]
        },
        {
          "output_type": "stream",
          "name": "stdout",
          "text": [
            "25-11-2021_10-56-11_AM.jpg\n"
          ]
        },
        {
          "output_type": "stream",
          "name": "stderr",
          "text": [
            " 98%|█████████▊| 836/855 [02:56<00:04,  4.51it/s]"
          ]
        },
        {
          "output_type": "stream",
          "name": "stdout",
          "text": [
            "24-11-2021_10-16-37_AM.jpg\n"
          ]
        },
        {
          "output_type": "stream",
          "name": "stderr",
          "text": [
            "\r 98%|█████████▊| 837/855 [02:57<00:03,  4.61it/s]"
          ]
        },
        {
          "output_type": "stream",
          "name": "stdout",
          "text": [
            "25-11-2021_03-58-19_PM.jpg\n",
            "23-11-2021_03-31-12_PM.jpg\n"
          ]
        },
        {
          "output_type": "stream",
          "name": "stderr",
          "text": [
            "\r 98%|█████████▊| 838/855 [02:57<00:03,  4.70it/s]"
          ]
        },
        {
          "output_type": "stream",
          "name": "stdout",
          "text": [
            "24-11-2021_11-27-36_AM.jpg\n"
          ]
        },
        {
          "output_type": "stream",
          "name": "stderr",
          "text": [
            " 98%|█████████▊| 840/855 [02:57<00:03,  4.80it/s]"
          ]
        },
        {
          "output_type": "stream",
          "name": "stdout",
          "text": [
            "24-11-2021_04-00-06_AM.jpg\n",
            "24-11-2021_04-18-00_AM.jpg\n"
          ]
        },
        {
          "output_type": "stream",
          "name": "stderr",
          "text": [
            "\r 98%|█████████▊| 841/855 [02:57<00:02,  4.87it/s]"
          ]
        },
        {
          "output_type": "stream",
          "name": "stdout",
          "text": [
            "26-11-2021_06-18-42_AM.jpg\n"
          ]
        },
        {
          "output_type": "stream",
          "name": "stderr",
          "text": [
            " 99%|█████████▊| 843/855 [02:58<00:02,  4.84it/s]"
          ]
        },
        {
          "output_type": "stream",
          "name": "stdout",
          "text": [
            "26-11-2021_07-48-27_AM.jpg\n",
            "24-11-2021_06-23-50_AM.jpg\n"
          ]
        },
        {
          "output_type": "stream",
          "name": "stderr",
          "text": [
            "\r 99%|█████████▊| 844/855 [02:58<00:02,  4.65it/s]"
          ]
        },
        {
          "output_type": "stream",
          "name": "stdout",
          "text": [
            "23-11-2021_02-20-25_PM.jpg\n"
          ]
        },
        {
          "output_type": "stream",
          "name": "stderr",
          "text": [
            "\r 99%|█████████▉| 845/855 [02:58<00:02,  4.49it/s]"
          ]
        },
        {
          "output_type": "stream",
          "name": "stdout",
          "text": [
            "23-11-2021_04-25-02_PM.jpg\n"
          ]
        },
        {
          "output_type": "stream",
          "name": "stderr",
          "text": [
            "\r 99%|█████████▉| 846/855 [02:59<00:02,  4.37it/s]"
          ]
        },
        {
          "output_type": "stream",
          "name": "stdout",
          "text": [
            "25-11-2021_03-40-56_PM.jpg\n"
          ]
        },
        {
          "output_type": "stream",
          "name": "stderr",
          "text": [
            "\r 99%|█████████▉| 847/855 [02:59<00:01,  4.49it/s]"
          ]
        },
        {
          "output_type": "stream",
          "name": "stdout",
          "text": [
            "23-11-2021_02-55-37_PM.jpg\n"
          ]
        },
        {
          "output_type": "stream",
          "name": "stderr",
          "text": [
            "\r 99%|█████████▉| 848/855 [02:59<00:01,  4.31it/s]"
          ]
        },
        {
          "output_type": "stream",
          "name": "stdout",
          "text": [
            "26-11-2021_04-47-47_AM.jpg\n"
          ]
        },
        {
          "output_type": "stream",
          "name": "stderr",
          "text": [
            "\r 99%|█████████▉| 849/855 [02:59<00:01,  4.27it/s]"
          ]
        },
        {
          "output_type": "stream",
          "name": "stdout",
          "text": [
            "24-11-2021_03-19-10_PM.jpg\n"
          ]
        },
        {
          "output_type": "stream",
          "name": "stderr",
          "text": [
            "100%|█████████▉| 851/855 [03:00<00:00,  4.75it/s]"
          ]
        },
        {
          "output_type": "stream",
          "name": "stdout",
          "text": [
            "3_24-11-2021_04-17-46_AM.jpg\n",
            "24-11-2021_03-53-49_PM.jpg\n"
          ]
        },
        {
          "output_type": "stream",
          "name": "stderr",
          "text": [
            "100%|█████████▉| 853/855 [03:00<00:00,  4.80it/s]"
          ]
        },
        {
          "output_type": "stream",
          "name": "stdout",
          "text": [
            "26-11-2021_04-47-01_AM.jpg\n",
            "25-11-2021_02-12-53_PM.jpg\n"
          ]
        },
        {
          "output_type": "stream",
          "name": "stderr",
          "text": [
            "\r100%|█████████▉| 854/855 [03:00<00:00,  4.55it/s]"
          ]
        },
        {
          "output_type": "stream",
          "name": "stdout",
          "text": [
            "24-11-2021_06-24-01_AM.jpg\n"
          ]
        },
        {
          "output_type": "stream",
          "name": "stderr",
          "text": [
            "100%|██████████| 855/855 [03:01<00:00,  4.72it/s]\n"
          ]
        }
      ],
      "source": [
        "solution = []\n",
        "for name in tqdm([x for x in os.listdir('test/images/') if 'jpg'in x]):\n",
        "    im = Image.open('test/images/'+name)\n",
        "    pixel_values = feature_extractor(im, return_tensors=\"pt\").pixel_values\n",
        "    outputs = model(pixel_values.to(device))\n",
        "    maxprobs = outputs.logits.softmax(-1)[0, :, :-1].max(-1)\n",
        "    for i in range(len(maxprobs.indices)):\n",
        "        if maxprobs.values[i] > .5:\n",
        "            solution.append([name] + [(maxprobs.indices[i].item()-1)%5]+\n",
        "                 [maxprobs.values[i].item()] + \n",
        "                 [x.item() for x in b2b(outputs.pred_boxes[0, [i]].cpu()[0])])\n",
        "test_solution = DataFrame(solution, \n",
        "               columns=['ImageID', 'LabelName', 'Conf', 'XMin', 'XMax', 'YMin', 'YMax'])"
      ]
    },
    {
      "cell_type": "code",
      "source": [
        "# test_solution = DataFrame(solution, \n",
        "#                columns=['ImageID', 'LabelName', 'Conf', 'XMin', 'XMax', 'YMin', 'YMax'])"
      ],
      "metadata": {
        "id": "v37OIK8h7KUv"
      },
      "execution_count": 70,
      "outputs": []
    },
    {
      "cell_type": "code",
      "execution_count": 76,
      "metadata": {
        "scrolled": true,
        "id": "Rf4WApjWTsAG"
      },
      "outputs": [],
      "source": [
        "test_solution[['XMin','XMax','YMin','YMax']\n",
        "             ] = test_solution[['XMin','XMax','YMin','YMax']].clip(0,1)"
      ]
    },
    {
      "cell_type": "code",
      "execution_count": 77,
      "metadata": {
        "colab": {
          "base_uri": "https://localhost:8080/",
          "height": 423
        },
        "id": "Pwcj_irSTsAI",
        "outputId": "d8282520-d0ef-4b97-e62d-60e2c2c7bd64"
      },
      "outputs": [
        {
          "output_type": "execute_result",
          "data": {
            "text/plain": [
              "                          ImageID  LabelName      Conf      XMin      XMax  \\\n",
              "0      24-11-2021_04-55-09_AM.jpg          0  0.834969  0.310544  0.418685   \n",
              "1      24-11-2021_04-55-09_AM.jpg          0  0.880298  0.281482  0.380636   \n",
              "2      24-11-2021_04-55-09_AM.jpg          0  0.996688  0.391524  0.519056   \n",
              "3      24-11-2021_04-55-09_AM.jpg          0  0.977760  0.221707  0.283518   \n",
              "4      24-11-2021_04-55-09_AM.jpg          0  0.526885  0.389143  0.499639   \n",
              "...                           ...        ...       ...       ...       ...   \n",
              "23308  24-11-2021_06-24-01_AM.jpg          0  0.999666  0.053780  0.233607   \n",
              "23309  24-11-2021_06-24-01_AM.jpg          0  0.999125  0.149570  0.232119   \n",
              "23310  24-11-2021_06-24-01_AM.jpg          0  0.928047  0.417646  0.488560   \n",
              "23311  24-11-2021_06-24-01_AM.jpg          0  0.589113  0.513481  0.564651   \n",
              "23312  24-11-2021_06-24-01_AM.jpg          0  0.971851  0.547100  0.635786   \n",
              "\n",
              "           YMin      YMax  \n",
              "0      0.043818  0.147340  \n",
              "1      0.044835  0.147084  \n",
              "2      0.069059  0.199037  \n",
              "3      0.001689  0.062893  \n",
              "4      0.067388  0.187654  \n",
              "...         ...       ...  \n",
              "23308  0.486711  0.761449  \n",
              "23309  0.222043  0.321650  \n",
              "23310  0.071738  0.128898  \n",
              "23311  0.029126  0.069692  \n",
              "23312  0.102647  0.168750  \n",
              "\n",
              "[23313 rows x 7 columns]"
            ],
            "text/html": [
              "\n",
              "  <div id=\"df-fb85df36-163b-4b96-9f2b-e5f9d21cc421\">\n",
              "    <div class=\"colab-df-container\">\n",
              "      <div>\n",
              "<style scoped>\n",
              "    .dataframe tbody tr th:only-of-type {\n",
              "        vertical-align: middle;\n",
              "    }\n",
              "\n",
              "    .dataframe tbody tr th {\n",
              "        vertical-align: top;\n",
              "    }\n",
              "\n",
              "    .dataframe thead th {\n",
              "        text-align: right;\n",
              "    }\n",
              "</style>\n",
              "<table border=\"1\" class=\"dataframe\">\n",
              "  <thead>\n",
              "    <tr style=\"text-align: right;\">\n",
              "      <th></th>\n",
              "      <th>ImageID</th>\n",
              "      <th>LabelName</th>\n",
              "      <th>Conf</th>\n",
              "      <th>XMin</th>\n",
              "      <th>XMax</th>\n",
              "      <th>YMin</th>\n",
              "      <th>YMax</th>\n",
              "    </tr>\n",
              "  </thead>\n",
              "  <tbody>\n",
              "    <tr>\n",
              "      <th>0</th>\n",
              "      <td>24-11-2021_04-55-09_AM.jpg</td>\n",
              "      <td>0</td>\n",
              "      <td>0.834969</td>\n",
              "      <td>0.310544</td>\n",
              "      <td>0.418685</td>\n",
              "      <td>0.043818</td>\n",
              "      <td>0.147340</td>\n",
              "    </tr>\n",
              "    <tr>\n",
              "      <th>1</th>\n",
              "      <td>24-11-2021_04-55-09_AM.jpg</td>\n",
              "      <td>0</td>\n",
              "      <td>0.880298</td>\n",
              "      <td>0.281482</td>\n",
              "      <td>0.380636</td>\n",
              "      <td>0.044835</td>\n",
              "      <td>0.147084</td>\n",
              "    </tr>\n",
              "    <tr>\n",
              "      <th>2</th>\n",
              "      <td>24-11-2021_04-55-09_AM.jpg</td>\n",
              "      <td>0</td>\n",
              "      <td>0.996688</td>\n",
              "      <td>0.391524</td>\n",
              "      <td>0.519056</td>\n",
              "      <td>0.069059</td>\n",
              "      <td>0.199037</td>\n",
              "    </tr>\n",
              "    <tr>\n",
              "      <th>3</th>\n",
              "      <td>24-11-2021_04-55-09_AM.jpg</td>\n",
              "      <td>0</td>\n",
              "      <td>0.977760</td>\n",
              "      <td>0.221707</td>\n",
              "      <td>0.283518</td>\n",
              "      <td>0.001689</td>\n",
              "      <td>0.062893</td>\n",
              "    </tr>\n",
              "    <tr>\n",
              "      <th>4</th>\n",
              "      <td>24-11-2021_04-55-09_AM.jpg</td>\n",
              "      <td>0</td>\n",
              "      <td>0.526885</td>\n",
              "      <td>0.389143</td>\n",
              "      <td>0.499639</td>\n",
              "      <td>0.067388</td>\n",
              "      <td>0.187654</td>\n",
              "    </tr>\n",
              "    <tr>\n",
              "      <th>...</th>\n",
              "      <td>...</td>\n",
              "      <td>...</td>\n",
              "      <td>...</td>\n",
              "      <td>...</td>\n",
              "      <td>...</td>\n",
              "      <td>...</td>\n",
              "      <td>...</td>\n",
              "    </tr>\n",
              "    <tr>\n",
              "      <th>23308</th>\n",
              "      <td>24-11-2021_06-24-01_AM.jpg</td>\n",
              "      <td>0</td>\n",
              "      <td>0.999666</td>\n",
              "      <td>0.053780</td>\n",
              "      <td>0.233607</td>\n",
              "      <td>0.486711</td>\n",
              "      <td>0.761449</td>\n",
              "    </tr>\n",
              "    <tr>\n",
              "      <th>23309</th>\n",
              "      <td>24-11-2021_06-24-01_AM.jpg</td>\n",
              "      <td>0</td>\n",
              "      <td>0.999125</td>\n",
              "      <td>0.149570</td>\n",
              "      <td>0.232119</td>\n",
              "      <td>0.222043</td>\n",
              "      <td>0.321650</td>\n",
              "    </tr>\n",
              "    <tr>\n",
              "      <th>23310</th>\n",
              "      <td>24-11-2021_06-24-01_AM.jpg</td>\n",
              "      <td>0</td>\n",
              "      <td>0.928047</td>\n",
              "      <td>0.417646</td>\n",
              "      <td>0.488560</td>\n",
              "      <td>0.071738</td>\n",
              "      <td>0.128898</td>\n",
              "    </tr>\n",
              "    <tr>\n",
              "      <th>23311</th>\n",
              "      <td>24-11-2021_06-24-01_AM.jpg</td>\n",
              "      <td>0</td>\n",
              "      <td>0.589113</td>\n",
              "      <td>0.513481</td>\n",
              "      <td>0.564651</td>\n",
              "      <td>0.029126</td>\n",
              "      <td>0.069692</td>\n",
              "    </tr>\n",
              "    <tr>\n",
              "      <th>23312</th>\n",
              "      <td>24-11-2021_06-24-01_AM.jpg</td>\n",
              "      <td>0</td>\n",
              "      <td>0.971851</td>\n",
              "      <td>0.547100</td>\n",
              "      <td>0.635786</td>\n",
              "      <td>0.102647</td>\n",
              "      <td>0.168750</td>\n",
              "    </tr>\n",
              "  </tbody>\n",
              "</table>\n",
              "<p>23313 rows × 7 columns</p>\n",
              "</div>\n",
              "      <button class=\"colab-df-convert\" onclick=\"convertToInteractive('df-fb85df36-163b-4b96-9f2b-e5f9d21cc421')\"\n",
              "              title=\"Convert this dataframe to an interactive table.\"\n",
              "              style=\"display:none;\">\n",
              "        \n",
              "  <svg xmlns=\"http://www.w3.org/2000/svg\" height=\"24px\"viewBox=\"0 0 24 24\"\n",
              "       width=\"24px\">\n",
              "    <path d=\"M0 0h24v24H0V0z\" fill=\"none\"/>\n",
              "    <path d=\"M18.56 5.44l.94 2.06.94-2.06 2.06-.94-2.06-.94-.94-2.06-.94 2.06-2.06.94zm-11 1L8.5 8.5l.94-2.06 2.06-.94-2.06-.94L8.5 2.5l-.94 2.06-2.06.94zm10 10l.94 2.06.94-2.06 2.06-.94-2.06-.94-.94-2.06-.94 2.06-2.06.94z\"/><path d=\"M17.41 7.96l-1.37-1.37c-.4-.4-.92-.59-1.43-.59-.52 0-1.04.2-1.43.59L10.3 9.45l-7.72 7.72c-.78.78-.78 2.05 0 2.83L4 21.41c.39.39.9.59 1.41.59.51 0 1.02-.2 1.41-.59l7.78-7.78 2.81-2.81c.8-.78.8-2.07 0-2.86zM5.41 20L4 18.59l7.72-7.72 1.47 1.35L5.41 20z\"/>\n",
              "  </svg>\n",
              "      </button>\n",
              "      \n",
              "  <style>\n",
              "    .colab-df-container {\n",
              "      display:flex;\n",
              "      flex-wrap:wrap;\n",
              "      gap: 12px;\n",
              "    }\n",
              "\n",
              "    .colab-df-convert {\n",
              "      background-color: #E8F0FE;\n",
              "      border: none;\n",
              "      border-radius: 50%;\n",
              "      cursor: pointer;\n",
              "      display: none;\n",
              "      fill: #1967D2;\n",
              "      height: 32px;\n",
              "      padding: 0 0 0 0;\n",
              "      width: 32px;\n",
              "    }\n",
              "\n",
              "    .colab-df-convert:hover {\n",
              "      background-color: #E2EBFA;\n",
              "      box-shadow: 0px 1px 2px rgba(60, 64, 67, 0.3), 0px 1px 3px 1px rgba(60, 64, 67, 0.15);\n",
              "      fill: #174EA6;\n",
              "    }\n",
              "\n",
              "    [theme=dark] .colab-df-convert {\n",
              "      background-color: #3B4455;\n",
              "      fill: #D2E3FC;\n",
              "    }\n",
              "\n",
              "    [theme=dark] .colab-df-convert:hover {\n",
              "      background-color: #434B5C;\n",
              "      box-shadow: 0px 1px 3px 1px rgba(0, 0, 0, 0.15);\n",
              "      filter: drop-shadow(0px 1px 2px rgba(0, 0, 0, 0.3));\n",
              "      fill: #FFFFFF;\n",
              "    }\n",
              "  </style>\n",
              "\n",
              "      <script>\n",
              "        const buttonEl =\n",
              "          document.querySelector('#df-fb85df36-163b-4b96-9f2b-e5f9d21cc421 button.colab-df-convert');\n",
              "        buttonEl.style.display =\n",
              "          google.colab.kernel.accessAllowed ? 'block' : 'none';\n",
              "\n",
              "        async function convertToInteractive(key) {\n",
              "          const element = document.querySelector('#df-fb85df36-163b-4b96-9f2b-e5f9d21cc421');\n",
              "          const dataTable =\n",
              "            await google.colab.kernel.invokeFunction('convertToInteractive',\n",
              "                                                     [key], {});\n",
              "          if (!dataTable) return;\n",
              "\n",
              "          const docLinkHtml = 'Like what you see? Visit the ' +\n",
              "            '<a target=\"_blank\" href=https://colab.research.google.com/notebooks/data_table.ipynb>data table notebook</a>'\n",
              "            + ' to learn more about interactive tables.';\n",
              "          element.innerHTML = '';\n",
              "          dataTable['output_type'] = 'display_data';\n",
              "          await google.colab.output.renderOutput(dataTable, element);\n",
              "          const docLink = document.createElement('div');\n",
              "          docLink.innerHTML = docLinkHtml;\n",
              "          element.appendChild(docLink);\n",
              "        }\n",
              "      </script>\n",
              "    </div>\n",
              "  </div>\n",
              "  "
            ]
          },
          "metadata": {},
          "execution_count": 77
        }
      ],
      "source": [
        "test_solution"
      ]
    },
    {
      "cell_type": "code",
      "execution_count": 78,
      "metadata": {
        "id": "mVxI8IhoTsAH"
      },
      "outputs": [],
      "source": [
        "test_solution.to_csv('sub1.csv', index=False, sep=';')"
      ]
    },
    {
      "cell_type": "code",
      "source": [
        ""
      ],
      "metadata": {
        "id": "a7x4qMK4qQPE"
      },
      "execution_count": null,
      "outputs": []
    }
  ],
  "metadata": {
    "kernelspec": {
      "display_name": "Python 3",
      "language": "python",
      "name": "python3"
    },
    "language_info": {
      "codemirror_mode": {
        "name": "ipython",
        "version": 3
      },
      "file_extension": ".py",
      "mimetype": "text/x-python",
      "name": "python",
      "nbconvert_exporter": "python",
      "pygments_lexer": "ipython3",
      "version": "3.8.5"
    },
    "colab": {
      "name": "Dedect.ipynb",
      "provenance": [],
      "collapsed_sections": [],
      "include_colab_link": true
    },
    "accelerator": "GPU",
    "gpuClass": "standard",
    "widgets": {
      "application/vnd.jupyter.widget-state+json": {
        "ef0c59a8fb3e4b2ea4053fd4291ccd66": {
          "model_module": "@jupyter-widgets/controls",
          "model_name": "HBoxModel",
          "model_module_version": "1.5.0",
          "state": {
            "_dom_classes": [],
            "_model_module": "@jupyter-widgets/controls",
            "_model_module_version": "1.5.0",
            "_model_name": "HBoxModel",
            "_view_count": null,
            "_view_module": "@jupyter-widgets/controls",
            "_view_module_version": "1.5.0",
            "_view_name": "HBoxView",
            "box_style": "",
            "children": [
              "IPY_MODEL_0b770407fef24c7b8d19f5f383b87587",
              "IPY_MODEL_39f9b66c521d4906866bd0ffe1651496",
              "IPY_MODEL_46240899702c4f06adfae842e01f8c36"
            ],
            "layout": "IPY_MODEL_bb61174c77c2488787d19d89f27ef62b"
          }
        },
        "0b770407fef24c7b8d19f5f383b87587": {
          "model_module": "@jupyter-widgets/controls",
          "model_name": "HTMLModel",
          "model_module_version": "1.5.0",
          "state": {
            "_dom_classes": [],
            "_model_module": "@jupyter-widgets/controls",
            "_model_module_version": "1.5.0",
            "_model_name": "HTMLModel",
            "_view_count": null,
            "_view_module": "@jupyter-widgets/controls",
            "_view_module_version": "1.5.0",
            "_view_name": "HTMLView",
            "description": "",
            "description_tooltip": null,
            "layout": "IPY_MODEL_1632ca1fbf89434e9405b963269883d7",
            "placeholder": "​",
            "style": "IPY_MODEL_e2c938da062d46ee8be1661c917f799f",
            "value": "Downloading preprocessor_config.json: 100%"
          }
        },
        "39f9b66c521d4906866bd0ffe1651496": {
          "model_module": "@jupyter-widgets/controls",
          "model_name": "FloatProgressModel",
          "model_module_version": "1.5.0",
          "state": {
            "_dom_classes": [],
            "_model_module": "@jupyter-widgets/controls",
            "_model_module_version": "1.5.0",
            "_model_name": "FloatProgressModel",
            "_view_count": null,
            "_view_module": "@jupyter-widgets/controls",
            "_view_module_version": "1.5.0",
            "_view_name": "ProgressView",
            "bar_style": "success",
            "description": "",
            "description_tooltip": null,
            "layout": "IPY_MODEL_a09c1e5d904e4c13b5c768141f6be997",
            "max": 275,
            "min": 0,
            "orientation": "horizontal",
            "style": "IPY_MODEL_58761f36f1ae4bbca58d7825a1f218d7",
            "value": 275
          }
        },
        "46240899702c4f06adfae842e01f8c36": {
          "model_module": "@jupyter-widgets/controls",
          "model_name": "HTMLModel",
          "model_module_version": "1.5.0",
          "state": {
            "_dom_classes": [],
            "_model_module": "@jupyter-widgets/controls",
            "_model_module_version": "1.5.0",
            "_model_name": "HTMLModel",
            "_view_count": null,
            "_view_module": "@jupyter-widgets/controls",
            "_view_module_version": "1.5.0",
            "_view_name": "HTMLView",
            "description": "",
            "description_tooltip": null,
            "layout": "IPY_MODEL_ef0a68d4d02d454ba8e0959171d69537",
            "placeholder": "​",
            "style": "IPY_MODEL_966cd269606c48668c25bc6b1d249b7a",
            "value": " 275/275 [00:00&lt;00:00, 2.80kB/s]"
          }
        },
        "bb61174c77c2488787d19d89f27ef62b": {
          "model_module": "@jupyter-widgets/base",
          "model_name": "LayoutModel",
          "model_module_version": "1.2.0",
          "state": {
            "_model_module": "@jupyter-widgets/base",
            "_model_module_version": "1.2.0",
            "_model_name": "LayoutModel",
            "_view_count": null,
            "_view_module": "@jupyter-widgets/base",
            "_view_module_version": "1.2.0",
            "_view_name": "LayoutView",
            "align_content": null,
            "align_items": null,
            "align_self": null,
            "border": null,
            "bottom": null,
            "display": null,
            "flex": null,
            "flex_flow": null,
            "grid_area": null,
            "grid_auto_columns": null,
            "grid_auto_flow": null,
            "grid_auto_rows": null,
            "grid_column": null,
            "grid_gap": null,
            "grid_row": null,
            "grid_template_areas": null,
            "grid_template_columns": null,
            "grid_template_rows": null,
            "height": null,
            "justify_content": null,
            "justify_items": null,
            "left": null,
            "margin": null,
            "max_height": null,
            "max_width": null,
            "min_height": null,
            "min_width": null,
            "object_fit": null,
            "object_position": null,
            "order": null,
            "overflow": null,
            "overflow_x": null,
            "overflow_y": null,
            "padding": null,
            "right": null,
            "top": null,
            "visibility": null,
            "width": null
          }
        },
        "1632ca1fbf89434e9405b963269883d7": {
          "model_module": "@jupyter-widgets/base",
          "model_name": "LayoutModel",
          "model_module_version": "1.2.0",
          "state": {
            "_model_module": "@jupyter-widgets/base",
            "_model_module_version": "1.2.0",
            "_model_name": "LayoutModel",
            "_view_count": null,
            "_view_module": "@jupyter-widgets/base",
            "_view_module_version": "1.2.0",
            "_view_name": "LayoutView",
            "align_content": null,
            "align_items": null,
            "align_self": null,
            "border": null,
            "bottom": null,
            "display": null,
            "flex": null,
            "flex_flow": null,
            "grid_area": null,
            "grid_auto_columns": null,
            "grid_auto_flow": null,
            "grid_auto_rows": null,
            "grid_column": null,
            "grid_gap": null,
            "grid_row": null,
            "grid_template_areas": null,
            "grid_template_columns": null,
            "grid_template_rows": null,
            "height": null,
            "justify_content": null,
            "justify_items": null,
            "left": null,
            "margin": null,
            "max_height": null,
            "max_width": null,
            "min_height": null,
            "min_width": null,
            "object_fit": null,
            "object_position": null,
            "order": null,
            "overflow": null,
            "overflow_x": null,
            "overflow_y": null,
            "padding": null,
            "right": null,
            "top": null,
            "visibility": null,
            "width": null
          }
        },
        "e2c938da062d46ee8be1661c917f799f": {
          "model_module": "@jupyter-widgets/controls",
          "model_name": "DescriptionStyleModel",
          "model_module_version": "1.5.0",
          "state": {
            "_model_module": "@jupyter-widgets/controls",
            "_model_module_version": "1.5.0",
            "_model_name": "DescriptionStyleModel",
            "_view_count": null,
            "_view_module": "@jupyter-widgets/base",
            "_view_module_version": "1.2.0",
            "_view_name": "StyleView",
            "description_width": ""
          }
        },
        "a09c1e5d904e4c13b5c768141f6be997": {
          "model_module": "@jupyter-widgets/base",
          "model_name": "LayoutModel",
          "model_module_version": "1.2.0",
          "state": {
            "_model_module": "@jupyter-widgets/base",
            "_model_module_version": "1.2.0",
            "_model_name": "LayoutModel",
            "_view_count": null,
            "_view_module": "@jupyter-widgets/base",
            "_view_module_version": "1.2.0",
            "_view_name": "LayoutView",
            "align_content": null,
            "align_items": null,
            "align_self": null,
            "border": null,
            "bottom": null,
            "display": null,
            "flex": null,
            "flex_flow": null,
            "grid_area": null,
            "grid_auto_columns": null,
            "grid_auto_flow": null,
            "grid_auto_rows": null,
            "grid_column": null,
            "grid_gap": null,
            "grid_row": null,
            "grid_template_areas": null,
            "grid_template_columns": null,
            "grid_template_rows": null,
            "height": null,
            "justify_content": null,
            "justify_items": null,
            "left": null,
            "margin": null,
            "max_height": null,
            "max_width": null,
            "min_height": null,
            "min_width": null,
            "object_fit": null,
            "object_position": null,
            "order": null,
            "overflow": null,
            "overflow_x": null,
            "overflow_y": null,
            "padding": null,
            "right": null,
            "top": null,
            "visibility": null,
            "width": null
          }
        },
        "58761f36f1ae4bbca58d7825a1f218d7": {
          "model_module": "@jupyter-widgets/controls",
          "model_name": "ProgressStyleModel",
          "model_module_version": "1.5.0",
          "state": {
            "_model_module": "@jupyter-widgets/controls",
            "_model_module_version": "1.5.0",
            "_model_name": "ProgressStyleModel",
            "_view_count": null,
            "_view_module": "@jupyter-widgets/base",
            "_view_module_version": "1.2.0",
            "_view_name": "StyleView",
            "bar_color": null,
            "description_width": ""
          }
        },
        "ef0a68d4d02d454ba8e0959171d69537": {
          "model_module": "@jupyter-widgets/base",
          "model_name": "LayoutModel",
          "model_module_version": "1.2.0",
          "state": {
            "_model_module": "@jupyter-widgets/base",
            "_model_module_version": "1.2.0",
            "_model_name": "LayoutModel",
            "_view_count": null,
            "_view_module": "@jupyter-widgets/base",
            "_view_module_version": "1.2.0",
            "_view_name": "LayoutView",
            "align_content": null,
            "align_items": null,
            "align_self": null,
            "border": null,
            "bottom": null,
            "display": null,
            "flex": null,
            "flex_flow": null,
            "grid_area": null,
            "grid_auto_columns": null,
            "grid_auto_flow": null,
            "grid_auto_rows": null,
            "grid_column": null,
            "grid_gap": null,
            "grid_row": null,
            "grid_template_areas": null,
            "grid_template_columns": null,
            "grid_template_rows": null,
            "height": null,
            "justify_content": null,
            "justify_items": null,
            "left": null,
            "margin": null,
            "max_height": null,
            "max_width": null,
            "min_height": null,
            "min_width": null,
            "object_fit": null,
            "object_position": null,
            "order": null,
            "overflow": null,
            "overflow_x": null,
            "overflow_y": null,
            "padding": null,
            "right": null,
            "top": null,
            "visibility": null,
            "width": null
          }
        },
        "966cd269606c48668c25bc6b1d249b7a": {
          "model_module": "@jupyter-widgets/controls",
          "model_name": "DescriptionStyleModel",
          "model_module_version": "1.5.0",
          "state": {
            "_model_module": "@jupyter-widgets/controls",
            "_model_module_version": "1.5.0",
            "_model_name": "DescriptionStyleModel",
            "_view_count": null,
            "_view_module": "@jupyter-widgets/base",
            "_view_module_version": "1.2.0",
            "_view_name": "StyleView",
            "description_width": ""
          }
        },
        "08f621d02878430c883d7e79dbb90133": {
          "model_module": "@jupyter-widgets/controls",
          "model_name": "HBoxModel",
          "model_module_version": "1.5.0",
          "state": {
            "_dom_classes": [],
            "_model_module": "@jupyter-widgets/controls",
            "_model_module_version": "1.5.0",
            "_model_name": "HBoxModel",
            "_view_count": null,
            "_view_module": "@jupyter-widgets/controls",
            "_view_module_version": "1.5.0",
            "_view_name": "HBoxView",
            "box_style": "",
            "children": [
              "IPY_MODEL_0972b11f10fd47549eb2d4c6adffc2cc",
              "IPY_MODEL_33634ac97db2422484bab818734489f2",
              "IPY_MODEL_4af7ffe4a7e94b5c8c6db831a7307fd6"
            ],
            "layout": "IPY_MODEL_6e9059d8ec43471cbec35ed7af2c54e5"
          }
        },
        "0972b11f10fd47549eb2d4c6adffc2cc": {
          "model_module": "@jupyter-widgets/controls",
          "model_name": "HTMLModel",
          "model_module_version": "1.5.0",
          "state": {
            "_dom_classes": [],
            "_model_module": "@jupyter-widgets/controls",
            "_model_module_version": "1.5.0",
            "_model_name": "HTMLModel",
            "_view_count": null,
            "_view_module": "@jupyter-widgets/controls",
            "_view_module_version": "1.5.0",
            "_view_name": "HTMLView",
            "description": "",
            "description_tooltip": null,
            "layout": "IPY_MODEL_6e4f449f193641f3be3ed210b47980af",
            "placeholder": "​",
            "style": "IPY_MODEL_84ec8e64ffde41bfbf238a9997b8ad94",
            "value": "Sanity Checking DataLoader 0: 100%"
          }
        },
        "33634ac97db2422484bab818734489f2": {
          "model_module": "@jupyter-widgets/controls",
          "model_name": "FloatProgressModel",
          "model_module_version": "1.5.0",
          "state": {
            "_dom_classes": [],
            "_model_module": "@jupyter-widgets/controls",
            "_model_module_version": "1.5.0",
            "_model_name": "FloatProgressModel",
            "_view_count": null,
            "_view_module": "@jupyter-widgets/controls",
            "_view_module_version": "1.5.0",
            "_view_name": "ProgressView",
            "bar_style": "",
            "description": "",
            "description_tooltip": null,
            "layout": "IPY_MODEL_25c25feb874f4f61921cf09ca0a67aca",
            "max": 2,
            "min": 0,
            "orientation": "horizontal",
            "style": "IPY_MODEL_38000827871548cb8d6d33d9f30eedfa",
            "value": 2
          }
        },
        "4af7ffe4a7e94b5c8c6db831a7307fd6": {
          "model_module": "@jupyter-widgets/controls",
          "model_name": "HTMLModel",
          "model_module_version": "1.5.0",
          "state": {
            "_dom_classes": [],
            "_model_module": "@jupyter-widgets/controls",
            "_model_module_version": "1.5.0",
            "_model_name": "HTMLModel",
            "_view_count": null,
            "_view_module": "@jupyter-widgets/controls",
            "_view_module_version": "1.5.0",
            "_view_name": "HTMLView",
            "description": "",
            "description_tooltip": null,
            "layout": "IPY_MODEL_99051877b2e04f188db09bda92a50193",
            "placeholder": "​",
            "style": "IPY_MODEL_18d7ed03c2844b9ca23669fb8be122c7",
            "value": " 2/2 [00:00&lt;00:00,  4.82it/s]"
          }
        },
        "6e9059d8ec43471cbec35ed7af2c54e5": {
          "model_module": "@jupyter-widgets/base",
          "model_name": "LayoutModel",
          "model_module_version": "1.2.0",
          "state": {
            "_model_module": "@jupyter-widgets/base",
            "_model_module_version": "1.2.0",
            "_model_name": "LayoutModel",
            "_view_count": null,
            "_view_module": "@jupyter-widgets/base",
            "_view_module_version": "1.2.0",
            "_view_name": "LayoutView",
            "align_content": null,
            "align_items": null,
            "align_self": null,
            "border": null,
            "bottom": null,
            "display": "inline-flex",
            "flex": null,
            "flex_flow": "row wrap",
            "grid_area": null,
            "grid_auto_columns": null,
            "grid_auto_flow": null,
            "grid_auto_rows": null,
            "grid_column": null,
            "grid_gap": null,
            "grid_row": null,
            "grid_template_areas": null,
            "grid_template_columns": null,
            "grid_template_rows": null,
            "height": null,
            "justify_content": null,
            "justify_items": null,
            "left": null,
            "margin": null,
            "max_height": null,
            "max_width": null,
            "min_height": null,
            "min_width": null,
            "object_fit": null,
            "object_position": null,
            "order": null,
            "overflow": null,
            "overflow_x": null,
            "overflow_y": null,
            "padding": null,
            "right": null,
            "top": null,
            "visibility": null,
            "width": "100%"
          }
        },
        "6e4f449f193641f3be3ed210b47980af": {
          "model_module": "@jupyter-widgets/base",
          "model_name": "LayoutModel",
          "model_module_version": "1.2.0",
          "state": {
            "_model_module": "@jupyter-widgets/base",
            "_model_module_version": "1.2.0",
            "_model_name": "LayoutModel",
            "_view_count": null,
            "_view_module": "@jupyter-widgets/base",
            "_view_module_version": "1.2.0",
            "_view_name": "LayoutView",
            "align_content": null,
            "align_items": null,
            "align_self": null,
            "border": null,
            "bottom": null,
            "display": null,
            "flex": null,
            "flex_flow": null,
            "grid_area": null,
            "grid_auto_columns": null,
            "grid_auto_flow": null,
            "grid_auto_rows": null,
            "grid_column": null,
            "grid_gap": null,
            "grid_row": null,
            "grid_template_areas": null,
            "grid_template_columns": null,
            "grid_template_rows": null,
            "height": null,
            "justify_content": null,
            "justify_items": null,
            "left": null,
            "margin": null,
            "max_height": null,
            "max_width": null,
            "min_height": null,
            "min_width": null,
            "object_fit": null,
            "object_position": null,
            "order": null,
            "overflow": null,
            "overflow_x": null,
            "overflow_y": null,
            "padding": null,
            "right": null,
            "top": null,
            "visibility": null,
            "width": null
          }
        },
        "84ec8e64ffde41bfbf238a9997b8ad94": {
          "model_module": "@jupyter-widgets/controls",
          "model_name": "DescriptionStyleModel",
          "model_module_version": "1.5.0",
          "state": {
            "_model_module": "@jupyter-widgets/controls",
            "_model_module_version": "1.5.0",
            "_model_name": "DescriptionStyleModel",
            "_view_count": null,
            "_view_module": "@jupyter-widgets/base",
            "_view_module_version": "1.2.0",
            "_view_name": "StyleView",
            "description_width": ""
          }
        },
        "25c25feb874f4f61921cf09ca0a67aca": {
          "model_module": "@jupyter-widgets/base",
          "model_name": "LayoutModel",
          "model_module_version": "1.2.0",
          "state": {
            "_model_module": "@jupyter-widgets/base",
            "_model_module_version": "1.2.0",
            "_model_name": "LayoutModel",
            "_view_count": null,
            "_view_module": "@jupyter-widgets/base",
            "_view_module_version": "1.2.0",
            "_view_name": "LayoutView",
            "align_content": null,
            "align_items": null,
            "align_self": null,
            "border": null,
            "bottom": null,
            "display": null,
            "flex": "2",
            "flex_flow": null,
            "grid_area": null,
            "grid_auto_columns": null,
            "grid_auto_flow": null,
            "grid_auto_rows": null,
            "grid_column": null,
            "grid_gap": null,
            "grid_row": null,
            "grid_template_areas": null,
            "grid_template_columns": null,
            "grid_template_rows": null,
            "height": null,
            "justify_content": null,
            "justify_items": null,
            "left": null,
            "margin": null,
            "max_height": null,
            "max_width": null,
            "min_height": null,
            "min_width": null,
            "object_fit": null,
            "object_position": null,
            "order": null,
            "overflow": null,
            "overflow_x": null,
            "overflow_y": null,
            "padding": null,
            "right": null,
            "top": null,
            "visibility": null,
            "width": null
          }
        },
        "38000827871548cb8d6d33d9f30eedfa": {
          "model_module": "@jupyter-widgets/controls",
          "model_name": "ProgressStyleModel",
          "model_module_version": "1.5.0",
          "state": {
            "_model_module": "@jupyter-widgets/controls",
            "_model_module_version": "1.5.0",
            "_model_name": "ProgressStyleModel",
            "_view_count": null,
            "_view_module": "@jupyter-widgets/base",
            "_view_module_version": "1.2.0",
            "_view_name": "StyleView",
            "bar_color": null,
            "description_width": ""
          }
        },
        "99051877b2e04f188db09bda92a50193": {
          "model_module": "@jupyter-widgets/base",
          "model_name": "LayoutModel",
          "model_module_version": "1.2.0",
          "state": {
            "_model_module": "@jupyter-widgets/base",
            "_model_module_version": "1.2.0",
            "_model_name": "LayoutModel",
            "_view_count": null,
            "_view_module": "@jupyter-widgets/base",
            "_view_module_version": "1.2.0",
            "_view_name": "LayoutView",
            "align_content": null,
            "align_items": null,
            "align_self": null,
            "border": null,
            "bottom": null,
            "display": null,
            "flex": null,
            "flex_flow": null,
            "grid_area": null,
            "grid_auto_columns": null,
            "grid_auto_flow": null,
            "grid_auto_rows": null,
            "grid_column": null,
            "grid_gap": null,
            "grid_row": null,
            "grid_template_areas": null,
            "grid_template_columns": null,
            "grid_template_rows": null,
            "height": null,
            "justify_content": null,
            "justify_items": null,
            "left": null,
            "margin": null,
            "max_height": null,
            "max_width": null,
            "min_height": null,
            "min_width": null,
            "object_fit": null,
            "object_position": null,
            "order": null,
            "overflow": null,
            "overflow_x": null,
            "overflow_y": null,
            "padding": null,
            "right": null,
            "top": null,
            "visibility": null,
            "width": null
          }
        },
        "18d7ed03c2844b9ca23669fb8be122c7": {
          "model_module": "@jupyter-widgets/controls",
          "model_name": "DescriptionStyleModel",
          "model_module_version": "1.5.0",
          "state": {
            "_model_module": "@jupyter-widgets/controls",
            "_model_module_version": "1.5.0",
            "_model_name": "DescriptionStyleModel",
            "_view_count": null,
            "_view_module": "@jupyter-widgets/base",
            "_view_module_version": "1.2.0",
            "_view_name": "StyleView",
            "description_width": ""
          }
        },
        "7f21484cdda8480e9552649e20b893ad": {
          "model_module": "@jupyter-widgets/controls",
          "model_name": "HBoxModel",
          "model_module_version": "1.5.0",
          "state": {
            "_dom_classes": [],
            "_model_module": "@jupyter-widgets/controls",
            "_model_module_version": "1.5.0",
            "_model_name": "HBoxModel",
            "_view_count": null,
            "_view_module": "@jupyter-widgets/controls",
            "_view_module_version": "1.5.0",
            "_view_name": "HBoxView",
            "box_style": "",
            "children": [
              "IPY_MODEL_f6dc4499fda9492ba06373bf7043eefd",
              "IPY_MODEL_427822d7f75845bb9b677aee44aee7d8",
              "IPY_MODEL_6871878335fc4095a4d23fc7cf7f72a2"
            ],
            "layout": "IPY_MODEL_5911799954784391ac17923c022aa4e4"
          }
        },
        "f6dc4499fda9492ba06373bf7043eefd": {
          "model_module": "@jupyter-widgets/controls",
          "model_name": "HTMLModel",
          "model_module_version": "1.5.0",
          "state": {
            "_dom_classes": [],
            "_model_module": "@jupyter-widgets/controls",
            "_model_module_version": "1.5.0",
            "_model_name": "HTMLModel",
            "_view_count": null,
            "_view_module": "@jupyter-widgets/controls",
            "_view_module_version": "1.5.0",
            "_view_name": "HTMLView",
            "description": "",
            "description_tooltip": null,
            "layout": "IPY_MODEL_ed1f3e921f924daa8f05b9adac057968",
            "placeholder": "​",
            "style": "IPY_MODEL_dc1f281b8b964853abe8bd2f255f9843",
            "value": "Epoch 11:  54%"
          }
        },
        "427822d7f75845bb9b677aee44aee7d8": {
          "model_module": "@jupyter-widgets/controls",
          "model_name": "FloatProgressModel",
          "model_module_version": "1.5.0",
          "state": {
            "_dom_classes": [],
            "_model_module": "@jupyter-widgets/controls",
            "_model_module_version": "1.5.0",
            "_model_name": "FloatProgressModel",
            "_view_count": null,
            "_view_module": "@jupyter-widgets/controls",
            "_view_module_version": "1.5.0",
            "_view_name": "ProgressView",
            "bar_style": "danger",
            "description": "",
            "description_tooltip": null,
            "layout": "IPY_MODEL_5c11df56e3a949ed9763d55713547bfd",
            "max": 1152,
            "min": 0,
            "orientation": "horizontal",
            "style": "IPY_MODEL_8e808b08b19049058d06936c2233f2a8",
            "value": 620
          }
        },
        "6871878335fc4095a4d23fc7cf7f72a2": {
          "model_module": "@jupyter-widgets/controls",
          "model_name": "HTMLModel",
          "model_module_version": "1.5.0",
          "state": {
            "_dom_classes": [],
            "_model_module": "@jupyter-widgets/controls",
            "_model_module_version": "1.5.0",
            "_model_name": "HTMLModel",
            "_view_count": null,
            "_view_module": "@jupyter-widgets/controls",
            "_view_module_version": "1.5.0",
            "_view_name": "HTMLView",
            "description": "",
            "description_tooltip": null,
            "layout": "IPY_MODEL_fc61ef845361463190d0479dff66657b",
            "placeholder": "​",
            "style": "IPY_MODEL_dbf8f858d3504b86901bab06e234eabf",
            "value": " 620/1152 [05:49&lt;04:59,  1.77it/s, loss=1.18, v_num=0]"
          }
        },
        "5911799954784391ac17923c022aa4e4": {
          "model_module": "@jupyter-widgets/base",
          "model_name": "LayoutModel",
          "model_module_version": "1.2.0",
          "state": {
            "_model_module": "@jupyter-widgets/base",
            "_model_module_version": "1.2.0",
            "_model_name": "LayoutModel",
            "_view_count": null,
            "_view_module": "@jupyter-widgets/base",
            "_view_module_version": "1.2.0",
            "_view_name": "LayoutView",
            "align_content": null,
            "align_items": null,
            "align_self": null,
            "border": null,
            "bottom": null,
            "display": "inline-flex",
            "flex": null,
            "flex_flow": "row wrap",
            "grid_area": null,
            "grid_auto_columns": null,
            "grid_auto_flow": null,
            "grid_auto_rows": null,
            "grid_column": null,
            "grid_gap": null,
            "grid_row": null,
            "grid_template_areas": null,
            "grid_template_columns": null,
            "grid_template_rows": null,
            "height": null,
            "justify_content": null,
            "justify_items": null,
            "left": null,
            "margin": null,
            "max_height": null,
            "max_width": null,
            "min_height": null,
            "min_width": null,
            "object_fit": null,
            "object_position": null,
            "order": null,
            "overflow": null,
            "overflow_x": null,
            "overflow_y": null,
            "padding": null,
            "right": null,
            "top": null,
            "visibility": null,
            "width": "100%"
          }
        },
        "ed1f3e921f924daa8f05b9adac057968": {
          "model_module": "@jupyter-widgets/base",
          "model_name": "LayoutModel",
          "model_module_version": "1.2.0",
          "state": {
            "_model_module": "@jupyter-widgets/base",
            "_model_module_version": "1.2.0",
            "_model_name": "LayoutModel",
            "_view_count": null,
            "_view_module": "@jupyter-widgets/base",
            "_view_module_version": "1.2.0",
            "_view_name": "LayoutView",
            "align_content": null,
            "align_items": null,
            "align_self": null,
            "border": null,
            "bottom": null,
            "display": null,
            "flex": null,
            "flex_flow": null,
            "grid_area": null,
            "grid_auto_columns": null,
            "grid_auto_flow": null,
            "grid_auto_rows": null,
            "grid_column": null,
            "grid_gap": null,
            "grid_row": null,
            "grid_template_areas": null,
            "grid_template_columns": null,
            "grid_template_rows": null,
            "height": null,
            "justify_content": null,
            "justify_items": null,
            "left": null,
            "margin": null,
            "max_height": null,
            "max_width": null,
            "min_height": null,
            "min_width": null,
            "object_fit": null,
            "object_position": null,
            "order": null,
            "overflow": null,
            "overflow_x": null,
            "overflow_y": null,
            "padding": null,
            "right": null,
            "top": null,
            "visibility": null,
            "width": null
          }
        },
        "dc1f281b8b964853abe8bd2f255f9843": {
          "model_module": "@jupyter-widgets/controls",
          "model_name": "DescriptionStyleModel",
          "model_module_version": "1.5.0",
          "state": {
            "_model_module": "@jupyter-widgets/controls",
            "_model_module_version": "1.5.0",
            "_model_name": "DescriptionStyleModel",
            "_view_count": null,
            "_view_module": "@jupyter-widgets/base",
            "_view_module_version": "1.2.0",
            "_view_name": "StyleView",
            "description_width": ""
          }
        },
        "5c11df56e3a949ed9763d55713547bfd": {
          "model_module": "@jupyter-widgets/base",
          "model_name": "LayoutModel",
          "model_module_version": "1.2.0",
          "state": {
            "_model_module": "@jupyter-widgets/base",
            "_model_module_version": "1.2.0",
            "_model_name": "LayoutModel",
            "_view_count": null,
            "_view_module": "@jupyter-widgets/base",
            "_view_module_version": "1.2.0",
            "_view_name": "LayoutView",
            "align_content": null,
            "align_items": null,
            "align_self": null,
            "border": null,
            "bottom": null,
            "display": null,
            "flex": "2",
            "flex_flow": null,
            "grid_area": null,
            "grid_auto_columns": null,
            "grid_auto_flow": null,
            "grid_auto_rows": null,
            "grid_column": null,
            "grid_gap": null,
            "grid_row": null,
            "grid_template_areas": null,
            "grid_template_columns": null,
            "grid_template_rows": null,
            "height": null,
            "justify_content": null,
            "justify_items": null,
            "left": null,
            "margin": null,
            "max_height": null,
            "max_width": null,
            "min_height": null,
            "min_width": null,
            "object_fit": null,
            "object_position": null,
            "order": null,
            "overflow": null,
            "overflow_x": null,
            "overflow_y": null,
            "padding": null,
            "right": null,
            "top": null,
            "visibility": null,
            "width": null
          }
        },
        "8e808b08b19049058d06936c2233f2a8": {
          "model_module": "@jupyter-widgets/controls",
          "model_name": "ProgressStyleModel",
          "model_module_version": "1.5.0",
          "state": {
            "_model_module": "@jupyter-widgets/controls",
            "_model_module_version": "1.5.0",
            "_model_name": "ProgressStyleModel",
            "_view_count": null,
            "_view_module": "@jupyter-widgets/base",
            "_view_module_version": "1.2.0",
            "_view_name": "StyleView",
            "bar_color": null,
            "description_width": ""
          }
        },
        "fc61ef845361463190d0479dff66657b": {
          "model_module": "@jupyter-widgets/base",
          "model_name": "LayoutModel",
          "model_module_version": "1.2.0",
          "state": {
            "_model_module": "@jupyter-widgets/base",
            "_model_module_version": "1.2.0",
            "_model_name": "LayoutModel",
            "_view_count": null,
            "_view_module": "@jupyter-widgets/base",
            "_view_module_version": "1.2.0",
            "_view_name": "LayoutView",
            "align_content": null,
            "align_items": null,
            "align_self": null,
            "border": null,
            "bottom": null,
            "display": null,
            "flex": null,
            "flex_flow": null,
            "grid_area": null,
            "grid_auto_columns": null,
            "grid_auto_flow": null,
            "grid_auto_rows": null,
            "grid_column": null,
            "grid_gap": null,
            "grid_row": null,
            "grid_template_areas": null,
            "grid_template_columns": null,
            "grid_template_rows": null,
            "height": null,
            "justify_content": null,
            "justify_items": null,
            "left": null,
            "margin": null,
            "max_height": null,
            "max_width": null,
            "min_height": null,
            "min_width": null,
            "object_fit": null,
            "object_position": null,
            "order": null,
            "overflow": null,
            "overflow_x": null,
            "overflow_y": null,
            "padding": null,
            "right": null,
            "top": null,
            "visibility": null,
            "width": null
          }
        },
        "dbf8f858d3504b86901bab06e234eabf": {
          "model_module": "@jupyter-widgets/controls",
          "model_name": "DescriptionStyleModel",
          "model_module_version": "1.5.0",
          "state": {
            "_model_module": "@jupyter-widgets/controls",
            "_model_module_version": "1.5.0",
            "_model_name": "DescriptionStyleModel",
            "_view_count": null,
            "_view_module": "@jupyter-widgets/base",
            "_view_module_version": "1.2.0",
            "_view_name": "StyleView",
            "description_width": ""
          }
        },
        "8be518a7834b404cb211add84065eec7": {
          "model_module": "@jupyter-widgets/controls",
          "model_name": "HBoxModel",
          "model_module_version": "1.5.0",
          "state": {
            "_dom_classes": [],
            "_model_module": "@jupyter-widgets/controls",
            "_model_module_version": "1.5.0",
            "_model_name": "HBoxModel",
            "_view_count": null,
            "_view_module": "@jupyter-widgets/controls",
            "_view_module_version": "1.5.0",
            "_view_name": "HBoxView",
            "box_style": "",
            "children": [
              "IPY_MODEL_12f6fea7b0c744d4818c2b45af5ad228",
              "IPY_MODEL_c175a532d59d41948691e317ff264d19",
              "IPY_MODEL_b450706e1d2a43a9ba010ca64cf87044"
            ],
            "layout": "IPY_MODEL_7df26b29bb364e359c43afd22f50da6f"
          }
        },
        "12f6fea7b0c744d4818c2b45af5ad228": {
          "model_module": "@jupyter-widgets/controls",
          "model_name": "HTMLModel",
          "model_module_version": "1.5.0",
          "state": {
            "_dom_classes": [],
            "_model_module": "@jupyter-widgets/controls",
            "_model_module_version": "1.5.0",
            "_model_name": "HTMLModel",
            "_view_count": null,
            "_view_module": "@jupyter-widgets/controls",
            "_view_module_version": "1.5.0",
            "_view_name": "HTMLView",
            "description": "",
            "description_tooltip": null,
            "layout": "IPY_MODEL_4d45a7daed2d40e0a4dea649f4706aeb",
            "placeholder": "​",
            "style": "IPY_MODEL_aef2b560d48d428b9a4fb166c99e7118",
            "value": "Validation DataLoader 0: 100%"
          }
        },
        "c175a532d59d41948691e317ff264d19": {
          "model_module": "@jupyter-widgets/controls",
          "model_name": "FloatProgressModel",
          "model_module_version": "1.5.0",
          "state": {
            "_dom_classes": [],
            "_model_module": "@jupyter-widgets/controls",
            "_model_module_version": "1.5.0",
            "_model_name": "FloatProgressModel",
            "_view_count": null,
            "_view_module": "@jupyter-widgets/controls",
            "_view_module_version": "1.5.0",
            "_view_name": "ProgressView",
            "bar_style": "",
            "description": "",
            "description_tooltip": null,
            "layout": "IPY_MODEL_7bd6a4ee8fb441f4b456815e54472ba8",
            "max": 301,
            "min": 0,
            "orientation": "horizontal",
            "style": "IPY_MODEL_befc278e95cb41ab8265eafd36ee4150",
            "value": 301
          }
        },
        "b450706e1d2a43a9ba010ca64cf87044": {
          "model_module": "@jupyter-widgets/controls",
          "model_name": "HTMLModel",
          "model_module_version": "1.5.0",
          "state": {
            "_dom_classes": [],
            "_model_module": "@jupyter-widgets/controls",
            "_model_module_version": "1.5.0",
            "_model_name": "HTMLModel",
            "_view_count": null,
            "_view_module": "@jupyter-widgets/controls",
            "_view_module_version": "1.5.0",
            "_view_name": "HTMLView",
            "description": "",
            "description_tooltip": null,
            "layout": "IPY_MODEL_273e59e680984300892915ef8e50e307",
            "placeholder": "​",
            "style": "IPY_MODEL_353c7bc4b8064137a744b3968a2a7937",
            "value": " 301/301 [00:59&lt;00:00,  5.05it/s]"
          }
        },
        "7df26b29bb364e359c43afd22f50da6f": {
          "model_module": "@jupyter-widgets/base",
          "model_name": "LayoutModel",
          "model_module_version": "1.2.0",
          "state": {
            "_model_module": "@jupyter-widgets/base",
            "_model_module_version": "1.2.0",
            "_model_name": "LayoutModel",
            "_view_count": null,
            "_view_module": "@jupyter-widgets/base",
            "_view_module_version": "1.2.0",
            "_view_name": "LayoutView",
            "align_content": null,
            "align_items": null,
            "align_self": null,
            "border": null,
            "bottom": null,
            "display": "inline-flex",
            "flex": null,
            "flex_flow": "row wrap",
            "grid_area": null,
            "grid_auto_columns": null,
            "grid_auto_flow": null,
            "grid_auto_rows": null,
            "grid_column": null,
            "grid_gap": null,
            "grid_row": null,
            "grid_template_areas": null,
            "grid_template_columns": null,
            "grid_template_rows": null,
            "height": null,
            "justify_content": null,
            "justify_items": null,
            "left": null,
            "margin": null,
            "max_height": null,
            "max_width": null,
            "min_height": null,
            "min_width": null,
            "object_fit": null,
            "object_position": null,
            "order": null,
            "overflow": null,
            "overflow_x": null,
            "overflow_y": null,
            "padding": null,
            "right": null,
            "top": null,
            "visibility": null,
            "width": "100%"
          }
        },
        "4d45a7daed2d40e0a4dea649f4706aeb": {
          "model_module": "@jupyter-widgets/base",
          "model_name": "LayoutModel",
          "model_module_version": "1.2.0",
          "state": {
            "_model_module": "@jupyter-widgets/base",
            "_model_module_version": "1.2.0",
            "_model_name": "LayoutModel",
            "_view_count": null,
            "_view_module": "@jupyter-widgets/base",
            "_view_module_version": "1.2.0",
            "_view_name": "LayoutView",
            "align_content": null,
            "align_items": null,
            "align_self": null,
            "border": null,
            "bottom": null,
            "display": null,
            "flex": null,
            "flex_flow": null,
            "grid_area": null,
            "grid_auto_columns": null,
            "grid_auto_flow": null,
            "grid_auto_rows": null,
            "grid_column": null,
            "grid_gap": null,
            "grid_row": null,
            "grid_template_areas": null,
            "grid_template_columns": null,
            "grid_template_rows": null,
            "height": null,
            "justify_content": null,
            "justify_items": null,
            "left": null,
            "margin": null,
            "max_height": null,
            "max_width": null,
            "min_height": null,
            "min_width": null,
            "object_fit": null,
            "object_position": null,
            "order": null,
            "overflow": null,
            "overflow_x": null,
            "overflow_y": null,
            "padding": null,
            "right": null,
            "top": null,
            "visibility": null,
            "width": null
          }
        },
        "aef2b560d48d428b9a4fb166c99e7118": {
          "model_module": "@jupyter-widgets/controls",
          "model_name": "DescriptionStyleModel",
          "model_module_version": "1.5.0",
          "state": {
            "_model_module": "@jupyter-widgets/controls",
            "_model_module_version": "1.5.0",
            "_model_name": "DescriptionStyleModel",
            "_view_count": null,
            "_view_module": "@jupyter-widgets/base",
            "_view_module_version": "1.2.0",
            "_view_name": "StyleView",
            "description_width": ""
          }
        },
        "7bd6a4ee8fb441f4b456815e54472ba8": {
          "model_module": "@jupyter-widgets/base",
          "model_name": "LayoutModel",
          "model_module_version": "1.2.0",
          "state": {
            "_model_module": "@jupyter-widgets/base",
            "_model_module_version": "1.2.0",
            "_model_name": "LayoutModel",
            "_view_count": null,
            "_view_module": "@jupyter-widgets/base",
            "_view_module_version": "1.2.0",
            "_view_name": "LayoutView",
            "align_content": null,
            "align_items": null,
            "align_self": null,
            "border": null,
            "bottom": null,
            "display": null,
            "flex": "2",
            "flex_flow": null,
            "grid_area": null,
            "grid_auto_columns": null,
            "grid_auto_flow": null,
            "grid_auto_rows": null,
            "grid_column": null,
            "grid_gap": null,
            "grid_row": null,
            "grid_template_areas": null,
            "grid_template_columns": null,
            "grid_template_rows": null,
            "height": null,
            "justify_content": null,
            "justify_items": null,
            "left": null,
            "margin": null,
            "max_height": null,
            "max_width": null,
            "min_height": null,
            "min_width": null,
            "object_fit": null,
            "object_position": null,
            "order": null,
            "overflow": null,
            "overflow_x": null,
            "overflow_y": null,
            "padding": null,
            "right": null,
            "top": null,
            "visibility": null,
            "width": null
          }
        },
        "befc278e95cb41ab8265eafd36ee4150": {
          "model_module": "@jupyter-widgets/controls",
          "model_name": "ProgressStyleModel",
          "model_module_version": "1.5.0",
          "state": {
            "_model_module": "@jupyter-widgets/controls",
            "_model_module_version": "1.5.0",
            "_model_name": "ProgressStyleModel",
            "_view_count": null,
            "_view_module": "@jupyter-widgets/base",
            "_view_module_version": "1.2.0",
            "_view_name": "StyleView",
            "bar_color": null,
            "description_width": ""
          }
        },
        "273e59e680984300892915ef8e50e307": {
          "model_module": "@jupyter-widgets/base",
          "model_name": "LayoutModel",
          "model_module_version": "1.2.0",
          "state": {
            "_model_module": "@jupyter-widgets/base",
            "_model_module_version": "1.2.0",
            "_model_name": "LayoutModel",
            "_view_count": null,
            "_view_module": "@jupyter-widgets/base",
            "_view_module_version": "1.2.0",
            "_view_name": "LayoutView",
            "align_content": null,
            "align_items": null,
            "align_self": null,
            "border": null,
            "bottom": null,
            "display": null,
            "flex": null,
            "flex_flow": null,
            "grid_area": null,
            "grid_auto_columns": null,
            "grid_auto_flow": null,
            "grid_auto_rows": null,
            "grid_column": null,
            "grid_gap": null,
            "grid_row": null,
            "grid_template_areas": null,
            "grid_template_columns": null,
            "grid_template_rows": null,
            "height": null,
            "justify_content": null,
            "justify_items": null,
            "left": null,
            "margin": null,
            "max_height": null,
            "max_width": null,
            "min_height": null,
            "min_width": null,
            "object_fit": null,
            "object_position": null,
            "order": null,
            "overflow": null,
            "overflow_x": null,
            "overflow_y": null,
            "padding": null,
            "right": null,
            "top": null,
            "visibility": null,
            "width": null
          }
        },
        "353c7bc4b8064137a744b3968a2a7937": {
          "model_module": "@jupyter-widgets/controls",
          "model_name": "DescriptionStyleModel",
          "model_module_version": "1.5.0",
          "state": {
            "_model_module": "@jupyter-widgets/controls",
            "_model_module_version": "1.5.0",
            "_model_name": "DescriptionStyleModel",
            "_view_count": null,
            "_view_module": "@jupyter-widgets/base",
            "_view_module_version": "1.2.0",
            "_view_name": "StyleView",
            "description_width": ""
          }
        },
        "25f778295b6d473492e4bb4173c07b11": {
          "model_module": "@jupyter-widgets/controls",
          "model_name": "HBoxModel",
          "model_module_version": "1.5.0",
          "state": {
            "_dom_classes": [],
            "_model_module": "@jupyter-widgets/controls",
            "_model_module_version": "1.5.0",
            "_model_name": "HBoxModel",
            "_view_count": null,
            "_view_module": "@jupyter-widgets/controls",
            "_view_module_version": "1.5.0",
            "_view_name": "HBoxView",
            "box_style": "",
            "children": [
              "IPY_MODEL_63362bf4088d462fa5256d6f9ef64c57",
              "IPY_MODEL_7886897ea4d74d088523c74a329153f4",
              "IPY_MODEL_091754f1d0ff48a0b91098ce1a625d25"
            ],
            "layout": "IPY_MODEL_c294e97e993243d38a6686135ec7c005"
          }
        },
        "63362bf4088d462fa5256d6f9ef64c57": {
          "model_module": "@jupyter-widgets/controls",
          "model_name": "HTMLModel",
          "model_module_version": "1.5.0",
          "state": {
            "_dom_classes": [],
            "_model_module": "@jupyter-widgets/controls",
            "_model_module_version": "1.5.0",
            "_model_name": "HTMLModel",
            "_view_count": null,
            "_view_module": "@jupyter-widgets/controls",
            "_view_module_version": "1.5.0",
            "_view_name": "HTMLView",
            "description": "",
            "description_tooltip": null,
            "layout": "IPY_MODEL_debc77cb35154732af6c712008ae8737",
            "placeholder": "​",
            "style": "IPY_MODEL_bbc4f3380a7f49d4914bc716992bdc90",
            "value": "Validation DataLoader 0: 100%"
          }
        },
        "7886897ea4d74d088523c74a329153f4": {
          "model_module": "@jupyter-widgets/controls",
          "model_name": "FloatProgressModel",
          "model_module_version": "1.5.0",
          "state": {
            "_dom_classes": [],
            "_model_module": "@jupyter-widgets/controls",
            "_model_module_version": "1.5.0",
            "_model_name": "FloatProgressModel",
            "_view_count": null,
            "_view_module": "@jupyter-widgets/controls",
            "_view_module_version": "1.5.0",
            "_view_name": "ProgressView",
            "bar_style": "",
            "description": "",
            "description_tooltip": null,
            "layout": "IPY_MODEL_9bedea53e43c49ddbb1e0896bd823d3e",
            "max": 301,
            "min": 0,
            "orientation": "horizontal",
            "style": "IPY_MODEL_e635de7c88474b129ed14379ef01d193",
            "value": 301
          }
        },
        "091754f1d0ff48a0b91098ce1a625d25": {
          "model_module": "@jupyter-widgets/controls",
          "model_name": "HTMLModel",
          "model_module_version": "1.5.0",
          "state": {
            "_dom_classes": [],
            "_model_module": "@jupyter-widgets/controls",
            "_model_module_version": "1.5.0",
            "_model_name": "HTMLModel",
            "_view_count": null,
            "_view_module": "@jupyter-widgets/controls",
            "_view_module_version": "1.5.0",
            "_view_name": "HTMLView",
            "description": "",
            "description_tooltip": null,
            "layout": "IPY_MODEL_7e9e420e4a304879a09ec5aa65295dd9",
            "placeholder": "​",
            "style": "IPY_MODEL_6dae64abf7a2493f9560d9b497e2d571",
            "value": " 301/301 [01:05&lt;00:00,  4.63it/s]"
          }
        },
        "c294e97e993243d38a6686135ec7c005": {
          "model_module": "@jupyter-widgets/base",
          "model_name": "LayoutModel",
          "model_module_version": "1.2.0",
          "state": {
            "_model_module": "@jupyter-widgets/base",
            "_model_module_version": "1.2.0",
            "_model_name": "LayoutModel",
            "_view_count": null,
            "_view_module": "@jupyter-widgets/base",
            "_view_module_version": "1.2.0",
            "_view_name": "LayoutView",
            "align_content": null,
            "align_items": null,
            "align_self": null,
            "border": null,
            "bottom": null,
            "display": "inline-flex",
            "flex": null,
            "flex_flow": "row wrap",
            "grid_area": null,
            "grid_auto_columns": null,
            "grid_auto_flow": null,
            "grid_auto_rows": null,
            "grid_column": null,
            "grid_gap": null,
            "grid_row": null,
            "grid_template_areas": null,
            "grid_template_columns": null,
            "grid_template_rows": null,
            "height": null,
            "justify_content": null,
            "justify_items": null,
            "left": null,
            "margin": null,
            "max_height": null,
            "max_width": null,
            "min_height": null,
            "min_width": null,
            "object_fit": null,
            "object_position": null,
            "order": null,
            "overflow": null,
            "overflow_x": null,
            "overflow_y": null,
            "padding": null,
            "right": null,
            "top": null,
            "visibility": null,
            "width": "100%"
          }
        },
        "debc77cb35154732af6c712008ae8737": {
          "model_module": "@jupyter-widgets/base",
          "model_name": "LayoutModel",
          "model_module_version": "1.2.0",
          "state": {
            "_model_module": "@jupyter-widgets/base",
            "_model_module_version": "1.2.0",
            "_model_name": "LayoutModel",
            "_view_count": null,
            "_view_module": "@jupyter-widgets/base",
            "_view_module_version": "1.2.0",
            "_view_name": "LayoutView",
            "align_content": null,
            "align_items": null,
            "align_self": null,
            "border": null,
            "bottom": null,
            "display": null,
            "flex": null,
            "flex_flow": null,
            "grid_area": null,
            "grid_auto_columns": null,
            "grid_auto_flow": null,
            "grid_auto_rows": null,
            "grid_column": null,
            "grid_gap": null,
            "grid_row": null,
            "grid_template_areas": null,
            "grid_template_columns": null,
            "grid_template_rows": null,
            "height": null,
            "justify_content": null,
            "justify_items": null,
            "left": null,
            "margin": null,
            "max_height": null,
            "max_width": null,
            "min_height": null,
            "min_width": null,
            "object_fit": null,
            "object_position": null,
            "order": null,
            "overflow": null,
            "overflow_x": null,
            "overflow_y": null,
            "padding": null,
            "right": null,
            "top": null,
            "visibility": null,
            "width": null
          }
        },
        "bbc4f3380a7f49d4914bc716992bdc90": {
          "model_module": "@jupyter-widgets/controls",
          "model_name": "DescriptionStyleModel",
          "model_module_version": "1.5.0",
          "state": {
            "_model_module": "@jupyter-widgets/controls",
            "_model_module_version": "1.5.0",
            "_model_name": "DescriptionStyleModel",
            "_view_count": null,
            "_view_module": "@jupyter-widgets/base",
            "_view_module_version": "1.2.0",
            "_view_name": "StyleView",
            "description_width": ""
          }
        },
        "9bedea53e43c49ddbb1e0896bd823d3e": {
          "model_module": "@jupyter-widgets/base",
          "model_name": "LayoutModel",
          "model_module_version": "1.2.0",
          "state": {
            "_model_module": "@jupyter-widgets/base",
            "_model_module_version": "1.2.0",
            "_model_name": "LayoutModel",
            "_view_count": null,
            "_view_module": "@jupyter-widgets/base",
            "_view_module_version": "1.2.0",
            "_view_name": "LayoutView",
            "align_content": null,
            "align_items": null,
            "align_self": null,
            "border": null,
            "bottom": null,
            "display": null,
            "flex": "2",
            "flex_flow": null,
            "grid_area": null,
            "grid_auto_columns": null,
            "grid_auto_flow": null,
            "grid_auto_rows": null,
            "grid_column": null,
            "grid_gap": null,
            "grid_row": null,
            "grid_template_areas": null,
            "grid_template_columns": null,
            "grid_template_rows": null,
            "height": null,
            "justify_content": null,
            "justify_items": null,
            "left": null,
            "margin": null,
            "max_height": null,
            "max_width": null,
            "min_height": null,
            "min_width": null,
            "object_fit": null,
            "object_position": null,
            "order": null,
            "overflow": null,
            "overflow_x": null,
            "overflow_y": null,
            "padding": null,
            "right": null,
            "top": null,
            "visibility": null,
            "width": null
          }
        },
        "e635de7c88474b129ed14379ef01d193": {
          "model_module": "@jupyter-widgets/controls",
          "model_name": "ProgressStyleModel",
          "model_module_version": "1.5.0",
          "state": {
            "_model_module": "@jupyter-widgets/controls",
            "_model_module_version": "1.5.0",
            "_model_name": "ProgressStyleModel",
            "_view_count": null,
            "_view_module": "@jupyter-widgets/base",
            "_view_module_version": "1.2.0",
            "_view_name": "StyleView",
            "bar_color": null,
            "description_width": ""
          }
        },
        "7e9e420e4a304879a09ec5aa65295dd9": {
          "model_module": "@jupyter-widgets/base",
          "model_name": "LayoutModel",
          "model_module_version": "1.2.0",
          "state": {
            "_model_module": "@jupyter-widgets/base",
            "_model_module_version": "1.2.0",
            "_model_name": "LayoutModel",
            "_view_count": null,
            "_view_module": "@jupyter-widgets/base",
            "_view_module_version": "1.2.0",
            "_view_name": "LayoutView",
            "align_content": null,
            "align_items": null,
            "align_self": null,
            "border": null,
            "bottom": null,
            "display": null,
            "flex": null,
            "flex_flow": null,
            "grid_area": null,
            "grid_auto_columns": null,
            "grid_auto_flow": null,
            "grid_auto_rows": null,
            "grid_column": null,
            "grid_gap": null,
            "grid_row": null,
            "grid_template_areas": null,
            "grid_template_columns": null,
            "grid_template_rows": null,
            "height": null,
            "justify_content": null,
            "justify_items": null,
            "left": null,
            "margin": null,
            "max_height": null,
            "max_width": null,
            "min_height": null,
            "min_width": null,
            "object_fit": null,
            "object_position": null,
            "order": null,
            "overflow": null,
            "overflow_x": null,
            "overflow_y": null,
            "padding": null,
            "right": null,
            "top": null,
            "visibility": null,
            "width": null
          }
        },
        "6dae64abf7a2493f9560d9b497e2d571": {
          "model_module": "@jupyter-widgets/controls",
          "model_name": "DescriptionStyleModel",
          "model_module_version": "1.5.0",
          "state": {
            "_model_module": "@jupyter-widgets/controls",
            "_model_module_version": "1.5.0",
            "_model_name": "DescriptionStyleModel",
            "_view_count": null,
            "_view_module": "@jupyter-widgets/base",
            "_view_module_version": "1.2.0",
            "_view_name": "StyleView",
            "description_width": ""
          }
        },
        "622d508a6cbc4ef994ce8fa79fc7f506": {
          "model_module": "@jupyter-widgets/controls",
          "model_name": "HBoxModel",
          "model_module_version": "1.5.0",
          "state": {
            "_dom_classes": [],
            "_model_module": "@jupyter-widgets/controls",
            "_model_module_version": "1.5.0",
            "_model_name": "HBoxModel",
            "_view_count": null,
            "_view_module": "@jupyter-widgets/controls",
            "_view_module_version": "1.5.0",
            "_view_name": "HBoxView",
            "box_style": "",
            "children": [
              "IPY_MODEL_d5c58a2a9f3e4eff8d833ae361a82120",
              "IPY_MODEL_3981b0e1d99a4a7aa2140b6ac0d2119a",
              "IPY_MODEL_1d054caddaa74d9299620916b989213f"
            ],
            "layout": "IPY_MODEL_879c35069538457db5eef1debb6845cd"
          }
        },
        "d5c58a2a9f3e4eff8d833ae361a82120": {
          "model_module": "@jupyter-widgets/controls",
          "model_name": "HTMLModel",
          "model_module_version": "1.5.0",
          "state": {
            "_dom_classes": [],
            "_model_module": "@jupyter-widgets/controls",
            "_model_module_version": "1.5.0",
            "_model_name": "HTMLModel",
            "_view_count": null,
            "_view_module": "@jupyter-widgets/controls",
            "_view_module_version": "1.5.0",
            "_view_name": "HTMLView",
            "description": "",
            "description_tooltip": null,
            "layout": "IPY_MODEL_13dfb71a8a9b48c499214f9c930dea6a",
            "placeholder": "​",
            "style": "IPY_MODEL_038f3ca7567c42e294ae905248e301ed",
            "value": "Validation DataLoader 0: 100%"
          }
        },
        "3981b0e1d99a4a7aa2140b6ac0d2119a": {
          "model_module": "@jupyter-widgets/controls",
          "model_name": "FloatProgressModel",
          "model_module_version": "1.5.0",
          "state": {
            "_dom_classes": [],
            "_model_module": "@jupyter-widgets/controls",
            "_model_module_version": "1.5.0",
            "_model_name": "FloatProgressModel",
            "_view_count": null,
            "_view_module": "@jupyter-widgets/controls",
            "_view_module_version": "1.5.0",
            "_view_name": "ProgressView",
            "bar_style": "",
            "description": "",
            "description_tooltip": null,
            "layout": "IPY_MODEL_d542b95fb74f46db9941694359ddf898",
            "max": 301,
            "min": 0,
            "orientation": "horizontal",
            "style": "IPY_MODEL_d825d202e0cb47f990386759e945d2eb",
            "value": 301
          }
        },
        "1d054caddaa74d9299620916b989213f": {
          "model_module": "@jupyter-widgets/controls",
          "model_name": "HTMLModel",
          "model_module_version": "1.5.0",
          "state": {
            "_dom_classes": [],
            "_model_module": "@jupyter-widgets/controls",
            "_model_module_version": "1.5.0",
            "_model_name": "HTMLModel",
            "_view_count": null,
            "_view_module": "@jupyter-widgets/controls",
            "_view_module_version": "1.5.0",
            "_view_name": "HTMLView",
            "description": "",
            "description_tooltip": null,
            "layout": "IPY_MODEL_a5c67a46e2d44961ac6490f709cb6506",
            "placeholder": "​",
            "style": "IPY_MODEL_3cf1213878c14b6e92900e3f87b2371f",
            "value": " 301/301 [01:00&lt;00:00,  5.01it/s]"
          }
        },
        "879c35069538457db5eef1debb6845cd": {
          "model_module": "@jupyter-widgets/base",
          "model_name": "LayoutModel",
          "model_module_version": "1.2.0",
          "state": {
            "_model_module": "@jupyter-widgets/base",
            "_model_module_version": "1.2.0",
            "_model_name": "LayoutModel",
            "_view_count": null,
            "_view_module": "@jupyter-widgets/base",
            "_view_module_version": "1.2.0",
            "_view_name": "LayoutView",
            "align_content": null,
            "align_items": null,
            "align_self": null,
            "border": null,
            "bottom": null,
            "display": "inline-flex",
            "flex": null,
            "flex_flow": "row wrap",
            "grid_area": null,
            "grid_auto_columns": null,
            "grid_auto_flow": null,
            "grid_auto_rows": null,
            "grid_column": null,
            "grid_gap": null,
            "grid_row": null,
            "grid_template_areas": null,
            "grid_template_columns": null,
            "grid_template_rows": null,
            "height": null,
            "justify_content": null,
            "justify_items": null,
            "left": null,
            "margin": null,
            "max_height": null,
            "max_width": null,
            "min_height": null,
            "min_width": null,
            "object_fit": null,
            "object_position": null,
            "order": null,
            "overflow": null,
            "overflow_x": null,
            "overflow_y": null,
            "padding": null,
            "right": null,
            "top": null,
            "visibility": null,
            "width": "100%"
          }
        },
        "13dfb71a8a9b48c499214f9c930dea6a": {
          "model_module": "@jupyter-widgets/base",
          "model_name": "LayoutModel",
          "model_module_version": "1.2.0",
          "state": {
            "_model_module": "@jupyter-widgets/base",
            "_model_module_version": "1.2.0",
            "_model_name": "LayoutModel",
            "_view_count": null,
            "_view_module": "@jupyter-widgets/base",
            "_view_module_version": "1.2.0",
            "_view_name": "LayoutView",
            "align_content": null,
            "align_items": null,
            "align_self": null,
            "border": null,
            "bottom": null,
            "display": null,
            "flex": null,
            "flex_flow": null,
            "grid_area": null,
            "grid_auto_columns": null,
            "grid_auto_flow": null,
            "grid_auto_rows": null,
            "grid_column": null,
            "grid_gap": null,
            "grid_row": null,
            "grid_template_areas": null,
            "grid_template_columns": null,
            "grid_template_rows": null,
            "height": null,
            "justify_content": null,
            "justify_items": null,
            "left": null,
            "margin": null,
            "max_height": null,
            "max_width": null,
            "min_height": null,
            "min_width": null,
            "object_fit": null,
            "object_position": null,
            "order": null,
            "overflow": null,
            "overflow_x": null,
            "overflow_y": null,
            "padding": null,
            "right": null,
            "top": null,
            "visibility": null,
            "width": null
          }
        },
        "038f3ca7567c42e294ae905248e301ed": {
          "model_module": "@jupyter-widgets/controls",
          "model_name": "DescriptionStyleModel",
          "model_module_version": "1.5.0",
          "state": {
            "_model_module": "@jupyter-widgets/controls",
            "_model_module_version": "1.5.0",
            "_model_name": "DescriptionStyleModel",
            "_view_count": null,
            "_view_module": "@jupyter-widgets/base",
            "_view_module_version": "1.2.0",
            "_view_name": "StyleView",
            "description_width": ""
          }
        },
        "d542b95fb74f46db9941694359ddf898": {
          "model_module": "@jupyter-widgets/base",
          "model_name": "LayoutModel",
          "model_module_version": "1.2.0",
          "state": {
            "_model_module": "@jupyter-widgets/base",
            "_model_module_version": "1.2.0",
            "_model_name": "LayoutModel",
            "_view_count": null,
            "_view_module": "@jupyter-widgets/base",
            "_view_module_version": "1.2.0",
            "_view_name": "LayoutView",
            "align_content": null,
            "align_items": null,
            "align_self": null,
            "border": null,
            "bottom": null,
            "display": null,
            "flex": "2",
            "flex_flow": null,
            "grid_area": null,
            "grid_auto_columns": null,
            "grid_auto_flow": null,
            "grid_auto_rows": null,
            "grid_column": null,
            "grid_gap": null,
            "grid_row": null,
            "grid_template_areas": null,
            "grid_template_columns": null,
            "grid_template_rows": null,
            "height": null,
            "justify_content": null,
            "justify_items": null,
            "left": null,
            "margin": null,
            "max_height": null,
            "max_width": null,
            "min_height": null,
            "min_width": null,
            "object_fit": null,
            "object_position": null,
            "order": null,
            "overflow": null,
            "overflow_x": null,
            "overflow_y": null,
            "padding": null,
            "right": null,
            "top": null,
            "visibility": null,
            "width": null
          }
        },
        "d825d202e0cb47f990386759e945d2eb": {
          "model_module": "@jupyter-widgets/controls",
          "model_name": "ProgressStyleModel",
          "model_module_version": "1.5.0",
          "state": {
            "_model_module": "@jupyter-widgets/controls",
            "_model_module_version": "1.5.0",
            "_model_name": "ProgressStyleModel",
            "_view_count": null,
            "_view_module": "@jupyter-widgets/base",
            "_view_module_version": "1.2.0",
            "_view_name": "StyleView",
            "bar_color": null,
            "description_width": ""
          }
        },
        "a5c67a46e2d44961ac6490f709cb6506": {
          "model_module": "@jupyter-widgets/base",
          "model_name": "LayoutModel",
          "model_module_version": "1.2.0",
          "state": {
            "_model_module": "@jupyter-widgets/base",
            "_model_module_version": "1.2.0",
            "_model_name": "LayoutModel",
            "_view_count": null,
            "_view_module": "@jupyter-widgets/base",
            "_view_module_version": "1.2.0",
            "_view_name": "LayoutView",
            "align_content": null,
            "align_items": null,
            "align_self": null,
            "border": null,
            "bottom": null,
            "display": null,
            "flex": null,
            "flex_flow": null,
            "grid_area": null,
            "grid_auto_columns": null,
            "grid_auto_flow": null,
            "grid_auto_rows": null,
            "grid_column": null,
            "grid_gap": null,
            "grid_row": null,
            "grid_template_areas": null,
            "grid_template_columns": null,
            "grid_template_rows": null,
            "height": null,
            "justify_content": null,
            "justify_items": null,
            "left": null,
            "margin": null,
            "max_height": null,
            "max_width": null,
            "min_height": null,
            "min_width": null,
            "object_fit": null,
            "object_position": null,
            "order": null,
            "overflow": null,
            "overflow_x": null,
            "overflow_y": null,
            "padding": null,
            "right": null,
            "top": null,
            "visibility": null,
            "width": null
          }
        },
        "3cf1213878c14b6e92900e3f87b2371f": {
          "model_module": "@jupyter-widgets/controls",
          "model_name": "DescriptionStyleModel",
          "model_module_version": "1.5.0",
          "state": {
            "_model_module": "@jupyter-widgets/controls",
            "_model_module_version": "1.5.0",
            "_model_name": "DescriptionStyleModel",
            "_view_count": null,
            "_view_module": "@jupyter-widgets/base",
            "_view_module_version": "1.2.0",
            "_view_name": "StyleView",
            "description_width": ""
          }
        },
        "d7497dcc99c94fbeb7384f10b42d717b": {
          "model_module": "@jupyter-widgets/controls",
          "model_name": "HBoxModel",
          "model_module_version": "1.5.0",
          "state": {
            "_dom_classes": [],
            "_model_module": "@jupyter-widgets/controls",
            "_model_module_version": "1.5.0",
            "_model_name": "HBoxModel",
            "_view_count": null,
            "_view_module": "@jupyter-widgets/controls",
            "_view_module_version": "1.5.0",
            "_view_name": "HBoxView",
            "box_style": "",
            "children": [
              "IPY_MODEL_a9bd0c5eba284e0484d2672b89b046da",
              "IPY_MODEL_516c6f99f1714cdcaefc4bb38b42ad77",
              "IPY_MODEL_ba4551103fac4def865ac00de2a40f85"
            ],
            "layout": "IPY_MODEL_248ff04a3a154244890986f4935a134d"
          }
        },
        "a9bd0c5eba284e0484d2672b89b046da": {
          "model_module": "@jupyter-widgets/controls",
          "model_name": "HTMLModel",
          "model_module_version": "1.5.0",
          "state": {
            "_dom_classes": [],
            "_model_module": "@jupyter-widgets/controls",
            "_model_module_version": "1.5.0",
            "_model_name": "HTMLModel",
            "_view_count": null,
            "_view_module": "@jupyter-widgets/controls",
            "_view_module_version": "1.5.0",
            "_view_name": "HTMLView",
            "description": "",
            "description_tooltip": null,
            "layout": "IPY_MODEL_92729b7a28cf432ebfe52c2b9b4b76f2",
            "placeholder": "​",
            "style": "IPY_MODEL_e198f26612c44b70839f2b9c0a4d4253",
            "value": "Validation DataLoader 0: 100%"
          }
        },
        "516c6f99f1714cdcaefc4bb38b42ad77": {
          "model_module": "@jupyter-widgets/controls",
          "model_name": "FloatProgressModel",
          "model_module_version": "1.5.0",
          "state": {
            "_dom_classes": [],
            "_model_module": "@jupyter-widgets/controls",
            "_model_module_version": "1.5.0",
            "_model_name": "FloatProgressModel",
            "_view_count": null,
            "_view_module": "@jupyter-widgets/controls",
            "_view_module_version": "1.5.0",
            "_view_name": "ProgressView",
            "bar_style": "",
            "description": "",
            "description_tooltip": null,
            "layout": "IPY_MODEL_e26e04af46fc4ceba8f8733138395bf0",
            "max": 301,
            "min": 0,
            "orientation": "horizontal",
            "style": "IPY_MODEL_626a6c01a864413e9bcb655689207862",
            "value": 301
          }
        },
        "ba4551103fac4def865ac00de2a40f85": {
          "model_module": "@jupyter-widgets/controls",
          "model_name": "HTMLModel",
          "model_module_version": "1.5.0",
          "state": {
            "_dom_classes": [],
            "_model_module": "@jupyter-widgets/controls",
            "_model_module_version": "1.5.0",
            "_model_name": "HTMLModel",
            "_view_count": null,
            "_view_module": "@jupyter-widgets/controls",
            "_view_module_version": "1.5.0",
            "_view_name": "HTMLView",
            "description": "",
            "description_tooltip": null,
            "layout": "IPY_MODEL_bb6996623e8c4663a74813766d6d6aea",
            "placeholder": "​",
            "style": "IPY_MODEL_df07b7b8c24449ddaa599f4db854ca95",
            "value": " 301/301 [00:59&lt;00:00,  5.05it/s]"
          }
        },
        "248ff04a3a154244890986f4935a134d": {
          "model_module": "@jupyter-widgets/base",
          "model_name": "LayoutModel",
          "model_module_version": "1.2.0",
          "state": {
            "_model_module": "@jupyter-widgets/base",
            "_model_module_version": "1.2.0",
            "_model_name": "LayoutModel",
            "_view_count": null,
            "_view_module": "@jupyter-widgets/base",
            "_view_module_version": "1.2.0",
            "_view_name": "LayoutView",
            "align_content": null,
            "align_items": null,
            "align_self": null,
            "border": null,
            "bottom": null,
            "display": "inline-flex",
            "flex": null,
            "flex_flow": "row wrap",
            "grid_area": null,
            "grid_auto_columns": null,
            "grid_auto_flow": null,
            "grid_auto_rows": null,
            "grid_column": null,
            "grid_gap": null,
            "grid_row": null,
            "grid_template_areas": null,
            "grid_template_columns": null,
            "grid_template_rows": null,
            "height": null,
            "justify_content": null,
            "justify_items": null,
            "left": null,
            "margin": null,
            "max_height": null,
            "max_width": null,
            "min_height": null,
            "min_width": null,
            "object_fit": null,
            "object_position": null,
            "order": null,
            "overflow": null,
            "overflow_x": null,
            "overflow_y": null,
            "padding": null,
            "right": null,
            "top": null,
            "visibility": null,
            "width": "100%"
          }
        },
        "92729b7a28cf432ebfe52c2b9b4b76f2": {
          "model_module": "@jupyter-widgets/base",
          "model_name": "LayoutModel",
          "model_module_version": "1.2.0",
          "state": {
            "_model_module": "@jupyter-widgets/base",
            "_model_module_version": "1.2.0",
            "_model_name": "LayoutModel",
            "_view_count": null,
            "_view_module": "@jupyter-widgets/base",
            "_view_module_version": "1.2.0",
            "_view_name": "LayoutView",
            "align_content": null,
            "align_items": null,
            "align_self": null,
            "border": null,
            "bottom": null,
            "display": null,
            "flex": null,
            "flex_flow": null,
            "grid_area": null,
            "grid_auto_columns": null,
            "grid_auto_flow": null,
            "grid_auto_rows": null,
            "grid_column": null,
            "grid_gap": null,
            "grid_row": null,
            "grid_template_areas": null,
            "grid_template_columns": null,
            "grid_template_rows": null,
            "height": null,
            "justify_content": null,
            "justify_items": null,
            "left": null,
            "margin": null,
            "max_height": null,
            "max_width": null,
            "min_height": null,
            "min_width": null,
            "object_fit": null,
            "object_position": null,
            "order": null,
            "overflow": null,
            "overflow_x": null,
            "overflow_y": null,
            "padding": null,
            "right": null,
            "top": null,
            "visibility": null,
            "width": null
          }
        },
        "e198f26612c44b70839f2b9c0a4d4253": {
          "model_module": "@jupyter-widgets/controls",
          "model_name": "DescriptionStyleModel",
          "model_module_version": "1.5.0",
          "state": {
            "_model_module": "@jupyter-widgets/controls",
            "_model_module_version": "1.5.0",
            "_model_name": "DescriptionStyleModel",
            "_view_count": null,
            "_view_module": "@jupyter-widgets/base",
            "_view_module_version": "1.2.0",
            "_view_name": "StyleView",
            "description_width": ""
          }
        },
        "e26e04af46fc4ceba8f8733138395bf0": {
          "model_module": "@jupyter-widgets/base",
          "model_name": "LayoutModel",
          "model_module_version": "1.2.0",
          "state": {
            "_model_module": "@jupyter-widgets/base",
            "_model_module_version": "1.2.0",
            "_model_name": "LayoutModel",
            "_view_count": null,
            "_view_module": "@jupyter-widgets/base",
            "_view_module_version": "1.2.0",
            "_view_name": "LayoutView",
            "align_content": null,
            "align_items": null,
            "align_self": null,
            "border": null,
            "bottom": null,
            "display": null,
            "flex": "2",
            "flex_flow": null,
            "grid_area": null,
            "grid_auto_columns": null,
            "grid_auto_flow": null,
            "grid_auto_rows": null,
            "grid_column": null,
            "grid_gap": null,
            "grid_row": null,
            "grid_template_areas": null,
            "grid_template_columns": null,
            "grid_template_rows": null,
            "height": null,
            "justify_content": null,
            "justify_items": null,
            "left": null,
            "margin": null,
            "max_height": null,
            "max_width": null,
            "min_height": null,
            "min_width": null,
            "object_fit": null,
            "object_position": null,
            "order": null,
            "overflow": null,
            "overflow_x": null,
            "overflow_y": null,
            "padding": null,
            "right": null,
            "top": null,
            "visibility": null,
            "width": null
          }
        },
        "626a6c01a864413e9bcb655689207862": {
          "model_module": "@jupyter-widgets/controls",
          "model_name": "ProgressStyleModel",
          "model_module_version": "1.5.0",
          "state": {
            "_model_module": "@jupyter-widgets/controls",
            "_model_module_version": "1.5.0",
            "_model_name": "ProgressStyleModel",
            "_view_count": null,
            "_view_module": "@jupyter-widgets/base",
            "_view_module_version": "1.2.0",
            "_view_name": "StyleView",
            "bar_color": null,
            "description_width": ""
          }
        },
        "bb6996623e8c4663a74813766d6d6aea": {
          "model_module": "@jupyter-widgets/base",
          "model_name": "LayoutModel",
          "model_module_version": "1.2.0",
          "state": {
            "_model_module": "@jupyter-widgets/base",
            "_model_module_version": "1.2.0",
            "_model_name": "LayoutModel",
            "_view_count": null,
            "_view_module": "@jupyter-widgets/base",
            "_view_module_version": "1.2.0",
            "_view_name": "LayoutView",
            "align_content": null,
            "align_items": null,
            "align_self": null,
            "border": null,
            "bottom": null,
            "display": null,
            "flex": null,
            "flex_flow": null,
            "grid_area": null,
            "grid_auto_columns": null,
            "grid_auto_flow": null,
            "grid_auto_rows": null,
            "grid_column": null,
            "grid_gap": null,
            "grid_row": null,
            "grid_template_areas": null,
            "grid_template_columns": null,
            "grid_template_rows": null,
            "height": null,
            "justify_content": null,
            "justify_items": null,
            "left": null,
            "margin": null,
            "max_height": null,
            "max_width": null,
            "min_height": null,
            "min_width": null,
            "object_fit": null,
            "object_position": null,
            "order": null,
            "overflow": null,
            "overflow_x": null,
            "overflow_y": null,
            "padding": null,
            "right": null,
            "top": null,
            "visibility": null,
            "width": null
          }
        },
        "df07b7b8c24449ddaa599f4db854ca95": {
          "model_module": "@jupyter-widgets/controls",
          "model_name": "DescriptionStyleModel",
          "model_module_version": "1.5.0",
          "state": {
            "_model_module": "@jupyter-widgets/controls",
            "_model_module_version": "1.5.0",
            "_model_name": "DescriptionStyleModel",
            "_view_count": null,
            "_view_module": "@jupyter-widgets/base",
            "_view_module_version": "1.2.0",
            "_view_name": "StyleView",
            "description_width": ""
          }
        },
        "ecbf7b3a098e49e9a4a4b5fd365b9503": {
          "model_module": "@jupyter-widgets/controls",
          "model_name": "HBoxModel",
          "model_module_version": "1.5.0",
          "state": {
            "_dom_classes": [],
            "_model_module": "@jupyter-widgets/controls",
            "_model_module_version": "1.5.0",
            "_model_name": "HBoxModel",
            "_view_count": null,
            "_view_module": "@jupyter-widgets/controls",
            "_view_module_version": "1.5.0",
            "_view_name": "HBoxView",
            "box_style": "",
            "children": [
              "IPY_MODEL_e252b5eb7dde42a782ece582c919cff9",
              "IPY_MODEL_508b96164329412aa24ba9957d80f9e9",
              "IPY_MODEL_17376dd6b9e34502849fc4ce5f306fc2"
            ],
            "layout": "IPY_MODEL_878ae28279a94db58b7e8220a3071a53"
          }
        },
        "e252b5eb7dde42a782ece582c919cff9": {
          "model_module": "@jupyter-widgets/controls",
          "model_name": "HTMLModel",
          "model_module_version": "1.5.0",
          "state": {
            "_dom_classes": [],
            "_model_module": "@jupyter-widgets/controls",
            "_model_module_version": "1.5.0",
            "_model_name": "HTMLModel",
            "_view_count": null,
            "_view_module": "@jupyter-widgets/controls",
            "_view_module_version": "1.5.0",
            "_view_name": "HTMLView",
            "description": "",
            "description_tooltip": null,
            "layout": "IPY_MODEL_c0db1162c8504a63a049eb33452abb06",
            "placeholder": "​",
            "style": "IPY_MODEL_f99bec1b026448aa83acdd06e9092463",
            "value": "Validation DataLoader 0: 100%"
          }
        },
        "508b96164329412aa24ba9957d80f9e9": {
          "model_module": "@jupyter-widgets/controls",
          "model_name": "FloatProgressModel",
          "model_module_version": "1.5.0",
          "state": {
            "_dom_classes": [],
            "_model_module": "@jupyter-widgets/controls",
            "_model_module_version": "1.5.0",
            "_model_name": "FloatProgressModel",
            "_view_count": null,
            "_view_module": "@jupyter-widgets/controls",
            "_view_module_version": "1.5.0",
            "_view_name": "ProgressView",
            "bar_style": "",
            "description": "",
            "description_tooltip": null,
            "layout": "IPY_MODEL_82c6ba8217b54e72968be909a9f71b78",
            "max": 301,
            "min": 0,
            "orientation": "horizontal",
            "style": "IPY_MODEL_9be8a7e6048645ee9f9eaa802106089b",
            "value": 301
          }
        },
        "17376dd6b9e34502849fc4ce5f306fc2": {
          "model_module": "@jupyter-widgets/controls",
          "model_name": "HTMLModel",
          "model_module_version": "1.5.0",
          "state": {
            "_dom_classes": [],
            "_model_module": "@jupyter-widgets/controls",
            "_model_module_version": "1.5.0",
            "_model_name": "HTMLModel",
            "_view_count": null,
            "_view_module": "@jupyter-widgets/controls",
            "_view_module_version": "1.5.0",
            "_view_name": "HTMLView",
            "description": "",
            "description_tooltip": null,
            "layout": "IPY_MODEL_0b855b53650c413e987ffcd3d5087af9",
            "placeholder": "​",
            "style": "IPY_MODEL_e59a4557b38246df9a1d83d0193f8e83",
            "value": " 301/301 [01:00&lt;00:00,  4.97it/s]"
          }
        },
        "878ae28279a94db58b7e8220a3071a53": {
          "model_module": "@jupyter-widgets/base",
          "model_name": "LayoutModel",
          "model_module_version": "1.2.0",
          "state": {
            "_model_module": "@jupyter-widgets/base",
            "_model_module_version": "1.2.0",
            "_model_name": "LayoutModel",
            "_view_count": null,
            "_view_module": "@jupyter-widgets/base",
            "_view_module_version": "1.2.0",
            "_view_name": "LayoutView",
            "align_content": null,
            "align_items": null,
            "align_self": null,
            "border": null,
            "bottom": null,
            "display": "inline-flex",
            "flex": null,
            "flex_flow": "row wrap",
            "grid_area": null,
            "grid_auto_columns": null,
            "grid_auto_flow": null,
            "grid_auto_rows": null,
            "grid_column": null,
            "grid_gap": null,
            "grid_row": null,
            "grid_template_areas": null,
            "grid_template_columns": null,
            "grid_template_rows": null,
            "height": null,
            "justify_content": null,
            "justify_items": null,
            "left": null,
            "margin": null,
            "max_height": null,
            "max_width": null,
            "min_height": null,
            "min_width": null,
            "object_fit": null,
            "object_position": null,
            "order": null,
            "overflow": null,
            "overflow_x": null,
            "overflow_y": null,
            "padding": null,
            "right": null,
            "top": null,
            "visibility": null,
            "width": "100%"
          }
        },
        "c0db1162c8504a63a049eb33452abb06": {
          "model_module": "@jupyter-widgets/base",
          "model_name": "LayoutModel",
          "model_module_version": "1.2.0",
          "state": {
            "_model_module": "@jupyter-widgets/base",
            "_model_module_version": "1.2.0",
            "_model_name": "LayoutModel",
            "_view_count": null,
            "_view_module": "@jupyter-widgets/base",
            "_view_module_version": "1.2.0",
            "_view_name": "LayoutView",
            "align_content": null,
            "align_items": null,
            "align_self": null,
            "border": null,
            "bottom": null,
            "display": null,
            "flex": null,
            "flex_flow": null,
            "grid_area": null,
            "grid_auto_columns": null,
            "grid_auto_flow": null,
            "grid_auto_rows": null,
            "grid_column": null,
            "grid_gap": null,
            "grid_row": null,
            "grid_template_areas": null,
            "grid_template_columns": null,
            "grid_template_rows": null,
            "height": null,
            "justify_content": null,
            "justify_items": null,
            "left": null,
            "margin": null,
            "max_height": null,
            "max_width": null,
            "min_height": null,
            "min_width": null,
            "object_fit": null,
            "object_position": null,
            "order": null,
            "overflow": null,
            "overflow_x": null,
            "overflow_y": null,
            "padding": null,
            "right": null,
            "top": null,
            "visibility": null,
            "width": null
          }
        },
        "f99bec1b026448aa83acdd06e9092463": {
          "model_module": "@jupyter-widgets/controls",
          "model_name": "DescriptionStyleModel",
          "model_module_version": "1.5.0",
          "state": {
            "_model_module": "@jupyter-widgets/controls",
            "_model_module_version": "1.5.0",
            "_model_name": "DescriptionStyleModel",
            "_view_count": null,
            "_view_module": "@jupyter-widgets/base",
            "_view_module_version": "1.2.0",
            "_view_name": "StyleView",
            "description_width": ""
          }
        },
        "82c6ba8217b54e72968be909a9f71b78": {
          "model_module": "@jupyter-widgets/base",
          "model_name": "LayoutModel",
          "model_module_version": "1.2.0",
          "state": {
            "_model_module": "@jupyter-widgets/base",
            "_model_module_version": "1.2.0",
            "_model_name": "LayoutModel",
            "_view_count": null,
            "_view_module": "@jupyter-widgets/base",
            "_view_module_version": "1.2.0",
            "_view_name": "LayoutView",
            "align_content": null,
            "align_items": null,
            "align_self": null,
            "border": null,
            "bottom": null,
            "display": null,
            "flex": "2",
            "flex_flow": null,
            "grid_area": null,
            "grid_auto_columns": null,
            "grid_auto_flow": null,
            "grid_auto_rows": null,
            "grid_column": null,
            "grid_gap": null,
            "grid_row": null,
            "grid_template_areas": null,
            "grid_template_columns": null,
            "grid_template_rows": null,
            "height": null,
            "justify_content": null,
            "justify_items": null,
            "left": null,
            "margin": null,
            "max_height": null,
            "max_width": null,
            "min_height": null,
            "min_width": null,
            "object_fit": null,
            "object_position": null,
            "order": null,
            "overflow": null,
            "overflow_x": null,
            "overflow_y": null,
            "padding": null,
            "right": null,
            "top": null,
            "visibility": null,
            "width": null
          }
        },
        "9be8a7e6048645ee9f9eaa802106089b": {
          "model_module": "@jupyter-widgets/controls",
          "model_name": "ProgressStyleModel",
          "model_module_version": "1.5.0",
          "state": {
            "_model_module": "@jupyter-widgets/controls",
            "_model_module_version": "1.5.0",
            "_model_name": "ProgressStyleModel",
            "_view_count": null,
            "_view_module": "@jupyter-widgets/base",
            "_view_module_version": "1.2.0",
            "_view_name": "StyleView",
            "bar_color": null,
            "description_width": ""
          }
        },
        "0b855b53650c413e987ffcd3d5087af9": {
          "model_module": "@jupyter-widgets/base",
          "model_name": "LayoutModel",
          "model_module_version": "1.2.0",
          "state": {
            "_model_module": "@jupyter-widgets/base",
            "_model_module_version": "1.2.0",
            "_model_name": "LayoutModel",
            "_view_count": null,
            "_view_module": "@jupyter-widgets/base",
            "_view_module_version": "1.2.0",
            "_view_name": "LayoutView",
            "align_content": null,
            "align_items": null,
            "align_self": null,
            "border": null,
            "bottom": null,
            "display": null,
            "flex": null,
            "flex_flow": null,
            "grid_area": null,
            "grid_auto_columns": null,
            "grid_auto_flow": null,
            "grid_auto_rows": null,
            "grid_column": null,
            "grid_gap": null,
            "grid_row": null,
            "grid_template_areas": null,
            "grid_template_columns": null,
            "grid_template_rows": null,
            "height": null,
            "justify_content": null,
            "justify_items": null,
            "left": null,
            "margin": null,
            "max_height": null,
            "max_width": null,
            "min_height": null,
            "min_width": null,
            "object_fit": null,
            "object_position": null,
            "order": null,
            "overflow": null,
            "overflow_x": null,
            "overflow_y": null,
            "padding": null,
            "right": null,
            "top": null,
            "visibility": null,
            "width": null
          }
        },
        "e59a4557b38246df9a1d83d0193f8e83": {
          "model_module": "@jupyter-widgets/controls",
          "model_name": "DescriptionStyleModel",
          "model_module_version": "1.5.0",
          "state": {
            "_model_module": "@jupyter-widgets/controls",
            "_model_module_version": "1.5.0",
            "_model_name": "DescriptionStyleModel",
            "_view_count": null,
            "_view_module": "@jupyter-widgets/base",
            "_view_module_version": "1.2.0",
            "_view_name": "StyleView",
            "description_width": ""
          }
        },
        "c804edc4285f44838a8bbc3006f9c2b7": {
          "model_module": "@jupyter-widgets/controls",
          "model_name": "HBoxModel",
          "model_module_version": "1.5.0",
          "state": {
            "_dom_classes": [],
            "_model_module": "@jupyter-widgets/controls",
            "_model_module_version": "1.5.0",
            "_model_name": "HBoxModel",
            "_view_count": null,
            "_view_module": "@jupyter-widgets/controls",
            "_view_module_version": "1.5.0",
            "_view_name": "HBoxView",
            "box_style": "",
            "children": [
              "IPY_MODEL_d6f58e8f84fe4a028f2d3d242be65b76",
              "IPY_MODEL_35e825408ac948968456a5076823719d",
              "IPY_MODEL_6f0cbdafcaab4cdbb59d9becb80d0970"
            ],
            "layout": "IPY_MODEL_4d7350bf6a204758b7e7455000f42dfb"
          }
        },
        "d6f58e8f84fe4a028f2d3d242be65b76": {
          "model_module": "@jupyter-widgets/controls",
          "model_name": "HTMLModel",
          "model_module_version": "1.5.0",
          "state": {
            "_dom_classes": [],
            "_model_module": "@jupyter-widgets/controls",
            "_model_module_version": "1.5.0",
            "_model_name": "HTMLModel",
            "_view_count": null,
            "_view_module": "@jupyter-widgets/controls",
            "_view_module_version": "1.5.0",
            "_view_name": "HTMLView",
            "description": "",
            "description_tooltip": null,
            "layout": "IPY_MODEL_36253fefb821496cbf072c714883f43a",
            "placeholder": "​",
            "style": "IPY_MODEL_2edfe059bb3b44d699b83b8aca840b0d",
            "value": "Validation DataLoader 0: 100%"
          }
        },
        "35e825408ac948968456a5076823719d": {
          "model_module": "@jupyter-widgets/controls",
          "model_name": "FloatProgressModel",
          "model_module_version": "1.5.0",
          "state": {
            "_dom_classes": [],
            "_model_module": "@jupyter-widgets/controls",
            "_model_module_version": "1.5.0",
            "_model_name": "FloatProgressModel",
            "_view_count": null,
            "_view_module": "@jupyter-widgets/controls",
            "_view_module_version": "1.5.0",
            "_view_name": "ProgressView",
            "bar_style": "",
            "description": "",
            "description_tooltip": null,
            "layout": "IPY_MODEL_9af7a7c5d1d44af0a60a7600c2ea096d",
            "max": 301,
            "min": 0,
            "orientation": "horizontal",
            "style": "IPY_MODEL_0016a49900da4191b161daff2ac503d5",
            "value": 301
          }
        },
        "6f0cbdafcaab4cdbb59d9becb80d0970": {
          "model_module": "@jupyter-widgets/controls",
          "model_name": "HTMLModel",
          "model_module_version": "1.5.0",
          "state": {
            "_dom_classes": [],
            "_model_module": "@jupyter-widgets/controls",
            "_model_module_version": "1.5.0",
            "_model_name": "HTMLModel",
            "_view_count": null,
            "_view_module": "@jupyter-widgets/controls",
            "_view_module_version": "1.5.0",
            "_view_name": "HTMLView",
            "description": "",
            "description_tooltip": null,
            "layout": "IPY_MODEL_fd916aeceb50467fbcf7211ca71f5817",
            "placeholder": "​",
            "style": "IPY_MODEL_edb34ea5ebe84f98aa1ba1870db61c35",
            "value": " 301/301 [01:01&lt;00:00,  4.92it/s]"
          }
        },
        "4d7350bf6a204758b7e7455000f42dfb": {
          "model_module": "@jupyter-widgets/base",
          "model_name": "LayoutModel",
          "model_module_version": "1.2.0",
          "state": {
            "_model_module": "@jupyter-widgets/base",
            "_model_module_version": "1.2.0",
            "_model_name": "LayoutModel",
            "_view_count": null,
            "_view_module": "@jupyter-widgets/base",
            "_view_module_version": "1.2.0",
            "_view_name": "LayoutView",
            "align_content": null,
            "align_items": null,
            "align_self": null,
            "border": null,
            "bottom": null,
            "display": "inline-flex",
            "flex": null,
            "flex_flow": "row wrap",
            "grid_area": null,
            "grid_auto_columns": null,
            "grid_auto_flow": null,
            "grid_auto_rows": null,
            "grid_column": null,
            "grid_gap": null,
            "grid_row": null,
            "grid_template_areas": null,
            "grid_template_columns": null,
            "grid_template_rows": null,
            "height": null,
            "justify_content": null,
            "justify_items": null,
            "left": null,
            "margin": null,
            "max_height": null,
            "max_width": null,
            "min_height": null,
            "min_width": null,
            "object_fit": null,
            "object_position": null,
            "order": null,
            "overflow": null,
            "overflow_x": null,
            "overflow_y": null,
            "padding": null,
            "right": null,
            "top": null,
            "visibility": null,
            "width": "100%"
          }
        },
        "36253fefb821496cbf072c714883f43a": {
          "model_module": "@jupyter-widgets/base",
          "model_name": "LayoutModel",
          "model_module_version": "1.2.0",
          "state": {
            "_model_module": "@jupyter-widgets/base",
            "_model_module_version": "1.2.0",
            "_model_name": "LayoutModel",
            "_view_count": null,
            "_view_module": "@jupyter-widgets/base",
            "_view_module_version": "1.2.0",
            "_view_name": "LayoutView",
            "align_content": null,
            "align_items": null,
            "align_self": null,
            "border": null,
            "bottom": null,
            "display": null,
            "flex": null,
            "flex_flow": null,
            "grid_area": null,
            "grid_auto_columns": null,
            "grid_auto_flow": null,
            "grid_auto_rows": null,
            "grid_column": null,
            "grid_gap": null,
            "grid_row": null,
            "grid_template_areas": null,
            "grid_template_columns": null,
            "grid_template_rows": null,
            "height": null,
            "justify_content": null,
            "justify_items": null,
            "left": null,
            "margin": null,
            "max_height": null,
            "max_width": null,
            "min_height": null,
            "min_width": null,
            "object_fit": null,
            "object_position": null,
            "order": null,
            "overflow": null,
            "overflow_x": null,
            "overflow_y": null,
            "padding": null,
            "right": null,
            "top": null,
            "visibility": null,
            "width": null
          }
        },
        "2edfe059bb3b44d699b83b8aca840b0d": {
          "model_module": "@jupyter-widgets/controls",
          "model_name": "DescriptionStyleModel",
          "model_module_version": "1.5.0",
          "state": {
            "_model_module": "@jupyter-widgets/controls",
            "_model_module_version": "1.5.0",
            "_model_name": "DescriptionStyleModel",
            "_view_count": null,
            "_view_module": "@jupyter-widgets/base",
            "_view_module_version": "1.2.0",
            "_view_name": "StyleView",
            "description_width": ""
          }
        },
        "9af7a7c5d1d44af0a60a7600c2ea096d": {
          "model_module": "@jupyter-widgets/base",
          "model_name": "LayoutModel",
          "model_module_version": "1.2.0",
          "state": {
            "_model_module": "@jupyter-widgets/base",
            "_model_module_version": "1.2.0",
            "_model_name": "LayoutModel",
            "_view_count": null,
            "_view_module": "@jupyter-widgets/base",
            "_view_module_version": "1.2.0",
            "_view_name": "LayoutView",
            "align_content": null,
            "align_items": null,
            "align_self": null,
            "border": null,
            "bottom": null,
            "display": null,
            "flex": "2",
            "flex_flow": null,
            "grid_area": null,
            "grid_auto_columns": null,
            "grid_auto_flow": null,
            "grid_auto_rows": null,
            "grid_column": null,
            "grid_gap": null,
            "grid_row": null,
            "grid_template_areas": null,
            "grid_template_columns": null,
            "grid_template_rows": null,
            "height": null,
            "justify_content": null,
            "justify_items": null,
            "left": null,
            "margin": null,
            "max_height": null,
            "max_width": null,
            "min_height": null,
            "min_width": null,
            "object_fit": null,
            "object_position": null,
            "order": null,
            "overflow": null,
            "overflow_x": null,
            "overflow_y": null,
            "padding": null,
            "right": null,
            "top": null,
            "visibility": null,
            "width": null
          }
        },
        "0016a49900da4191b161daff2ac503d5": {
          "model_module": "@jupyter-widgets/controls",
          "model_name": "ProgressStyleModel",
          "model_module_version": "1.5.0",
          "state": {
            "_model_module": "@jupyter-widgets/controls",
            "_model_module_version": "1.5.0",
            "_model_name": "ProgressStyleModel",
            "_view_count": null,
            "_view_module": "@jupyter-widgets/base",
            "_view_module_version": "1.2.0",
            "_view_name": "StyleView",
            "bar_color": null,
            "description_width": ""
          }
        },
        "fd916aeceb50467fbcf7211ca71f5817": {
          "model_module": "@jupyter-widgets/base",
          "model_name": "LayoutModel",
          "model_module_version": "1.2.0",
          "state": {
            "_model_module": "@jupyter-widgets/base",
            "_model_module_version": "1.2.0",
            "_model_name": "LayoutModel",
            "_view_count": null,
            "_view_module": "@jupyter-widgets/base",
            "_view_module_version": "1.2.0",
            "_view_name": "LayoutView",
            "align_content": null,
            "align_items": null,
            "align_self": null,
            "border": null,
            "bottom": null,
            "display": null,
            "flex": null,
            "flex_flow": null,
            "grid_area": null,
            "grid_auto_columns": null,
            "grid_auto_flow": null,
            "grid_auto_rows": null,
            "grid_column": null,
            "grid_gap": null,
            "grid_row": null,
            "grid_template_areas": null,
            "grid_template_columns": null,
            "grid_template_rows": null,
            "height": null,
            "justify_content": null,
            "justify_items": null,
            "left": null,
            "margin": null,
            "max_height": null,
            "max_width": null,
            "min_height": null,
            "min_width": null,
            "object_fit": null,
            "object_position": null,
            "order": null,
            "overflow": null,
            "overflow_x": null,
            "overflow_y": null,
            "padding": null,
            "right": null,
            "top": null,
            "visibility": null,
            "width": null
          }
        },
        "edb34ea5ebe84f98aa1ba1870db61c35": {
          "model_module": "@jupyter-widgets/controls",
          "model_name": "DescriptionStyleModel",
          "model_module_version": "1.5.0",
          "state": {
            "_model_module": "@jupyter-widgets/controls",
            "_model_module_version": "1.5.0",
            "_model_name": "DescriptionStyleModel",
            "_view_count": null,
            "_view_module": "@jupyter-widgets/base",
            "_view_module_version": "1.2.0",
            "_view_name": "StyleView",
            "description_width": ""
          }
        },
        "5be3f49e2d61486e88e0f90263a2b9de": {
          "model_module": "@jupyter-widgets/controls",
          "model_name": "HBoxModel",
          "model_module_version": "1.5.0",
          "state": {
            "_dom_classes": [],
            "_model_module": "@jupyter-widgets/controls",
            "_model_module_version": "1.5.0",
            "_model_name": "HBoxModel",
            "_view_count": null,
            "_view_module": "@jupyter-widgets/controls",
            "_view_module_version": "1.5.0",
            "_view_name": "HBoxView",
            "box_style": "",
            "children": [
              "IPY_MODEL_f7b141576efa408f99fb8e3516543721",
              "IPY_MODEL_72a7b6d521a14490b4d6457e7a97f72e",
              "IPY_MODEL_fb1dd24d82964af5ad968df6498a3880"
            ],
            "layout": "IPY_MODEL_9c8dc7316783467c9274ee0c56f864dd"
          }
        },
        "f7b141576efa408f99fb8e3516543721": {
          "model_module": "@jupyter-widgets/controls",
          "model_name": "HTMLModel",
          "model_module_version": "1.5.0",
          "state": {
            "_dom_classes": [],
            "_model_module": "@jupyter-widgets/controls",
            "_model_module_version": "1.5.0",
            "_model_name": "HTMLModel",
            "_view_count": null,
            "_view_module": "@jupyter-widgets/controls",
            "_view_module_version": "1.5.0",
            "_view_name": "HTMLView",
            "description": "",
            "description_tooltip": null,
            "layout": "IPY_MODEL_ab70a32fdfd641899bcb5f3711724f71",
            "placeholder": "​",
            "style": "IPY_MODEL_e51de698f3064989af7e2da961aca6c1",
            "value": "Validation DataLoader 0: 100%"
          }
        },
        "72a7b6d521a14490b4d6457e7a97f72e": {
          "model_module": "@jupyter-widgets/controls",
          "model_name": "FloatProgressModel",
          "model_module_version": "1.5.0",
          "state": {
            "_dom_classes": [],
            "_model_module": "@jupyter-widgets/controls",
            "_model_module_version": "1.5.0",
            "_model_name": "FloatProgressModel",
            "_view_count": null,
            "_view_module": "@jupyter-widgets/controls",
            "_view_module_version": "1.5.0",
            "_view_name": "ProgressView",
            "bar_style": "",
            "description": "",
            "description_tooltip": null,
            "layout": "IPY_MODEL_881edb9469294b579889693b937200b0",
            "max": 301,
            "min": 0,
            "orientation": "horizontal",
            "style": "IPY_MODEL_0e1d959bf57343a9a636dbf7e8745ad0",
            "value": 301
          }
        },
        "fb1dd24d82964af5ad968df6498a3880": {
          "model_module": "@jupyter-widgets/controls",
          "model_name": "HTMLModel",
          "model_module_version": "1.5.0",
          "state": {
            "_dom_classes": [],
            "_model_module": "@jupyter-widgets/controls",
            "_model_module_version": "1.5.0",
            "_model_name": "HTMLModel",
            "_view_count": null,
            "_view_module": "@jupyter-widgets/controls",
            "_view_module_version": "1.5.0",
            "_view_name": "HTMLView",
            "description": "",
            "description_tooltip": null,
            "layout": "IPY_MODEL_5f71bc2d28c74256899abddfa495b42b",
            "placeholder": "​",
            "style": "IPY_MODEL_7995d14992e84c2d85692ab7503d0750",
            "value": " 301/301 [00:59&lt;00:00,  5.02it/s]"
          }
        },
        "9c8dc7316783467c9274ee0c56f864dd": {
          "model_module": "@jupyter-widgets/base",
          "model_name": "LayoutModel",
          "model_module_version": "1.2.0",
          "state": {
            "_model_module": "@jupyter-widgets/base",
            "_model_module_version": "1.2.0",
            "_model_name": "LayoutModel",
            "_view_count": null,
            "_view_module": "@jupyter-widgets/base",
            "_view_module_version": "1.2.0",
            "_view_name": "LayoutView",
            "align_content": null,
            "align_items": null,
            "align_self": null,
            "border": null,
            "bottom": null,
            "display": "inline-flex",
            "flex": null,
            "flex_flow": "row wrap",
            "grid_area": null,
            "grid_auto_columns": null,
            "grid_auto_flow": null,
            "grid_auto_rows": null,
            "grid_column": null,
            "grid_gap": null,
            "grid_row": null,
            "grid_template_areas": null,
            "grid_template_columns": null,
            "grid_template_rows": null,
            "height": null,
            "justify_content": null,
            "justify_items": null,
            "left": null,
            "margin": null,
            "max_height": null,
            "max_width": null,
            "min_height": null,
            "min_width": null,
            "object_fit": null,
            "object_position": null,
            "order": null,
            "overflow": null,
            "overflow_x": null,
            "overflow_y": null,
            "padding": null,
            "right": null,
            "top": null,
            "visibility": null,
            "width": "100%"
          }
        },
        "ab70a32fdfd641899bcb5f3711724f71": {
          "model_module": "@jupyter-widgets/base",
          "model_name": "LayoutModel",
          "model_module_version": "1.2.0",
          "state": {
            "_model_module": "@jupyter-widgets/base",
            "_model_module_version": "1.2.0",
            "_model_name": "LayoutModel",
            "_view_count": null,
            "_view_module": "@jupyter-widgets/base",
            "_view_module_version": "1.2.0",
            "_view_name": "LayoutView",
            "align_content": null,
            "align_items": null,
            "align_self": null,
            "border": null,
            "bottom": null,
            "display": null,
            "flex": null,
            "flex_flow": null,
            "grid_area": null,
            "grid_auto_columns": null,
            "grid_auto_flow": null,
            "grid_auto_rows": null,
            "grid_column": null,
            "grid_gap": null,
            "grid_row": null,
            "grid_template_areas": null,
            "grid_template_columns": null,
            "grid_template_rows": null,
            "height": null,
            "justify_content": null,
            "justify_items": null,
            "left": null,
            "margin": null,
            "max_height": null,
            "max_width": null,
            "min_height": null,
            "min_width": null,
            "object_fit": null,
            "object_position": null,
            "order": null,
            "overflow": null,
            "overflow_x": null,
            "overflow_y": null,
            "padding": null,
            "right": null,
            "top": null,
            "visibility": null,
            "width": null
          }
        },
        "e51de698f3064989af7e2da961aca6c1": {
          "model_module": "@jupyter-widgets/controls",
          "model_name": "DescriptionStyleModel",
          "model_module_version": "1.5.0",
          "state": {
            "_model_module": "@jupyter-widgets/controls",
            "_model_module_version": "1.5.0",
            "_model_name": "DescriptionStyleModel",
            "_view_count": null,
            "_view_module": "@jupyter-widgets/base",
            "_view_module_version": "1.2.0",
            "_view_name": "StyleView",
            "description_width": ""
          }
        },
        "881edb9469294b579889693b937200b0": {
          "model_module": "@jupyter-widgets/base",
          "model_name": "LayoutModel",
          "model_module_version": "1.2.0",
          "state": {
            "_model_module": "@jupyter-widgets/base",
            "_model_module_version": "1.2.0",
            "_model_name": "LayoutModel",
            "_view_count": null,
            "_view_module": "@jupyter-widgets/base",
            "_view_module_version": "1.2.0",
            "_view_name": "LayoutView",
            "align_content": null,
            "align_items": null,
            "align_self": null,
            "border": null,
            "bottom": null,
            "display": null,
            "flex": "2",
            "flex_flow": null,
            "grid_area": null,
            "grid_auto_columns": null,
            "grid_auto_flow": null,
            "grid_auto_rows": null,
            "grid_column": null,
            "grid_gap": null,
            "grid_row": null,
            "grid_template_areas": null,
            "grid_template_columns": null,
            "grid_template_rows": null,
            "height": null,
            "justify_content": null,
            "justify_items": null,
            "left": null,
            "margin": null,
            "max_height": null,
            "max_width": null,
            "min_height": null,
            "min_width": null,
            "object_fit": null,
            "object_position": null,
            "order": null,
            "overflow": null,
            "overflow_x": null,
            "overflow_y": null,
            "padding": null,
            "right": null,
            "top": null,
            "visibility": null,
            "width": null
          }
        },
        "0e1d959bf57343a9a636dbf7e8745ad0": {
          "model_module": "@jupyter-widgets/controls",
          "model_name": "ProgressStyleModel",
          "model_module_version": "1.5.0",
          "state": {
            "_model_module": "@jupyter-widgets/controls",
            "_model_module_version": "1.5.0",
            "_model_name": "ProgressStyleModel",
            "_view_count": null,
            "_view_module": "@jupyter-widgets/base",
            "_view_module_version": "1.2.0",
            "_view_name": "StyleView",
            "bar_color": null,
            "description_width": ""
          }
        },
        "5f71bc2d28c74256899abddfa495b42b": {
          "model_module": "@jupyter-widgets/base",
          "model_name": "LayoutModel",
          "model_module_version": "1.2.0",
          "state": {
            "_model_module": "@jupyter-widgets/base",
            "_model_module_version": "1.2.0",
            "_model_name": "LayoutModel",
            "_view_count": null,
            "_view_module": "@jupyter-widgets/base",
            "_view_module_version": "1.2.0",
            "_view_name": "LayoutView",
            "align_content": null,
            "align_items": null,
            "align_self": null,
            "border": null,
            "bottom": null,
            "display": null,
            "flex": null,
            "flex_flow": null,
            "grid_area": null,
            "grid_auto_columns": null,
            "grid_auto_flow": null,
            "grid_auto_rows": null,
            "grid_column": null,
            "grid_gap": null,
            "grid_row": null,
            "grid_template_areas": null,
            "grid_template_columns": null,
            "grid_template_rows": null,
            "height": null,
            "justify_content": null,
            "justify_items": null,
            "left": null,
            "margin": null,
            "max_height": null,
            "max_width": null,
            "min_height": null,
            "min_width": null,
            "object_fit": null,
            "object_position": null,
            "order": null,
            "overflow": null,
            "overflow_x": null,
            "overflow_y": null,
            "padding": null,
            "right": null,
            "top": null,
            "visibility": null,
            "width": null
          }
        },
        "7995d14992e84c2d85692ab7503d0750": {
          "model_module": "@jupyter-widgets/controls",
          "model_name": "DescriptionStyleModel",
          "model_module_version": "1.5.0",
          "state": {
            "_model_module": "@jupyter-widgets/controls",
            "_model_module_version": "1.5.0",
            "_model_name": "DescriptionStyleModel",
            "_view_count": null,
            "_view_module": "@jupyter-widgets/base",
            "_view_module_version": "1.2.0",
            "_view_name": "StyleView",
            "description_width": ""
          }
        },
        "f42ab0e58d164be9bb1ef358b47fd4ff": {
          "model_module": "@jupyter-widgets/controls",
          "model_name": "HBoxModel",
          "model_module_version": "1.5.0",
          "state": {
            "_dom_classes": [],
            "_model_module": "@jupyter-widgets/controls",
            "_model_module_version": "1.5.0",
            "_model_name": "HBoxModel",
            "_view_count": null,
            "_view_module": "@jupyter-widgets/controls",
            "_view_module_version": "1.5.0",
            "_view_name": "HBoxView",
            "box_style": "",
            "children": [
              "IPY_MODEL_b9b73ea652ea46a8978d3b314712a099",
              "IPY_MODEL_d138b6695473430aa3de7f68ca00023b",
              "IPY_MODEL_369ff126f3a24e03b1142b04664f5be0"
            ],
            "layout": "IPY_MODEL_cc2b836de34246b4a93b1961f1badbdf"
          }
        },
        "b9b73ea652ea46a8978d3b314712a099": {
          "model_module": "@jupyter-widgets/controls",
          "model_name": "HTMLModel",
          "model_module_version": "1.5.0",
          "state": {
            "_dom_classes": [],
            "_model_module": "@jupyter-widgets/controls",
            "_model_module_version": "1.5.0",
            "_model_name": "HTMLModel",
            "_view_count": null,
            "_view_module": "@jupyter-widgets/controls",
            "_view_module_version": "1.5.0",
            "_view_name": "HTMLView",
            "description": "",
            "description_tooltip": null,
            "layout": "IPY_MODEL_dbb74b6fa89c466584b650d07ae96ee7",
            "placeholder": "​",
            "style": "IPY_MODEL_c31a8785cdbb4bd6b72b409b1755afe7",
            "value": "Validation DataLoader 0: 100%"
          }
        },
        "d138b6695473430aa3de7f68ca00023b": {
          "model_module": "@jupyter-widgets/controls",
          "model_name": "FloatProgressModel",
          "model_module_version": "1.5.0",
          "state": {
            "_dom_classes": [],
            "_model_module": "@jupyter-widgets/controls",
            "_model_module_version": "1.5.0",
            "_model_name": "FloatProgressModel",
            "_view_count": null,
            "_view_module": "@jupyter-widgets/controls",
            "_view_module_version": "1.5.0",
            "_view_name": "ProgressView",
            "bar_style": "",
            "description": "",
            "description_tooltip": null,
            "layout": "IPY_MODEL_0a9eff2dc71d4da7b6f069cfd87e65e3",
            "max": 301,
            "min": 0,
            "orientation": "horizontal",
            "style": "IPY_MODEL_d18f8c20ecba497998d962394e5ae048",
            "value": 301
          }
        },
        "369ff126f3a24e03b1142b04664f5be0": {
          "model_module": "@jupyter-widgets/controls",
          "model_name": "HTMLModel",
          "model_module_version": "1.5.0",
          "state": {
            "_dom_classes": [],
            "_model_module": "@jupyter-widgets/controls",
            "_model_module_version": "1.5.0",
            "_model_name": "HTMLModel",
            "_view_count": null,
            "_view_module": "@jupyter-widgets/controls",
            "_view_module_version": "1.5.0",
            "_view_name": "HTMLView",
            "description": "",
            "description_tooltip": null,
            "layout": "IPY_MODEL_53040564c8d8479991b1c70c80cb6f0d",
            "placeholder": "​",
            "style": "IPY_MODEL_6e29ea62cfb643da8fd8cdb7c78e209b",
            "value": " 301/301 [00:59&lt;00:00,  5.03it/s]"
          }
        },
        "cc2b836de34246b4a93b1961f1badbdf": {
          "model_module": "@jupyter-widgets/base",
          "model_name": "LayoutModel",
          "model_module_version": "1.2.0",
          "state": {
            "_model_module": "@jupyter-widgets/base",
            "_model_module_version": "1.2.0",
            "_model_name": "LayoutModel",
            "_view_count": null,
            "_view_module": "@jupyter-widgets/base",
            "_view_module_version": "1.2.0",
            "_view_name": "LayoutView",
            "align_content": null,
            "align_items": null,
            "align_self": null,
            "border": null,
            "bottom": null,
            "display": "inline-flex",
            "flex": null,
            "flex_flow": "row wrap",
            "grid_area": null,
            "grid_auto_columns": null,
            "grid_auto_flow": null,
            "grid_auto_rows": null,
            "grid_column": null,
            "grid_gap": null,
            "grid_row": null,
            "grid_template_areas": null,
            "grid_template_columns": null,
            "grid_template_rows": null,
            "height": null,
            "justify_content": null,
            "justify_items": null,
            "left": null,
            "margin": null,
            "max_height": null,
            "max_width": null,
            "min_height": null,
            "min_width": null,
            "object_fit": null,
            "object_position": null,
            "order": null,
            "overflow": null,
            "overflow_x": null,
            "overflow_y": null,
            "padding": null,
            "right": null,
            "top": null,
            "visibility": null,
            "width": "100%"
          }
        },
        "dbb74b6fa89c466584b650d07ae96ee7": {
          "model_module": "@jupyter-widgets/base",
          "model_name": "LayoutModel",
          "model_module_version": "1.2.0",
          "state": {
            "_model_module": "@jupyter-widgets/base",
            "_model_module_version": "1.2.0",
            "_model_name": "LayoutModel",
            "_view_count": null,
            "_view_module": "@jupyter-widgets/base",
            "_view_module_version": "1.2.0",
            "_view_name": "LayoutView",
            "align_content": null,
            "align_items": null,
            "align_self": null,
            "border": null,
            "bottom": null,
            "display": null,
            "flex": null,
            "flex_flow": null,
            "grid_area": null,
            "grid_auto_columns": null,
            "grid_auto_flow": null,
            "grid_auto_rows": null,
            "grid_column": null,
            "grid_gap": null,
            "grid_row": null,
            "grid_template_areas": null,
            "grid_template_columns": null,
            "grid_template_rows": null,
            "height": null,
            "justify_content": null,
            "justify_items": null,
            "left": null,
            "margin": null,
            "max_height": null,
            "max_width": null,
            "min_height": null,
            "min_width": null,
            "object_fit": null,
            "object_position": null,
            "order": null,
            "overflow": null,
            "overflow_x": null,
            "overflow_y": null,
            "padding": null,
            "right": null,
            "top": null,
            "visibility": null,
            "width": null
          }
        },
        "c31a8785cdbb4bd6b72b409b1755afe7": {
          "model_module": "@jupyter-widgets/controls",
          "model_name": "DescriptionStyleModel",
          "model_module_version": "1.5.0",
          "state": {
            "_model_module": "@jupyter-widgets/controls",
            "_model_module_version": "1.5.0",
            "_model_name": "DescriptionStyleModel",
            "_view_count": null,
            "_view_module": "@jupyter-widgets/base",
            "_view_module_version": "1.2.0",
            "_view_name": "StyleView",
            "description_width": ""
          }
        },
        "0a9eff2dc71d4da7b6f069cfd87e65e3": {
          "model_module": "@jupyter-widgets/base",
          "model_name": "LayoutModel",
          "model_module_version": "1.2.0",
          "state": {
            "_model_module": "@jupyter-widgets/base",
            "_model_module_version": "1.2.0",
            "_model_name": "LayoutModel",
            "_view_count": null,
            "_view_module": "@jupyter-widgets/base",
            "_view_module_version": "1.2.0",
            "_view_name": "LayoutView",
            "align_content": null,
            "align_items": null,
            "align_self": null,
            "border": null,
            "bottom": null,
            "display": null,
            "flex": "2",
            "flex_flow": null,
            "grid_area": null,
            "grid_auto_columns": null,
            "grid_auto_flow": null,
            "grid_auto_rows": null,
            "grid_column": null,
            "grid_gap": null,
            "grid_row": null,
            "grid_template_areas": null,
            "grid_template_columns": null,
            "grid_template_rows": null,
            "height": null,
            "justify_content": null,
            "justify_items": null,
            "left": null,
            "margin": null,
            "max_height": null,
            "max_width": null,
            "min_height": null,
            "min_width": null,
            "object_fit": null,
            "object_position": null,
            "order": null,
            "overflow": null,
            "overflow_x": null,
            "overflow_y": null,
            "padding": null,
            "right": null,
            "top": null,
            "visibility": null,
            "width": null
          }
        },
        "d18f8c20ecba497998d962394e5ae048": {
          "model_module": "@jupyter-widgets/controls",
          "model_name": "ProgressStyleModel",
          "model_module_version": "1.5.0",
          "state": {
            "_model_module": "@jupyter-widgets/controls",
            "_model_module_version": "1.5.0",
            "_model_name": "ProgressStyleModel",
            "_view_count": null,
            "_view_module": "@jupyter-widgets/base",
            "_view_module_version": "1.2.0",
            "_view_name": "StyleView",
            "bar_color": null,
            "description_width": ""
          }
        },
        "53040564c8d8479991b1c70c80cb6f0d": {
          "model_module": "@jupyter-widgets/base",
          "model_name": "LayoutModel",
          "model_module_version": "1.2.0",
          "state": {
            "_model_module": "@jupyter-widgets/base",
            "_model_module_version": "1.2.0",
            "_model_name": "LayoutModel",
            "_view_count": null,
            "_view_module": "@jupyter-widgets/base",
            "_view_module_version": "1.2.0",
            "_view_name": "LayoutView",
            "align_content": null,
            "align_items": null,
            "align_self": null,
            "border": null,
            "bottom": null,
            "display": null,
            "flex": null,
            "flex_flow": null,
            "grid_area": null,
            "grid_auto_columns": null,
            "grid_auto_flow": null,
            "grid_auto_rows": null,
            "grid_column": null,
            "grid_gap": null,
            "grid_row": null,
            "grid_template_areas": null,
            "grid_template_columns": null,
            "grid_template_rows": null,
            "height": null,
            "justify_content": null,
            "justify_items": null,
            "left": null,
            "margin": null,
            "max_height": null,
            "max_width": null,
            "min_height": null,
            "min_width": null,
            "object_fit": null,
            "object_position": null,
            "order": null,
            "overflow": null,
            "overflow_x": null,
            "overflow_y": null,
            "padding": null,
            "right": null,
            "top": null,
            "visibility": null,
            "width": null
          }
        },
        "6e29ea62cfb643da8fd8cdb7c78e209b": {
          "model_module": "@jupyter-widgets/controls",
          "model_name": "DescriptionStyleModel",
          "model_module_version": "1.5.0",
          "state": {
            "_model_module": "@jupyter-widgets/controls",
            "_model_module_version": "1.5.0",
            "_model_name": "DescriptionStyleModel",
            "_view_count": null,
            "_view_module": "@jupyter-widgets/base",
            "_view_module_version": "1.2.0",
            "_view_name": "StyleView",
            "description_width": ""
          }
        },
        "2b6dfd3b22b144169be70f901c1ef6c7": {
          "model_module": "@jupyter-widgets/controls",
          "model_name": "HBoxModel",
          "model_module_version": "1.5.0",
          "state": {
            "_dom_classes": [],
            "_model_module": "@jupyter-widgets/controls",
            "_model_module_version": "1.5.0",
            "_model_name": "HBoxModel",
            "_view_count": null,
            "_view_module": "@jupyter-widgets/controls",
            "_view_module_version": "1.5.0",
            "_view_name": "HBoxView",
            "box_style": "",
            "children": [
              "IPY_MODEL_77716dfc4f034acbb4a12f7bed82b143",
              "IPY_MODEL_4114c83df174400c845e38e25a622965",
              "IPY_MODEL_c09c894a2abd437a9b720aaaee997445"
            ],
            "layout": "IPY_MODEL_481e9bb53c9f454c941e43e1cdeee149"
          }
        },
        "77716dfc4f034acbb4a12f7bed82b143": {
          "model_module": "@jupyter-widgets/controls",
          "model_name": "HTMLModel",
          "model_module_version": "1.5.0",
          "state": {
            "_dom_classes": [],
            "_model_module": "@jupyter-widgets/controls",
            "_model_module_version": "1.5.0",
            "_model_name": "HTMLModel",
            "_view_count": null,
            "_view_module": "@jupyter-widgets/controls",
            "_view_module_version": "1.5.0",
            "_view_name": "HTMLView",
            "description": "",
            "description_tooltip": null,
            "layout": "IPY_MODEL_57eaa0ccf8e1498a98f299c308d427eb",
            "placeholder": "​",
            "style": "IPY_MODEL_9798213927264c5dadbf5f31892c131a",
            "value": "Validation DataLoader 0: 100%"
          }
        },
        "4114c83df174400c845e38e25a622965": {
          "model_module": "@jupyter-widgets/controls",
          "model_name": "FloatProgressModel",
          "model_module_version": "1.5.0",
          "state": {
            "_dom_classes": [],
            "_model_module": "@jupyter-widgets/controls",
            "_model_module_version": "1.5.0",
            "_model_name": "FloatProgressModel",
            "_view_count": null,
            "_view_module": "@jupyter-widgets/controls",
            "_view_module_version": "1.5.0",
            "_view_name": "ProgressView",
            "bar_style": "",
            "description": "",
            "description_tooltip": null,
            "layout": "IPY_MODEL_27fbf8c1e6524caebab2dc345b96493d",
            "max": 301,
            "min": 0,
            "orientation": "horizontal",
            "style": "IPY_MODEL_19cac00ca54547abb85376f121725b81",
            "value": 301
          }
        },
        "c09c894a2abd437a9b720aaaee997445": {
          "model_module": "@jupyter-widgets/controls",
          "model_name": "HTMLModel",
          "model_module_version": "1.5.0",
          "state": {
            "_dom_classes": [],
            "_model_module": "@jupyter-widgets/controls",
            "_model_module_version": "1.5.0",
            "_model_name": "HTMLModel",
            "_view_count": null,
            "_view_module": "@jupyter-widgets/controls",
            "_view_module_version": "1.5.0",
            "_view_name": "HTMLView",
            "description": "",
            "description_tooltip": null,
            "layout": "IPY_MODEL_dfd269ba79ba4e91b383234897b92eae",
            "placeholder": "​",
            "style": "IPY_MODEL_c0e1c80bc04d4ecb9dd0011a3720d00a",
            "value": " 301/301 [00:59&lt;00:00,  5.02it/s]"
          }
        },
        "481e9bb53c9f454c941e43e1cdeee149": {
          "model_module": "@jupyter-widgets/base",
          "model_name": "LayoutModel",
          "model_module_version": "1.2.0",
          "state": {
            "_model_module": "@jupyter-widgets/base",
            "_model_module_version": "1.2.0",
            "_model_name": "LayoutModel",
            "_view_count": null,
            "_view_module": "@jupyter-widgets/base",
            "_view_module_version": "1.2.0",
            "_view_name": "LayoutView",
            "align_content": null,
            "align_items": null,
            "align_self": null,
            "border": null,
            "bottom": null,
            "display": "inline-flex",
            "flex": null,
            "flex_flow": "row wrap",
            "grid_area": null,
            "grid_auto_columns": null,
            "grid_auto_flow": null,
            "grid_auto_rows": null,
            "grid_column": null,
            "grid_gap": null,
            "grid_row": null,
            "grid_template_areas": null,
            "grid_template_columns": null,
            "grid_template_rows": null,
            "height": null,
            "justify_content": null,
            "justify_items": null,
            "left": null,
            "margin": null,
            "max_height": null,
            "max_width": null,
            "min_height": null,
            "min_width": null,
            "object_fit": null,
            "object_position": null,
            "order": null,
            "overflow": null,
            "overflow_x": null,
            "overflow_y": null,
            "padding": null,
            "right": null,
            "top": null,
            "visibility": null,
            "width": "100%"
          }
        },
        "57eaa0ccf8e1498a98f299c308d427eb": {
          "model_module": "@jupyter-widgets/base",
          "model_name": "LayoutModel",
          "model_module_version": "1.2.0",
          "state": {
            "_model_module": "@jupyter-widgets/base",
            "_model_module_version": "1.2.0",
            "_model_name": "LayoutModel",
            "_view_count": null,
            "_view_module": "@jupyter-widgets/base",
            "_view_module_version": "1.2.0",
            "_view_name": "LayoutView",
            "align_content": null,
            "align_items": null,
            "align_self": null,
            "border": null,
            "bottom": null,
            "display": null,
            "flex": null,
            "flex_flow": null,
            "grid_area": null,
            "grid_auto_columns": null,
            "grid_auto_flow": null,
            "grid_auto_rows": null,
            "grid_column": null,
            "grid_gap": null,
            "grid_row": null,
            "grid_template_areas": null,
            "grid_template_columns": null,
            "grid_template_rows": null,
            "height": null,
            "justify_content": null,
            "justify_items": null,
            "left": null,
            "margin": null,
            "max_height": null,
            "max_width": null,
            "min_height": null,
            "min_width": null,
            "object_fit": null,
            "object_position": null,
            "order": null,
            "overflow": null,
            "overflow_x": null,
            "overflow_y": null,
            "padding": null,
            "right": null,
            "top": null,
            "visibility": null,
            "width": null
          }
        },
        "9798213927264c5dadbf5f31892c131a": {
          "model_module": "@jupyter-widgets/controls",
          "model_name": "DescriptionStyleModel",
          "model_module_version": "1.5.0",
          "state": {
            "_model_module": "@jupyter-widgets/controls",
            "_model_module_version": "1.5.0",
            "_model_name": "DescriptionStyleModel",
            "_view_count": null,
            "_view_module": "@jupyter-widgets/base",
            "_view_module_version": "1.2.0",
            "_view_name": "StyleView",
            "description_width": ""
          }
        },
        "27fbf8c1e6524caebab2dc345b96493d": {
          "model_module": "@jupyter-widgets/base",
          "model_name": "LayoutModel",
          "model_module_version": "1.2.0",
          "state": {
            "_model_module": "@jupyter-widgets/base",
            "_model_module_version": "1.2.0",
            "_model_name": "LayoutModel",
            "_view_count": null,
            "_view_module": "@jupyter-widgets/base",
            "_view_module_version": "1.2.0",
            "_view_name": "LayoutView",
            "align_content": null,
            "align_items": null,
            "align_self": null,
            "border": null,
            "bottom": null,
            "display": null,
            "flex": "2",
            "flex_flow": null,
            "grid_area": null,
            "grid_auto_columns": null,
            "grid_auto_flow": null,
            "grid_auto_rows": null,
            "grid_column": null,
            "grid_gap": null,
            "grid_row": null,
            "grid_template_areas": null,
            "grid_template_columns": null,
            "grid_template_rows": null,
            "height": null,
            "justify_content": null,
            "justify_items": null,
            "left": null,
            "margin": null,
            "max_height": null,
            "max_width": null,
            "min_height": null,
            "min_width": null,
            "object_fit": null,
            "object_position": null,
            "order": null,
            "overflow": null,
            "overflow_x": null,
            "overflow_y": null,
            "padding": null,
            "right": null,
            "top": null,
            "visibility": null,
            "width": null
          }
        },
        "19cac00ca54547abb85376f121725b81": {
          "model_module": "@jupyter-widgets/controls",
          "model_name": "ProgressStyleModel",
          "model_module_version": "1.5.0",
          "state": {
            "_model_module": "@jupyter-widgets/controls",
            "_model_module_version": "1.5.0",
            "_model_name": "ProgressStyleModel",
            "_view_count": null,
            "_view_module": "@jupyter-widgets/base",
            "_view_module_version": "1.2.0",
            "_view_name": "StyleView",
            "bar_color": null,
            "description_width": ""
          }
        },
        "dfd269ba79ba4e91b383234897b92eae": {
          "model_module": "@jupyter-widgets/base",
          "model_name": "LayoutModel",
          "model_module_version": "1.2.0",
          "state": {
            "_model_module": "@jupyter-widgets/base",
            "_model_module_version": "1.2.0",
            "_model_name": "LayoutModel",
            "_view_count": null,
            "_view_module": "@jupyter-widgets/base",
            "_view_module_version": "1.2.0",
            "_view_name": "LayoutView",
            "align_content": null,
            "align_items": null,
            "align_self": null,
            "border": null,
            "bottom": null,
            "display": null,
            "flex": null,
            "flex_flow": null,
            "grid_area": null,
            "grid_auto_columns": null,
            "grid_auto_flow": null,
            "grid_auto_rows": null,
            "grid_column": null,
            "grid_gap": null,
            "grid_row": null,
            "grid_template_areas": null,
            "grid_template_columns": null,
            "grid_template_rows": null,
            "height": null,
            "justify_content": null,
            "justify_items": null,
            "left": null,
            "margin": null,
            "max_height": null,
            "max_width": null,
            "min_height": null,
            "min_width": null,
            "object_fit": null,
            "object_position": null,
            "order": null,
            "overflow": null,
            "overflow_x": null,
            "overflow_y": null,
            "padding": null,
            "right": null,
            "top": null,
            "visibility": null,
            "width": null
          }
        },
        "c0e1c80bc04d4ecb9dd0011a3720d00a": {
          "model_module": "@jupyter-widgets/controls",
          "model_name": "DescriptionStyleModel",
          "model_module_version": "1.5.0",
          "state": {
            "_model_module": "@jupyter-widgets/controls",
            "_model_module_version": "1.5.0",
            "_model_name": "DescriptionStyleModel",
            "_view_count": null,
            "_view_module": "@jupyter-widgets/base",
            "_view_module_version": "1.2.0",
            "_view_name": "StyleView",
            "description_width": ""
          }
        },
        "36b0aefcf76347eb9a5ab73368e20802": {
          "model_module": "@jupyter-widgets/controls",
          "model_name": "HBoxModel",
          "model_module_version": "1.5.0",
          "state": {
            "_dom_classes": [],
            "_model_module": "@jupyter-widgets/controls",
            "_model_module_version": "1.5.0",
            "_model_name": "HBoxModel",
            "_view_count": null,
            "_view_module": "@jupyter-widgets/controls",
            "_view_module_version": "1.5.0",
            "_view_name": "HBoxView",
            "box_style": "",
            "children": [
              "IPY_MODEL_b00fe55782d54ecca66a4ea19850edd3",
              "IPY_MODEL_32e146ab42224b58af2f30fcb1aa94eb",
              "IPY_MODEL_7eace3f55a6d4516ac7c4785d44a377e"
            ],
            "layout": "IPY_MODEL_a441c701252f4c4188623039153d8bb5"
          }
        },
        "b00fe55782d54ecca66a4ea19850edd3": {
          "model_module": "@jupyter-widgets/controls",
          "model_name": "HTMLModel",
          "model_module_version": "1.5.0",
          "state": {
            "_dom_classes": [],
            "_model_module": "@jupyter-widgets/controls",
            "_model_module_version": "1.5.0",
            "_model_name": "HTMLModel",
            "_view_count": null,
            "_view_module": "@jupyter-widgets/controls",
            "_view_module_version": "1.5.0",
            "_view_name": "HTMLView",
            "description": "",
            "description_tooltip": null,
            "layout": "IPY_MODEL_d3d76a25f15d4c8c9da6dbfa8e675b33",
            "placeholder": "​",
            "style": "IPY_MODEL_ad58e42af739462b99d2d9062c5522bc",
            "value": "Validation DataLoader 0: 100%"
          }
        },
        "32e146ab42224b58af2f30fcb1aa94eb": {
          "model_module": "@jupyter-widgets/controls",
          "model_name": "FloatProgressModel",
          "model_module_version": "1.5.0",
          "state": {
            "_dom_classes": [],
            "_model_module": "@jupyter-widgets/controls",
            "_model_module_version": "1.5.0",
            "_model_name": "FloatProgressModel",
            "_view_count": null,
            "_view_module": "@jupyter-widgets/controls",
            "_view_module_version": "1.5.0",
            "_view_name": "ProgressView",
            "bar_style": "",
            "description": "",
            "description_tooltip": null,
            "layout": "IPY_MODEL_31206f2b5a9445c0850bc31f30bdcc5b",
            "max": 301,
            "min": 0,
            "orientation": "horizontal",
            "style": "IPY_MODEL_d5276d30c22b4bfe8ac134c8015b7857",
            "value": 301
          }
        },
        "7eace3f55a6d4516ac7c4785d44a377e": {
          "model_module": "@jupyter-widgets/controls",
          "model_name": "HTMLModel",
          "model_module_version": "1.5.0",
          "state": {
            "_dom_classes": [],
            "_model_module": "@jupyter-widgets/controls",
            "_model_module_version": "1.5.0",
            "_model_name": "HTMLModel",
            "_view_count": null,
            "_view_module": "@jupyter-widgets/controls",
            "_view_module_version": "1.5.0",
            "_view_name": "HTMLView",
            "description": "",
            "description_tooltip": null,
            "layout": "IPY_MODEL_cf8dac0f138046c698b0d635807bcca1",
            "placeholder": "​",
            "style": "IPY_MODEL_6fa2450c616d4d1fbd1bfca642c6f1b4",
            "value": " 301/301 [00:59&lt;00:00,  5.09it/s]"
          }
        },
        "a441c701252f4c4188623039153d8bb5": {
          "model_module": "@jupyter-widgets/base",
          "model_name": "LayoutModel",
          "model_module_version": "1.2.0",
          "state": {
            "_model_module": "@jupyter-widgets/base",
            "_model_module_version": "1.2.0",
            "_model_name": "LayoutModel",
            "_view_count": null,
            "_view_module": "@jupyter-widgets/base",
            "_view_module_version": "1.2.0",
            "_view_name": "LayoutView",
            "align_content": null,
            "align_items": null,
            "align_self": null,
            "border": null,
            "bottom": null,
            "display": "inline-flex",
            "flex": null,
            "flex_flow": "row wrap",
            "grid_area": null,
            "grid_auto_columns": null,
            "grid_auto_flow": null,
            "grid_auto_rows": null,
            "grid_column": null,
            "grid_gap": null,
            "grid_row": null,
            "grid_template_areas": null,
            "grid_template_columns": null,
            "grid_template_rows": null,
            "height": null,
            "justify_content": null,
            "justify_items": null,
            "left": null,
            "margin": null,
            "max_height": null,
            "max_width": null,
            "min_height": null,
            "min_width": null,
            "object_fit": null,
            "object_position": null,
            "order": null,
            "overflow": null,
            "overflow_x": null,
            "overflow_y": null,
            "padding": null,
            "right": null,
            "top": null,
            "visibility": null,
            "width": "100%"
          }
        },
        "d3d76a25f15d4c8c9da6dbfa8e675b33": {
          "model_module": "@jupyter-widgets/base",
          "model_name": "LayoutModel",
          "model_module_version": "1.2.0",
          "state": {
            "_model_module": "@jupyter-widgets/base",
            "_model_module_version": "1.2.0",
            "_model_name": "LayoutModel",
            "_view_count": null,
            "_view_module": "@jupyter-widgets/base",
            "_view_module_version": "1.2.0",
            "_view_name": "LayoutView",
            "align_content": null,
            "align_items": null,
            "align_self": null,
            "border": null,
            "bottom": null,
            "display": null,
            "flex": null,
            "flex_flow": null,
            "grid_area": null,
            "grid_auto_columns": null,
            "grid_auto_flow": null,
            "grid_auto_rows": null,
            "grid_column": null,
            "grid_gap": null,
            "grid_row": null,
            "grid_template_areas": null,
            "grid_template_columns": null,
            "grid_template_rows": null,
            "height": null,
            "justify_content": null,
            "justify_items": null,
            "left": null,
            "margin": null,
            "max_height": null,
            "max_width": null,
            "min_height": null,
            "min_width": null,
            "object_fit": null,
            "object_position": null,
            "order": null,
            "overflow": null,
            "overflow_x": null,
            "overflow_y": null,
            "padding": null,
            "right": null,
            "top": null,
            "visibility": null,
            "width": null
          }
        },
        "ad58e42af739462b99d2d9062c5522bc": {
          "model_module": "@jupyter-widgets/controls",
          "model_name": "DescriptionStyleModel",
          "model_module_version": "1.5.0",
          "state": {
            "_model_module": "@jupyter-widgets/controls",
            "_model_module_version": "1.5.0",
            "_model_name": "DescriptionStyleModel",
            "_view_count": null,
            "_view_module": "@jupyter-widgets/base",
            "_view_module_version": "1.2.0",
            "_view_name": "StyleView",
            "description_width": ""
          }
        },
        "31206f2b5a9445c0850bc31f30bdcc5b": {
          "model_module": "@jupyter-widgets/base",
          "model_name": "LayoutModel",
          "model_module_version": "1.2.0",
          "state": {
            "_model_module": "@jupyter-widgets/base",
            "_model_module_version": "1.2.0",
            "_model_name": "LayoutModel",
            "_view_count": null,
            "_view_module": "@jupyter-widgets/base",
            "_view_module_version": "1.2.0",
            "_view_name": "LayoutView",
            "align_content": null,
            "align_items": null,
            "align_self": null,
            "border": null,
            "bottom": null,
            "display": null,
            "flex": "2",
            "flex_flow": null,
            "grid_area": null,
            "grid_auto_columns": null,
            "grid_auto_flow": null,
            "grid_auto_rows": null,
            "grid_column": null,
            "grid_gap": null,
            "grid_row": null,
            "grid_template_areas": null,
            "grid_template_columns": null,
            "grid_template_rows": null,
            "height": null,
            "justify_content": null,
            "justify_items": null,
            "left": null,
            "margin": null,
            "max_height": null,
            "max_width": null,
            "min_height": null,
            "min_width": null,
            "object_fit": null,
            "object_position": null,
            "order": null,
            "overflow": null,
            "overflow_x": null,
            "overflow_y": null,
            "padding": null,
            "right": null,
            "top": null,
            "visibility": null,
            "width": null
          }
        },
        "d5276d30c22b4bfe8ac134c8015b7857": {
          "model_module": "@jupyter-widgets/controls",
          "model_name": "ProgressStyleModel",
          "model_module_version": "1.5.0",
          "state": {
            "_model_module": "@jupyter-widgets/controls",
            "_model_module_version": "1.5.0",
            "_model_name": "ProgressStyleModel",
            "_view_count": null,
            "_view_module": "@jupyter-widgets/base",
            "_view_module_version": "1.2.0",
            "_view_name": "StyleView",
            "bar_color": null,
            "description_width": ""
          }
        },
        "cf8dac0f138046c698b0d635807bcca1": {
          "model_module": "@jupyter-widgets/base",
          "model_name": "LayoutModel",
          "model_module_version": "1.2.0",
          "state": {
            "_model_module": "@jupyter-widgets/base",
            "_model_module_version": "1.2.0",
            "_model_name": "LayoutModel",
            "_view_count": null,
            "_view_module": "@jupyter-widgets/base",
            "_view_module_version": "1.2.0",
            "_view_name": "LayoutView",
            "align_content": null,
            "align_items": null,
            "align_self": null,
            "border": null,
            "bottom": null,
            "display": null,
            "flex": null,
            "flex_flow": null,
            "grid_area": null,
            "grid_auto_columns": null,
            "grid_auto_flow": null,
            "grid_auto_rows": null,
            "grid_column": null,
            "grid_gap": null,
            "grid_row": null,
            "grid_template_areas": null,
            "grid_template_columns": null,
            "grid_template_rows": null,
            "height": null,
            "justify_content": null,
            "justify_items": null,
            "left": null,
            "margin": null,
            "max_height": null,
            "max_width": null,
            "min_height": null,
            "min_width": null,
            "object_fit": null,
            "object_position": null,
            "order": null,
            "overflow": null,
            "overflow_x": null,
            "overflow_y": null,
            "padding": null,
            "right": null,
            "top": null,
            "visibility": null,
            "width": null
          }
        },
        "6fa2450c616d4d1fbd1bfca642c6f1b4": {
          "model_module": "@jupyter-widgets/controls",
          "model_name": "DescriptionStyleModel",
          "model_module_version": "1.5.0",
          "state": {
            "_model_module": "@jupyter-widgets/controls",
            "_model_module_version": "1.5.0",
            "_model_name": "DescriptionStyleModel",
            "_view_count": null,
            "_view_module": "@jupyter-widgets/base",
            "_view_module_version": "1.2.0",
            "_view_name": "StyleView",
            "description_width": ""
          }
        },
        "66cc0c2c72384293a524e64fcb03f592": {
          "model_module": "@jupyter-widgets/controls",
          "model_name": "HBoxModel",
          "model_module_version": "1.5.0",
          "state": {
            "_dom_classes": [],
            "_model_module": "@jupyter-widgets/controls",
            "_model_module_version": "1.5.0",
            "_model_name": "HBoxModel",
            "_view_count": null,
            "_view_module": "@jupyter-widgets/controls",
            "_view_module_version": "1.5.0",
            "_view_name": "HBoxView",
            "box_style": "",
            "children": [
              "IPY_MODEL_9da94c401d4f426280bc6123f45ba753",
              "IPY_MODEL_d44418c50a764a2abc0f8749064d52cd",
              "IPY_MODEL_5b96abdb91394cf1bf463ae7323dd337"
            ],
            "layout": "IPY_MODEL_90446fcb0285426db98b430e687e5d4c"
          }
        },
        "9da94c401d4f426280bc6123f45ba753": {
          "model_module": "@jupyter-widgets/controls",
          "model_name": "HTMLModel",
          "model_module_version": "1.5.0",
          "state": {
            "_dom_classes": [],
            "_model_module": "@jupyter-widgets/controls",
            "_model_module_version": "1.5.0",
            "_model_name": "HTMLModel",
            "_view_count": null,
            "_view_module": "@jupyter-widgets/controls",
            "_view_module_version": "1.5.0",
            "_view_name": "HTMLView",
            "description": "",
            "description_tooltip": null,
            "layout": "IPY_MODEL_420ff1eb040d4609814ff489a180e924",
            "placeholder": "​",
            "style": "IPY_MODEL_32addacabf4e4a9d9365aff489f3f131",
            "value": "Validation DataLoader 0: 100%"
          }
        },
        "d44418c50a764a2abc0f8749064d52cd": {
          "model_module": "@jupyter-widgets/controls",
          "model_name": "FloatProgressModel",
          "model_module_version": "1.5.0",
          "state": {
            "_dom_classes": [],
            "_model_module": "@jupyter-widgets/controls",
            "_model_module_version": "1.5.0",
            "_model_name": "FloatProgressModel",
            "_view_count": null,
            "_view_module": "@jupyter-widgets/controls",
            "_view_module_version": "1.5.0",
            "_view_name": "ProgressView",
            "bar_style": "",
            "description": "",
            "description_tooltip": null,
            "layout": "IPY_MODEL_fb3cd9e7e77b47619c84077bd8973b90",
            "max": 301,
            "min": 0,
            "orientation": "horizontal",
            "style": "IPY_MODEL_99074bf16adc461b8cffe62382471bf4",
            "value": 301
          }
        },
        "5b96abdb91394cf1bf463ae7323dd337": {
          "model_module": "@jupyter-widgets/controls",
          "model_name": "HTMLModel",
          "model_module_version": "1.5.0",
          "state": {
            "_dom_classes": [],
            "_model_module": "@jupyter-widgets/controls",
            "_model_module_version": "1.5.0",
            "_model_name": "HTMLModel",
            "_view_count": null,
            "_view_module": "@jupyter-widgets/controls",
            "_view_module_version": "1.5.0",
            "_view_name": "HTMLView",
            "description": "",
            "description_tooltip": null,
            "layout": "IPY_MODEL_ca093e39591f42238461bfebcb3c33fb",
            "placeholder": "​",
            "style": "IPY_MODEL_e9f20acc168c4ffeaee00d5eabf8bfd5",
            "value": " 301/301 [00:59&lt;00:00,  5.06it/s]"
          }
        },
        "90446fcb0285426db98b430e687e5d4c": {
          "model_module": "@jupyter-widgets/base",
          "model_name": "LayoutModel",
          "model_module_version": "1.2.0",
          "state": {
            "_model_module": "@jupyter-widgets/base",
            "_model_module_version": "1.2.0",
            "_model_name": "LayoutModel",
            "_view_count": null,
            "_view_module": "@jupyter-widgets/base",
            "_view_module_version": "1.2.0",
            "_view_name": "LayoutView",
            "align_content": null,
            "align_items": null,
            "align_self": null,
            "border": null,
            "bottom": null,
            "display": "inline-flex",
            "flex": null,
            "flex_flow": "row wrap",
            "grid_area": null,
            "grid_auto_columns": null,
            "grid_auto_flow": null,
            "grid_auto_rows": null,
            "grid_column": null,
            "grid_gap": null,
            "grid_row": null,
            "grid_template_areas": null,
            "grid_template_columns": null,
            "grid_template_rows": null,
            "height": null,
            "justify_content": null,
            "justify_items": null,
            "left": null,
            "margin": null,
            "max_height": null,
            "max_width": null,
            "min_height": null,
            "min_width": null,
            "object_fit": null,
            "object_position": null,
            "order": null,
            "overflow": null,
            "overflow_x": null,
            "overflow_y": null,
            "padding": null,
            "right": null,
            "top": null,
            "visibility": null,
            "width": "100%"
          }
        },
        "420ff1eb040d4609814ff489a180e924": {
          "model_module": "@jupyter-widgets/base",
          "model_name": "LayoutModel",
          "model_module_version": "1.2.0",
          "state": {
            "_model_module": "@jupyter-widgets/base",
            "_model_module_version": "1.2.0",
            "_model_name": "LayoutModel",
            "_view_count": null,
            "_view_module": "@jupyter-widgets/base",
            "_view_module_version": "1.2.0",
            "_view_name": "LayoutView",
            "align_content": null,
            "align_items": null,
            "align_self": null,
            "border": null,
            "bottom": null,
            "display": null,
            "flex": null,
            "flex_flow": null,
            "grid_area": null,
            "grid_auto_columns": null,
            "grid_auto_flow": null,
            "grid_auto_rows": null,
            "grid_column": null,
            "grid_gap": null,
            "grid_row": null,
            "grid_template_areas": null,
            "grid_template_columns": null,
            "grid_template_rows": null,
            "height": null,
            "justify_content": null,
            "justify_items": null,
            "left": null,
            "margin": null,
            "max_height": null,
            "max_width": null,
            "min_height": null,
            "min_width": null,
            "object_fit": null,
            "object_position": null,
            "order": null,
            "overflow": null,
            "overflow_x": null,
            "overflow_y": null,
            "padding": null,
            "right": null,
            "top": null,
            "visibility": null,
            "width": null
          }
        },
        "32addacabf4e4a9d9365aff489f3f131": {
          "model_module": "@jupyter-widgets/controls",
          "model_name": "DescriptionStyleModel",
          "model_module_version": "1.5.0",
          "state": {
            "_model_module": "@jupyter-widgets/controls",
            "_model_module_version": "1.5.0",
            "_model_name": "DescriptionStyleModel",
            "_view_count": null,
            "_view_module": "@jupyter-widgets/base",
            "_view_module_version": "1.2.0",
            "_view_name": "StyleView",
            "description_width": ""
          }
        },
        "fb3cd9e7e77b47619c84077bd8973b90": {
          "model_module": "@jupyter-widgets/base",
          "model_name": "LayoutModel",
          "model_module_version": "1.2.0",
          "state": {
            "_model_module": "@jupyter-widgets/base",
            "_model_module_version": "1.2.0",
            "_model_name": "LayoutModel",
            "_view_count": null,
            "_view_module": "@jupyter-widgets/base",
            "_view_module_version": "1.2.0",
            "_view_name": "LayoutView",
            "align_content": null,
            "align_items": null,
            "align_self": null,
            "border": null,
            "bottom": null,
            "display": null,
            "flex": "2",
            "flex_flow": null,
            "grid_area": null,
            "grid_auto_columns": null,
            "grid_auto_flow": null,
            "grid_auto_rows": null,
            "grid_column": null,
            "grid_gap": null,
            "grid_row": null,
            "grid_template_areas": null,
            "grid_template_columns": null,
            "grid_template_rows": null,
            "height": null,
            "justify_content": null,
            "justify_items": null,
            "left": null,
            "margin": null,
            "max_height": null,
            "max_width": null,
            "min_height": null,
            "min_width": null,
            "object_fit": null,
            "object_position": null,
            "order": null,
            "overflow": null,
            "overflow_x": null,
            "overflow_y": null,
            "padding": null,
            "right": null,
            "top": null,
            "visibility": null,
            "width": null
          }
        },
        "99074bf16adc461b8cffe62382471bf4": {
          "model_module": "@jupyter-widgets/controls",
          "model_name": "ProgressStyleModel",
          "model_module_version": "1.5.0",
          "state": {
            "_model_module": "@jupyter-widgets/controls",
            "_model_module_version": "1.5.0",
            "_model_name": "ProgressStyleModel",
            "_view_count": null,
            "_view_module": "@jupyter-widgets/base",
            "_view_module_version": "1.2.0",
            "_view_name": "StyleView",
            "bar_color": null,
            "description_width": ""
          }
        },
        "ca093e39591f42238461bfebcb3c33fb": {
          "model_module": "@jupyter-widgets/base",
          "model_name": "LayoutModel",
          "model_module_version": "1.2.0",
          "state": {
            "_model_module": "@jupyter-widgets/base",
            "_model_module_version": "1.2.0",
            "_model_name": "LayoutModel",
            "_view_count": null,
            "_view_module": "@jupyter-widgets/base",
            "_view_module_version": "1.2.0",
            "_view_name": "LayoutView",
            "align_content": null,
            "align_items": null,
            "align_self": null,
            "border": null,
            "bottom": null,
            "display": null,
            "flex": null,
            "flex_flow": null,
            "grid_area": null,
            "grid_auto_columns": null,
            "grid_auto_flow": null,
            "grid_auto_rows": null,
            "grid_column": null,
            "grid_gap": null,
            "grid_row": null,
            "grid_template_areas": null,
            "grid_template_columns": null,
            "grid_template_rows": null,
            "height": null,
            "justify_content": null,
            "justify_items": null,
            "left": null,
            "margin": null,
            "max_height": null,
            "max_width": null,
            "min_height": null,
            "min_width": null,
            "object_fit": null,
            "object_position": null,
            "order": null,
            "overflow": null,
            "overflow_x": null,
            "overflow_y": null,
            "padding": null,
            "right": null,
            "top": null,
            "visibility": null,
            "width": null
          }
        },
        "e9f20acc168c4ffeaee00d5eabf8bfd5": {
          "model_module": "@jupyter-widgets/controls",
          "model_name": "DescriptionStyleModel",
          "model_module_version": "1.5.0",
          "state": {
            "_model_module": "@jupyter-widgets/controls",
            "_model_module_version": "1.5.0",
            "_model_name": "DescriptionStyleModel",
            "_view_count": null,
            "_view_module": "@jupyter-widgets/base",
            "_view_module_version": "1.2.0",
            "_view_name": "StyleView",
            "description_width": ""
          }
        }
      }
    }
  },
  "nbformat": 4,
  "nbformat_minor": 0
}